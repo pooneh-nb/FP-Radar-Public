{
 "cells": [
  {
   "cell_type": "code",
   "execution_count": 2,
   "id": "adapted-fusion",
   "metadata": {},
   "outputs": [],
   "source": [
    "import plotly.express as px \n",
    "import matplotlib.pyplot as plt\n",
    "import json\n",
    "import utilities\n",
    "import pandas as pd\n",
    "import os\n",
    "import csv"
   ]
  },
  {
   "cell_type": "code",
   "execution_count": 5,
   "id": "specified-heavy",
   "metadata": {},
   "outputs": [
    {
     "name": "stdout",
     "output_type": "stream",
     "text": [
      "1174\n"
     ]
    }
   ],
   "source": [
    "# Number of snapshots for each URL -- BOTH urls\n",
    "url_snaps_fp = utilities.read_json(\"/home/c6/Desktop/OpenWPM/jsons/CDX_api/dataframe/existing_fp_full_snapshots.json\")\n",
    "url_snaps_non_fp = utilities.read_json(\"/home/c6/Desktop/OpenWPM/jsons/CDX_api/dataframe/existing_non_fp_full_snapshots.json\")\n",
    "\n",
    "num_snaps_df = pd.DataFrame(columns=['url_id', 'num_snapshots'])\n",
    "num_snapshots_report = {}\n",
    "\n",
    "for url_id, value in url_snaps_fp.items():\n",
    "    num_snapshots_report[str(url_id)+\"_fp\"] = len(value['snapshots'])\n",
    "print(len(num_snapshots_report))    \n",
    "for url_id, value in url_snaps_non_fp.items():\n",
    "    num_snapshots_report[str(url_id)+\"_non-fp\"] = len(value['snapshots'])\n",
    "\n",
    "snapshots_report_df = pd.DataFrame.from_dict(set(num_snapshots_report.items()))\n",
    "snapshots_report_df.columns = ['url_id', 'num_snapshots']"
   ]
  },
  {
   "cell_type": "code",
   "execution_count": 6,
   "id": "varied-sword",
   "metadata": {},
   "outputs": [
    {
     "data": {
      "image/png": "[encoded data removed]",
      "text/plain": [
       "<Figure size 576x288 with 1 Axes>"
      ]
     },
     "metadata": {
      "needs_background": "light"
     },
     "output_type": "display_data"
    }
   ],
   "source": [
    "import numpy as np\n",
    "import matplotlib.pyplot as plt\n",
    "\n",
    "np.random.seed(19680801)\n",
    "\n",
    "x = snapshots_report_df['num_snapshots']\n",
    "\n",
    "fig, ax = plt.subplots(figsize=(8, 4))\n",
    "\n",
    "# plot the cumulative histogram\n",
    "n, bins, patches = ax.hist(x, n_bins, density=True, histtype='step', cumulative=True, color = '#033266')\n",
    "\n",
    "#ax.plot(bins, y, 'k--', linewidth=1.5, label='Theoretical')\n",
    "\n",
    "# Overlay a reversed cumulative histogram.\n",
    "#ax.hist(x, bins=bins, density=True, histtype='step', cumulative=-1,\n",
    "        #label='Reversed emp.')\n",
    "\n",
    "#tidy up the figure\n",
    "ax.grid(True)\n",
    "#ax.legend(loc='right')\n",
    "#ax.set_title('Cumulative step histograms')\n",
    "ax.set_xlabel('Number of snapshots')\n",
    "ax.set_ylabel('% of URLs/Scripts')\n",
    "plt.savefig(\"num_snapshots.png\")\n",
    "plt.show()"
   ]
  }
 ],
 "metadata": {
  "kernelspec": {
   "display_name": "Python 3",
   "language": "python",
   "name": "python3"
  },
  "language_info": {
   "codemirror_mode": {
    "name": "ipython",
    "version": 3
   },
   "file_extension": ".py",
   "mimetype": "text/x-python",
   "name": "python",
   "nbconvert_exporter": "python",
   "pygments_lexer": "ipython3",
   "version": "3.8.5"
  }
 },
 "nbformat": 4,
 "nbformat_minor": 5
}
