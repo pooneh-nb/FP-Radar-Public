{
 "cells": [
  {
   "cell_type": "code",
   "execution_count": 1,
   "id": "announced-suite",
   "metadata": {},
   "outputs": [],
   "source": [
    "import plotly.express as px \n",
    "import matplotlib.pyplot as plt\n",
    "\n",
    "import json\n",
    "import utilities\n",
    "import pandas as pd\n",
    "import os\n",
    "import csv"
   ]
  },
  {
   "cell_type": "code",
   "execution_count": 2,
   "id": "discrete-steam",
   "metadata": {},
   "outputs": [],
   "source": [
    "# Find the number of unique scripts ids at each year\n",
    "fp_base_dir = \"/home/c6/Desktop/OpenWPM/jsons/CDX_api/gathered_downloaded_files/fp_javascripts\"\n",
    "non_fp_base_dir = \"/home/c6/Desktop/OpenWPM/jsons/CDX_api/gathered_downloaded_files/non_fp_js\"\n",
    "years = [\"2010\", \"2011\", \"2012\", \"2013\", \"2014\", \"2015\", \"2016\", \"2017\", \"2018\", \"2019\"]\n",
    "annualy_script_numbers = {\"2010\":set(), \"2011\":set(), \"2012\":set(), \"2013\":set(), \n",
    "                          \"2014\":set(), \"2015\":set(), \"2016\":set(), \"2017\":set(), \"2018\":set(), \"2019\":set()}\n",
    "\n",
    "fp_scripts = utilities.get_files_in_a_directory(fp_base_dir)\n",
    "for fp_script in fp_scripts:\n",
    "    script_id = fp_script.split(\"/\")[-1].split(\"|\")[-1]\n",
    "    year = fp_script.split(\"/\")[-1].split(\"|\")[-2][0:4]\n",
    "    if year in annualy_script_numbers.keys():\n",
    "        annualy_script_numbers[year].add(script_id)\n",
    "\n",
    "non_fp_scripts = utilities.get_files_in_a_directory(non_fp_base_dir)\n",
    "for non_fp_script in non_fp_scripts:\n",
    "    script_id = non_fp_script.split(\"/\")[-1].split(\"|\")[-1]\n",
    "    year = non_fp_script.split(\"/\")[-1].split(\"|\")[-2][0:4]\n",
    "    if year in annualy_script_numbers.keys():\n",
    "        annualy_script_numbers[year].add(script_id)\n",
    "        \n",
    "for year, id_list in annualy_script_numbers.items():\n",
    "    annualy_script_numbers[year] = list(annualy_script_numbers[year])"
   ]
  },
  {
   "cell_type": "code",
   "execution_count": 3,
   "id": "severe-challenge",
   "metadata": {},
   "outputs": [],
   "source": [
    "fp_base_dir = \"/home/c6/Desktop/OpenWPM/jsons/AST/CDX_results/fp_files\"\n",
    "non_fp_base_dir = \"/home/c6/Desktop/OpenWPM/jsons/AST/CDX_results/non_fp_files\"\n",
    "years = [\"2010\", \"2011\", \"2012\", \"2013\", \"2014\", \"2015\", \"2016\", \"2017\", \"2018\", \"2019\"]\n",
    "\n",
    "mouse = {\"2010\":0, \"2011\":0, \"2012\":0, \"2013\":0, \"2014\":0, \"2015\":0, \"2016\":0, \"2017\":0, \"2018\":0, \"2019\":0}"
   ]
  },
  {
   "cell_type": "code",
   "execution_count": null,
   "id": "gross-jason",
   "metadata": {},
   "outputs": [],
   "source": [
    "# Mouse"
   ]
  },
  {
   "cell_type": "code",
   "execution_count": 103,
   "id": "sixth-medicine",
   "metadata": {},
   "outputs": [],
   "source": [
    "# FP scripts\n",
    "for year in years:\n",
    "    script_files = utilities.get_files_in_a_directory(os.path.join(fp_base_dir, year, \"api_features\"))\n",
    "    for fp_js in script_files:\n",
    "        date = fp_js.split('/')[-1].split('|')[-2][0:4]\n",
    "        if date in mouse.keys():\n",
    "            script_content = utilities.read_list_compressed(fp_js)\n",
    "                \n",
    "               # Mouse\n",
    "            if (\"clientX\" in script_content and \"clientY\" in script_content) or \\\n",
    "                (\"scrollX\" in script_content and \"scrollY\" in script_content) or \\\n",
    "                (\"deltaX\" in script_content and \"deltaY\" in script_content or \"deltaZ\" in script_content) or \\\n",
    "                (\"movementX\" in script_content and \"movementY\" in script_content) or \\\n",
    "                (\"screenX\" in script_content and \"screenY\" in script_content) or \\\n",
    "                (\"radiusX\" in script_content and \"radiusY\" in script_content) or \\\n",
    "                (\"clientX\" in script_content and \"clientY\" in script_content) or \\\n",
    "                (\"pageX\" in script_content and \"pageY\" in script_content):\n",
    "                    if (\"mousemove\" in script_content or \"onmousemove\" in script_content):\n",
    "                        if(\"click\" in script_content and \"dblclick\" in script_content):\n",
    "                            if (\"wheelDelta\" in script_content and \"mousewheel\" in script_content) or \\\n",
    "                                (\"rotationAngle\" in script_content):\n",
    "                                    mouse[date] += 1\n",
    "                        "
   ]
  },
  {
   "cell_type": "code",
   "execution_count": 102,
   "id": "perfect-tissue",
   "metadata": {},
   "outputs": [],
   "source": [
    " # NON-FP scripts\n",
    "for year in years:\n",
    "    script_files = utilities.get_files_in_a_directory(os.path.join(non_fp_base_dir, year, \"api_features\"))\n",
    "    for non_fp_js in script_files:\n",
    "        date = non_fp_js.split('/')[-1].split('|')[-2][0:4]\n",
    "        if date in mouse.keys():\n",
    "            script_content = utilities.read_list_compressed(non_fp_js)\n",
    "\n",
    "             # Mouse\n",
    "            if (\"clientX\" in script_content and \"clientY\" in script_content) or \\\n",
    "                (\"scrollX\" in script_content and \"scrollY\" in script_content) or \\\n",
    "                (\"deltaX\" in script_content and \"deltaY\" in script_content or \"deltaZ\" in script_content) or \\\n",
    "                (\"movementX\" in script_content and \"movementY\" in script_content) or \\\n",
    "                (\"screenX\" in script_content and \"screenY\" in script_content) or \\\n",
    "                (\"radiusX\" in script_content and \"radiusY\" in script_content) or \\\n",
    "                (\"clientX\" in script_content and \"clientY\" in script_content) or \\\n",
    "                (\"pageX\" in script_content and \"pageY\" in script_content):\n",
    "                    if (\"mousemove\" in script_content or \"onmousemove\" on script_content):\n",
    "                        if(\"click\" in script_content and \"dblclick\" in script_content):\n",
    "                            if (\"wheelDelta\" in script_content and \"mousewheel\" in script_content) or \\\n",
    "                                (\"rotationAngle\" in script_content):\n",
    "                                    mouse[date] += 1\n"
   ]
  },
  {
   "cell_type": "code",
   "execution_count": 104,
   "id": "physical-appraisal",
   "metadata": {},
   "outputs": [],
   "source": [
    "for year, num in mouse.items():\n",
    "    mouse[year] = round(mouse[year] / len(annualy_script_numbers[year]) *100, 2)"
   ]
  },
  {
   "cell_type": "code",
   "execution_count": 106,
   "id": "balanced-istanbul",
   "metadata": {
    "scrolled": true
   },
   "outputs": [
    {
     "data": {
      "image/png": "[encoded data removed]",
      "text/plain": [
       "<Figure size 504x288 with 1 Axes>"
      ]
     },
     "metadata": {
      "needs_background": "light"
     },
     "output_type": "display_data"
    }
   ],
   "source": [
    "import numpy as np\n",
    "import matplotlib.pyplot as plt\n",
    "\n",
    "np.random.seed(19680801)\n",
    "years = annualy_script_numbers.keys()\n",
    "fig, ax = plt.subplots(sharey=True, tight_layout=True, figsize=(11, 6))\n",
    "\n",
    "\n",
    "ax.plot(years, mouse.values(), label='Mouse', linestyle='-',  marker='s', color = '#187bcd',linewidth=2) # increasing- (0-25)\n",
    "ax.set_xlabel('Year')\n",
    "ax.set_ylabel('% of scripts')\n",
    "# tidy up the figure\n",
    "fig.set_size_inches(7, 4, forward=True)\n",
    "plt.grid(True, linestyle='--')\n",
    "plt.ylim([0, 3])\n",
    "plt.xlim(['2010', '2019'])\n",
    "ax.legend(loc='upper left')\n",
    "plt.show()"
   ]
  },
  {
   "cell_type": "markdown",
   "id": "secret-cattle",
   "metadata": {},
   "source": [
    "### Touch "
   ]
  },
  {
   "cell_type": "code",
   "execution_count": 45,
   "id": "egyptian-description",
   "metadata": {},
   "outputs": [],
   "source": [
    "touch = {\"2010\":0, \"2011\":0, \"2012\":0, \"2013\":0, \"2014\":0, \"2015\":0, \"2016\":0, \"2017\":0, \"2018\":0, \"2019\":0}"
   ]
  },
  {
   "cell_type": "code",
   "execution_count": 107,
   "id": "level-candle",
   "metadata": {},
   "outputs": [],
   "source": [
    " # NON-FP scripts\n",
    "for year in years:\n",
    "    script_files = utilities.get_files_in_a_directory(os.path.join(non_fp_base_dir, year, \"api_features\"))\n",
    "    for non_fp_js in script_files:\n",
    "        date = non_fp_js.split('/')[-1].split('|')[-2][0:4]\n",
    "        if date in mouse.keys():\n",
    "            script_content = utilities.read_list_compressed(non_fp_js)\n",
    "\n",
    "             # Touch\n",
    "            if (\"clientX\" in script_content and \"clientY\" in script_content) or \\\n",
    "                (\"radiusX\" in script_content and \"radiusY\" in script_content) or \\\n",
    "                (\"screenX\" in script_content and \"screenY\" in script_content) or \\\n",
    "                (\"pageX\" in script_content and \"pageY\" in script_content):\n",
    "                    if (\"rotationAngle\" in script_content or \"altitudeAngle\" in script_content or \"azimuthAngle\" in script_content):\n",
    "                        if (\"TouchEvent\" in script_content or \"ontouchstart\" in script_content or \\\n",
    "                            \"touchenter\" in script_content or \"ontouchenter\" in script_content or \\\n",
    "                            \"touuchstart\" in script_content or \"ontouchstart\" in script_content):\n",
    "                            if (\"touchleave\" in script_content or \"ontouchleave\" in script_content or \\\n",
    "                                 \"touchcancel\" in script_content or \"ontouchend\" in script_content or \\\n",
    "                                 \"touchcancel\" in script_content):\n",
    "                                    touch[date] += 1"
   ]
  },
  {
   "cell_type": "code",
   "execution_count": 108,
   "id": "limiting-photography",
   "metadata": {},
   "outputs": [],
   "source": [
    "# FP scripts\n",
    "for year in years:\n",
    "    script_files = utilities.get_files_in_a_directory(os.path.join(fp_base_dir, year, \"api_features\"))\n",
    "    for fp_js in script_files:\n",
    "        date = fp_js.split('/')[-1].split('|')[-2][0:4]\n",
    "        if date in mouse.keys():\n",
    "            script_content = utilities.read_list_compressed(fp_js)\n",
    "                \n",
    "             # Touch\n",
    "            if (\"clientX\" in script_content and \"clientY\" in script_content) or \\\n",
    "                (\"radiusX\" in script_content and \"radiusY\" in script_content) or \\\n",
    "                (\"screenX\" in script_content and \"screenY\" in script_content) or \\\n",
    "                (\"pageX\" in script_content and \"pageY\" in script_content):\n",
    "                if (\"touchmove\" in script_content or \"changedTouches\" in script_content):\n",
    "                        if (\"TouchEvent\" in script_content or \"ontouchstart\" in script_content or \\\n",
    "                            \"touchenter\" in script_content or \"ontouchenter\" in script_content or \\\n",
    "                            \"touuchstart\" in script_content or \"ontouchstart\" in script_content):\n",
    "                            if (\"touchleave\" in script_content or \"ontouchleave\" in script_content or \\\n",
    "                                 \"touchcancel\" in script_content or \"ontouchend\" in script_content or \\\n",
    "                                 \"touchcancel\" in script_content):\n",
    "                                    touch[date] += 1\n",
    "            \n",
    "            "
   ]
  },
  {
   "cell_type": "code",
   "execution_count": 109,
   "id": "metallic-underground",
   "metadata": {},
   "outputs": [],
   "source": [
    "for year, num in touch.items():\n",
    "    touch[year] = round(touch[year] / len(annualy_script_numbers[year]) *100, 2)"
   ]
  },
  {
   "cell_type": "code",
   "execution_count": 110,
   "id": "characteristic-engineer",
   "metadata": {
    "scrolled": false
   },
   "outputs": [
    {
     "data": {
      "image/png": "[encoded data removed]",
      "text/plain": [
       "<Figure size 504x288 with 1 Axes>"
      ]
     },
     "metadata": {
      "needs_background": "light"
     },
     "output_type": "display_data"
    }
   ],
   "source": [
    "import numpy as np\n",
    "import matplotlib.pyplot as plt\n",
    "\n",
    "np.random.seed(19680801)\n",
    "years = annualy_script_numbers.keys()\n",
    "fig, ax = plt.subplots(sharey=True, tight_layout=True, figsize=(11, 6))\n",
    "\n",
    "\n",
    "ax.plot(years, touch.values(), label='Touch', linestyle='-',  marker='s', color = '#187bcd',linewidth=2) # increasing- (0-25)\n",
    "ax.set_xlabel('Year')\n",
    "ax.set_ylabel('% of scripts')\n",
    "# tidy up the figure\n",
    "fig.set_size_inches(7, 4, forward=True)\n",
    "plt.grid(True, linestyle='--')\n",
    "plt.ylim([0, 1])\n",
    "plt.xlim(['2010', '2019'])\n",
    "ax.legend(loc='upper left')\n",
    "plt.show()"
   ]
  },
  {
   "cell_type": "code",
   "execution_count": null,
   "id": "exotic-future",
   "metadata": {},
   "outputs": [],
   "source": [
    "# Storage"
   ]
  },
  {
   "cell_type": "code",
   "execution_count": 113,
   "id": "brave-jesus",
   "metadata": {},
   "outputs": [],
   "source": [
    "performance = {\"2010\":0, \"2011\":0, \"2012\":0, \"2013\":0, \"2014\":0, \"2015\":0, \"2016\":0, \"2017\":0, \"2018\":0, \"2019\":0}\n"
   ]
  },
  {
   "cell_type": "code",
   "execution_count": 114,
   "id": "asian-surgery",
   "metadata": {},
   "outputs": [],
   "source": [
    " # NON-FP scripts\n",
    "for year in years:\n",
    "    script_files = utilities.get_files_in_a_directory(os.path.join(non_fp_base_dir, year, \"api_features\"))\n",
    "    for non_fp_js in script_files:\n",
    "        date = non_fp_js.split('/')[-1].split('|')[-2][0:4]\n",
    "        if date in mouse.keys():\n",
    "            script_content = utilities.read_list_compressed(non_fp_js)\n",
    "\n",
    "             # performance\n",
    "            if(\"performance\" in script_content and \"now\" in script_content):\n",
    "                if (\"domainLookupStart\" in script_content and \"domainLookupEnd\" in script_content) or \\\n",
    "                    (\"responseStart\" in script_content and \"responseEnd\" in script_content) or \\\n",
    "                    (\"requestStart\" in script_content and \"requestEnd\" in script_content) or\\\n",
    "                    (\"paint\" in script_content and \"startTime\" in script_content and \"performanceEntry\" in script_content):\n",
    "                        performance[date] += 1"
   ]
  },
  {
   "cell_type": "code",
   "execution_count": 115,
   "id": "aggregate-steps",
   "metadata": {},
   "outputs": [],
   "source": [
    "# FP scripts\n",
    "for year in years:\n",
    "    script_files = utilities.get_files_in_a_directory(os.path.join(fp_base_dir, year, \"api_features\"))\n",
    "    for fp_js in script_files:\n",
    "        date = fp_js.split('/')[-1].split('|')[-2][0:4]\n",
    "        if date in mouse.keys():\n",
    "            script_content = utilities.read_list_compressed(fp_js)\n",
    "                \n",
    "             # performance\n",
    "            if(\"performance\" in script_content and \"now\" in script_content):\n",
    "                if (\"domainLookupStart\" in script_content and \"domainLookupEnd\" in script_content) or \\\n",
    "                    (\"responseStart\" in script_content and \"responseEnd\" in script_content) or \\\n",
    "                    (\"requestStart\" in script_content and \"requestEnd\" in script_content) or\\\n",
    "                    (\"paint\" in script_content and \"startTime\" in script_content and \"performanceEntry\" in script_content):\n",
    "                        performance[date] += 1\n",
    "            "
   ]
  },
  {
   "cell_type": "code",
   "execution_count": 117,
   "id": "mathematical-theme",
   "metadata": {},
   "outputs": [],
   "source": [
    "for year, num in touch.items():\n",
    "    performance[year] = round(performance[year] / len(annualy_script_numbers[year]) *100, 2)"
   ]
  },
  {
   "cell_type": "code",
   "execution_count": 120,
   "id": "suitable-native",
   "metadata": {},
   "outputs": [
    {
     "data": {
      "image/png": "[encoded data removed]",
      "text/plain": [
       "<Figure size 504x288 with 1 Axes>"
      ]
     },
     "metadata": {
      "needs_background": "light"
     },
     "output_type": "display_data"
    }
   ],
   "source": [
    "import numpy as np\n",
    "import matplotlib.pyplot as plt\n",
    "\n",
    "np.random.seed(19680801)\n",
    "years = annualy_script_numbers.keys()\n",
    "fig, ax = plt.subplots(sharey=True, tight_layout=True, figsize=(11, 6))\n",
    "\n",
    "\n",
    "ax.plot(years, performance.values(), label='Performance', linestyle='-',  marker='s', color = '#187bcd',linewidth=2) # increasing- (0-25)\n",
    "ax.set_xlabel('Year')\n",
    "ax.set_ylabel('% of scripts')\n",
    "# tidy up the figure\n",
    "fig.set_size_inches(7, 4, forward=True)\n",
    "plt.grid(True, linestyle='--')\n",
    "plt.ylim([0, 5])\n",
    "plt.xlim(['2010', '2019'])\n",
    "ax.legend(loc='upper left')\n",
    "plt.show()"
   ]
  }
 ],
 "metadata": {
  "kernelspec": {
   "display_name": "Python 3",
   "language": "python",
   "name": "python3"
  },
  "language_info": {
   "codemirror_mode": {
    "name": "ipython",
    "version": 3
   },
   "file_extension": ".py",
   "mimetype": "text/x-python",
   "name": "python",
   "nbconvert_exporter": "python",
   "pygments_lexer": "ipython3",
   "version": "3.8.5"
  }
 },
 "nbformat": 4,
 "nbformat_minor": 5
}
