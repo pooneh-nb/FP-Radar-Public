{
 "cells": [
  {
   "cell_type": "code",
   "execution_count": 2,
   "id": "enormous-airline",
   "metadata": {
    "pycharm": {
     "name": "#%%\n"
    }
   },
   "outputs": [],
   "source": [
    "import csv\n",
    "import os\n",
    "import pandas as pd\n",
    "from collections import Counter\n",
    "import numpy as np\n",
    "\n",
    "import matplotlib.pyplot as plt\n",
    "import matplotlib\n",
    "plt.style.use('fivethirtyeight')\n",
    "pd.set_option('display.float_format', lambda x: '%.3f' % x)\n",
    "\n",
    "\n",
    "from sklearn.metrics import recall_score\n",
    "from sklearn.metrics import precision_score\n",
    "from sklearn.metrics import accuracy_score\n",
    "from sklearn.metrics import f1_score\n",
    "from sklearn.metrics import roc_auc_score\n",
    "\n",
    "from sklearn.utils import resample\n",
    "\n",
    "from sklearn.ensemble import RandomForestClassifier\n",
    "from sklearn.svm import SVC\n",
    "from sklearn.neural_network import MLPClassifier\n",
    "from sklearn.naive_bayes import GaussianNB, ComplementNB, MultinomialNB, BernoulliNB\n"
   ]
  },
  {
   "cell_type": "markdown",
   "id": "bacterial-colony",
   "metadata": {},
   "source": [
    "# Predictiong Graph in 2012"
   ]
  },
  {
   "cell_type": "markdown",
   "id": "royal-context",
   "metadata": {},
   "source": [
    "* Load training and testing dataframes"
   ]
  },
  {
   "cell_type": "code",
   "execution_count": 11,
   "id": "north-seating",
   "metadata": {
    "pycharm": {
     "name": "#%%\n"
    }
   },
   "outputs": [
    {
     "data": {
      "text/html": [
       "<div>\n",
       "<style scoped>\n",
       "    .dataframe tbody tr th:only-of-type {\n",
       "        vertical-align: middle;\n",
       "    }\n",
       "\n",
       "    .dataframe tbody tr th {\n",
       "        vertical-align: top;\n",
       "    }\n",
       "\n",
       "    .dataframe thead th {\n",
       "        text-align: right;\n",
       "    }\n",
       "</style>\n",
       "<table border=\"1\" class=\"dataframe\">\n",
       "  <thead>\n",
       "    <tr style=\"text-align: right;\">\n",
       "      <th></th>\n",
       "      <th>CN</th>\n",
       "      <th>AA</th>\n",
       "      <th>HP</th>\n",
       "      <th>HD</th>\n",
       "      <th>JC</th>\n",
       "      <th>LHN</th>\n",
       "      <th>RA</th>\n",
       "      <th>SA</th>\n",
       "      <th>SO</th>\n",
       "      <th>avg_deg</th>\n",
       "    </tr>\n",
       "  </thead>\n",
       "  <tbody>\n",
       "    <tr>\n",
       "      <th>0</th>\n",
       "      <td>892.000</td>\n",
       "      <td>110.430</td>\n",
       "      <td>0.999</td>\n",
       "      <td>0.927</td>\n",
       "      <td>0.926</td>\n",
       "      <td>0.001</td>\n",
       "      <td>3.899</td>\n",
       "      <td>3.899</td>\n",
       "      <td>0.962</td>\n",
       "      <td>927.500</td>\n",
       "    </tr>\n",
       "    <tr>\n",
       "      <th>1</th>\n",
       "      <td>892.000</td>\n",
       "      <td>110.430</td>\n",
       "      <td>0.999</td>\n",
       "      <td>0.927</td>\n",
       "      <td>0.926</td>\n",
       "      <td>0.001</td>\n",
       "      <td>3.899</td>\n",
       "      <td>3.899</td>\n",
       "      <td>0.962</td>\n",
       "      <td>927.500</td>\n",
       "    </tr>\n",
       "    <tr>\n",
       "      <th>2</th>\n",
       "      <td>888.000</td>\n",
       "      <td>109.771</td>\n",
       "      <td>0.994</td>\n",
       "      <td>0.970</td>\n",
       "      <td>0.965</td>\n",
       "      <td>0.001</td>\n",
       "      <td>3.840</td>\n",
       "      <td>3.840</td>\n",
       "      <td>0.982</td>\n",
       "      <td>904.000</td>\n",
       "    </tr>\n",
       "    <tr>\n",
       "      <th>3</th>\n",
       "      <td>892.000</td>\n",
       "      <td>110.430</td>\n",
       "      <td>0.999</td>\n",
       "      <td>0.927</td>\n",
       "      <td>0.926</td>\n",
       "      <td>0.001</td>\n",
       "      <td>3.899</td>\n",
       "      <td>3.899</td>\n",
       "      <td>0.962</td>\n",
       "      <td>927.500</td>\n",
       "    </tr>\n",
       "    <tr>\n",
       "      <th>4</th>\n",
       "      <td>892.000</td>\n",
       "      <td>110.430</td>\n",
       "      <td>0.999</td>\n",
       "      <td>0.927</td>\n",
       "      <td>0.926</td>\n",
       "      <td>0.001</td>\n",
       "      <td>3.899</td>\n",
       "      <td>3.899</td>\n",
       "      <td>0.962</td>\n",
       "      <td>927.500</td>\n",
       "    </tr>\n",
       "  </tbody>\n",
       "</table>\n",
       "</div>"
      ],
      "text/plain": [
       "       CN      AA    HP    HD    JC   LHN    RA    SA    SO  avg_deg\n",
       "0 892.000 110.430 0.999 0.927 0.926 0.001 3.899 3.899 0.962  927.500\n",
       "1 892.000 110.430 0.999 0.927 0.926 0.001 3.899 3.899 0.962  927.500\n",
       "2 888.000 109.771 0.994 0.970 0.965 0.001 3.840 3.840 0.982  904.000\n",
       "3 892.000 110.430 0.999 0.927 0.926 0.001 3.899 3.899 0.962  927.500\n",
       "4 892.000 110.430 0.999 0.927 0.926 0.001 3.899 3.899 0.962  927.500"
      ]
     },
     "execution_count": 11,
     "metadata": {},
     "output_type": "execute_result"
    }
   ],
   "source": [
    "with open(\"/home/c6/Desktop/OpenWPM/jsons/Prediction_new/non_temporal_unweighted/2012/train/dataframe.csv\", newline='') as csvfile:\n",
    "    training_df = pd.read_csv(csvfile)\n",
    "    \n",
    "training_df['avg_deg'] = (training_df['deg_e1']+training_df['deg_e2'])/2\n",
    "training_df = training_df.drop(['deg_e1', 'deg_e2'], axis=1)\n",
    "training_df = training_df[['e1','e2','CN','AA','HP','HD','JC','LHN','RA','SA','SO','avg_deg','label']]\n",
    "\n",
    "X_train = training_df.iloc[:,2:-1]\n",
    "Y_train = training_df.iloc[:]['label']\n",
    "\n",
    "X_train.head()\n",
    "\n",
    "with open(\"/home/c6/Desktop/OpenWPM/jsons/Prediction_new/non_temporal_unweighted/2012/test/dataframe.csv\", newline='') as csvfile:\n",
    "    testing_df = pd.read_csv(csvfile)\n",
    "\n",
    "testing_df['avg_deg'] = (testing_df['deg_e1']+testing_df['deg_e2'])/2\n",
    "testing_df = testing_df.drop(['deg_e1', 'deg_e2'], axis=1)\n",
    "testing_df = testing_df[['e1','e2','CN','AA','HP','HD','JC','LHN','RA','SA','SO','avg_deg','label']]\n",
    "\n",
    "\n",
    "X_test = testing_df.iloc[:,2:-1]\n",
    "Y_test = testing_df.iloc[:]['label']\n",
    "\n",
    "X_test.head()"
   ]
  },
  {
   "cell_type": "markdown",
   "id": "ceramic-enough",
   "metadata": {},
   "source": [
    "* define evaluation function"
   ]
  },
  {
   "cell_type": "code",
   "execution_count": 12,
   "id": "heated-sociology",
   "metadata": {
    "pycharm": {
     "name": "#%%\n"
    }
   },
   "outputs": [],
   "source": [
    "def evaluate_model(predictions, actual):\n",
    "    return pd.DataFrame({\n",
    "        \"Measure\": [\"Accuracy\", \"Precision\", \"Recall\", \"f1_score\"],\n",
    "        \"Source\": [accuracy_score(actual, predictions), \n",
    "                   precision_score(actual, predictions), \n",
    "                   recall_score(actual, predictions),\n",
    "                   f1_score(actual, predictions)]\n",
    "    })"
   ]
  },
  {
   "cell_type": "markdown",
   "id": "unsigned-topic",
   "metadata": {},
   "source": [
    "* Find important features"
   ]
  },
  {
   "cell_type": "code",
   "execution_count": 13,
   "id": "congressional-nitrogen",
   "metadata": {
    "pycharm": {
     "name": "#%%\n"
    }
   },
   "outputs": [],
   "source": [
    "def feature_importance(columns, classifier):\n",
    "    display(\"Feature Importance\")\n",
    "    df = pd.DataFrame({\"Features\": columns,\n",
    "                      \"Importance\": classifier.feature_importances_})\n",
    "    df = df.sort_values(\"Importance\", ascending=False)\n",
    "    ax = df.plot(kind='bar', x='Features', y='Importance', legend=None)\n",
    "    #ax.xaxist.set_label_text(\"\")\n",
    "    plt.tight_layout()\n",
    "    plt.show"
   ]
  },
  {
   "cell_type": "markdown",
   "id": "laughing-exhibit",
   "metadata": {
    "pycharm": {
     "name": "#%% md\n"
    }
   },
   "source": [
    "* choose a ML algorithm"
   ]
  },
  {
   "cell_type": "code",
   "execution_count": 14,
   "id": "flush-crazy",
   "metadata": {
    "pycharm": {
     "name": "#%%\n"
    }
   },
   "outputs": [],
   "source": [
    "classifier = RandomForestClassifier(n_estimators=100, max_depth=40, random_state=0, criterion=\"entropy\", \n",
    "                                    max_samples=20)"
   ]
  },
  {
   "cell_type": "markdown",
   "id": "ultimate-liberia",
   "metadata": {
    "pycharm": {
     "name": "#%% md\n"
    }
   },
   "source": [
    "* Training"
   ]
  },
  {
   "cell_type": "code",
   "execution_count": 15,
   "id": "vanilla-acrobat",
   "metadata": {
    "pycharm": {
     "name": "#%%\n"
    }
   },
   "outputs": [
    {
     "data": {
      "text/plain": [
       "RandomForestClassifier(criterion='entropy', max_depth=40, max_samples=20,\n",
       "                       random_state=0)"
      ]
     },
     "execution_count": 15,
     "metadata": {},
     "output_type": "execute_result"
    }
   ],
   "source": [
    "classifier.fit(X_train, Y_train)"
   ]
  },
  {
   "cell_type": "markdown",
   "id": "hearing-villa",
   "metadata": {
    "pycharm": {
     "name": "#%% md\n"
    }
   },
   "source": [
    "* Make a predict"
   ]
  },
  {
   "cell_type": "code",
   "execution_count": 16,
   "id": "applicable-cameroon",
   "metadata": {
    "pycharm": {
     "name": "#%%\n"
    }
   },
   "outputs": [],
   "source": [
    "prediction = classifier.predict(X_test)"
   ]
  },
  {
   "cell_type": "code",
   "execution_count": 17,
   "id": "homeless-delay",
   "metadata": {
    "pycharm": {
     "name": "#%%\n"
    }
   },
   "outputs": [
    {
     "data": {
      "text/html": [
       "<div>\n",
       "<style scoped>\n",
       "    .dataframe tbody tr th:only-of-type {\n",
       "        vertical-align: middle;\n",
       "    }\n",
       "\n",
       "    .dataframe tbody tr th {\n",
       "        vertical-align: top;\n",
       "    }\n",
       "\n",
       "    .dataframe thead th {\n",
       "        text-align: right;\n",
       "    }\n",
       "</style>\n",
       "<table border=\"1\" class=\"dataframe\">\n",
       "  <thead>\n",
       "    <tr style=\"text-align: right;\">\n",
       "      <th></th>\n",
       "      <th>Measure</th>\n",
       "      <th>Source</th>\n",
       "    </tr>\n",
       "  </thead>\n",
       "  <tbody>\n",
       "    <tr>\n",
       "      <th>0</th>\n",
       "      <td>Accuracy</td>\n",
       "      <td>0.822</td>\n",
       "    </tr>\n",
       "    <tr>\n",
       "      <th>1</th>\n",
       "      <td>Precision</td>\n",
       "      <td>0.754</td>\n",
       "    </tr>\n",
       "    <tr>\n",
       "      <th>2</th>\n",
       "      <td>Recall</td>\n",
       "      <td>0.689</td>\n",
       "    </tr>\n",
       "    <tr>\n",
       "      <th>3</th>\n",
       "      <td>f1_score</td>\n",
       "      <td>0.720</td>\n",
       "    </tr>\n",
       "  </tbody>\n",
       "</table>\n",
       "</div>"
      ],
      "text/plain": [
       "     Measure  Source\n",
       "0   Accuracy   0.822\n",
       "1  Precision   0.754\n",
       "2     Recall   0.689\n",
       "3   f1_score   0.720"
      ]
     },
     "metadata": {},
     "output_type": "display_data"
    }
   ],
   "source": [
    "display(evaluate_model(prediction, Y_test))"
   ]
  },
  {
   "cell_type": "code",
   "execution_count": 19,
   "id": "asian-livestock",
   "metadata": {
    "pycharm": {
     "name": "#%%\n"
    }
   },
   "outputs": [
    {
     "data": {
      "text/plain": [
       "'Feature Importance'"
      ]
     },
     "metadata": {},
     "output_type": "display_data"
    },
    {
     "data": {
      "image/png": "[encoded data removed]",
      "text/plain": [
       "<Figure size 432x288 with 1 Axes>"
      ]
     },
     "metadata": {},
     "output_type": "display_data"
    }
   ],
   "source": [
    "columns = ['CN', 'AA', 'HP', 'HD', 'JC', 'LHN', 'RA', 'SA', 'SO', 'avg_deg']\n",
    "feature_importance(columns, classifier)"
   ]
  },
  {
   "cell_type": "markdown",
   "id": "respective-bosnia",
   "metadata": {
    "pycharm": {
     "name": "#%% md\n"
    }
   },
   "source": [
    "# Predictiong Graph in 2013"
   ]
  },
  {
   "cell_type": "markdown",
   "id": "unlikely-organ",
   "metadata": {},
   "source": [
    "* Load training and testing dataframes"
   ]
  },
  {
   "cell_type": "code",
   "execution_count": 20,
   "id": "plastic-drain",
   "metadata": {
    "pycharm": {
     "name": "#%%\n"
    }
   },
   "outputs": [
    {
     "data": {
      "text/html": [
       "<div>\n",
       "<style scoped>\n",
       "    .dataframe tbody tr th:only-of-type {\n",
       "        vertical-align: middle;\n",
       "    }\n",
       "\n",
       "    .dataframe tbody tr th {\n",
       "        vertical-align: top;\n",
       "    }\n",
       "\n",
       "    .dataframe thead th {\n",
       "        text-align: right;\n",
       "    }\n",
       "</style>\n",
       "<table border=\"1\" class=\"dataframe\">\n",
       "  <thead>\n",
       "    <tr style=\"text-align: right;\">\n",
       "      <th></th>\n",
       "      <th>CN</th>\n",
       "      <th>AA</th>\n",
       "      <th>HP</th>\n",
       "      <th>HD</th>\n",
       "      <th>JC</th>\n",
       "      <th>LHN</th>\n",
       "      <th>RA</th>\n",
       "      <th>SA</th>\n",
       "      <th>SO</th>\n",
       "      <th>avg_deg</th>\n",
       "    </tr>\n",
       "  </thead>\n",
       "  <tbody>\n",
       "    <tr>\n",
       "      <th>0</th>\n",
       "      <td>1153.000</td>\n",
       "      <td>139.123</td>\n",
       "      <td>0.999</td>\n",
       "      <td>0.933</td>\n",
       "      <td>0.932</td>\n",
       "      <td>0.001</td>\n",
       "      <td>4.415</td>\n",
       "      <td>4.415</td>\n",
       "      <td>0.965</td>\n",
       "      <td>1195.000</td>\n",
       "    </tr>\n",
       "    <tr>\n",
       "      <th>1</th>\n",
       "      <td>1153.000</td>\n",
       "      <td>139.123</td>\n",
       "      <td>0.999</td>\n",
       "      <td>0.933</td>\n",
       "      <td>0.932</td>\n",
       "      <td>0.001</td>\n",
       "      <td>4.415</td>\n",
       "      <td>4.415</td>\n",
       "      <td>0.965</td>\n",
       "      <td>1195.000</td>\n",
       "    </tr>\n",
       "    <tr>\n",
       "      <th>2</th>\n",
       "      <td>1141.000</td>\n",
       "      <td>137.248</td>\n",
       "      <td>0.989</td>\n",
       "      <td>0.959</td>\n",
       "      <td>0.948</td>\n",
       "      <td>0.001</td>\n",
       "      <td>4.271</td>\n",
       "      <td>4.271</td>\n",
       "      <td>0.974</td>\n",
       "      <td>1172.000</td>\n",
       "    </tr>\n",
       "    <tr>\n",
       "      <th>3</th>\n",
       "      <td>1153.000</td>\n",
       "      <td>139.123</td>\n",
       "      <td>0.999</td>\n",
       "      <td>0.933</td>\n",
       "      <td>0.932</td>\n",
       "      <td>0.001</td>\n",
       "      <td>4.415</td>\n",
       "      <td>4.415</td>\n",
       "      <td>0.965</td>\n",
       "      <td>1195.000</td>\n",
       "    </tr>\n",
       "    <tr>\n",
       "      <th>4</th>\n",
       "      <td>1153.000</td>\n",
       "      <td>139.123</td>\n",
       "      <td>0.999</td>\n",
       "      <td>0.933</td>\n",
       "      <td>0.932</td>\n",
       "      <td>0.001</td>\n",
       "      <td>4.415</td>\n",
       "      <td>4.415</td>\n",
       "      <td>0.965</td>\n",
       "      <td>1195.000</td>\n",
       "    </tr>\n",
       "  </tbody>\n",
       "</table>\n",
       "</div>"
      ],
      "text/plain": [
       "        CN      AA    HP    HD    JC   LHN    RA    SA    SO  avg_deg\n",
       "0 1153.000 139.123 0.999 0.933 0.932 0.001 4.415 4.415 0.965 1195.000\n",
       "1 1153.000 139.123 0.999 0.933 0.932 0.001 4.415 4.415 0.965 1195.000\n",
       "2 1141.000 137.248 0.989 0.959 0.948 0.001 4.271 4.271 0.974 1172.000\n",
       "3 1153.000 139.123 0.999 0.933 0.932 0.001 4.415 4.415 0.965 1195.000\n",
       "4 1153.000 139.123 0.999 0.933 0.932 0.001 4.415 4.415 0.965 1195.000"
      ]
     },
     "execution_count": 20,
     "metadata": {},
     "output_type": "execute_result"
    }
   ],
   "source": [
    "with open(\"/home/c6/Desktop/OpenWPM/jsons/Prediction_new/non_temporal_unweighted/2013/train/dataframe.csv\", newline='') as csvfile:\n",
    "    training_df = pd.read_csv(csvfile)\n",
    "    \n",
    "training_df['avg_deg'] = (training_df['deg_e1']+training_df['deg_e2'])/2\n",
    "training_df = training_df.drop(['deg_e1', 'deg_e2'], axis=1)\n",
    "training_df = training_df[['e1','e2','CN','AA','HP','HD','JC','LHN','RA','SA','SO','avg_deg','label']]\n",
    "\n",
    "X_train = training_df.iloc[:,2:-1]\n",
    "Y_train = training_df.iloc[:]['label']\n",
    "\n",
    "X_train.head()\n",
    "\n",
    "with open(\"/home/c6/Desktop/OpenWPM/jsons/Prediction_new/non_temporal_unweighted/2013/test/dataframe.csv\", newline='') as csvfile:\n",
    "    testing_df = pd.read_csv(csvfile)\n",
    "\n",
    "testing_df['avg_deg'] = (testing_df['deg_e1']+testing_df['deg_e2'])/2\n",
    "testing_df = testing_df.drop(['deg_e1', 'deg_e2'], axis=1)\n",
    "testing_df = testing_df[['e1','e2','CN','AA','HP','HD','JC','LHN','RA','SA','SO','avg_deg','label']]\n",
    "\n",
    "\n",
    "X_test = testing_df.iloc[:,2:-1]\n",
    "Y_test = testing_df.iloc[:]['label']\n",
    "\n",
    "X_test.head()"
   ]
  },
  {
   "cell_type": "code",
   "execution_count": 21,
   "id": "turned-blame",
   "metadata": {
    "pycharm": {
     "name": "#%%\n"
    }
   },
   "outputs": [
    {
     "data": {
      "text/html": [
       "<div>\n",
       "<style scoped>\n",
       "    .dataframe tbody tr th:only-of-type {\n",
       "        vertical-align: middle;\n",
       "    }\n",
       "\n",
       "    .dataframe tbody tr th {\n",
       "        vertical-align: top;\n",
       "    }\n",
       "\n",
       "    .dataframe thead th {\n",
       "        text-align: right;\n",
       "    }\n",
       "</style>\n",
       "<table border=\"1\" class=\"dataframe\">\n",
       "  <thead>\n",
       "    <tr style=\"text-align: right;\">\n",
       "      <th></th>\n",
       "      <th>CN</th>\n",
       "      <th>AA</th>\n",
       "      <th>HP</th>\n",
       "      <th>HD</th>\n",
       "      <th>JC</th>\n",
       "      <th>LHN</th>\n",
       "      <th>RA</th>\n",
       "      <th>SA</th>\n",
       "      <th>SO</th>\n",
       "      <th>avg_deg</th>\n",
       "    </tr>\n",
       "  </thead>\n",
       "  <tbody>\n",
       "    <tr>\n",
       "      <th>0</th>\n",
       "      <td>1153.000</td>\n",
       "      <td>139.123</td>\n",
       "      <td>0.999</td>\n",
       "      <td>0.933</td>\n",
       "      <td>0.932</td>\n",
       "      <td>0.001</td>\n",
       "      <td>4.415</td>\n",
       "      <td>4.415</td>\n",
       "      <td>0.965</td>\n",
       "      <td>1195.000</td>\n",
       "    </tr>\n",
       "    <tr>\n",
       "      <th>1</th>\n",
       "      <td>1153.000</td>\n",
       "      <td>139.123</td>\n",
       "      <td>0.999</td>\n",
       "      <td>0.933</td>\n",
       "      <td>0.932</td>\n",
       "      <td>0.001</td>\n",
       "      <td>4.415</td>\n",
       "      <td>4.415</td>\n",
       "      <td>0.965</td>\n",
       "      <td>1195.000</td>\n",
       "    </tr>\n",
       "    <tr>\n",
       "      <th>2</th>\n",
       "      <td>1141.000</td>\n",
       "      <td>137.248</td>\n",
       "      <td>0.989</td>\n",
       "      <td>0.959</td>\n",
       "      <td>0.948</td>\n",
       "      <td>0.001</td>\n",
       "      <td>4.271</td>\n",
       "      <td>4.271</td>\n",
       "      <td>0.974</td>\n",
       "      <td>1172.000</td>\n",
       "    </tr>\n",
       "    <tr>\n",
       "      <th>3</th>\n",
       "      <td>1153.000</td>\n",
       "      <td>139.123</td>\n",
       "      <td>0.999</td>\n",
       "      <td>0.933</td>\n",
       "      <td>0.932</td>\n",
       "      <td>0.001</td>\n",
       "      <td>4.415</td>\n",
       "      <td>4.415</td>\n",
       "      <td>0.965</td>\n",
       "      <td>1195.000</td>\n",
       "    </tr>\n",
       "    <tr>\n",
       "      <th>4</th>\n",
       "      <td>1153.000</td>\n",
       "      <td>139.123</td>\n",
       "      <td>0.999</td>\n",
       "      <td>0.933</td>\n",
       "      <td>0.932</td>\n",
       "      <td>0.001</td>\n",
       "      <td>4.415</td>\n",
       "      <td>4.415</td>\n",
       "      <td>0.965</td>\n",
       "      <td>1195.000</td>\n",
       "    </tr>\n",
       "  </tbody>\n",
       "</table>\n",
       "</div>"
      ],
      "text/plain": [
       "        CN      AA    HP    HD    JC   LHN    RA    SA    SO  avg_deg\n",
       "0 1153.000 139.123 0.999 0.933 0.932 0.001 4.415 4.415 0.965 1195.000\n",
       "1 1153.000 139.123 0.999 0.933 0.932 0.001 4.415 4.415 0.965 1195.000\n",
       "2 1141.000 137.248 0.989 0.959 0.948 0.001 4.271 4.271 0.974 1172.000\n",
       "3 1153.000 139.123 0.999 0.933 0.932 0.001 4.415 4.415 0.965 1195.000\n",
       "4 1153.000 139.123 0.999 0.933 0.932 0.001 4.415 4.415 0.965 1195.000"
      ]
     },
     "execution_count": 21,
     "metadata": {},
     "output_type": "execute_result"
    }
   ],
   "source": [
    "X_test.head()"
   ]
  },
  {
   "cell_type": "markdown",
   "id": "frequent-arrow",
   "metadata": {
    "pycharm": {
     "name": "#%% md\n"
    }
   },
   "source": [
    "* define evaluation function"
   ]
  },
  {
   "cell_type": "code",
   "execution_count": 22,
   "id": "appropriate-reservation",
   "metadata": {
    "pycharm": {
     "name": "#%%\n"
    }
   },
   "outputs": [],
   "source": [
    "def evaluate_model(predictions, actual):\n",
    "    return pd.DataFrame({\n",
    "        \"Measure\": [\"Accuracy\", \"Precision\", \"Recall\", \"F1\"],\n",
    "        \"Source\": [accuracy_score(actual, predictions),\n",
    "                   precision_score(actual, predictions),\n",
    "                   recall_score(actual, predictions),\n",
    "                   f1_score(actual,predictions)]\n",
    "    })"
   ]
  },
  {
   "cell_type": "markdown",
   "id": "efficient-knowing",
   "metadata": {
    "pycharm": {
     "name": "#%% md\n"
    }
   },
   "source": [
    "* Find important features"
   ]
  },
  {
   "cell_type": "code",
   "execution_count": 23,
   "id": "familiar-mercy",
   "metadata": {
    "pycharm": {
     "name": "#%%\n"
    }
   },
   "outputs": [],
   "source": [
    "def feature_importance(columns, classifier):\n",
    "    display(\"Feature Importance\")\n",
    "    df = pd.DataFrame({\"Features\": columns,\n",
    "                      \"Importance\": classifier.feature_importances_})\n",
    "    df = df.sort_values(\"Importance\", ascending=False)\n",
    "    ax = df.plot(kind='bar', x='Features', y='Importance', legend=None)\n",
    "    #ax.xaxist.set_label_text(\"\")\n",
    "    plt.tight_layout()\n",
    "    plt.show"
   ]
  },
  {
   "cell_type": "markdown",
   "id": "embedded-things",
   "metadata": {
    "pycharm": {
     "name": "#%% md\n"
    }
   },
   "source": [
    "* choose a ML algorithm"
   ]
  },
  {
   "cell_type": "code",
   "execution_count": 24,
   "id": "collective-distributor",
   "metadata": {
    "pycharm": {
     "name": "#%%\n"
    }
   },
   "outputs": [],
   "source": [
    "classifier = RandomForestClassifier(n_estimators=30, max_depth=10, random_state=0)"
   ]
  },
  {
   "cell_type": "markdown",
   "id": "retired-oriental",
   "metadata": {
    "pycharm": {
     "name": "#%% md\n"
    }
   },
   "source": [
    "* Training"
   ]
  },
  {
   "cell_type": "code",
   "execution_count": 25,
   "id": "disabled-invention",
   "metadata": {
    "pycharm": {
     "name": "#%%\n"
    }
   },
   "outputs": [
    {
     "data": {
      "text/plain": [
       "RandomForestClassifier(max_depth=10, n_estimators=30, random_state=0)"
      ]
     },
     "execution_count": 25,
     "metadata": {},
     "output_type": "execute_result"
    }
   ],
   "source": [
    "classifier.fit(X_train, Y_train)"
   ]
  },
  {
   "cell_type": "markdown",
   "id": "pleased-insight",
   "metadata": {
    "pycharm": {
     "name": "#%% md\n"
    }
   },
   "source": [
    "* Make a predict"
   ]
  },
  {
   "cell_type": "code",
   "execution_count": 26,
   "id": "major-sculpture",
   "metadata": {
    "pycharm": {
     "name": "#%%\n"
    }
   },
   "outputs": [],
   "source": [
    "prediction = classifier.predict(X_test)"
   ]
  },
  {
   "cell_type": "code",
   "execution_count": 27,
   "id": "extended-client",
   "metadata": {
    "pycharm": {
     "name": "#%%\n"
    }
   },
   "outputs": [
    {
     "data": {
      "text/html": [
       "<div>\n",
       "<style scoped>\n",
       "    .dataframe tbody tr th:only-of-type {\n",
       "        vertical-align: middle;\n",
       "    }\n",
       "\n",
       "    .dataframe tbody tr th {\n",
       "        vertical-align: top;\n",
       "    }\n",
       "\n",
       "    .dataframe thead th {\n",
       "        text-align: right;\n",
       "    }\n",
       "</style>\n",
       "<table border=\"1\" class=\"dataframe\">\n",
       "  <thead>\n",
       "    <tr style=\"text-align: right;\">\n",
       "      <th></th>\n",
       "      <th>Measure</th>\n",
       "      <th>Source</th>\n",
       "    </tr>\n",
       "  </thead>\n",
       "  <tbody>\n",
       "    <tr>\n",
       "      <th>0</th>\n",
       "      <td>Accuracy</td>\n",
       "      <td>0.875</td>\n",
       "    </tr>\n",
       "    <tr>\n",
       "      <th>1</th>\n",
       "      <td>Precision</td>\n",
       "      <td>0.828</td>\n",
       "    </tr>\n",
       "    <tr>\n",
       "      <th>2</th>\n",
       "      <td>Recall</td>\n",
       "      <td>0.760</td>\n",
       "    </tr>\n",
       "    <tr>\n",
       "      <th>3</th>\n",
       "      <td>F1</td>\n",
       "      <td>0.792</td>\n",
       "    </tr>\n",
       "  </tbody>\n",
       "</table>\n",
       "</div>"
      ],
      "text/plain": [
       "     Measure  Source\n",
       "0   Accuracy   0.875\n",
       "1  Precision   0.828\n",
       "2     Recall   0.760\n",
       "3         F1   0.792"
      ]
     },
     "metadata": {},
     "output_type": "display_data"
    }
   ],
   "source": [
    "display(evaluate_model(prediction, Y_test))"
   ]
  },
  {
   "cell_type": "code",
   "execution_count": 29,
   "id": "studied-reproduction",
   "metadata": {
    "pycharm": {
     "name": "#%%\n"
    }
   },
   "outputs": [
    {
     "data": {
      "text/plain": [
       "'Feature Importance'"
      ]
     },
     "metadata": {},
     "output_type": "display_data"
    },
    {
     "data": {
      "image/png": "[encoded data removed]",
      "text/plain": [
       "<Figure size 432x288 with 1 Axes>"
      ]
     },
     "metadata": {},
     "output_type": "display_data"
    }
   ],
   "source": [
    "columns = ['CN', 'AA', 'HP', 'HD', 'JC', 'LHN', 'RA', 'SA', 'SO', 'avg_deg']\n",
    "feature_importance(columns, classifier)"
   ]
  },
  {
   "cell_type": "markdown",
   "id": "correct-bloom",
   "metadata": {
    "pycharm": {
     "name": "#%% md\n"
    }
   },
   "source": [
    "# Predictiong Graph in 2014"
   ]
  },
  {
   "cell_type": "markdown",
   "id": "right-motorcycle",
   "metadata": {},
   "source": [
    "* Load training and testing dataframes"
   ]
  },
  {
   "cell_type": "code",
   "execution_count": 30,
   "id": "sharing-credits",
   "metadata": {
    "pycharm": {
     "name": "#%%\n"
    }
   },
   "outputs": [
    {
     "data": {
      "text/html": [
       "<div>\n",
       "<style scoped>\n",
       "    .dataframe tbody tr th:only-of-type {\n",
       "        vertical-align: middle;\n",
       "    }\n",
       "\n",
       "    .dataframe tbody tr th {\n",
       "        vertical-align: top;\n",
       "    }\n",
       "\n",
       "    .dataframe thead th {\n",
       "        text-align: right;\n",
       "    }\n",
       "</style>\n",
       "<table border=\"1\" class=\"dataframe\">\n",
       "  <thead>\n",
       "    <tr style=\"text-align: right;\">\n",
       "      <th></th>\n",
       "      <th>CN</th>\n",
       "      <th>AA</th>\n",
       "      <th>HP</th>\n",
       "      <th>HD</th>\n",
       "      <th>JC</th>\n",
       "      <th>LHN</th>\n",
       "      <th>RA</th>\n",
       "      <th>SA</th>\n",
       "      <th>SO</th>\n",
       "      <th>avg_deg</th>\n",
       "    </tr>\n",
       "  </thead>\n",
       "  <tbody>\n",
       "    <tr>\n",
       "      <th>0</th>\n",
       "      <td>1379.000</td>\n",
       "      <td>163.384</td>\n",
       "      <td>0.999</td>\n",
       "      <td>0.945</td>\n",
       "      <td>0.945</td>\n",
       "      <td>0.001</td>\n",
       "      <td>4.845</td>\n",
       "      <td>4.845</td>\n",
       "      <td>0.971</td>\n",
       "      <td>1419.500</td>\n",
       "    </tr>\n",
       "    <tr>\n",
       "      <th>1</th>\n",
       "      <td>1379.000</td>\n",
       "      <td>163.384</td>\n",
       "      <td>0.999</td>\n",
       "      <td>0.945</td>\n",
       "      <td>0.945</td>\n",
       "      <td>0.001</td>\n",
       "      <td>4.845</td>\n",
       "      <td>4.845</td>\n",
       "      <td>0.971</td>\n",
       "      <td>1419.500</td>\n",
       "    </tr>\n",
       "    <tr>\n",
       "      <th>2</th>\n",
       "      <td>1363.000</td>\n",
       "      <td>160.895</td>\n",
       "      <td>0.988</td>\n",
       "      <td>0.963</td>\n",
       "      <td>0.952</td>\n",
       "      <td>0.001</td>\n",
       "      <td>4.650</td>\n",
       "      <td>4.650</td>\n",
       "      <td>0.975</td>\n",
       "      <td>1397.500</td>\n",
       "    </tr>\n",
       "    <tr>\n",
       "      <th>3</th>\n",
       "      <td>1379.000</td>\n",
       "      <td>163.384</td>\n",
       "      <td>0.999</td>\n",
       "      <td>0.945</td>\n",
       "      <td>0.945</td>\n",
       "      <td>0.001</td>\n",
       "      <td>4.845</td>\n",
       "      <td>4.845</td>\n",
       "      <td>0.971</td>\n",
       "      <td>1419.500</td>\n",
       "    </tr>\n",
       "    <tr>\n",
       "      <th>4</th>\n",
       "      <td>1379.000</td>\n",
       "      <td>163.384</td>\n",
       "      <td>0.999</td>\n",
       "      <td>0.945</td>\n",
       "      <td>0.945</td>\n",
       "      <td>0.001</td>\n",
       "      <td>4.845</td>\n",
       "      <td>4.845</td>\n",
       "      <td>0.971</td>\n",
       "      <td>1419.500</td>\n",
       "    </tr>\n",
       "  </tbody>\n",
       "</table>\n",
       "</div>"
      ],
      "text/plain": [
       "        CN      AA    HP    HD    JC   LHN    RA    SA    SO  avg_deg\n",
       "0 1379.000 163.384 0.999 0.945 0.945 0.001 4.845 4.845 0.971 1419.500\n",
       "1 1379.000 163.384 0.999 0.945 0.945 0.001 4.845 4.845 0.971 1419.500\n",
       "2 1363.000 160.895 0.988 0.963 0.952 0.001 4.650 4.650 0.975 1397.500\n",
       "3 1379.000 163.384 0.999 0.945 0.945 0.001 4.845 4.845 0.971 1419.500\n",
       "4 1379.000 163.384 0.999 0.945 0.945 0.001 4.845 4.845 0.971 1419.500"
      ]
     },
     "execution_count": 30,
     "metadata": {},
     "output_type": "execute_result"
    }
   ],
   "source": [
    "with open(\"/home/c6/Desktop/OpenWPM/jsons/Prediction_new/non_temporal_unweighted/2014/train/dataframe.csv\", newline='') as csvfile:\n",
    "    training_df = pd.read_csv(csvfile)\n",
    "    \n",
    "training_df['avg_deg'] = (training_df['deg_e1']+training_df['deg_e2'])/2\n",
    "training_df = training_df.drop(['deg_e1', 'deg_e2'], axis=1)\n",
    "training_df = training_df[['e1','e2','CN','AA','HP','HD','JC','LHN','RA','SA','SO','avg_deg','label']]\n",
    "\n",
    "X_train = training_df.iloc[:,2:-1]\n",
    "Y_train = training_df.iloc[:]['label']\n",
    "\n",
    "X_train.head()\n",
    "\n",
    "with open(\"/home/c6/Desktop/OpenWPM/jsons/Prediction_new/non_temporal_unweighted/2014/test/dataframe.csv\", newline='') as csvfile:\n",
    "    testing_df = pd.read_csv(csvfile)\n",
    "\n",
    "testing_df['avg_deg'] = (testing_df['deg_e1']+testing_df['deg_e2'])/2\n",
    "testing_df = testing_df.drop(['deg_e1', 'deg_e2'], axis=1)\n",
    "testing_df = testing_df[['e1','e2','CN','AA','HP','HD','JC','LHN','RA','SA','SO','avg_deg','label']]\n",
    "\n",
    "\n",
    "X_test = testing_df.iloc[:,2:-1]\n",
    "Y_test = testing_df.iloc[:]['label']\n",
    "\n",
    "X_test.head()"
   ]
  },
  {
   "cell_type": "code",
   "execution_count": 31,
   "id": "express-carroll",
   "metadata": {
    "pycharm": {
     "name": "#%%\n"
    }
   },
   "outputs": [
    {
     "data": {
      "text/html": [
       "<div>\n",
       "<style scoped>\n",
       "    .dataframe tbody tr th:only-of-type {\n",
       "        vertical-align: middle;\n",
       "    }\n",
       "\n",
       "    .dataframe tbody tr th {\n",
       "        vertical-align: top;\n",
       "    }\n",
       "\n",
       "    .dataframe thead th {\n",
       "        text-align: right;\n",
       "    }\n",
       "</style>\n",
       "<table border=\"1\" class=\"dataframe\">\n",
       "  <thead>\n",
       "    <tr style=\"text-align: right;\">\n",
       "      <th></th>\n",
       "      <th>CN</th>\n",
       "      <th>AA</th>\n",
       "      <th>HP</th>\n",
       "      <th>HD</th>\n",
       "      <th>JC</th>\n",
       "      <th>LHN</th>\n",
       "      <th>RA</th>\n",
       "      <th>SA</th>\n",
       "      <th>SO</th>\n",
       "      <th>avg_deg</th>\n",
       "    </tr>\n",
       "  </thead>\n",
       "  <tbody>\n",
       "    <tr>\n",
       "      <th>0</th>\n",
       "      <td>1379.000</td>\n",
       "      <td>163.384</td>\n",
       "      <td>0.999</td>\n",
       "      <td>0.945</td>\n",
       "      <td>0.945</td>\n",
       "      <td>0.001</td>\n",
       "      <td>4.845</td>\n",
       "      <td>4.845</td>\n",
       "      <td>0.971</td>\n",
       "      <td>1419.500</td>\n",
       "    </tr>\n",
       "    <tr>\n",
       "      <th>1</th>\n",
       "      <td>1379.000</td>\n",
       "      <td>163.384</td>\n",
       "      <td>0.999</td>\n",
       "      <td>0.945</td>\n",
       "      <td>0.945</td>\n",
       "      <td>0.001</td>\n",
       "      <td>4.845</td>\n",
       "      <td>4.845</td>\n",
       "      <td>0.971</td>\n",
       "      <td>1419.500</td>\n",
       "    </tr>\n",
       "    <tr>\n",
       "      <th>2</th>\n",
       "      <td>1363.000</td>\n",
       "      <td>160.895</td>\n",
       "      <td>0.988</td>\n",
       "      <td>0.963</td>\n",
       "      <td>0.952</td>\n",
       "      <td>0.001</td>\n",
       "      <td>4.650</td>\n",
       "      <td>4.650</td>\n",
       "      <td>0.975</td>\n",
       "      <td>1397.500</td>\n",
       "    </tr>\n",
       "    <tr>\n",
       "      <th>3</th>\n",
       "      <td>1379.000</td>\n",
       "      <td>163.384</td>\n",
       "      <td>0.999</td>\n",
       "      <td>0.945</td>\n",
       "      <td>0.945</td>\n",
       "      <td>0.001</td>\n",
       "      <td>4.845</td>\n",
       "      <td>4.845</td>\n",
       "      <td>0.971</td>\n",
       "      <td>1419.500</td>\n",
       "    </tr>\n",
       "    <tr>\n",
       "      <th>4</th>\n",
       "      <td>1379.000</td>\n",
       "      <td>163.384</td>\n",
       "      <td>0.999</td>\n",
       "      <td>0.945</td>\n",
       "      <td>0.945</td>\n",
       "      <td>0.001</td>\n",
       "      <td>4.845</td>\n",
       "      <td>4.845</td>\n",
       "      <td>0.971</td>\n",
       "      <td>1419.500</td>\n",
       "    </tr>\n",
       "  </tbody>\n",
       "</table>\n",
       "</div>"
      ],
      "text/plain": [
       "        CN      AA    HP    HD    JC   LHN    RA    SA    SO  avg_deg\n",
       "0 1379.000 163.384 0.999 0.945 0.945 0.001 4.845 4.845 0.971 1419.500\n",
       "1 1379.000 163.384 0.999 0.945 0.945 0.001 4.845 4.845 0.971 1419.500\n",
       "2 1363.000 160.895 0.988 0.963 0.952 0.001 4.650 4.650 0.975 1397.500\n",
       "3 1379.000 163.384 0.999 0.945 0.945 0.001 4.845 4.845 0.971 1419.500\n",
       "4 1379.000 163.384 0.999 0.945 0.945 0.001 4.845 4.845 0.971 1419.500"
      ]
     },
     "execution_count": 31,
     "metadata": {},
     "output_type": "execute_result"
    }
   ],
   "source": [
    "X_test.head()"
   ]
  },
  {
   "cell_type": "markdown",
   "id": "straight-century",
   "metadata": {
    "pycharm": {
     "name": "#%% md\n"
    }
   },
   "source": [
    "* define evaluation function"
   ]
  },
  {
   "cell_type": "code",
   "execution_count": 32,
   "id": "graduate-power",
   "metadata": {
    "pycharm": {
     "name": "#%%\n"
    }
   },
   "outputs": [],
   "source": [
    "def evaluate_model(predictions, actual):\n",
    "    return pd.DataFrame({\n",
    "        \"Measure\": [\"Accuracy\", \"Precision\", \"Recall\", \"F1\"],\n",
    "        \"Source\": [accuracy_score(actual, predictions), \n",
    "                   precision_score(actual, predictions), \n",
    "                   recall_score(actual, predictions),\n",
    "                   f1_score(actual, predictions)]\n",
    "    })"
   ]
  },
  {
   "cell_type": "markdown",
   "id": "fabulous-angel",
   "metadata": {
    "pycharm": {
     "name": "#%% md\n"
    }
   },
   "source": [
    "* Find important features"
   ]
  },
  {
   "cell_type": "code",
   "execution_count": 33,
   "id": "received-heath",
   "metadata": {
    "pycharm": {
     "name": "#%%\n"
    }
   },
   "outputs": [],
   "source": [
    "def feature_importance(columns, classifier):\n",
    "    display(\"Feature Importance\")\n",
    "    df = pd.DataFrame({\"Features\": columns,\n",
    "                      \"Importance\": classifier.feature_importances_})\n",
    "    df = df.sort_values(\"Importance\", ascending=False)\n",
    "    ax = df.plot(kind='bar', x='Features', y='Importance', legend=None)\n",
    "    #ax.xaxist.set_label_text(\"\")\n",
    "    plt.tight_layout()\n",
    "    plt.show"
   ]
  },
  {
   "cell_type": "markdown",
   "id": "talented-north",
   "metadata": {
    "pycharm": {
     "name": "#%% md\n"
    }
   },
   "source": [
    "* choose a ML algorithm"
   ]
  },
  {
   "cell_type": "code",
   "execution_count": 34,
   "id": "reverse-signal",
   "metadata": {
    "pycharm": {
     "name": "#%%\n"
    }
   },
   "outputs": [],
   "source": [
    "classifier = RandomForestClassifier(n_estimators=30, max_depth=10, random_state=0)"
   ]
  },
  {
   "cell_type": "markdown",
   "id": "continental-enterprise",
   "metadata": {
    "pycharm": {
     "name": "#%% md\n"
    }
   },
   "source": [
    "* Training"
   ]
  },
  {
   "cell_type": "code",
   "execution_count": 35,
   "id": "civilian-dream",
   "metadata": {
    "pycharm": {
     "name": "#%%\n"
    }
   },
   "outputs": [
    {
     "data": {
      "text/plain": [
       "RandomForestClassifier(max_depth=10, n_estimators=30, random_state=0)"
      ]
     },
     "execution_count": 35,
     "metadata": {},
     "output_type": "execute_result"
    }
   ],
   "source": [
    "classifier.fit(X_train, Y_train)"
   ]
  },
  {
   "cell_type": "markdown",
   "id": "weighted-spell",
   "metadata": {
    "pycharm": {
     "name": "#%% md\n"
    }
   },
   "source": [
    "* Make a predict"
   ]
  },
  {
   "cell_type": "code",
   "execution_count": 36,
   "id": "instructional-camcorder",
   "metadata": {
    "pycharm": {
     "name": "#%%\n"
    }
   },
   "outputs": [],
   "source": [
    "prediction = classifier.predict(X_test)"
   ]
  },
  {
   "cell_type": "code",
   "execution_count": 37,
   "id": "attempted-joining",
   "metadata": {
    "pycharm": {
     "name": "#%%\n"
    }
   },
   "outputs": [
    {
     "data": {
      "text/html": [
       "<div>\n",
       "<style scoped>\n",
       "    .dataframe tbody tr th:only-of-type {\n",
       "        vertical-align: middle;\n",
       "    }\n",
       "\n",
       "    .dataframe tbody tr th {\n",
       "        vertical-align: top;\n",
       "    }\n",
       "\n",
       "    .dataframe thead th {\n",
       "        text-align: right;\n",
       "    }\n",
       "</style>\n",
       "<table border=\"1\" class=\"dataframe\">\n",
       "  <thead>\n",
       "    <tr style=\"text-align: right;\">\n",
       "      <th></th>\n",
       "      <th>Measure</th>\n",
       "      <th>Source</th>\n",
       "    </tr>\n",
       "  </thead>\n",
       "  <tbody>\n",
       "    <tr>\n",
       "      <th>0</th>\n",
       "      <td>Accuracy</td>\n",
       "      <td>0.853</td>\n",
       "    </tr>\n",
       "    <tr>\n",
       "      <th>1</th>\n",
       "      <td>Precision</td>\n",
       "      <td>0.892</td>\n",
       "    </tr>\n",
       "    <tr>\n",
       "      <th>2</th>\n",
       "      <td>Recall</td>\n",
       "      <td>0.651</td>\n",
       "    </tr>\n",
       "    <tr>\n",
       "      <th>3</th>\n",
       "      <td>F1</td>\n",
       "      <td>0.752</td>\n",
       "    </tr>\n",
       "  </tbody>\n",
       "</table>\n",
       "</div>"
      ],
      "text/plain": [
       "     Measure  Source\n",
       "0   Accuracy   0.853\n",
       "1  Precision   0.892\n",
       "2     Recall   0.651\n",
       "3         F1   0.752"
      ]
     },
     "metadata": {},
     "output_type": "display_data"
    }
   ],
   "source": [
    "display(evaluate_model(prediction, Y_test))"
   ]
  },
  {
   "cell_type": "code",
   "execution_count": 38,
   "id": "olympic-light",
   "metadata": {
    "pycharm": {
     "name": "#%%\n"
    }
   },
   "outputs": [
    {
     "data": {
      "text/plain": [
       "'Feature Importance'"
      ]
     },
     "metadata": {},
     "output_type": "display_data"
    },
    {
     "data": {
      "image/png": "[encoded data removed]",
      "text/plain": [
       "<Figure size 432x288 with 1 Axes>"
      ]
     },
     "metadata": {},
     "output_type": "display_data"
    }
   ],
   "source": [
    "columns = ['CN', 'AA', 'HP', 'HD', 'JC', 'LHN', 'RA', 'SA', 'SO', 'avg_deg']\n",
    "feature_importance(columns, classifier)"
   ]
  },
  {
   "cell_type": "markdown",
   "id": "champion-gabriel",
   "metadata": {
    "pycharm": {
     "name": "#%% md\n"
    }
   },
   "source": [
    "# Predictiong Graph in 2015"
   ]
  },
  {
   "cell_type": "markdown",
   "id": "final-lindsay",
   "metadata": {},
   "source": [
    "* Load training and testing dataframes"
   ]
  },
  {
   "cell_type": "code",
   "execution_count": 39,
   "id": "baking-fusion",
   "metadata": {
    "pycharm": {
     "name": "#%%\n"
    }
   },
   "outputs": [
    {
     "data": {
      "text/html": [
       "<div>\n",
       "<style scoped>\n",
       "    .dataframe tbody tr th:only-of-type {\n",
       "        vertical-align: middle;\n",
       "    }\n",
       "\n",
       "    .dataframe tbody tr th {\n",
       "        vertical-align: top;\n",
       "    }\n",
       "\n",
       "    .dataframe thead th {\n",
       "        text-align: right;\n",
       "    }\n",
       "</style>\n",
       "<table border=\"1\" class=\"dataframe\">\n",
       "  <thead>\n",
       "    <tr style=\"text-align: right;\">\n",
       "      <th></th>\n",
       "      <th>CN</th>\n",
       "      <th>AA</th>\n",
       "      <th>HP</th>\n",
       "      <th>HD</th>\n",
       "      <th>JC</th>\n",
       "      <th>LHN</th>\n",
       "      <th>RA</th>\n",
       "      <th>SA</th>\n",
       "      <th>SO</th>\n",
       "      <th>avg_deg</th>\n",
       "    </tr>\n",
       "  </thead>\n",
       "  <tbody>\n",
       "    <tr>\n",
       "      <th>0</th>\n",
       "      <td>1790.000</td>\n",
       "      <td>203.975</td>\n",
       "      <td>0.999</td>\n",
       "      <td>0.939</td>\n",
       "      <td>0.938</td>\n",
       "      <td>0.001</td>\n",
       "      <td>5.032</td>\n",
       "      <td>5.032</td>\n",
       "      <td>0.968</td>\n",
       "      <td>1849.000</td>\n",
       "    </tr>\n",
       "    <tr>\n",
       "      <th>1</th>\n",
       "      <td>1790.000</td>\n",
       "      <td>203.975</td>\n",
       "      <td>0.999</td>\n",
       "      <td>0.939</td>\n",
       "      <td>0.938</td>\n",
       "      <td>0.001</td>\n",
       "      <td>5.032</td>\n",
       "      <td>5.032</td>\n",
       "      <td>0.968</td>\n",
       "      <td>1849.000</td>\n",
       "    </tr>\n",
       "    <tr>\n",
       "      <th>2</th>\n",
       "      <td>1779.000</td>\n",
       "      <td>202.244</td>\n",
       "      <td>0.993</td>\n",
       "      <td>0.969</td>\n",
       "      <td>0.963</td>\n",
       "      <td>0.001</td>\n",
       "      <td>4.889</td>\n",
       "      <td>4.889</td>\n",
       "      <td>0.981</td>\n",
       "      <td>1813.000</td>\n",
       "    </tr>\n",
       "    <tr>\n",
       "      <th>3</th>\n",
       "      <td>1790.000</td>\n",
       "      <td>203.975</td>\n",
       "      <td>0.999</td>\n",
       "      <td>0.948</td>\n",
       "      <td>0.947</td>\n",
       "      <td>0.001</td>\n",
       "      <td>5.032</td>\n",
       "      <td>5.032</td>\n",
       "      <td>0.973</td>\n",
       "      <td>1840.000</td>\n",
       "    </tr>\n",
       "    <tr>\n",
       "      <th>4</th>\n",
       "      <td>1790.000</td>\n",
       "      <td>203.975</td>\n",
       "      <td>0.999</td>\n",
       "      <td>0.939</td>\n",
       "      <td>0.938</td>\n",
       "      <td>0.001</td>\n",
       "      <td>5.032</td>\n",
       "      <td>5.032</td>\n",
       "      <td>0.968</td>\n",
       "      <td>1849.000</td>\n",
       "    </tr>\n",
       "  </tbody>\n",
       "</table>\n",
       "</div>"
      ],
      "text/plain": [
       "        CN      AA    HP    HD    JC   LHN    RA    SA    SO  avg_deg\n",
       "0 1790.000 203.975 0.999 0.939 0.938 0.001 5.032 5.032 0.968 1849.000\n",
       "1 1790.000 203.975 0.999 0.939 0.938 0.001 5.032 5.032 0.968 1849.000\n",
       "2 1779.000 202.244 0.993 0.969 0.963 0.001 4.889 4.889 0.981 1813.000\n",
       "3 1790.000 203.975 0.999 0.948 0.947 0.001 5.032 5.032 0.973 1840.000\n",
       "4 1790.000 203.975 0.999 0.939 0.938 0.001 5.032 5.032 0.968 1849.000"
      ]
     },
     "execution_count": 39,
     "metadata": {},
     "output_type": "execute_result"
    }
   ],
   "source": [
    "with open(\"/home/c6/Desktop/OpenWPM/jsons/Prediction_new/non_temporal_unweighted/2015/train/dataframe.csv\", newline='') as csvfile:\n",
    "    training_df = pd.read_csv(csvfile)\n",
    "    \n",
    "training_df['avg_deg'] = (training_df['deg_e1']+training_df['deg_e2'])/2\n",
    "training_df = training_df.drop(['deg_e1', 'deg_e2'], axis=1)\n",
    "training_df = training_df[['e1','e2','CN','AA','HP','HD','JC','LHN','RA','SA','SO','avg_deg','label']]\n",
    "\n",
    "X_train = training_df.iloc[:,2:-1]\n",
    "Y_train = training_df.iloc[:]['label']\n",
    "\n",
    "X_train.head()\n",
    "\n",
    "with open(\"/home/c6/Desktop/OpenWPM/jsons/Prediction_new/non_temporal_unweighted/2015/test/dataframe.csv\", newline='') as csvfile:\n",
    "    testing_df = pd.read_csv(csvfile)\n",
    "\n",
    "testing_df['avg_deg'] = (testing_df['deg_e1']+testing_df['deg_e2'])/2\n",
    "testing_df = testing_df.drop(['deg_e1', 'deg_e2'], axis=1)\n",
    "testing_df = testing_df[['e1','e2','CN','AA','HP','HD','JC','LHN','RA','SA','SO','avg_deg','label']]\n",
    "\n",
    "\n",
    "X_test = testing_df.iloc[:,2:-1]\n",
    "Y_test = testing_df.iloc[:]['label']\n",
    "\n",
    "X_test.head()"
   ]
  },
  {
   "cell_type": "code",
   "execution_count": 40,
   "id": "prescribed-subdivision",
   "metadata": {
    "pycharm": {
     "name": "#%%\n"
    }
   },
   "outputs": [
    {
     "data": {
      "text/html": [
       "<div>\n",
       "<style scoped>\n",
       "    .dataframe tbody tr th:only-of-type {\n",
       "        vertical-align: middle;\n",
       "    }\n",
       "\n",
       "    .dataframe tbody tr th {\n",
       "        vertical-align: top;\n",
       "    }\n",
       "\n",
       "    .dataframe thead th {\n",
       "        text-align: right;\n",
       "    }\n",
       "</style>\n",
       "<table border=\"1\" class=\"dataframe\">\n",
       "  <thead>\n",
       "    <tr style=\"text-align: right;\">\n",
       "      <th></th>\n",
       "      <th>CN</th>\n",
       "      <th>AA</th>\n",
       "      <th>HP</th>\n",
       "      <th>HD</th>\n",
       "      <th>JC</th>\n",
       "      <th>LHN</th>\n",
       "      <th>RA</th>\n",
       "      <th>SA</th>\n",
       "      <th>SO</th>\n",
       "      <th>avg_deg</th>\n",
       "    </tr>\n",
       "  </thead>\n",
       "  <tbody>\n",
       "    <tr>\n",
       "      <th>0</th>\n",
       "      <td>1790.000</td>\n",
       "      <td>203.975</td>\n",
       "      <td>0.999</td>\n",
       "      <td>0.939</td>\n",
       "      <td>0.938</td>\n",
       "      <td>0.001</td>\n",
       "      <td>5.032</td>\n",
       "      <td>5.032</td>\n",
       "      <td>0.968</td>\n",
       "      <td>1849.000</td>\n",
       "    </tr>\n",
       "    <tr>\n",
       "      <th>1</th>\n",
       "      <td>1790.000</td>\n",
       "      <td>203.975</td>\n",
       "      <td>0.999</td>\n",
       "      <td>0.939</td>\n",
       "      <td>0.938</td>\n",
       "      <td>0.001</td>\n",
       "      <td>5.032</td>\n",
       "      <td>5.032</td>\n",
       "      <td>0.968</td>\n",
       "      <td>1849.000</td>\n",
       "    </tr>\n",
       "    <tr>\n",
       "      <th>2</th>\n",
       "      <td>1779.000</td>\n",
       "      <td>202.244</td>\n",
       "      <td>0.993</td>\n",
       "      <td>0.969</td>\n",
       "      <td>0.963</td>\n",
       "      <td>0.001</td>\n",
       "      <td>4.889</td>\n",
       "      <td>4.889</td>\n",
       "      <td>0.981</td>\n",
       "      <td>1813.000</td>\n",
       "    </tr>\n",
       "    <tr>\n",
       "      <th>3</th>\n",
       "      <td>1790.000</td>\n",
       "      <td>203.975</td>\n",
       "      <td>0.999</td>\n",
       "      <td>0.948</td>\n",
       "      <td>0.947</td>\n",
       "      <td>0.001</td>\n",
       "      <td>5.032</td>\n",
       "      <td>5.032</td>\n",
       "      <td>0.973</td>\n",
       "      <td>1840.000</td>\n",
       "    </tr>\n",
       "    <tr>\n",
       "      <th>4</th>\n",
       "      <td>1790.000</td>\n",
       "      <td>203.975</td>\n",
       "      <td>0.999</td>\n",
       "      <td>0.939</td>\n",
       "      <td>0.938</td>\n",
       "      <td>0.001</td>\n",
       "      <td>5.032</td>\n",
       "      <td>5.032</td>\n",
       "      <td>0.968</td>\n",
       "      <td>1849.000</td>\n",
       "    </tr>\n",
       "  </tbody>\n",
       "</table>\n",
       "</div>"
      ],
      "text/plain": [
       "        CN      AA    HP    HD    JC   LHN    RA    SA    SO  avg_deg\n",
       "0 1790.000 203.975 0.999 0.939 0.938 0.001 5.032 5.032 0.968 1849.000\n",
       "1 1790.000 203.975 0.999 0.939 0.938 0.001 5.032 5.032 0.968 1849.000\n",
       "2 1779.000 202.244 0.993 0.969 0.963 0.001 4.889 4.889 0.981 1813.000\n",
       "3 1790.000 203.975 0.999 0.948 0.947 0.001 5.032 5.032 0.973 1840.000\n",
       "4 1790.000 203.975 0.999 0.939 0.938 0.001 5.032 5.032 0.968 1849.000"
      ]
     },
     "execution_count": 40,
     "metadata": {},
     "output_type": "execute_result"
    }
   ],
   "source": [
    "X_test.head()"
   ]
  },
  {
   "cell_type": "markdown",
   "id": "african-villa",
   "metadata": {
    "pycharm": {
     "name": "#%% md\n"
    }
   },
   "source": [
    "* define evaluation function"
   ]
  },
  {
   "cell_type": "code",
   "execution_count": 41,
   "id": "normal-founder",
   "metadata": {
    "pycharm": {
     "name": "#%%\n"
    }
   },
   "outputs": [],
   "source": [
    "def evaluate_model(predictions, actual):\n",
    "    return pd.DataFrame({\n",
    "        \"Measure\": [\"Accuracy\", \"Precision\", \"Recall\", \"F1\"],\n",
    "        \"Source\": [accuracy_score(actual, predictions), \n",
    "                   precision_score(actual, predictions), \n",
    "                   recall_score(actual, predictions),\n",
    "                   f1_score(actual, predictions)]\n",
    "    })"
   ]
  },
  {
   "cell_type": "markdown",
   "id": "photographic-attempt",
   "metadata": {
    "pycharm": {
     "name": "#%% md\n"
    }
   },
   "source": [
    "* Find important features"
   ]
  },
  {
   "cell_type": "code",
   "execution_count": 42,
   "id": "bibliographic-harbor",
   "metadata": {
    "pycharm": {
     "name": "#%%\n"
    }
   },
   "outputs": [],
   "source": [
    "def feature_importance(columns, classifier):\n",
    "    display(\"Feature Importance\")\n",
    "    df = pd.DataFrame({\"Features\": columns,\n",
    "                      \"Importance\": classifier.feature_importances_})\n",
    "    df = df.sort_values(\"Importance\", ascending=False)\n",
    "    ax = df.plot(kind='bar', x='Features', y='Importance', legend=None)\n",
    "    #ax.xaxist.set_label_text(\"\")\n",
    "    plt.tight_layout()\n",
    "    plt.show"
   ]
  },
  {
   "cell_type": "markdown",
   "id": "afraid-potential",
   "metadata": {
    "pycharm": {
     "name": "#%% md\n"
    }
   },
   "source": [
    "* choose a ML algorithm"
   ]
  },
  {
   "cell_type": "code",
   "execution_count": 43,
   "id": "circular-elizabeth",
   "metadata": {
    "pycharm": {
     "name": "#%%\n"
    }
   },
   "outputs": [],
   "source": [
    "classifier = RandomForestClassifier(n_estimators=30, max_depth=10, random_state=0)"
   ]
  },
  {
   "cell_type": "markdown",
   "id": "nearby-society",
   "metadata": {
    "pycharm": {
     "name": "#%% md\n"
    }
   },
   "source": [
    "* Training"
   ]
  },
  {
   "cell_type": "code",
   "execution_count": 44,
   "id": "competitive-commodity",
   "metadata": {
    "pycharm": {
     "name": "#%%\n"
    }
   },
   "outputs": [
    {
     "data": {
      "text/plain": [
       "RandomForestClassifier(max_depth=10, n_estimators=30, random_state=0)"
      ]
     },
     "execution_count": 44,
     "metadata": {},
     "output_type": "execute_result"
    }
   ],
   "source": [
    "classifier.fit(X_train, Y_train)"
   ]
  },
  {
   "cell_type": "markdown",
   "id": "liked-grain",
   "metadata": {
    "pycharm": {
     "name": "#%% md\n"
    }
   },
   "source": [
    "* Make a predict"
   ]
  },
  {
   "cell_type": "code",
   "execution_count": 45,
   "id": "amber-savannah",
   "metadata": {
    "pycharm": {
     "name": "#%%\n"
    }
   },
   "outputs": [],
   "source": [
    "prediction = classifier.predict(X_test)"
   ]
  },
  {
   "cell_type": "code",
   "execution_count": 46,
   "id": "tutorial-jurisdiction",
   "metadata": {
    "pycharm": {
     "name": "#%%\n"
    }
   },
   "outputs": [
    {
     "data": {
      "text/html": [
       "<div>\n",
       "<style scoped>\n",
       "    .dataframe tbody tr th:only-of-type {\n",
       "        vertical-align: middle;\n",
       "    }\n",
       "\n",
       "    .dataframe tbody tr th {\n",
       "        vertical-align: top;\n",
       "    }\n",
       "\n",
       "    .dataframe thead th {\n",
       "        text-align: right;\n",
       "    }\n",
       "</style>\n",
       "<table border=\"1\" class=\"dataframe\">\n",
       "  <thead>\n",
       "    <tr style=\"text-align: right;\">\n",
       "      <th></th>\n",
       "      <th>Measure</th>\n",
       "      <th>Source</th>\n",
       "    </tr>\n",
       "  </thead>\n",
       "  <tbody>\n",
       "    <tr>\n",
       "      <th>0</th>\n",
       "      <td>Accuracy</td>\n",
       "      <td>0.852</td>\n",
       "    </tr>\n",
       "    <tr>\n",
       "      <th>1</th>\n",
       "      <td>Precision</td>\n",
       "      <td>0.780</td>\n",
       "    </tr>\n",
       "    <tr>\n",
       "      <th>2</th>\n",
       "      <td>Recall</td>\n",
       "      <td>0.733</td>\n",
       "    </tr>\n",
       "    <tr>\n",
       "      <th>3</th>\n",
       "      <td>F1</td>\n",
       "      <td>0.756</td>\n",
       "    </tr>\n",
       "  </tbody>\n",
       "</table>\n",
       "</div>"
      ],
      "text/plain": [
       "     Measure  Source\n",
       "0   Accuracy   0.852\n",
       "1  Precision   0.780\n",
       "2     Recall   0.733\n",
       "3         F1   0.756"
      ]
     },
     "metadata": {},
     "output_type": "display_data"
    }
   ],
   "source": [
    "display(evaluate_model(prediction, Y_test))"
   ]
  },
  {
   "cell_type": "code",
   "execution_count": 47,
   "id": "proud-requirement",
   "metadata": {
    "pycharm": {
     "name": "#%%\n"
    }
   },
   "outputs": [
    {
     "data": {
      "text/plain": [
       "'Feature Importance'"
      ]
     },
     "metadata": {},
     "output_type": "display_data"
    },
    {
     "data": {
      "image/png": "[encoded data removed]",
      "text/plain": [
       "<Figure size 432x288 with 1 Axes>"
      ]
     },
     "metadata": {},
     "output_type": "display_data"
    }
   ],
   "source": [
    "columns = ['CN', 'AA', 'HP', 'HD', 'JC', 'LHN', 'RA', 'SA', 'SO', 'avg_deg']\n",
    "feature_importance(columns, classifier)"
   ]
  },
  {
   "cell_type": "markdown",
   "id": "occupied-tennis",
   "metadata": {
    "pycharm": {
     "name": "#%% md\n"
    }
   },
   "source": [
    "# Predictiong Graph in 2016"
   ]
  },
  {
   "cell_type": "markdown",
   "id": "premium-justice",
   "metadata": {},
   "source": [
    "* Load training and testing dataframes"
   ]
  },
  {
   "cell_type": "code",
   "execution_count": 48,
   "id": "burning-royal",
   "metadata": {
    "pycharm": {
     "name": "#%%\n"
    }
   },
   "outputs": [
    {
     "data": {
      "text/html": [
       "<div>\n",
       "<style scoped>\n",
       "    .dataframe tbody tr th:only-of-type {\n",
       "        vertical-align: middle;\n",
       "    }\n",
       "\n",
       "    .dataframe tbody tr th {\n",
       "        vertical-align: top;\n",
       "    }\n",
       "\n",
       "    .dataframe thead th {\n",
       "        text-align: right;\n",
       "    }\n",
       "</style>\n",
       "<table border=\"1\" class=\"dataframe\">\n",
       "  <thead>\n",
       "    <tr style=\"text-align: right;\">\n",
       "      <th></th>\n",
       "      <th>CN</th>\n",
       "      <th>AA</th>\n",
       "      <th>HP</th>\n",
       "      <th>HD</th>\n",
       "      <th>JC</th>\n",
       "      <th>LHN</th>\n",
       "      <th>RA</th>\n",
       "      <th>SA</th>\n",
       "      <th>SO</th>\n",
       "      <th>avg_deg</th>\n",
       "    </tr>\n",
       "  </thead>\n",
       "  <tbody>\n",
       "    <tr>\n",
       "      <th>0</th>\n",
       "      <td>2120.000</td>\n",
       "      <td>233.553</td>\n",
       "      <td>1.000</td>\n",
       "      <td>0.952</td>\n",
       "      <td>0.951</td>\n",
       "      <td>0.000</td>\n",
       "      <td>4.825</td>\n",
       "      <td>4.825</td>\n",
       "      <td>0.975</td>\n",
       "      <td>2174.500</td>\n",
       "    </tr>\n",
       "    <tr>\n",
       "      <th>1</th>\n",
       "      <td>2120.000</td>\n",
       "      <td>233.553</td>\n",
       "      <td>1.000</td>\n",
       "      <td>0.952</td>\n",
       "      <td>0.951</td>\n",
       "      <td>0.000</td>\n",
       "      <td>4.825</td>\n",
       "      <td>4.825</td>\n",
       "      <td>0.975</td>\n",
       "      <td>2174.500</td>\n",
       "    </tr>\n",
       "    <tr>\n",
       "      <th>2</th>\n",
       "      <td>2102.000</td>\n",
       "      <td>230.939</td>\n",
       "      <td>0.991</td>\n",
       "      <td>0.976</td>\n",
       "      <td>0.967</td>\n",
       "      <td>0.000</td>\n",
       "      <td>4.660</td>\n",
       "      <td>4.660</td>\n",
       "      <td>0.983</td>\n",
       "      <td>2137.500</td>\n",
       "    </tr>\n",
       "    <tr>\n",
       "      <th>3</th>\n",
       "      <td>2120.000</td>\n",
       "      <td>233.553</td>\n",
       "      <td>1.000</td>\n",
       "      <td>0.956</td>\n",
       "      <td>0.956</td>\n",
       "      <td>0.000</td>\n",
       "      <td>4.825</td>\n",
       "      <td>4.825</td>\n",
       "      <td>0.977</td>\n",
       "      <td>2169.000</td>\n",
       "    </tr>\n",
       "    <tr>\n",
       "      <th>4</th>\n",
       "      <td>2120.000</td>\n",
       "      <td>233.553</td>\n",
       "      <td>1.000</td>\n",
       "      <td>0.952</td>\n",
       "      <td>0.951</td>\n",
       "      <td>0.000</td>\n",
       "      <td>4.825</td>\n",
       "      <td>4.825</td>\n",
       "      <td>0.975</td>\n",
       "      <td>2174.500</td>\n",
       "    </tr>\n",
       "  </tbody>\n",
       "</table>\n",
       "</div>"
      ],
      "text/plain": [
       "        CN      AA    HP    HD    JC   LHN    RA    SA    SO  avg_deg\n",
       "0 2120.000 233.553 1.000 0.952 0.951 0.000 4.825 4.825 0.975 2174.500\n",
       "1 2120.000 233.553 1.000 0.952 0.951 0.000 4.825 4.825 0.975 2174.500\n",
       "2 2102.000 230.939 0.991 0.976 0.967 0.000 4.660 4.660 0.983 2137.500\n",
       "3 2120.000 233.553 1.000 0.956 0.956 0.000 4.825 4.825 0.977 2169.000\n",
       "4 2120.000 233.553 1.000 0.952 0.951 0.000 4.825 4.825 0.975 2174.500"
      ]
     },
     "execution_count": 48,
     "metadata": {},
     "output_type": "execute_result"
    }
   ],
   "source": [
    "with open(\"/home/c6/Desktop/OpenWPM/jsons/Prediction_new/non_temporal_unweighted/2016/train/dataframe.csv\", newline='') as csvfile:\n",
    "    training_df = pd.read_csv(csvfile)\n",
    "    \n",
    "training_df['avg_deg'] = (training_df['deg_e1']+training_df['deg_e2'])/2\n",
    "training_df = training_df.drop(['deg_e1', 'deg_e2'], axis=1)\n",
    "training_df = training_df[['e1','e2','CN','AA','HP','HD','JC','LHN','RA','SA','SO','avg_deg','label']]\n",
    "\n",
    "X_train = training_df.iloc[:,2:-1]\n",
    "Y_train = training_df.iloc[:]['label']\n",
    "\n",
    "X_train.head()\n",
    "\n",
    "with open(\"/home/c6/Desktop/OpenWPM/jsons/Prediction_new/non_temporal_unweighted/2016/test/dataframe.csv\", newline='') as csvfile:\n",
    "    testing_df = pd.read_csv(csvfile)\n",
    "\n",
    "testing_df['avg_deg'] = (testing_df['deg_e1']+testing_df['deg_e2'])/2\n",
    "testing_df = testing_df.drop(['deg_e1', 'deg_e2'], axis=1)\n",
    "testing_df = testing_df[['e1','e2','CN','AA','HP','HD','JC','LHN','RA','SA','SO','avg_deg','label']]\n",
    "\n",
    "\n",
    "X_test = testing_df.iloc[:,2:-1]\n",
    "Y_test = testing_df.iloc[:]['label']\n",
    "\n",
    "X_test.head()"
   ]
  },
  {
   "cell_type": "code",
   "execution_count": 49,
   "id": "wrong-selection",
   "metadata": {
    "pycharm": {
     "name": "#%%\n"
    }
   },
   "outputs": [
    {
     "data": {
      "text/html": [
       "<div>\n",
       "<style scoped>\n",
       "    .dataframe tbody tr th:only-of-type {\n",
       "        vertical-align: middle;\n",
       "    }\n",
       "\n",
       "    .dataframe tbody tr th {\n",
       "        vertical-align: top;\n",
       "    }\n",
       "\n",
       "    .dataframe thead th {\n",
       "        text-align: right;\n",
       "    }\n",
       "</style>\n",
       "<table border=\"1\" class=\"dataframe\">\n",
       "  <thead>\n",
       "    <tr style=\"text-align: right;\">\n",
       "      <th></th>\n",
       "      <th>CN</th>\n",
       "      <th>AA</th>\n",
       "      <th>HP</th>\n",
       "      <th>HD</th>\n",
       "      <th>JC</th>\n",
       "      <th>LHN</th>\n",
       "      <th>RA</th>\n",
       "      <th>SA</th>\n",
       "      <th>SO</th>\n",
       "      <th>avg_deg</th>\n",
       "    </tr>\n",
       "  </thead>\n",
       "  <tbody>\n",
       "    <tr>\n",
       "      <th>0</th>\n",
       "      <td>2120.000</td>\n",
       "      <td>233.553</td>\n",
       "      <td>1.000</td>\n",
       "      <td>0.952</td>\n",
       "      <td>0.951</td>\n",
       "      <td>0.000</td>\n",
       "      <td>4.825</td>\n",
       "      <td>4.825</td>\n",
       "      <td>0.975</td>\n",
       "      <td>2174.500</td>\n",
       "    </tr>\n",
       "    <tr>\n",
       "      <th>1</th>\n",
       "      <td>2120.000</td>\n",
       "      <td>233.553</td>\n",
       "      <td>1.000</td>\n",
       "      <td>0.952</td>\n",
       "      <td>0.951</td>\n",
       "      <td>0.000</td>\n",
       "      <td>4.825</td>\n",
       "      <td>4.825</td>\n",
       "      <td>0.975</td>\n",
       "      <td>2174.500</td>\n",
       "    </tr>\n",
       "    <tr>\n",
       "      <th>2</th>\n",
       "      <td>2102.000</td>\n",
       "      <td>230.939</td>\n",
       "      <td>0.991</td>\n",
       "      <td>0.976</td>\n",
       "      <td>0.967</td>\n",
       "      <td>0.000</td>\n",
       "      <td>4.660</td>\n",
       "      <td>4.660</td>\n",
       "      <td>0.983</td>\n",
       "      <td>2137.500</td>\n",
       "    </tr>\n",
       "    <tr>\n",
       "      <th>3</th>\n",
       "      <td>2120.000</td>\n",
       "      <td>233.553</td>\n",
       "      <td>1.000</td>\n",
       "      <td>0.956</td>\n",
       "      <td>0.956</td>\n",
       "      <td>0.000</td>\n",
       "      <td>4.825</td>\n",
       "      <td>4.825</td>\n",
       "      <td>0.977</td>\n",
       "      <td>2169.000</td>\n",
       "    </tr>\n",
       "    <tr>\n",
       "      <th>4</th>\n",
       "      <td>2120.000</td>\n",
       "      <td>233.553</td>\n",
       "      <td>1.000</td>\n",
       "      <td>0.952</td>\n",
       "      <td>0.951</td>\n",
       "      <td>0.000</td>\n",
       "      <td>4.825</td>\n",
       "      <td>4.825</td>\n",
       "      <td>0.975</td>\n",
       "      <td>2174.500</td>\n",
       "    </tr>\n",
       "  </tbody>\n",
       "</table>\n",
       "</div>"
      ],
      "text/plain": [
       "        CN      AA    HP    HD    JC   LHN    RA    SA    SO  avg_deg\n",
       "0 2120.000 233.553 1.000 0.952 0.951 0.000 4.825 4.825 0.975 2174.500\n",
       "1 2120.000 233.553 1.000 0.952 0.951 0.000 4.825 4.825 0.975 2174.500\n",
       "2 2102.000 230.939 0.991 0.976 0.967 0.000 4.660 4.660 0.983 2137.500\n",
       "3 2120.000 233.553 1.000 0.956 0.956 0.000 4.825 4.825 0.977 2169.000\n",
       "4 2120.000 233.553 1.000 0.952 0.951 0.000 4.825 4.825 0.975 2174.500"
      ]
     },
     "execution_count": 49,
     "metadata": {},
     "output_type": "execute_result"
    }
   ],
   "source": [
    "X_test.head()"
   ]
  },
  {
   "cell_type": "markdown",
   "id": "faced-effectiveness",
   "metadata": {
    "pycharm": {
     "name": "#%% md\n"
    }
   },
   "source": [
    "* define evaluation function"
   ]
  },
  {
   "cell_type": "code",
   "execution_count": 50,
   "id": "right-filename",
   "metadata": {
    "pycharm": {
     "name": "#%%\n"
    }
   },
   "outputs": [],
   "source": [
    "def evaluate_model(predictions, actual):\n",
    "    return pd.DataFrame({\n",
    "        \"Measure\": [\"Accuracy\", \"Precision\", \"Recall\", \"F1\"],\n",
    "        \"Source\": [accuracy_score(actual, predictions), \n",
    "                   precision_score(actual, predictions), \n",
    "                   recall_score(actual, predictions),\n",
    "                   f1_score(actual, predictions)]\n",
    "    })"
   ]
  },
  {
   "cell_type": "markdown",
   "id": "opposed-topic",
   "metadata": {
    "pycharm": {
     "name": "#%% md\n"
    }
   },
   "source": [
    "* Find important features"
   ]
  },
  {
   "cell_type": "code",
   "execution_count": 51,
   "id": "liable-monkey",
   "metadata": {
    "pycharm": {
     "name": "#%%\n"
    }
   },
   "outputs": [],
   "source": [
    "def feature_importance(columns, classifier):\n",
    "    display(\"Feature Importance\")\n",
    "    df = pd.DataFrame({\"Features\": columns,\n",
    "                      \"Importance\": classifier.feature_importances_})\n",
    "    df = df.sort_values(\"Importance\", ascending=False)\n",
    "    ax = df.plot(kind='bar', x='Features', y='Importance', legend=None)\n",
    "    #ax.xaxist.set_label_text(\"\")\n",
    "    plt.tight_layout()\n",
    "    plt.show"
   ]
  },
  {
   "cell_type": "markdown",
   "id": "consistent-geneva",
   "metadata": {
    "pycharm": {
     "name": "#%% md\n"
    }
   },
   "source": [
    "* choose a ML algorithm"
   ]
  },
  {
   "cell_type": "code",
   "execution_count": 52,
   "id": "amber-monitor",
   "metadata": {
    "pycharm": {
     "name": "#%%\n"
    }
   },
   "outputs": [],
   "source": [
    "classifier = RandomForestClassifier(n_estimators=30, max_depth=10, random_state=0)"
   ]
  },
  {
   "cell_type": "markdown",
   "id": "white-deadline",
   "metadata": {
    "pycharm": {
     "name": "#%% md\n"
    }
   },
   "source": [
    "* Training"
   ]
  },
  {
   "cell_type": "code",
   "execution_count": 53,
   "id": "pressed-masters",
   "metadata": {
    "pycharm": {
     "name": "#%%\n"
    }
   },
   "outputs": [
    {
     "data": {
      "text/plain": [
       "RandomForestClassifier(max_depth=10, n_estimators=30, random_state=0)"
      ]
     },
     "execution_count": 53,
     "metadata": {},
     "output_type": "execute_result"
    }
   ],
   "source": [
    "classifier.fit(X_train, Y_train)"
   ]
  },
  {
   "cell_type": "markdown",
   "id": "least-birth",
   "metadata": {
    "pycharm": {
     "name": "#%% md\n"
    }
   },
   "source": [
    "* Make a predict"
   ]
  },
  {
   "cell_type": "code",
   "execution_count": 54,
   "id": "growing-greece",
   "metadata": {
    "pycharm": {
     "name": "#%%\n"
    }
   },
   "outputs": [],
   "source": [
    "prediction = classifier.predict(X_test)"
   ]
  },
  {
   "cell_type": "code",
   "execution_count": 55,
   "id": "radio-brunswick",
   "metadata": {
    "pycharm": {
     "name": "#%%\n"
    }
   },
   "outputs": [
    {
     "data": {
      "text/html": [
       "<div>\n",
       "<style scoped>\n",
       "    .dataframe tbody tr th:only-of-type {\n",
       "        vertical-align: middle;\n",
       "    }\n",
       "\n",
       "    .dataframe tbody tr th {\n",
       "        vertical-align: top;\n",
       "    }\n",
       "\n",
       "    .dataframe thead th {\n",
       "        text-align: right;\n",
       "    }\n",
       "</style>\n",
       "<table border=\"1\" class=\"dataframe\">\n",
       "  <thead>\n",
       "    <tr style=\"text-align: right;\">\n",
       "      <th></th>\n",
       "      <th>Measure</th>\n",
       "      <th>Source</th>\n",
       "    </tr>\n",
       "  </thead>\n",
       "  <tbody>\n",
       "    <tr>\n",
       "      <th>0</th>\n",
       "      <td>Accuracy</td>\n",
       "      <td>0.861</td>\n",
       "    </tr>\n",
       "    <tr>\n",
       "      <th>1</th>\n",
       "      <td>Precision</td>\n",
       "      <td>0.878</td>\n",
       "    </tr>\n",
       "    <tr>\n",
       "      <th>2</th>\n",
       "      <td>Recall</td>\n",
       "      <td>0.713</td>\n",
       "    </tr>\n",
       "    <tr>\n",
       "      <th>3</th>\n",
       "      <td>F1</td>\n",
       "      <td>0.787</td>\n",
       "    </tr>\n",
       "  </tbody>\n",
       "</table>\n",
       "</div>"
      ],
      "text/plain": [
       "     Measure  Source\n",
       "0   Accuracy   0.861\n",
       "1  Precision   0.878\n",
       "2     Recall   0.713\n",
       "3         F1   0.787"
      ]
     },
     "metadata": {},
     "output_type": "display_data"
    }
   ],
   "source": [
    "display(evaluate_model(prediction, Y_test))"
   ]
  },
  {
   "cell_type": "code",
   "execution_count": 56,
   "id": "associate-weekend",
   "metadata": {
    "pycharm": {
     "name": "#%%\n"
    }
   },
   "outputs": [
    {
     "data": {
      "text/plain": [
       "'Feature Importance'"
      ]
     },
     "metadata": {},
     "output_type": "display_data"
    },
    {
     "data": {
      "image/png": "[encoded data removed]",
      "text/plain": [
       "<Figure size 432x288 with 1 Axes>"
      ]
     },
     "metadata": {},
     "output_type": "display_data"
    }
   ],
   "source": [
    "columns = ['CN', 'AA', 'HP', 'HD', 'JC', 'LHN', 'RA', 'SA', 'SO', 'avg_deg']\n",
    "feature_importance(columns, classifier)"
   ]
  },
  {
   "cell_type": "markdown",
   "id": "contained-recycling",
   "metadata": {
    "pycharm": {
     "name": "#%% md\n"
    }
   },
   "source": [
    "# Predictiong Graph in 2017"
   ]
  },
  {
   "cell_type": "markdown",
   "id": "tribal-afternoon",
   "metadata": {},
   "source": [
    "* Load training and testing dataframes"
   ]
  },
  {
   "cell_type": "code",
   "execution_count": 57,
   "id": "spare-exploration",
   "metadata": {
    "pycharm": {
     "name": "#%%\n"
    }
   },
   "outputs": [
    {
     "data": {
      "text/html": [
       "<div>\n",
       "<style scoped>\n",
       "    .dataframe tbody tr th:only-of-type {\n",
       "        vertical-align: middle;\n",
       "    }\n",
       "\n",
       "    .dataframe tbody tr th {\n",
       "        vertical-align: top;\n",
       "    }\n",
       "\n",
       "    .dataframe thead th {\n",
       "        text-align: right;\n",
       "    }\n",
       "</style>\n",
       "<table border=\"1\" class=\"dataframe\">\n",
       "  <thead>\n",
       "    <tr style=\"text-align: right;\">\n",
       "      <th></th>\n",
       "      <th>CN</th>\n",
       "      <th>AA</th>\n",
       "      <th>HP</th>\n",
       "      <th>HD</th>\n",
       "      <th>JC</th>\n",
       "      <th>LHN</th>\n",
       "      <th>RA</th>\n",
       "      <th>SA</th>\n",
       "      <th>SO</th>\n",
       "      <th>avg_deg</th>\n",
       "    </tr>\n",
       "  </thead>\n",
       "  <tbody>\n",
       "    <tr>\n",
       "      <th>0</th>\n",
       "      <td>2542.000</td>\n",
       "      <td>271.545</td>\n",
       "      <td>1.000</td>\n",
       "      <td>0.967</td>\n",
       "      <td>0.967</td>\n",
       "      <td>0.000</td>\n",
       "      <td>4.859</td>\n",
       "      <td>4.859</td>\n",
       "      <td>0.983</td>\n",
       "      <td>2586.000</td>\n",
       "    </tr>\n",
       "    <tr>\n",
       "      <th>1</th>\n",
       "      <td>2542.000</td>\n",
       "      <td>271.545</td>\n",
       "      <td>1.000</td>\n",
       "      <td>0.967</td>\n",
       "      <td>0.967</td>\n",
       "      <td>0.000</td>\n",
       "      <td>4.859</td>\n",
       "      <td>4.859</td>\n",
       "      <td>0.983</td>\n",
       "      <td>2586.000</td>\n",
       "    </tr>\n",
       "    <tr>\n",
       "      <th>2</th>\n",
       "      <td>2502.000</td>\n",
       "      <td>266.095</td>\n",
       "      <td>0.984</td>\n",
       "      <td>0.983</td>\n",
       "      <td>0.968</td>\n",
       "      <td>0.000</td>\n",
       "      <td>4.582</td>\n",
       "      <td>4.582</td>\n",
       "      <td>0.983</td>\n",
       "      <td>2544.000</td>\n",
       "    </tr>\n",
       "    <tr>\n",
       "      <th>3</th>\n",
       "      <td>2542.000</td>\n",
       "      <td>271.545</td>\n",
       "      <td>1.000</td>\n",
       "      <td>0.969</td>\n",
       "      <td>0.969</td>\n",
       "      <td>0.000</td>\n",
       "      <td>4.859</td>\n",
       "      <td>4.859</td>\n",
       "      <td>0.984</td>\n",
       "      <td>2582.500</td>\n",
       "    </tr>\n",
       "    <tr>\n",
       "      <th>4</th>\n",
       "      <td>2542.000</td>\n",
       "      <td>271.545</td>\n",
       "      <td>1.000</td>\n",
       "      <td>0.967</td>\n",
       "      <td>0.967</td>\n",
       "      <td>0.000</td>\n",
       "      <td>4.859</td>\n",
       "      <td>4.859</td>\n",
       "      <td>0.983</td>\n",
       "      <td>2586.000</td>\n",
       "    </tr>\n",
       "  </tbody>\n",
       "</table>\n",
       "</div>"
      ],
      "text/plain": [
       "        CN      AA    HP    HD    JC   LHN    RA    SA    SO  avg_deg\n",
       "0 2542.000 271.545 1.000 0.967 0.967 0.000 4.859 4.859 0.983 2586.000\n",
       "1 2542.000 271.545 1.000 0.967 0.967 0.000 4.859 4.859 0.983 2586.000\n",
       "2 2502.000 266.095 0.984 0.983 0.968 0.000 4.582 4.582 0.983 2544.000\n",
       "3 2542.000 271.545 1.000 0.969 0.969 0.000 4.859 4.859 0.984 2582.500\n",
       "4 2542.000 271.545 1.000 0.967 0.967 0.000 4.859 4.859 0.983 2586.000"
      ]
     },
     "execution_count": 57,
     "metadata": {},
     "output_type": "execute_result"
    }
   ],
   "source": [
    "with open(\"/home/c6/Desktop/OpenWPM/jsons/Prediction_new/non_temporal_unweighted/2017/train/dataframe.csv\", newline='') as csvfile:\n",
    "    training_df = pd.read_csv(csvfile)\n",
    "    \n",
    "training_df['avg_deg'] = (training_df['deg_e1']+training_df['deg_e2'])/2\n",
    "training_df = training_df.drop(['deg_e1', 'deg_e2'], axis=1)\n",
    "training_df = training_df[['e1','e2','CN','AA','HP','HD','JC','LHN','RA','SA','SO','avg_deg','label']]\n",
    "\n",
    "X_train = training_df.iloc[:,2:-1]\n",
    "Y_train = training_df.iloc[:]['label']\n",
    "\n",
    "X_train.head()\n",
    "\n",
    "with open(\"/home/c6/Desktop/OpenWPM/jsons/Prediction_new/non_temporal_unweighted/2017/test/dataframe.csv\", newline='') as csvfile:\n",
    "    testing_df = pd.read_csv(csvfile)\n",
    "\n",
    "testing_df['avg_deg'] = (testing_df['deg_e1']+testing_df['deg_e2'])/2\n",
    "testing_df = testing_df.drop(['deg_e1', 'deg_e2'], axis=1)\n",
    "testing_df = testing_df[['e1','e2','CN','AA','HP','HD','JC','LHN','RA','SA','SO','avg_deg','label']]\n",
    "\n",
    "\n",
    "X_test = testing_df.iloc[:,2:-1]\n",
    "Y_test = testing_df.iloc[:]['label']\n",
    "\n",
    "X_test.head()"
   ]
  },
  {
   "cell_type": "code",
   "execution_count": 58,
   "id": "ultimate-express",
   "metadata": {
    "pycharm": {
     "name": "#%%\n"
    }
   },
   "outputs": [
    {
     "data": {
      "text/html": [
       "<div>\n",
       "<style scoped>\n",
       "    .dataframe tbody tr th:only-of-type {\n",
       "        vertical-align: middle;\n",
       "    }\n",
       "\n",
       "    .dataframe tbody tr th {\n",
       "        vertical-align: top;\n",
       "    }\n",
       "\n",
       "    .dataframe thead th {\n",
       "        text-align: right;\n",
       "    }\n",
       "</style>\n",
       "<table border=\"1\" class=\"dataframe\">\n",
       "  <thead>\n",
       "    <tr style=\"text-align: right;\">\n",
       "      <th></th>\n",
       "      <th>CN</th>\n",
       "      <th>AA</th>\n",
       "      <th>HP</th>\n",
       "      <th>HD</th>\n",
       "      <th>JC</th>\n",
       "      <th>LHN</th>\n",
       "      <th>RA</th>\n",
       "      <th>SA</th>\n",
       "      <th>SO</th>\n",
       "      <th>avg_deg</th>\n",
       "    </tr>\n",
       "  </thead>\n",
       "  <tbody>\n",
       "    <tr>\n",
       "      <th>0</th>\n",
       "      <td>2542.000</td>\n",
       "      <td>271.545</td>\n",
       "      <td>1.000</td>\n",
       "      <td>0.967</td>\n",
       "      <td>0.967</td>\n",
       "      <td>0.000</td>\n",
       "      <td>4.859</td>\n",
       "      <td>4.859</td>\n",
       "      <td>0.983</td>\n",
       "      <td>2586.000</td>\n",
       "    </tr>\n",
       "    <tr>\n",
       "      <th>1</th>\n",
       "      <td>2542.000</td>\n",
       "      <td>271.545</td>\n",
       "      <td>1.000</td>\n",
       "      <td>0.967</td>\n",
       "      <td>0.967</td>\n",
       "      <td>0.000</td>\n",
       "      <td>4.859</td>\n",
       "      <td>4.859</td>\n",
       "      <td>0.983</td>\n",
       "      <td>2586.000</td>\n",
       "    </tr>\n",
       "    <tr>\n",
       "      <th>2</th>\n",
       "      <td>2502.000</td>\n",
       "      <td>266.095</td>\n",
       "      <td>0.984</td>\n",
       "      <td>0.983</td>\n",
       "      <td>0.968</td>\n",
       "      <td>0.000</td>\n",
       "      <td>4.582</td>\n",
       "      <td>4.582</td>\n",
       "      <td>0.983</td>\n",
       "      <td>2544.000</td>\n",
       "    </tr>\n",
       "    <tr>\n",
       "      <th>3</th>\n",
       "      <td>2542.000</td>\n",
       "      <td>271.545</td>\n",
       "      <td>1.000</td>\n",
       "      <td>0.969</td>\n",
       "      <td>0.969</td>\n",
       "      <td>0.000</td>\n",
       "      <td>4.859</td>\n",
       "      <td>4.859</td>\n",
       "      <td>0.984</td>\n",
       "      <td>2582.500</td>\n",
       "    </tr>\n",
       "    <tr>\n",
       "      <th>4</th>\n",
       "      <td>2542.000</td>\n",
       "      <td>271.545</td>\n",
       "      <td>1.000</td>\n",
       "      <td>0.967</td>\n",
       "      <td>0.967</td>\n",
       "      <td>0.000</td>\n",
       "      <td>4.859</td>\n",
       "      <td>4.859</td>\n",
       "      <td>0.983</td>\n",
       "      <td>2586.000</td>\n",
       "    </tr>\n",
       "  </tbody>\n",
       "</table>\n",
       "</div>"
      ],
      "text/plain": [
       "        CN      AA    HP    HD    JC   LHN    RA    SA    SO  avg_deg\n",
       "0 2542.000 271.545 1.000 0.967 0.967 0.000 4.859 4.859 0.983 2586.000\n",
       "1 2542.000 271.545 1.000 0.967 0.967 0.000 4.859 4.859 0.983 2586.000\n",
       "2 2502.000 266.095 0.984 0.983 0.968 0.000 4.582 4.582 0.983 2544.000\n",
       "3 2542.000 271.545 1.000 0.969 0.969 0.000 4.859 4.859 0.984 2582.500\n",
       "4 2542.000 271.545 1.000 0.967 0.967 0.000 4.859 4.859 0.983 2586.000"
      ]
     },
     "execution_count": 58,
     "metadata": {},
     "output_type": "execute_result"
    }
   ],
   "source": [
    "X_test.head()"
   ]
  },
  {
   "cell_type": "markdown",
   "id": "shaped-baghdad",
   "metadata": {
    "pycharm": {
     "name": "#%% md\n"
    }
   },
   "source": [
    "* define evaluation function"
   ]
  },
  {
   "cell_type": "code",
   "execution_count": 59,
   "id": "worldwide-gentleman",
   "metadata": {
    "pycharm": {
     "name": "#%%\n"
    }
   },
   "outputs": [],
   "source": [
    "def evaluate_model(predictions, actual):\n",
    "    return pd.DataFrame({\n",
    "        \"Measure\": [\"Accuracy\", \"Precision\", \"Recall\", \"F1\"],\n",
    "        \"Source\": [accuracy_score(actual, predictions), \n",
    "                   precision_score(actual, predictions), \n",
    "                   recall_score(actual, predictions),\n",
    "                   f1_score(actual,predictions)]\n",
    "    })"
   ]
  },
  {
   "cell_type": "markdown",
   "id": "effective-devices",
   "metadata": {
    "pycharm": {
     "name": "#%% md\n"
    }
   },
   "source": [
    "* Find important features"
   ]
  },
  {
   "cell_type": "code",
   "execution_count": 60,
   "id": "about-productivity",
   "metadata": {
    "pycharm": {
     "name": "#%%\n"
    }
   },
   "outputs": [],
   "source": [
    "def feature_importance(columns, classifier):\n",
    "    display(\"Feature Importance\")\n",
    "    df = pd.DataFrame({\"Features\": columns,\n",
    "                      \"Importance\": classifier.feature_importances_})\n",
    "    df = df.sort_values(\"Importance\", ascending=False)\n",
    "    ax = df.plot(kind='bar', x='Features', y='Importance', legend=None)\n",
    "    #ax.xaxist.set_label_text(\"\")\n",
    "    plt.tight_layout()\n",
    "    plt.show"
   ]
  },
  {
   "cell_type": "markdown",
   "id": "medical-final",
   "metadata": {
    "pycharm": {
     "name": "#%% md\n"
    }
   },
   "source": [
    "* choose a ML algorithm"
   ]
  },
  {
   "cell_type": "code",
   "execution_count": 61,
   "id": "variable-comparison",
   "metadata": {
    "pycharm": {
     "name": "#%%\n"
    }
   },
   "outputs": [],
   "source": [
    "classifier = RandomForestClassifier(n_estimators=30, max_depth=10, random_state=0)"
   ]
  },
  {
   "cell_type": "markdown",
   "id": "reverse-south",
   "metadata": {
    "pycharm": {
     "name": "#%% md\n"
    }
   },
   "source": [
    "* Training"
   ]
  },
  {
   "cell_type": "code",
   "execution_count": 62,
   "id": "suspended-airport",
   "metadata": {
    "pycharm": {
     "name": "#%%\n"
    }
   },
   "outputs": [
    {
     "data": {
      "text/plain": [
       "RandomForestClassifier(max_depth=10, n_estimators=30, random_state=0)"
      ]
     },
     "execution_count": 62,
     "metadata": {},
     "output_type": "execute_result"
    }
   ],
   "source": [
    "classifier.fit(X_train, Y_train)"
   ]
  },
  {
   "cell_type": "markdown",
   "id": "desirable-stock",
   "metadata": {
    "pycharm": {
     "name": "#%% md\n"
    }
   },
   "source": [
    "* Make a predict"
   ]
  },
  {
   "cell_type": "code",
   "execution_count": 63,
   "id": "juvenile-killer",
   "metadata": {
    "pycharm": {
     "name": "#%%\n"
    }
   },
   "outputs": [],
   "source": [
    "prediction = classifier.predict(X_test)"
   ]
  },
  {
   "cell_type": "code",
   "execution_count": 64,
   "id": "lovely-contribution",
   "metadata": {
    "pycharm": {
     "name": "#%%\n"
    }
   },
   "outputs": [
    {
     "data": {
      "text/html": [
       "<div>\n",
       "<style scoped>\n",
       "    .dataframe tbody tr th:only-of-type {\n",
       "        vertical-align: middle;\n",
       "    }\n",
       "\n",
       "    .dataframe tbody tr th {\n",
       "        vertical-align: top;\n",
       "    }\n",
       "\n",
       "    .dataframe thead th {\n",
       "        text-align: right;\n",
       "    }\n",
       "</style>\n",
       "<table border=\"1\" class=\"dataframe\">\n",
       "  <thead>\n",
       "    <tr style=\"text-align: right;\">\n",
       "      <th></th>\n",
       "      <th>Measure</th>\n",
       "      <th>Source</th>\n",
       "    </tr>\n",
       "  </thead>\n",
       "  <tbody>\n",
       "    <tr>\n",
       "      <th>0</th>\n",
       "      <td>Accuracy</td>\n",
       "      <td>0.882</td>\n",
       "    </tr>\n",
       "    <tr>\n",
       "      <th>1</th>\n",
       "      <td>Precision</td>\n",
       "      <td>0.842</td>\n",
       "    </tr>\n",
       "    <tr>\n",
       "      <th>2</th>\n",
       "      <td>Recall</td>\n",
       "      <td>0.814</td>\n",
       "    </tr>\n",
       "    <tr>\n",
       "      <th>3</th>\n",
       "      <td>F1</td>\n",
       "      <td>0.828</td>\n",
       "    </tr>\n",
       "  </tbody>\n",
       "</table>\n",
       "</div>"
      ],
      "text/plain": [
       "     Measure  Source\n",
       "0   Accuracy   0.882\n",
       "1  Precision   0.842\n",
       "2     Recall   0.814\n",
       "3         F1   0.828"
      ]
     },
     "metadata": {},
     "output_type": "display_data"
    }
   ],
   "source": [
    "display(evaluate_model(prediction, Y_test))"
   ]
  },
  {
   "cell_type": "code",
   "execution_count": 65,
   "id": "prescribed-westminster",
   "metadata": {
    "pycharm": {
     "name": "#%%\n"
    }
   },
   "outputs": [
    {
     "data": {
      "text/plain": [
       "'Feature Importance'"
      ]
     },
     "metadata": {},
     "output_type": "display_data"
    },
    {
     "data": {
      "image/png": "[encoded data removed]",
      "text/plain": [
       "<Figure size 432x288 with 1 Axes>"
      ]
     },
     "metadata": {},
     "output_type": "display_data"
    }
   ],
   "source": [
    "columns = ['CN', 'AA', 'HP', 'HD', 'JC', 'LHN', 'RA', 'SA', 'SO', 'avg_deg']\n",
    "feature_importance(columns, classifier)\n"
   ]
  },
  {
   "cell_type": "markdown",
   "id": "wanted-cincinnati",
   "metadata": {
    "pycharm": {
     "name": "#%% md\n"
    }
   },
   "source": [
    "# Predictiong Graph in 2018"
   ]
  },
  {
   "cell_type": "markdown",
   "id": "beautiful-flesh",
   "metadata": {},
   "source": [
    "* Load training and testing dataframes"
   ]
  },
  {
   "cell_type": "code",
   "execution_count": 66,
   "id": "respiratory-rocket",
   "metadata": {
    "pycharm": {
     "name": "#%%\n"
    }
   },
   "outputs": [
    {
     "data": {
      "text/html": [
       "<div>\n",
       "<style scoped>\n",
       "    .dataframe tbody tr th:only-of-type {\n",
       "        vertical-align: middle;\n",
       "    }\n",
       "\n",
       "    .dataframe tbody tr th {\n",
       "        vertical-align: top;\n",
       "    }\n",
       "\n",
       "    .dataframe thead th {\n",
       "        text-align: right;\n",
       "    }\n",
       "</style>\n",
       "<table border=\"1\" class=\"dataframe\">\n",
       "  <thead>\n",
       "    <tr style=\"text-align: right;\">\n",
       "      <th></th>\n",
       "      <th>CN</th>\n",
       "      <th>AA</th>\n",
       "      <th>HP</th>\n",
       "      <th>HD</th>\n",
       "      <th>JC</th>\n",
       "      <th>LHN</th>\n",
       "      <th>RA</th>\n",
       "      <th>SA</th>\n",
       "      <th>SO</th>\n",
       "      <th>avg_deg</th>\n",
       "    </tr>\n",
       "  </thead>\n",
       "  <tbody>\n",
       "    <tr>\n",
       "      <th>0</th>\n",
       "      <td>2984.000</td>\n",
       "      <td>311.668</td>\n",
       "      <td>1.000</td>\n",
       "      <td>0.972</td>\n",
       "      <td>0.972</td>\n",
       "      <td>0.000</td>\n",
       "      <td>4.888</td>\n",
       "      <td>4.888</td>\n",
       "      <td>0.986</td>\n",
       "      <td>3027.500</td>\n",
       "    </tr>\n",
       "    <tr>\n",
       "      <th>1</th>\n",
       "      <td>2984.000</td>\n",
       "      <td>311.668</td>\n",
       "      <td>1.000</td>\n",
       "      <td>0.972</td>\n",
       "      <td>0.972</td>\n",
       "      <td>0.000</td>\n",
       "      <td>4.888</td>\n",
       "      <td>4.888</td>\n",
       "      <td>0.986</td>\n",
       "      <td>3027.500</td>\n",
       "    </tr>\n",
       "    <tr>\n",
       "      <th>2</th>\n",
       "      <td>2944.000</td>\n",
       "      <td>306.227</td>\n",
       "      <td>0.986</td>\n",
       "      <td>0.982</td>\n",
       "      <td>0.968</td>\n",
       "      <td>0.000</td>\n",
       "      <td>4.631</td>\n",
       "      <td>4.631</td>\n",
       "      <td>0.984</td>\n",
       "      <td>2992.000</td>\n",
       "    </tr>\n",
       "    <tr>\n",
       "      <th>3</th>\n",
       "      <td>2984.000</td>\n",
       "      <td>311.668</td>\n",
       "      <td>1.000</td>\n",
       "      <td>0.975</td>\n",
       "      <td>0.974</td>\n",
       "      <td>0.000</td>\n",
       "      <td>4.888</td>\n",
       "      <td>4.888</td>\n",
       "      <td>0.987</td>\n",
       "      <td>3023.500</td>\n",
       "    </tr>\n",
       "    <tr>\n",
       "      <th>4</th>\n",
       "      <td>2984.000</td>\n",
       "      <td>311.668</td>\n",
       "      <td>1.000</td>\n",
       "      <td>0.972</td>\n",
       "      <td>0.972</td>\n",
       "      <td>0.000</td>\n",
       "      <td>4.888</td>\n",
       "      <td>4.888</td>\n",
       "      <td>0.986</td>\n",
       "      <td>3027.500</td>\n",
       "    </tr>\n",
       "  </tbody>\n",
       "</table>\n",
       "</div>"
      ],
      "text/plain": [
       "        CN      AA    HP    HD    JC   LHN    RA    SA    SO  avg_deg\n",
       "0 2984.000 311.668 1.000 0.972 0.972 0.000 4.888 4.888 0.986 3027.500\n",
       "1 2984.000 311.668 1.000 0.972 0.972 0.000 4.888 4.888 0.986 3027.500\n",
       "2 2944.000 306.227 0.986 0.982 0.968 0.000 4.631 4.631 0.984 2992.000\n",
       "3 2984.000 311.668 1.000 0.975 0.974 0.000 4.888 4.888 0.987 3023.500\n",
       "4 2984.000 311.668 1.000 0.972 0.972 0.000 4.888 4.888 0.986 3027.500"
      ]
     },
     "execution_count": 66,
     "metadata": {},
     "output_type": "execute_result"
    }
   ],
   "source": [
    "with open(\"/home/c6/Desktop/OpenWPM/jsons/Prediction_new/non_temporal_unweighted/2018/train/dataframe.csv\", newline='') as csvfile:\n",
    "    training_df = pd.read_csv(csvfile)\n",
    "    \n",
    "training_df['avg_deg'] = (training_df['deg_e1']+training_df['deg_e2'])/2\n",
    "training_df = training_df.drop(['deg_e1', 'deg_e2'], axis=1)\n",
    "training_df = training_df[['e1','e2','CN','AA','HP','HD','JC','LHN','RA','SA','SO','avg_deg','label']]\n",
    "\n",
    "X_train = training_df.iloc[:,2:-1]\n",
    "Y_train = training_df.iloc[:]['label']\n",
    "\n",
    "X_train.head()\n",
    "\n",
    "with open(\"/home/c6/Desktop/OpenWPM/jsons/Prediction_new/non_temporal_unweighted/2018/test/dataframe.csv\", newline='') as csvfile:\n",
    "    testing_df = pd.read_csv(csvfile)\n",
    "\n",
    "testing_df['avg_deg'] = (testing_df['deg_e1']+testing_df['deg_e2'])/2\n",
    "testing_df = testing_df.drop(['deg_e1', 'deg_e2'], axis=1)\n",
    "testing_df = testing_df[['e1','e2','CN','AA','HP','HD','JC','LHN','RA','SA','SO','avg_deg','label']]\n",
    "\n",
    "\n",
    "X_test = testing_df.iloc[:,2:-1]\n",
    "Y_test = testing_df.iloc[:]['label']\n",
    "\n",
    "X_test.head()"
   ]
  },
  {
   "cell_type": "code",
   "execution_count": null,
   "id": "choice-montgomery",
   "metadata": {
    "pycharm": {
     "name": "#%%\n"
    }
   },
   "outputs": [],
   "source": [
    "X_test.head()"
   ]
  },
  {
   "cell_type": "markdown",
   "id": "afraid-commander",
   "metadata": {
    "pycharm": {
     "name": "#%% md\n"
    }
   },
   "source": [
    "* define evaluation function"
   ]
  },
  {
   "cell_type": "code",
   "execution_count": 67,
   "id": "hearing-market",
   "metadata": {
    "pycharm": {
     "name": "#%%\n"
    }
   },
   "outputs": [],
   "source": [
    "def evaluate_model(predictions, actual):\n",
    "    return pd.DataFrame({\n",
    "        \"Measure\": [\"Accuracy\", \"Precision\", \"Recall\",\"F1\"],\n",
    "        \"Source\": [accuracy_score(actual, predictions), \n",
    "                   precision_score(actual, predictions), \n",
    "                   recall_score(actual, predictions),\n",
    "                   f1_score(actual, predictions)]\n",
    "    })"
   ]
  },
  {
   "cell_type": "markdown",
   "id": "metallic-simple",
   "metadata": {
    "pycharm": {
     "name": "#%% md\n"
    }
   },
   "source": [
    "* Find important features"
   ]
  },
  {
   "cell_type": "code",
   "execution_count": 68,
   "id": "embedded-mexican",
   "metadata": {
    "pycharm": {
     "name": "#%%\n"
    }
   },
   "outputs": [],
   "source": [
    "def feature_importance(columns, classifier):\n",
    "    display(\"Feature Importance\")\n",
    "    df = pd.DataFrame({\"Features\": columns,\n",
    "                      \"Importance\": classifier.feature_importances_})\n",
    "    df = df.sort_values(\"Importance\", ascending=False)\n",
    "    ax = df.plot(kind='bar', x='Features', y='Importance', legend=None)\n",
    "    #ax.xaxist.set_label_text(\"\")\n",
    "    plt.tight_layout()\n",
    "    plt.show"
   ]
  },
  {
   "cell_type": "markdown",
   "id": "million-yesterday",
   "metadata": {
    "pycharm": {
     "name": "#%% md\n"
    }
   },
   "source": [
    "* choose a ML algorithm"
   ]
  },
  {
   "cell_type": "code",
   "execution_count": 69,
   "id": "silver-identity",
   "metadata": {
    "pycharm": {
     "name": "#%%\n"
    }
   },
   "outputs": [],
   "source": [
    "classifier = RandomForestClassifier(n_estimators=30, max_depth=10, random_state=0)"
   ]
  },
  {
   "cell_type": "markdown",
   "id": "wooden-thesaurus",
   "metadata": {
    "pycharm": {
     "name": "#%% md\n"
    }
   },
   "source": [
    "* Training"
   ]
  },
  {
   "cell_type": "code",
   "execution_count": 70,
   "id": "refined-choir",
   "metadata": {
    "pycharm": {
     "name": "#%%\n"
    }
   },
   "outputs": [
    {
     "data": {
      "text/plain": [
       "RandomForestClassifier(max_depth=10, n_estimators=30, random_state=0)"
      ]
     },
     "execution_count": 70,
     "metadata": {},
     "output_type": "execute_result"
    }
   ],
   "source": [
    "classifier.fit(X_train, Y_train)"
   ]
  },
  {
   "cell_type": "markdown",
   "id": "toxic-prototype",
   "metadata": {
    "pycharm": {
     "name": "#%% md\n"
    }
   },
   "source": [
    "* Make a predict"
   ]
  },
  {
   "cell_type": "code",
   "execution_count": 71,
   "id": "little-burns",
   "metadata": {
    "pycharm": {
     "name": "#%%\n"
    }
   },
   "outputs": [],
   "source": [
    "prediction = classifier.predict(X_test)"
   ]
  },
  {
   "cell_type": "code",
   "execution_count": 72,
   "id": "unsigned-communication",
   "metadata": {
    "pycharm": {
     "name": "#%%\n"
    }
   },
   "outputs": [
    {
     "data": {
      "text/html": [
       "<div>\n",
       "<style scoped>\n",
       "    .dataframe tbody tr th:only-of-type {\n",
       "        vertical-align: middle;\n",
       "    }\n",
       "\n",
       "    .dataframe tbody tr th {\n",
       "        vertical-align: top;\n",
       "    }\n",
       "\n",
       "    .dataframe thead th {\n",
       "        text-align: right;\n",
       "    }\n",
       "</style>\n",
       "<table border=\"1\" class=\"dataframe\">\n",
       "  <thead>\n",
       "    <tr style=\"text-align: right;\">\n",
       "      <th></th>\n",
       "      <th>Measure</th>\n",
       "      <th>Source</th>\n",
       "    </tr>\n",
       "  </thead>\n",
       "  <tbody>\n",
       "    <tr>\n",
       "      <th>0</th>\n",
       "      <td>Accuracy</td>\n",
       "      <td>0.847</td>\n",
       "    </tr>\n",
       "    <tr>\n",
       "      <th>1</th>\n",
       "      <td>Precision</td>\n",
       "      <td>0.650</td>\n",
       "    </tr>\n",
       "    <tr>\n",
       "      <th>2</th>\n",
       "      <td>Recall</td>\n",
       "      <td>0.879</td>\n",
       "    </tr>\n",
       "    <tr>\n",
       "      <th>3</th>\n",
       "      <td>F1</td>\n",
       "      <td>0.748</td>\n",
       "    </tr>\n",
       "  </tbody>\n",
       "</table>\n",
       "</div>"
      ],
      "text/plain": [
       "     Measure  Source\n",
       "0   Accuracy   0.847\n",
       "1  Precision   0.650\n",
       "2     Recall   0.879\n",
       "3         F1   0.748"
      ]
     },
     "metadata": {},
     "output_type": "display_data"
    }
   ],
   "source": [
    "display(evaluate_model(prediction, Y_test))"
   ]
  },
  {
   "cell_type": "code",
   "execution_count": 73,
   "id": "mysterious-likelihood",
   "metadata": {
    "pycharm": {
     "name": "#%%\n"
    }
   },
   "outputs": [
    {
     "data": {
      "text/plain": [
       "'Feature Importance'"
      ]
     },
     "metadata": {},
     "output_type": "display_data"
    },
    {
     "data": {
      "image/png": "[encoded data removed]",
      "text/plain": [
       "<Figure size 432x288 with 1 Axes>"
      ]
     },
     "metadata": {},
     "output_type": "display_data"
    }
   ],
   "source": [
    "columns = ['CN', 'AA', 'HP', 'HD', 'JC', 'LHN', 'RA', 'SA', 'SO', 'avg_deg']\n",
    "feature_importance(columns, classifier)\n"
   ]
  },
  {
   "cell_type": "markdown",
   "id": "imperial-index",
   "metadata": {
    "pycharm": {
     "name": "#%% md\n"
    }
   },
   "source": [
    "# Predictiong Graph in 2019"
   ]
  },
  {
   "cell_type": "markdown",
   "id": "covered-resistance",
   "metadata": {},
   "source": [
    "* Load training and testing dataframes"
   ]
  },
  {
   "cell_type": "code",
   "execution_count": 102,
   "id": "quarterly-password",
   "metadata": {
    "pycharm": {
     "name": "#%%\n"
    }
   },
   "outputs": [
    {
     "data": {
      "text/html": [
       "<div>\n",
       "<style scoped>\n",
       "    .dataframe tbody tr th:only-of-type {\n",
       "        vertical-align: middle;\n",
       "    }\n",
       "\n",
       "    .dataframe tbody tr th {\n",
       "        vertical-align: top;\n",
       "    }\n",
       "\n",
       "    .dataframe thead th {\n",
       "        text-align: right;\n",
       "    }\n",
       "</style>\n",
       "<table border=\"1\" class=\"dataframe\">\n",
       "  <thead>\n",
       "    <tr style=\"text-align: right;\">\n",
       "      <th></th>\n",
       "      <th>CN</th>\n",
       "      <th>AA</th>\n",
       "      <th>HP</th>\n",
       "      <th>HD</th>\n",
       "      <th>JC</th>\n",
       "      <th>LHN</th>\n",
       "      <th>RA</th>\n",
       "      <th>SA</th>\n",
       "      <th>SO</th>\n",
       "      <th>avg_deg</th>\n",
       "    </tr>\n",
       "  </thead>\n",
       "  <tbody>\n",
       "    <tr>\n",
       "      <th>0</th>\n",
       "      <td>3161.000</td>\n",
       "      <td>326.537</td>\n",
       "      <td>1.000</td>\n",
       "      <td>0.979</td>\n",
       "      <td>0.979</td>\n",
       "      <td>0.000</td>\n",
       "      <td>4.853</td>\n",
       "      <td>4.853</td>\n",
       "      <td>0.989</td>\n",
       "      <td>3195.000</td>\n",
       "    </tr>\n",
       "    <tr>\n",
       "      <th>1</th>\n",
       "      <td>3161.000</td>\n",
       "      <td>326.537</td>\n",
       "      <td>1.000</td>\n",
       "      <td>0.979</td>\n",
       "      <td>0.979</td>\n",
       "      <td>0.000</td>\n",
       "      <td>4.853</td>\n",
       "      <td>4.853</td>\n",
       "      <td>0.989</td>\n",
       "      <td>3195.000</td>\n",
       "    </tr>\n",
       "    <tr>\n",
       "      <th>2</th>\n",
       "      <td>3110.000</td>\n",
       "      <td>319.648</td>\n",
       "      <td>0.986</td>\n",
       "      <td>0.984</td>\n",
       "      <td>0.970</td>\n",
       "      <td>0.000</td>\n",
       "      <td>4.539</td>\n",
       "      <td>4.539</td>\n",
       "      <td>0.985</td>\n",
       "      <td>3157.500</td>\n",
       "    </tr>\n",
       "    <tr>\n",
       "      <th>3</th>\n",
       "      <td>3161.000</td>\n",
       "      <td>326.537</td>\n",
       "      <td>1.000</td>\n",
       "      <td>0.981</td>\n",
       "      <td>0.981</td>\n",
       "      <td>0.000</td>\n",
       "      <td>4.853</td>\n",
       "      <td>4.853</td>\n",
       "      <td>0.990</td>\n",
       "      <td>3191.500</td>\n",
       "    </tr>\n",
       "    <tr>\n",
       "      <th>4</th>\n",
       "      <td>3161.000</td>\n",
       "      <td>326.537</td>\n",
       "      <td>1.000</td>\n",
       "      <td>0.979</td>\n",
       "      <td>0.979</td>\n",
       "      <td>0.000</td>\n",
       "      <td>4.853</td>\n",
       "      <td>4.853</td>\n",
       "      <td>0.989</td>\n",
       "      <td>3195.000</td>\n",
       "    </tr>\n",
       "  </tbody>\n",
       "</table>\n",
       "</div>"
      ],
      "text/plain": [
       "        CN      AA    HP    HD    JC   LHN    RA    SA    SO  avg_deg\n",
       "0 3161.000 326.537 1.000 0.979 0.979 0.000 4.853 4.853 0.989 3195.000\n",
       "1 3161.000 326.537 1.000 0.979 0.979 0.000 4.853 4.853 0.989 3195.000\n",
       "2 3110.000 319.648 0.986 0.984 0.970 0.000 4.539 4.539 0.985 3157.500\n",
       "3 3161.000 326.537 1.000 0.981 0.981 0.000 4.853 4.853 0.990 3191.500\n",
       "4 3161.000 326.537 1.000 0.979 0.979 0.000 4.853 4.853 0.989 3195.000"
      ]
     },
     "execution_count": 102,
     "metadata": {},
     "output_type": "execute_result"
    }
   ],
   "source": [
    "with open(\"/home/c6/Desktop/OpenWPM/jsons/Prediction_new/non_temporal_unweighted/2019/train/dataframe.csv\", newline='') as csvfile:\n",
    "    training_df = pd.read_csv(csvfile)\n",
    "    \n",
    "training_df['avg_deg'] = (training_df['deg_e1']+training_df['deg_e2'])/2\n",
    "training_df = training_df.drop(['deg_e1', 'deg_e2'], axis=1)\n",
    "training_df = training_df[['e1','e2','CN','AA','HP','HD','JC','LHN','RA','SA','SO','avg_deg','label']]\n",
    "\n",
    "X_train = training_df.iloc[:,2:-1]\n",
    "Y_train = training_df.iloc[:]['label']\n",
    "\n",
    "X_train.head()\n",
    "\n",
    "with open(\"/home/c6/Desktop/OpenWPM/jsons/Prediction_new/non_temporal_unweighted/2019/test/dataframe.csv\", newline='') as csvfile:\n",
    "    testing_df = pd.read_csv(csvfile)\n",
    "\n",
    "testing_df['avg_deg'] = (testing_df['deg_e1']+testing_df['deg_e2'])/2\n",
    "testing_df = testing_df.drop(['deg_e1', 'deg_e2'], axis=1)\n",
    "testing_df = testing_df[['e1','e2','CN','AA','HP','HD','JC','LHN','RA','SA','SO','avg_deg','label']]\n",
    "\n",
    "\n",
    "X_test = testing_df.iloc[:,2:-1]\n",
    "Y_test = testing_df.iloc[:]['label']\n",
    "\n",
    "X_test.head()"
   ]
  },
  {
   "cell_type": "code",
   "execution_count": 93,
   "id": "chubby-lebanon",
   "metadata": {
    "pycharm": {
     "name": "#%%\n"
    }
   },
   "outputs": [
    {
     "name": "stdout",
     "output_type": "stream",
     "text": [
      "Positive Samples:  1274113\n",
      "Negative_samples:  4319946\n"
     ]
    }
   ],
   "source": [
    "positive_samples = 0\n",
    "negative_sample = 0\n",
    "for i in Y_train:\n",
    "    if i==1:\n",
    "        positive_samples += 1 \n",
    "    else:\n",
    "        negative_sample += 1\n",
    "\n",
    "print(\"Positive Samples: \", positive_samples)\n",
    "print(\"Negative_samples: \", negative_sample)"
   ]
  },
  {
   "cell_type": "markdown",
   "id": "working-stress",
   "metadata": {
    "pycharm": {
     "name": "#%% md\n"
    }
   },
   "source": [
    "### upsample minority class"
   ]
  },
  {
   "cell_type": "code",
   "execution_count": 103,
   "id": "specialized-salem",
   "metadata": {
    "pycharm": {
     "name": "#%%\n"
    }
   },
   "outputs": [],
   "source": [
    "# Separate majority and minority classes\n",
    "df_majority = training_df[training_df.label==0]\n",
    "df_minority = training_df[training_df.label==1]\n",
    " \n",
    "# Upsample minority class\n",
    "df_minority_upsampled = resample(df_minority, \n",
    "                                 replace=True,     # sample with replacement\n",
    "                                 n_samples=8639892,    # to match majority class\n",
    "                                 random_state=123) # reproducible results\n",
    " \n",
    "# Combine majority class with upsampled minority class\n",
    "df_upsampled = pd.concat([df_majority, df_minority_upsampled])\n",
    " \n",
    "# Display new class counts\n",
    "df_upsampled.label.value_counts()\n",
    "X_train = df_upsampled.iloc[:,2:-1]\n",
    "Y_train = df_upsampled.iloc[:]['label']\n",
    "# 1    576\n",
    "# 0    576\n",
    "# Name: balance, dtype: int64"
   ]
  },
  {
   "cell_type": "markdown",
   "id": "clear-brand",
   "metadata": {
    "pycharm": {
     "name": "#%% md\n"
    }
   },
   "source": [
    "* define evaluation function"
   ]
  },
  {
   "cell_type": "code",
   "execution_count": 104,
   "id": "golden-engineering",
   "metadata": {
    "pycharm": {
     "name": "#%%\n"
    }
   },
   "outputs": [],
   "source": [
    "def evaluate_model(predictions, actual):\n",
    "    TP = 0\n",
    "    FP = 0\n",
    "    TN = 0\n",
    "    FN = 0\n",
    "\n",
    "    for i in range(len(predictions)): \n",
    "        if actual[i]==predictions[i]==1:\n",
    "            TP += 1\n",
    "        if predictions[i]==1 and actual[i]!=predictions[i]:\n",
    "            FP += 1\n",
    "        if actual[i]==predictions[i]==0:\n",
    "            TN += 1\n",
    "        if predictions[i]==0 and actual[i]!=predictions[i]:\n",
    "            FN += 1\n",
    "    return pd.DataFrame({\n",
    "        \"Measure\": [\"Accuracy\", \"Precision\", \"Recall\", \"FPR\", \"FNR\", \"F1\"],\n",
    "        \"Source\": [accuracy_score(actual, predictions), \n",
    "                   precision_score(actual, predictions), \n",
    "                   recall_score(actual, predictions),\n",
    "                   FP/(FP+TN),\n",
    "                   FN/(FN+TP),\n",
    "                   f1_score(actual, predictions)]\n",
    "    })"
   ]
  },
  {
   "cell_type": "markdown",
   "id": "mobile-career",
   "metadata": {
    "pycharm": {
     "name": "#%% md\n"
    }
   },
   "source": [
    "* Find important features"
   ]
  },
  {
   "cell_type": "code",
   "execution_count": 105,
   "id": "younger-duplicate",
   "metadata": {
    "pycharm": {
     "name": "#%%\n"
    }
   },
   "outputs": [],
   "source": [
    "def feature_importance(columns, classifier):\n",
    "    display(\"Feature Importance\")\n",
    "    df = pd.DataFrame({\"Features\": columns,\n",
    "                      \"Importance\": classifier.feature_importances_})\n",
    "    df = df.sort_values(\"Importance\", ascending=False)\n",
    "    ax = df.plot(kind='bar', x='Features', y='Importance', legend=None)\n",
    "    #ax.xaxist.set_label_text(\"\")\n",
    "    plt.tight_layout()\n",
    "    plt.show"
   ]
  },
  {
   "cell_type": "markdown",
   "id": "brave-birmingham",
   "metadata": {
    "pycharm": {
     "name": "#%% md\n"
    }
   },
   "source": [
    " ### choose a ML algorithm "
   ]
  },
  {
   "cell_type": "markdown",
   "id": "abandoned-wrong",
   "metadata": {},
   "source": [
    "### 1. Random Forest"
   ]
  },
  {
   "cell_type": "code",
   "execution_count": 106,
   "id": "promising-southeast",
   "metadata": {
    "pycharm": {
     "name": "#%%\n"
    }
   },
   "outputs": [],
   "source": [
    "classifier = RandomForestClassifier(n_estimators=100, max_depth=10, criterion=\"entropy\")"
   ]
  },
  {
   "cell_type": "markdown",
   "id": "loose-connection",
   "metadata": {
    "pycharm": {
     "name": "#%% md\n"
    }
   },
   "source": [
    "### 2. SVM"
   ]
  },
  {
   "cell_type": "code",
   "execution_count": null,
   "id": "greenhouse-budapest",
   "metadata": {
    "pycharm": {
     "name": "#%%\n"
    }
   },
   "outputs": [],
   "source": [
    "classifier = SVC(kernel='linear', class_weight='balanced', probability=True)"
   ]
  },
  {
   "cell_type": "markdown",
   "id": "positive-liquid",
   "metadata": {
    "pycharm": {
     "name": "#%% md\n"
    }
   },
   "source": [
    "### 3. MLP"
   ]
  },
  {
   "cell_type": "code",
   "execution_count": null,
   "id": "painful-tuition",
   "metadata": {
    "pycharm": {
     "name": "#%%\n"
    }
   },
   "outputs": [],
   "source": [
    "classifier = MLPClassifier(random_state=1, max_iter=300, activation='tanh', learning_rate='adaptive')"
   ]
  },
  {
   "cell_type": "markdown",
   "id": "improving-distribution",
   "metadata": {
    "pycharm": {
     "name": "#%% md\n"
    }
   },
   "source": [
    "### 4. Naive Bayes"
   ]
  },
  {
   "cell_type": "code",
   "execution_count": null,
   "id": "soviet-warrant",
   "metadata": {
    "pycharm": {
     "name": "#%%\n"
    }
   },
   "outputs": [],
   "source": [
    "#classifier = GaussianNB()\n",
    "classifier = ComplementNB()\n",
    "#classifier = MultinomialNB()\n",
    "#classifier = BernoulliNB()"
   ]
  },
  {
   "cell_type": "markdown",
   "id": "limiting-mainland",
   "metadata": {
    "pycharm": {
     "name": "#%% md\n"
    }
   },
   "source": [
    "### Train and predict"
   ]
  },
  {
   "cell_type": "code",
   "execution_count": null,
   "id": "checked-discovery",
   "metadata": {
    "pycharm": {
     "name": "#%%\n"
    }
   },
   "outputs": [],
   "source": [
    "classifier.fit(X_train, Y_train)"
   ]
  },
  {
   "cell_type": "code",
   "execution_count": null,
   "id": "terminal-leone",
   "metadata": {
    "pycharm": {
     "name": "#%%\n"
    }
   },
   "outputs": [],
   "source": [
    "prediction = classifier.predict(X_test)"
   ]
  },
  {
   "cell_type": "code",
   "execution_count": null,
   "id": "peripheral-prison",
   "metadata": {
    "pycharm": {
     "name": "#%%\n"
    }
   },
   "outputs": [],
   "source": [
    "np.unique(prediction)"
   ]
  },
  {
   "cell_type": "code",
   "execution_count": null,
   "id": "adjustable-capitol",
   "metadata": {
    "pycharm": {
     "name": "#%%\n"
    }
   },
   "outputs": [],
   "source": [
    "display(evaluate_model(prediction, Y_test))"
   ]
  },
  {
   "cell_type": "code",
   "execution_count": 83,
   "id": "matched-offering",
   "metadata": {
    "pycharm": {
     "name": "#%%\n"
    }
   },
   "outputs": [
    {
     "data": {
      "text/plain": [
       "'Feature Importance'"
      ]
     },
     "metadata": {},
     "output_type": "display_data"
    },
    {
     "data": {
      "image/png": "[encoded data removed]",
      "text/plain": [
       "<Figure size 432x288 with 1 Axes>"
      ]
     },
     "metadata": {},
     "output_type": "display_data"
    }
   ],
   "source": [
    "columns = ['CN', 'AA', 'HP', 'HD', 'JC', 'LHN', 'RA', 'SA', 'SO', 'avg_deg']\n",
    "feature_importance(columns, classifier)"
   ]
  }
 ],
 "metadata": {
  "kernelspec": {
   "display_name": "Python 3",
   "language": "python",
   "name": "python3"
  },
  "language_info": {
   "codemirror_mode": {
    "name": "ipython",
    "version": 3
   },
   "file_extension": ".py",
   "mimetype": "text/x-python",
   "name": "python",
   "nbconvert_exporter": "python",
   "pygments_lexer": "ipython3",
   "version": "3.8.5"
  }
 },
 "nbformat": 4,
 "nbformat_minor": 5
}