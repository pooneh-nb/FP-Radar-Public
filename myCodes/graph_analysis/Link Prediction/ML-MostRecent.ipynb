{
 "cells": [
  {
   "cell_type": "code",
   "execution_count": 3,
   "id": "super-knowing",
   "metadata": {
    "pycharm": {
     "name": "#%%\n"
    }
   },
   "outputs": [],
   "source": [
    "import csv\n",
    "import os\n",
    "import pandas as pd\n",
    "from collections import Counter\n",
    "import numpy as np\n",
    "\n",
    "import matplotlib.pyplot as plt\n",
    "import matplotlib\n",
    "plt.style.use('fivethirtyeight')\n",
    "pd.set_option('display.float_format', lambda x: '%.3f' % x)\n",
    "\n",
    "\n",
    "from sklearn.metrics import recall_score\n",
    "from sklearn.metrics import precision_score\n",
    "from sklearn.metrics import accuracy_score\n",
    "from sklearn.metrics import f1_score\n",
    "from sklearn.metrics import roc_auc_score\n",
    "\n",
    "from sklearn.utils import resample\n",
    "\n",
    "from sklearn.ensemble import RandomForestClassifier\n",
    "from sklearn.svm import SVC\n",
    "from sklearn.neural_network import MLPClassifier\n",
    "from sklearn.naive_bayes import GaussianNB, ComplementNB, MultinomialNB, BernoulliNB\n"
   ]
  },
  {
   "cell_type": "markdown",
   "id": "divine-cement",
   "metadata": {},
   "source": [
    "# Predictiong Graph in 2012"
   ]
  },
  {
   "cell_type": "markdown",
   "id": "solved-observer",
   "metadata": {},
   "source": [
    "* Load training and testing dataframes"
   ]
  },
  {
   "cell_type": "code",
   "execution_count": 4,
   "id": "configured-clinic",
   "metadata": {
    "pycharm": {
     "name": "#%%\n"
    }
   },
   "outputs": [
    {
     "data": {
      "text/html": [
       "<div>\n",
       "<style scoped>\n",
       "    .dataframe tbody tr th:only-of-type {\n",
       "        vertical-align: middle;\n",
       "    }\n",
       "\n",
       "    .dataframe tbody tr th {\n",
       "        vertical-align: top;\n",
       "    }\n",
       "\n",
       "    .dataframe thead th {\n",
       "        text-align: right;\n",
       "    }\n",
       "</style>\n",
       "<table border=\"1\" class=\"dataframe\">\n",
       "  <thead>\n",
       "    <tr style=\"text-align: right;\">\n",
       "      <th></th>\n",
       "      <th>edge_wtf</th>\n",
       "      <th>W</th>\n",
       "      <th>CN</th>\n",
       "      <th>AA</th>\n",
       "      <th>HP</th>\n",
       "      <th>HD</th>\n",
       "      <th>JC</th>\n",
       "      <th>LHN</th>\n",
       "      <th>RA</th>\n",
       "      <th>SA</th>\n",
       "      <th>SO</th>\n",
       "      <th>avg_deg</th>\n",
       "    </tr>\n",
       "  </thead>\n",
       "  <tbody>\n",
       "    <tr>\n",
       "      <th>0</th>\n",
       "      <td>0.146</td>\n",
       "      <td>0.073</td>\n",
       "      <td>86.999</td>\n",
       "      <td>18.170</td>\n",
       "      <td>5.470</td>\n",
       "      <td>1.102</td>\n",
       "      <td>0.917</td>\n",
       "      <td>0.069</td>\n",
       "      <td>4.376</td>\n",
       "      <td>4.376</td>\n",
       "      <td>1.834</td>\n",
       "      <td>630.500</td>\n",
       "    </tr>\n",
       "    <tr>\n",
       "      <th>1</th>\n",
       "      <td>0.823</td>\n",
       "      <td>0.412</td>\n",
       "      <td>138.366</td>\n",
       "      <td>31.052</td>\n",
       "      <td>2.229</td>\n",
       "      <td>1.752</td>\n",
       "      <td>0.981</td>\n",
       "      <td>0.028</td>\n",
       "      <td>9.196</td>\n",
       "      <td>9.196</td>\n",
       "      <td>1.962</td>\n",
       "      <td>791.000</td>\n",
       "    </tr>\n",
       "    <tr>\n",
       "      <th>2</th>\n",
       "      <td>0.276</td>\n",
       "      <td>0.138</td>\n",
       "      <td>97.778</td>\n",
       "      <td>21.225</td>\n",
       "      <td>4.019</td>\n",
       "      <td>1.238</td>\n",
       "      <td>0.946</td>\n",
       "      <td>0.051</td>\n",
       "      <td>5.761</td>\n",
       "      <td>5.761</td>\n",
       "      <td>1.893</td>\n",
       "      <td>684.000</td>\n",
       "    </tr>\n",
       "    <tr>\n",
       "      <th>3</th>\n",
       "      <td>0.183</td>\n",
       "      <td>0.092</td>\n",
       "      <td>104.485</td>\n",
       "      <td>23.518</td>\n",
       "      <td>3.761</td>\n",
       "      <td>1.323</td>\n",
       "      <td>0.979</td>\n",
       "      <td>0.048</td>\n",
       "      <td>6.813</td>\n",
       "      <td>6.813</td>\n",
       "      <td>1.957</td>\n",
       "      <td>752.000</td>\n",
       "    </tr>\n",
       "    <tr>\n",
       "      <th>4</th>\n",
       "      <td>0.289</td>\n",
       "      <td>0.144</td>\n",
       "      <td>111.130</td>\n",
       "      <td>25.164</td>\n",
       "      <td>3.197</td>\n",
       "      <td>1.407</td>\n",
       "      <td>0.977</td>\n",
       "      <td>0.040</td>\n",
       "      <td>7.530</td>\n",
       "      <td>7.530</td>\n",
       "      <td>1.954</td>\n",
       "      <td>752.000</td>\n",
       "    </tr>\n",
       "  </tbody>\n",
       "</table>\n",
       "</div>"
      ],
      "text/plain": [
       "   edge_wtf     W      CN     AA    HP    HD    JC   LHN    RA    SA    SO  \\\n",
       "0     0.146 0.073  86.999 18.170 5.470 1.102 0.917 0.069 4.376 4.376 1.834   \n",
       "1     0.823 0.412 138.366 31.052 2.229 1.752 0.981 0.028 9.196 9.196 1.962   \n",
       "2     0.276 0.138  97.778 21.225 4.019 1.238 0.946 0.051 5.761 5.761 1.893   \n",
       "3     0.183 0.092 104.485 23.518 3.761 1.323 0.979 0.048 6.813 6.813 1.957   \n",
       "4     0.289 0.144 111.130 25.164 3.197 1.407 0.977 0.040 7.530 7.530 1.954   \n",
       "\n",
       "   avg_deg  \n",
       "0  630.500  \n",
       "1  791.000  \n",
       "2  684.000  \n",
       "3  752.000  \n",
       "4  752.000  "
      ]
     },
     "execution_count": 4,
     "metadata": {},
     "output_type": "execute_result"
    }
   ],
   "source": [
    "with open(\"/home/c6/Desktop/OpenWPM/jsons/Prediction_new/Most_recent_graphs_Prediction/2012/train/dataframe.csv\", newline='') as csvfile:\n",
    "    training_df = pd.read_csv(csvfile)\n",
    "    \n",
    "training_df['avg_deg'] = (training_df['deg_e1']+training_df['deg_e2'])/2\n",
    "training_df = training_df.drop(['deg_e1', 'deg_e2'], axis=1)\n",
    "training_df = training_df[['e1','e2','edge_wtf','W','CN','AA','HP','HD','JC','LHN','RA','SA','SO','avg_deg','label']]\n",
    "\n",
    "X_train = training_df.iloc[:,2:-1]\n",
    "Y_train = training_df.iloc[:]['label']\n",
    "\n",
    "X_train.head()\n",
    "\n",
    "with open(\"/home/c6/Desktop/OpenWPM/jsons/Prediction_new/Most_recent_graphs_Prediction/2012/test/dataframe.csv\", newline='') as csvfile:\n",
    "    testing_df = pd.read_csv(csvfile)\n",
    "\n",
    "testing_df['avg_deg'] = (testing_df['deg_e1']+testing_df['deg_e2'])/2\n",
    "testing_df = testing_df.drop(['deg_e1', 'deg_e2'], axis=1)\n",
    "testing_df = testing_df[['e1','e2','edge_wtf','W','CN','AA','HP','HD','JC','LHN','RA','SA','SO','avg_deg','label']]\n",
    "\n",
    "\n",
    "X_test = testing_df.iloc[:,2:-1]\n",
    "Y_test = testing_df.iloc[:]['label']\n",
    "\n",
    "X_test.head()"
   ]
  },
  {
   "cell_type": "markdown",
   "id": "local-architect",
   "metadata": {},
   "source": [
    "* define evaluation function"
   ]
  },
  {
   "cell_type": "code",
   "execution_count": 5,
   "id": "deadly-recording",
   "metadata": {
    "pycharm": {
     "name": "#%%\n"
    }
   },
   "outputs": [],
   "source": [
    "def evaluate_model(predictions, actual):\n",
    "    return pd.DataFrame({\n",
    "        \"Measure\": [\"Accuracy\", \"Precision\", \"Recall\", \"f1_score\"],\n",
    "        \"Source\": [accuracy_score(actual, predictions), \n",
    "                   precision_score(actual, predictions), \n",
    "                   recall_score(actual, predictions),\n",
    "                   f1_score(actual, predictions)]\n",
    "    })"
   ]
  },
  {
   "cell_type": "markdown",
   "id": "following-boring",
   "metadata": {},
   "source": [
    "* Find important features"
   ]
  },
  {
   "cell_type": "code",
   "execution_count": 6,
   "id": "wooden-vacation",
   "metadata": {
    "pycharm": {
     "name": "#%%\n"
    }
   },
   "outputs": [],
   "source": [
    "def feature_importance(columns, classifier):\n",
    "    display(\"Feature Importance\")\n",
    "    df = pd.DataFrame({\"Features\": columns,\n",
    "                      \"Importance\": classifier.feature_importances_})\n",
    "    df = df.sort_values(\"Importance\", ascending=False)\n",
    "    ax = df.plot(kind='bar', x='Features', y='Importance', legend=None)\n",
    "    #ax.xaxist.set_label_text(\"\")\n",
    "    plt.tight_layout()\n",
    "    plt.show"
   ]
  },
  {
   "cell_type": "code",
   "execution_count": null,
   "id": "composite-deputy",
   "metadata": {
    "pycharm": {
     "name": "#%%\n"
    }
   },
   "outputs": [],
   "source": [
    "#Sweet spot\n",
    "accuracy = []\n",
    "precition = []\n",
    "recall= []\n",
    "f1 = []\n",
    "for i in range(20,200,5):\n",
    "    print(i)\n",
    "    classifier = RandomForestClassifier(n_estimators=100, max_depth=30, random_state=0, criterion=\"entropy\", \n",
    "                                        max_samples=i)\n",
    "    classifier.fit(X_train, Y_train)\n",
    "    prediction = classifier.predict(X_test)\n",
    "    accuracy.append(accuracy_score(prediction, Y_test))\n",
    "    precition.append(precision_score(prediction, Y_test))\n",
    "    recall.append(recall_score(prediction, Y_test))\n",
    "    f1.append(f1_score(prediction, Y_test))\n",
    "y = range(2,1000)\n",
    "\n",
    "df = pd.DataFrame({\"acc\":accuracy, \"pre\":precition, \"rec\":recall, \"f1\":f1})\n",
    "ax = df.plot(kind=\"scatter\", x=y,y=\"acc\", color=\"b\", label=\"acuuracy\")\n",
    "df.plot( y=\"pre\",x=y, color=\"g\", label=\"precision\", ax=ax)\n",
    "df.plot( y=\"rec\",x=y, color=\"orange\", label=\"recall\", ax=ax)\n",
    "df.plot( y=\"f1\",x=y, color=\"purple\", label=\"f1\", ax=ax)\n",
    "                            \n"
   ]
  },
  {
   "cell_type": "markdown",
   "id": "incorporate-responsibility",
   "metadata": {},
   "source": [
    "* choose a ML algorithm"
   ]
  },
  {
   "cell_type": "code",
   "execution_count": 7,
   "id": "arabic-opera",
   "metadata": {
    "pycharm": {
     "name": "#%%\n"
    }
   },
   "outputs": [],
   "source": [
    "classifier = RandomForestClassifier(n_estimators=100, max_depth=40, random_state=0, criterion=\"entropy\", \n",
    "                                    max_samples=20)"
   ]
  },
  {
   "cell_type": "markdown",
   "id": "reverse-holocaust",
   "metadata": {},
   "source": [
    "* Training"
   ]
  },
  {
   "cell_type": "code",
   "execution_count": 8,
   "id": "entire-relations",
   "metadata": {
    "pycharm": {
     "name": "#%%\n"
    }
   },
   "outputs": [
    {
     "data": {
      "text/plain": [
       "RandomForestClassifier(criterion='entropy', max_depth=40, max_samples=20,\n",
       "                       random_state=0)"
      ]
     },
     "execution_count": 8,
     "metadata": {},
     "output_type": "execute_result"
    }
   ],
   "source": [
    "classifier.fit(X_train, Y_train)"
   ]
  },
  {
   "cell_type": "markdown",
   "id": "pediatric-sensitivity",
   "metadata": {},
   "source": [
    "* Make a predict"
   ]
  },
  {
   "cell_type": "code",
   "execution_count": 9,
   "id": "unauthorized-pride",
   "metadata": {
    "pycharm": {
     "name": "#%%\n"
    }
   },
   "outputs": [],
   "source": [
    "prediction = classifier.predict(X_test)"
   ]
  },
  {
   "cell_type": "code",
   "execution_count": 10,
   "id": "fiscal-power",
   "metadata": {
    "pycharm": {
     "name": "#%%\n"
    }
   },
   "outputs": [
    {
     "data": {
      "text/html": [
       "<div>\n",
       "<style scoped>\n",
       "    .dataframe tbody tr th:only-of-type {\n",
       "        vertical-align: middle;\n",
       "    }\n",
       "\n",
       "    .dataframe tbody tr th {\n",
       "        vertical-align: top;\n",
       "    }\n",
       "\n",
       "    .dataframe thead th {\n",
       "        text-align: right;\n",
       "    }\n",
       "</style>\n",
       "<table border=\"1\" class=\"dataframe\">\n",
       "  <thead>\n",
       "    <tr style=\"text-align: right;\">\n",
       "      <th></th>\n",
       "      <th>Measure</th>\n",
       "      <th>Source</th>\n",
       "    </tr>\n",
       "  </thead>\n",
       "  <tbody>\n",
       "    <tr>\n",
       "      <th>0</th>\n",
       "      <td>Accuracy</td>\n",
       "      <td>0.865</td>\n",
       "    </tr>\n",
       "    <tr>\n",
       "      <th>1</th>\n",
       "      <td>Precision</td>\n",
       "      <td>0.858</td>\n",
       "    </tr>\n",
       "    <tr>\n",
       "      <th>2</th>\n",
       "      <td>Recall</td>\n",
       "      <td>0.645</td>\n",
       "    </tr>\n",
       "    <tr>\n",
       "      <th>3</th>\n",
       "      <td>f1_score</td>\n",
       "      <td>0.737</td>\n",
       "    </tr>\n",
       "  </tbody>\n",
       "</table>\n",
       "</div>"
      ],
      "text/plain": [
       "     Measure  Source\n",
       "0   Accuracy   0.865\n",
       "1  Precision   0.858\n",
       "2     Recall   0.645\n",
       "3   f1_score   0.737"
      ]
     },
     "metadata": {},
     "output_type": "display_data"
    }
   ],
   "source": [
    "display(evaluate_model(prediction, Y_test))"
   ]
  },
  {
   "cell_type": "code",
   "execution_count": null,
   "id": "threatened-transparency",
   "metadata": {
    "pycharm": {
     "name": "#%%\n"
    }
   },
   "outputs": [],
   "source": [
    "columns = ['edge_wtf', 'W', 'CN', 'AA', 'HP', 'HD', 'JC', 'LHN', 'RA', 'SA', 'SO', 'avg_deg']\n",
    "feature_importance(columns, classifier)"
   ]
  },
  {
   "cell_type": "markdown",
   "id": "worldwide-multimedia",
   "metadata": {},
   "source": [
    "# Predictiong Graph in 2013"
   ]
  },
  {
   "cell_type": "markdown",
   "id": "affected-missouri",
   "metadata": {},
   "source": [
    "* Load training and testing dataframes"
   ]
  },
  {
   "cell_type": "code",
   "execution_count": 11,
   "id": "dimensional-walnut",
   "metadata": {
    "pycharm": {
     "name": "#%%\n"
    }
   },
   "outputs": [
    {
     "data": {
      "text/html": [
       "<div>\n",
       "<style scoped>\n",
       "    .dataframe tbody tr th:only-of-type {\n",
       "        vertical-align: middle;\n",
       "    }\n",
       "\n",
       "    .dataframe tbody tr th {\n",
       "        vertical-align: top;\n",
       "    }\n",
       "\n",
       "    .dataframe thead th {\n",
       "        text-align: right;\n",
       "    }\n",
       "</style>\n",
       "<table border=\"1\" class=\"dataframe\">\n",
       "  <thead>\n",
       "    <tr style=\"text-align: right;\">\n",
       "      <th></th>\n",
       "      <th>edge_wtf</th>\n",
       "      <th>W</th>\n",
       "      <th>CN</th>\n",
       "      <th>AA</th>\n",
       "      <th>HP</th>\n",
       "      <th>HD</th>\n",
       "      <th>JC</th>\n",
       "      <th>LHN</th>\n",
       "      <th>RA</th>\n",
       "      <th>SA</th>\n",
       "      <th>SO</th>\n",
       "      <th>avg_deg</th>\n",
       "    </tr>\n",
       "  </thead>\n",
       "  <tbody>\n",
       "    <tr>\n",
       "      <th>0</th>\n",
       "      <td>0.261</td>\n",
       "      <td>0.112</td>\n",
       "      <td>126.489</td>\n",
       "      <td>26.017</td>\n",
       "      <td>1.972</td>\n",
       "      <td>1.914</td>\n",
       "      <td>0.971</td>\n",
       "      <td>0.030</td>\n",
       "      <td>6.640</td>\n",
       "      <td>6.640</td>\n",
       "      <td>1.943</td>\n",
       "      <td>919.000</td>\n",
       "    </tr>\n",
       "    <tr>\n",
       "      <th>1</th>\n",
       "      <td>0.133</td>\n",
       "      <td>0.057</td>\n",
       "      <td>98.146</td>\n",
       "      <td>19.514</td>\n",
       "      <td>2.603</td>\n",
       "      <td>1.485</td>\n",
       "      <td>0.946</td>\n",
       "      <td>0.039</td>\n",
       "      <td>4.508</td>\n",
       "      <td>4.508</td>\n",
       "      <td>1.892</td>\n",
       "      <td>806.500</td>\n",
       "    </tr>\n",
       "    <tr>\n",
       "      <th>2</th>\n",
       "      <td>0.568</td>\n",
       "      <td>0.245</td>\n",
       "      <td>181.191</td>\n",
       "      <td>38.571</td>\n",
       "      <td>2.742</td>\n",
       "      <td>1.539</td>\n",
       "      <td>0.986</td>\n",
       "      <td>0.023</td>\n",
       "      <td>10.908</td>\n",
       "      <td>10.908</td>\n",
       "      <td>1.972</td>\n",
       "      <td>1041.000</td>\n",
       "    </tr>\n",
       "    <tr>\n",
       "      <th>3</th>\n",
       "      <td>0.495</td>\n",
       "      <td>0.213</td>\n",
       "      <td>186.309</td>\n",
       "      <td>38.862</td>\n",
       "      <td>2.820</td>\n",
       "      <td>1.516</td>\n",
       "      <td>0.986</td>\n",
       "      <td>0.023</td>\n",
       "      <td>10.417</td>\n",
       "      <td>10.417</td>\n",
       "      <td>1.972</td>\n",
       "      <td>1021.000</td>\n",
       "    </tr>\n",
       "    <tr>\n",
       "      <th>4</th>\n",
       "      <td>0.349</td>\n",
       "      <td>0.150</td>\n",
       "      <td>133.047</td>\n",
       "      <td>28.383</td>\n",
       "      <td>2.014</td>\n",
       "      <td>1.928</td>\n",
       "      <td>0.985</td>\n",
       "      <td>0.029</td>\n",
       "      <td>7.848</td>\n",
       "      <td>7.848</td>\n",
       "      <td>1.970</td>\n",
       "      <td>965.000</td>\n",
       "    </tr>\n",
       "  </tbody>\n",
       "</table>\n",
       "</div>"
      ],
      "text/plain": [
       "   edge_wtf     W      CN     AA    HP    HD    JC   LHN     RA     SA    SO  \\\n",
       "0     0.261 0.112 126.489 26.017 1.972 1.914 0.971 0.030  6.640  6.640 1.943   \n",
       "1     0.133 0.057  98.146 19.514 2.603 1.485 0.946 0.039  4.508  4.508 1.892   \n",
       "2     0.568 0.245 181.191 38.571 2.742 1.539 0.986 0.023 10.908 10.908 1.972   \n",
       "3     0.495 0.213 186.309 38.862 2.820 1.516 0.986 0.023 10.417 10.417 1.972   \n",
       "4     0.349 0.150 133.047 28.383 2.014 1.928 0.985 0.029  7.848  7.848 1.970   \n",
       "\n",
       "   avg_deg  \n",
       "0  919.000  \n",
       "1  806.500  \n",
       "2 1041.000  \n",
       "3 1021.000  \n",
       "4  965.000  "
      ]
     },
     "execution_count": 11,
     "metadata": {},
     "output_type": "execute_result"
    }
   ],
   "source": [
    "with open(\"/home/c6/Desktop/OpenWPM/jsons/Prediction_new/Most_recent_graphs_Prediction/2013/train/dataframe.csv\", newline='') as csvfile:\n",
    "    training_df = pd.read_csv(csvfile)\n",
    "    \n",
    "training_df['avg_deg'] = (training_df['deg_e1']+training_df['deg_e2'])/2\n",
    "training_df = training_df.drop(['deg_e1', 'deg_e2'], axis=1)\n",
    "training_df = training_df[['e1','e2','edge_wtf','W','CN','AA','HP','HD','JC','LHN','RA','SA','SO','avg_deg','label']]\n",
    "\n",
    "X_train = training_df.iloc[:,2:-1]\n",
    "Y_train = training_df.iloc[:]['label']\n",
    "\n",
    "X_train.head()\n",
    "\n",
    "with open(\"/home/c6/Desktop/OpenWPM/jsons/Prediction_new/Most_recent_graphs_Prediction/2013/test/dataframe.csv\", newline='') as csvfile:\n",
    "    testing_df = pd.read_csv(csvfile)\n",
    "\n",
    "testing_df['avg_deg'] = (testing_df['deg_e1']+testing_df['deg_e2'])/2\n",
    "testing_df = testing_df.drop(['deg_e1', 'deg_e2'], axis=1)\n",
    "testing_df = testing_df[['e1','e2','edge_wtf','W','CN','AA','HP','HD','JC','LHN','RA','SA','SO','avg_deg','label']]\n",
    "\n",
    "\n",
    "X_test = testing_df.iloc[:,2:-1]\n",
    "Y_test = testing_df.iloc[:]['label']\n",
    "\n",
    "X_test.head()"
   ]
  },
  {
   "cell_type": "code",
   "execution_count": 12,
   "id": "superior-package",
   "metadata": {
    "pycharm": {
     "name": "#%%\n"
    }
   },
   "outputs": [
    {
     "data": {
      "text/html": [
       "<div>\n",
       "<style scoped>\n",
       "    .dataframe tbody tr th:only-of-type {\n",
       "        vertical-align: middle;\n",
       "    }\n",
       "\n",
       "    .dataframe tbody tr th {\n",
       "        vertical-align: top;\n",
       "    }\n",
       "\n",
       "    .dataframe thead th {\n",
       "        text-align: right;\n",
       "    }\n",
       "</style>\n",
       "<table border=\"1\" class=\"dataframe\">\n",
       "  <thead>\n",
       "    <tr style=\"text-align: right;\">\n",
       "      <th></th>\n",
       "      <th>edge_wtf</th>\n",
       "      <th>W</th>\n",
       "      <th>CN</th>\n",
       "      <th>AA</th>\n",
       "      <th>HP</th>\n",
       "      <th>HD</th>\n",
       "      <th>JC</th>\n",
       "      <th>LHN</th>\n",
       "      <th>RA</th>\n",
       "      <th>SA</th>\n",
       "      <th>SO</th>\n",
       "      <th>avg_deg</th>\n",
       "    </tr>\n",
       "  </thead>\n",
       "  <tbody>\n",
       "    <tr>\n",
       "      <th>0</th>\n",
       "      <td>0.261</td>\n",
       "      <td>0.112</td>\n",
       "      <td>126.489</td>\n",
       "      <td>26.017</td>\n",
       "      <td>1.972</td>\n",
       "      <td>1.914</td>\n",
       "      <td>0.971</td>\n",
       "      <td>0.030</td>\n",
       "      <td>6.640</td>\n",
       "      <td>6.640</td>\n",
       "      <td>1.943</td>\n",
       "      <td>919.000</td>\n",
       "    </tr>\n",
       "    <tr>\n",
       "      <th>1</th>\n",
       "      <td>0.133</td>\n",
       "      <td>0.057</td>\n",
       "      <td>98.146</td>\n",
       "      <td>19.514</td>\n",
       "      <td>2.603</td>\n",
       "      <td>1.485</td>\n",
       "      <td>0.946</td>\n",
       "      <td>0.039</td>\n",
       "      <td>4.508</td>\n",
       "      <td>4.508</td>\n",
       "      <td>1.892</td>\n",
       "      <td>806.500</td>\n",
       "    </tr>\n",
       "    <tr>\n",
       "      <th>2</th>\n",
       "      <td>0.568</td>\n",
       "      <td>0.245</td>\n",
       "      <td>181.191</td>\n",
       "      <td>38.571</td>\n",
       "      <td>2.742</td>\n",
       "      <td>1.539</td>\n",
       "      <td>0.986</td>\n",
       "      <td>0.023</td>\n",
       "      <td>10.908</td>\n",
       "      <td>10.908</td>\n",
       "      <td>1.972</td>\n",
       "      <td>1041.000</td>\n",
       "    </tr>\n",
       "    <tr>\n",
       "      <th>3</th>\n",
       "      <td>0.495</td>\n",
       "      <td>0.213</td>\n",
       "      <td>186.309</td>\n",
       "      <td>38.862</td>\n",
       "      <td>2.820</td>\n",
       "      <td>1.516</td>\n",
       "      <td>0.986</td>\n",
       "      <td>0.023</td>\n",
       "      <td>10.417</td>\n",
       "      <td>10.417</td>\n",
       "      <td>1.972</td>\n",
       "      <td>1021.000</td>\n",
       "    </tr>\n",
       "    <tr>\n",
       "      <th>4</th>\n",
       "      <td>0.349</td>\n",
       "      <td>0.150</td>\n",
       "      <td>133.047</td>\n",
       "      <td>28.383</td>\n",
       "      <td>2.014</td>\n",
       "      <td>1.928</td>\n",
       "      <td>0.985</td>\n",
       "      <td>0.029</td>\n",
       "      <td>7.848</td>\n",
       "      <td>7.848</td>\n",
       "      <td>1.970</td>\n",
       "      <td>965.000</td>\n",
       "    </tr>\n",
       "  </tbody>\n",
       "</table>\n",
       "</div>"
      ],
      "text/plain": [
       "   edge_wtf     W      CN     AA    HP    HD    JC   LHN     RA     SA    SO  \\\n",
       "0     0.261 0.112 126.489 26.017 1.972 1.914 0.971 0.030  6.640  6.640 1.943   \n",
       "1     0.133 0.057  98.146 19.514 2.603 1.485 0.946 0.039  4.508  4.508 1.892   \n",
       "2     0.568 0.245 181.191 38.571 2.742 1.539 0.986 0.023 10.908 10.908 1.972   \n",
       "3     0.495 0.213 186.309 38.862 2.820 1.516 0.986 0.023 10.417 10.417 1.972   \n",
       "4     0.349 0.150 133.047 28.383 2.014 1.928 0.985 0.029  7.848  7.848 1.970   \n",
       "\n",
       "   avg_deg  \n",
       "0  919.000  \n",
       "1  806.500  \n",
       "2 1041.000  \n",
       "3 1021.000  \n",
       "4  965.000  "
      ]
     },
     "execution_count": 12,
     "metadata": {},
     "output_type": "execute_result"
    }
   ],
   "source": [
    "X_test.head()"
   ]
  },
  {
   "cell_type": "markdown",
   "id": "loaded-championship",
   "metadata": {},
   "source": [
    "* define evaluation function"
   ]
  },
  {
   "cell_type": "code",
   "execution_count": 13,
   "id": "crucial-fifth",
   "metadata": {
    "pycharm": {
     "name": "#%%\n"
    }
   },
   "outputs": [],
   "source": [
    "def evaluate_model(predictions, actual):\n",
    "    return pd.DataFrame({\n",
    "        \"Measure\": [\"Accuracy\", \"Precision\", \"Recall\", \"F1\"],\n",
    "        \"Source\": [accuracy_score(actual, predictions),\n",
    "                   precision_score(actual, predictions),\n",
    "                   recall_score(actual, predictions),\n",
    "                   f1_score(actual,predictions)]\n",
    "    })"
   ]
  },
  {
   "cell_type": "markdown",
   "id": "innocent-hammer",
   "metadata": {},
   "source": [
    "* Find important features"
   ]
  },
  {
   "cell_type": "code",
   "execution_count": 14,
   "id": "surface-brunswick",
   "metadata": {
    "pycharm": {
     "name": "#%%\n"
    }
   },
   "outputs": [],
   "source": [
    "def feature_importance(columns, classifier):\n",
    "    display(\"Feature Importance\")\n",
    "    df = pd.DataFrame({\"Features\": columns,\n",
    "                      \"Importance\": classifier.feature_importances_})\n",
    "    df = df.sort_values(\"Importance\", ascending=False)\n",
    "    ax = df.plot(kind='bar', x='Features', y='Importance', legend=None)\n",
    "    #ax.xaxist.set_label_text(\"\")\n",
    "    plt.tight_layout()\n",
    "    plt.show"
   ]
  },
  {
   "cell_type": "markdown",
   "id": "wrapped-ghost",
   "metadata": {},
   "source": [
    "* choose a ML algorithm"
   ]
  },
  {
   "cell_type": "code",
   "execution_count": 15,
   "id": "accepting-sacramento",
   "metadata": {
    "pycharm": {
     "name": "#%%\n"
    }
   },
   "outputs": [],
   "source": [
    "classifier = RandomForestClassifier(n_estimators=30, max_depth=10, random_state=0)"
   ]
  },
  {
   "cell_type": "markdown",
   "id": "other-speed",
   "metadata": {},
   "source": [
    "* Training"
   ]
  },
  {
   "cell_type": "code",
   "execution_count": 16,
   "id": "persistent-mandate",
   "metadata": {
    "pycharm": {
     "name": "#%%\n"
    }
   },
   "outputs": [
    {
     "data": {
      "text/plain": [
       "RandomForestClassifier(max_depth=10, n_estimators=30, random_state=0)"
      ]
     },
     "execution_count": 16,
     "metadata": {},
     "output_type": "execute_result"
    }
   ],
   "source": [
    "classifier.fit(X_train, Y_train)"
   ]
  },
  {
   "cell_type": "markdown",
   "id": "arbitrary-bridal",
   "metadata": {},
   "source": [
    "* Make a predict"
   ]
  },
  {
   "cell_type": "code",
   "execution_count": 17,
   "id": "processed-robertson",
   "metadata": {
    "pycharm": {
     "name": "#%%\n"
    }
   },
   "outputs": [],
   "source": [
    "prediction = classifier.predict(X_test)"
   ]
  },
  {
   "cell_type": "code",
   "execution_count": 18,
   "id": "exclusive-maryland",
   "metadata": {
    "pycharm": {
     "name": "#%%\n"
    }
   },
   "outputs": [
    {
     "data": {
      "text/html": [
       "<div>\n",
       "<style scoped>\n",
       "    .dataframe tbody tr th:only-of-type {\n",
       "        vertical-align: middle;\n",
       "    }\n",
       "\n",
       "    .dataframe tbody tr th {\n",
       "        vertical-align: top;\n",
       "    }\n",
       "\n",
       "    .dataframe thead th {\n",
       "        text-align: right;\n",
       "    }\n",
       "</style>\n",
       "<table border=\"1\" class=\"dataframe\">\n",
       "  <thead>\n",
       "    <tr style=\"text-align: right;\">\n",
       "      <th></th>\n",
       "      <th>Measure</th>\n",
       "      <th>Source</th>\n",
       "    </tr>\n",
       "  </thead>\n",
       "  <tbody>\n",
       "    <tr>\n",
       "      <th>0</th>\n",
       "      <td>Accuracy</td>\n",
       "      <td>0.901</td>\n",
       "    </tr>\n",
       "    <tr>\n",
       "      <th>1</th>\n",
       "      <td>Precision</td>\n",
       "      <td>0.856</td>\n",
       "    </tr>\n",
       "    <tr>\n",
       "      <th>2</th>\n",
       "      <td>Recall</td>\n",
       "      <td>0.725</td>\n",
       "    </tr>\n",
       "    <tr>\n",
       "      <th>3</th>\n",
       "      <td>F1</td>\n",
       "      <td>0.785</td>\n",
       "    </tr>\n",
       "  </tbody>\n",
       "</table>\n",
       "</div>"
      ],
      "text/plain": [
       "     Measure  Source\n",
       "0   Accuracy   0.901\n",
       "1  Precision   0.856\n",
       "2     Recall   0.725\n",
       "3         F1   0.785"
      ]
     },
     "metadata": {},
     "output_type": "display_data"
    }
   ],
   "source": [
    "display(evaluate_model(prediction, Y_test))"
   ]
  },
  {
   "cell_type": "code",
   "execution_count": null,
   "id": "loving-brother",
   "metadata": {
    "pycharm": {
     "name": "#%%\n"
    }
   },
   "outputs": [],
   "source": [
    "columns = ['edge_wtf', 'W', 'CN', 'AA', 'HP', 'HD', 'JC', 'LHN', 'RA', 'SA', 'SO', 'deg_e1', 'deg_e2']\n",
    "feature_importance(columns, classifier)"
   ]
  },
  {
   "cell_type": "markdown",
   "id": "dying-jefferson",
   "metadata": {},
   "source": [
    "# Predictiong Graph in 2014"
   ]
  },
  {
   "cell_type": "markdown",
   "id": "breeding-tension",
   "metadata": {},
   "source": [
    "* Load training and testing dataframes"
   ]
  },
  {
   "cell_type": "code",
   "execution_count": 19,
   "id": "engaged-nickname",
   "metadata": {
    "pycharm": {
     "name": "#%%\n"
    }
   },
   "outputs": [
    {
     "data": {
      "text/html": [
       "<div>\n",
       "<style scoped>\n",
       "    .dataframe tbody tr th:only-of-type {\n",
       "        vertical-align: middle;\n",
       "    }\n",
       "\n",
       "    .dataframe tbody tr th {\n",
       "        vertical-align: top;\n",
       "    }\n",
       "\n",
       "    .dataframe thead th {\n",
       "        text-align: right;\n",
       "    }\n",
       "</style>\n",
       "<table border=\"1\" class=\"dataframe\">\n",
       "  <thead>\n",
       "    <tr style=\"text-align: right;\">\n",
       "      <th></th>\n",
       "      <th>edge_wtf</th>\n",
       "      <th>W</th>\n",
       "      <th>CN</th>\n",
       "      <th>AA</th>\n",
       "      <th>HP</th>\n",
       "      <th>HD</th>\n",
       "      <th>JC</th>\n",
       "      <th>LHN</th>\n",
       "      <th>RA</th>\n",
       "      <th>SA</th>\n",
       "      <th>SO</th>\n",
       "      <th>avg_deg</th>\n",
       "    </tr>\n",
       "  </thead>\n",
       "  <tbody>\n",
       "    <tr>\n",
       "      <th>0</th>\n",
       "      <td>2.055</td>\n",
       "      <td>0.795</td>\n",
       "      <td>354.210</td>\n",
       "      <td>73.133</td>\n",
       "      <td>2.021</td>\n",
       "      <td>1.935</td>\n",
       "      <td>0.989</td>\n",
       "      <td>0.011</td>\n",
       "      <td>21.905</td>\n",
       "      <td>21.905</td>\n",
       "      <td>1.977</td>\n",
       "      <td>1346.000</td>\n",
       "    </tr>\n",
       "    <tr>\n",
       "      <th>1</th>\n",
       "      <td>0.402</td>\n",
       "      <td>0.156</td>\n",
       "      <td>213.568</td>\n",
       "      <td>40.818</td>\n",
       "      <td>4.797</td>\n",
       "      <td>1.219</td>\n",
       "      <td>0.972</td>\n",
       "      <td>0.027</td>\n",
       "      <td>9.233</td>\n",
       "      <td>9.233</td>\n",
       "      <td>1.944</td>\n",
       "      <td>1119.000</td>\n",
       "    </tr>\n",
       "    <tr>\n",
       "      <th>2</th>\n",
       "      <td>0.769</td>\n",
       "      <td>0.298</td>\n",
       "      <td>258.801</td>\n",
       "      <td>52.339</td>\n",
       "      <td>2.999</td>\n",
       "      <td>1.477</td>\n",
       "      <td>0.990</td>\n",
       "      <td>0.017</td>\n",
       "      <td>14.242</td>\n",
       "      <td>14.242</td>\n",
       "      <td>1.979</td>\n",
       "      <td>1254.000</td>\n",
       "    </tr>\n",
       "    <tr>\n",
       "      <th>3</th>\n",
       "      <td>1.488</td>\n",
       "      <td>0.576</td>\n",
       "      <td>311.152</td>\n",
       "      <td>64.178</td>\n",
       "      <td>2.235</td>\n",
       "      <td>1.776</td>\n",
       "      <td>0.989</td>\n",
       "      <td>0.013</td>\n",
       "      <td>19.062</td>\n",
       "      <td>19.062</td>\n",
       "      <td>1.979</td>\n",
       "      <td>1323.000</td>\n",
       "    </tr>\n",
       "    <tr>\n",
       "      <th>4</th>\n",
       "      <td>1.459</td>\n",
       "      <td>0.564</td>\n",
       "      <td>313.899</td>\n",
       "      <td>63.904</td>\n",
       "      <td>2.211</td>\n",
       "      <td>1.791</td>\n",
       "      <td>0.990</td>\n",
       "      <td>0.013</td>\n",
       "      <td>17.976</td>\n",
       "      <td>17.976</td>\n",
       "      <td>1.979</td>\n",
       "      <td>1296.000</td>\n",
       "    </tr>\n",
       "  </tbody>\n",
       "</table>\n",
       "</div>"
      ],
      "text/plain": [
       "   edge_wtf     W      CN     AA    HP    HD    JC   LHN     RA     SA    SO  \\\n",
       "0     2.055 0.795 354.210 73.133 2.021 1.935 0.989 0.011 21.905 21.905 1.977   \n",
       "1     0.402 0.156 213.568 40.818 4.797 1.219 0.972 0.027  9.233  9.233 1.944   \n",
       "2     0.769 0.298 258.801 52.339 2.999 1.477 0.990 0.017 14.242 14.242 1.979   \n",
       "3     1.488 0.576 311.152 64.178 2.235 1.776 0.989 0.013 19.062 19.062 1.979   \n",
       "4     1.459 0.564 313.899 63.904 2.211 1.791 0.990 0.013 17.976 17.976 1.979   \n",
       "\n",
       "   avg_deg  \n",
       "0 1346.000  \n",
       "1 1119.000  \n",
       "2 1254.000  \n",
       "3 1323.000  \n",
       "4 1296.000  "
      ]
     },
     "execution_count": 19,
     "metadata": {},
     "output_type": "execute_result"
    }
   ],
   "source": [
    "with open(\"/home/c6/Desktop/OpenWPM/jsons/Prediction_new/Most_recent_graphs_Prediction/2014/train/dataframe.csv\", newline='') as csvfile:\n",
    "    training_df = pd.read_csv(csvfile)\n",
    "    \n",
    "training_df['avg_deg'] = (training_df['deg_e1']+training_df['deg_e2'])/2\n",
    "training_df = training_df.drop(['deg_e1', 'deg_e2'], axis=1)\n",
    "training_df = training_df[['e1','e2','edge_wtf','W','CN','AA','HP','HD','JC','LHN','RA','SA','SO','avg_deg','label']]\n",
    "\n",
    "X_train = training_df.iloc[:,2:-1]\n",
    "Y_train = training_df.iloc[:]['label']\n",
    "\n",
    "X_train.head()\n",
    "\n",
    "with open(\"/home/c6/Desktop/OpenWPM/jsons/Prediction_new/Most_recent_graphs_Prediction/2014/test/dataframe.csv\", newline='') as csvfile:\n",
    "    testing_df = pd.read_csv(csvfile)\n",
    "\n",
    "testing_df['avg_deg'] = (testing_df['deg_e1']+testing_df['deg_e2'])/2\n",
    "testing_df = testing_df.drop(['deg_e1', 'deg_e2'], axis=1)\n",
    "testing_df = testing_df[['e1','e2','edge_wtf','W','CN','AA','HP','HD','JC','LHN','RA','SA','SO','avg_deg','label']]\n",
    "\n",
    "\n",
    "X_test = testing_df.iloc[:,2:-1]\n",
    "Y_test = testing_df.iloc[:]['label']\n",
    "\n",
    "X_test.head()"
   ]
  },
  {
   "cell_type": "code",
   "execution_count": null,
   "id": "naval-discussion",
   "metadata": {
    "pycharm": {
     "name": "#%%\n"
    }
   },
   "outputs": [],
   "source": [
    "X_test.head()"
   ]
  },
  {
   "cell_type": "markdown",
   "id": "judicial-reform",
   "metadata": {},
   "source": [
    "* define evaluation function"
   ]
  },
  {
   "cell_type": "code",
   "execution_count": 20,
   "id": "noble-committee",
   "metadata": {
    "pycharm": {
     "name": "#%%\n"
    }
   },
   "outputs": [],
   "source": [
    "def evaluate_model(predictions, actual):\n",
    "    return pd.DataFrame({\n",
    "        \"Measure\": [\"Accuracy\", \"Precision\", \"Recall\", \"F1\"],\n",
    "        \"Source\": [accuracy_score(actual, predictions), \n",
    "                   precision_score(actual, predictions), \n",
    "                   recall_score(actual, predictions),\n",
    "                   f1_score(actual, predictions)]\n",
    "    })"
   ]
  },
  {
   "cell_type": "markdown",
   "id": "descending-pleasure",
   "metadata": {},
   "source": [
    "* Find important features"
   ]
  },
  {
   "cell_type": "code",
   "execution_count": 21,
   "id": "educated-greece",
   "metadata": {
    "pycharm": {
     "name": "#%%\n"
    }
   },
   "outputs": [],
   "source": [
    "def feature_importance(columns, classifier):\n",
    "    display(\"Feature Importance\")\n",
    "    df = pd.DataFrame({\"Features\": columns,\n",
    "                      \"Importance\": classifier.feature_importances_})\n",
    "    df = df.sort_values(\"Importance\", ascending=False)\n",
    "    ax = df.plot(kind='bar', x='Features', y='Importance', legend=None)\n",
    "    #ax.xaxist.set_label_text(\"\")\n",
    "    plt.tight_layout()\n",
    "    plt.show"
   ]
  },
  {
   "cell_type": "markdown",
   "id": "accepted-county",
   "metadata": {},
   "source": [
    "* choose a ML algorithm"
   ]
  },
  {
   "cell_type": "code",
   "execution_count": 22,
   "id": "actual-category",
   "metadata": {
    "pycharm": {
     "name": "#%%\n"
    }
   },
   "outputs": [],
   "source": [
    "classifier = RandomForestClassifier(n_estimators=30, max_depth=10, random_state=0)"
   ]
  },
  {
   "cell_type": "markdown",
   "id": "solid-plymouth",
   "metadata": {},
   "source": [
    "* Training"
   ]
  },
  {
   "cell_type": "code",
   "execution_count": 23,
   "id": "rising-reminder",
   "metadata": {
    "pycharm": {
     "name": "#%%\n"
    }
   },
   "outputs": [
    {
     "data": {
      "text/plain": [
       "RandomForestClassifier(max_depth=10, n_estimators=30, random_state=0)"
      ]
     },
     "execution_count": 23,
     "metadata": {},
     "output_type": "execute_result"
    }
   ],
   "source": [
    "classifier.fit(X_train, Y_train)"
   ]
  },
  {
   "cell_type": "markdown",
   "id": "entertaining-batman",
   "metadata": {},
   "source": [
    "* Make a predict"
   ]
  },
  {
   "cell_type": "code",
   "execution_count": 24,
   "id": "democratic-savannah",
   "metadata": {
    "pycharm": {
     "name": "#%%\n"
    }
   },
   "outputs": [],
   "source": [
    "prediction = classifier.predict(X_test)"
   ]
  },
  {
   "cell_type": "code",
   "execution_count": 25,
   "id": "seeing-madonna",
   "metadata": {
    "pycharm": {
     "name": "#%%\n"
    }
   },
   "outputs": [
    {
     "data": {
      "text/html": [
       "<div>\n",
       "<style scoped>\n",
       "    .dataframe tbody tr th:only-of-type {\n",
       "        vertical-align: middle;\n",
       "    }\n",
       "\n",
       "    .dataframe tbody tr th {\n",
       "        vertical-align: top;\n",
       "    }\n",
       "\n",
       "    .dataframe thead th {\n",
       "        text-align: right;\n",
       "    }\n",
       "</style>\n",
       "<table border=\"1\" class=\"dataframe\">\n",
       "  <thead>\n",
       "    <tr style=\"text-align: right;\">\n",
       "      <th></th>\n",
       "      <th>Measure</th>\n",
       "      <th>Source</th>\n",
       "    </tr>\n",
       "  </thead>\n",
       "  <tbody>\n",
       "    <tr>\n",
       "      <th>0</th>\n",
       "      <td>Accuracy</td>\n",
       "      <td>0.872</td>\n",
       "    </tr>\n",
       "    <tr>\n",
       "      <th>1</th>\n",
       "      <td>Precision</td>\n",
       "      <td>0.918</td>\n",
       "    </tr>\n",
       "    <tr>\n",
       "      <th>2</th>\n",
       "      <td>Recall</td>\n",
       "      <td>0.636</td>\n",
       "    </tr>\n",
       "    <tr>\n",
       "      <th>3</th>\n",
       "      <td>F1</td>\n",
       "      <td>0.752</td>\n",
       "    </tr>\n",
       "  </tbody>\n",
       "</table>\n",
       "</div>"
      ],
      "text/plain": [
       "     Measure  Source\n",
       "0   Accuracy   0.872\n",
       "1  Precision   0.918\n",
       "2     Recall   0.636\n",
       "3         F1   0.752"
      ]
     },
     "metadata": {},
     "output_type": "display_data"
    }
   ],
   "source": [
    "display(evaluate_model(prediction, Y_test))"
   ]
  },
  {
   "cell_type": "code",
   "execution_count": 27,
   "id": "harmful-blanket",
   "metadata": {
    "pycharm": {
     "name": "#%%\n"
    }
   },
   "outputs": [
    {
     "data": {
      "text/plain": [
       "'Feature Importance'"
      ]
     },
     "metadata": {},
     "output_type": "display_data"
    },
    {
     "data": {
      "image/png": "[encoded data removed]",
      "text/plain": [
       "<Figure size 432x288 with 1 Axes>"
      ]
     },
     "metadata": {},
     "output_type": "display_data"
    }
   ],
   "source": [
    "columns = ['edge_wtf', 'W', 'CN', 'AA', 'HP', 'HD', 'JC', 'LHN', 'RA', 'SA', 'SO', 'avg_deg']\n",
    "feature_importance(columns, classifier)"
   ]
  },
  {
   "cell_type": "markdown",
   "id": "unlikely-comfort",
   "metadata": {},
   "source": [
    "# Predictiong Graph in 2015"
   ]
  },
  {
   "cell_type": "markdown",
   "id": "selected-instrumentation",
   "metadata": {},
   "source": [
    "* Load training and testing dataframes"
   ]
  },
  {
   "cell_type": "code",
   "execution_count": 28,
   "id": "insured-yukon",
   "metadata": {
    "pycharm": {
     "name": "#%%\n"
    }
   },
   "outputs": [
    {
     "data": {
      "text/html": [
       "<div>\n",
       "<style scoped>\n",
       "    .dataframe tbody tr th:only-of-type {\n",
       "        vertical-align: middle;\n",
       "    }\n",
       "\n",
       "    .dataframe tbody tr th {\n",
       "        vertical-align: top;\n",
       "    }\n",
       "\n",
       "    .dataframe thead th {\n",
       "        text-align: right;\n",
       "    }\n",
       "</style>\n",
       "<table border=\"1\" class=\"dataframe\">\n",
       "  <thead>\n",
       "    <tr style=\"text-align: right;\">\n",
       "      <th></th>\n",
       "      <th>edge_wtf</th>\n",
       "      <th>W</th>\n",
       "      <th>CN</th>\n",
       "      <th>AA</th>\n",
       "      <th>HP</th>\n",
       "      <th>HD</th>\n",
       "      <th>JC</th>\n",
       "      <th>LHN</th>\n",
       "      <th>RA</th>\n",
       "      <th>SA</th>\n",
       "      <th>SO</th>\n",
       "      <th>avg_deg</th>\n",
       "    </tr>\n",
       "  </thead>\n",
       "  <tbody>\n",
       "    <tr>\n",
       "      <th>0</th>\n",
       "      <td>0.602</td>\n",
       "      <td>0.215</td>\n",
       "      <td>272.158</td>\n",
       "      <td>51.993</td>\n",
       "      <td>2.423</td>\n",
       "      <td>1.668</td>\n",
       "      <td>0.988</td>\n",
       "      <td>0.015</td>\n",
       "      <td>12.558</td>\n",
       "      <td>12.558</td>\n",
       "      <td>1.976</td>\n",
       "      <td>1550.000</td>\n",
       "    </tr>\n",
       "    <tr>\n",
       "      <th>1</th>\n",
       "      <td>0.115</td>\n",
       "      <td>0.041</td>\n",
       "      <td>146.026</td>\n",
       "      <td>26.939</td>\n",
       "      <td>3.934</td>\n",
       "      <td>1.300</td>\n",
       "      <td>0.977</td>\n",
       "      <td>0.035</td>\n",
       "      <td>5.520</td>\n",
       "      <td>5.520</td>\n",
       "      <td>1.954</td>\n",
       "      <td>1345.000</td>\n",
       "    </tr>\n",
       "    <tr>\n",
       "      <th>2</th>\n",
       "      <td>0.579</td>\n",
       "      <td>0.206</td>\n",
       "      <td>254.580</td>\n",
       "      <td>47.676</td>\n",
       "      <td>2.267</td>\n",
       "      <td>1.750</td>\n",
       "      <td>0.988</td>\n",
       "      <td>0.016</td>\n",
       "      <td>10.541</td>\n",
       "      <td>10.541</td>\n",
       "      <td>1.975</td>\n",
       "      <td>1508.500</td>\n",
       "    </tr>\n",
       "    <tr>\n",
       "      <th>3</th>\n",
       "      <td>0.102</td>\n",
       "      <td>0.036</td>\n",
       "      <td>127.471</td>\n",
       "      <td>22.694</td>\n",
       "      <td>6.169</td>\n",
       "      <td>1.135</td>\n",
       "      <td>0.959</td>\n",
       "      <td>0.055</td>\n",
       "      <td>4.210</td>\n",
       "      <td>4.210</td>\n",
       "      <td>1.917</td>\n",
       "      <td>1131.000</td>\n",
       "    </tr>\n",
       "    <tr>\n",
       "      <th>4</th>\n",
       "      <td>0.756</td>\n",
       "      <td>0.269</td>\n",
       "      <td>219.157</td>\n",
       "      <td>41.219</td>\n",
       "      <td>2.014</td>\n",
       "      <td>1.951</td>\n",
       "      <td>0.991</td>\n",
       "      <td>0.018</td>\n",
       "      <td>9.612</td>\n",
       "      <td>9.612</td>\n",
       "      <td>1.982</td>\n",
       "      <td>1371.500</td>\n",
       "    </tr>\n",
       "  </tbody>\n",
       "</table>\n",
       "</div>"
      ],
      "text/plain": [
       "   edge_wtf     W      CN     AA    HP    HD    JC   LHN     RA     SA    SO  \\\n",
       "0     0.602 0.215 272.158 51.993 2.423 1.668 0.988 0.015 12.558 12.558 1.976   \n",
       "1     0.115 0.041 146.026 26.939 3.934 1.300 0.977 0.035  5.520  5.520 1.954   \n",
       "2     0.579 0.206 254.580 47.676 2.267 1.750 0.988 0.016 10.541 10.541 1.975   \n",
       "3     0.102 0.036 127.471 22.694 6.169 1.135 0.959 0.055  4.210  4.210 1.917   \n",
       "4     0.756 0.269 219.157 41.219 2.014 1.951 0.991 0.018  9.612  9.612 1.982   \n",
       "\n",
       "   avg_deg  \n",
       "0 1550.000  \n",
       "1 1345.000  \n",
       "2 1508.500  \n",
       "3 1131.000  \n",
       "4 1371.500  "
      ]
     },
     "execution_count": 28,
     "metadata": {},
     "output_type": "execute_result"
    }
   ],
   "source": [
    "with open(\"/home/c6/Desktop/OpenWPM/jsons/Prediction_new/Most_recent_graphs_Prediction/2015/train/dataframe.csv\", newline='') as csvfile:\n",
    "    training_df = pd.read_csv(csvfile)\n",
    "    \n",
    "training_df['avg_deg'] = (training_df['deg_e1']+training_df['deg_e2'])/2\n",
    "training_df = training_df.drop(['deg_e1', 'deg_e2'], axis=1)\n",
    "training_df = training_df[['e1','e2','edge_wtf','W','CN','AA','HP','HD','JC','LHN','RA','SA','SO','avg_deg','label']]\n",
    "\n",
    "X_train = training_df.iloc[:,2:-1]\n",
    "Y_train = training_df.iloc[:]['label']\n",
    "\n",
    "X_train.head()\n",
    "\n",
    "with open(\"/home/c6/Desktop/OpenWPM/jsons/Prediction_new/Most_recent_graphs_Prediction/2015/test/dataframe.csv\", newline='') as csvfile:\n",
    "    testing_df = pd.read_csv(csvfile)\n",
    "\n",
    "testing_df['avg_deg'] = (testing_df['deg_e1']+testing_df['deg_e2'])/2\n",
    "testing_df = testing_df.drop(['deg_e1', 'deg_e2'], axis=1)\n",
    "testing_df = testing_df[['e1','e2','edge_wtf','W','CN','AA','HP','HD','JC','LHN','RA','SA','SO','avg_deg','label']]\n",
    "\n",
    "\n",
    "X_test = testing_df.iloc[:,2:-1]\n",
    "Y_test = testing_df.iloc[:]['label']\n",
    "\n",
    "X_test.head()"
   ]
  },
  {
   "cell_type": "code",
   "execution_count": null,
   "id": "differential-loading",
   "metadata": {
    "pycharm": {
     "name": "#%%\n"
    }
   },
   "outputs": [],
   "source": [
    "X_test.head()"
   ]
  },
  {
   "cell_type": "markdown",
   "id": "favorite-symbol",
   "metadata": {},
   "source": [
    "* define evaluation function"
   ]
  },
  {
   "cell_type": "code",
   "execution_count": 29,
   "id": "former-ideal",
   "metadata": {
    "pycharm": {
     "name": "#%%\n"
    }
   },
   "outputs": [],
   "source": [
    "def evaluate_model(predictions, actual):\n",
    "    return pd.DataFrame({\n",
    "        \"Measure\": [\"Accuracy\", \"Precision\", \"Recall\", \"F1\"],\n",
    "        \"Source\": [accuracy_score(actual, predictions), \n",
    "                   precision_score(actual, predictions), \n",
    "                   recall_score(actual, predictions),\n",
    "                   f1_score(actual, predictions)]\n",
    "    })"
   ]
  },
  {
   "cell_type": "markdown",
   "id": "separated-germany",
   "metadata": {},
   "source": [
    "* Find important features"
   ]
  },
  {
   "cell_type": "code",
   "execution_count": 30,
   "id": "statistical-pixel",
   "metadata": {
    "pycharm": {
     "name": "#%%\n"
    }
   },
   "outputs": [],
   "source": [
    "def feature_importance(columns, classifier):\n",
    "    display(\"Feature Importance\")\n",
    "    df = pd.DataFrame({\"Features\": columns,\n",
    "                      \"Importance\": classifier.feature_importances_})\n",
    "    df = df.sort_values(\"Importance\", ascending=False)\n",
    "    ax = df.plot(kind='bar', x='Features', y='Importance', legend=None)\n",
    "    #ax.xaxist.set_label_text(\"\")\n",
    "    plt.tight_layout()\n",
    "    plt.show"
   ]
  },
  {
   "cell_type": "markdown",
   "id": "exclusive-innocent",
   "metadata": {},
   "source": [
    "* choose a ML algorithm"
   ]
  },
  {
   "cell_type": "code",
   "execution_count": 31,
   "id": "smart-dictionary",
   "metadata": {
    "pycharm": {
     "name": "#%%\n"
    }
   },
   "outputs": [],
   "source": [
    "classifier = RandomForestClassifier(n_estimators=30, max_depth=10, random_state=0)"
   ]
  },
  {
   "cell_type": "markdown",
   "id": "shared-regression",
   "metadata": {},
   "source": [
    "* Training"
   ]
  },
  {
   "cell_type": "code",
   "execution_count": 32,
   "id": "elementary-regular",
   "metadata": {
    "pycharm": {
     "name": "#%%\n"
    }
   },
   "outputs": [
    {
     "data": {
      "text/plain": [
       "RandomForestClassifier(max_depth=10, n_estimators=30, random_state=0)"
      ]
     },
     "execution_count": 32,
     "metadata": {},
     "output_type": "execute_result"
    }
   ],
   "source": [
    "classifier.fit(X_train, Y_train)"
   ]
  },
  {
   "cell_type": "markdown",
   "id": "massive-elephant",
   "metadata": {},
   "source": [
    "* Make a predict"
   ]
  },
  {
   "cell_type": "code",
   "execution_count": 33,
   "id": "selective-incidence",
   "metadata": {
    "pycharm": {
     "name": "#%%\n"
    }
   },
   "outputs": [],
   "source": [
    "prediction = classifier.predict(X_test)"
   ]
  },
  {
   "cell_type": "code",
   "execution_count": 34,
   "id": "adaptive-eagle",
   "metadata": {
    "pycharm": {
     "name": "#%%\n"
    }
   },
   "outputs": [
    {
     "data": {
      "text/html": [
       "<div>\n",
       "<style scoped>\n",
       "    .dataframe tbody tr th:only-of-type {\n",
       "        vertical-align: middle;\n",
       "    }\n",
       "\n",
       "    .dataframe tbody tr th {\n",
       "        vertical-align: top;\n",
       "    }\n",
       "\n",
       "    .dataframe thead th {\n",
       "        text-align: right;\n",
       "    }\n",
       "</style>\n",
       "<table border=\"1\" class=\"dataframe\">\n",
       "  <thead>\n",
       "    <tr style=\"text-align: right;\">\n",
       "      <th></th>\n",
       "      <th>Measure</th>\n",
       "      <th>Source</th>\n",
       "    </tr>\n",
       "  </thead>\n",
       "  <tbody>\n",
       "    <tr>\n",
       "      <th>0</th>\n",
       "      <td>Accuracy</td>\n",
       "      <td>0.880</td>\n",
       "    </tr>\n",
       "    <tr>\n",
       "      <th>1</th>\n",
       "      <td>Precision</td>\n",
       "      <td>0.806</td>\n",
       "    </tr>\n",
       "    <tr>\n",
       "      <th>2</th>\n",
       "      <td>Recall</td>\n",
       "      <td>0.736</td>\n",
       "    </tr>\n",
       "    <tr>\n",
       "      <th>3</th>\n",
       "      <td>F1</td>\n",
       "      <td>0.770</td>\n",
       "    </tr>\n",
       "  </tbody>\n",
       "</table>\n",
       "</div>"
      ],
      "text/plain": [
       "     Measure  Source\n",
       "0   Accuracy   0.880\n",
       "1  Precision   0.806\n",
       "2     Recall   0.736\n",
       "3         F1   0.770"
      ]
     },
     "metadata": {},
     "output_type": "display_data"
    }
   ],
   "source": [
    "display(evaluate_model(prediction, Y_test))"
   ]
  },
  {
   "cell_type": "code",
   "execution_count": 35,
   "id": "fancy-august",
   "metadata": {
    "pycharm": {
     "name": "#%%\n"
    }
   },
   "outputs": [
    {
     "data": {
      "text/plain": [
       "'Feature Importance'"
      ]
     },
     "metadata": {},
     "output_type": "display_data"
    },
    {
     "data": {
      "image/png": "[encoded data removed]",
      "text/plain": [
       "<Figure size 432x288 with 1 Axes>"
      ]
     },
     "metadata": {},
     "output_type": "display_data"
    }
   ],
   "source": [
    "columns = ['edge_wtf', 'W', 'CN', 'AA', 'HP', 'HD', 'JC', 'LHN', 'RA', 'SA', 'SO', 'avg_deg']\n",
    "feature_importance(columns, classifier)"
   ]
  },
  {
   "cell_type": "markdown",
   "id": "generic-darkness",
   "metadata": {},
   "source": [
    "# Predictiong Graph in 2016"
   ]
  },
  {
   "cell_type": "markdown",
   "id": "public-estimate",
   "metadata": {},
   "source": [
    "* Load training and testing dataframes"
   ]
  },
  {
   "cell_type": "code",
   "execution_count": 36,
   "id": "rubber-coaching",
   "metadata": {
    "pycharm": {
     "name": "#%%\n"
    }
   },
   "outputs": [
    {
     "data": {
      "text/html": [
       "<div>\n",
       "<style scoped>\n",
       "    .dataframe tbody tr th:only-of-type {\n",
       "        vertical-align: middle;\n",
       "    }\n",
       "\n",
       "    .dataframe tbody tr th {\n",
       "        vertical-align: top;\n",
       "    }\n",
       "\n",
       "    .dataframe thead th {\n",
       "        text-align: right;\n",
       "    }\n",
       "</style>\n",
       "<table border=\"1\" class=\"dataframe\">\n",
       "  <thead>\n",
       "    <tr style=\"text-align: right;\">\n",
       "      <th></th>\n",
       "      <th>edge_wtf</th>\n",
       "      <th>W</th>\n",
       "      <th>CN</th>\n",
       "      <th>AA</th>\n",
       "      <th>HP</th>\n",
       "      <th>HD</th>\n",
       "      <th>JC</th>\n",
       "      <th>LHN</th>\n",
       "      <th>RA</th>\n",
       "      <th>SA</th>\n",
       "      <th>SO</th>\n",
       "      <th>avg_deg</th>\n",
       "    </tr>\n",
       "  </thead>\n",
       "  <tbody>\n",
       "    <tr>\n",
       "      <th>0</th>\n",
       "      <td>0.050</td>\n",
       "      <td>0.017</td>\n",
       "      <td>142.322</td>\n",
       "      <td>25.085</td>\n",
       "      <td>18.882</td>\n",
       "      <td>0.939</td>\n",
       "      <td>0.894</td>\n",
       "      <td>0.125</td>\n",
       "      <td>4.230</td>\n",
       "      <td>4.230</td>\n",
       "      <td>1.789</td>\n",
       "      <td>1340.500</td>\n",
       "    </tr>\n",
       "    <tr>\n",
       "      <th>1</th>\n",
       "      <td>0.049</td>\n",
       "      <td>0.016</td>\n",
       "      <td>145.239</td>\n",
       "      <td>25.892</td>\n",
       "      <td>16.675</td>\n",
       "      <td>0.958</td>\n",
       "      <td>0.906</td>\n",
       "      <td>0.110</td>\n",
       "      <td>4.556</td>\n",
       "      <td>4.556</td>\n",
       "      <td>1.812</td>\n",
       "      <td>1362.500</td>\n",
       "    </tr>\n",
       "    <tr>\n",
       "      <th>2</th>\n",
       "      <td>0.834</td>\n",
       "      <td>0.278</td>\n",
       "      <td>311.494</td>\n",
       "      <td>62.516</td>\n",
       "      <td>2.055</td>\n",
       "      <td>1.924</td>\n",
       "      <td>0.994</td>\n",
       "      <td>0.013</td>\n",
       "      <td>17.397</td>\n",
       "      <td>17.397</td>\n",
       "      <td>1.987</td>\n",
       "      <td>1922.500</td>\n",
       "    </tr>\n",
       "    <tr>\n",
       "      <th>3</th>\n",
       "      <td>1.107</td>\n",
       "      <td>0.369</td>\n",
       "      <td>369.029</td>\n",
       "      <td>73.912</td>\n",
       "      <td>2.435</td>\n",
       "      <td>1.678</td>\n",
       "      <td>0.993</td>\n",
       "      <td>0.011</td>\n",
       "      <td>20.926</td>\n",
       "      <td>20.926</td>\n",
       "      <td>1.986</td>\n",
       "      <td>1996.500</td>\n",
       "    </tr>\n",
       "    <tr>\n",
       "      <th>4</th>\n",
       "      <td>0.022</td>\n",
       "      <td>0.007</td>\n",
       "      <td>137.265</td>\n",
       "      <td>23.904</td>\n",
       "      <td>33.210</td>\n",
       "      <td>0.906</td>\n",
       "      <td>0.882</td>\n",
       "      <td>0.219</td>\n",
       "      <td>3.828</td>\n",
       "      <td>3.828</td>\n",
       "      <td>1.763</td>\n",
       "      <td>1317.000</td>\n",
       "    </tr>\n",
       "  </tbody>\n",
       "</table>\n",
       "</div>"
      ],
      "text/plain": [
       "   edge_wtf     W      CN     AA     HP    HD    JC   LHN     RA     SA    SO  \\\n",
       "0     0.050 0.017 142.322 25.085 18.882 0.939 0.894 0.125  4.230  4.230 1.789   \n",
       "1     0.049 0.016 145.239 25.892 16.675 0.958 0.906 0.110  4.556  4.556 1.812   \n",
       "2     0.834 0.278 311.494 62.516  2.055 1.924 0.994 0.013 17.397 17.397 1.987   \n",
       "3     1.107 0.369 369.029 73.912  2.435 1.678 0.993 0.011 20.926 20.926 1.986   \n",
       "4     0.022 0.007 137.265 23.904 33.210 0.906 0.882 0.219  3.828  3.828 1.763   \n",
       "\n",
       "   avg_deg  \n",
       "0 1340.500  \n",
       "1 1362.500  \n",
       "2 1922.500  \n",
       "3 1996.500  \n",
       "4 1317.000  "
      ]
     },
     "execution_count": 36,
     "metadata": {},
     "output_type": "execute_result"
    }
   ],
   "source": [
    "with open(\"/home/c6/Desktop/OpenWPM/jsons/Prediction_new/Most_recent_graphs_Prediction/2016/train/dataframe.csv\", newline='') as csvfile:\n",
    "    training_df = pd.read_csv(csvfile)\n",
    "    \n",
    "training_df['avg_deg'] = (training_df['deg_e1']+training_df['deg_e2'])/2\n",
    "training_df = training_df.drop(['deg_e1', 'deg_e2'], axis=1)\n",
    "training_df = training_df[['e1','e2','edge_wtf','W','CN','AA','HP','HD','JC','LHN','RA','SA','SO','avg_deg','label']]\n",
    "\n",
    "X_train = training_df.iloc[:,2:-1]\n",
    "Y_train = training_df.iloc[:]['label']\n",
    "\n",
    "X_train.head()\n",
    "\n",
    "with open(\"/home/c6/Desktop/OpenWPM/jsons/Prediction_new/Most_recent_graphs_Prediction/2016/test/dataframe.csv\", newline='') as csvfile:\n",
    "    testing_df = pd.read_csv(csvfile)\n",
    "\n",
    "testing_df['avg_deg'] = (testing_df['deg_e1']+testing_df['deg_e2'])/2\n",
    "testing_df = testing_df.drop(['deg_e1', 'deg_e2'], axis=1)\n",
    "testing_df = testing_df[['e1','e2','edge_wtf','W','CN','AA','HP','HD','JC','LHN','RA','SA','SO','avg_deg','label']]\n",
    "\n",
    "\n",
    "X_test = testing_df.iloc[:,2:-1]\n",
    "Y_test = testing_df.iloc[:]['label']\n",
    "\n",
    "X_test.head()"
   ]
  },
  {
   "cell_type": "code",
   "execution_count": null,
   "id": "burning-visiting",
   "metadata": {
    "pycharm": {
     "name": "#%%\n"
    }
   },
   "outputs": [],
   "source": [
    "X_test.head()"
   ]
  },
  {
   "cell_type": "markdown",
   "id": "historical-poverty",
   "metadata": {},
   "source": [
    "* define evaluation function"
   ]
  },
  {
   "cell_type": "code",
   "execution_count": 37,
   "id": "defensive-bracelet",
   "metadata": {
    "pycharm": {
     "name": "#%%\n"
    }
   },
   "outputs": [],
   "source": [
    "def evaluate_model(predictions, actual):\n",
    "    return pd.DataFrame({\n",
    "        \"Measure\": [\"Accuracy\", \"Precision\", \"Recall\", \"F1\"],\n",
    "        \"Source\": [accuracy_score(actual, predictions), \n",
    "                   precision_score(actual, predictions), \n",
    "                   recall_score(actual, predictions),\n",
    "                   f1_score(actual, predictions)]\n",
    "    })"
   ]
  },
  {
   "cell_type": "markdown",
   "id": "gross-target",
   "metadata": {},
   "source": [
    "* Find important features"
   ]
  },
  {
   "cell_type": "code",
   "execution_count": 38,
   "id": "designing-study",
   "metadata": {
    "pycharm": {
     "name": "#%%\n"
    }
   },
   "outputs": [],
   "source": [
    "def feature_importance(columns, classifier):\n",
    "    display(\"Feature Importance\")\n",
    "    df = pd.DataFrame({\"Features\": columns,\n",
    "                      \"Importance\": classifier.feature_importances_})\n",
    "    df = df.sort_values(\"Importance\", ascending=False)\n",
    "    ax = df.plot(kind='bar', x='Features', y='Importance', legend=None)\n",
    "    #ax.xaxist.set_label_text(\"\")\n",
    "    plt.tight_layout()\n",
    "    plt.show"
   ]
  },
  {
   "cell_type": "markdown",
   "id": "statewide-eugene",
   "metadata": {},
   "source": [
    "* choose a ML algorithm"
   ]
  },
  {
   "cell_type": "code",
   "execution_count": 39,
   "id": "opponent-female",
   "metadata": {
    "pycharm": {
     "name": "#%%\n"
    }
   },
   "outputs": [],
   "source": [
    "classifier = RandomForestClassifier(n_estimators=30, max_depth=10, random_state=0)"
   ]
  },
  {
   "cell_type": "markdown",
   "id": "devoted-valve",
   "metadata": {},
   "source": [
    "* Training"
   ]
  },
  {
   "cell_type": "code",
   "execution_count": 40,
   "id": "graphic-magazine",
   "metadata": {
    "pycharm": {
     "name": "#%%\n"
    }
   },
   "outputs": [
    {
     "data": {
      "text/plain": [
       "RandomForestClassifier(max_depth=10, n_estimators=30, random_state=0)"
      ]
     },
     "execution_count": 40,
     "metadata": {},
     "output_type": "execute_result"
    }
   ],
   "source": [
    "classifier.fit(X_train, Y_train)"
   ]
  },
  {
   "cell_type": "markdown",
   "id": "public-monroe",
   "metadata": {},
   "source": [
    "* Make a predict"
   ]
  },
  {
   "cell_type": "code",
   "execution_count": 41,
   "id": "historic-bicycle",
   "metadata": {
    "pycharm": {
     "name": "#%%\n"
    }
   },
   "outputs": [],
   "source": [
    "prediction = classifier.predict(X_test)"
   ]
  },
  {
   "cell_type": "code",
   "execution_count": 42,
   "id": "compatible-census",
   "metadata": {
    "pycharm": {
     "name": "#%%\n"
    }
   },
   "outputs": [
    {
     "data": {
      "text/html": [
       "<div>\n",
       "<style scoped>\n",
       "    .dataframe tbody tr th:only-of-type {\n",
       "        vertical-align: middle;\n",
       "    }\n",
       "\n",
       "    .dataframe tbody tr th {\n",
       "        vertical-align: top;\n",
       "    }\n",
       "\n",
       "    .dataframe thead th {\n",
       "        text-align: right;\n",
       "    }\n",
       "</style>\n",
       "<table border=\"1\" class=\"dataframe\">\n",
       "  <thead>\n",
       "    <tr style=\"text-align: right;\">\n",
       "      <th></th>\n",
       "      <th>Measure</th>\n",
       "      <th>Source</th>\n",
       "    </tr>\n",
       "  </thead>\n",
       "  <tbody>\n",
       "    <tr>\n",
       "      <th>0</th>\n",
       "      <td>Accuracy</td>\n",
       "      <td>0.871</td>\n",
       "    </tr>\n",
       "    <tr>\n",
       "      <th>1</th>\n",
       "      <td>Precision</td>\n",
       "      <td>0.924</td>\n",
       "    </tr>\n",
       "    <tr>\n",
       "      <th>2</th>\n",
       "      <td>Recall</td>\n",
       "      <td>0.650</td>\n",
       "    </tr>\n",
       "    <tr>\n",
       "      <th>3</th>\n",
       "      <td>F1</td>\n",
       "      <td>0.763</td>\n",
       "    </tr>\n",
       "  </tbody>\n",
       "</table>\n",
       "</div>"
      ],
      "text/plain": [
       "     Measure  Source\n",
       "0   Accuracy   0.871\n",
       "1  Precision   0.924\n",
       "2     Recall   0.650\n",
       "3         F1   0.763"
      ]
     },
     "metadata": {},
     "output_type": "display_data"
    }
   ],
   "source": [
    "display(evaluate_model(prediction, Y_test))"
   ]
  },
  {
   "cell_type": "code",
   "execution_count": 43,
   "id": "systematic-blade",
   "metadata": {
    "pycharm": {
     "name": "#%%\n"
    }
   },
   "outputs": [
    {
     "data": {
      "text/plain": [
       "'Feature Importance'"
      ]
     },
     "metadata": {},
     "output_type": "display_data"
    },
    {
     "data": {
      "image/png": "[encoded data removed]",
      "text/plain": [
       "<Figure size 432x288 with 1 Axes>"
      ]
     },
     "metadata": {},
     "output_type": "display_data"
    }
   ],
   "source": [
    "columns = ['edge_wtf', 'W', 'CN', 'AA', 'HP', 'HD', 'JC', 'LHN', 'RA', 'SA', 'SO', 'avg_deg']\n",
    "feature_importance(columns, classifier)"
   ]
  },
  {
   "cell_type": "markdown",
   "id": "victorian-basket",
   "metadata": {},
   "source": [
    "# Predictiong Graph in 2017"
   ]
  },
  {
   "cell_type": "markdown",
   "id": "south-defensive",
   "metadata": {},
   "source": [
    "* Load training and testing dataframes"
   ]
  },
  {
   "cell_type": "code",
   "execution_count": 44,
   "id": "internal-house",
   "metadata": {
    "pycharm": {
     "name": "#%%\n"
    }
   },
   "outputs": [
    {
     "data": {
      "text/html": [
       "<div>\n",
       "<style scoped>\n",
       "    .dataframe tbody tr th:only-of-type {\n",
       "        vertical-align: middle;\n",
       "    }\n",
       "\n",
       "    .dataframe tbody tr th {\n",
       "        vertical-align: top;\n",
       "    }\n",
       "\n",
       "    .dataframe thead th {\n",
       "        text-align: right;\n",
       "    }\n",
       "</style>\n",
       "<table border=\"1\" class=\"dataframe\">\n",
       "  <thead>\n",
       "    <tr style=\"text-align: right;\">\n",
       "      <th></th>\n",
       "      <th>edge_wtf</th>\n",
       "      <th>W</th>\n",
       "      <th>CN</th>\n",
       "      <th>AA</th>\n",
       "      <th>HP</th>\n",
       "      <th>HD</th>\n",
       "      <th>JC</th>\n",
       "      <th>LHN</th>\n",
       "      <th>RA</th>\n",
       "      <th>SA</th>\n",
       "      <th>SO</th>\n",
       "      <th>avg_deg</th>\n",
       "    </tr>\n",
       "  </thead>\n",
       "  <tbody>\n",
       "    <tr>\n",
       "      <th>0</th>\n",
       "      <td>1.015</td>\n",
       "      <td>0.320</td>\n",
       "      <td>363.698</td>\n",
       "      <td>72.323</td>\n",
       "      <td>2.088</td>\n",
       "      <td>1.898</td>\n",
       "      <td>0.994</td>\n",
       "      <td>0.011</td>\n",
       "      <td>20.786</td>\n",
       "      <td>20.786</td>\n",
       "      <td>1.989</td>\n",
       "      <td>2480.000</td>\n",
       "    </tr>\n",
       "    <tr>\n",
       "      <th>1</th>\n",
       "      <td>1.242</td>\n",
       "      <td>0.392</td>\n",
       "      <td>406.440</td>\n",
       "      <td>80.104</td>\n",
       "      <td>2.334</td>\n",
       "      <td>1.730</td>\n",
       "      <td>0.993</td>\n",
       "      <td>0.010</td>\n",
       "      <td>22.902</td>\n",
       "      <td>22.902</td>\n",
       "      <td>1.987</td>\n",
       "      <td>2512.000</td>\n",
       "    </tr>\n",
       "    <tr>\n",
       "      <th>2</th>\n",
       "      <td>0.026</td>\n",
       "      <td>0.008</td>\n",
       "      <td>170.921</td>\n",
       "      <td>31.077</td>\n",
       "      <td>29.306</td>\n",
       "      <td>0.981</td>\n",
       "      <td>0.950</td>\n",
       "      <td>0.168</td>\n",
       "      <td>6.384</td>\n",
       "      <td>6.384</td>\n",
       "      <td>1.899</td>\n",
       "      <td>1928.000</td>\n",
       "    </tr>\n",
       "    <tr>\n",
       "      <th>3</th>\n",
       "      <td>1.262</td>\n",
       "      <td>0.398</td>\n",
       "      <td>410.395</td>\n",
       "      <td>80.841</td>\n",
       "      <td>2.356</td>\n",
       "      <td>1.718</td>\n",
       "      <td>0.993</td>\n",
       "      <td>0.010</td>\n",
       "      <td>23.039</td>\n",
       "      <td>23.039</td>\n",
       "      <td>1.987</td>\n",
       "      <td>2512.000</td>\n",
       "    </tr>\n",
       "    <tr>\n",
       "      <th>4</th>\n",
       "      <td>0.419</td>\n",
       "      <td>0.132</td>\n",
       "      <td>244.344</td>\n",
       "      <td>48.587</td>\n",
       "      <td>3.412</td>\n",
       "      <td>1.403</td>\n",
       "      <td>0.994</td>\n",
       "      <td>0.020</td>\n",
       "      <td>13.912</td>\n",
       "      <td>13.912</td>\n",
       "      <td>1.988</td>\n",
       "      <td>2359.500</td>\n",
       "    </tr>\n",
       "  </tbody>\n",
       "</table>\n",
       "</div>"
      ],
      "text/plain": [
       "   edge_wtf     W      CN     AA     HP    HD    JC   LHN     RA     SA    SO  \\\n",
       "0     1.015 0.320 363.698 72.323  2.088 1.898 0.994 0.011 20.786 20.786 1.989   \n",
       "1     1.242 0.392 406.440 80.104  2.334 1.730 0.993 0.010 22.902 22.902 1.987   \n",
       "2     0.026 0.008 170.921 31.077 29.306 0.981 0.950 0.168  6.384  6.384 1.899   \n",
       "3     1.262 0.398 410.395 80.841  2.356 1.718 0.993 0.010 23.039 23.039 1.987   \n",
       "4     0.419 0.132 244.344 48.587  3.412 1.403 0.994 0.020 13.912 13.912 1.988   \n",
       "\n",
       "   avg_deg  \n",
       "0 2480.000  \n",
       "1 2512.000  \n",
       "2 1928.000  \n",
       "3 2512.000  \n",
       "4 2359.500  "
      ]
     },
     "execution_count": 44,
     "metadata": {},
     "output_type": "execute_result"
    }
   ],
   "source": [
    "with open(\"/home/c6/Desktop/OpenWPM/jsons/Prediction_new/Most_recent_graphs_Prediction/2017/train/dataframe.csv\", newline='') as csvfile:\n",
    "    training_df = pd.read_csv(csvfile)\n",
    "    \n",
    "training_df['avg_deg'] = (training_df['deg_e1']+training_df['deg_e2'])/2\n",
    "training_df = training_df.drop(['deg_e1', 'deg_e2'], axis=1)\n",
    "training_df = training_df[['e1','e2','edge_wtf','W','CN','AA','HP','HD','JC','LHN','RA','SA','SO','avg_deg','label']]\n",
    "\n",
    "X_train = training_df.iloc[:,2:-1]\n",
    "Y_train = training_df.iloc[:]['label']\n",
    "\n",
    "X_train.head()\n",
    "\n",
    "with open(\"/home/c6/Desktop/OpenWPM/jsons/Prediction_new/Most_recent_graphs_Prediction/2017/test/dataframe.csv\", newline='') as csvfile:\n",
    "    testing_df = pd.read_csv(csvfile)\n",
    "\n",
    "testing_df['avg_deg'] = (testing_df['deg_e1']+testing_df['deg_e2'])/2\n",
    "testing_df = testing_df.drop(['deg_e1', 'deg_e2'], axis=1)\n",
    "testing_df = testing_df[['e1','e2','edge_wtf','W','CN','AA','HP','HD','JC','LHN','RA','SA','SO','avg_deg','label']]\n",
    "\n",
    "\n",
    "X_test = testing_df.iloc[:,2:-1]\n",
    "Y_test = testing_df.iloc[:]['label']\n",
    "\n",
    "X_test.head()"
   ]
  },
  {
   "cell_type": "code",
   "execution_count": null,
   "id": "finished-frank",
   "metadata": {
    "pycharm": {
     "name": "#%%\n"
    }
   },
   "outputs": [],
   "source": [
    "X_test.head()"
   ]
  },
  {
   "cell_type": "markdown",
   "id": "pacific-edwards",
   "metadata": {},
   "source": [
    "* define evaluation function"
   ]
  },
  {
   "cell_type": "code",
   "execution_count": 45,
   "id": "abandoned-feedback",
   "metadata": {
    "pycharm": {
     "name": "#%%\n"
    }
   },
   "outputs": [],
   "source": [
    "def evaluate_model(predictions, actual):\n",
    "    return pd.DataFrame({\n",
    "        \"Measure\": [\"Accuracy\", \"Precision\", \"Recall\", \"F1\"],\n",
    "        \"Source\": [accuracy_score(actual, predictions), \n",
    "                   precision_score(actual, predictions), \n",
    "                   recall_score(actual, predictions),\n",
    "                   f1_score(actual,predictions)]\n",
    "    })"
   ]
  },
  {
   "cell_type": "markdown",
   "id": "public-valuation",
   "metadata": {},
   "source": [
    "* Find important features"
   ]
  },
  {
   "cell_type": "code",
   "execution_count": 46,
   "id": "honest-productivity",
   "metadata": {
    "pycharm": {
     "name": "#%%\n"
    }
   },
   "outputs": [],
   "source": [
    "def feature_importance(columns, classifier):\n",
    "    display(\"Feature Importance\")\n",
    "    df = pd.DataFrame({\"Features\": columns,\n",
    "                      \"Importance\": classifier.feature_importances_})\n",
    "    df = df.sort_values(\"Importance\", ascending=False)\n",
    "    ax = df.plot(kind='bar', x='Features', y='Importance', legend=None)\n",
    "    #ax.xaxist.set_label_text(\"\")\n",
    "    plt.tight_layout()\n",
    "    plt.show"
   ]
  },
  {
   "cell_type": "markdown",
   "id": "headed-essence",
   "metadata": {},
   "source": [
    "* choose a ML algorithm"
   ]
  },
  {
   "cell_type": "code",
   "execution_count": 47,
   "id": "controlled-sender",
   "metadata": {
    "pycharm": {
     "name": "#%%\n"
    }
   },
   "outputs": [],
   "source": [
    "classifier = RandomForestClassifier(n_estimators=30, max_depth=10, random_state=0)"
   ]
  },
  {
   "cell_type": "markdown",
   "id": "supported-senior",
   "metadata": {},
   "source": [
    "* Training"
   ]
  },
  {
   "cell_type": "code",
   "execution_count": 48,
   "id": "tight-artwork",
   "metadata": {
    "pycharm": {
     "name": "#%%\n"
    }
   },
   "outputs": [
    {
     "data": {
      "text/plain": [
       "RandomForestClassifier(max_depth=10, n_estimators=30, random_state=0)"
      ]
     },
     "execution_count": 48,
     "metadata": {},
     "output_type": "execute_result"
    }
   ],
   "source": [
    "classifier.fit(X_train, Y_train)"
   ]
  },
  {
   "cell_type": "markdown",
   "id": "behind-difference",
   "metadata": {},
   "source": [
    "* Make a predict"
   ]
  },
  {
   "cell_type": "code",
   "execution_count": 49,
   "id": "developmental-accounting",
   "metadata": {
    "pycharm": {
     "name": "#%%\n"
    }
   },
   "outputs": [],
   "source": [
    "prediction = classifier.predict(X_test)"
   ]
  },
  {
   "cell_type": "code",
   "execution_count": 50,
   "id": "italian-liberia",
   "metadata": {
    "pycharm": {
     "name": "#%%\n"
    }
   },
   "outputs": [
    {
     "data": {
      "text/html": [
       "<div>\n",
       "<style scoped>\n",
       "    .dataframe tbody tr th:only-of-type {\n",
       "        vertical-align: middle;\n",
       "    }\n",
       "\n",
       "    .dataframe tbody tr th {\n",
       "        vertical-align: top;\n",
       "    }\n",
       "\n",
       "    .dataframe thead th {\n",
       "        text-align: right;\n",
       "    }\n",
       "</style>\n",
       "<table border=\"1\" class=\"dataframe\">\n",
       "  <thead>\n",
       "    <tr style=\"text-align: right;\">\n",
       "      <th></th>\n",
       "      <th>Measure</th>\n",
       "      <th>Source</th>\n",
       "    </tr>\n",
       "  </thead>\n",
       "  <tbody>\n",
       "    <tr>\n",
       "      <th>0</th>\n",
       "      <td>Accuracy</td>\n",
       "      <td>0.892</td>\n",
       "    </tr>\n",
       "    <tr>\n",
       "      <th>1</th>\n",
       "      <td>Precision</td>\n",
       "      <td>0.875</td>\n",
       "    </tr>\n",
       "    <tr>\n",
       "      <th>2</th>\n",
       "      <td>Recall</td>\n",
       "      <td>0.796</td>\n",
       "    </tr>\n",
       "    <tr>\n",
       "      <th>3</th>\n",
       "      <td>F1</td>\n",
       "      <td>0.834</td>\n",
       "    </tr>\n",
       "  </tbody>\n",
       "</table>\n",
       "</div>"
      ],
      "text/plain": [
       "     Measure  Source\n",
       "0   Accuracy   0.892\n",
       "1  Precision   0.875\n",
       "2     Recall   0.796\n",
       "3         F1   0.834"
      ]
     },
     "metadata": {},
     "output_type": "display_data"
    }
   ],
   "source": [
    "display(evaluate_model(prediction, Y_test))"
   ]
  },
  {
   "cell_type": "code",
   "execution_count": 51,
   "id": "junior-sandwich",
   "metadata": {
    "pycharm": {
     "name": "#%%\n"
    }
   },
   "outputs": [
    {
     "data": {
      "text/plain": [
       "'Feature Importance'"
      ]
     },
     "metadata": {},
     "output_type": "display_data"
    },
    {
     "data": {
      "image/png": "[encoded data removed]",
      "text/plain": [
       "<Figure size 432x288 with 1 Axes>"
      ]
     },
     "metadata": {},
     "output_type": "display_data"
    }
   ],
   "source": [
    "columns = ['edge_wtf', 'W', 'CN', 'AA', 'HP', 'HD', 'JC', 'LHN', 'RA', 'SA', 'SO', 'avg_deg']\n",
    "feature_importance(columns, classifier)\n"
   ]
  },
  {
   "cell_type": "markdown",
   "id": "productive-problem",
   "metadata": {},
   "source": [
    "# Predictiong Graph in 2018"
   ]
  },
  {
   "cell_type": "markdown",
   "id": "durable-hardware",
   "metadata": {},
   "source": [
    "* Load training and testing dataframes"
   ]
  },
  {
   "cell_type": "code",
   "execution_count": 52,
   "id": "heavy-butler",
   "metadata": {
    "pycharm": {
     "name": "#%%\n"
    }
   },
   "outputs": [
    {
     "data": {
      "text/html": [
       "<div>\n",
       "<style scoped>\n",
       "    .dataframe tbody tr th:only-of-type {\n",
       "        vertical-align: middle;\n",
       "    }\n",
       "\n",
       "    .dataframe tbody tr th {\n",
       "        vertical-align: top;\n",
       "    }\n",
       "\n",
       "    .dataframe thead th {\n",
       "        text-align: right;\n",
       "    }\n",
       "</style>\n",
       "<table border=\"1\" class=\"dataframe\">\n",
       "  <thead>\n",
       "    <tr style=\"text-align: right;\">\n",
       "      <th></th>\n",
       "      <th>edge_wtf</th>\n",
       "      <th>W</th>\n",
       "      <th>CN</th>\n",
       "      <th>AA</th>\n",
       "      <th>HP</th>\n",
       "      <th>HD</th>\n",
       "      <th>JC</th>\n",
       "      <th>LHN</th>\n",
       "      <th>RA</th>\n",
       "      <th>SA</th>\n",
       "      <th>SO</th>\n",
       "      <th>avg_deg</th>\n",
       "    </tr>\n",
       "  </thead>\n",
       "  <tbody>\n",
       "    <tr>\n",
       "      <th>0</th>\n",
       "      <td>0.058</td>\n",
       "      <td>0.018</td>\n",
       "      <td>105.153</td>\n",
       "      <td>21.641</td>\n",
       "      <td>3.553</td>\n",
       "      <td>1.376</td>\n",
       "      <td>0.992</td>\n",
       "      <td>0.046</td>\n",
       "      <td>6.538</td>\n",
       "      <td>6.538</td>\n",
       "      <td>1.984</td>\n",
       "      <td>2344.000</td>\n",
       "    </tr>\n",
       "    <tr>\n",
       "      <th>1</th>\n",
       "      <td>0.042</td>\n",
       "      <td>0.013</td>\n",
       "      <td>109.052</td>\n",
       "      <td>21.379</td>\n",
       "      <td>3.215</td>\n",
       "      <td>1.427</td>\n",
       "      <td>0.988</td>\n",
       "      <td>0.042</td>\n",
       "      <td>5.687</td>\n",
       "      <td>5.687</td>\n",
       "      <td>1.977</td>\n",
       "      <td>2203.500</td>\n",
       "    </tr>\n",
       "    <tr>\n",
       "      <th>2</th>\n",
       "      <td>0.054</td>\n",
       "      <td>0.016</td>\n",
       "      <td>85.135</td>\n",
       "      <td>15.398</td>\n",
       "      <td>6.019</td>\n",
       "      <td>1.114</td>\n",
       "      <td>0.940</td>\n",
       "      <td>0.079</td>\n",
       "      <td>2.998</td>\n",
       "      <td>2.998</td>\n",
       "      <td>1.880</td>\n",
       "      <td>1856.000</td>\n",
       "    </tr>\n",
       "    <tr>\n",
       "      <th>3</th>\n",
       "      <td>0.021</td>\n",
       "      <td>0.006</td>\n",
       "      <td>82.304</td>\n",
       "      <td>15.355</td>\n",
       "      <td>8.769</td>\n",
       "      <td>1.077</td>\n",
       "      <td>0.959</td>\n",
       "      <td>0.115</td>\n",
       "      <td>3.283</td>\n",
       "      <td>3.283</td>\n",
       "      <td>1.918</td>\n",
       "      <td>1947.500</td>\n",
       "    </tr>\n",
       "    <tr>\n",
       "      <th>4</th>\n",
       "      <td>0.089</td>\n",
       "      <td>0.027</td>\n",
       "      <td>148.225</td>\n",
       "      <td>29.546</td>\n",
       "      <td>2.042</td>\n",
       "      <td>1.940</td>\n",
       "      <td>0.995</td>\n",
       "      <td>0.027</td>\n",
       "      <td>8.200</td>\n",
       "      <td>8.200</td>\n",
       "      <td>1.989</td>\n",
       "      <td>2404.000</td>\n",
       "    </tr>\n",
       "  </tbody>\n",
       "</table>\n",
       "</div>"
      ],
      "text/plain": [
       "   edge_wtf     W      CN     AA    HP    HD    JC   LHN    RA    SA    SO  \\\n",
       "0     0.058 0.018 105.153 21.641 3.553 1.376 0.992 0.046 6.538 6.538 1.984   \n",
       "1     0.042 0.013 109.052 21.379 3.215 1.427 0.988 0.042 5.687 5.687 1.977   \n",
       "2     0.054 0.016  85.135 15.398 6.019 1.114 0.940 0.079 2.998 2.998 1.880   \n",
       "3     0.021 0.006  82.304 15.355 8.769 1.077 0.959 0.115 3.283 3.283 1.918   \n",
       "4     0.089 0.027 148.225 29.546 2.042 1.940 0.995 0.027 8.200 8.200 1.989   \n",
       "\n",
       "   avg_deg  \n",
       "0 2344.000  \n",
       "1 2203.500  \n",
       "2 1856.000  \n",
       "3 1947.500  \n",
       "4 2404.000  "
      ]
     },
     "execution_count": 52,
     "metadata": {},
     "output_type": "execute_result"
    }
   ],
   "source": [
    "with open(\"/home/c6/Desktop/OpenWPM/jsons/Prediction_new/Most_recent_graphs_Prediction/2018/train/dataframe.csv\", newline='') as csvfile:\n",
    "    training_df = pd.read_csv(csvfile)\n",
    "    \n",
    "training_df['avg_deg'] = (training_df['deg_e1']+training_df['deg_e2'])/2\n",
    "training_df = training_df.drop(['deg_e1', 'deg_e2'], axis=1)\n",
    "training_df = training_df[['e1','e2','edge_wtf','W','CN','AA','HP','HD','JC','LHN','RA','SA','SO','avg_deg','label']]\n",
    "\n",
    "X_train = training_df.iloc[:,2:-1]\n",
    "Y_train = training_df.iloc[:]['label']\n",
    "\n",
    "X_train.head()\n",
    "\n",
    "with open(\"/home/c6/Desktop/OpenWPM/jsons/Prediction_new/Most_recent_graphs_Prediction/2018/test/dataframe.csv\", newline='') as csvfile:\n",
    "    testing_df = pd.read_csv(csvfile)\n",
    "\n",
    "testing_df['avg_deg'] = (testing_df['deg_e1']+testing_df['deg_e2'])/2\n",
    "testing_df = testing_df.drop(['deg_e1', 'deg_e2'], axis=1)\n",
    "testing_df = testing_df[['e1','e2','edge_wtf','W','CN','AA','HP','HD','JC','LHN','RA','SA','SO','avg_deg','label']]\n",
    "\n",
    "\n",
    "X_test = testing_df.iloc[:,2:-1]\n",
    "Y_test = testing_df.iloc[:]['label']\n",
    "\n",
    "X_test.head()"
   ]
  },
  {
   "cell_type": "code",
   "execution_count": null,
   "id": "driving-strap",
   "metadata": {
    "pycharm": {
     "name": "#%%\n"
    }
   },
   "outputs": [],
   "source": [
    "X_test.head()"
   ]
  },
  {
   "cell_type": "markdown",
   "id": "stable-intensity",
   "metadata": {},
   "source": [
    "* define evaluation function"
   ]
  },
  {
   "cell_type": "code",
   "execution_count": 53,
   "id": "suitable-oklahoma",
   "metadata": {
    "pycharm": {
     "name": "#%%\n"
    }
   },
   "outputs": [],
   "source": [
    "def evaluate_model(predictions, actual):\n",
    "    return pd.DataFrame({\n",
    "        \"Measure\": [\"Accuracy\", \"Precision\", \"Recall\",\"F1\"],\n",
    "        \"Source\": [accuracy_score(actual, predictions), \n",
    "                   precision_score(actual, predictions), \n",
    "                   recall_score(actual, predictions),\n",
    "                   f1_score(actual, predictions)]\n",
    "    })"
   ]
  },
  {
   "cell_type": "markdown",
   "id": "comfortable-insurance",
   "metadata": {},
   "source": [
    "* Find important features"
   ]
  },
  {
   "cell_type": "code",
   "execution_count": 54,
   "id": "animal-syria",
   "metadata": {
    "pycharm": {
     "name": "#%%\n"
    }
   },
   "outputs": [],
   "source": [
    "def feature_importance(columns, classifier):\n",
    "    display(\"Feature Importance\")\n",
    "    df = pd.DataFrame({\"Features\": columns,\n",
    "                      \"Importance\": classifier.feature_importances_})\n",
    "    df = df.sort_values(\"Importance\", ascending=False)\n",
    "    ax = df.plot(kind='bar', x='Features', y='Importance', legend=None)\n",
    "    #ax.xaxist.set_label_text(\"\")\n",
    "    plt.tight_layout()\n",
    "    plt.show"
   ]
  },
  {
   "cell_type": "markdown",
   "id": "conservative-communist",
   "metadata": {},
   "source": [
    "* choose a ML algorithm"
   ]
  },
  {
   "cell_type": "code",
   "execution_count": 55,
   "id": "through-feeding",
   "metadata": {
    "pycharm": {
     "name": "#%%\n"
    }
   },
   "outputs": [],
   "source": [
    "classifier = RandomForestClassifier(n_estimators=30, max_depth=10, random_state=0)"
   ]
  },
  {
   "cell_type": "markdown",
   "id": "hairy-punch",
   "metadata": {},
   "source": [
    "* Training"
   ]
  },
  {
   "cell_type": "code",
   "execution_count": 56,
   "id": "architectural-suicide",
   "metadata": {
    "pycharm": {
     "name": "#%%\n"
    }
   },
   "outputs": [
    {
     "data": {
      "text/plain": [
       "RandomForestClassifier(max_depth=10, n_estimators=30, random_state=0)"
      ]
     },
     "execution_count": 56,
     "metadata": {},
     "output_type": "execute_result"
    }
   ],
   "source": [
    "classifier.fit(X_train, Y_train)"
   ]
  },
  {
   "cell_type": "markdown",
   "id": "grand-sociology",
   "metadata": {},
   "source": [
    "* Make a predict"
   ]
  },
  {
   "cell_type": "code",
   "execution_count": 57,
   "id": "natural-province",
   "metadata": {
    "pycharm": {
     "name": "#%%\n"
    }
   },
   "outputs": [],
   "source": [
    "prediction = classifier.predict(X_test)"
   ]
  },
  {
   "cell_type": "code",
   "execution_count": 58,
   "id": "average-richards",
   "metadata": {
    "pycharm": {
     "name": "#%%\n"
    }
   },
   "outputs": [
    {
     "data": {
      "text/html": [
       "<div>\n",
       "<style scoped>\n",
       "    .dataframe tbody tr th:only-of-type {\n",
       "        vertical-align: middle;\n",
       "    }\n",
       "\n",
       "    .dataframe tbody tr th {\n",
       "        vertical-align: top;\n",
       "    }\n",
       "\n",
       "    .dataframe thead th {\n",
       "        text-align: right;\n",
       "    }\n",
       "</style>\n",
       "<table border=\"1\" class=\"dataframe\">\n",
       "  <thead>\n",
       "    <tr style=\"text-align: right;\">\n",
       "      <th></th>\n",
       "      <th>Measure</th>\n",
       "      <th>Source</th>\n",
       "    </tr>\n",
       "  </thead>\n",
       "  <tbody>\n",
       "    <tr>\n",
       "      <th>0</th>\n",
       "      <td>Accuracy</td>\n",
       "      <td>0.883</td>\n",
       "    </tr>\n",
       "    <tr>\n",
       "      <th>1</th>\n",
       "      <td>Precision</td>\n",
       "      <td>0.716</td>\n",
       "    </tr>\n",
       "    <tr>\n",
       "      <th>2</th>\n",
       "      <td>Recall</td>\n",
       "      <td>0.835</td>\n",
       "    </tr>\n",
       "    <tr>\n",
       "      <th>3</th>\n",
       "      <td>F1</td>\n",
       "      <td>0.771</td>\n",
       "    </tr>\n",
       "  </tbody>\n",
       "</table>\n",
       "</div>"
      ],
      "text/plain": [
       "     Measure  Source\n",
       "0   Accuracy   0.883\n",
       "1  Precision   0.716\n",
       "2     Recall   0.835\n",
       "3         F1   0.771"
      ]
     },
     "metadata": {},
     "output_type": "display_data"
    }
   ],
   "source": [
    "display(evaluate_model(prediction, Y_test))"
   ]
  },
  {
   "cell_type": "code",
   "execution_count": null,
   "id": "curious-wonder",
   "metadata": {
    "pycharm": {
     "name": "#%%\n"
    }
   },
   "outputs": [],
   "source": [
    "columns = ['edge_wtf', 'W', 'CN', 'AA', 'HP', 'HD', 'JC', 'LHN', 'RA', 'SA', 'SO', 'deg_avg']\n",
    "feature_importance(columns, classifier)\n"
   ]
  },
  {
   "cell_type": "markdown",
   "id": "eight-bulgaria",
   "metadata": {},
   "source": [
    "# Predictiong Graph in 2019"
   ]
  },
  {
   "cell_type": "markdown",
   "id": "adult-newcastle",
   "metadata": {},
   "source": [
    "* Load training and testing dataframes"
   ]
  },
  {
   "cell_type": "code",
   "execution_count": 97,
   "id": "painful-pharmacy",
   "metadata": {
    "pycharm": {
     "name": "#%%\n"
    }
   },
   "outputs": [
    {
     "data": {
      "text/html": [
       "<div>\n",
       "<style scoped>\n",
       "    .dataframe tbody tr th:only-of-type {\n",
       "        vertical-align: middle;\n",
       "    }\n",
       "\n",
       "    .dataframe tbody tr th {\n",
       "        vertical-align: top;\n",
       "    }\n",
       "\n",
       "    .dataframe thead th {\n",
       "        text-align: right;\n",
       "    }\n",
       "</style>\n",
       "<table border=\"1\" class=\"dataframe\">\n",
       "  <thead>\n",
       "    <tr style=\"text-align: right;\">\n",
       "      <th></th>\n",
       "      <th>edge_wtf</th>\n",
       "      <th>W</th>\n",
       "      <th>CN</th>\n",
       "      <th>AA</th>\n",
       "      <th>HP</th>\n",
       "      <th>HD</th>\n",
       "      <th>JC</th>\n",
       "      <th>LHN</th>\n",
       "      <th>RA</th>\n",
       "      <th>SA</th>\n",
       "      <th>SO</th>\n",
       "      <th>avg_deg</th>\n",
       "    </tr>\n",
       "  </thead>\n",
       "  <tbody>\n",
       "    <tr>\n",
       "      <th>0</th>\n",
       "      <td>1.588</td>\n",
       "      <td>0.459</td>\n",
       "      <td>706.951</td>\n",
       "      <td>108.856</td>\n",
       "      <td>2.000</td>\n",
       "      <td>1.981</td>\n",
       "      <td>0.995</td>\n",
       "      <td>0.006</td>\n",
       "      <td>16.839</td>\n",
       "      <td>16.839</td>\n",
       "      <td>1.990</td>\n",
       "      <td>2611.000</td>\n",
       "    </tr>\n",
       "    <tr>\n",
       "      <th>1</th>\n",
       "      <td>1.659</td>\n",
       "      <td>0.480</td>\n",
       "      <td>746.657</td>\n",
       "      <td>115.387</td>\n",
       "      <td>2.112</td>\n",
       "      <td>1.882</td>\n",
       "      <td>0.995</td>\n",
       "      <td>0.005</td>\n",
       "      <td>18.203</td>\n",
       "      <td>18.203</td>\n",
       "      <td>1.991</td>\n",
       "      <td>2637.000</td>\n",
       "    </tr>\n",
       "    <tr>\n",
       "      <th>2</th>\n",
       "      <td>1.416</td>\n",
       "      <td>0.409</td>\n",
       "      <td>668.557</td>\n",
       "      <td>101.069</td>\n",
       "      <td>2.097</td>\n",
       "      <td>1.891</td>\n",
       "      <td>0.994</td>\n",
       "      <td>0.006</td>\n",
       "      <td>14.342</td>\n",
       "      <td>14.342</td>\n",
       "      <td>1.989</td>\n",
       "      <td>2525.000</td>\n",
       "    </tr>\n",
       "    <tr>\n",
       "      <th>3</th>\n",
       "      <td>1.499</td>\n",
       "      <td>0.433</td>\n",
       "      <td>692.171</td>\n",
       "      <td>105.704</td>\n",
       "      <td>2.023</td>\n",
       "      <td>1.958</td>\n",
       "      <td>0.995</td>\n",
       "      <td>0.006</td>\n",
       "      <td>15.713</td>\n",
       "      <td>15.713</td>\n",
       "      <td>1.990</td>\n",
       "      <td>2564.000</td>\n",
       "    </tr>\n",
       "    <tr>\n",
       "      <th>4</th>\n",
       "      <td>1.559</td>\n",
       "      <td>0.451</td>\n",
       "      <td>705.663</td>\n",
       "      <td>107.847</td>\n",
       "      <td>1.996</td>\n",
       "      <td>1.984</td>\n",
       "      <td>0.995</td>\n",
       "      <td>0.006</td>\n",
       "      <td>16.190</td>\n",
       "      <td>16.190</td>\n",
       "      <td>1.990</td>\n",
       "      <td>2588.500</td>\n",
       "    </tr>\n",
       "  </tbody>\n",
       "</table>\n",
       "</div>"
      ],
      "text/plain": [
       "   edge_wtf     W      CN      AA    HP    HD    JC   LHN     RA     SA    SO  \\\n",
       "0     1.588 0.459 706.951 108.856 2.000 1.981 0.995 0.006 16.839 16.839 1.990   \n",
       "1     1.659 0.480 746.657 115.387 2.112 1.882 0.995 0.005 18.203 18.203 1.991   \n",
       "2     1.416 0.409 668.557 101.069 2.097 1.891 0.994 0.006 14.342 14.342 1.989   \n",
       "3     1.499 0.433 692.171 105.704 2.023 1.958 0.995 0.006 15.713 15.713 1.990   \n",
       "4     1.559 0.451 705.663 107.847 1.996 1.984 0.995 0.006 16.190 16.190 1.990   \n",
       "\n",
       "   avg_deg  \n",
       "0 2611.000  \n",
       "1 2637.000  \n",
       "2 2525.000  \n",
       "3 2564.000  \n",
       "4 2588.500  "
      ]
     },
     "execution_count": 97,
     "metadata": {},
     "output_type": "execute_result"
    }
   ],
   "source": [
    "with open(\"/home/c6/Desktop/OpenWPM/jsons/Prediction_new/Most_recent_graphs_Prediction/2019/train/dataframe.csv\", newline='') as csvfile:\n",
    "    training_df = pd.read_csv(csvfile)\n",
    "    \n",
    "training_df['avg_deg'] = (training_df['deg_e1']+training_df['deg_e2'])/2\n",
    "training_df = training_df.drop(['deg_e1', 'deg_e2'], axis=1)\n",
    "training_df = training_df[['e1','e2','edge_wtf','W','CN','AA','HP','HD','JC','LHN','RA','SA','SO','avg_deg','label']]\n",
    "\n",
    "X_train = training_df.iloc[:,2:-1]\n",
    "Y_train = training_df.iloc[:]['label']\n",
    "\n",
    "X_train.head()\n",
    "\n",
    "with open(\"/home/c6/Desktop/OpenWPM/jsons/Prediction_new/Most_recent_graphs_Prediction/2019/test/dataframe.csv\", newline='') as csvfile:\n",
    "    testing_df = pd.read_csv(csvfile)\n",
    "\n",
    "testing_df['avg_deg'] = (testing_df['deg_e1']+testing_df['deg_e2'])/2\n",
    "testing_df = testing_df.drop(['deg_e1', 'deg_e2'], axis=1)\n",
    "testing_df = testing_df[['e1','e2','edge_wtf','W','CN','AA','HP','HD','JC','LHN','RA','SA','SO','avg_deg','label']]\n",
    "\n",
    "\n",
    "X_test = testing_df.iloc[:,2:-1]\n",
    "Y_test = testing_df.iloc[:]['label']\n",
    "\n",
    "X_test.head()"
   ]
  },
  {
   "cell_type": "code",
   "execution_count": 98,
   "id": "gorgeous-garage",
   "metadata": {
    "pycharm": {
     "name": "#%%\n"
    }
   },
   "outputs": [
    {
     "name": "stdout",
     "output_type": "stream",
     "text": [
      "Positive Samples:  1271167\n",
      "Negative_samples:  4114336\n"
     ]
    }
   ],
   "source": [
    "positive_samples = 0\n",
    "negative_sample = 0\n",
    "for i in Y_train:\n",
    "    if i==1:\n",
    "        positive_samples += 1 \n",
    "    else:\n",
    "        negative_sample += 1\n",
    "\n",
    "print(\"Positive Samples: \", positive_samples)\n",
    "print(\"Negative_samples: \", negative_sample)"
   ]
  },
  {
   "cell_type": "markdown",
   "id": "elder-picture",
   "metadata": {},
   "source": [
    "### upsample minority class"
   ]
  },
  {
   "cell_type": "code",
   "execution_count": 112,
   "id": "downtown-alignment",
   "metadata": {
    "pycharm": {
     "name": "#%%\n"
    }
   },
   "outputs": [],
   "source": [
    "# Separate majority and minority classes\n",
    "df_majority = training_df[training_df.label==0]\n",
    "df_minority = training_df[training_df.label==1]\n",
    " \n",
    "# Upsample minority class\n",
    "df_minority_upsampled = resample(df_minority, \n",
    "                                 replace=True,     # sample with replacement\n",
    "                                 n_samples=6171504,    # to match majority class\n",
    "                                 random_state=123) # reproducible results\n",
    " \n",
    "# Combine majority class with upsampled minority class\n",
    "df_upsampled = pd.concat([df_majority, df_minority_upsampled])\n",
    " \n",
    "# Display new class counts\n",
    "df_upsampled.label.value_counts()\n",
    "X_train = df_upsampled.iloc[:,2:-1]\n",
    "Y_train = df_upsampled.iloc[:]['label']\n",
    "# 1    576\n",
    "# 0    576\n",
    "# Name: balance, dtype: int64"
   ]
  },
  {
   "cell_type": "markdown",
   "id": "broad-conflict",
   "metadata": {},
   "source": [
    "* define evaluation function"
   ]
  },
  {
   "cell_type": "code",
   "execution_count": 113,
   "id": "reduced-calendar",
   "metadata": {
    "pycharm": {
     "name": "#%%\n"
    }
   },
   "outputs": [],
   "source": [
    "def evaluate_model(predictions, actual):\n",
    "    TP = 0\n",
    "    FP = 0\n",
    "    TN = 0\n",
    "    FN = 0\n",
    "\n",
    "    for i in range(len(predictions)): \n",
    "        if actual[i]==predictions[i]==1:\n",
    "            TP += 1\n",
    "        if predictions[i]==1 and actual[i]!=predictions[i]:\n",
    "            FP += 1\n",
    "        if actual[i]==predictions[i]==0:\n",
    "            TN += 1\n",
    "        if predictions[i]==0 and actual[i]!=predictions[i]:\n",
    "            FN += 1\n",
    "    return pd.DataFrame({\n",
    "        \"Measure\": [\"Accuracy\", \"Precision\", \"Recall\", \"FPR\", \"FNR\", \"F1\"],\n",
    "        \"Source\": [accuracy_score(actual, predictions), \n",
    "                   precision_score(actual, predictions), \n",
    "                   recall_score(actual, predictions),\n",
    "                   FP/(FP+TN),\n",
    "                   FN/(FN+TP),\n",
    "                   f1_score(actual, predictions)]\n",
    "    })"
   ]
  },
  {
   "cell_type": "markdown",
   "id": "fatty-arrest",
   "metadata": {},
   "source": [
    "* Find important features"
   ]
  },
  {
   "cell_type": "code",
   "execution_count": 114,
   "id": "skilled-bridal",
   "metadata": {
    "pycharm": {
     "name": "#%%\n"
    }
   },
   "outputs": [],
   "source": [
    "def feature_importance(columns, classifier):\n",
    "    display(\"Feature Importance\")\n",
    "    df = pd.DataFrame({\"Features\": columns,\n",
    "                      \"Importance\": classifier.feature_importances_})\n",
    "    df = df.sort_values(\"Importance\", ascending=False)\n",
    "    ax = df.plot(kind='bar', x='Features', y='Importance', legend=None)\n",
    "    #ax.xaxist.set_label_text(\"\")\n",
    "    plt.tight_layout()\n",
    "    plt.show"
   ]
  },
  {
   "cell_type": "markdown",
   "id": "whole-location",
   "metadata": {},
   "source": [
    " ### choose a ML algorithm "
   ]
  },
  {
   "cell_type": "markdown",
   "id": "norman-reserve",
   "metadata": {},
   "source": [
    "### 1. Random Forest"
   ]
  },
  {
   "cell_type": "code",
   "execution_count": 115,
   "id": "organized-insulin",
   "metadata": {
    "pycharm": {
     "name": "#%%\n"
    }
   },
   "outputs": [],
   "source": [
    "classifier = RandomForestClassifier(n_estimators=100, max_depth=10, criterion=\"entropy\")"
   ]
  },
  {
   "cell_type": "markdown",
   "id": "brave-cross",
   "metadata": {},
   "source": [
    "### 2. SVM"
   ]
  },
  {
   "cell_type": "code",
   "execution_count": null,
   "id": "actual-words",
   "metadata": {
    "pycharm": {
     "name": "#%%\n"
    }
   },
   "outputs": [],
   "source": [
    "classifier = SVC(kernel='linear', class_weight='balanced', probability=True)"
   ]
  },
  {
   "cell_type": "markdown",
   "id": "original-trinidad",
   "metadata": {},
   "source": [
    "### 3. MLP"
   ]
  },
  {
   "cell_type": "code",
   "execution_count": 102,
   "id": "specified-funeral",
   "metadata": {
    "pycharm": {
     "name": "#%%\n"
    }
   },
   "outputs": [],
   "source": [
    "classifier = MLPClassifier(random_state=1, max_iter=300, activation='tanh', learning_rate='adaptive')"
   ]
  },
  {
   "cell_type": "markdown",
   "id": "occasional-albert",
   "metadata": {},
   "source": [
    "### 4. Naive Bayes"
   ]
  },
  {
   "cell_type": "code",
   "execution_count": null,
   "id": "humanitarian-juvenile",
   "metadata": {
    "pycharm": {
     "name": "#%%\n"
    }
   },
   "outputs": [],
   "source": [
    "#classifier = GaussianNB()\n",
    "classifier = ComplementNB()\n",
    "#classifier = MultinomialNB()\n",
    "#classifier = BernoulliNB()"
   ]
  },
  {
   "cell_type": "markdown",
   "id": "above-soundtrack",
   "metadata": {},
   "source": [
    "### Train and predict"
   ]
  },
  {
   "cell_type": "code",
   "execution_count": 116,
   "id": "abstract-suspect",
   "metadata": {
    "pycharm": {
     "name": "#%%\n"
    }
   },
   "outputs": [
    {
     "data": {
      "text/plain": [
       "RandomForestClassifier(criterion='entropy', max_depth=10)"
      ]
     },
     "execution_count": 116,
     "metadata": {},
     "output_type": "execute_result"
    }
   ],
   "source": [
    "classifier.fit(X_train, Y_train)"
   ]
  },
  {
   "cell_type": "code",
   "execution_count": 117,
   "id": "supreme-printer",
   "metadata": {
    "pycharm": {
     "name": "#%%\n"
    }
   },
   "outputs": [],
   "source": [
    "prediction = classifier.predict(X_test)"
   ]
  },
  {
   "cell_type": "code",
   "execution_count": 118,
   "id": "characteristic-tobacco",
   "metadata": {
    "pycharm": {
     "name": "#%%\n"
    }
   },
   "outputs": [
    {
     "data": {
      "text/plain": [
       "array([0, 1])"
      ]
     },
     "execution_count": 118,
     "metadata": {},
     "output_type": "execute_result"
    }
   ],
   "source": [
    "np.unique(prediction)"
   ]
  },
  {
   "cell_type": "code",
   "execution_count": 119,
   "id": "little-chemical",
   "metadata": {
    "pycharm": {
     "name": "#%%\n"
    }
   },
   "outputs": [
    {
     "data": {
      "text/html": [
       "<div>\n",
       "<style scoped>\n",
       "    .dataframe tbody tr th:only-of-type {\n",
       "        vertical-align: middle;\n",
       "    }\n",
       "\n",
       "    .dataframe tbody tr th {\n",
       "        vertical-align: top;\n",
       "    }\n",
       "\n",
       "    .dataframe thead th {\n",
       "        text-align: right;\n",
       "    }\n",
       "</style>\n",
       "<table border=\"1\" class=\"dataframe\">\n",
       "  <thead>\n",
       "    <tr style=\"text-align: right;\">\n",
       "      <th></th>\n",
       "      <th>Measure</th>\n",
       "      <th>Source</th>\n",
       "    </tr>\n",
       "  </thead>\n",
       "  <tbody>\n",
       "    <tr>\n",
       "      <th>0</th>\n",
       "      <td>Accuracy</td>\n",
       "      <td>0.824</td>\n",
       "    </tr>\n",
       "    <tr>\n",
       "      <th>1</th>\n",
       "      <td>Precision</td>\n",
       "      <td>0.946</td>\n",
       "    </tr>\n",
       "    <tr>\n",
       "      <th>2</th>\n",
       "      <td>Recall</td>\n",
       "      <td>0.640</td>\n",
       "    </tr>\n",
       "    <tr>\n",
       "      <th>3</th>\n",
       "      <td>FPR</td>\n",
       "      <td>0.029</td>\n",
       "    </tr>\n",
       "    <tr>\n",
       "      <th>4</th>\n",
       "      <td>FNR</td>\n",
       "      <td>0.360</td>\n",
       "    </tr>\n",
       "    <tr>\n",
       "      <th>5</th>\n",
       "      <td>F1</td>\n",
       "      <td>0.763</td>\n",
       "    </tr>\n",
       "  </tbody>\n",
       "</table>\n",
       "</div>"
      ],
      "text/plain": [
       "     Measure  Source\n",
       "0   Accuracy   0.824\n",
       "1  Precision   0.946\n",
       "2     Recall   0.640\n",
       "3        FPR   0.029\n",
       "4        FNR   0.360\n",
       "5         F1   0.763"
      ]
     },
     "metadata": {},
     "output_type": "display_data"
    }
   ],
   "source": [
    "display(evaluate_model(prediction, Y_test))"
   ]
  },
  {
   "cell_type": "code",
   "execution_count": 120,
   "id": "forward-metropolitan",
   "metadata": {
    "pycharm": {
     "name": "#%%\n"
    }
   },
   "outputs": [
    {
     "data": {
      "text/plain": [
       "'Feature Importance'"
      ]
     },
     "metadata": {},
     "output_type": "display_data"
    },
    {
     "data": {
      "image/png": "[encoded data removed]",
      "text/plain": [
       "<Figure size 432x288 with 1 Axes>"
      ]
     },
     "metadata": {},
     "output_type": "display_data"
    }
   ],
   "source": [
    "columns = ['edge_wtf', 'W', 'CN', 'AA', 'HP', 'HD', 'JC', 'LHN', 'RA', 'SA', 'SO', 'avg_deg']\n",
    "feature_importance(columns, classifier)\n",
    "\n"
   ]
  }
 ],
 "metadata": {
  "kernelspec": {
   "display_name": "Python 3",
   "language": "python",
   "name": "python3"
  },
  "language_info": {
   "codemirror_mode": {
    "name": "ipython",
    "version": 3
   },
   "file_extension": ".py",
   "mimetype": "text/x-python",
   "name": "python",
   "nbconvert_exporter": "python",
   "pygments_lexer": "ipython3",
   "version": "3.8.5"
  }
 },
 "nbformat": 4,
 "nbformat_minor": 5
}