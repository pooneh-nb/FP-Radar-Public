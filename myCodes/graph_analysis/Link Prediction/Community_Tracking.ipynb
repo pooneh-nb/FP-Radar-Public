{
 "cells": [
  {
   "cell_type": "code",
   "execution_count": null,
   "outputs": [],
   "source": [
    "import csv\n",
    "import os\n",
    "import pandas as pd\n",
    "from collections import Counter\n",
    "import numpy as np\n",
    "\n",
    "import matplotlib.pyplot as plt\n",
    "import matplotlib\n",
    "plt.style.use('fivethirtyeight')\n",
    "pd.set_option('display.float_format', lambda x: '%.3f' % x)\n",
    "\n",
    "\n",
    "from sklearn.metrics import recall_score\n",
    "from sklearn.metrics import precision_score\n",
    "from sklearn.metrics import accuracy_score\n",
    "from sklearn.metrics import f1_score\n",
    "from sklearn.metrics import roc_auc_score\n",
    "\n",
    "from sklearn.utils import resample\n",
    "\n",
    "from sklearn.ensemble import RandomForestClassifier\n",
    "from sklearn.svm import SVC\n",
    "from sklearn.neural_network import MLPClassifier\n",
    "from sklearn.naive_bayes import GaussianNB, ComplementNB, MultinomialNB, BernoulliNB\n",
    "import joblib\n",
    "import utilities\n",
    "\n",
    "import community as community_louvain"
   ],
   "metadata": {
    "collapsed": false,
    "pycharm": {
     "name": "#%%\n"
    }
   }
  },
  {
   "cell_type": "markdown",
   "source": [
    "# Predicting Year : 2012"
   ],
   "metadata": {
    "collapsed": false
   }
  },
  {
   "cell_type": "markdown",
   "source": [
    "### Upload Weighted Temporal Dataset"
   ],
   "metadata": {
    "collapsed": false
   }
  },
  {
   "cell_type": "code",
   "execution_count": null,
   "outputs": [],
   "source": [
    "with open(\"/home/c6/Desktop/OpenWPM/jsons/Prediction_new/WT/2012/train/dataframe.csv\", newline='') as csvfile:\n",
    "    training_WT_df = pd.read_csv(csvfile)\n",
    "\n",
    "training_WT_df['avg_deg'] = (training_WT_df['deg_e1']+training_WT_df['deg_e2'])/2\n",
    "training_WT_df = training_WT_df.drop(['deg_e1', 'deg_e2'], axis=1)\n",
    "training_WT_df = training_WT_df[['e1','e2','edge_wtf','W','CN','AA','HP','HD','JC','LHN','RA','SA','SO','avg_deg','label']]\n",
    "training_WT_df = training_WT_df.rename(columns={\"CN\": \"CN_WT\", \"AA\": \"AA_WT\", \"HP\": \"HP_WT\", \"HD\": \"HD_WT\", \"JC\": \"JC_WT\", \"LHN\": \"LHN_WT\",\n",
    "                  \"RA\": \"RA_WT\", \"SA\": \"SA_WT\", \"SO\": \"SO_WT\"})\n",
    "\n",
    "X_WT_train = training_WT_df.iloc[:,2:-1]\n",
    "Y_train = training_WT_df.iloc[:]['label']\n",
    "\n",
    "X_WT_train.head()\n",
    "\n",
    "with open(\"/home/c6/Desktop/OpenWPM/jsons/Prediction_new/WT/2012/test/dataframe.csv\", newline='') as csvfile:\n",
    "    testing_WT_df = pd.read_csv(csvfile)\n",
    "\n",
    "testing_WT_df['avg_deg'] = (testing_WT_df['deg_e1']+testing_WT_df['deg_e2'])/2\n",
    "testing_WT_df = testing_WT_df.drop(['deg_e1', 'deg_e2'], axis=1)\n",
    "testing_WT_df = testing_WT_df[['e1','e2','edge_wtf','W','CN','AA','HP','HD','JC','LHN','RA','SA','SO','avg_deg','label']]\n",
    "testing_WT_df = testing_WT_df.rename(columns={\"CN\": \"CN_WT\", \"AA\": \"AA_WT\", \"HP\": \"HP_WT\", \"HD\": \"HD_WT\", \"JC\": \"JC_WT\", \"LHN\": \"LHN_WT\",\n",
    "                  \"RA\": \"RA_WT\", \"SA\": \"SA_WT\", \"SO\": \"SO_WT\"})\n",
    "\n",
    "\n",
    "X_WT_test = testing_WT_df.iloc[:,2:-1]\n",
    "Y_test = testing_WT_df.iloc[:]['label']\n",
    "\n",
    "X_WT_test.head()"
   ],
   "metadata": {
    "collapsed": false,
    "pycharm": {
     "name": "#%%\n"
    }
   }
  },
  {
   "cell_type": "code",
   "execution_count": null,
   "outputs": [],
   "source": [
    "X_WT_train.shape"
   ],
   "metadata": {
    "collapsed": false,
    "pycharm": {
     "name": "#%%\n"
    }
   }
  },
  {
   "cell_type": "markdown",
   "source": [
    "### Upload Unweighted non-Temporal Dataset"
   ],
   "metadata": {
    "collapsed": false
   }
  },
  {
   "cell_type": "code",
   "execution_count": null,
   "outputs": [],
   "source": [
    "with open(\"/home/c6/Desktop/OpenWPM/jsons/Prediction_new/non_temporal_unweighted/2012/train/dataframe.csv\", newline='') as csvfile:\n",
    "    training_non_df = pd.read_csv(csvfile)\n",
    "\n",
    "training_non_df = training_non_df.drop(['deg_e1', 'deg_e2'], axis=1)\n",
    "training_non_df = training_non_df[['e1','e2','CN','AA','HP','HD','JC','LHN','RA','SA','SO','label']]\n",
    "\n",
    "X_non_train = training_non_df.iloc[:,2:-1]\n",
    "#Y_train = training_df.iloc[:]['label']\n",
    "\n",
    "#X_train.head()\n",
    "\n",
    "with open(\"/home/c6/Desktop/OpenWPM/jsons/Prediction_new/non_temporal_unweighted/2012/test/dataframe.csv\", newline='') as csvfile:\n",
    "    testing_non_df = pd.read_csv(csvfile)\n",
    "\n",
    "testing_non_df = testing_non_df.drop(['deg_e1', 'deg_e2'], axis=1)\n",
    "testing_non_df = testing_non_df[['e1','e2','CN','AA','HP','HD','JC','LHN','RA','SA','SO','label']]\n",
    "\n",
    "\n",
    "X_non_test = testing_non_df.iloc[:,2:-1]\n",
    "#Y_test = testing_df.iloc[:]['label']\n",
    "\n",
    "X_non_test.head()"
   ],
   "metadata": {
    "collapsed": false,
    "pycharm": {
     "name": "#%%\n"
    }
   }
  },
  {
   "cell_type": "code",
   "execution_count": null,
   "outputs": [],
   "source": [
    "with open(\"/home/c6/Desktop/OpenWPM/jsons/Prediction_new/non_temporal_unweighted/2012/test/dataframe.csv\", newline='') as csvfile:\n",
    "    testing_non_df = pd.read_csv(csvfile)\n",
    "testing_non_df.shape"
   ],
   "metadata": {
    "collapsed": false,
    "pycharm": {
     "name": "#%%\n"
    }
   }
  },
  {
   "cell_type": "code",
   "execution_count": null,
   "outputs": [],
   "source": [
    "with open(\"/home/c6/Desktop/OpenWPM/jsons/Prediction_new/WT/2012/test/dataframe.csv\", newline='') as csvfile:\n",
    "    testing_WT_df = pd.read_csv(csvfile)\n",
    "testing_WT_df.shape"
   ],
   "metadata": {
    "collapsed": false,
    "pycharm": {
     "name": "#%%\n"
    }
   }
  },
  {
   "cell_type": "code",
   "execution_count": null,
   "outputs": [],
   "source": [
    "with open(\"/home/c6/Desktop/OpenWPM/jsons/Prediction_new/non_temporal_unweighted/2012/train/dataframe.csv\", newline='') as csvfile:\n",
    "    training_WT_df = pd.read_csv(csvfile)\n",
    "training_WT_df.shape"
   ],
   "metadata": {
    "collapsed": false,
    "pycharm": {
     "name": "#%%\n"
    }
   }
  },
  {
   "cell_type": "code",
   "execution_count": null,
   "outputs": [],
   "source": [
    "with open(\"/home/c6/Desktop/OpenWPM/jsons/Prediction_new/WT/2012/train/dataframe.csv\", newline='') as csvfile:\n",
    "    training_non_df = pd.read_csv(csvfile)\n",
    "training_non_df.shape"
   ],
   "metadata": {
    "collapsed": false,
    "pycharm": {
     "name": "#%%\n"
    }
   }
  },
  {
   "cell_type": "code",
   "execution_count": null,
   "outputs": [],
   "source": [
    "from networkx.readwrite import json_graph\n",
    "G_addr = \"/home/c6/Desktop/OpenWPM/jsons/Prediction_new/non_temporal_unweighted/2012/test/Graph.json\"\n",
    "g = utilities.read_json(G_addr)\n",
    "G = json_graph.node_link_graph(g)"
   ],
   "metadata": {
    "collapsed": false,
    "pycharm": {
     "name": "#%%\n"
    }
   }
  },
  {
   "cell_type": "code",
   "execution_count": null,
   "outputs": [],
   "source": [
    "H_addr = \"/home/c6/Desktop/OpenWPM/jsons/Prediction_new/WT/2012/test/Graph.json\"\n",
    "h = utilities.read_json(H_addr)\n",
    "H = json_graph.node_link_graph(h)"
   ],
   "metadata": {
    "collapsed": false,
    "pycharm": {
     "name": "#%%\n"
    }
   }
  },
  {
   "cell_type": "code",
   "execution_count": null,
   "outputs": [],
   "source": [
    "len(G.nodes())"
   ],
   "metadata": {
    "collapsed": false,
    "pycharm": {
     "name": "#%%\n"
    }
   }
  },
  {
   "cell_type": "code",
   "execution_count": null,
   "outputs": [],
   "source": [
    "len(H.nodes())"
   ],
   "metadata": {
    "collapsed": false,
    "pycharm": {
     "name": "#%%\n"
    }
   }
  },
  {
   "cell_type": "code",
   "execution_count": null,
   "outputs": [],
   "source": [
    "len(G.edges())"
   ],
   "metadata": {
    "collapsed": false,
    "pycharm": {
     "name": "#%%\n"
    }
   }
  },
  {
   "cell_type": "code",
   "execution_count": null,
   "outputs": [],
   "source": [
    "len(H.edges())"
   ],
   "metadata": {
    "collapsed": false,
    "pycharm": {
     "name": "#%%\n"
    }
   }
  },
  {
   "cell_type": "code",
   "execution_count": null,
   "outputs": [],
   "source": [
    "disconnection_addr = \"/home/c6/Desktop/OpenWPM/jsons/Prediction_new/non_temporal_unweighted/2013/test/disconnect.json\"\n",
    "disconnection = utilities.read_json(disconnection_addr)\n",
    "len(disconnection)"
   ],
   "metadata": {
    "collapsed": false,
    "pycharm": {
     "name": "#%%\n"
    }
   }
  },
  {
   "cell_type": "code",
   "execution_count": null,
   "outputs": [],
   "source": [
    "disconnection_addr = \"/home/c6/Desktop/OpenWPM/jsons/Prediction_new/WT/2013/test/disconnect.json\"\n",
    "disconnection = utilities.read_json(disconnection_addr)\n",
    "len(disconnection)"
   ],
   "metadata": {
    "collapsed": false,
    "pycharm": {
     "name": "#%%\n"
    }
   }
  },
  {
   "cell_type": "markdown",
   "source": [
    "### Merge Datasets"
   ],
   "metadata": {
    "collapsed": false
   }
  },
  {
   "cell_type": "code",
   "execution_count": null,
   "outputs": [],
   "source": [
    "training_frames = [X_WT_train, X_non_train]\n",
    "testing_frames = [X_WT_test, X_non_test]\n",
    "\n",
    "X_train = pd.concat(training_frames,axis=1)\n",
    "X_test = pd.concat(testing_frames,axis=1)"
   ],
   "metadata": {
    "collapsed": false,
    "pycharm": {
     "name": "#%%\n"
    }
   }
  },
  {
   "cell_type": "code",
   "execution_count": null,
   "outputs": [],
   "source": [
    "training_df.shape"
   ],
   "metadata": {
    "collapsed": false,
    "pycharm": {
     "name": "#%%\n"
    }
   }
  },
  {
   "cell_type": "code",
   "execution_count": null,
   "outputs": [],
   "source": [
    "X_train.shape"
   ],
   "metadata": {
    "collapsed": false,
    "pycharm": {
     "name": "#%%\n"
    }
   }
  },
  {
   "cell_type": "code",
   "execution_count": null,
   "outputs": [],
   "source": [
    "positive_samples = 0\n",
    "negative_sample = 0\n",
    "for i in Y_train:\n",
    "    if i==1:\n",
    "        positive_samples += 1\n",
    "    else:\n",
    "        negative_sample += 1\n",
    "\n",
    "print(\"Positive Samples: \", positive_samples)\n",
    "print(\"Negative_samples: \", negative_sample)"
   ],
   "metadata": {
    "collapsed": false,
    "pycharm": {
     "name": "#%%\n"
    }
   }
  },
  {
   "cell_type": "markdown",
   "source": [
    "### upsample minority class"
   ],
   "metadata": {
    "collapsed": false
   }
  },
  {
   "cell_type": "code",
   "execution_count": null,
   "outputs": [],
   "source": [
    "# Separate majority and minority classes\n",
    "training_df_cat = [X_train, Y_train]\n",
    "training_df = pd.concat(training_df_cat,axis=1)\n",
    "\n",
    "df_majority = training_df[training_df.label==0]\n",
    "df_minority = training_df[training_df.label==1]\n",
    "\n",
    "# Upsample minority class\n",
    "df_minority_upsampled = resample(df_minority,\n",
    "                                 replace=True,     # sample with replacement\n",
    "                                 n_samples=272827,    # to match majority class\n",
    "                                 random_state=123) # reproducible results\n",
    "\n",
    "# Combine majority class with upsampled minority class\n",
    "df_upsampled = pd.concat([df_majority, df_minority_upsampled])\n",
    "\n",
    "# Display new class counts\n",
    "df_upsampled.label.value_counts()\n",
    "X_train = df_upsampled.iloc[:,0:-1]\n",
    "Y_train = df_upsampled.iloc[:]['label']\n",
    "# 1    576\n",
    "# 0    576\n",
    "# Name: balance, dtype: int64"
   ],
   "metadata": {
    "collapsed": false,
    "pycharm": {
     "name": "#%%\n"
    }
   }
  },
  {
   "cell_type": "markdown",
   "source": [
    "* define evaluation function"
   ],
   "metadata": {
    "collapsed": false
   }
  },
  {
   "cell_type": "code",
   "execution_count": null,
   "outputs": [],
   "source": [
    "def evaluate_model(predictions, actual):\n",
    "    TP = 0\n",
    "    FP = 0\n",
    "    TN = 0\n",
    "    FN = 0\n",
    "\n",
    "    for i in range(len(predictions)):\n",
    "        if actual[i]==predictions[i]==1:\n",
    "            TP += 1\n",
    "        if predictions[i]==1 and actual[i]!=predictions[i]:\n",
    "            FP += 1\n",
    "        if actual[i]==predictions[i]==0:\n",
    "            TN += 1\n",
    "        if predictions[i]==0 and actual[i]!=predictions[i]:\n",
    "            FN += 1\n",
    "    return pd.DataFrame({\n",
    "        \"Measure\": [\"Accuracy\", \"Precision\", \"Recall\", \"FPR\", \"FNR\", \"F1\"],\n",
    "        \"Source\": [accuracy_score(actual, predictions),\n",
    "                   precision_score(actual, predictions),\n",
    "                   recall_score(actual, predictions),\n",
    "                   FP/(FP+TN),\n",
    "                   FN/(FN+TP),\n",
    "                   f1_score(actual, predictions)]\n",
    "    })"
   ],
   "metadata": {
    "collapsed": false,
    "pycharm": {
     "name": "#%%\n"
    }
   }
  },
  {
   "cell_type": "markdown",
   "source": [
    "* Find important features"
   ],
   "metadata": {
    "collapsed": false
   }
  },
  {
   "cell_type": "code",
   "execution_count": null,
   "outputs": [],
   "source": [
    "def feature_importance(columns, classifier):\n",
    "    display(\"Feature Importance\")\n",
    "    df = pd.DataFrame({\"Features\": columns,\n",
    "                      \"Importance\": classifier.feature_importances_})\n",
    "    df = df.sort_values(\"Importance\", ascending=False)\n",
    "    ax = df.plot(kind='bar', x='Features', y='Importance', legend=None)\n",
    "    #ax.xaxist.set_label_text(\"\")\n",
    "    plt.tight_layout()\n",
    "    plt.show"
   ],
   "metadata": {
    "collapsed": false,
    "pycharm": {
     "name": "#%%\n"
    }
   }
  },
  {
   "cell_type": "markdown",
   "source": [
    " ### choose a ML algorithm"
   ],
   "metadata": {
    "collapsed": false
   }
  },
  {
   "cell_type": "markdown",
   "source": [
    "### 1. Random Forest"
   ],
   "metadata": {
    "collapsed": false
   }
  },
  {
   "cell_type": "code",
   "execution_count": null,
   "outputs": [],
   "source": [
    "classifier = RandomForestClassifier(n_estimators=100, max_depth=20, criterion=\"entropy\", class_weight={0: 1, 1: 4})"
   ],
   "metadata": {
    "collapsed": false,
    "pycharm": {
     "name": "#%%\n"
    }
   }
  },
  {
   "cell_type": "markdown",
   "source": [
    "### Train and predict"
   ],
   "metadata": {
    "collapsed": false
   }
  },
  {
   "cell_type": "code",
   "execution_count": null,
   "outputs": [],
   "source": [
    "classifier.fit(X_train, Y_train)"
   ],
   "metadata": {
    "collapsed": false,
    "pycharm": {
     "name": "#%%\n"
    }
   }
  },
  {
   "cell_type": "code",
   "execution_count": null,
   "outputs": [],
   "source": [
    "prediction = classifier.predict(X_test)"
   ],
   "metadata": {
    "collapsed": false,
    "pycharm": {
     "name": "#%%\n"
    }
   }
  },
  {
   "cell_type": "code",
   "execution_count": null,
   "outputs": [],
   "source": [
    "prediction.shape"
   ],
   "metadata": {
    "collapsed": false,
    "pycharm": {
     "name": "#%%\n"
    }
   }
  },
  {
   "cell_type": "code",
   "execution_count": null,
   "outputs": [],
   "source": [
    "type(prediction)"
   ],
   "metadata": {
    "collapsed": false,
    "pycharm": {
     "name": "#%%\n"
    }
   }
  },
  {
   "cell_type": "code",
   "execution_count": null,
   "outputs": [],
   "source": [
    "type(Y_test)"
   ],
   "metadata": {
    "collapsed": false,
    "pycharm": {
     "name": "#%%\n"
    }
   }
  },
  {
   "cell_type": "code",
   "execution_count": null,
   "outputs": [],
   "source": [
    "np.unique(prediction)"
   ],
   "metadata": {
    "collapsed": false,
    "pycharm": {
     "name": "#%%\n"
    }
   }
  },
  {
   "cell_type": "code",
   "execution_count": null,
   "outputs": [],
   "source": [
    "display(evaluate_model(prediction, Y_test))"
   ],
   "metadata": {
    "collapsed": false,
    "pycharm": {
     "name": "#%%\n"
    }
   }
  },
  {
   "cell_type": "code",
   "execution_count": null,
   "outputs": [],
   "source": [
    "columns = ['edge_wtf', 'W', 'CN', 'AA', 'HP', 'HD', 'JC', 'LHN', 'RA', 'SA', 'SO', 'avg_deg',\n",
    "           'CN_WT', 'AA_WT', 'HP_WT', 'HD_WT', 'JC_WT', 'LHN_WT', 'RA_WT', 'SA_WT', 'SO_WT']\n",
    "feature_importance(columns, classifier)"
   ],
   "metadata": {
    "collapsed": false,
    "pycharm": {
     "name": "#%%\n"
    }
   }
  },
  {
   "cell_type": "markdown",
   "source": [
    "### build the predicted Graph"
   ],
   "metadata": {
    "collapsed": false
   }
  },
  {
   "cell_type": "code",
   "execution_count": null,
   "outputs": [],
   "source": [
    "joblib.dump(classifier, \"./random_forest.joblib\")"
   ],
   "metadata": {
    "collapsed": false,
    "pycharm": {
     "name": "#%%\n"
    }
   }
  },
  {
   "cell_type": "markdown",
   "source": [
    "### build the predicted Graph"
   ],
   "metadata": {
    "collapsed": false
   }
  },
  {
   "cell_type": "code",
   "execution_count": null,
   "outputs": [],
   "source": [
    "real_graph_2012 = json_graph.node_link_graph(\n",
    "            utilities.read_json(\"/home/c6/Desktop/OpenWPM/jsons/AST/CDX_results/Graphs/2012/Graph.json\"))\n",
    "\n",
    "concat_pred = [testing_WT_df.iloc[:,0:2],X_test, pd.Series(prediction)]\n",
    "predicted_graph_2012 = pd.concat(concat_pred,axis=1)\n"
   ],
   "metadata": {
    "collapsed": false,
    "pycharm": {
     "name": "#%%\n"
    }
   }
  },
  {
   "cell_type": "code",
   "execution_count": null,
   "outputs": [],
   "source": [
    "predicted_graph_2012"
   ],
   "metadata": {
    "collapsed": false,
    "pycharm": {
     "name": "#%%\n"
    }
   }
  }
 ],
 "metadata": {
  "kernelspec": {
   "display_name": "Python 3",
   "language": "python",
   "name": "python3"
  },
  "language_info": {
   "codemirror_mode": {
    "name": "ipython",
    "version": 3
   },
   "file_extension": ".py",
   "mimetype": "text/x-python",
   "name": "python",
   "nbconvert_exporter": "python",
   "pygments_lexer": "ipython3",
   "version": "3.8.5"
  }
 },
 "nbformat": 4,
 "nbformat_minor": 5
}