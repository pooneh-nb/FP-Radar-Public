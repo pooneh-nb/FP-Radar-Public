{
 "cells": [
  {
   "cell_type": "code",
   "execution_count": 5,
   "id": "linear-store",
   "metadata": {},
   "outputs": [],
   "source": [
    "# install StellarGraph if running on Google Colab\n",
    "import sys"
   ]
  },
  {
   "cell_type": "code",
   "execution_count": 6,
   "id": "worth-crown",
   "metadata": {},
   "outputs": [],
   "source": [
    "import stellargraph as sg\n",
    "\n",
    "try:\n",
    "    sg.utils.validate_notebook_version(\"1.2.1\")\n",
    "except AttributeError:\n",
    "    raise ValueError(\n",
    "        f\"This notebook requires StellarGraph version 1.2.1, but a different version {sg.__version__} is installed.  Please see <https://github.com/stellargraph/stellargraph/issues/1172>.\"\n",
    "    ) from None"
   ]
  },
  {
   "cell_type": "code",
   "execution_count": 7,
   "id": "hourly-possible",
   "metadata": {},
   "outputs": [],
   "source": [
    "import numpy as np\n",
    "import pandas as pd\n",
    "import json\n",
    "import random\n",
    "from networkx.readwrite import json_graph\n",
    "\n",
    "\n",
    "import matplotlib.pyplot as plt\n",
    "from IPython.display import display, HTML\n",
    "from sklearn.manifold import TSNE\n",
    "from sklearn.model_selection import train_test_split\n",
    "from stellargraph import StellarGraph\n",
    "from stellargraph.datasets import IAEnronEmployees\n",
    "\n",
    "%matplotlib inline"
   ]
  },
  {
   "cell_type": "markdown",
   "id": "fantastic-jaguar",
   "metadata": {},
   "source": [
    "# Load DataSet 2012"
   ]
  },
  {
   "cell_type": "code",
   "execution_count": 8,
   "id": "compliant-laundry",
   "metadata": {},
   "outputs": [
    {
     "name": "stdout",
     "output_type": "stream",
     "text": [
      "Number of edges in training graph: 95685\n",
      "Number of edges in training set: 95685\n",
      "Number of edges in test graph: 250321\n",
      "Number of edges in test set: 250321\n"
     ]
    }
   ],
   "source": [
    "edges_train = pd.read_csv(\"/home/c6/Desktop/OpenWPM/jsons/CTDNE/2012/train/edges.csv\")\n",
    "with open(\"/home/c6/Desktop/OpenWPM/jsons/CTDNE/2012/train/Graph.json\") as json_data:\n",
    "  graph_train_nx = json_graph.node_link_graph(json.load(json_data))\n",
    "\n",
    "edges_test = pd.read_csv(\"/home/c6/Desktop/OpenWPM/jsons/CTDNE/2012/test/edges.csv\")\n",
    "with open(\"/home/c6/Desktop/OpenWPM/jsons/CTDNE/2012/test/Graph.json\") as json_data:\n",
    "  graph_test_nx = json_graph.node_link_graph(json.load(json_data))\n",
    "\n",
    "print(\n",
    "    f\"Number of edges in training graph: {len(graph_train_nx.edges())}\\n\"\n",
    "    f\"Number of edges in training set: {len(edges_train)}\\n\"\n",
    "    f\"Number of edges in test graph: {len(graph_test_nx.edges())}\\n\"\n",
    "    f\"Number of edges in test set: {len(edges_test)}\"\n",
    ")"
   ]
  },
  {
   "cell_type": "markdown",
   "id": "contrary-conditioning",
   "metadata": {},
   "source": [
    "## Create a StellarGraph"
   ]
  },
  {
   "cell_type": "code",
   "execution_count": 12,
   "id": "existing-greene",
   "metadata": {},
   "outputs": [],
   "source": [
    "graph_train_Stella = StellarGraph.from_networkx(graph_train_nx)\n",
    "graph_test_Stella = StellarGraph.from_networkx(graph_test_nx)"
   ]
  },
  {
   "cell_type": "code",
   "execution_count": 13,
   "id": "excess-boston",
   "metadata": {},
   "outputs": [],
   "source": [
    "graph_train = StellarGraph(\n",
    "    nodes=pd.DataFrame(index=graph_train_Stella.nodes()),\n",
    "    edges=edges_train,\n",
    "    edge_weight_column=\"time\",\n",
    ")\n",
    "\n",
    "graph_test = StellarGraph(\n",
    "    nodes=pd.DataFrame(index=graph_test_Stella.nodes()),\n",
    "    edges=edges_test,\n",
    "    edge_weight_column=\"time\",\n",
    ")"
   ]
  },
  {
   "cell_type": "markdown",
   "id": "automatic-exercise",
   "metadata": {},
   "source": [
    "## Create Link Examples"
   ]
  },
  {
   "cell_type": "markdown",
   "id": "distinguished-blood",
   "metadata": {},
   "source": [
    "### Upload Labels"
   ]
  },
  {
   "cell_type": "code",
   "execution_count": 10,
   "id": "starting-league",
   "metadata": {},
   "outputs": [],
   "source": [
    "edges_train_pos = pd.read_csv(\"/home/c6/Desktop/OpenWPM/jsons/CTDNE/2012/train/edges_train_label.csv\")\n",
    "edges_test_pos = pd.read_csv(\"/home/c6/Desktop/OpenWPM/jsons/CTDNE/2012/test/edges_train_label.csv\")"
   ]
  },
  {
   "cell_type": "code",
   "execution_count": 14,
   "id": "valuable-detective",
   "metadata": {},
   "outputs": [],
   "source": [
    "def positive_and_negative_links(g, edges):\n",
    "    pos = list(edges[[\"source\", \"target\"]].itertuples(index=False))\n",
    "    neg = sample_negative_examples(g, pos)\n",
    "    return pos, neg\n",
    "\n",
    "\n",
    "def sample_negative_examples(g, positive_examples):\n",
    "    positive_set = set(positive_examples)\n",
    "\n",
    "    def valid_neg_edge(src, tgt):\n",
    "        return (\n",
    "            # no self-loops\n",
    "            src != tgt\n",
    "            and\n",
    "            # neither direction of the edge should be a positive one\n",
    "            (src, tgt) not in positive_set\n",
    "            and (tgt, src) not in positive_set\n",
    "        )\n",
    "\n",
    "    possible_neg_edges = [\n",
    "        (src, tgt) for src in g.nodes() for tgt in g.nodes() if valid_neg_edge(src, tgt)\n",
    "    ]\n",
    "    return random.sample(possible_neg_edges, k=len(positive_examples))\n",
    "\n",
    "\n",
    "pos, neg = positive_and_negative_links(graph_train, edges_train_pos)\n",
    "pos_test, neg_test = positive_and_negative_links(graph_test, edges_test_pos)"
   ]
  },
  {
   "cell_type": "markdown",
   "id": "present-resolution",
   "metadata": {},
   "source": [
    "#### View Taining graph and positive and negative links"
   ]
  },
  {
   "cell_type": "code",
   "execution_count": 15,
   "id": "orange-mentor",
   "metadata": {},
   "outputs": [
    {
     "name": "stdout",
     "output_type": "stream",
     "text": [
      "StellarGraph: Undirected multigraph\n",
      " Nodes: 1237, Edges: 95685\n",
      "\n",
      " Node types:\n",
      "  default: [1237]\n",
      "    Features: none\n",
      "    Edge types: default-default->default\n",
      "\n",
      " Edge types:\n",
      "    default-default->default: [95685]\n",
      "        Weights: all 2010\n",
      "        Features: none\n",
      "Training examples: 154636 positive links, 154636 negative links\n",
      "\n"
     ]
    }
   ],
   "source": [
    "print(\n",
    "    f\"{graph_train.info()}\\n\"\n",
    "    f\"Training examples: {len(pos)} positive links, {len(neg)} negative links\\n\"\n",
    ")"
   ]
  },
  {
   "cell_type": "markdown",
   "id": "recovered-gibraltar",
   "metadata": {},
   "source": [
    "#### View Test graph and positive and negative links"
   ]
  },
  {
   "cell_type": "code",
   "execution_count": 16,
   "id": "finnish-tourist",
   "metadata": {},
   "outputs": [
    {
     "name": "stdout",
     "output_type": "stream",
     "text": [
      "StellarGraph: Undirected multigraph\n",
      " Nodes: 1237, Edges: 250321\n",
      "\n",
      " Node types:\n",
      "  default: [1237]\n",
      "    Features: none\n",
      "    Edge types: default-default->default\n",
      "\n",
      " Edge types:\n",
      "    default-default->default: [250321]\n",
      "        Weights: range=[2010, 2011], mean=2010.62, std=0.485938\n",
      "        Features: none\n",
      "Test examples: 224744 positive links, 224744 negative links\n"
     ]
    }
   ],
   "source": [
    "print(\n",
    "    f\"{graph_test.info()}\\n\"\n",
    "    f\"Test examples: {len(pos_test)} positive links, {len(neg_test)} negative links\"\n",
    ")"
   ]
  },
  {
   "cell_type": "markdown",
   "id": "corrected-matthew",
   "metadata": {},
   "source": [
    "## Running Random Walks\n",
    "\n",
    "Define the random walk parameters we'd like to use:\n",
    "\n",
    "    * num_walks_per_node - Number of random walks to perform per starting node.\n",
    "    * walk_length - Length of each random walk. For temporal walks, this is the maximum length of a walk, since         walks may end up being shorter when there are not enough time respecting edges to traverse.\n",
    "    * context_window_size - Size of the context window used to train the Word2Vec model.\n"
   ]
  },
  {
   "cell_type": "code",
   "execution_count": 17,
   "id": "subtle-journey",
   "metadata": {},
   "outputs": [],
   "source": [
    "num_walks_per_node = 10\n",
    "walk_length = 80\n",
    "context_window_size = 2"
   ]
  },
  {
   "cell_type": "code",
   "execution_count": 18,
   "id": "secondary-facility",
   "metadata": {},
   "outputs": [],
   "source": [
    "num_cw = len(graph_train.nodes()) * num_walks_per_node * (walk_length - context_window_size + 1)"
   ]
  },
  {
   "cell_type": "code",
   "execution_count": 19,
   "id": "grand-eleven",
   "metadata": {},
   "outputs": [
    {
     "name": "stdout",
     "output_type": "stream",
     "text": [
      "Number of temporal random walks: 977230\n"
     ]
    }
   ],
   "source": [
    "from stellargraph.data import TemporalRandomWalk\n",
    "\n",
    "temporal_rw = TemporalRandomWalk(graph_train)\n",
    "temporal_walks = temporal_rw.run(\n",
    "    num_cw=num_cw,\n",
    "    cw_size=context_window_size,\n",
    "    max_walk_length=walk_length,\n",
    "    walk_bias=\"exponential\",\n",
    ")\n",
    "\n",
    "print(\"Number of temporal random walks: {}\".format(len(temporal_walks)))"
   ]
  },
  {
   "cell_type": "code",
   "execution_count": 20,
   "id": "nonprofit-hamburg",
   "metadata": {},
   "outputs": [],
   "source": [
    "from gensim.models import Word2Vec\n",
    "\n",
    "embedding_size = 128\n",
    "# a trained model based on our graph which can produce embeddings\n",
    "temporal_model = Word2Vec(\n",
    "    temporal_walks,\n",
    "    size=embedding_size,\n",
    "    window=context_window_size,\n",
    "    min_count=0,\n",
    "    sg=1,\n",
    "    workers=2,\n",
    "    iter=1,\n",
    ")"
   ]
  },
  {
   "cell_type": "markdown",
   "id": "waiting-presentation",
   "metadata": {},
   "source": [
    "For convenience, we can use the trained Word2Vec models to define helper functions that transform a node ID into a node embedding.\n",
    "\n",
    "NOTE: Temporal walks may not generate an embedding for every node in the graph; if there's no temporal walks that involve a particular node or they are all too short, the node won't appear in any context window. We handle this by using zeros as embeddings for such nodes to indicate that they are uninformative."
   ]
  },
  {
   "cell_type": "code",
   "execution_count": 21,
   "id": "hearing-ordering",
   "metadata": {},
   "outputs": [],
   "source": [
    "unseen_node_embedding = np.zeros(embedding_size)\n",
    "\n",
    "def temporal_embedding(u):\n",
    "    try:\n",
    "        return temporal_model.wv[u]\n",
    "    except KeyError:\n",
    "        return unseen_node_embedding"
   ]
  },
  {
   "cell_type": "markdown",
   "id": "parallel-adult",
   "metadata": {},
   "source": [
    "## Node Embedding Visualisation"
   ]
  },
  {
   "cell_type": "markdown",
   "id": "czech-artist",
   "metadata": {},
   "source": [
    "For visualisation of embeddings, we'll first define a helper function that we can also use later to show the TSNE visualisation."
   ]
  },
  {
   "cell_type": "code",
   "execution_count": 22,
   "id": "further-crack",
   "metadata": {},
   "outputs": [],
   "source": [
    "def plot_tsne(title, x, y=None):\n",
    "    tsne = TSNE(n_components=2)\n",
    "    x_t = tsne.fit_transform(x)\n",
    "\n",
    "    plt.figure(figsize=(7, 7))\n",
    "    plt.title(title)\n",
    "    alpha = 0.7 if y is None else 0.5\n",
    "\n",
    "    scatter = plt.scatter(x_t[:, 0], x_t[:, 1], c=y, cmap=\"jet\", alpha=alpha)\n",
    "    if y is not None:\n",
    "        plt.legend(*scatter.legend_elements(), loc=\"lower left\", title=\"Classes\")"
   ]
  },
  {
   "cell_type": "markdown",
   "id": "ahead-wilson",
   "metadata": {},
   "source": [
    "We can visualise the node embeddings to take a glance at how the temporal walks have resulted in groups of nodes being clustered together"
   ]
  },
  {
   "cell_type": "code",
   "execution_count": 23,
   "id": "dried-barcelona",
   "metadata": {},
   "outputs": [
    {
     "data": {
      "image/png": "[encoded data removed]",
      "text/plain": [
       "<Figure size 504x504 with 1 Axes>"
      ]
     },
     "metadata": {
      "needs_background": "light"
     },
     "output_type": "display_data"
    }
   ],
   "source": [
    "temporal_node_embeddings = temporal_model.wv.vectors\n",
    "plot_tsne(\"TSNE visualisation of temporal node embeddings\", temporal_node_embeddings)"
   ]
  },
  {
   "cell_type": "code",
   "execution_count": 24,
   "id": "analyzed-destiny",
   "metadata": {},
   "outputs": [
    {
     "data": {
      "text/plain": [
       "array([-6.10141791e-02, -2.95408905e-01,  8.51714313e-02,  3.60904157e-01,\n",
       "       -1.01241462e-01,  1.63264740e-02,  4.20674756e-02,  1.33991644e-01,\n",
       "       -1.11822799e-01, -4.79962938e-02,  9.67899114e-02,  2.67783906e-02,\n",
       "       -1.97090372e-01, -8.11068192e-02,  4.11279412e-04,  4.12846431e-02,\n",
       "       -1.40891671e-02,  9.84679684e-02, -2.13839397e-01,  2.05825884e-02,\n",
       "       -7.28965998e-02, -1.35484070e-01, -6.44981563e-02, -2.15091288e-01,\n",
       "        2.24739201e-02,  1.60166070e-01,  3.07521105e-01, -5.97255789e-02,\n",
       "       -1.41154334e-01,  9.40124691e-03, -2.68165916e-01, -7.66584501e-02,\n",
       "       -3.17070037e-02, -4.59337831e-02, -3.00592072e-02,  1.11034438e-01,\n",
       "       -6.05520085e-02, -1.06514707e-01,  1.27666190e-01,  9.83635560e-02,\n",
       "       -6.05518110e-02, -3.24013859e-01,  4.28627245e-02,  5.59116378e-02,\n",
       "        1.40241742e-01,  6.26672432e-02,  2.79228818e-02,  6.39533326e-02,\n",
       "        1.00315176e-01, -5.19213565e-02, -6.72537014e-02,  7.18204528e-02,\n",
       "        1.06267460e-01, -5.59005924e-02,  6.80558532e-02,  1.85129836e-01,\n",
       "        1.82953104e-01,  1.77511290e-01, -6.65025190e-02, -7.18977749e-02,\n",
       "        5.71740456e-02,  1.03952847e-01,  1.25871450e-01, -7.70861879e-02,\n",
       "        7.18356445e-02, -1.91714555e-01,  2.35427804e-02, -9.51171890e-02,\n",
       "        1.97971269e-01, -3.02142084e-01, -3.00347172e-02,  1.58638179e-01,\n",
       "        1.16330259e-01,  1.53896630e-01,  2.16179378e-02, -4.26278681e-01,\n",
       "        1.05982414e-02,  1.71305820e-01, -1.02460042e-01, -9.79689881e-02,\n",
       "       -2.65022159e-01,  1.66385770e-01,  1.02117375e-01,  6.02382272e-02,\n",
       "        2.33030289e-01, -2.18810573e-01,  3.87761779e-02, -1.99708529e-02,\n",
       "       -1.28125116e-01, -1.25901282e-01,  8.13706443e-02, -9.01030004e-02,\n",
       "       -1.07830457e-01, -1.56736583e-01,  2.02882558e-01, -1.04818821e-01,\n",
       "        1.44946463e-02, -1.65160388e-01,  6.10071309e-02, -9.40431952e-02,\n",
       "       -1.84977040e-01, -9.37195346e-02, -1.89328656e-01, -1.70671433e-01,\n",
       "       -2.32673749e-01,  2.52709389e-01, -3.93354846e-03, -7.77762309e-02,\n",
       "       -2.22436339e-01,  1.19831353e-01,  5.86264720e-03,  7.01239035e-02,\n",
       "       -2.57739481e-02, -5.99821247e-02, -5.22795506e-02, -5.89285046e-02,\n",
       "       -8.24724138e-02,  1.44547254e-01, -8.41020048e-03, -2.21010298e-03,\n",
       "        1.31375462e-01,  1.32778808e-01, -1.48898661e-01, -7.84201026e-02,\n",
       "        1.72385469e-01,  2.28341743e-01,  1.60057172e-01,  9.41345245e-02],\n",
       "      dtype=float32)"
      ]
     },
     "execution_count": 24,
     "metadata": {},
     "output_type": "execute_result"
    }
   ],
   "source": [
    "temporal_model.wv.vectors[1]"
   ]
  },
  {
   "cell_type": "markdown",
   "id": "civilian-expert",
   "metadata": {},
   "source": [
    "## Link Prediction using Node Embeddings"
   ]
  },
  {
   "cell_type": "markdown",
   "id": "postal-heather",
   "metadata": {},
   "source": [
    "The node embeddings we've generated can now be used as input for a link prediction task.\n",
    "\n",
    "Below are a set of helper functions we can use to train and evaluate a link prediction classifier. The rest of the notebook will use the binary operator defined in the cell below.\n",
    "\n",
    "Other commonly used binary operators are hadamard, average, and L1 operators. Alternatively, other user defined function taking two node embeddings to produce a link embedding could be used, but may affect convergence of the classifier model."
   ]
  },
  {
   "cell_type": "code",
   "execution_count": 25,
   "id": "guided-capability",
   "metadata": {},
   "outputs": [],
   "source": [
    "# taking two node embeddings to produce a link embedding (concatenate them using L2 operator)\n",
    "def operator_l2(u, v):\n",
    "    return (u - v) ** 2\n",
    "\n",
    "\n",
    "binary_operator = operator_l2"
   ]
  },
  {
   "cell_type": "code",
   "execution_count": 26,
   "id": "expensive-crisis",
   "metadata": {},
   "outputs": [],
   "source": [
    "from sklearn.pipeline import Pipeline\n",
    "from sklearn.linear_model import LogisticRegressionCV\n",
    "from sklearn.metrics import roc_auc_score\n",
    "from sklearn.preprocessing import StandardScaler\n",
    "\n",
    "\n",
    "def link_examples_to_features(link_examples, transform_node):\n",
    "    op_func = (\n",
    "        operator_func[binary_operator]\n",
    "        if isinstance(binary_operator, str)\n",
    "        else binary_operator\n",
    "    )\n",
    "    return [\n",
    "        op_func(transform_node(src), transform_node(dst)) for src, dst in link_examples\n",
    "    ]\n",
    "\n",
    "\n",
    "def link_prediction_classifier(max_iter=2000):\n",
    "    # Cs describes the inverse of regularization strength\n",
    "    # cv number of cross folds\n",
    "    lr_clf = LogisticRegressionCV(Cs=10, cv=10, scoring=\"roc_auc\", max_iter=max_iter)\n",
    "    # steps List of (name, transform) tuples (implementing fit/transform) that are chained, in the order in which they are chained, with the last object an estimator.\n",
    "    return Pipeline(steps=[(\"sc\", StandardScaler()), (\"clf\", lr_clf)])\n",
    "\n",
    "\n",
    "def evaluate_roc_auc(clf, link_features, link_labels):\n",
    "    predicted = clf.predict_proba(link_features)\n",
    "\n",
    "    # check which class corresponds to positive links\n",
    "    positive_column = list(clf.classes_).index(1)\n",
    "    return roc_auc_score(link_labels, predicted[:, positive_column])"
   ]
  },
  {
   "cell_type": "markdown",
   "id": "friendly-university",
   "metadata": {},
   "source": [
    "We'll create some positive and negative examples to train our classifier on. The negative examples can be randomly generated from the available nodes in the graph."
   ]
  },
  {
   "cell_type": "code",
   "execution_count": 28,
   "id": "royal-field",
   "metadata": {},
   "outputs": [],
   "source": [
    "def labelled_links(positive_examples, negative_examples):\n",
    "    return (\n",
    "        positive_examples + negative_examples,\n",
    "        np.repeat([1, 0], [len(positive_examples), len(negative_examples)]),\n",
    "    )\n",
    "\n",
    "\n",
    "link_examples, link_labels = labelled_links(pos, neg)\n",
    "link_examples_test, link_labels_test = labelled_links(pos_test, neg_test)"
   ]
  },
  {
   "cell_type": "markdown",
   "id": "rational-termination",
   "metadata": {},
   "source": [
    "## Link prediction classifier using temporal embeddings"
   ]
  },
  {
   "cell_type": "code",
   "execution_count": 29,
   "id": "tender-worse",
   "metadata": {},
   "outputs": [
    {
     "name": "stdout",
     "output_type": "stream",
     "text": [
      "Score (ROC AUC): 0.80\n"
     ]
    }
   ],
   "source": [
    " # reture a pipeline, The pipeline can be used as any other estimator and avoids leaking the test set into the train set\n",
    "temporal_clf = link_prediction_classifier()\n",
    "\n",
    "# convert all node Ids in training dataset to embeddings\n",
    "temporal_link_features = link_examples_to_features(link_examples, temporal_embedding)\n",
    "\n",
    "# convert all node Ids in test dataset to embeddings\n",
    "temporal_link_features_test = link_examples_to_features(link_examples_test, temporal_embedding)\n",
    "temporal_clf.fit(temporal_link_features, link_labels)\n",
    "temporal_score = evaluate_roc_auc(\n",
    "    temporal_clf, temporal_link_features_test, link_labels_test\n",
    ")\n",
    "\n",
    "print(f\"Score (ROC AUC): {temporal_score:.2f}\")"
   ]
  }
 ],
 "metadata": {
  "kernelspec": {
   "display_name": "Python 3",
   "language": "python",
   "name": "python3"
  },
  "language_info": {
   "codemirror_mode": {
    "name": "ipython",
    "version": 3
   },
   "file_extension": ".py",
   "mimetype": "text/x-python",
   "name": "python",
   "nbconvert_exporter": "python",
   "pygments_lexer": "ipython3",
   "version": "3.8.5"
  }
 },
 "nbformat": 4,
 "nbformat_minor": 5
}
