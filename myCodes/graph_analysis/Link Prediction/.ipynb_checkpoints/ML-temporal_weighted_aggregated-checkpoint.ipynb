{
 "cells": [
  {
   "cell_type": "code",
   "execution_count": 2,
   "metadata": {},
   "outputs": [],
   "source": [
    "import csv\n",
    "import os\n",
    "import pandas as pd\n",
    "from collections import Counter\n",
    "import numpy as np\n",
    "\n",
    "import matplotlib.pyplot as plt\n",
    "import matplotlib\n",
    "plt.style.use('fivethirtyeight')\n",
    "pd.set_option('display.float_format', lambda x: '%.3f' % x)\n",
    "\n",
    "\n",
    "from sklearn.metrics import recall_score\n",
    "from sklearn.metrics import precision_score\n",
    "from sklearn.metrics import accuracy_score\n",
    "from sklearn.metrics import f1_score\n",
    "from sklearn.metrics import roc_auc_score\n",
    "\n",
    "from sklearn.utils import resample\n",
    "\n",
    "from sklearn.ensemble import RandomForestClassifier\n",
    "from sklearn.svm import SVC\n",
    "from sklearn.neural_network import MLPClassifier\n",
    "from sklearn.naive_bayes import GaussianNB, ComplementNB, MultinomialNB, BernoulliNB\n"
   ]
  },
  {
   "cell_type": "markdown",
   "metadata": {},
   "source": [
    "# Predictiong Graph in 2012"
   ]
  },
  {
   "cell_type": "markdown",
   "metadata": {},
   "source": [
    "* Load training and testing dataframes"
   ]
  },
  {
   "cell_type": "code",
   "execution_count": 3,
   "metadata": {},
   "outputs": [
    {
     "data": {
      "text/html": [
       "<div>\n",
       "<style scoped>\n",
       "    .dataframe tbody tr th:only-of-type {\n",
       "        vertical-align: middle;\n",
       "    }\n",
       "\n",
       "    .dataframe tbody tr th {\n",
       "        vertical-align: top;\n",
       "    }\n",
       "\n",
       "    .dataframe thead th {\n",
       "        text-align: right;\n",
       "    }\n",
       "</style>\n",
       "<table border=\"1\" class=\"dataframe\">\n",
       "  <thead>\n",
       "    <tr style=\"text-align: right;\">\n",
       "      <th></th>\n",
       "      <th>edge_wtf</th>\n",
       "      <th>W</th>\n",
       "      <th>CN</th>\n",
       "      <th>AA</th>\n",
       "      <th>HP</th>\n",
       "      <th>HD</th>\n",
       "      <th>JC</th>\n",
       "      <th>LHN</th>\n",
       "      <th>RA</th>\n",
       "      <th>SA</th>\n",
       "      <th>SO</th>\n",
       "      <th>avg_deg</th>\n",
       "    </tr>\n",
       "  </thead>\n",
       "  <tbody>\n",
       "    <tr>\n",
       "      <th>0</th>\n",
       "      <td>2.389</td>\n",
       "      <td>1.194</td>\n",
       "      <td>354.193</td>\n",
       "      <td>66.048</td>\n",
       "      <td>2.261</td>\n",
       "      <td>1.746</td>\n",
       "      <td>0.985</td>\n",
       "      <td>0.011</td>\n",
       "      <td>14.549</td>\n",
       "      <td>14.549</td>\n",
       "      <td>1.971</td>\n",
       "      <td>927.500</td>\n",
       "    </tr>\n",
       "    <tr>\n",
       "      <th>1</th>\n",
       "      <td>2.389</td>\n",
       "      <td>1.194</td>\n",
       "      <td>354.101</td>\n",
       "      <td>66.032</td>\n",
       "      <td>2.260</td>\n",
       "      <td>1.747</td>\n",
       "      <td>0.985</td>\n",
       "      <td>0.011</td>\n",
       "      <td>14.546</td>\n",
       "      <td>14.546</td>\n",
       "      <td>1.971</td>\n",
       "      <td>927.500</td>\n",
       "    </tr>\n",
       "    <tr>\n",
       "      <th>2</th>\n",
       "      <td>1.473</td>\n",
       "      <td>0.737</td>\n",
       "      <td>320.906</td>\n",
       "      <td>60.583</td>\n",
       "      <td>2.048</td>\n",
       "      <td>1.915</td>\n",
       "      <td>0.990</td>\n",
       "      <td>0.012</td>\n",
       "      <td>13.593</td>\n",
       "      <td>13.593</td>\n",
       "      <td>1.980</td>\n",
       "      <td>904.000</td>\n",
       "    </tr>\n",
       "    <tr>\n",
       "      <th>3</th>\n",
       "      <td>2.387</td>\n",
       "      <td>1.193</td>\n",
       "      <td>349.837</td>\n",
       "      <td>65.318</td>\n",
       "      <td>2.233</td>\n",
       "      <td>1.763</td>\n",
       "      <td>0.985</td>\n",
       "      <td>0.011</td>\n",
       "      <td>14.462</td>\n",
       "      <td>14.462</td>\n",
       "      <td>1.970</td>\n",
       "      <td>927.500</td>\n",
       "    </tr>\n",
       "    <tr>\n",
       "      <th>4</th>\n",
       "      <td>2.391</td>\n",
       "      <td>1.195</td>\n",
       "      <td>354.197</td>\n",
       "      <td>66.050</td>\n",
       "      <td>2.261</td>\n",
       "      <td>1.746</td>\n",
       "      <td>0.985</td>\n",
       "      <td>0.011</td>\n",
       "      <td>14.551</td>\n",
       "      <td>14.551</td>\n",
       "      <td>1.971</td>\n",
       "      <td>927.500</td>\n",
       "    </tr>\n",
       "  </tbody>\n",
       "</table>\n",
       "</div>"
      ],
      "text/plain": [
       "   edge_wtf     W      CN     AA    HP    HD    JC   LHN     RA     SA    SO  \\\n",
       "0     2.389 1.194 354.193 66.048 2.261 1.746 0.985 0.011 14.549 14.549 1.971   \n",
       "1     2.389 1.194 354.101 66.032 2.260 1.747 0.985 0.011 14.546 14.546 1.971   \n",
       "2     1.473 0.737 320.906 60.583 2.048 1.915 0.990 0.012 13.593 13.593 1.980   \n",
       "3     2.387 1.193 349.837 65.318 2.233 1.763 0.985 0.011 14.462 14.462 1.970   \n",
       "4     2.391 1.195 354.197 66.050 2.261 1.746 0.985 0.011 14.551 14.551 1.971   \n",
       "\n",
       "   avg_deg  \n",
       "0  927.500  \n",
       "1  927.500  \n",
       "2  904.000  \n",
       "3  927.500  \n",
       "4  927.500  "
      ]
     },
     "execution_count": 3,
     "metadata": {},
     "output_type": "execute_result"
    }
   ],
   "source": [
    "with open(\"/home/c6/Desktop/OpenWPM/jsons/Prediction_new/WT/2012/train/dataframe.csv\", newline='') as csvfile:\n",
    "    training_df = pd.read_csv(csvfile)\n",
    "    \n",
    "training_df['avg_deg'] = (training_df['deg_e1']+training_df['deg_e2'])/2\n",
    "training_df = training_df.drop(['deg_e1', 'deg_e2'], axis=1)\n",
    "training_df = training_df[['e1','e2','edge_wtf','W','CN','AA','HP','HD','JC','LHN','RA','SA','SO','avg_deg','label']]\n",
    "\n",
    "X_train = training_df.iloc[:,2:-1]\n",
    "Y_train = training_df.iloc[:]['label']\n",
    "\n",
    "X_train.head()\n",
    "\n",
    "with open(\"/home/c6/Desktop/OpenWPM/jsons/Prediction_new/WT/2012/test/dataframe.csv\", newline='') as csvfile:\n",
    "    testing_df = pd.read_csv(csvfile)\n",
    "\n",
    "testing_df['avg_deg'] = (testing_df['deg_e1']+testing_df['deg_e2'])/2\n",
    "testing_df = testing_df.drop(['deg_e1', 'deg_e2'], axis=1)\n",
    "testing_df = testing_df[['e1','e2','edge_wtf','W','CN','AA','HP','HD','JC','LHN','RA','SA','SO','avg_deg','label']]\n",
    "\n",
    "\n",
    "X_test = testing_df.iloc[:,2:-1]\n",
    "Y_test = testing_df.iloc[:]['label']\n",
    "\n",
    "X_test.head()"
   ]
  },
  {
   "cell_type": "markdown",
   "metadata": {},
   "source": [
    "* define evaluation function"
   ]
  },
  {
   "cell_type": "code",
   "execution_count": 4,
   "metadata": {},
   "outputs": [],
   "source": [
    "def evaluate_model(predictions, actual):\n",
    "    return pd.DataFrame({\n",
    "        \"Measure\": [\"Accuracy\", \"Precision\", \"Recall\", \"f1_score\"],\n",
    "        \"Source\": [accuracy_score(actual, predictions), \n",
    "                   precision_score(actual, predictions), \n",
    "                   recall_score(actual, predictions),\n",
    "                   f1_score(actual, predictions)]\n",
    "    })"
   ]
  },
  {
   "cell_type": "markdown",
   "metadata": {},
   "source": [
    "* Find important features"
   ]
  },
  {
   "cell_type": "code",
   "execution_count": 5,
   "metadata": {},
   "outputs": [],
   "source": [
    "def feature_importance(columns, classifier):\n",
    "    display(\"Feature Importance\")\n",
    "    df = pd.DataFrame({\"Features\": columns,\n",
    "                      \"Importance\": classifier.feature_importances_})\n",
    "    df = df.sort_values(\"Importance\", ascending=False)\n",
    "    ax = df.plot(kind='bar', x='Features', y='Importance', legend=None)\n",
    "    #ax.xaxist.set_label_text(\"\")\n",
    "    plt.tight_layout()\n",
    "    plt.show"
   ]
  },
  {
   "cell_type": "code",
   "execution_count": 35,
   "metadata": {},
   "outputs": [
    {
     "name": "stdout",
     "output_type": "stream",
     "text": [
      "20\n",
      "25\n",
      "30\n",
      "35\n",
      "40\n",
      "45\n",
      "50\n",
      "55\n",
      "60\n",
      "65\n",
      "70\n",
      "75\n",
      "80\n",
      "85\n",
      "90\n",
      "95\n",
      "100\n",
      "105\n",
      "110\n",
      "115\n",
      "120\n",
      "125\n",
      "130\n",
      "135\n",
      "140\n",
      "145\n",
      "150\n",
      "155\n",
      "160\n",
      "165\n",
      "170\n",
      "175\n",
      "180\n",
      "185\n",
      "190\n",
      "195\n"
     ]
    },
    {
     "ename": "ValueError",
     "evalue": "arrays must all be same length",
     "output_type": "error",
     "traceback": [
      "\u001b[0;31m---------------------------------------------------------------------------\u001b[0m",
      "\u001b[0;31mValueError\u001b[0m                                Traceback (most recent call last)",
      "\u001b[0;32m<ipython-input-35-0c77cf308a14>\u001b[0m in \u001b[0;36m<module>\u001b[0;34m\u001b[0m\n\u001b[1;32m     17\u001b[0m \u001b[0my\u001b[0m \u001b[0;34m=\u001b[0m \u001b[0mrange\u001b[0m\u001b[0;34m(\u001b[0m\u001b[0;36m2\u001b[0m\u001b[0;34m,\u001b[0m\u001b[0;36m1000\u001b[0m\u001b[0;34m)\u001b[0m\u001b[0;34m\u001b[0m\u001b[0;34m\u001b[0m\u001b[0m\n\u001b[1;32m     18\u001b[0m \u001b[0;34m\u001b[0m\u001b[0m\n\u001b[0;32m---> 19\u001b[0;31m \u001b[0mdf\u001b[0m \u001b[0;34m=\u001b[0m \u001b[0mpd\u001b[0m\u001b[0;34m.\u001b[0m\u001b[0mDataFrame\u001b[0m\u001b[0;34m(\u001b[0m\u001b[0;34m{\u001b[0m\u001b[0;34m\"acc\"\u001b[0m\u001b[0;34m:\u001b[0m\u001b[0maccuracy\u001b[0m\u001b[0;34m,\u001b[0m \u001b[0;34m\"pre\"\u001b[0m\u001b[0;34m:\u001b[0m\u001b[0mprecition\u001b[0m\u001b[0;34m,\u001b[0m \u001b[0;34m\"rec\"\u001b[0m\u001b[0;34m:\u001b[0m\u001b[0mrecall\u001b[0m\u001b[0;34m,\u001b[0m \u001b[0;34m\"f1\"\u001b[0m\u001b[0;34m:\u001b[0m\u001b[0mf1\u001b[0m\u001b[0;34m,\u001b[0m \u001b[0;34m\"y\"\u001b[0m\u001b[0;34m:\u001b[0m\u001b[0my\u001b[0m\u001b[0;34m}\u001b[0m\u001b[0;34m)\u001b[0m\u001b[0;34m\u001b[0m\u001b[0;34m\u001b[0m\u001b[0m\n\u001b[0m\u001b[1;32m     20\u001b[0m \u001b[0;34m\u001b[0m\u001b[0m\n\u001b[1;32m     21\u001b[0m \u001b[0mdf\u001b[0m\u001b[0;34m.\u001b[0m\u001b[0mplot\u001b[0m\u001b[0;34m(\u001b[0m\u001b[0my\u001b[0m\u001b[0;34m=\u001b[0m\u001b[0;34m\"acc\"\u001b[0m\u001b[0;34m,\u001b[0m\u001b[0mx\u001b[0m\u001b[0;34m=\u001b[0m\u001b[0;34m\"y\"\u001b[0m\u001b[0;34m,\u001b[0m \u001b[0mcolor\u001b[0m\u001b[0;34m=\u001b[0m\u001b[0;34m\"r\"\u001b[0m\u001b[0;34m,\u001b[0m \u001b[0mlabel\u001b[0m\u001b[0;34m=\u001b[0m\u001b[0;34m\"acuuracy\"\u001b[0m\u001b[0;34m,\u001b[0m \u001b[0max\u001b[0m\u001b[0;34m=\u001b[0m\u001b[0max\u001b[0m\u001b[0;34m)\u001b[0m\u001b[0;34m\u001b[0m\u001b[0;34m\u001b[0m\u001b[0m\n",
      "\u001b[0;32m~/anaconda3/envs/dock/lib/python3.8/site-packages/pandas/core/frame.py\u001b[0m in \u001b[0;36m__init__\u001b[0;34m(self, data, index, columns, dtype, copy)\u001b[0m\n\u001b[1;32m    527\u001b[0m \u001b[0;34m\u001b[0m\u001b[0m\n\u001b[1;32m    528\u001b[0m         \u001b[0;32melif\u001b[0m \u001b[0misinstance\u001b[0m\u001b[0;34m(\u001b[0m\u001b[0mdata\u001b[0m\u001b[0;34m,\u001b[0m \u001b[0mdict\u001b[0m\u001b[0;34m)\u001b[0m\u001b[0;34m:\u001b[0m\u001b[0;34m\u001b[0m\u001b[0;34m\u001b[0m\u001b[0m\n\u001b[0;32m--> 529\u001b[0;31m             \u001b[0mmgr\u001b[0m \u001b[0;34m=\u001b[0m \u001b[0minit_dict\u001b[0m\u001b[0;34m(\u001b[0m\u001b[0mdata\u001b[0m\u001b[0;34m,\u001b[0m \u001b[0mindex\u001b[0m\u001b[0;34m,\u001b[0m \u001b[0mcolumns\u001b[0m\u001b[0;34m,\u001b[0m \u001b[0mdtype\u001b[0m\u001b[0;34m=\u001b[0m\u001b[0mdtype\u001b[0m\u001b[0;34m)\u001b[0m\u001b[0;34m\u001b[0m\u001b[0;34m\u001b[0m\u001b[0m\n\u001b[0m\u001b[1;32m    530\u001b[0m         \u001b[0;32melif\u001b[0m \u001b[0misinstance\u001b[0m\u001b[0;34m(\u001b[0m\u001b[0mdata\u001b[0m\u001b[0;34m,\u001b[0m \u001b[0mma\u001b[0m\u001b[0;34m.\u001b[0m\u001b[0mMaskedArray\u001b[0m\u001b[0;34m)\u001b[0m\u001b[0;34m:\u001b[0m\u001b[0;34m\u001b[0m\u001b[0;34m\u001b[0m\u001b[0m\n\u001b[1;32m    531\u001b[0m             \u001b[0;32mimport\u001b[0m \u001b[0mnumpy\u001b[0m\u001b[0;34m.\u001b[0m\u001b[0mma\u001b[0m\u001b[0;34m.\u001b[0m\u001b[0mmrecords\u001b[0m \u001b[0;32mas\u001b[0m \u001b[0mmrecords\u001b[0m\u001b[0;34m\u001b[0m\u001b[0;34m\u001b[0m\u001b[0m\n",
      "\u001b[0;32m~/anaconda3/envs/dock/lib/python3.8/site-packages/pandas/core/internals/construction.py\u001b[0m in \u001b[0;36minit_dict\u001b[0;34m(data, index, columns, dtype)\u001b[0m\n\u001b[1;32m    285\u001b[0m             \u001b[0marr\u001b[0m \u001b[0;32mif\u001b[0m \u001b[0;32mnot\u001b[0m \u001b[0mis_datetime64tz_dtype\u001b[0m\u001b[0;34m(\u001b[0m\u001b[0marr\u001b[0m\u001b[0;34m)\u001b[0m \u001b[0;32melse\u001b[0m \u001b[0marr\u001b[0m\u001b[0;34m.\u001b[0m\u001b[0mcopy\u001b[0m\u001b[0;34m(\u001b[0m\u001b[0;34m)\u001b[0m \u001b[0;32mfor\u001b[0m \u001b[0marr\u001b[0m \u001b[0;32min\u001b[0m \u001b[0marrays\u001b[0m\u001b[0;34m\u001b[0m\u001b[0;34m\u001b[0m\u001b[0m\n\u001b[1;32m    286\u001b[0m         ]\n\u001b[0;32m--> 287\u001b[0;31m     \u001b[0;32mreturn\u001b[0m \u001b[0marrays_to_mgr\u001b[0m\u001b[0;34m(\u001b[0m\u001b[0marrays\u001b[0m\u001b[0;34m,\u001b[0m \u001b[0mdata_names\u001b[0m\u001b[0;34m,\u001b[0m \u001b[0mindex\u001b[0m\u001b[0;34m,\u001b[0m \u001b[0mcolumns\u001b[0m\u001b[0;34m,\u001b[0m \u001b[0mdtype\u001b[0m\u001b[0;34m=\u001b[0m\u001b[0mdtype\u001b[0m\u001b[0;34m)\u001b[0m\u001b[0;34m\u001b[0m\u001b[0;34m\u001b[0m\u001b[0m\n\u001b[0m\u001b[1;32m    288\u001b[0m \u001b[0;34m\u001b[0m\u001b[0m\n\u001b[1;32m    289\u001b[0m \u001b[0;34m\u001b[0m\u001b[0m\n",
      "\u001b[0;32m~/anaconda3/envs/dock/lib/python3.8/site-packages/pandas/core/internals/construction.py\u001b[0m in \u001b[0;36marrays_to_mgr\u001b[0;34m(arrays, arr_names, index, columns, dtype, verify_integrity)\u001b[0m\n\u001b[1;32m     78\u001b[0m         \u001b[0;31m# figure out the index, if necessary\u001b[0m\u001b[0;34m\u001b[0m\u001b[0;34m\u001b[0m\u001b[0;34m\u001b[0m\u001b[0m\n\u001b[1;32m     79\u001b[0m         \u001b[0;32mif\u001b[0m \u001b[0mindex\u001b[0m \u001b[0;32mis\u001b[0m \u001b[0;32mNone\u001b[0m\u001b[0;34m:\u001b[0m\u001b[0;34m\u001b[0m\u001b[0;34m\u001b[0m\u001b[0m\n\u001b[0;32m---> 80\u001b[0;31m             \u001b[0mindex\u001b[0m \u001b[0;34m=\u001b[0m \u001b[0mextract_index\u001b[0m\u001b[0;34m(\u001b[0m\u001b[0marrays\u001b[0m\u001b[0;34m)\u001b[0m\u001b[0;34m\u001b[0m\u001b[0;34m\u001b[0m\u001b[0m\n\u001b[0m\u001b[1;32m     81\u001b[0m         \u001b[0;32melse\u001b[0m\u001b[0;34m:\u001b[0m\u001b[0;34m\u001b[0m\u001b[0;34m\u001b[0m\u001b[0m\n\u001b[1;32m     82\u001b[0m             \u001b[0mindex\u001b[0m \u001b[0;34m=\u001b[0m \u001b[0mensure_index\u001b[0m\u001b[0;34m(\u001b[0m\u001b[0mindex\u001b[0m\u001b[0;34m)\u001b[0m\u001b[0;34m\u001b[0m\u001b[0;34m\u001b[0m\u001b[0m\n",
      "\u001b[0;32m~/anaconda3/envs/dock/lib/python3.8/site-packages/pandas/core/internals/construction.py\u001b[0m in \u001b[0;36mextract_index\u001b[0;34m(data)\u001b[0m\n\u001b[1;32m    399\u001b[0m             \u001b[0mlengths\u001b[0m \u001b[0;34m=\u001b[0m \u001b[0mlist\u001b[0m\u001b[0;34m(\u001b[0m\u001b[0mset\u001b[0m\u001b[0;34m(\u001b[0m\u001b[0mraw_lengths\u001b[0m\u001b[0;34m)\u001b[0m\u001b[0;34m)\u001b[0m\u001b[0;34m\u001b[0m\u001b[0;34m\u001b[0m\u001b[0m\n\u001b[1;32m    400\u001b[0m             \u001b[0;32mif\u001b[0m \u001b[0mlen\u001b[0m\u001b[0;34m(\u001b[0m\u001b[0mlengths\u001b[0m\u001b[0;34m)\u001b[0m \u001b[0;34m>\u001b[0m \u001b[0;36m1\u001b[0m\u001b[0;34m:\u001b[0m\u001b[0;34m\u001b[0m\u001b[0;34m\u001b[0m\u001b[0m\n\u001b[0;32m--> 401\u001b[0;31m                 \u001b[0;32mraise\u001b[0m \u001b[0mValueError\u001b[0m\u001b[0;34m(\u001b[0m\u001b[0;34m\"arrays must all be same length\"\u001b[0m\u001b[0;34m)\u001b[0m\u001b[0;34m\u001b[0m\u001b[0;34m\u001b[0m\u001b[0m\n\u001b[0m\u001b[1;32m    402\u001b[0m \u001b[0;34m\u001b[0m\u001b[0m\n\u001b[1;32m    403\u001b[0m             \u001b[0;32mif\u001b[0m \u001b[0mhave_dicts\u001b[0m\u001b[0;34m:\u001b[0m\u001b[0;34m\u001b[0m\u001b[0;34m\u001b[0m\u001b[0m\n",
      "\u001b[0;31mValueError\u001b[0m: arrays must all be same length"
     ]
    }
   ],
   "source": [
    "#Sweet spot\n",
    "accuracy = []\n",
    "precition = []\n",
    "recall= []\n",
    "f1 = []\n",
    "for i in range(20,200,5):\n",
    "    print(i)\n",
    "    classifier = RandomForestClassifier(n_estimators=100, max_depth=30, random_state=0, criterion=\"entropy\", \n",
    "                                        max_samples=i)\n",
    "    classifier.fit(X_train, Y_train)\n",
    "    prediction = classifier.predict(X_test)\n",
    "    accuracy.append(accuracy_score(prediction, Y_test))\n",
    "    precition.append(precision_score(prediction, Y_test))\n",
    "    recall.append(recall_score(prediction, Y_test))\n",
    "    f1.append(f1_score(prediction, Y_test))\n",
    "y = range(2,1000)\n",
    "\n",
    "df = pd.DataFrame({\"acc\":accuracy, \"pre\":precition, \"rec\":recall, \"f1\":f1})\n",
    "ax = df.plot(kind=\"scatter\", x=y,y=\"acc\", color=\"b\", label=\"acuuracy\")\n",
    "df.plot( y=\"pre\",x=y, color=\"g\", label=\"precision\", ax=ax)\n",
    "df.plot( y=\"rec\",x=y, color=\"orange\", label=\"recall\", ax=ax)\n",
    "df.plot( y=\"f1\",x=y, color=\"purple\", label=\"f1\", ax=ax)\n",
    "                            \n"
   ]
  },
  {
   "cell_type": "markdown",
   "metadata": {},
   "source": [
    "* choose a ML algorithm"
   ]
  },
  {
   "cell_type": "code",
   "execution_count": 6,
   "metadata": {},
   "outputs": [],
   "source": [
    "classifier = RandomForestClassifier(n_estimators=100, max_depth=40, random_state=0, criterion=\"entropy\", \n",
    "                                    max_samples=20)"
   ]
  },
  {
   "cell_type": "markdown",
   "metadata": {},
   "source": [
    "* Training"
   ]
  },
  {
   "cell_type": "code",
   "execution_count": 7,
   "metadata": {},
   "outputs": [
    {
     "data": {
      "text/plain": [
       "RandomForestClassifier(criterion='entropy', max_depth=40, max_samples=20,\n",
       "                       random_state=0)"
      ]
     },
     "execution_count": 7,
     "metadata": {},
     "output_type": "execute_result"
    }
   ],
   "source": [
    "classifier.fit(X_train, Y_train)"
   ]
  },
  {
   "cell_type": "markdown",
   "metadata": {},
   "source": [
    "* Make a predict"
   ]
  },
  {
   "cell_type": "code",
   "execution_count": 8,
   "metadata": {},
   "outputs": [],
   "source": [
    "prediction = classifier.predict(X_test)"
   ]
  },
  {
   "cell_type": "code",
   "execution_count": 9,
   "metadata": {},
   "outputs": [
    {
     "data": {
      "text/html": [
       "<div>\n",
       "<style scoped>\n",
       "    .dataframe tbody tr th:only-of-type {\n",
       "        vertical-align: middle;\n",
       "    }\n",
       "\n",
       "    .dataframe tbody tr th {\n",
       "        vertical-align: top;\n",
       "    }\n",
       "\n",
       "    .dataframe thead th {\n",
       "        text-align: right;\n",
       "    }\n",
       "</style>\n",
       "<table border=\"1\" class=\"dataframe\">\n",
       "  <thead>\n",
       "    <tr style=\"text-align: right;\">\n",
       "      <th></th>\n",
       "      <th>Measure</th>\n",
       "      <th>Source</th>\n",
       "    </tr>\n",
       "  </thead>\n",
       "  <tbody>\n",
       "    <tr>\n",
       "      <th>0</th>\n",
       "      <td>Accuracy</td>\n",
       "      <td>0.864</td>\n",
       "    </tr>\n",
       "    <tr>\n",
       "      <th>1</th>\n",
       "      <td>Precision</td>\n",
       "      <td>0.812</td>\n",
       "    </tr>\n",
       "    <tr>\n",
       "      <th>2</th>\n",
       "      <td>Recall</td>\n",
       "      <td>0.684</td>\n",
       "    </tr>\n",
       "    <tr>\n",
       "      <th>3</th>\n",
       "      <td>f1_score</td>\n",
       "      <td>0.743</td>\n",
       "    </tr>\n",
       "  </tbody>\n",
       "</table>\n",
       "</div>"
      ],
      "text/plain": [
       "     Measure  Source\n",
       "0   Accuracy   0.864\n",
       "1  Precision   0.812\n",
       "2     Recall   0.684\n",
       "3   f1_score   0.743"
      ]
     },
     "metadata": {},
     "output_type": "display_data"
    }
   ],
   "source": [
    "display(evaluate_model(prediction, Y_test))"
   ]
  },
  {
   "cell_type": "code",
   "execution_count": 11,
   "metadata": {},
   "outputs": [
    {
     "data": {
      "text/plain": [
       "'Feature Importance'"
      ]
     },
     "metadata": {},
     "output_type": "display_data"
    },
    {
     "data": {
      "image/png": "[encoded data removed]",
      "text/plain": [
       "<Figure size 432x288 with 1 Axes>"
      ]
     },
     "metadata": {},
     "output_type": "display_data"
    }
   ],
   "source": [
    "columns = ['edge_wtf', 'W', 'CN', 'AA', 'HP', 'HD', 'JC', 'LHN', 'RA', 'SA', 'SO', 'avg_deg']\n",
    "feature_importance(columns, classifier)"
   ]
  },
  {
   "cell_type": "markdown",
   "metadata": {},
   "source": [
    "# Predictiong Graph in 2013"
   ]
  },
  {
   "cell_type": "markdown",
   "metadata": {},
   "source": [
    "* Load training and testing dataframes"
   ]
  },
  {
   "cell_type": "code",
   "execution_count": 12,
   "metadata": {
    "pycharm": {
     "name": "#%%\n"
    }
   },
   "outputs": [
    {
     "data": {
      "text/html": [
       "<div>\n",
       "<style scoped>\n",
       "    .dataframe tbody tr th:only-of-type {\n",
       "        vertical-align: middle;\n",
       "    }\n",
       "\n",
       "    .dataframe tbody tr th {\n",
       "        vertical-align: top;\n",
       "    }\n",
       "\n",
       "    .dataframe thead th {\n",
       "        text-align: right;\n",
       "    }\n",
       "</style>\n",
       "<table border=\"1\" class=\"dataframe\">\n",
       "  <thead>\n",
       "    <tr style=\"text-align: right;\">\n",
       "      <th></th>\n",
       "      <th>edge_wtf</th>\n",
       "      <th>W</th>\n",
       "      <th>CN</th>\n",
       "      <th>AA</th>\n",
       "      <th>HP</th>\n",
       "      <th>HD</th>\n",
       "      <th>JC</th>\n",
       "      <th>LHN</th>\n",
       "      <th>RA</th>\n",
       "      <th>SA</th>\n",
       "      <th>SO</th>\n",
       "      <th>avg_deg</th>\n",
       "    </tr>\n",
       "  </thead>\n",
       "  <tbody>\n",
       "    <tr>\n",
       "      <th>0</th>\n",
       "      <td>2.947</td>\n",
       "      <td>1.860</td>\n",
       "      <td>471.473</td>\n",
       "      <td>83.823</td>\n",
       "      <td>2.240</td>\n",
       "      <td>1.762</td>\n",
       "      <td>0.986</td>\n",
       "      <td>0.008</td>\n",
       "      <td>17.139</td>\n",
       "      <td>17.139</td>\n",
       "      <td>1.973</td>\n",
       "      <td>1195.000</td>\n",
       "    </tr>\n",
       "    <tr>\n",
       "      <th>1</th>\n",
       "      <td>2.945</td>\n",
       "      <td>1.858</td>\n",
       "      <td>471.322</td>\n",
       "      <td>83.799</td>\n",
       "      <td>2.240</td>\n",
       "      <td>1.763</td>\n",
       "      <td>0.986</td>\n",
       "      <td>0.008</td>\n",
       "      <td>17.137</td>\n",
       "      <td>17.137</td>\n",
       "      <td>1.973</td>\n",
       "      <td>1195.000</td>\n",
       "    </tr>\n",
       "    <tr>\n",
       "      <th>2</th>\n",
       "      <td>2.081</td>\n",
       "      <td>1.313</td>\n",
       "      <td>437.032</td>\n",
       "      <td>78.355</td>\n",
       "      <td>2.077</td>\n",
       "      <td>1.890</td>\n",
       "      <td>0.990</td>\n",
       "      <td>0.009</td>\n",
       "      <td>16.178</td>\n",
       "      <td>16.178</td>\n",
       "      <td>1.979</td>\n",
       "      <td>1172.000</td>\n",
       "    </tr>\n",
       "    <tr>\n",
       "      <th>3</th>\n",
       "      <td>2.944</td>\n",
       "      <td>1.857</td>\n",
       "      <td>467.534</td>\n",
       "      <td>83.193</td>\n",
       "      <td>2.222</td>\n",
       "      <td>1.774</td>\n",
       "      <td>0.986</td>\n",
       "      <td>0.008</td>\n",
       "      <td>17.069</td>\n",
       "      <td>17.069</td>\n",
       "      <td>1.973</td>\n",
       "      <td>1195.000</td>\n",
       "    </tr>\n",
       "    <tr>\n",
       "      <th>4</th>\n",
       "      <td>2.949</td>\n",
       "      <td>1.860</td>\n",
       "      <td>471.490</td>\n",
       "      <td>83.826</td>\n",
       "      <td>2.240</td>\n",
       "      <td>1.762</td>\n",
       "      <td>0.986</td>\n",
       "      <td>0.008</td>\n",
       "      <td>17.140</td>\n",
       "      <td>17.140</td>\n",
       "      <td>1.973</td>\n",
       "      <td>1195.000</td>\n",
       "    </tr>\n",
       "  </tbody>\n",
       "</table>\n",
       "</div>"
      ],
      "text/plain": [
       "   edge_wtf     W      CN     AA    HP    HD    JC   LHN     RA     SA    SO  \\\n",
       "0     2.947 1.860 471.473 83.823 2.240 1.762 0.986 0.008 17.139 17.139 1.973   \n",
       "1     2.945 1.858 471.322 83.799 2.240 1.763 0.986 0.008 17.137 17.137 1.973   \n",
       "2     2.081 1.313 437.032 78.355 2.077 1.890 0.990 0.009 16.178 16.178 1.979   \n",
       "3     2.944 1.857 467.534 83.193 2.222 1.774 0.986 0.008 17.069 17.069 1.973   \n",
       "4     2.949 1.860 471.490 83.826 2.240 1.762 0.986 0.008 17.140 17.140 1.973   \n",
       "\n",
       "   avg_deg  \n",
       "0 1195.000  \n",
       "1 1195.000  \n",
       "2 1172.000  \n",
       "3 1195.000  \n",
       "4 1195.000  "
      ]
     },
     "execution_count": 12,
     "metadata": {},
     "output_type": "execute_result"
    }
   ],
   "source": [
    "with open(\"/home/c6/Desktop/OpenWPM/jsons/Prediction_new/temporal_weighted_agregated/2013/train/dataframe.csv\", newline='') as csvfile:\n",
    "    training_df = pd.read_csv(csvfile)\n",
    "    \n",
    "training_df['avg_deg'] = (training_df['deg_e1']+training_df['deg_e2'])/2\n",
    "training_df = training_df.drop(['deg_e1', 'deg_e2'], axis=1)\n",
    "training_df = training_df[['e1','e2','edge_wtf','W','CN','AA','HP','HD','JC','LHN','RA','SA','SO','avg_deg','label']]\n",
    "\n",
    "X_train = training_df.iloc[:,2:-1]\n",
    "Y_train = training_df.iloc[:]['label']\n",
    "\n",
    "X_train.head()\n",
    "\n",
    "with open(\"/home/c6/Desktop/OpenWPM/jsons/Prediction_new/temporal_weighted_agregated/2013/test/dataframe.csv\", newline='') as csvfile:\n",
    "    testing_df = pd.read_csv(csvfile)\n",
    "\n",
    "testing_df['avg_deg'] = (testing_df['deg_e1']+testing_df['deg_e2'])/2\n",
    "testing_df = testing_df.drop(['deg_e1', 'deg_e2'], axis=1)\n",
    "testing_df = testing_df[['e1','e2','edge_wtf','W','CN','AA','HP','HD','JC','LHN','RA','SA','SO','avg_deg','label']]\n",
    "\n",
    "\n",
    "X_test = testing_df.iloc[:,2:-1]\n",
    "Y_test = testing_df.iloc[:]['label']\n",
    "\n",
    "X_test.head()"
   ]
  },
  {
   "cell_type": "code",
   "execution_count": 13,
   "metadata": {
    "pycharm": {
     "name": "#%%\n"
    }
   },
   "outputs": [
    {
     "data": {
      "text/html": [
       "<div>\n",
       "<style scoped>\n",
       "    .dataframe tbody tr th:only-of-type {\n",
       "        vertical-align: middle;\n",
       "    }\n",
       "\n",
       "    .dataframe tbody tr th {\n",
       "        vertical-align: top;\n",
       "    }\n",
       "\n",
       "    .dataframe thead th {\n",
       "        text-align: right;\n",
       "    }\n",
       "</style>\n",
       "<table border=\"1\" class=\"dataframe\">\n",
       "  <thead>\n",
       "    <tr style=\"text-align: right;\">\n",
       "      <th></th>\n",
       "      <th>edge_wtf</th>\n",
       "      <th>W</th>\n",
       "      <th>CN</th>\n",
       "      <th>AA</th>\n",
       "      <th>HP</th>\n",
       "      <th>HD</th>\n",
       "      <th>JC</th>\n",
       "      <th>LHN</th>\n",
       "      <th>RA</th>\n",
       "      <th>SA</th>\n",
       "      <th>SO</th>\n",
       "      <th>avg_deg</th>\n",
       "    </tr>\n",
       "  </thead>\n",
       "  <tbody>\n",
       "    <tr>\n",
       "      <th>0</th>\n",
       "      <td>2.947</td>\n",
       "      <td>1.860</td>\n",
       "      <td>471.473</td>\n",
       "      <td>83.823</td>\n",
       "      <td>2.240</td>\n",
       "      <td>1.762</td>\n",
       "      <td>0.986</td>\n",
       "      <td>0.008</td>\n",
       "      <td>17.139</td>\n",
       "      <td>17.139</td>\n",
       "      <td>1.973</td>\n",
       "      <td>1195.000</td>\n",
       "    </tr>\n",
       "    <tr>\n",
       "      <th>1</th>\n",
       "      <td>2.945</td>\n",
       "      <td>1.858</td>\n",
       "      <td>471.322</td>\n",
       "      <td>83.799</td>\n",
       "      <td>2.240</td>\n",
       "      <td>1.763</td>\n",
       "      <td>0.986</td>\n",
       "      <td>0.008</td>\n",
       "      <td>17.137</td>\n",
       "      <td>17.137</td>\n",
       "      <td>1.973</td>\n",
       "      <td>1195.000</td>\n",
       "    </tr>\n",
       "    <tr>\n",
       "      <th>2</th>\n",
       "      <td>2.081</td>\n",
       "      <td>1.313</td>\n",
       "      <td>437.032</td>\n",
       "      <td>78.355</td>\n",
       "      <td>2.077</td>\n",
       "      <td>1.890</td>\n",
       "      <td>0.990</td>\n",
       "      <td>0.009</td>\n",
       "      <td>16.178</td>\n",
       "      <td>16.178</td>\n",
       "      <td>1.979</td>\n",
       "      <td>1172.000</td>\n",
       "    </tr>\n",
       "    <tr>\n",
       "      <th>3</th>\n",
       "      <td>2.944</td>\n",
       "      <td>1.857</td>\n",
       "      <td>467.534</td>\n",
       "      <td>83.193</td>\n",
       "      <td>2.222</td>\n",
       "      <td>1.774</td>\n",
       "      <td>0.986</td>\n",
       "      <td>0.008</td>\n",
       "      <td>17.069</td>\n",
       "      <td>17.069</td>\n",
       "      <td>1.973</td>\n",
       "      <td>1195.000</td>\n",
       "    </tr>\n",
       "    <tr>\n",
       "      <th>4</th>\n",
       "      <td>2.949</td>\n",
       "      <td>1.860</td>\n",
       "      <td>471.490</td>\n",
       "      <td>83.826</td>\n",
       "      <td>2.240</td>\n",
       "      <td>1.762</td>\n",
       "      <td>0.986</td>\n",
       "      <td>0.008</td>\n",
       "      <td>17.140</td>\n",
       "      <td>17.140</td>\n",
       "      <td>1.973</td>\n",
       "      <td>1195.000</td>\n",
       "    </tr>\n",
       "  </tbody>\n",
       "</table>\n",
       "</div>"
      ],
      "text/plain": [
       "   edge_wtf     W      CN     AA    HP    HD    JC   LHN     RA     SA    SO  \\\n",
       "0     2.947 1.860 471.473 83.823 2.240 1.762 0.986 0.008 17.139 17.139 1.973   \n",
       "1     2.945 1.858 471.322 83.799 2.240 1.763 0.986 0.008 17.137 17.137 1.973   \n",
       "2     2.081 1.313 437.032 78.355 2.077 1.890 0.990 0.009 16.178 16.178 1.979   \n",
       "3     2.944 1.857 467.534 83.193 2.222 1.774 0.986 0.008 17.069 17.069 1.973   \n",
       "4     2.949 1.860 471.490 83.826 2.240 1.762 0.986 0.008 17.140 17.140 1.973   \n",
       "\n",
       "   avg_deg  \n",
       "0 1195.000  \n",
       "1 1195.000  \n",
       "2 1172.000  \n",
       "3 1195.000  \n",
       "4 1195.000  "
      ]
     },
     "execution_count": 13,
     "metadata": {},
     "output_type": "execute_result"
    }
   ],
   "source": [
    "X_test.head()"
   ]
  },
  {
   "cell_type": "markdown",
   "metadata": {},
   "source": [
    "* define evaluation function"
   ]
  },
  {
   "cell_type": "code",
   "execution_count": 14,
   "metadata": {
    "pycharm": {
     "name": "#%%\n"
    }
   },
   "outputs": [],
   "source": [
    "def evaluate_model(predictions, actual):\n",
    "    return pd.DataFrame({\n",
    "        \"Measure\": [\"Accuracy\", \"Precision\", \"Recall\", \"F1\"],\n",
    "        \"Source\": [accuracy_score(actual, predictions),\n",
    "                   precision_score(actual, predictions),\n",
    "                   recall_score(actual, predictions),\n",
    "                   f1_score(actual,predictions)]\n",
    "    })"
   ]
  },
  {
   "cell_type": "markdown",
   "metadata": {},
   "source": [
    "* Find important features"
   ]
  },
  {
   "cell_type": "code",
   "execution_count": 15,
   "metadata": {
    "pycharm": {
     "name": "#%%\n"
    }
   },
   "outputs": [],
   "source": [
    "def feature_importance(columns, classifier):\n",
    "    display(\"Feature Importance\")\n",
    "    df = pd.DataFrame({\"Features\": columns,\n",
    "                      \"Importance\": classifier.feature_importances_})\n",
    "    df = df.sort_values(\"Importance\", ascending=False)\n",
    "    ax = df.plot(kind='bar', x='Features', y='Importance', legend=None)\n",
    "    #ax.xaxist.set_label_text(\"\")\n",
    "    plt.tight_layout()\n",
    "    plt.show"
   ]
  },
  {
   "cell_type": "markdown",
   "metadata": {},
   "source": [
    "* choose a ML algorithm"
   ]
  },
  {
   "cell_type": "code",
   "execution_count": 16,
   "metadata": {
    "pycharm": {
     "name": "#%%\n"
    }
   },
   "outputs": [],
   "source": [
    "classifier = RandomForestClassifier(n_estimators=30, max_depth=10, random_state=0)"
   ]
  },
  {
   "cell_type": "markdown",
   "metadata": {},
   "source": [
    "* Training"
   ]
  },
  {
   "cell_type": "code",
   "execution_count": 17,
   "metadata": {
    "pycharm": {
     "name": "#%%\n"
    }
   },
   "outputs": [
    {
     "data": {
      "text/plain": [
       "RandomForestClassifier(max_depth=10, n_estimators=30, random_state=0)"
      ]
     },
     "execution_count": 17,
     "metadata": {},
     "output_type": "execute_result"
    }
   ],
   "source": [
    "classifier.fit(X_train, Y_train)"
   ]
  },
  {
   "cell_type": "markdown",
   "metadata": {},
   "source": [
    "* Make a predict"
   ]
  },
  {
   "cell_type": "code",
   "execution_count": 18,
   "metadata": {
    "pycharm": {
     "name": "#%%\n"
    }
   },
   "outputs": [],
   "source": [
    "prediction = classifier.predict(X_test)"
   ]
  },
  {
   "cell_type": "code",
   "execution_count": 19,
   "metadata": {
    "pycharm": {
     "name": "#%%\n"
    }
   },
   "outputs": [
    {
     "data": {
      "text/html": [
       "<div>\n",
       "<style scoped>\n",
       "    .dataframe tbody tr th:only-of-type {\n",
       "        vertical-align: middle;\n",
       "    }\n",
       "\n",
       "    .dataframe tbody tr th {\n",
       "        vertical-align: top;\n",
       "    }\n",
       "\n",
       "    .dataframe thead th {\n",
       "        text-align: right;\n",
       "    }\n",
       "</style>\n",
       "<table border=\"1\" class=\"dataframe\">\n",
       "  <thead>\n",
       "    <tr style=\"text-align: right;\">\n",
       "      <th></th>\n",
       "      <th>Measure</th>\n",
       "      <th>Source</th>\n",
       "    </tr>\n",
       "  </thead>\n",
       "  <tbody>\n",
       "    <tr>\n",
       "      <th>0</th>\n",
       "      <td>Accuracy</td>\n",
       "      <td>0.905</td>\n",
       "    </tr>\n",
       "    <tr>\n",
       "      <th>1</th>\n",
       "      <td>Precision</td>\n",
       "      <td>0.829</td>\n",
       "    </tr>\n",
       "    <tr>\n",
       "      <th>2</th>\n",
       "      <td>Recall</td>\n",
       "      <td>0.760</td>\n",
       "    </tr>\n",
       "    <tr>\n",
       "      <th>3</th>\n",
       "      <td>F1</td>\n",
       "      <td>0.793</td>\n",
       "    </tr>\n",
       "  </tbody>\n",
       "</table>\n",
       "</div>"
      ],
      "text/plain": [
       "     Measure  Source\n",
       "0   Accuracy   0.905\n",
       "1  Precision   0.829\n",
       "2     Recall   0.760\n",
       "3         F1   0.793"
      ]
     },
     "metadata": {},
     "output_type": "display_data"
    }
   ],
   "source": [
    "display(evaluate_model(prediction, Y_test))"
   ]
  },
  {
   "cell_type": "code",
   "execution_count": 20,
   "metadata": {
    "pycharm": {
     "name": "#%%\n"
    }
   },
   "outputs": [
    {
     "data": {
      "text/plain": [
       "'Feature Importance'"
      ]
     },
     "metadata": {},
     "output_type": "display_data"
    },
    {
     "data": {
      "image/png": "[encoded data removed]",
      "text/plain": [
       "<Figure size 432x288 with 1 Axes>"
      ]
     },
     "metadata": {},
     "output_type": "display_data"
    }
   ],
   "source": [
    "columns = ['edge_wtf', 'W', 'CN', 'AA', 'HP', 'HD', 'JC', 'LHN', 'RA', 'SA', 'SO', 'avg_deg']\n",
    "feature_importance(columns, classifier)"
   ]
  },
  {
   "cell_type": "markdown",
   "metadata": {},
   "source": [
    "# Predictiong Graph in 2014"
   ]
  },
  {
   "cell_type": "markdown",
   "metadata": {},
   "source": [
    "* Load training and testing dataframes"
   ]
  },
  {
   "cell_type": "code",
   "execution_count": 22,
   "metadata": {
    "pycharm": {
     "name": "#%%\n"
    }
   },
   "outputs": [
    {
     "data": {
      "text/html": [
       "<div>\n",
       "<style scoped>\n",
       "    .dataframe tbody tr th:only-of-type {\n",
       "        vertical-align: middle;\n",
       "    }\n",
       "\n",
       "    .dataframe tbody tr th {\n",
       "        vertical-align: top;\n",
       "    }\n",
       "\n",
       "    .dataframe thead th {\n",
       "        text-align: right;\n",
       "    }\n",
       "</style>\n",
       "<table border=\"1\" class=\"dataframe\">\n",
       "  <thead>\n",
       "    <tr style=\"text-align: right;\">\n",
       "      <th></th>\n",
       "      <th>edge_wtf</th>\n",
       "      <th>W</th>\n",
       "      <th>CN</th>\n",
       "      <th>AA</th>\n",
       "      <th>HP</th>\n",
       "      <th>HD</th>\n",
       "      <th>JC</th>\n",
       "      <th>LHN</th>\n",
       "      <th>RA</th>\n",
       "      <th>SA</th>\n",
       "      <th>SO</th>\n",
       "      <th>avg_deg</th>\n",
       "    </tr>\n",
       "  </thead>\n",
       "  <tbody>\n",
       "    <tr>\n",
       "      <th>0</th>\n",
       "      <td>4.064</td>\n",
       "      <td>2.564</td>\n",
       "      <td>680.826</td>\n",
       "      <td>111.953</td>\n",
       "      <td>2.217</td>\n",
       "      <td>1.780</td>\n",
       "      <td>0.987</td>\n",
       "      <td>0.006</td>\n",
       "      <td>19.884</td>\n",
       "      <td>19.884</td>\n",
       "      <td>1.975</td>\n",
       "      <td>1419.500</td>\n",
       "    </tr>\n",
       "    <tr>\n",
       "      <th>1</th>\n",
       "      <td>4.062</td>\n",
       "      <td>2.563</td>\n",
       "      <td>680.636</td>\n",
       "      <td>111.926</td>\n",
       "      <td>2.216</td>\n",
       "      <td>1.781</td>\n",
       "      <td>0.987</td>\n",
       "      <td>0.006</td>\n",
       "      <td>19.882</td>\n",
       "      <td>19.882</td>\n",
       "      <td>1.975</td>\n",
       "      <td>1419.500</td>\n",
       "    </tr>\n",
       "    <tr>\n",
       "      <th>2</th>\n",
       "      <td>3.108</td>\n",
       "      <td>1.961</td>\n",
       "      <td>640.194</td>\n",
       "      <td>105.762</td>\n",
       "      <td>2.084</td>\n",
       "      <td>1.884</td>\n",
       "      <td>0.990</td>\n",
       "      <td>0.006</td>\n",
       "      <td>18.744</td>\n",
       "      <td>18.744</td>\n",
       "      <td>1.979</td>\n",
       "      <td>1397.500</td>\n",
       "    </tr>\n",
       "    <tr>\n",
       "      <th>3</th>\n",
       "      <td>4.060</td>\n",
       "      <td>2.562</td>\n",
       "      <td>676.830</td>\n",
       "      <td>111.361</td>\n",
       "      <td>2.204</td>\n",
       "      <td>1.789</td>\n",
       "      <td>0.987</td>\n",
       "      <td>0.006</td>\n",
       "      <td>19.832</td>\n",
       "      <td>19.832</td>\n",
       "      <td>1.975</td>\n",
       "      <td>1419.500</td>\n",
       "    </tr>\n",
       "    <tr>\n",
       "      <th>4</th>\n",
       "      <td>4.065</td>\n",
       "      <td>2.565</td>\n",
       "      <td>680.857</td>\n",
       "      <td>111.957</td>\n",
       "      <td>2.217</td>\n",
       "      <td>1.780</td>\n",
       "      <td>0.987</td>\n",
       "      <td>0.006</td>\n",
       "      <td>19.885</td>\n",
       "      <td>19.885</td>\n",
       "      <td>1.975</td>\n",
       "      <td>1419.500</td>\n",
       "    </tr>\n",
       "  </tbody>\n",
       "</table>\n",
       "</div>"
      ],
      "text/plain": [
       "   edge_wtf     W      CN      AA    HP    HD    JC   LHN     RA     SA    SO  \\\n",
       "0     4.064 2.564 680.826 111.953 2.217 1.780 0.987 0.006 19.884 19.884 1.975   \n",
       "1     4.062 2.563 680.636 111.926 2.216 1.781 0.987 0.006 19.882 19.882 1.975   \n",
       "2     3.108 1.961 640.194 105.762 2.084 1.884 0.990 0.006 18.744 18.744 1.979   \n",
       "3     4.060 2.562 676.830 111.361 2.204 1.789 0.987 0.006 19.832 19.832 1.975   \n",
       "4     4.065 2.565 680.857 111.957 2.217 1.780 0.987 0.006 19.885 19.885 1.975   \n",
       "\n",
       "   avg_deg  \n",
       "0 1419.500  \n",
       "1 1419.500  \n",
       "2 1397.500  \n",
       "3 1419.500  \n",
       "4 1419.500  "
      ]
     },
     "execution_count": 22,
     "metadata": {},
     "output_type": "execute_result"
    }
   ],
   "source": [
    "with open(\"/home/c6/Desktop/OpenWPM/jsons/Prediction_new/temporal_weighted_agregated/2014/train/dataframe.csv\", newline='') as csvfile:\n",
    "    training_df = pd.read_csv(csvfile)\n",
    "    \n",
    "training_df['avg_deg'] = (training_df['deg_e1']+training_df['deg_e2'])/2\n",
    "training_df = training_df.drop(['deg_e1', 'deg_e2'], axis=1)\n",
    "training_df = training_df[['e1','e2','edge_wtf','W','CN','AA','HP','HD','JC','LHN','RA','SA','SO','avg_deg','label']]\n",
    "\n",
    "X_train = training_df.iloc[:,2:-1]\n",
    "Y_train = training_df.iloc[:]['label']\n",
    "\n",
    "X_train.head()\n",
    "\n",
    "with open(\"/home/c6/Desktop/OpenWPM/jsons/Prediction_new/temporal_weighted_agregated/2014/test/dataframe.csv\", newline='') as csvfile:\n",
    "    testing_df = pd.read_csv(csvfile)\n",
    "\n",
    "testing_df['avg_deg'] = (testing_df['deg_e1']+testing_df['deg_e2'])/2\n",
    "testing_df = testing_df.drop(['deg_e1', 'deg_e2'], axis=1)\n",
    "testing_df = testing_df[['e1','e2','edge_wtf','W','CN','AA','HP','HD','JC','LHN','RA','SA','SO','avg_deg','label']]\n",
    "\n",
    "\n",
    "X_test = testing_df.iloc[:,2:-1]\n",
    "Y_test = testing_df.iloc[:]['label']\n",
    "\n",
    "X_test.head()"
   ]
  },
  {
   "cell_type": "code",
   "execution_count": 67,
   "metadata": {
    "pycharm": {
     "name": "#%%\n"
    }
   },
   "outputs": [
    {
     "data": {
      "text/html": [
       "<div>\n",
       "<style scoped>\n",
       "    .dataframe tbody tr th:only-of-type {\n",
       "        vertical-align: middle;\n",
       "    }\n",
       "\n",
       "    .dataframe tbody tr th {\n",
       "        vertical-align: top;\n",
       "    }\n",
       "\n",
       "    .dataframe thead th {\n",
       "        text-align: right;\n",
       "    }\n",
       "</style>\n",
       "<table border=\"1\" class=\"dataframe\">\n",
       "  <thead>\n",
       "    <tr style=\"text-align: right;\">\n",
       "      <th></th>\n",
       "      <th>edge_wtf</th>\n",
       "      <th>W</th>\n",
       "      <th>CN</th>\n",
       "      <th>AA</th>\n",
       "      <th>HP</th>\n",
       "      <th>HD</th>\n",
       "      <th>JC</th>\n",
       "      <th>LHN</th>\n",
       "      <th>RA</th>\n",
       "      <th>SA</th>\n",
       "      <th>SO</th>\n",
       "      <th>deg_e1</th>\n",
       "      <th>deg_e2</th>\n",
       "    </tr>\n",
       "  </thead>\n",
       "  <tbody>\n",
       "    <tr>\n",
       "      <th>0</th>\n",
       "      <td>2.947</td>\n",
       "      <td>1.860</td>\n",
       "      <td>471.473</td>\n",
       "      <td>83.823</td>\n",
       "      <td>2.240</td>\n",
       "      <td>1.762</td>\n",
       "      <td>0.986</td>\n",
       "      <td>0.008</td>\n",
       "      <td>17.139</td>\n",
       "      <td>17.139</td>\n",
       "      <td>1.973</td>\n",
       "      <td>1154</td>\n",
       "      <td>1236</td>\n",
       "    </tr>\n",
       "    <tr>\n",
       "      <th>1</th>\n",
       "      <td>2.945</td>\n",
       "      <td>1.858</td>\n",
       "      <td>471.322</td>\n",
       "      <td>83.799</td>\n",
       "      <td>2.240</td>\n",
       "      <td>1.763</td>\n",
       "      <td>0.986</td>\n",
       "      <td>0.008</td>\n",
       "      <td>17.137</td>\n",
       "      <td>17.137</td>\n",
       "      <td>1.973</td>\n",
       "      <td>1154</td>\n",
       "      <td>1236</td>\n",
       "    </tr>\n",
       "    <tr>\n",
       "      <th>2</th>\n",
       "      <td>2.081</td>\n",
       "      <td>1.313</td>\n",
       "      <td>437.032</td>\n",
       "      <td>78.355</td>\n",
       "      <td>2.077</td>\n",
       "      <td>1.890</td>\n",
       "      <td>0.990</td>\n",
       "      <td>0.009</td>\n",
       "      <td>16.178</td>\n",
       "      <td>16.178</td>\n",
       "      <td>1.979</td>\n",
       "      <td>1154</td>\n",
       "      <td>1190</td>\n",
       "    </tr>\n",
       "    <tr>\n",
       "      <th>3</th>\n",
       "      <td>2.944</td>\n",
       "      <td>1.857</td>\n",
       "      <td>467.534</td>\n",
       "      <td>83.193</td>\n",
       "      <td>2.222</td>\n",
       "      <td>1.774</td>\n",
       "      <td>0.986</td>\n",
       "      <td>0.008</td>\n",
       "      <td>17.069</td>\n",
       "      <td>17.069</td>\n",
       "      <td>1.973</td>\n",
       "      <td>1154</td>\n",
       "      <td>1236</td>\n",
       "    </tr>\n",
       "    <tr>\n",
       "      <th>4</th>\n",
       "      <td>2.949</td>\n",
       "      <td>1.860</td>\n",
       "      <td>471.490</td>\n",
       "      <td>83.826</td>\n",
       "      <td>2.240</td>\n",
       "      <td>1.762</td>\n",
       "      <td>0.986</td>\n",
       "      <td>0.008</td>\n",
       "      <td>17.140</td>\n",
       "      <td>17.140</td>\n",
       "      <td>1.973</td>\n",
       "      <td>1154</td>\n",
       "      <td>1236</td>\n",
       "    </tr>\n",
       "  </tbody>\n",
       "</table>\n",
       "</div>"
      ],
      "text/plain": [
       "   edge_wtf     W      CN     AA    HP    HD    JC   LHN     RA     SA    SO  \\\n",
       "0     2.947 1.860 471.473 83.823 2.240 1.762 0.986 0.008 17.139 17.139 1.973   \n",
       "1     2.945 1.858 471.322 83.799 2.240 1.763 0.986 0.008 17.137 17.137 1.973   \n",
       "2     2.081 1.313 437.032 78.355 2.077 1.890 0.990 0.009 16.178 16.178 1.979   \n",
       "3     2.944 1.857 467.534 83.193 2.222 1.774 0.986 0.008 17.069 17.069 1.973   \n",
       "4     2.949 1.860 471.490 83.826 2.240 1.762 0.986 0.008 17.140 17.140 1.973   \n",
       "\n",
       "   deg_e1  deg_e2  \n",
       "0    1154    1236  \n",
       "1    1154    1236  \n",
       "2    1154    1190  \n",
       "3    1154    1236  \n",
       "4    1154    1236  "
      ]
     },
     "execution_count": 67,
     "metadata": {},
     "output_type": "execute_result"
    }
   ],
   "source": [
    "X_test.head()"
   ]
  },
  {
   "cell_type": "markdown",
   "metadata": {},
   "source": [
    "* define evaluation function"
   ]
  },
  {
   "cell_type": "code",
   "execution_count": 23,
   "metadata": {
    "pycharm": {
     "name": "#%%\n"
    }
   },
   "outputs": [],
   "source": [
    "def evaluate_model(predictions, actual):\n",
    "    return pd.DataFrame({\n",
    "        \"Measure\": [\"Accuracy\", \"Precision\", \"Recall\", \"F1\"],\n",
    "        \"Source\": [accuracy_score(actual, predictions), \n",
    "                   precision_score(actual, predictions), \n",
    "                   recall_score(actual, predictions),\n",
    "                   f1_score(actual, predictions)]\n",
    "    })"
   ]
  },
  {
   "cell_type": "markdown",
   "metadata": {},
   "source": [
    "* Find important features"
   ]
  },
  {
   "cell_type": "code",
   "execution_count": 24,
   "metadata": {
    "pycharm": {
     "name": "#%%\n"
    }
   },
   "outputs": [],
   "source": [
    "def feature_importance(columns, classifier):\n",
    "    display(\"Feature Importance\")\n",
    "    df = pd.DataFrame({\"Features\": columns,\n",
    "                      \"Importance\": classifier.feature_importances_})\n",
    "    df = df.sort_values(\"Importance\", ascending=False)\n",
    "    ax = df.plot(kind='bar', x='Features', y='Importance', legend=None)\n",
    "    #ax.xaxist.set_label_text(\"\")\n",
    "    plt.tight_layout()\n",
    "    plt.show"
   ]
  },
  {
   "cell_type": "markdown",
   "metadata": {},
   "source": [
    "* choose a ML algorithm"
   ]
  },
  {
   "cell_type": "code",
   "execution_count": 25,
   "metadata": {
    "pycharm": {
     "name": "#%%\n"
    }
   },
   "outputs": [],
   "source": [
    "classifier = RandomForestClassifier(n_estimators=30, max_depth=10, random_state=0)"
   ]
  },
  {
   "cell_type": "markdown",
   "metadata": {},
   "source": [
    "* Training"
   ]
  },
  {
   "cell_type": "code",
   "execution_count": 26,
   "metadata": {
    "pycharm": {
     "name": "#%%\n"
    }
   },
   "outputs": [
    {
     "data": {
      "text/plain": [
       "RandomForestClassifier(max_depth=10, n_estimators=30, random_state=0)"
      ]
     },
     "execution_count": 26,
     "metadata": {},
     "output_type": "execute_result"
    }
   ],
   "source": [
    "classifier.fit(X_train, Y_train)"
   ]
  },
  {
   "cell_type": "markdown",
   "metadata": {},
   "source": [
    "* Make a predict"
   ]
  },
  {
   "cell_type": "code",
   "execution_count": 27,
   "metadata": {
    "pycharm": {
     "name": "#%%\n"
    }
   },
   "outputs": [],
   "source": [
    "prediction = classifier.predict(X_test)"
   ]
  },
  {
   "cell_type": "code",
   "execution_count": 28,
   "metadata": {
    "pycharm": {
     "name": "#%%\n"
    }
   },
   "outputs": [
    {
     "data": {
      "text/html": [
       "<div>\n",
       "<style scoped>\n",
       "    .dataframe tbody tr th:only-of-type {\n",
       "        vertical-align: middle;\n",
       "    }\n",
       "\n",
       "    .dataframe tbody tr th {\n",
       "        vertical-align: top;\n",
       "    }\n",
       "\n",
       "    .dataframe thead th {\n",
       "        text-align: right;\n",
       "    }\n",
       "</style>\n",
       "<table border=\"1\" class=\"dataframe\">\n",
       "  <thead>\n",
       "    <tr style=\"text-align: right;\">\n",
       "      <th></th>\n",
       "      <th>Measure</th>\n",
       "      <th>Source</th>\n",
       "    </tr>\n",
       "  </thead>\n",
       "  <tbody>\n",
       "    <tr>\n",
       "      <th>0</th>\n",
       "      <td>Accuracy</td>\n",
       "      <td>0.872</td>\n",
       "    </tr>\n",
       "    <tr>\n",
       "      <th>1</th>\n",
       "      <td>Precision</td>\n",
       "      <td>0.903</td>\n",
       "    </tr>\n",
       "    <tr>\n",
       "      <th>2</th>\n",
       "      <td>Recall</td>\n",
       "      <td>0.630</td>\n",
       "    </tr>\n",
       "    <tr>\n",
       "      <th>3</th>\n",
       "      <td>F1</td>\n",
       "      <td>0.742</td>\n",
       "    </tr>\n",
       "  </tbody>\n",
       "</table>\n",
       "</div>"
      ],
      "text/plain": [
       "     Measure  Source\n",
       "0   Accuracy   0.872\n",
       "1  Precision   0.903\n",
       "2     Recall   0.630\n",
       "3         F1   0.742"
      ]
     },
     "metadata": {},
     "output_type": "display_data"
    }
   ],
   "source": [
    "display(evaluate_model(prediction, Y_test))"
   ]
  },
  {
   "cell_type": "code",
   "execution_count": 29,
   "metadata": {
    "pycharm": {
     "name": "#%%\n"
    }
   },
   "outputs": [
    {
     "data": {
      "text/plain": [
       "'Feature Importance'"
      ]
     },
     "metadata": {},
     "output_type": "display_data"
    },
    {
     "data": {
      "image/png": "[encoded data removed]",
      "text/plain": [
       "<Figure size 432x288 with 1 Axes>"
      ]
     },
     "metadata": {},
     "output_type": "display_data"
    }
   ],
   "source": [
    "columns = ['edge_wtf', 'W', 'CN', 'AA', 'HP', 'HD', 'JC', 'LHN', 'RA', 'SA', 'SO', 'avg_deg']\n",
    "feature_importance(columns, classifier)"
   ]
  },
  {
   "cell_type": "markdown",
   "metadata": {},
   "source": [
    "# Predictiong Graph in 2015"
   ]
  },
  {
   "cell_type": "markdown",
   "metadata": {},
   "source": [
    "* Load training and testing dataframes"
   ]
  },
  {
   "cell_type": "code",
   "execution_count": 30,
   "metadata": {
    "pycharm": {
     "name": "#%%\n"
    }
   },
   "outputs": [
    {
     "data": {
      "text/html": [
       "<div>\n",
       "<style scoped>\n",
       "    .dataframe tbody tr th:only-of-type {\n",
       "        vertical-align: middle;\n",
       "    }\n",
       "\n",
       "    .dataframe tbody tr th {\n",
       "        vertical-align: top;\n",
       "    }\n",
       "\n",
       "    .dataframe thead th {\n",
       "        text-align: right;\n",
       "    }\n",
       "</style>\n",
       "<table border=\"1\" class=\"dataframe\">\n",
       "  <thead>\n",
       "    <tr style=\"text-align: right;\">\n",
       "      <th></th>\n",
       "      <th>edge_wtf</th>\n",
       "      <th>W</th>\n",
       "      <th>CN</th>\n",
       "      <th>AA</th>\n",
       "      <th>HP</th>\n",
       "      <th>HD</th>\n",
       "      <th>JC</th>\n",
       "      <th>LHN</th>\n",
       "      <th>RA</th>\n",
       "      <th>SA</th>\n",
       "      <th>SO</th>\n",
       "      <th>avg_deg</th>\n",
       "    </tr>\n",
       "  </thead>\n",
       "  <tbody>\n",
       "    <tr>\n",
       "      <th>0</th>\n",
       "      <td>5.079</td>\n",
       "      <td>3.205</td>\n",
       "      <td>921.539</td>\n",
       "      <td>142.599</td>\n",
       "      <td>2.203</td>\n",
       "      <td>1.794</td>\n",
       "      <td>0.989</td>\n",
       "      <td>0.004</td>\n",
       "      <td>22.427</td>\n",
       "      <td>22.427</td>\n",
       "      <td>1.978</td>\n",
       "      <td>1849.000</td>\n",
       "    </tr>\n",
       "    <tr>\n",
       "      <th>1</th>\n",
       "      <td>5.078</td>\n",
       "      <td>3.204</td>\n",
       "      <td>921.328</td>\n",
       "      <td>142.570</td>\n",
       "      <td>2.203</td>\n",
       "      <td>1.794</td>\n",
       "      <td>0.989</td>\n",
       "      <td>0.004</td>\n",
       "      <td>22.426</td>\n",
       "      <td>22.426</td>\n",
       "      <td>1.978</td>\n",
       "      <td>1849.000</td>\n",
       "    </tr>\n",
       "    <tr>\n",
       "      <th>2</th>\n",
       "      <td>4.051</td>\n",
       "      <td>2.556</td>\n",
       "      <td>873.435</td>\n",
       "      <td>135.630</td>\n",
       "      <td>2.088</td>\n",
       "      <td>1.885</td>\n",
       "      <td>0.991</td>\n",
       "      <td>0.005</td>\n",
       "      <td>21.274</td>\n",
       "      <td>21.274</td>\n",
       "      <td>1.981</td>\n",
       "      <td>1813.000</td>\n",
       "    </tr>\n",
       "    <tr>\n",
       "      <th>3</th>\n",
       "      <td>5.075</td>\n",
       "      <td>3.202</td>\n",
       "      <td>917.394</td>\n",
       "      <td>142.010</td>\n",
       "      <td>2.193</td>\n",
       "      <td>1.800</td>\n",
       "      <td>0.989</td>\n",
       "      <td>0.004</td>\n",
       "      <td>22.374</td>\n",
       "      <td>22.374</td>\n",
       "      <td>1.978</td>\n",
       "      <td>1840.000</td>\n",
       "    </tr>\n",
       "    <tr>\n",
       "      <th>4</th>\n",
       "      <td>5.081</td>\n",
       "      <td>3.206</td>\n",
       "      <td>921.576</td>\n",
       "      <td>142.604</td>\n",
       "      <td>2.203</td>\n",
       "      <td>1.794</td>\n",
       "      <td>0.989</td>\n",
       "      <td>0.004</td>\n",
       "      <td>22.428</td>\n",
       "      <td>22.428</td>\n",
       "      <td>1.978</td>\n",
       "      <td>1849.000</td>\n",
       "    </tr>\n",
       "  </tbody>\n",
       "</table>\n",
       "</div>"
      ],
      "text/plain": [
       "   edge_wtf     W      CN      AA    HP    HD    JC   LHN     RA     SA    SO  \\\n",
       "0     5.079 3.205 921.539 142.599 2.203 1.794 0.989 0.004 22.427 22.427 1.978   \n",
       "1     5.078 3.204 921.328 142.570 2.203 1.794 0.989 0.004 22.426 22.426 1.978   \n",
       "2     4.051 2.556 873.435 135.630 2.088 1.885 0.991 0.005 21.274 21.274 1.981   \n",
       "3     5.075 3.202 917.394 142.010 2.193 1.800 0.989 0.004 22.374 22.374 1.978   \n",
       "4     5.081 3.206 921.576 142.604 2.203 1.794 0.989 0.004 22.428 22.428 1.978   \n",
       "\n",
       "   avg_deg  \n",
       "0 1849.000  \n",
       "1 1849.000  \n",
       "2 1813.000  \n",
       "3 1840.000  \n",
       "4 1849.000  "
      ]
     },
     "execution_count": 30,
     "metadata": {},
     "output_type": "execute_result"
    }
   ],
   "source": [
    "with open(\"/home/c6/Desktop/OpenWPM/jsons/Prediction_new/temporal_weighted_agregated/2015/train/dataframe.csv\", newline='') as csvfile:\n",
    "    training_df = pd.read_csv(csvfile)\n",
    "    \n",
    "training_df['avg_deg'] = (training_df['deg_e1']+training_df['deg_e2'])/2\n",
    "training_df = training_df.drop(['deg_e1', 'deg_e2'], axis=1)\n",
    "training_df = training_df[['e1','e2','edge_wtf','W','CN','AA','HP','HD','JC','LHN','RA','SA','SO','avg_deg','label']]\n",
    "\n",
    "X_train = training_df.iloc[:,2:-1]\n",
    "Y_train = training_df.iloc[:]['label']\n",
    "\n",
    "X_train.head()\n",
    "\n",
    "with open(\"/home/c6/Desktop/OpenWPM/jsons/Prediction_new/temporal_weighted_agregated/2015/test/dataframe.csv\", newline='') as csvfile:\n",
    "    testing_df = pd.read_csv(csvfile)\n",
    "\n",
    "testing_df['avg_deg'] = (testing_df['deg_e1']+testing_df['deg_e2'])/2\n",
    "testing_df = testing_df.drop(['deg_e1', 'deg_e2'], axis=1)\n",
    "testing_df = testing_df[['e1','e2','edge_wtf','W','CN','AA','HP','HD','JC','LHN','RA','SA','SO','avg_deg','label']]\n",
    "\n",
    "\n",
    "X_test = testing_df.iloc[:,2:-1]\n",
    "Y_test = testing_df.iloc[:]['label']\n",
    "\n",
    "X_test.head()"
   ]
  },
  {
   "cell_type": "code",
   "execution_count": 31,
   "metadata": {
    "pycharm": {
     "name": "#%%\n"
    }
   },
   "outputs": [
    {
     "data": {
      "text/html": [
       "<div>\n",
       "<style scoped>\n",
       "    .dataframe tbody tr th:only-of-type {\n",
       "        vertical-align: middle;\n",
       "    }\n",
       "\n",
       "    .dataframe tbody tr th {\n",
       "        vertical-align: top;\n",
       "    }\n",
       "\n",
       "    .dataframe thead th {\n",
       "        text-align: right;\n",
       "    }\n",
       "</style>\n",
       "<table border=\"1\" class=\"dataframe\">\n",
       "  <thead>\n",
       "    <tr style=\"text-align: right;\">\n",
       "      <th></th>\n",
       "      <th>edge_wtf</th>\n",
       "      <th>W</th>\n",
       "      <th>CN</th>\n",
       "      <th>AA</th>\n",
       "      <th>HP</th>\n",
       "      <th>HD</th>\n",
       "      <th>JC</th>\n",
       "      <th>LHN</th>\n",
       "      <th>RA</th>\n",
       "      <th>SA</th>\n",
       "      <th>SO</th>\n",
       "      <th>avg_deg</th>\n",
       "    </tr>\n",
       "  </thead>\n",
       "  <tbody>\n",
       "    <tr>\n",
       "      <th>0</th>\n",
       "      <td>5.079</td>\n",
       "      <td>3.205</td>\n",
       "      <td>921.539</td>\n",
       "      <td>142.599</td>\n",
       "      <td>2.203</td>\n",
       "      <td>1.794</td>\n",
       "      <td>0.989</td>\n",
       "      <td>0.004</td>\n",
       "      <td>22.427</td>\n",
       "      <td>22.427</td>\n",
       "      <td>1.978</td>\n",
       "      <td>1849.000</td>\n",
       "    </tr>\n",
       "    <tr>\n",
       "      <th>1</th>\n",
       "      <td>5.078</td>\n",
       "      <td>3.204</td>\n",
       "      <td>921.328</td>\n",
       "      <td>142.570</td>\n",
       "      <td>2.203</td>\n",
       "      <td>1.794</td>\n",
       "      <td>0.989</td>\n",
       "      <td>0.004</td>\n",
       "      <td>22.426</td>\n",
       "      <td>22.426</td>\n",
       "      <td>1.978</td>\n",
       "      <td>1849.000</td>\n",
       "    </tr>\n",
       "    <tr>\n",
       "      <th>2</th>\n",
       "      <td>4.051</td>\n",
       "      <td>2.556</td>\n",
       "      <td>873.435</td>\n",
       "      <td>135.630</td>\n",
       "      <td>2.088</td>\n",
       "      <td>1.885</td>\n",
       "      <td>0.991</td>\n",
       "      <td>0.005</td>\n",
       "      <td>21.274</td>\n",
       "      <td>21.274</td>\n",
       "      <td>1.981</td>\n",
       "      <td>1813.000</td>\n",
       "    </tr>\n",
       "    <tr>\n",
       "      <th>3</th>\n",
       "      <td>5.075</td>\n",
       "      <td>3.202</td>\n",
       "      <td>917.394</td>\n",
       "      <td>142.010</td>\n",
       "      <td>2.193</td>\n",
       "      <td>1.800</td>\n",
       "      <td>0.989</td>\n",
       "      <td>0.004</td>\n",
       "      <td>22.374</td>\n",
       "      <td>22.374</td>\n",
       "      <td>1.978</td>\n",
       "      <td>1840.000</td>\n",
       "    </tr>\n",
       "    <tr>\n",
       "      <th>4</th>\n",
       "      <td>5.081</td>\n",
       "      <td>3.206</td>\n",
       "      <td>921.576</td>\n",
       "      <td>142.604</td>\n",
       "      <td>2.203</td>\n",
       "      <td>1.794</td>\n",
       "      <td>0.989</td>\n",
       "      <td>0.004</td>\n",
       "      <td>22.428</td>\n",
       "      <td>22.428</td>\n",
       "      <td>1.978</td>\n",
       "      <td>1849.000</td>\n",
       "    </tr>\n",
       "  </tbody>\n",
       "</table>\n",
       "</div>"
      ],
      "text/plain": [
       "   edge_wtf     W      CN      AA    HP    HD    JC   LHN     RA     SA    SO  \\\n",
       "0     5.079 3.205 921.539 142.599 2.203 1.794 0.989 0.004 22.427 22.427 1.978   \n",
       "1     5.078 3.204 921.328 142.570 2.203 1.794 0.989 0.004 22.426 22.426 1.978   \n",
       "2     4.051 2.556 873.435 135.630 2.088 1.885 0.991 0.005 21.274 21.274 1.981   \n",
       "3     5.075 3.202 917.394 142.010 2.193 1.800 0.989 0.004 22.374 22.374 1.978   \n",
       "4     5.081 3.206 921.576 142.604 2.203 1.794 0.989 0.004 22.428 22.428 1.978   \n",
       "\n",
       "   avg_deg  \n",
       "0 1849.000  \n",
       "1 1849.000  \n",
       "2 1813.000  \n",
       "3 1840.000  \n",
       "4 1849.000  "
      ]
     },
     "execution_count": 31,
     "metadata": {},
     "output_type": "execute_result"
    }
   ],
   "source": [
    "X_test.head()"
   ]
  },
  {
   "cell_type": "markdown",
   "metadata": {},
   "source": [
    "* define evaluation function"
   ]
  },
  {
   "cell_type": "code",
   "execution_count": 32,
   "metadata": {
    "pycharm": {
     "name": "#%%\n"
    }
   },
   "outputs": [],
   "source": [
    "def evaluate_model(predictions, actual):\n",
    "    return pd.DataFrame({\n",
    "        \"Measure\": [\"Accuracy\", \"Precision\", \"Recall\", \"F1\"],\n",
    "        \"Source\": [accuracy_score(actual, predictions), \n",
    "                   precision_score(actual, predictions), \n",
    "                   recall_score(actual, predictions),\n",
    "                   f1_score(actual, predictions)]\n",
    "    })"
   ]
  },
  {
   "cell_type": "markdown",
   "metadata": {},
   "source": [
    "* Find important features"
   ]
  },
  {
   "cell_type": "code",
   "execution_count": 33,
   "metadata": {
    "pycharm": {
     "name": "#%%\n"
    }
   },
   "outputs": [],
   "source": [
    "def feature_importance(columns, classifier):\n",
    "    display(\"Feature Importance\")\n",
    "    df = pd.DataFrame({\"Features\": columns,\n",
    "                      \"Importance\": classifier.feature_importances_})\n",
    "    df = df.sort_values(\"Importance\", ascending=False)\n",
    "    ax = df.plot(kind='bar', x='Features', y='Importance', legend=None)\n",
    "    #ax.xaxist.set_label_text(\"\")\n",
    "    plt.tight_layout()\n",
    "    plt.show"
   ]
  },
  {
   "cell_type": "markdown",
   "metadata": {},
   "source": [
    "* choose a ML algorithm"
   ]
  },
  {
   "cell_type": "code",
   "execution_count": 34,
   "metadata": {
    "pycharm": {
     "name": "#%%\n"
    }
   },
   "outputs": [],
   "source": [
    "classifier = RandomForestClassifier(n_estimators=30, max_depth=10, random_state=0)"
   ]
  },
  {
   "cell_type": "markdown",
   "metadata": {},
   "source": [
    "* Training"
   ]
  },
  {
   "cell_type": "code",
   "execution_count": 35,
   "metadata": {
    "pycharm": {
     "name": "#%%\n"
    }
   },
   "outputs": [
    {
     "data": {
      "text/plain": [
       "RandomForestClassifier(max_depth=10, n_estimators=30, random_state=0)"
      ]
     },
     "execution_count": 35,
     "metadata": {},
     "output_type": "execute_result"
    }
   ],
   "source": [
    "classifier.fit(X_train, Y_train)"
   ]
  },
  {
   "cell_type": "markdown",
   "metadata": {},
   "source": [
    "* Make a predict"
   ]
  },
  {
   "cell_type": "code",
   "execution_count": 36,
   "metadata": {
    "pycharm": {
     "name": "#%%\n"
    }
   },
   "outputs": [],
   "source": [
    "prediction = classifier.predict(X_test)"
   ]
  },
  {
   "cell_type": "code",
   "execution_count": 37,
   "metadata": {
    "pycharm": {
     "name": "#%%\n"
    }
   },
   "outputs": [
    {
     "data": {
      "text/html": [
       "<div>\n",
       "<style scoped>\n",
       "    .dataframe tbody tr th:only-of-type {\n",
       "        vertical-align: middle;\n",
       "    }\n",
       "\n",
       "    .dataframe tbody tr th {\n",
       "        vertical-align: top;\n",
       "    }\n",
       "\n",
       "    .dataframe thead th {\n",
       "        text-align: right;\n",
       "    }\n",
       "</style>\n",
       "<table border=\"1\" class=\"dataframe\">\n",
       "  <thead>\n",
       "    <tr style=\"text-align: right;\">\n",
       "      <th></th>\n",
       "      <th>Measure</th>\n",
       "      <th>Source</th>\n",
       "    </tr>\n",
       "  </thead>\n",
       "  <tbody>\n",
       "    <tr>\n",
       "      <th>0</th>\n",
       "      <td>Accuracy</td>\n",
       "      <td>0.881</td>\n",
       "    </tr>\n",
       "    <tr>\n",
       "      <th>1</th>\n",
       "      <td>Precision</td>\n",
       "      <td>0.807</td>\n",
       "    </tr>\n",
       "    <tr>\n",
       "      <th>2</th>\n",
       "      <td>Recall</td>\n",
       "      <td>0.727</td>\n",
       "    </tr>\n",
       "    <tr>\n",
       "      <th>3</th>\n",
       "      <td>F1</td>\n",
       "      <td>0.765</td>\n",
       "    </tr>\n",
       "  </tbody>\n",
       "</table>\n",
       "</div>"
      ],
      "text/plain": [
       "     Measure  Source\n",
       "0   Accuracy   0.881\n",
       "1  Precision   0.807\n",
       "2     Recall   0.727\n",
       "3         F1   0.765"
      ]
     },
     "metadata": {},
     "output_type": "display_data"
    }
   ],
   "source": [
    "display(evaluate_model(prediction, Y_test))"
   ]
  },
  {
   "cell_type": "code",
   "execution_count": 38,
   "metadata": {
    "pycharm": {
     "name": "#%%\n"
    }
   },
   "outputs": [
    {
     "data": {
      "text/plain": [
       "'Feature Importance'"
      ]
     },
     "metadata": {},
     "output_type": "display_data"
    },
    {
     "data": {
      "image/png": "[encoded data removed]",
      "text/plain": [
       "<Figure size 432x288 with 1 Axes>"
      ]
     },
     "metadata": {},
     "output_type": "display_data"
    }
   ],
   "source": [
    "columns = ['edge_wtf', 'W', 'CN', 'AA', 'HP', 'HD', 'JC', 'LHN', 'RA', 'SA', 'SO', 'avg_deg']\n",
    "feature_importance(columns, classifier)"
   ]
  },
  {
   "cell_type": "markdown",
   "metadata": {},
   "source": [
    "# Predictiong Graph in 2016"
   ]
  },
  {
   "cell_type": "markdown",
   "metadata": {},
   "source": [
    "* Load training and testing dataframes"
   ]
  },
  {
   "cell_type": "code",
   "execution_count": 39,
   "metadata": {
    "pycharm": {
     "name": "#%%\n"
    }
   },
   "outputs": [
    {
     "ename": "FileNotFoundError",
     "evalue": "[Errno 2] No such file or directory: '/home/c6/Desktop/OpenWPM/jsons/Prediction_new/2016/temporal_weighted_agregated/test/dataframe.csv'",
     "output_type": "error",
     "traceback": [
      "\u001b[0;31m---------------------------------------------------------------------------\u001b[0m",
      "\u001b[0;31mFileNotFoundError\u001b[0m                         Traceback (most recent call last)",
      "\u001b[0;32m<ipython-input-39-fa91de5ee4b7>\u001b[0m in \u001b[0;36m<module>\u001b[0;34m\u001b[0m\n\u001b[1;32m     11\u001b[0m \u001b[0mX_train\u001b[0m\u001b[0;34m.\u001b[0m\u001b[0mhead\u001b[0m\u001b[0;34m(\u001b[0m\u001b[0;34m)\u001b[0m\u001b[0;34m\u001b[0m\u001b[0;34m\u001b[0m\u001b[0m\n\u001b[1;32m     12\u001b[0m \u001b[0;34m\u001b[0m\u001b[0m\n\u001b[0;32m---> 13\u001b[0;31m \u001b[0;32mwith\u001b[0m \u001b[0mopen\u001b[0m\u001b[0;34m(\u001b[0m\u001b[0;34m\"/home/c6/Desktop/OpenWPM/jsons/Prediction_new/2016/temporal_weighted_agregated/test/dataframe.csv\"\u001b[0m\u001b[0;34m,\u001b[0m \u001b[0mnewline\u001b[0m\u001b[0;34m=\u001b[0m\u001b[0;34m''\u001b[0m\u001b[0;34m)\u001b[0m \u001b[0;32mas\u001b[0m \u001b[0mcsvfile\u001b[0m\u001b[0;34m:\u001b[0m\u001b[0;34m\u001b[0m\u001b[0;34m\u001b[0m\u001b[0m\n\u001b[0m\u001b[1;32m     14\u001b[0m     \u001b[0mtesting_df\u001b[0m \u001b[0;34m=\u001b[0m \u001b[0mpd\u001b[0m\u001b[0;34m.\u001b[0m\u001b[0mread_csv\u001b[0m\u001b[0;34m(\u001b[0m\u001b[0mcsvfile\u001b[0m\u001b[0;34m)\u001b[0m\u001b[0;34m\u001b[0m\u001b[0;34m\u001b[0m\u001b[0m\n\u001b[1;32m     15\u001b[0m \u001b[0;34m\u001b[0m\u001b[0m\n",
      "\u001b[0;31mFileNotFoundError\u001b[0m: [Errno 2] No such file or directory: '/home/c6/Desktop/OpenWPM/jsons/Prediction_new/2016/temporal_weighted_agregated/test/dataframe.csv'"
     ]
    }
   ],
   "source": [
    "with open(\"/home/c6/Desktop/OpenWPM/jsons/Prediction_new/temporal_weighted_agregated/2016/train/dataframe.csv\", newline='') as csvfile:\n",
    "    training_df = pd.read_csv(csvfile)\n",
    "    \n",
    "training_df['avg_deg'] = (training_df['deg_e1']+training_df['deg_e2'])/2\n",
    "training_df = training_df.drop(['deg_e1', 'deg_e2'], axis=1)\n",
    "training_df = training_df[['e1','e2','edge_wtf','W','CN','AA','HP','HD','JC','LHN','RA','SA','SO','avg_deg','label']]\n",
    "\n",
    "X_train = training_df.iloc[:,2:-1]\n",
    "Y_train = training_df.iloc[:]['label']\n",
    "\n",
    "X_train.head()\n",
    "\n",
    "with open(\"/home/c6/Desktop/OpenWPM/jsons/Prediction_new/2016/temporal_weighted_agregated/test/dataframe.csv\", newline='') as csvfile:\n",
    "    testing_df = pd.read_csv(csvfile)\n",
    "\n",
    "testing_df['avg_deg'] = (testing_df['deg_e1']+testing_df['deg_e2'])/2\n",
    "testing_df = testing_df.drop(['deg_e1', 'deg_e2'], axis=1)\n",
    "testing_df = testing_df[['e1','e2','edge_wtf','W','CN','AA','HP','HD','JC','LHN','RA','SA','SO','avg_deg','label']]\n",
    "\n",
    "\n",
    "X_test = testing_df.iloc[:,2:-1]\n",
    "Y_test = testing_df.iloc[:]['label']\n",
    "\n",
    "X_test.head()"
   ]
  },
  {
   "cell_type": "code",
   "execution_count": null,
   "metadata": {
    "pycharm": {
     "name": "#%%\n"
    }
   },
   "outputs": [],
   "source": [
    "X_test.head()"
   ]
  },
  {
   "cell_type": "markdown",
   "metadata": {},
   "source": [
    "* define evaluation function"
   ]
  },
  {
   "cell_type": "code",
   "execution_count": null,
   "metadata": {
    "pycharm": {
     "name": "#%%\n"
    }
   },
   "outputs": [],
   "source": [
    "def evaluate_model(predictions, actual):\n",
    "    return pd.DataFrame({\n",
    "        \"Measure\": [\"Accuracy\", \"Precision\", \"Recall\", \"F1\"],\n",
    "        \"Source\": [accuracy_score(actual, predictions), \n",
    "                   precision_score(actual, predictions), \n",
    "                   recall_score(actual, predictions),\n",
    "                   f1_score(actual, predictions)]\n",
    "    })"
   ]
  },
  {
   "cell_type": "markdown",
   "metadata": {},
   "source": [
    "* Find important features"
   ]
  },
  {
   "cell_type": "code",
   "execution_count": null,
   "metadata": {
    "pycharm": {
     "name": "#%%\n"
    }
   },
   "outputs": [],
   "source": [
    "def feature_importance(columns, classifier):\n",
    "    display(\"Feature Importance\")\n",
    "    df = pd.DataFrame({\"Features\": columns,\n",
    "                      \"Importance\": classifier.feature_importances_})\n",
    "    df = df.sort_values(\"Importance\", ascending=False)\n",
    "    ax = df.plot(kind='bar', x='Features', y='Importance', legend=None)\n",
    "    #ax.xaxist.set_label_text(\"\")\n",
    "    plt.tight_layout()\n",
    "    plt.show"
   ]
  },
  {
   "cell_type": "markdown",
   "metadata": {},
   "source": [
    "* choose a ML algorithm"
   ]
  },
  {
   "cell_type": "code",
   "execution_count": null,
   "metadata": {
    "pycharm": {
     "name": "#%%\n"
    }
   },
   "outputs": [],
   "source": [
    "classifier = RandomForestClassifier(n_estimators=30, max_depth=10, random_state=0)"
   ]
  },
  {
   "cell_type": "markdown",
   "metadata": {},
   "source": [
    "* Training"
   ]
  },
  {
   "cell_type": "code",
   "execution_count": null,
   "metadata": {
    "pycharm": {
     "name": "#%%\n"
    }
   },
   "outputs": [],
   "source": [
    "classifier.fit(X_train, Y_train)"
   ]
  },
  {
   "cell_type": "markdown",
   "metadata": {},
   "source": [
    "* Make a predict"
   ]
  },
  {
   "cell_type": "code",
   "execution_count": null,
   "metadata": {
    "pycharm": {
     "name": "#%%\n"
    }
   },
   "outputs": [],
   "source": [
    "prediction = classifier.predict(X_test)"
   ]
  },
  {
   "cell_type": "code",
   "execution_count": null,
   "metadata": {
    "pycharm": {
     "name": "#%%\n"
    }
   },
   "outputs": [],
   "source": [
    "display(evaluate_model(prediction, Y_test))"
   ]
  },
  {
   "cell_type": "code",
   "execution_count": null,
   "metadata": {
    "pycharm": {
     "name": "#%%\n"
    }
   },
   "outputs": [],
   "source": [
    "columns = ['edge_wtf', 'W', 'CN', 'AA', 'HP', 'HD', 'JC', 'LHN', 'RA', 'SA', 'SO', 'avg_deg']\n",
    "feature_importance(columns, classifier)"
   ]
  },
  {
   "cell_type": "markdown",
   "metadata": {},
   "source": [
    "# Predictiong Graph in 2017"
   ]
  },
  {
   "cell_type": "markdown",
   "metadata": {},
   "source": [
    "* Load training and testing dataframes"
   ]
  },
  {
   "cell_type": "code",
   "execution_count": null,
   "metadata": {
    "pycharm": {
     "name": "#%%\n"
    }
   },
   "outputs": [],
   "source": [
    "with open(\"/home/c6/Desktop/OpenWPM/jsons/Prediction_new/temporal_weighted_agregated/2017/train/dataframe.csv\", newline='') as csvfile:\n",
    "    training_df = pd.read_csv(csvfile)\n",
    "    \n",
    "training_df['avg_deg'] = (training_df['deg_e1']+training_df['deg_e2'])/2\n",
    "training_df = training_df.drop(['deg_e1', 'deg_e2'], axis=1)\n",
    "training_df = training_df[['e1','e2','edge_wtf','W','CN','AA','HP','HD','JC','LHN','RA','SA','SO','avg_deg','label']]\n",
    "\n",
    "X_train = training_df.iloc[:,2:-1]\n",
    "Y_train = training_df.iloc[:]['label']\n",
    "\n",
    "X_train.head()\n",
    "\n",
    "with open(\"/home/c6/Desktop/OpenWPM/jsons/Prediction_new/temporal_weighted_agregated/2017/test/dataframe.csv\", newline='') as csvfile:\n",
    "    testing_df = pd.read_csv(csvfile)\n",
    "\n",
    "testing_df['avg_deg'] = (testing_df['deg_e1']+testing_df['deg_e2'])/2\n",
    "testing_df = testing_df.drop(['deg_e1', 'deg_e2'], axis=1)\n",
    "testing_df = testing_df[['e1','e2','edge_wtf','W','CN','AA','HP','HD','JC','LHN','RA','SA','SO','avg_deg','label']]\n",
    "\n",
    "\n",
    "X_test = testing_df.iloc[:,2:-1]\n",
    "Y_test = testing_df.iloc[:]['label']\n",
    "\n",
    "X_test.head()"
   ]
  },
  {
   "cell_type": "code",
   "execution_count": null,
   "metadata": {
    "pycharm": {
     "name": "#%%\n"
    }
   },
   "outputs": [],
   "source": [
    "X_test.head()"
   ]
  },
  {
   "cell_type": "markdown",
   "metadata": {},
   "source": [
    "* define evaluation function"
   ]
  },
  {
   "cell_type": "code",
   "execution_count": null,
   "metadata": {
    "pycharm": {
     "name": "#%%\n"
    }
   },
   "outputs": [],
   "source": [
    "def evaluate_model(predictions, actual):\n",
    "    return pd.DataFrame({\n",
    "        \"Measure\": [\"Accuracy\", \"Precision\", \"Recall\", \"F1\"],\n",
    "        \"Source\": [accuracy_score(actual, predictions), \n",
    "                   precision_score(actual, predictions), \n",
    "                   recall_score(actual, predictions),\n",
    "                   f1_score(actual,predictions)]\n",
    "    })"
   ]
  },
  {
   "cell_type": "markdown",
   "metadata": {},
   "source": [
    "* Find important features"
   ]
  },
  {
   "cell_type": "code",
   "execution_count": null,
   "metadata": {
    "pycharm": {
     "name": "#%%\n"
    }
   },
   "outputs": [],
   "source": [
    "def feature_importance(columns, classifier):\n",
    "    display(\"Feature Importance\")\n",
    "    df = pd.DataFrame({\"Features\": columns,\n",
    "                      \"Importance\": classifier.feature_importances_})\n",
    "    df = df.sort_values(\"Importance\", ascending=False)\n",
    "    ax = df.plot(kind='bar', x='Features', y='Importance', legend=None)\n",
    "    #ax.xaxist.set_label_text(\"\")\n",
    "    plt.tight_layout()\n",
    "    plt.show"
   ]
  },
  {
   "cell_type": "markdown",
   "metadata": {},
   "source": [
    "* choose a ML algorithm"
   ]
  },
  {
   "cell_type": "code",
   "execution_count": null,
   "metadata": {
    "pycharm": {
     "name": "#%%\n"
    }
   },
   "outputs": [],
   "source": [
    "classifier = RandomForestClassifier(n_estimators=30, max_depth=10, random_state=0)"
   ]
  },
  {
   "cell_type": "markdown",
   "metadata": {},
   "source": [
    "* Training"
   ]
  },
  {
   "cell_type": "code",
   "execution_count": null,
   "metadata": {
    "pycharm": {
     "name": "#%%\n"
    }
   },
   "outputs": [],
   "source": [
    "classifier.fit(X_train, Y_train)"
   ]
  },
  {
   "cell_type": "markdown",
   "metadata": {},
   "source": [
    "* Make a predict"
   ]
  },
  {
   "cell_type": "code",
   "execution_count": null,
   "metadata": {
    "pycharm": {
     "name": "#%%\n"
    }
   },
   "outputs": [],
   "source": [
    "prediction = classifier.predict(X_test)"
   ]
  },
  {
   "cell_type": "code",
   "execution_count": null,
   "metadata": {
    "pycharm": {
     "name": "#%%\n"
    }
   },
   "outputs": [],
   "source": [
    "display(evaluate_model(prediction, Y_test))"
   ]
  },
  {
   "cell_type": "code",
   "execution_count": null,
   "metadata": {
    "pycharm": {
     "name": "#%%\n"
    }
   },
   "outputs": [],
   "source": [
    "columns = ['edge_wtf', 'W', 'CN', 'AA', 'HP', 'HD', 'JC', 'LHN', 'RA', 'SA', 'SO', 'avg_deg']\n",
    "feature_importance(columns, classifier)\n"
   ]
  },
  {
   "cell_type": "markdown",
   "metadata": {},
   "source": [
    "# Predictiong Graph in 2018"
   ]
  },
  {
   "cell_type": "markdown",
   "metadata": {},
   "source": [
    "* Load training and testing dataframes"
   ]
  },
  {
   "cell_type": "code",
   "execution_count": 40,
   "metadata": {
    "pycharm": {
     "name": "#%%\n"
    }
   },
   "outputs": [
    {
     "data": {
      "text/html": [
       "<div>\n",
       "<style scoped>\n",
       "    .dataframe tbody tr th:only-of-type {\n",
       "        vertical-align: middle;\n",
       "    }\n",
       "\n",
       "    .dataframe tbody tr th {\n",
       "        vertical-align: top;\n",
       "    }\n",
       "\n",
       "    .dataframe thead th {\n",
       "        text-align: right;\n",
       "    }\n",
       "</style>\n",
       "<table border=\"1\" class=\"dataframe\">\n",
       "  <thead>\n",
       "    <tr style=\"text-align: right;\">\n",
       "      <th></th>\n",
       "      <th>edge_wtf</th>\n",
       "      <th>W</th>\n",
       "      <th>CN</th>\n",
       "      <th>AA</th>\n",
       "      <th>HP</th>\n",
       "      <th>HD</th>\n",
       "      <th>JC</th>\n",
       "      <th>LHN</th>\n",
       "      <th>RA</th>\n",
       "      <th>SA</th>\n",
       "      <th>SO</th>\n",
       "      <th>avg_deg</th>\n",
       "    </tr>\n",
       "  </thead>\n",
       "  <tbody>\n",
       "    <tr>\n",
       "      <th>0</th>\n",
       "      <td>7.510</td>\n",
       "      <td>4.739</td>\n",
       "      <td>1602.504</td>\n",
       "      <td>222.671</td>\n",
       "      <td>2.191</td>\n",
       "      <td>1.808</td>\n",
       "      <td>0.991</td>\n",
       "      <td>0.002</td>\n",
       "      <td>27.430</td>\n",
       "      <td>27.430</td>\n",
       "      <td>1.981</td>\n",
       "      <td>3027.500</td>\n",
       "    </tr>\n",
       "    <tr>\n",
       "      <th>1</th>\n",
       "      <td>7.506</td>\n",
       "      <td>4.736</td>\n",
       "      <td>1601.931</td>\n",
       "      <td>222.600</td>\n",
       "      <td>2.190</td>\n",
       "      <td>1.809</td>\n",
       "      <td>0.991</td>\n",
       "      <td>0.002</td>\n",
       "      <td>27.426</td>\n",
       "      <td>27.426</td>\n",
       "      <td>1.981</td>\n",
       "      <td>3027.500</td>\n",
       "    </tr>\n",
       "    <tr>\n",
       "      <th>2</th>\n",
       "      <td>6.304</td>\n",
       "      <td>3.977</td>\n",
       "      <td>1529.952</td>\n",
       "      <td>212.664</td>\n",
       "      <td>2.092</td>\n",
       "      <td>1.886</td>\n",
       "      <td>0.992</td>\n",
       "      <td>0.003</td>\n",
       "      <td>25.699</td>\n",
       "      <td>25.699</td>\n",
       "      <td>1.984</td>\n",
       "      <td>2992.000</td>\n",
       "    </tr>\n",
       "    <tr>\n",
       "      <th>3</th>\n",
       "      <td>7.476</td>\n",
       "      <td>4.717</td>\n",
       "      <td>1591.967</td>\n",
       "      <td>221.183</td>\n",
       "      <td>2.177</td>\n",
       "      <td>1.818</td>\n",
       "      <td>0.991</td>\n",
       "      <td>0.002</td>\n",
       "      <td>27.271</td>\n",
       "      <td>27.271</td>\n",
       "      <td>1.981</td>\n",
       "      <td>3023.500</td>\n",
       "    </tr>\n",
       "    <tr>\n",
       "      <th>4</th>\n",
       "      <td>7.513</td>\n",
       "      <td>4.740</td>\n",
       "      <td>1602.590</td>\n",
       "      <td>222.688</td>\n",
       "      <td>2.191</td>\n",
       "      <td>1.808</td>\n",
       "      <td>0.991</td>\n",
       "      <td>0.002</td>\n",
       "      <td>27.438</td>\n",
       "      <td>27.438</td>\n",
       "      <td>1.981</td>\n",
       "      <td>3027.500</td>\n",
       "    </tr>\n",
       "  </tbody>\n",
       "</table>\n",
       "</div>"
      ],
      "text/plain": [
       "   edge_wtf     W       CN      AA    HP    HD    JC   LHN     RA     SA  \\\n",
       "0     7.510 4.739 1602.504 222.671 2.191 1.808 0.991 0.002 27.430 27.430   \n",
       "1     7.506 4.736 1601.931 222.600 2.190 1.809 0.991 0.002 27.426 27.426   \n",
       "2     6.304 3.977 1529.952 212.664 2.092 1.886 0.992 0.003 25.699 25.699   \n",
       "3     7.476 4.717 1591.967 221.183 2.177 1.818 0.991 0.002 27.271 27.271   \n",
       "4     7.513 4.740 1602.590 222.688 2.191 1.808 0.991 0.002 27.438 27.438   \n",
       "\n",
       "     SO  avg_deg  \n",
       "0 1.981 3027.500  \n",
       "1 1.981 3027.500  \n",
       "2 1.984 2992.000  \n",
       "3 1.981 3023.500  \n",
       "4 1.981 3027.500  "
      ]
     },
     "execution_count": 40,
     "metadata": {},
     "output_type": "execute_result"
    }
   ],
   "source": [
    "with open(\"/home/c6/Desktop/OpenWPM/jsons/Prediction_new/temporal_weighted_agregated/2018/train/dataframe.csv\", newline='') as csvfile:\n",
    "    training_df = pd.read_csv(csvfile)\n",
    "    \n",
    "training_df['avg_deg'] = (training_df['deg_e1']+training_df['deg_e2'])/2\n",
    "training_df = training_df.drop(['deg_e1', 'deg_e2'], axis=1)\n",
    "training_df = training_df[['e1','e2','edge_wtf','W','CN','AA','HP','HD','JC','LHN','RA','SA','SO','avg_deg','label']]\n",
    "\n",
    "X_train = training_df.iloc[:,2:-1]\n",
    "Y_train = training_df.iloc[:]['label']\n",
    "\n",
    "X_train.head()\n",
    "\n",
    "with open(\"/home/c6/Desktop/OpenWPM/jsons/Prediction_new/temporal_weighted_agregated/2018/test/dataframe.csv\", newline='') as csvfile:\n",
    "    testing_df = pd.read_csv(csvfile)\n",
    "\n",
    "testing_df['avg_deg'] = (testing_df['deg_e1']+testing_df['deg_e2'])/2\n",
    "testing_df = testing_df.drop(['deg_e1', 'deg_e2'], axis=1)\n",
    "testing_df = testing_df[['e1','e2','edge_wtf','W','CN','AA','HP','HD','JC','LHN','RA','SA','SO','avg_deg','label']]\n",
    "\n",
    "\n",
    "X_test = testing_df.iloc[:,2:-1]\n",
    "Y_test = testing_df.iloc[:]['label']\n",
    "\n",
    "X_test.head()"
   ]
  },
  {
   "cell_type": "code",
   "execution_count": 41,
   "metadata": {
    "pycharm": {
     "name": "#%%\n"
    }
   },
   "outputs": [
    {
     "data": {
      "text/html": [
       "<div>\n",
       "<style scoped>\n",
       "    .dataframe tbody tr th:only-of-type {\n",
       "        vertical-align: middle;\n",
       "    }\n",
       "\n",
       "    .dataframe tbody tr th {\n",
       "        vertical-align: top;\n",
       "    }\n",
       "\n",
       "    .dataframe thead th {\n",
       "        text-align: right;\n",
       "    }\n",
       "</style>\n",
       "<table border=\"1\" class=\"dataframe\">\n",
       "  <thead>\n",
       "    <tr style=\"text-align: right;\">\n",
       "      <th></th>\n",
       "      <th>edge_wtf</th>\n",
       "      <th>W</th>\n",
       "      <th>CN</th>\n",
       "      <th>AA</th>\n",
       "      <th>HP</th>\n",
       "      <th>HD</th>\n",
       "      <th>JC</th>\n",
       "      <th>LHN</th>\n",
       "      <th>RA</th>\n",
       "      <th>SA</th>\n",
       "      <th>SO</th>\n",
       "      <th>avg_deg</th>\n",
       "    </tr>\n",
       "  </thead>\n",
       "  <tbody>\n",
       "    <tr>\n",
       "      <th>0</th>\n",
       "      <td>7.510</td>\n",
       "      <td>4.739</td>\n",
       "      <td>1602.504</td>\n",
       "      <td>222.671</td>\n",
       "      <td>2.191</td>\n",
       "      <td>1.808</td>\n",
       "      <td>0.991</td>\n",
       "      <td>0.002</td>\n",
       "      <td>27.430</td>\n",
       "      <td>27.430</td>\n",
       "      <td>1.981</td>\n",
       "      <td>3027.500</td>\n",
       "    </tr>\n",
       "    <tr>\n",
       "      <th>1</th>\n",
       "      <td>7.506</td>\n",
       "      <td>4.736</td>\n",
       "      <td>1601.931</td>\n",
       "      <td>222.600</td>\n",
       "      <td>2.190</td>\n",
       "      <td>1.809</td>\n",
       "      <td>0.991</td>\n",
       "      <td>0.002</td>\n",
       "      <td>27.426</td>\n",
       "      <td>27.426</td>\n",
       "      <td>1.981</td>\n",
       "      <td>3027.500</td>\n",
       "    </tr>\n",
       "    <tr>\n",
       "      <th>2</th>\n",
       "      <td>6.304</td>\n",
       "      <td>3.977</td>\n",
       "      <td>1529.952</td>\n",
       "      <td>212.664</td>\n",
       "      <td>2.092</td>\n",
       "      <td>1.886</td>\n",
       "      <td>0.992</td>\n",
       "      <td>0.003</td>\n",
       "      <td>25.699</td>\n",
       "      <td>25.699</td>\n",
       "      <td>1.984</td>\n",
       "      <td>2992.000</td>\n",
       "    </tr>\n",
       "    <tr>\n",
       "      <th>3</th>\n",
       "      <td>7.476</td>\n",
       "      <td>4.717</td>\n",
       "      <td>1591.967</td>\n",
       "      <td>221.183</td>\n",
       "      <td>2.177</td>\n",
       "      <td>1.818</td>\n",
       "      <td>0.991</td>\n",
       "      <td>0.002</td>\n",
       "      <td>27.271</td>\n",
       "      <td>27.271</td>\n",
       "      <td>1.981</td>\n",
       "      <td>3023.500</td>\n",
       "    </tr>\n",
       "    <tr>\n",
       "      <th>4</th>\n",
       "      <td>7.513</td>\n",
       "      <td>4.740</td>\n",
       "      <td>1602.590</td>\n",
       "      <td>222.688</td>\n",
       "      <td>2.191</td>\n",
       "      <td>1.808</td>\n",
       "      <td>0.991</td>\n",
       "      <td>0.002</td>\n",
       "      <td>27.438</td>\n",
       "      <td>27.438</td>\n",
       "      <td>1.981</td>\n",
       "      <td>3027.500</td>\n",
       "    </tr>\n",
       "  </tbody>\n",
       "</table>\n",
       "</div>"
      ],
      "text/plain": [
       "   edge_wtf     W       CN      AA    HP    HD    JC   LHN     RA     SA  \\\n",
       "0     7.510 4.739 1602.504 222.671 2.191 1.808 0.991 0.002 27.430 27.430   \n",
       "1     7.506 4.736 1601.931 222.600 2.190 1.809 0.991 0.002 27.426 27.426   \n",
       "2     6.304 3.977 1529.952 212.664 2.092 1.886 0.992 0.003 25.699 25.699   \n",
       "3     7.476 4.717 1591.967 221.183 2.177 1.818 0.991 0.002 27.271 27.271   \n",
       "4     7.513 4.740 1602.590 222.688 2.191 1.808 0.991 0.002 27.438 27.438   \n",
       "\n",
       "     SO  avg_deg  \n",
       "0 1.981 3027.500  \n",
       "1 1.981 3027.500  \n",
       "2 1.984 2992.000  \n",
       "3 1.981 3023.500  \n",
       "4 1.981 3027.500  "
      ]
     },
     "execution_count": 41,
     "metadata": {},
     "output_type": "execute_result"
    }
   ],
   "source": [
    "X_test.head()"
   ]
  },
  {
   "cell_type": "markdown",
   "metadata": {},
   "source": [
    "* define evaluation function"
   ]
  },
  {
   "cell_type": "code",
   "execution_count": 42,
   "metadata": {
    "pycharm": {
     "name": "#%%\n"
    }
   },
   "outputs": [],
   "source": [
    "def evaluate_model(predictions, actual):\n",
    "    return pd.DataFrame({\n",
    "        \"Measure\": [\"Accuracy\", \"Precision\", \"Recall\",\"F1\"],\n",
    "        \"Source\": [accuracy_score(actual, predictions), \n",
    "                   precision_score(actual, predictions), \n",
    "                   recall_score(actual, predictions),\n",
    "                   f1_score(actual, predictions)]\n",
    "    })"
   ]
  },
  {
   "cell_type": "markdown",
   "metadata": {},
   "source": [
    "* Find important features"
   ]
  },
  {
   "cell_type": "code",
   "execution_count": 43,
   "metadata": {
    "pycharm": {
     "name": "#%%\n"
    }
   },
   "outputs": [],
   "source": [
    "def feature_importance(columns, classifier):\n",
    "    display(\"Feature Importance\")\n",
    "    df = pd.DataFrame({\"Features\": columns,\n",
    "                      \"Importance\": classifier.feature_importances_})\n",
    "    df = df.sort_values(\"Importance\", ascending=False)\n",
    "    ax = df.plot(kind='bar', x='Features', y='Importance', legend=None)\n",
    "    #ax.xaxist.set_label_text(\"\")\n",
    "    plt.tight_layout()\n",
    "    plt.show"
   ]
  },
  {
   "cell_type": "markdown",
   "metadata": {},
   "source": [
    "* choose a ML algorithm"
   ]
  },
  {
   "cell_type": "code",
   "execution_count": 44,
   "metadata": {
    "pycharm": {
     "name": "#%%\n"
    }
   },
   "outputs": [],
   "source": [
    "classifier = RandomForestClassifier(n_estimators=30, max_depth=10, random_state=0)"
   ]
  },
  {
   "cell_type": "markdown",
   "metadata": {},
   "source": [
    "* Training"
   ]
  },
  {
   "cell_type": "code",
   "execution_count": 45,
   "metadata": {
    "pycharm": {
     "name": "#%%\n"
    }
   },
   "outputs": [
    {
     "data": {
      "text/plain": [
       "RandomForestClassifier(max_depth=10, n_estimators=30, random_state=0)"
      ]
     },
     "execution_count": 45,
     "metadata": {},
     "output_type": "execute_result"
    }
   ],
   "source": [
    "classifier.fit(X_train, Y_train)"
   ]
  },
  {
   "cell_type": "markdown",
   "metadata": {},
   "source": [
    "* Make a predict"
   ]
  },
  {
   "cell_type": "code",
   "execution_count": 46,
   "metadata": {
    "pycharm": {
     "name": "#%%\n"
    }
   },
   "outputs": [],
   "source": [
    "prediction = classifier.predict(X_test)"
   ]
  },
  {
   "cell_type": "code",
   "execution_count": 47,
   "metadata": {
    "pycharm": {
     "name": "#%%\n"
    }
   },
   "outputs": [
    {
     "data": {
      "text/html": [
       "<div>\n",
       "<style scoped>\n",
       "    .dataframe tbody tr th:only-of-type {\n",
       "        vertical-align: middle;\n",
       "    }\n",
       "\n",
       "    .dataframe tbody tr th {\n",
       "        vertical-align: top;\n",
       "    }\n",
       "\n",
       "    .dataframe thead th {\n",
       "        text-align: right;\n",
       "    }\n",
       "</style>\n",
       "<table border=\"1\" class=\"dataframe\">\n",
       "  <thead>\n",
       "    <tr style=\"text-align: right;\">\n",
       "      <th></th>\n",
       "      <th>Measure</th>\n",
       "      <th>Source</th>\n",
       "    </tr>\n",
       "  </thead>\n",
       "  <tbody>\n",
       "    <tr>\n",
       "      <th>0</th>\n",
       "      <td>Accuracy</td>\n",
       "      <td>0.878</td>\n",
       "    </tr>\n",
       "    <tr>\n",
       "      <th>1</th>\n",
       "      <td>Precision</td>\n",
       "      <td>0.692</td>\n",
       "    </tr>\n",
       "    <tr>\n",
       "      <th>2</th>\n",
       "      <td>Recall</td>\n",
       "      <td>0.839</td>\n",
       "    </tr>\n",
       "    <tr>\n",
       "      <th>3</th>\n",
       "      <td>F1</td>\n",
       "      <td>0.759</td>\n",
       "    </tr>\n",
       "  </tbody>\n",
       "</table>\n",
       "</div>"
      ],
      "text/plain": [
       "     Measure  Source\n",
       "0   Accuracy   0.878\n",
       "1  Precision   0.692\n",
       "2     Recall   0.839\n",
       "3         F1   0.759"
      ]
     },
     "metadata": {},
     "output_type": "display_data"
    }
   ],
   "source": [
    "display(evaluate_model(prediction, Y_test))"
   ]
  },
  {
   "cell_type": "code",
   "execution_count": 48,
   "metadata": {
    "pycharm": {
     "name": "#%%\n"
    }
   },
   "outputs": [
    {
     "data": {
      "text/plain": [
       "'Feature Importance'"
      ]
     },
     "metadata": {},
     "output_type": "display_data"
    },
    {
     "data": {
      "image/png": "[encoded data removed]",
      "text/plain": [
       "<Figure size 432x288 with 1 Axes>"
      ]
     },
     "metadata": {},
     "output_type": "display_data"
    }
   ],
   "source": [
    "columns = ['edge_wtf', 'W', 'CN', 'AA', 'HP', 'HD', 'JC', 'LHN', 'RA', 'SA', 'SO', 'avg_deg']\n",
    "feature_importance(columns, classifier)\n"
   ]
  },
  {
   "cell_type": "markdown",
   "metadata": {},
   "source": [
    "# Predictiong Graph in 2019"
   ]
  },
  {
   "cell_type": "markdown",
   "metadata": {},
   "source": [
    "* Load training and testing dataframes"
   ]
  },
  {
   "cell_type": "code",
   "execution_count": 49,
   "metadata": {
    "pycharm": {
     "name": "#%%\n"
    }
   },
   "outputs": [
    {
     "data": {
      "text/html": [
       "<div>\n",
       "<style scoped>\n",
       "    .dataframe tbody tr th:only-of-type {\n",
       "        vertical-align: middle;\n",
       "    }\n",
       "\n",
       "    .dataframe tbody tr th {\n",
       "        vertical-align: top;\n",
       "    }\n",
       "\n",
       "    .dataframe thead th {\n",
       "        text-align: right;\n",
       "    }\n",
       "</style>\n",
       "<table border=\"1\" class=\"dataframe\">\n",
       "  <thead>\n",
       "    <tr style=\"text-align: right;\">\n",
       "      <th></th>\n",
       "      <th>edge_wtf</th>\n",
       "      <th>W</th>\n",
       "      <th>CN</th>\n",
       "      <th>AA</th>\n",
       "      <th>HP</th>\n",
       "      <th>HD</th>\n",
       "      <th>JC</th>\n",
       "      <th>LHN</th>\n",
       "      <th>RA</th>\n",
       "      <th>SA</th>\n",
       "      <th>SO</th>\n",
       "      <th>avg_deg</th>\n",
       "    </tr>\n",
       "  </thead>\n",
       "  <tbody>\n",
       "    <tr>\n",
       "      <th>0</th>\n",
       "      <td>8.564</td>\n",
       "      <td>5.403</td>\n",
       "      <td>2015.559</td>\n",
       "      <td>264.682</td>\n",
       "      <td>2.168</td>\n",
       "      <td>1.827</td>\n",
       "      <td>0.992</td>\n",
       "      <td>0.002</td>\n",
       "      <td>26.194</td>\n",
       "      <td>26.194</td>\n",
       "      <td>1.983</td>\n",
       "      <td>3195.000</td>\n",
       "    </tr>\n",
       "    <tr>\n",
       "      <th>1</th>\n",
       "      <td>8.559</td>\n",
       "      <td>5.400</td>\n",
       "      <td>2014.783</td>\n",
       "      <td>264.594</td>\n",
       "      <td>2.167</td>\n",
       "      <td>1.828</td>\n",
       "      <td>0.992</td>\n",
       "      <td>0.002</td>\n",
       "      <td>26.192</td>\n",
       "      <td>26.192</td>\n",
       "      <td>1.983</td>\n",
       "      <td>3195.000</td>\n",
       "    </tr>\n",
       "    <tr>\n",
       "      <th>2</th>\n",
       "      <td>7.285</td>\n",
       "      <td>4.596</td>\n",
       "      <td>1930.826</td>\n",
       "      <td>253.458</td>\n",
       "      <td>2.077</td>\n",
       "      <td>1.901</td>\n",
       "      <td>0.992</td>\n",
       "      <td>0.002</td>\n",
       "      <td>24.453</td>\n",
       "      <td>24.453</td>\n",
       "      <td>1.985</td>\n",
       "      <td>3157.500</td>\n",
       "    </tr>\n",
       "    <tr>\n",
       "      <th>3</th>\n",
       "      <td>8.514</td>\n",
       "      <td>5.372</td>\n",
       "      <td>2001.700</td>\n",
       "      <td>262.877</td>\n",
       "      <td>2.153</td>\n",
       "      <td>1.838</td>\n",
       "      <td>0.992</td>\n",
       "      <td>0.002</td>\n",
       "      <td>26.065</td>\n",
       "      <td>26.065</td>\n",
       "      <td>1.983</td>\n",
       "      <td>3191.500</td>\n",
       "    </tr>\n",
       "    <tr>\n",
       "      <th>4</th>\n",
       "      <td>8.566</td>\n",
       "      <td>5.405</td>\n",
       "      <td>2015.689</td>\n",
       "      <td>264.706</td>\n",
       "      <td>2.168</td>\n",
       "      <td>1.827</td>\n",
       "      <td>0.992</td>\n",
       "      <td>0.002</td>\n",
       "      <td>26.203</td>\n",
       "      <td>26.203</td>\n",
       "      <td>1.983</td>\n",
       "      <td>3195.000</td>\n",
       "    </tr>\n",
       "  </tbody>\n",
       "</table>\n",
       "</div>"
      ],
      "text/plain": [
       "   edge_wtf     W       CN      AA    HP    HD    JC   LHN     RA     SA  \\\n",
       "0     8.564 5.403 2015.559 264.682 2.168 1.827 0.992 0.002 26.194 26.194   \n",
       "1     8.559 5.400 2014.783 264.594 2.167 1.828 0.992 0.002 26.192 26.192   \n",
       "2     7.285 4.596 1930.826 253.458 2.077 1.901 0.992 0.002 24.453 24.453   \n",
       "3     8.514 5.372 2001.700 262.877 2.153 1.838 0.992 0.002 26.065 26.065   \n",
       "4     8.566 5.405 2015.689 264.706 2.168 1.827 0.992 0.002 26.203 26.203   \n",
       "\n",
       "     SO  avg_deg  \n",
       "0 1.983 3195.000  \n",
       "1 1.983 3195.000  \n",
       "2 1.985 3157.500  \n",
       "3 1.983 3191.500  \n",
       "4 1.983 3195.000  "
      ]
     },
     "execution_count": 49,
     "metadata": {},
     "output_type": "execute_result"
    }
   ],
   "source": [
    "with open(\"/home/c6/Desktop/OpenWPM/jsons/Prediction_new/temporal_weighted_agregated/2019/train/dataframe.csv\", newline='') as csvfile:\n",
    "    training_df = pd.read_csv(csvfile)\n",
    "    \n",
    "training_df['avg_deg'] = (training_df['deg_e1']+training_df['deg_e2'])/2\n",
    "training_df = training_df.drop(['deg_e1', 'deg_e2'], axis=1)\n",
    "training_df = training_df[['e1','e2','edge_wtf','W','CN','AA','HP','HD','JC','LHN','RA','SA','SO','avg_deg','label']]\n",
    "\n",
    "X_train = training_df.iloc[:,2:-1]\n",
    "Y_train = training_df.iloc[:]['label']\n",
    "\n",
    "X_train.head()\n",
    "\n",
    "with open(\"/home/c6/Desktop/OpenWPM/jsons/Prediction_new/temporal_weighted_agregated/2019/test/dataframe.csv\", newline='') as csvfile:\n",
    "    testing_df = pd.read_csv(csvfile)\n",
    "\n",
    "testing_df['avg_deg'] = (testing_df['deg_e1']+testing_df['deg_e2'])/2\n",
    "testing_df = testing_df.drop(['deg_e1', 'deg_e2'], axis=1)\n",
    "testing_df = testing_df[['e1','e2','edge_wtf','W','CN','AA','HP','HD','JC','LHN','RA','SA','SO','avg_deg','label']]\n",
    "\n",
    "\n",
    "X_test = testing_df.iloc[:,2:-1]\n",
    "Y_test = testing_df.iloc[:]['label']\n",
    "\n",
    "X_test.head()"
   ]
  },
  {
   "cell_type": "code",
   "execution_count": 50,
   "metadata": {},
   "outputs": [
    {
     "name": "stdout",
     "output_type": "stream",
     "text": [
      "Positive Samples:  1274113\n",
      "Negative_samples:  4319946\n"
     ]
    }
   ],
   "source": [
    "positive_samples = 0\n",
    "negative_sample = 0\n",
    "for i in Y_train:\n",
    "    if i==1:\n",
    "        positive_samples += 1 \n",
    "    else:\n",
    "        negative_sample += 1\n",
    "\n",
    "print(\"Positive Samples: \", positive_samples)\n",
    "print(\"Negative_samples: \", negative_sample)"
   ]
  },
  {
   "cell_type": "markdown",
   "metadata": {},
   "source": [
    "### upsample minority class"
   ]
  },
  {
   "cell_type": "code",
   "execution_count": 88,
   "metadata": {},
   "outputs": [],
   "source": [
    "# Separate majority and minority classes\n",
    "df_majority = training_df[training_df.label==0]\n",
    "df_minority = training_df[training_df.label==1]\n",
    " \n",
    "# Upsample minority class\n",
    "df_minority_upsampled = resample(df_minority, \n",
    "                                 replace=True,     # sample with replacement\n",
    "                                 n_samples=6171504,    # to match majority class\n",
    "                                 random_state=123) # reproducible results\n",
    " \n",
    "# Combine majority class with upsampled minority class\n",
    "df_upsampled = pd.concat([df_majority, df_minority_upsampled])\n",
    " \n",
    "# Display new class counts\n",
    "df_upsampled.label.value_counts()\n",
    "X_train = df_upsampled.iloc[:,2:-1]\n",
    "Y_train = df_upsampled.iloc[:]['label']\n",
    "# 1    576\n",
    "# 0    576\n",
    "# Name: balance, dtype: int64"
   ]
  },
  {
   "cell_type": "markdown",
   "metadata": {},
   "source": [
    "* define evaluation function"
   ]
  },
  {
   "cell_type": "code",
   "execution_count": 89,
   "metadata": {
    "pycharm": {
     "name": "#%%\n"
    }
   },
   "outputs": [],
   "source": [
    "def evaluate_model(predictions, actual):\n",
    "    TP = 0\n",
    "    FP = 0\n",
    "    TN = 0\n",
    "    FN = 0\n",
    "\n",
    "    for i in range(len(predictions)): \n",
    "        if actual[i]==predictions[i]==1:\n",
    "            TP += 1\n",
    "        if predictions[i]==1 and actual[i]!=predictions[i]:\n",
    "            FP += 1\n",
    "        if actual[i]==predictions[i]==0:\n",
    "            TN += 1\n",
    "        if predictions[i]==0 and actual[i]!=predictions[i]:\n",
    "            FN += 1\n",
    "    return pd.DataFrame({\n",
    "        \"Measure\": [\"Accuracy\", \"Precision\", \"Recall\", \"FPR\", \"FNR\", \"F1\"],\n",
    "        \"Source\": [accuracy_score(actual, predictions), \n",
    "                   precision_score(actual, predictions), \n",
    "                   recall_score(actual, predictions),\n",
    "                   FP/(FP+TN),\n",
    "                   FN/(FN+TP),\n",
    "                   f1_score(actual, predictions)]\n",
    "    })"
   ]
  },
  {
   "cell_type": "markdown",
   "metadata": {},
   "source": [
    "* Find important features"
   ]
  },
  {
   "cell_type": "code",
   "execution_count": 52,
   "metadata": {
    "pycharm": {
     "name": "#%%\n"
    }
   },
   "outputs": [],
   "source": [
    "def feature_importance(columns, classifier):\n",
    "    display(\"Feature Importance\")\n",
    "    df = pd.DataFrame({\"Features\": columns,\n",
    "                      \"Importance\": classifier.feature_importances_})\n",
    "    df = df.sort_values(\"Importance\", ascending=False)\n",
    "    ax = df.plot(kind='bar', x='Features', y='Importance', legend=None)\n",
    "    #ax.xaxist.set_label_text(\"\")\n",
    "    plt.tight_layout()\n",
    "    plt.show"
   ]
  },
  {
   "cell_type": "markdown",
   "metadata": {},
   "source": [
    " ### choose a ML algorithm "
   ]
  },
  {
   "cell_type": "markdown",
   "metadata": {},
   "source": [
    "### 1. Random Forest"
   ]
  },
  {
   "cell_type": "code",
   "execution_count": 95,
   "metadata": {
    "pycharm": {
     "name": "#%%\n"
    }
   },
   "outputs": [],
   "source": [
    "classifier = RandomForestClassifier(n_estimators=30, max_depth=10, criterion=\"entropy\", class_weight={0: 1, 1: 2}\n",
    ")"
   ]
  },
  {
   "cell_type": "markdown",
   "metadata": {},
   "source": [
    "### 2. SVM"
   ]
  },
  {
   "cell_type": "code",
   "execution_count": 53,
   "metadata": {},
   "outputs": [],
   "source": [
    "classifier = SVC(kernel='linear', class_weight='balanced', probability=True)"
   ]
  },
  {
   "cell_type": "markdown",
   "metadata": {},
   "source": [
    "### 3. MLP"
   ]
  },
  {
   "cell_type": "code",
   "execution_count": 15,
   "metadata": {},
   "outputs": [],
   "source": [
    "classifier = MLPClassifier(random_state=1, max_iter=300, activation='tanh', learning_rate='adaptive')"
   ]
  },
  {
   "cell_type": "markdown",
   "metadata": {},
   "source": [
    "### 4. Naive Bayes"
   ]
  },
  {
   "cell_type": "code",
   "execution_count": 31,
   "metadata": {},
   "outputs": [],
   "source": [
    "#classifier = GaussianNB()\n",
    "classifier = ComplementNB()\n",
    "#classifier = MultinomialNB()\n",
    "#classifier = BernoulliNB()"
   ]
  },
  {
   "cell_type": "markdown",
   "metadata": {},
   "source": [
    "### Train and predict"
   ]
  },
  {
   "cell_type": "code",
   "execution_count": null,
   "metadata": {
    "pycharm": {
     "name": "#%%\n"
    }
   },
   "outputs": [],
   "source": [
    "classifier.fit(X_train, Y_train)"
   ]
  },
  {
   "cell_type": "code",
   "execution_count": null,
   "metadata": {
    "pycharm": {
     "name": "#%%\n"
    }
   },
   "outputs": [],
   "source": [
    "prediction = classifier.predict(X_test)"
   ]
  },
  {
   "cell_type": "code",
   "execution_count": null,
   "metadata": {},
   "outputs": [],
   "source": [
    "np.unique(prediction)"
   ]
  },
  {
   "cell_type": "code",
   "execution_count": null,
   "metadata": {
    "pycharm": {
     "name": "#%%\n"
    }
   },
   "outputs": [],
   "source": [
    "display(evaluate_model(prediction, Y_test))"
   ]
  },
  {
   "cell_type": "code",
   "execution_count": 58,
   "metadata": {
    "pycharm": {
     "name": "#%%\n"
    }
   },
   "outputs": [
    {
     "data": {
      "text/plain": [
       "'Feature Importance'"
      ]
     },
     "metadata": {},
     "output_type": "display_data"
    },
    {
     "data": {
      "image/png": "[encoded data removed]",
      "text/plain": [
       "<Figure size 432x288 with 1 Axes>"
      ]
     },
     "metadata": {},
     "output_type": "display_data"
    }
   ],
   "source": [
    "columns = ['edge_wtf', 'W', 'CN', 'AA', 'HP', 'HD', 'JC', 'LHN', 'RA', 'SA', 'SO', 'avg_deg']\n",
    "feature_importance(columns, classifier)"
   ]
  }
 ],
 "metadata": {
  "kernelspec": {
   "display_name": "Python 3",
   "language": "python",
   "name": "python3"
  },
  "language_info": {
   "codemirror_mode": {
    "name": "ipython",
    "version": 3
   },
   "file_extension": ".py",
   "mimetype": "text/x-python",
   "name": "python",
   "nbconvert_exporter": "python",
   "pygments_lexer": "ipython3",
   "version": "3.8.5"
  }
 },
 "nbformat": 4,
 "nbformat_minor": 4
}
