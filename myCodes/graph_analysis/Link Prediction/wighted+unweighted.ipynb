{
 "cells": [
  {
   "cell_type": "code",
   "execution_count": 11,
   "id": "supported-junior",
   "metadata": {
    "pycharm": {
     "name": "#%%\n"
    }
   },
   "outputs": [],
   "source": [
    "import csv\n",
    "import os\n",
    "import pandas as pd\n",
    "from collections import Counter\n",
    "import numpy as np\n",
    "\n",
    "import matplotlib.pyplot as plt\n",
    "import matplotlib\n",
    "plt.style.use('fivethirtyeight')\n",
    "pd.set_option('display.float_format', lambda x: '%.3f' % x)\n",
    "\n",
    "\n",
    "from sklearn.metrics import recall_score\n",
    "from sklearn.metrics import precision_score\n",
    "from sklearn.metrics import accuracy_score\n",
    "from sklearn.metrics import f1_score\n",
    "from sklearn.metrics import roc_auc_score\n",
    "\n",
    "from sklearn.utils import resample\n",
    "\n",
    "from sklearn.ensemble import RandomForestClassifier\n",
    "from sklearn.svm import SVC\n",
    "from sklearn.neural_network import MLPClassifier\n",
    "from sklearn.naive_bayes import GaussianNB, ComplementNB, MultinomialNB, BernoulliNB\n",
    "import joblib\n",
    "import utilities\n",
    "\n",
    "import community as community_louvain"
   ]
  },
  {
   "cell_type": "markdown",
   "id": "worth-match",
   "metadata": {},
   "source": [
    "# Predicting Year : 2012"
   ]
  },
  {
   "cell_type": "markdown",
   "id": "disciplinary-booth",
   "metadata": {},
   "source": [
    "### Upload Weighted Temporal Dataset"
   ]
  },
  {
   "cell_type": "code",
   "execution_count": null,
   "id": "downtown-bread",
   "metadata": {},
   "outputs": [],
   "source": [
    "### test"
   ]
  },
  {
   "cell_type": "code",
   "execution_count": 2,
   "id": "medical-mobile",
   "metadata": {
    "scrolled": false
   },
   "outputs": [
    {
     "data": {
      "text/plain": [
       "154636"
      ]
     },
     "execution_count": 2,
     "metadata": {},
     "output_type": "execute_result"
    }
   ],
   "source": [
    "with open(\"/home/c6/Desktop/OpenWPM/jsons/Prediction_new/WT/2012/train/dataframe.csv\", newline='') as csvfile:\n",
    "    training_WT_df = pd.read_csv(csvfile)\n",
    "    \n",
    "training_WT_df['avg_deg'] = (training_WT_df['deg_e1']+training_WT_df['deg_e2'])/2\n",
    "training_WT_df = training_WT_df.drop(['deg_e1', 'deg_e2'], axis=1)\n",
    "training_WT_df = training_WT_df[['e1','e2','edge_wtf','W','CN','AA','HP','HD','JC','LHN','RA','SA','SO','avg_deg','label']]\n",
    "training_WT_df = training_WT_df.rename(columns={\"CN\": \"CN_WT\", \"AA\": \"AA_WT\", \"HP\": \"HP_WT\", \"HD\": \"HD_WT\", \"JC\": \"JC_WT\", \"LHN\": \"LHN_WT\",\n",
    "                  \"RA\": \"RA_WT\", \"SA\": \"SA_WT\", \"SO\": \"SO_WT\"})\n",
    "\n",
    "####\n",
    "#X_WT_train  = X_WT_train.iloc[X_WT_train['label']==1]\n",
    "\n",
    "####\n",
    "len(training_WT_df[training_WT_df.iloc[:]['label']==1])\n",
    "\n",
    "#training_WT_df.loc[training_WT_df['e1'] == 'Date']\n",
    "#training_WT_df.loc[(training_WT_df['e1'] == 'Date') & (training_WT_df['e2'] == 'var')].iloc[:,2:-1]\n",
    "#len(training_WT_df)"
   ]
  },
  {
   "cell_type": "code",
   "execution_count": 60,
   "id": "academic-powder",
   "metadata": {},
   "outputs": [
    {
     "name": "stdout",
     "output_type": "stream",
     "text": [
      "95685\n"
     ]
    }
   ],
   "source": [
    "from networkx.readwrite import json_graph\n",
    "import json\n",
    "with open(\"/home/c6/Desktop/OpenWPM/jsons/Prediction_new/WT/2012/train/Graph.json\") as json_data:\n",
    "    g_2012 = json_graph.node_link_graph(json.load(json_data))\n",
    "print(len(g_2012.edges()))"
   ]
  },
  {
   "cell_type": "code",
   "execution_count": 61,
   "id": "useful-immune",
   "metadata": {},
   "outputs": [
    {
     "name": "stdout",
     "output_type": "stream",
     "text": [
      "154636\n"
     ]
    }
   ],
   "source": [
    "from networkx.readwrite import json_graph\n",
    "import json\n",
    "with open(\"/home/c6/Desktop/OpenWPM/jsons/AST/CDX_results/Graphs/2011/Graph.json\") as json_data:\n",
    "    g_2011 = json_graph.node_link_graph(json.load(json_data))\n",
    "print(len(g_2011.edges()))"
   ]
  },
  {
   "cell_type": "code",
   "execution_count": 62,
   "id": "rising-delight",
   "metadata": {},
   "outputs": [
    {
     "name": "stdout",
     "output_type": "stream",
     "text": [
      "95685\n"
     ]
    }
   ],
   "source": [
    "from networkx.readwrite import json_graph\n",
    "import json\n",
    "with open(\"/home/c6/Desktop/OpenWPM/jsons/AST/CDX_results/Graphs/2010/Graph.json\") as json_data:\n",
    "    g_2010 = json_graph.node_link_graph(json.load(json_data))\n",
    "print(len(g_2010.edges()))"
   ]
  },
  {
   "cell_type": "code",
   "execution_count": 63,
   "id": "fifteen-break",
   "metadata": {
    "pycharm": {
     "name": "#%%\n"
    }
   },
   "outputs": [],
   "source": [
    "with open(\"/home/c6/Desktop/OpenWPM/jsons/Prediction_new/WT/2012/train/dataframe.csv\", newline='') as csvfile:\n",
    "    training_WT_df = pd.read_csv(csvfile)\n",
    "    \n",
    "training_WT_df['avg_deg'] = (training_WT_df['deg_e1']+training_WT_df['deg_e2'])/2\n",
    "training_WT_df = training_WT_df.drop(['deg_e1', 'deg_e2'], axis=1)\n",
    "training_WT_df = training_WT_df[['e1','e2','edge_wtf','W','CN','AA','HP','HD','JC','LHN','RA','SA','SO','avg_deg','label']]\n",
    "training_WT_df = training_WT_df.rename(columns={\"CN\": \"CN_WT\", \"AA\": \"AA_WT\", \"HP\": \"HP_WT\", \"HD\": \"HD_WT\", \"JC\": \"JC_WT\", \"LHN\": \"LHN_WT\",\n",
    "                  \"RA\": \"RA_WT\", \"SA\": \"SA_WT\", \"SO\": \"SO_WT\"})\n",
    "\n",
    "\n",
    "X_WT_train = training_WT_df.iloc[:,2:-1]\n",
    "Y_train = training_WT_df.iloc[:]['label']\n",
    "\n",
    "X_WT_train.head()\n",
    "\n",
    "with open(\"/home/c6/Desktop/OpenWPM/jsons/Prediction_new/WT/2012/test/dataframe.csv\", newline='') as csvfile:\n",
    "    testing_WT_df = pd.read_csv(csvfile)\n",
    "\n",
    "testing_WT_df['avg_deg'] = (testing_WT_df['deg_e1']+testing_WT_df['deg_e2'])/2\n",
    "testing_WT_df = testing_WT_df.drop(['deg_e1', 'deg_e2'], axis=1)\n",
    "testing_WT_df = testing_WT_df[['e1','e2','edge_wtf','W','CN','AA','HP','HD','JC','LHN','RA','SA','SO','avg_deg','label']]\n",
    "testing_WT_df = testing_WT_df.rename(columns={\"CN\": \"CN_WT\", \"AA\": \"AA_WT\", \"HP\": \"HP_WT\", \"HD\": \"HD_WT\", \"JC\": \"JC_WT\", \"LHN\": \"LHN_WT\",\n",
    "                  \"RA\": \"RA_WT\", \"SA\": \"SA_WT\", \"SO\": \"SO_WT\"})\n",
    "\n",
    "\n",
    "X_WT_test = testing_WT_df.iloc[:,2:-1]\n",
    "Y_test = testing_WT_df.iloc[:]['label']\n",
    "\n",
    "#X_WT_test.head()"
   ]
  },
  {
   "cell_type": "code",
   "execution_count": 115,
   "id": "compatible-african",
   "metadata": {},
   "outputs": [],
   "source": [
    "#training_WT_df"
   ]
  },
  {
   "cell_type": "code",
   "execution_count": 64,
   "id": "median-hollow",
   "metadata": {
    "pycharm": {
     "name": "#%%\n"
    }
   },
   "outputs": [
    {
     "data": {
      "text/plain": [
       "(167389, 12)"
      ]
     },
     "execution_count": 64,
     "metadata": {},
     "output_type": "execute_result"
    }
   ],
   "source": [
    "X_WT_train.shape"
   ]
  },
  {
   "cell_type": "markdown",
   "id": "vulnerable-binary",
   "metadata": {},
   "source": [
    "### Upload Unweighted non-Temporal Dataset"
   ]
  },
  {
   "cell_type": "code",
   "execution_count": 65,
   "id": "shared-mountain",
   "metadata": {
    "pycharm": {
     "name": "#%%\n"
    }
   },
   "outputs": [],
   "source": [
    "with open(\"/home/c6/Desktop/OpenWPM/jsons/Prediction_new/non_temporal_unweighted/2012/train/dataframe.csv\", newline='') as csvfile:\n",
    "    training_non_df = pd.read_csv(csvfile)\n",
    "    \n",
    "training_non_df = training_non_df.drop(['deg_e1', 'deg_e2'], axis=1)\n",
    "training_non_df = training_non_df[['e1','e2','CN','AA','HP','HD','JC','LHN','RA','SA','SO','label']]\n",
    "\n",
    "X_non_train = training_non_df.iloc[:,2:-1]\n",
    "#Y_train = training_df.iloc[:]['label']\n",
    "\n",
    "#X_train.head()\n",
    "\n",
    "with open(\"/home/c6/Desktop/OpenWPM/jsons/Prediction_new/non_temporal_unweighted/2012/test/dataframe.csv\", newline='') as csvfile:\n",
    "    testing_non_df = pd.read_csv(csvfile)\n",
    "\n",
    "testing_non_df = testing_non_df.drop(['deg_e1', 'deg_e2'], axis=1)\n",
    "testing_non_df = testing_non_df[['e1','e2','CN','AA','HP','HD','JC','LHN','RA','SA','SO','label']]\n",
    "\n",
    "\n",
    "X_non_test = testing_non_df.iloc[:,2:-1]\n",
    "#Y_test = testing_df.iloc[:]['label']\n",
    "\n",
    "#X_non_test.head()"
   ]
  },
  {
   "cell_type": "code",
   "execution_count": 117,
   "id": "hungry-montreal",
   "metadata": {},
   "outputs": [],
   "source": [
    "#training_non_df"
   ]
  },
  {
   "cell_type": "code",
   "execution_count": 66,
   "id": "fatty-lighting",
   "metadata": {
    "pycharm": {
     "name": "#%%\n"
    }
   },
   "outputs": [
    {
     "data": {
      "text/plain": [
       "(774519, 16)"
      ]
     },
     "execution_count": 66,
     "metadata": {},
     "output_type": "execute_result"
    }
   ],
   "source": [
    "with open(\"/home/c6/Desktop/OpenWPM/jsons/Prediction_new/non_temporal_unweighted/2012/test/dataframe.csv\", newline='') as csvfile:\n",
    "    testing_non_df = pd.read_csv(csvfile)\n",
    "testing_non_df.shape"
   ]
  },
  {
   "cell_type": "code",
   "execution_count": 67,
   "id": "universal-reply",
   "metadata": {
    "pycharm": {
     "name": "#%%\n"
    }
   },
   "outputs": [
    {
     "data": {
      "text/plain": [
       "(254704, 16)"
      ]
     },
     "execution_count": 67,
     "metadata": {},
     "output_type": "execute_result"
    }
   ],
   "source": [
    "with open(\"/home/c6/Desktop/OpenWPM/jsons/Prediction_new/WT/2012/test/dataframe.csv\", newline='') as csvfile:\n",
    "    testing_WT_df = pd.read_csv(csvfile)\n",
    "testing_WT_df.shape"
   ]
  },
  {
   "cell_type": "code",
   "execution_count": 17,
   "id": "smoking-pressing",
   "metadata": {
    "pycharm": {
     "name": "#%%\n"
    }
   },
   "outputs": [
    {
     "data": {
      "text/plain": [
       "(474420, 16)"
      ]
     },
     "execution_count": 17,
     "metadata": {},
     "output_type": "execute_result"
    }
   ],
   "source": [
    "with open(\"/home/c6/Desktop/OpenWPM/jsons/Prediction_new/non_temporal_unweighted/2012/train/dataframe.csv\", newline='') as csvfile:\n",
    "    training_WT_df = pd.read_csv(csvfile)\n",
    "training_WT_df.shape   "
   ]
  },
  {
   "cell_type": "code",
   "execution_count": 18,
   "id": "organized-maple",
   "metadata": {
    "pycharm": {
     "name": "#%%\n"
    }
   },
   "outputs": [
    {
     "data": {
      "text/plain": [
       "(167389, 16)"
      ]
     },
     "execution_count": 18,
     "metadata": {},
     "output_type": "execute_result"
    }
   ],
   "source": [
    "with open(\"/home/c6/Desktop/OpenWPM/jsons/Prediction_new/WT/2012/train/dataframe.csv\", newline='') as csvfile:\n",
    "    training_non_df = pd.read_csv(csvfile)\n",
    "training_non_df.shape"
   ]
  },
  {
   "cell_type": "code",
   "execution_count": 19,
   "id": "republican-batch",
   "metadata": {
    "pycharm": {
     "name": "#%%\n"
    }
   },
   "outputs": [],
   "source": [
    "from networkx.readwrite import json_graph\n",
    "G_addr = \"/home/c6/Desktop/OpenWPM/jsons/Prediction_new/non_temporal_unweighted/2012/test/Graph.json\"\n",
    "g = utilities.read_json(G_addr)\n",
    "G = json_graph.node_link_graph(g)"
   ]
  },
  {
   "cell_type": "code",
   "execution_count": 20,
   "id": "handy-dover",
   "metadata": {
    "pycharm": {
     "name": "#%%\n"
    }
   },
   "outputs": [],
   "source": [
    "H_addr = \"/home/c6/Desktop/OpenWPM/jsons/Prediction_new/WT/2012/test/Graph.json\"\n",
    "h = utilities.read_json(H_addr)\n",
    "H = json_graph.node_link_graph(h)"
   ]
  },
  {
   "cell_type": "code",
   "execution_count": 21,
   "id": "designed-voice",
   "metadata": {
    "pycharm": {
     "name": "#%%\n"
    }
   },
   "outputs": [
    {
     "data": {
      "text/plain": [
       "963"
      ]
     },
     "execution_count": 21,
     "metadata": {},
     "output_type": "execute_result"
    }
   ],
   "source": [
    "len(G.nodes())"
   ]
  },
  {
   "cell_type": "code",
   "execution_count": 22,
   "id": "unknown-polymer",
   "metadata": {
    "pycharm": {
     "name": "#%%\n"
    }
   },
   "outputs": [
    {
     "data": {
      "text/plain": [
       "963"
      ]
     },
     "execution_count": 22,
     "metadata": {},
     "output_type": "execute_result"
    }
   ],
   "source": [
    "len(H.nodes())"
   ]
  },
  {
   "cell_type": "code",
   "execution_count": 23,
   "id": "apparent-recognition",
   "metadata": {
    "pycharm": {
     "name": "#%%\n"
    }
   },
   "outputs": [
    {
     "data": {
      "text/plain": [
       "167389"
      ]
     },
     "execution_count": 23,
     "metadata": {},
     "output_type": "execute_result"
    }
   ],
   "source": [
    "len(G.edges())"
   ]
  },
  {
   "cell_type": "code",
   "execution_count": 24,
   "id": "indirect-yacht",
   "metadata": {
    "pycharm": {
     "name": "#%%\n"
    }
   },
   "outputs": [
    {
     "data": {
      "text/plain": [
       "167389"
      ]
     },
     "execution_count": 24,
     "metadata": {},
     "output_type": "execute_result"
    }
   ],
   "source": [
    "len(H.edges())"
   ]
  },
  {
   "cell_type": "code",
   "execution_count": 25,
   "id": "essential-wonder",
   "metadata": {
    "pycharm": {
     "name": "#%%\n"
    }
   },
   "outputs": [
    {
     "data": {
      "text/plain": [
       "519815"
      ]
     },
     "execution_count": 25,
     "metadata": {},
     "output_type": "execute_result"
    }
   ],
   "source": [
    "disconnection_addr = \"/home/c6/Desktop/OpenWPM/jsons/Prediction_new/non_temporal_unweighted/2012/test/disconnect.json\"\n",
    "disconnection = utilities.read_json(disconnection_addr)\n",
    "len(disconnection)"
   ]
  },
  {
   "cell_type": "code",
   "execution_count": 26,
   "id": "academic-execution",
   "metadata": {
    "pycharm": {
     "name": "#%%\n"
    }
   },
   "outputs": [
    {
     "data": {
      "text/plain": [
       "519815"
      ]
     },
     "execution_count": 26,
     "metadata": {},
     "output_type": "execute_result"
    }
   ],
   "source": [
    "disconnection_addr = \"/home/c6/Desktop/OpenWPM/jsons/Prediction_new/WT/2012/test/disconnect.json\"\n",
    "disconnection = utilities.read_json(disconnection_addr)\n",
    "len(disconnection)"
   ]
  },
  {
   "cell_type": "markdown",
   "id": "mathematical-tolerance",
   "metadata": {},
   "source": [
    "### Merge Datasets"
   ]
  },
  {
   "cell_type": "code",
   "execution_count": 54,
   "id": "sixth-collectible",
   "metadata": {
    "pycharm": {
     "name": "#%%\n"
    }
   },
   "outputs": [],
   "source": [
    "training_frames = [X_WT_train, X_non_train]\n",
    "testing_frames = [X_WT_test, X_non_test]\n",
    "\n",
    "X_train = pd.concat(training_frames,axis=1)\n",
    "X_test = pd.concat(testing_frames,axis=1)"
   ]
  },
  {
   "cell_type": "code",
   "execution_count": 55,
   "id": "conservative-national",
   "metadata": {
    "pycharm": {
     "name": "#%%\n"
    }
   },
   "outputs": [
    {
     "name": "stdout",
     "output_type": "stream",
     "text": [
      "Positive Samples:  154636\n",
      "Negative_samples:  12753\n"
     ]
    }
   ],
   "source": [
    "positive_samples = 0\n",
    "negative_sample = 0\n",
    "for i in Y_train:\n",
    "    if i==1:\n",
    "        positive_samples += 1 \n",
    "    else:\n",
    "        negative_sample += 1\n",
    "\n",
    "print(\"Positive Samples: \", positive_samples)\n",
    "print(\"Negative_samples: \", negative_sample)"
   ]
  },
  {
   "cell_type": "markdown",
   "id": "secondary-honolulu",
   "metadata": {},
   "source": [
    "### upsample minority class"
   ]
  },
  {
   "cell_type": "code",
   "execution_count": 70,
   "id": "extraordinary-image",
   "metadata": {
    "pycharm": {
     "name": "#%%\n"
    }
   },
   "outputs": [],
   "source": [
    "# Separate majority and minority classes\n",
    "training_df_cat = [X_train, Y_train]\n",
    "training_df = pd.concat(training_df_cat,axis=1)\n",
    "\n",
    "df_majority = training_df[training_df.label==1]\n",
    "df_minority = training_df[training_df.label==0]\n",
    " \n",
    "# Upsample minority class\n",
    "df_minority_upsampled = resample(df_minority, \n",
    "                                 replace=True,     # sample with replacement\n",
    "                                 n_samples=154636,    # to match majority class\n",
    "                                 random_state=123) # reproducible results\n",
    " \n",
    "# Combine majority class with upsampled minority class\n",
    "df_upsampled = pd.concat([df_majority, df_minority_upsampled])\n",
    " \n",
    "# Display new class counts\n",
    "df_upsampled.label.value_counts()\n",
    "X_train = df_upsampled.iloc[:,0:-1]\n",
    "Y_train = df_upsampled.iloc[:]['label']\n",
    "# 1    576\n",
    "# 0    576\n",
    "# Name: balance, dtype: int64"
   ]
  },
  {
   "cell_type": "markdown",
   "id": "liberal-sigma",
   "metadata": {},
   "source": [
    "* define evaluation function"
   ]
  },
  {
   "cell_type": "code",
   "execution_count": 56,
   "id": "creative-playback",
   "metadata": {
    "pycharm": {
     "name": "#%%\n"
    }
   },
   "outputs": [],
   "source": [
    "def evaluate_model(predictions, actual):\n",
    "    TP = 0\n",
    "    FP = 0\n",
    "    TN = 0\n",
    "    FN = 0\n",
    "\n",
    "    for i in range(len(predictions)): \n",
    "        if actual[i]==predictions[i]==1:\n",
    "            TP += 1\n",
    "        if predictions[i]==1 and actual[i]!=predictions[i]:\n",
    "            FP += 1\n",
    "        if actual[i]==predictions[i]==0:\n",
    "            TN += 1\n",
    "        if predictions[i]==0 and actual[i]!=predictions[i]:\n",
    "            FN += 1\n",
    "    return pd.DataFrame({\n",
    "        \"Measure\": [\"Accuracy\", \"Precision\", \"Recall\", \"FPR\", \"FNR\", \"F1\", \"roc_auc\"],\n",
    "        \"Source\": [accuracy_score(actual, predictions), \n",
    "                   precision_score(actual, predictions), \n",
    "                   recall_score(actual, predictions),\n",
    "                   FP/(FP+TN),\n",
    "                   FN/(FN+TP),\n",
    "                   f1_score(actual, predictions),\n",
    "                   roc_auc_score(actual, predictions)]\n",
    "    })"
   ]
  },
  {
   "cell_type": "markdown",
   "id": "superior-gallery",
   "metadata": {},
   "source": [
    "* Find important features"
   ]
  },
  {
   "cell_type": "code",
   "execution_count": 57,
   "id": "private-locator",
   "metadata": {
    "pycharm": {
     "name": "#%%\n"
    }
   },
   "outputs": [],
   "source": [
    "def feature_importance(columns, classifier):\n",
    "    display(\"Feature Importance\")\n",
    "    df = pd.DataFrame({\"Features\": columns,\n",
    "                      \"Importance\": classifier.feature_importances_})\n",
    "    df = df.sort_values(\"Importance\", ascending=False)\n",
    "    ax = df.plot(kind='bar', x='Features', y='Importance', legend=None)\n",
    "    #ax.xaxist.set_label_text(\"\")\n",
    "    plt.tight_layout()\n",
    "    plt.show"
   ]
  },
  {
   "cell_type": "markdown",
   "id": "rotary-haiti",
   "metadata": {},
   "source": [
    " ### choose a ML algorithm "
   ]
  },
  {
   "cell_type": "markdown",
   "id": "circular-eating",
   "metadata": {},
   "source": [
    "### 1. Random Forest"
   ]
  },
  {
   "cell_type": "code",
   "execution_count": 58,
   "id": "round-client",
   "metadata": {
    "pycharm": {
     "name": "#%%\n"
    }
   },
   "outputs": [],
   "source": [
    "classifier = RandomForestClassifier(n_estimators=100, max_depth=20, criterion=\"entropy\", class_weight={0: 1, 1: 1})"
   ]
  },
  {
   "cell_type": "markdown",
   "id": "national-specific",
   "metadata": {},
   "source": [
    "### Train and predict"
   ]
  },
  {
   "cell_type": "code",
   "execution_count": 59,
   "id": "ultimate-communication",
   "metadata": {
    "pycharm": {
     "name": "#%%\n"
    }
   },
   "outputs": [
    {
     "ename": "ValueError",
     "evalue": "Input contains NaN, infinity or a value too large for dtype('float32').",
     "output_type": "error",
     "traceback": [
      "\u001b[0;31m---------------------------------------------------------------------------\u001b[0m",
      "\u001b[0;31mValueError\u001b[0m                                Traceback (most recent call last)",
      "\u001b[0;32m<ipython-input-59-673ec740c629>\u001b[0m in \u001b[0;36m<module>\u001b[0;34m\u001b[0m\n\u001b[0;32m----> 1\u001b[0;31m \u001b[0mclassifier\u001b[0m\u001b[0;34m.\u001b[0m\u001b[0mfit\u001b[0m\u001b[0;34m(\u001b[0m\u001b[0mX_train\u001b[0m\u001b[0;34m,\u001b[0m \u001b[0mY_train\u001b[0m\u001b[0;34m)\u001b[0m\u001b[0;34m\u001b[0m\u001b[0;34m\u001b[0m\u001b[0m\n\u001b[0m",
      "\u001b[0;32m~/anaconda3/envs/dock/lib/python3.8/site-packages/sklearn/ensemble/_forest.py\u001b[0m in \u001b[0;36mfit\u001b[0;34m(self, X, y, sample_weight)\u001b[0m\n\u001b[1;32m    302\u001b[0m                 \u001b[0;34m\"sparse multilabel-indicator for y is not supported.\"\u001b[0m\u001b[0;34m\u001b[0m\u001b[0;34m\u001b[0m\u001b[0m\n\u001b[1;32m    303\u001b[0m             )\n\u001b[0;32m--> 304\u001b[0;31m         X, y = self._validate_data(X, y, multi_output=True,\n\u001b[0m\u001b[1;32m    305\u001b[0m                                    accept_sparse=\"csc\", dtype=DTYPE)\n\u001b[1;32m    306\u001b[0m         \u001b[0;32mif\u001b[0m \u001b[0msample_weight\u001b[0m \u001b[0;32mis\u001b[0m \u001b[0;32mnot\u001b[0m \u001b[0;32mNone\u001b[0m\u001b[0;34m:\u001b[0m\u001b[0;34m\u001b[0m\u001b[0;34m\u001b[0m\u001b[0m\n",
      "\u001b[0;32m~/anaconda3/envs/dock/lib/python3.8/site-packages/sklearn/base.py\u001b[0m in \u001b[0;36m_validate_data\u001b[0;34m(self, X, y, reset, validate_separately, **check_params)\u001b[0m\n\u001b[1;32m    431\u001b[0m                 \u001b[0my\u001b[0m \u001b[0;34m=\u001b[0m \u001b[0mcheck_array\u001b[0m\u001b[0;34m(\u001b[0m\u001b[0my\u001b[0m\u001b[0;34m,\u001b[0m \u001b[0;34m**\u001b[0m\u001b[0mcheck_y_params\u001b[0m\u001b[0;34m)\u001b[0m\u001b[0;34m\u001b[0m\u001b[0;34m\u001b[0m\u001b[0m\n\u001b[1;32m    432\u001b[0m             \u001b[0;32melse\u001b[0m\u001b[0;34m:\u001b[0m\u001b[0;34m\u001b[0m\u001b[0;34m\u001b[0m\u001b[0m\n\u001b[0;32m--> 433\u001b[0;31m                 \u001b[0mX\u001b[0m\u001b[0;34m,\u001b[0m \u001b[0my\u001b[0m \u001b[0;34m=\u001b[0m \u001b[0mcheck_X_y\u001b[0m\u001b[0;34m(\u001b[0m\u001b[0mX\u001b[0m\u001b[0;34m,\u001b[0m \u001b[0my\u001b[0m\u001b[0;34m,\u001b[0m \u001b[0;34m**\u001b[0m\u001b[0mcheck_params\u001b[0m\u001b[0;34m)\u001b[0m\u001b[0;34m\u001b[0m\u001b[0;34m\u001b[0m\u001b[0m\n\u001b[0m\u001b[1;32m    434\u001b[0m             \u001b[0mout\u001b[0m \u001b[0;34m=\u001b[0m \u001b[0mX\u001b[0m\u001b[0;34m,\u001b[0m \u001b[0my\u001b[0m\u001b[0;34m\u001b[0m\u001b[0;34m\u001b[0m\u001b[0m\n\u001b[1;32m    435\u001b[0m \u001b[0;34m\u001b[0m\u001b[0m\n",
      "\u001b[0;32m~/anaconda3/envs/dock/lib/python3.8/site-packages/sklearn/utils/validation.py\u001b[0m in \u001b[0;36minner_f\u001b[0;34m(*args, **kwargs)\u001b[0m\n\u001b[1;32m     61\u001b[0m             \u001b[0mextra_args\u001b[0m \u001b[0;34m=\u001b[0m \u001b[0mlen\u001b[0m\u001b[0;34m(\u001b[0m\u001b[0margs\u001b[0m\u001b[0;34m)\u001b[0m \u001b[0;34m-\u001b[0m \u001b[0mlen\u001b[0m\u001b[0;34m(\u001b[0m\u001b[0mall_args\u001b[0m\u001b[0;34m)\u001b[0m\u001b[0;34m\u001b[0m\u001b[0;34m\u001b[0m\u001b[0m\n\u001b[1;32m     62\u001b[0m             \u001b[0;32mif\u001b[0m \u001b[0mextra_args\u001b[0m \u001b[0;34m<=\u001b[0m \u001b[0;36m0\u001b[0m\u001b[0;34m:\u001b[0m\u001b[0;34m\u001b[0m\u001b[0;34m\u001b[0m\u001b[0m\n\u001b[0;32m---> 63\u001b[0;31m                 \u001b[0;32mreturn\u001b[0m \u001b[0mf\u001b[0m\u001b[0;34m(\u001b[0m\u001b[0;34m*\u001b[0m\u001b[0margs\u001b[0m\u001b[0;34m,\u001b[0m \u001b[0;34m**\u001b[0m\u001b[0mkwargs\u001b[0m\u001b[0;34m)\u001b[0m\u001b[0;34m\u001b[0m\u001b[0;34m\u001b[0m\u001b[0m\n\u001b[0m\u001b[1;32m     64\u001b[0m \u001b[0;34m\u001b[0m\u001b[0m\n\u001b[1;32m     65\u001b[0m             \u001b[0;31m# extra_args > 0\u001b[0m\u001b[0;34m\u001b[0m\u001b[0;34m\u001b[0m\u001b[0;34m\u001b[0m\u001b[0m\n",
      "\u001b[0;32m~/anaconda3/envs/dock/lib/python3.8/site-packages/sklearn/utils/validation.py\u001b[0m in \u001b[0;36mcheck_X_y\u001b[0;34m(X, y, accept_sparse, accept_large_sparse, dtype, order, copy, force_all_finite, ensure_2d, allow_nd, multi_output, ensure_min_samples, ensure_min_features, y_numeric, estimator)\u001b[0m\n\u001b[1;32m    812\u001b[0m         \u001b[0;32mraise\u001b[0m \u001b[0mValueError\u001b[0m\u001b[0;34m(\u001b[0m\u001b[0;34m\"y cannot be None\"\u001b[0m\u001b[0;34m)\u001b[0m\u001b[0;34m\u001b[0m\u001b[0;34m\u001b[0m\u001b[0m\n\u001b[1;32m    813\u001b[0m \u001b[0;34m\u001b[0m\u001b[0m\n\u001b[0;32m--> 814\u001b[0;31m     X = check_array(X, accept_sparse=accept_sparse,\n\u001b[0m\u001b[1;32m    815\u001b[0m                     \u001b[0maccept_large_sparse\u001b[0m\u001b[0;34m=\u001b[0m\u001b[0maccept_large_sparse\u001b[0m\u001b[0;34m,\u001b[0m\u001b[0;34m\u001b[0m\u001b[0;34m\u001b[0m\u001b[0m\n\u001b[1;32m    816\u001b[0m                     \u001b[0mdtype\u001b[0m\u001b[0;34m=\u001b[0m\u001b[0mdtype\u001b[0m\u001b[0;34m,\u001b[0m \u001b[0morder\u001b[0m\u001b[0;34m=\u001b[0m\u001b[0morder\u001b[0m\u001b[0;34m,\u001b[0m \u001b[0mcopy\u001b[0m\u001b[0;34m=\u001b[0m\u001b[0mcopy\u001b[0m\u001b[0;34m,\u001b[0m\u001b[0;34m\u001b[0m\u001b[0;34m\u001b[0m\u001b[0m\n",
      "\u001b[0;32m~/anaconda3/envs/dock/lib/python3.8/site-packages/sklearn/utils/validation.py\u001b[0m in \u001b[0;36minner_f\u001b[0;34m(*args, **kwargs)\u001b[0m\n\u001b[1;32m     61\u001b[0m             \u001b[0mextra_args\u001b[0m \u001b[0;34m=\u001b[0m \u001b[0mlen\u001b[0m\u001b[0;34m(\u001b[0m\u001b[0margs\u001b[0m\u001b[0;34m)\u001b[0m \u001b[0;34m-\u001b[0m \u001b[0mlen\u001b[0m\u001b[0;34m(\u001b[0m\u001b[0mall_args\u001b[0m\u001b[0;34m)\u001b[0m\u001b[0;34m\u001b[0m\u001b[0;34m\u001b[0m\u001b[0m\n\u001b[1;32m     62\u001b[0m             \u001b[0;32mif\u001b[0m \u001b[0mextra_args\u001b[0m \u001b[0;34m<=\u001b[0m \u001b[0;36m0\u001b[0m\u001b[0;34m:\u001b[0m\u001b[0;34m\u001b[0m\u001b[0;34m\u001b[0m\u001b[0m\n\u001b[0;32m---> 63\u001b[0;31m                 \u001b[0;32mreturn\u001b[0m \u001b[0mf\u001b[0m\u001b[0;34m(\u001b[0m\u001b[0;34m*\u001b[0m\u001b[0margs\u001b[0m\u001b[0;34m,\u001b[0m \u001b[0;34m**\u001b[0m\u001b[0mkwargs\u001b[0m\u001b[0;34m)\u001b[0m\u001b[0;34m\u001b[0m\u001b[0;34m\u001b[0m\u001b[0m\n\u001b[0m\u001b[1;32m     64\u001b[0m \u001b[0;34m\u001b[0m\u001b[0m\n\u001b[1;32m     65\u001b[0m             \u001b[0;31m# extra_args > 0\u001b[0m\u001b[0;34m\u001b[0m\u001b[0;34m\u001b[0m\u001b[0;34m\u001b[0m\u001b[0m\n",
      "\u001b[0;32m~/anaconda3/envs/dock/lib/python3.8/site-packages/sklearn/utils/validation.py\u001b[0m in \u001b[0;36mcheck_array\u001b[0;34m(array, accept_sparse, accept_large_sparse, dtype, order, copy, force_all_finite, ensure_2d, allow_nd, ensure_min_samples, ensure_min_features, estimator)\u001b[0m\n\u001b[1;32m    661\u001b[0m \u001b[0;34m\u001b[0m\u001b[0m\n\u001b[1;32m    662\u001b[0m         \u001b[0;32mif\u001b[0m \u001b[0mforce_all_finite\u001b[0m\u001b[0;34m:\u001b[0m\u001b[0;34m\u001b[0m\u001b[0;34m\u001b[0m\u001b[0m\n\u001b[0;32m--> 663\u001b[0;31m             _assert_all_finite(array,\n\u001b[0m\u001b[1;32m    664\u001b[0m                                allow_nan=force_all_finite == 'allow-nan')\n\u001b[1;32m    665\u001b[0m \u001b[0;34m\u001b[0m\u001b[0m\n",
      "\u001b[0;32m~/anaconda3/envs/dock/lib/python3.8/site-packages/sklearn/utils/validation.py\u001b[0m in \u001b[0;36m_assert_all_finite\u001b[0;34m(X, allow_nan, msg_dtype)\u001b[0m\n\u001b[1;32m    101\u001b[0m                 not allow_nan and not np.isfinite(X).all()):\n\u001b[1;32m    102\u001b[0m             \u001b[0mtype_err\u001b[0m \u001b[0;34m=\u001b[0m \u001b[0;34m'infinity'\u001b[0m \u001b[0;32mif\u001b[0m \u001b[0mallow_nan\u001b[0m \u001b[0;32melse\u001b[0m \u001b[0;34m'NaN, infinity'\u001b[0m\u001b[0;34m\u001b[0m\u001b[0;34m\u001b[0m\u001b[0m\n\u001b[0;32m--> 103\u001b[0;31m             raise ValueError(\n\u001b[0m\u001b[1;32m    104\u001b[0m                     \u001b[0mmsg_err\u001b[0m\u001b[0;34m.\u001b[0m\u001b[0mformat\u001b[0m\u001b[0;34m\u001b[0m\u001b[0;34m\u001b[0m\u001b[0m\n\u001b[1;32m    105\u001b[0m                     (type_err,\n",
      "\u001b[0;31mValueError\u001b[0m: Input contains NaN, infinity or a value too large for dtype('float32')."
     ]
    }
   ],
   "source": [
    "classifier.fit(X_train, Y_train)"
   ]
  },
  {
   "cell_type": "code",
   "execution_count": 113,
   "id": "loaded-latitude",
   "metadata": {
    "pycharm": {
     "name": "#%%\n"
    }
   },
   "outputs": [
    {
     "ename": "NotFittedError",
     "evalue": "This RandomForestClassifier instance is not fitted yet. Call 'fit' with appropriate arguments before using this estimator.",
     "output_type": "error",
     "traceback": [
      "\u001b[0;31m---------------------------------------------------------------------------\u001b[0m",
      "\u001b[0;31mNotFittedError\u001b[0m                            Traceback (most recent call last)",
      "\u001b[0;32m<ipython-input-113-3090a1bfd664>\u001b[0m in \u001b[0;36m<module>\u001b[0;34m\u001b[0m\n\u001b[0;32m----> 1\u001b[0;31m \u001b[0mprediction\u001b[0m \u001b[0;34m=\u001b[0m \u001b[0mclassifier\u001b[0m\u001b[0;34m.\u001b[0m\u001b[0mpredict\u001b[0m\u001b[0;34m(\u001b[0m\u001b[0mX_test\u001b[0m\u001b[0;34m)\u001b[0m\u001b[0;34m\u001b[0m\u001b[0;34m\u001b[0m\u001b[0m\n\u001b[0m",
      "\u001b[0;32m~/anaconda3/envs/dock/lib/python3.8/site-packages/sklearn/ensemble/_forest.py\u001b[0m in \u001b[0;36mpredict\u001b[0;34m(self, X)\u001b[0m\n\u001b[1;32m    628\u001b[0m             \u001b[0mThe\u001b[0m \u001b[0mpredicted\u001b[0m \u001b[0mclasses\u001b[0m\u001b[0;34m.\u001b[0m\u001b[0;34m\u001b[0m\u001b[0;34m\u001b[0m\u001b[0m\n\u001b[1;32m    629\u001b[0m         \"\"\"\n\u001b[0;32m--> 630\u001b[0;31m         \u001b[0mproba\u001b[0m \u001b[0;34m=\u001b[0m \u001b[0mself\u001b[0m\u001b[0;34m.\u001b[0m\u001b[0mpredict_proba\u001b[0m\u001b[0;34m(\u001b[0m\u001b[0mX\u001b[0m\u001b[0;34m)\u001b[0m\u001b[0;34m\u001b[0m\u001b[0;34m\u001b[0m\u001b[0m\n\u001b[0m\u001b[1;32m    631\u001b[0m \u001b[0;34m\u001b[0m\u001b[0m\n\u001b[1;32m    632\u001b[0m         \u001b[0;32mif\u001b[0m \u001b[0mself\u001b[0m\u001b[0;34m.\u001b[0m\u001b[0mn_outputs_\u001b[0m \u001b[0;34m==\u001b[0m \u001b[0;36m1\u001b[0m\u001b[0;34m:\u001b[0m\u001b[0;34m\u001b[0m\u001b[0;34m\u001b[0m\u001b[0m\n",
      "\u001b[0;32m~/anaconda3/envs/dock/lib/python3.8/site-packages/sklearn/ensemble/_forest.py\u001b[0m in \u001b[0;36mpredict_proba\u001b[0;34m(self, X)\u001b[0m\n\u001b[1;32m    670\u001b[0m             \u001b[0mclasses\u001b[0m \u001b[0mcorresponds\u001b[0m \u001b[0mto\u001b[0m \u001b[0mthat\u001b[0m \u001b[0;32min\u001b[0m \u001b[0mthe\u001b[0m \u001b[0mattribute\u001b[0m \u001b[0;34m:\u001b[0m\u001b[0mterm\u001b[0m\u001b[0;34m:\u001b[0m\u001b[0;31m`\u001b[0m\u001b[0mclasses_\u001b[0m\u001b[0;31m`\u001b[0m\u001b[0;34m.\u001b[0m\u001b[0;34m\u001b[0m\u001b[0;34m\u001b[0m\u001b[0m\n\u001b[1;32m    671\u001b[0m         \"\"\"\n\u001b[0;32m--> 672\u001b[0;31m         \u001b[0mcheck_is_fitted\u001b[0m\u001b[0;34m(\u001b[0m\u001b[0mself\u001b[0m\u001b[0;34m)\u001b[0m\u001b[0;34m\u001b[0m\u001b[0;34m\u001b[0m\u001b[0m\n\u001b[0m\u001b[1;32m    673\u001b[0m         \u001b[0;31m# Check data\u001b[0m\u001b[0;34m\u001b[0m\u001b[0;34m\u001b[0m\u001b[0;34m\u001b[0m\u001b[0m\n\u001b[1;32m    674\u001b[0m         \u001b[0mX\u001b[0m \u001b[0;34m=\u001b[0m \u001b[0mself\u001b[0m\u001b[0;34m.\u001b[0m\u001b[0m_validate_X_predict\u001b[0m\u001b[0;34m(\u001b[0m\u001b[0mX\u001b[0m\u001b[0;34m)\u001b[0m\u001b[0;34m\u001b[0m\u001b[0;34m\u001b[0m\u001b[0m\n",
      "\u001b[0;32m~/anaconda3/envs/dock/lib/python3.8/site-packages/sklearn/utils/validation.py\u001b[0m in \u001b[0;36minner_f\u001b[0;34m(*args, **kwargs)\u001b[0m\n\u001b[1;32m     61\u001b[0m             \u001b[0mextra_args\u001b[0m \u001b[0;34m=\u001b[0m \u001b[0mlen\u001b[0m\u001b[0;34m(\u001b[0m\u001b[0margs\u001b[0m\u001b[0;34m)\u001b[0m \u001b[0;34m-\u001b[0m \u001b[0mlen\u001b[0m\u001b[0;34m(\u001b[0m\u001b[0mall_args\u001b[0m\u001b[0;34m)\u001b[0m\u001b[0;34m\u001b[0m\u001b[0;34m\u001b[0m\u001b[0m\n\u001b[1;32m     62\u001b[0m             \u001b[0;32mif\u001b[0m \u001b[0mextra_args\u001b[0m \u001b[0;34m<=\u001b[0m \u001b[0;36m0\u001b[0m\u001b[0;34m:\u001b[0m\u001b[0;34m\u001b[0m\u001b[0;34m\u001b[0m\u001b[0m\n\u001b[0;32m---> 63\u001b[0;31m                 \u001b[0;32mreturn\u001b[0m \u001b[0mf\u001b[0m\u001b[0;34m(\u001b[0m\u001b[0;34m*\u001b[0m\u001b[0margs\u001b[0m\u001b[0;34m,\u001b[0m \u001b[0;34m**\u001b[0m\u001b[0mkwargs\u001b[0m\u001b[0;34m)\u001b[0m\u001b[0;34m\u001b[0m\u001b[0;34m\u001b[0m\u001b[0m\n\u001b[0m\u001b[1;32m     64\u001b[0m \u001b[0;34m\u001b[0m\u001b[0m\n\u001b[1;32m     65\u001b[0m             \u001b[0;31m# extra_args > 0\u001b[0m\u001b[0;34m\u001b[0m\u001b[0;34m\u001b[0m\u001b[0;34m\u001b[0m\u001b[0m\n",
      "\u001b[0;32m~/anaconda3/envs/dock/lib/python3.8/site-packages/sklearn/utils/validation.py\u001b[0m in \u001b[0;36mcheck_is_fitted\u001b[0;34m(estimator, attributes, msg, all_or_any)\u001b[0m\n\u001b[1;32m   1039\u001b[0m \u001b[0;34m\u001b[0m\u001b[0m\n\u001b[1;32m   1040\u001b[0m     \u001b[0;32mif\u001b[0m \u001b[0;32mnot\u001b[0m \u001b[0mattrs\u001b[0m\u001b[0;34m:\u001b[0m\u001b[0;34m\u001b[0m\u001b[0;34m\u001b[0m\u001b[0m\n\u001b[0;32m-> 1041\u001b[0;31m         \u001b[0;32mraise\u001b[0m \u001b[0mNotFittedError\u001b[0m\u001b[0;34m(\u001b[0m\u001b[0mmsg\u001b[0m \u001b[0;34m%\u001b[0m \u001b[0;34m{\u001b[0m\u001b[0;34m'name'\u001b[0m\u001b[0;34m:\u001b[0m \u001b[0mtype\u001b[0m\u001b[0;34m(\u001b[0m\u001b[0mestimator\u001b[0m\u001b[0;34m)\u001b[0m\u001b[0;34m.\u001b[0m\u001b[0m__name__\u001b[0m\u001b[0;34m}\u001b[0m\u001b[0;34m)\u001b[0m\u001b[0;34m\u001b[0m\u001b[0;34m\u001b[0m\u001b[0m\n\u001b[0m\u001b[1;32m   1042\u001b[0m \u001b[0;34m\u001b[0m\u001b[0m\n\u001b[1;32m   1043\u001b[0m \u001b[0;34m\u001b[0m\u001b[0m\n",
      "\u001b[0;31mNotFittedError\u001b[0m: This RandomForestClassifier instance is not fitted yet. Call 'fit' with appropriate arguments before using this estimator."
     ]
    }
   ],
   "source": [
    "prediction = classifier.predict(X_test)"
   ]
  },
  {
   "cell_type": "code",
   "execution_count": 102,
   "id": "associate-bouquet",
   "metadata": {
    "pycharm": {
     "name": "#%%\n"
    }
   },
   "outputs": [
    {
     "data": {
      "text/plain": [
       "(774519,)"
      ]
     },
     "execution_count": 102,
     "metadata": {},
     "output_type": "execute_result"
    }
   ],
   "source": [
    "prediction.shape"
   ]
  },
  {
   "cell_type": "code",
   "execution_count": 103,
   "id": "successful-settle",
   "metadata": {
    "pycharm": {
     "name": "#%%\n"
    }
   },
   "outputs": [
    {
     "data": {
      "text/plain": [
       "array([0, 1])"
      ]
     },
     "execution_count": 103,
     "metadata": {},
     "output_type": "execute_result"
    }
   ],
   "source": [
    "np.unique(prediction)"
   ]
  },
  {
   "cell_type": "code",
   "execution_count": 104,
   "id": "global-circular",
   "metadata": {
    "pycharm": {
     "name": "#%%\n"
    }
   },
   "outputs": [
    {
     "data": {
      "text/html": [
       "<div>\n",
       "<style scoped>\n",
       "    .dataframe tbody tr th:only-of-type {\n",
       "        vertical-align: middle;\n",
       "    }\n",
       "\n",
       "    .dataframe tbody tr th {\n",
       "        vertical-align: top;\n",
       "    }\n",
       "\n",
       "    .dataframe thead th {\n",
       "        text-align: right;\n",
       "    }\n",
       "</style>\n",
       "<table border=\"1\" class=\"dataframe\">\n",
       "  <thead>\n",
       "    <tr style=\"text-align: right;\">\n",
       "      <th></th>\n",
       "      <th>Measure</th>\n",
       "      <th>Source</th>\n",
       "    </tr>\n",
       "  </thead>\n",
       "  <tbody>\n",
       "    <tr>\n",
       "      <th>0</th>\n",
       "      <td>Accuracy</td>\n",
       "      <td>0.634</td>\n",
       "    </tr>\n",
       "    <tr>\n",
       "      <th>1</th>\n",
       "      <td>Precision</td>\n",
       "      <td>0.501</td>\n",
       "    </tr>\n",
       "    <tr>\n",
       "      <th>2</th>\n",
       "      <td>Recall</td>\n",
       "      <td>0.898</td>\n",
       "    </tr>\n",
       "    <tr>\n",
       "      <th>3</th>\n",
       "      <td>FPR</td>\n",
       "      <td>0.520</td>\n",
       "    </tr>\n",
       "    <tr>\n",
       "      <th>4</th>\n",
       "      <td>FNR</td>\n",
       "      <td>0.102</td>\n",
       "    </tr>\n",
       "    <tr>\n",
       "      <th>5</th>\n",
       "      <td>F1</td>\n",
       "      <td>0.643</td>\n",
       "    </tr>\n",
       "    <tr>\n",
       "      <th>6</th>\n",
       "      <td>roc_auc</td>\n",
       "      <td>0.689</td>\n",
       "    </tr>\n",
       "  </tbody>\n",
       "</table>\n",
       "</div>"
      ],
      "text/plain": [
       "     Measure  Source\n",
       "0   Accuracy   0.634\n",
       "1  Precision   0.501\n",
       "2     Recall   0.898\n",
       "3        FPR   0.520\n",
       "4        FNR   0.102\n",
       "5         F1   0.643\n",
       "6    roc_auc   0.689"
      ]
     },
     "metadata": {},
     "output_type": "display_data"
    }
   ],
   "source": [
    "display(evaluate_model(prediction, Y_test))"
   ]
  },
  {
   "cell_type": "code",
   "execution_count": 16,
   "id": "preliminary-probability",
   "metadata": {
    "pycharm": {
     "name": "#%%\n"
    }
   },
   "outputs": [
    {
     "data": {
      "text/plain": [
       "'Feature Importance'"
      ]
     },
     "metadata": {},
     "output_type": "display_data"
    },
    {
     "data": {
      "image/png": "[encoded data removed]",
      "text/plain": [
       "<Figure size 432x288 with 1 Axes>"
      ]
     },
     "metadata": {},
     "output_type": "display_data"
    }
   ],
   "source": [
    "columns = ['edge_wtf', 'W', 'CN', 'AA', 'HP', 'HD', 'JC', 'LHN', 'RA', 'SA', 'SO', 'avg_deg', \n",
    "           'CN_WT', 'AA_WT', 'HP_WT', 'HD_WT', 'JC_WT', 'LHN_WT', 'RA_WT', 'SA_WT', 'SO_WT']\n",
    "feature_importance(columns, classifier)"
   ]
  },
  {
   "cell_type": "markdown",
   "id": "olive-version",
   "metadata": {},
   "source": [
    "### build the predicted Graph"
   ]
  },
  {
   "cell_type": "code",
   "execution_count": null,
   "id": "elder-planner",
   "metadata": {
    "pycharm": {
     "name": "#%%\n"
    }
   },
   "outputs": [],
   "source": [
    "joblib.dump(classifier, \"./random_forest.joblib\")"
   ]
  },
  {
   "cell_type": "markdown",
   "id": "searching-notice",
   "metadata": {},
   "source": [
    "### build the predicted Graph"
   ]
  },
  {
   "cell_type": "code",
   "execution_count": null,
   "id": "controversial-showcase",
   "metadata": {
    "pycharm": {
     "name": "#%%\n"
    }
   },
   "outputs": [],
   "source": [
    "real_graph_2012 = json_graph.node_link_graph(\n",
    "            utilities.read_json(\"/home/c6/Desktop/OpenWPM/jsons/AST/CDX_results/Graphs/2012/Graph.json\"))\n",
    "\n",
    "concat_pred = [testing_WT_df.iloc[:,0:2],X_test, pd.Series(prediction)]\n",
    "predicted_graph_2012 = pd.concat(concat_pred,axis=1)\n"
   ]
  },
  {
   "cell_type": "code",
   "execution_count": null,
   "id": "helpful-sleeping",
   "metadata": {
    "pycharm": {
     "name": "#%%\n"
    }
   },
   "outputs": [],
   "source": [
    "predicted_graph_2012\n"
   ]
  },
  {
   "cell_type": "markdown",
   "id": "cardiac-heritage",
   "metadata": {},
   "source": [
    "# Predicting Year : 2013"
   ]
  },
  {
   "cell_type": "markdown",
   "id": "normal-beijing",
   "metadata": {},
   "source": [
    "### Upload Weighted Temporal Dataset"
   ]
  },
  {
   "cell_type": "code",
   "execution_count": 27,
   "id": "blank-complexity",
   "metadata": {
    "pycharm": {
     "name": "#%%\n"
    }
   },
   "outputs": [
    {
     "data": {
      "text/html": [
       "<div>\n",
       "<style scoped>\n",
       "    .dataframe tbody tr th:only-of-type {\n",
       "        vertical-align: middle;\n",
       "    }\n",
       "\n",
       "    .dataframe tbody tr th {\n",
       "        vertical-align: top;\n",
       "    }\n",
       "\n",
       "    .dataframe thead th {\n",
       "        text-align: right;\n",
       "    }\n",
       "</style>\n",
       "<table border=\"1\" class=\"dataframe\">\n",
       "  <thead>\n",
       "    <tr style=\"text-align: right;\">\n",
       "      <th></th>\n",
       "      <th>edge_wtf</th>\n",
       "      <th>W</th>\n",
       "      <th>CN_WT</th>\n",
       "      <th>AA_WT</th>\n",
       "      <th>HP_WT</th>\n",
       "      <th>HD_WT</th>\n",
       "      <th>JC_WT</th>\n",
       "      <th>LHN_WT</th>\n",
       "      <th>RA_WT</th>\n",
       "      <th>SA_WT</th>\n",
       "      <th>SO_WT</th>\n",
       "      <th>avg_deg</th>\n",
       "    </tr>\n",
       "  </thead>\n",
       "  <tbody>\n",
       "    <tr>\n",
       "      <th>0</th>\n",
       "      <td>5.052</td>\n",
       "      <td>2.176</td>\n",
       "      <td>736.846</td>\n",
       "      <td>120.079</td>\n",
       "      <td>2.021</td>\n",
       "      <td>1.927</td>\n",
       "      <td>0.986</td>\n",
       "      <td>0.005</td>\n",
       "      <td>20.899</td>\n",
       "      <td>20.899</td>\n",
       "      <td>1.973</td>\n",
       "      <td>1233.500</td>\n",
       "    </tr>\n",
       "    <tr>\n",
       "      <th>1</th>\n",
       "      <td>0.755</td>\n",
       "      <td>0.325</td>\n",
       "      <td>450.056</td>\n",
       "      <td>69.905</td>\n",
       "      <td>4.708</td>\n",
       "      <td>1.234</td>\n",
       "      <td>0.978</td>\n",
       "      <td>0.013</td>\n",
       "      <td>8.519</td>\n",
       "      <td>8.519</td>\n",
       "      <td>1.956</td>\n",
       "      <td>994.500</td>\n",
       "    </tr>\n",
       "    <tr>\n",
       "      <th>2</th>\n",
       "      <td>1.285</td>\n",
       "      <td>0.554</td>\n",
       "      <td>507.091</td>\n",
       "      <td>81.943</td>\n",
       "      <td>3.434</td>\n",
       "      <td>1.391</td>\n",
       "      <td>0.990</td>\n",
       "      <td>0.009</td>\n",
       "      <td>12.763</td>\n",
       "      <td>12.763</td>\n",
       "      <td>1.980</td>\n",
       "      <td>1140.500</td>\n",
       "    </tr>\n",
       "    <tr>\n",
       "      <th>3</th>\n",
       "      <td>2.694</td>\n",
       "      <td>1.160</td>\n",
       "      <td>622.553</td>\n",
       "      <td>102.467</td>\n",
       "      <td>2.355</td>\n",
       "      <td>1.708</td>\n",
       "      <td>0.990</td>\n",
       "      <td>0.006</td>\n",
       "      <td>18.039</td>\n",
       "      <td>18.039</td>\n",
       "      <td>1.980</td>\n",
       "      <td>1193.000</td>\n",
       "    </tr>\n",
       "    <tr>\n",
       "      <th>4</th>\n",
       "      <td>2.580</td>\n",
       "      <td>1.111</td>\n",
       "      <td>606.818</td>\n",
       "      <td>99.336</td>\n",
       "      <td>2.445</td>\n",
       "      <td>1.664</td>\n",
       "      <td>0.990</td>\n",
       "      <td>0.007</td>\n",
       "      <td>16.622</td>\n",
       "      <td>16.622</td>\n",
       "      <td>1.981</td>\n",
       "      <td>1175.000</td>\n",
       "    </tr>\n",
       "  </tbody>\n",
       "</table>\n",
       "</div>"
      ],
      "text/plain": [
       "   edge_wtf     W   CN_WT   AA_WT  HP_WT  HD_WT  JC_WT  LHN_WT  RA_WT  SA_WT  \\\n",
       "0     5.052 2.176 736.846 120.079  2.021  1.927  0.986   0.005 20.899 20.899   \n",
       "1     0.755 0.325 450.056  69.905  4.708  1.234  0.978   0.013  8.519  8.519   \n",
       "2     1.285 0.554 507.091  81.943  3.434  1.391  0.990   0.009 12.763 12.763   \n",
       "3     2.694 1.160 622.553 102.467  2.355  1.708  0.990   0.006 18.039 18.039   \n",
       "4     2.580 1.111 606.818  99.336  2.445  1.664  0.990   0.007 16.622 16.622   \n",
       "\n",
       "   SO_WT  avg_deg  \n",
       "0  1.973 1233.500  \n",
       "1  1.956  994.500  \n",
       "2  1.980 1140.500  \n",
       "3  1.980 1193.000  \n",
       "4  1.981 1175.000  "
      ]
     },
     "execution_count": 27,
     "metadata": {},
     "output_type": "execute_result"
    }
   ],
   "source": [
    "with open(\"/home/c6/Desktop/OpenWPM/jsons/Prediction_new/WT/2013/train/dataframe.csv\", newline='') as csvfile:\n",
    "    training_WT_df = pd.read_csv(csvfile)\n",
    "\n",
    "training_WT_df['avg_deg'] = (training_WT_df['deg_e1']+training_WT_df['deg_e2'])/2\n",
    "training_WT_df = training_WT_df.drop(['deg_e1', 'deg_e2'], axis=1)\n",
    "training_WT_df = training_WT_df[['e1','e2','edge_wtf','W','CN','AA','HP','HD','JC','LHN','RA','SA','SO','avg_deg','label']]\n",
    "training_WT_df = training_WT_df.rename(columns={\"CN\": \"CN_WT\", \"AA\": \"AA_WT\", \"HP\": \"HP_WT\", \"HD\": \"HD_WT\", \"JC\": \"JC_WT\", \"LHN\": \"LHN_WT\",\n",
    "                  \"RA\": \"RA_WT\", \"SA\": \"SA_WT\", \"SO\": \"SO_WT\"})\n",
    "\n",
    "X_WT_train = training_WT_df.iloc[:,2:-1]\n",
    "Y_train = training_WT_df.iloc[:]['label']\n",
    "\n",
    "X_WT_train.head()\n",
    "\n",
    "with open(\"/home/c6/Desktop/OpenWPM/jsons/Prediction_new/WT/2013/test/dataframe.csv\", newline='') as csvfile:\n",
    "    testing_WT_df = pd.read_csv(csvfile)\n",
    "\n",
    "testing_WT_df['avg_deg'] = (testing_WT_df['deg_e1']+testing_WT_df['deg_e2'])/2\n",
    "testing_WT_df = testing_WT_df.drop(['deg_e1', 'deg_e2'], axis=1)\n",
    "testing_WT_df = testing_WT_df[['e1','e2','edge_wtf','W','CN','AA','HP','HD','JC','LHN','RA','SA','SO','avg_deg','label']]\n",
    "testing_WT_df = testing_WT_df.rename(columns={\"CN\": \"CN_WT\", \"AA\": \"AA_WT\", \"HP\": \"HP_WT\", \"HD\": \"HD_WT\", \"JC\": \"JC_WT\", \"LHN\": \"LHN_WT\",\n",
    "                  \"RA\": \"RA_WT\", \"SA\": \"SA_WT\", \"SO\": \"SO_WT\"})\n",
    "\n",
    "\n",
    "X_WT_test = testing_WT_df.iloc[:,2:-1]\n",
    "Y_test = testing_WT_df.iloc[:]['label']\n",
    "\n",
    "X_WT_test.head()"
   ]
  },
  {
   "cell_type": "code",
   "execution_count": 28,
   "id": "orange-world",
   "metadata": {
    "pycharm": {
     "name": "#%%\n"
    }
   },
   "outputs": [
    {
     "data": {
      "text/plain": [
       "(254704, 12)"
      ]
     },
     "execution_count": 28,
     "metadata": {},
     "output_type": "execute_result"
    }
   ],
   "source": [
    "X_WT_train.shape"
   ]
  },
  {
   "cell_type": "markdown",
   "id": "quantitative-paris",
   "metadata": {},
   "source": [
    "### Upload Unweighted non-Temporal Dataset"
   ]
  },
  {
   "cell_type": "code",
   "execution_count": 29,
   "id": "literary-conversion",
   "metadata": {
    "pycharm": {
     "name": "#%%\n"
    }
   },
   "outputs": [
    {
     "data": {
      "text/html": [
       "<div>\n",
       "<style scoped>\n",
       "    .dataframe tbody tr th:only-of-type {\n",
       "        vertical-align: middle;\n",
       "    }\n",
       "\n",
       "    .dataframe tbody tr th {\n",
       "        vertical-align: top;\n",
       "    }\n",
       "\n",
       "    .dataframe thead th {\n",
       "        text-align: right;\n",
       "    }\n",
       "</style>\n",
       "<table border=\"1\" class=\"dataframe\">\n",
       "  <thead>\n",
       "    <tr style=\"text-align: right;\">\n",
       "      <th></th>\n",
       "      <th>CN</th>\n",
       "      <th>AA</th>\n",
       "      <th>HP</th>\n",
       "      <th>HD</th>\n",
       "      <th>JC</th>\n",
       "      <th>LHN</th>\n",
       "      <th>RA</th>\n",
       "      <th>SA</th>\n",
       "      <th>SO</th>\n",
       "    </tr>\n",
       "  </thead>\n",
       "  <tbody>\n",
       "    <tr>\n",
       "      <th>0</th>\n",
       "      <td>1230</td>\n",
       "      <td>150.995</td>\n",
       "      <td>0.999</td>\n",
       "      <td>0.995</td>\n",
       "      <td>0.994</td>\n",
       "      <td>0.001</td>\n",
       "      <td>5.311</td>\n",
       "      <td>5.311</td>\n",
       "      <td>0.997</td>\n",
       "    </tr>\n",
       "    <tr>\n",
       "      <th>1</th>\n",
       "      <td>757</td>\n",
       "      <td>86.359</td>\n",
       "      <td>0.999</td>\n",
       "      <td>0.615</td>\n",
       "      <td>0.614</td>\n",
       "      <td>0.001</td>\n",
       "      <td>1.993</td>\n",
       "      <td>1.993</td>\n",
       "      <td>0.761</td>\n",
       "    </tr>\n",
       "    <tr>\n",
       "      <th>2</th>\n",
       "      <td>1049</td>\n",
       "      <td>123.736</td>\n",
       "      <td>0.999</td>\n",
       "      <td>0.852</td>\n",
       "      <td>0.851</td>\n",
       "      <td>0.001</td>\n",
       "      <td>3.363</td>\n",
       "      <td>3.363</td>\n",
       "      <td>0.920</td>\n",
       "    </tr>\n",
       "    <tr>\n",
       "      <th>3</th>\n",
       "      <td>1150</td>\n",
       "      <td>139.936</td>\n",
       "      <td>0.996</td>\n",
       "      <td>0.934</td>\n",
       "      <td>0.930</td>\n",
       "      <td>0.001</td>\n",
       "      <td>4.722</td>\n",
       "      <td>4.722</td>\n",
       "      <td>0.964</td>\n",
       "    </tr>\n",
       "    <tr>\n",
       "      <th>4</th>\n",
       "      <td>1116</td>\n",
       "      <td>134.436</td>\n",
       "      <td>0.997</td>\n",
       "      <td>0.907</td>\n",
       "      <td>0.904</td>\n",
       "      <td>0.001</td>\n",
       "      <td>4.243</td>\n",
       "      <td>4.243</td>\n",
       "      <td>0.950</td>\n",
       "    </tr>\n",
       "  </tbody>\n",
       "</table>\n",
       "</div>"
      ],
      "text/plain": [
       "     CN      AA    HP    HD    JC   LHN    RA    SA    SO\n",
       "0  1230 150.995 0.999 0.995 0.994 0.001 5.311 5.311 0.997\n",
       "1   757  86.359 0.999 0.615 0.614 0.001 1.993 1.993 0.761\n",
       "2  1049 123.736 0.999 0.852 0.851 0.001 3.363 3.363 0.920\n",
       "3  1150 139.936 0.996 0.934 0.930 0.001 4.722 4.722 0.964\n",
       "4  1116 134.436 0.997 0.907 0.904 0.001 4.243 4.243 0.950"
      ]
     },
     "execution_count": 29,
     "metadata": {},
     "output_type": "execute_result"
    }
   ],
   "source": [
    "with open(\"/home/c6/Desktop/OpenWPM/jsons/Prediction_new/non_temporal_unweighted/2013/train/dataframe.csv\", newline='') as csvfile:\n",
    "    training_non_df = pd.read_csv(csvfile)\n",
    "\n",
    "training_non_df = training_non_df.drop(['deg_e1', 'deg_e2'], axis=1)\n",
    "training_non_df = training_non_df[['e1','e2','CN','AA','HP','HD','JC','LHN','RA','SA','SO','label']]\n",
    "\n",
    "X_non_train = training_non_df.iloc[:,2:-1]\n",
    "#Y_train = training_df.iloc[:]['label']\n",
    "\n",
    "#X_train.head()\n",
    "\n",
    "with open(\"/home/c6/Desktop/OpenWPM/jsons/Prediction_new/non_temporal_unweighted/2013/test/dataframe.csv\", newline='') as csvfile:\n",
    "    testing_non_df = pd.read_csv(csvfile)\n",
    "\n",
    "testing_non_df = testing_non_df.drop(['deg_e1', 'deg_e2'], axis=1)\n",
    "testing_non_df = testing_non_df[['e1','e2','CN','AA','HP','HD','JC','LHN','RA','SA','SO','label']]\n",
    "\n",
    "\n",
    "X_non_test = testing_non_df.iloc[:,2:-1]\n",
    "#Y_test = testing_df.iloc[:]['label']\n",
    "\n",
    "X_non_test.head()"
   ]
  },
  {
   "cell_type": "code",
   "execution_count": 88,
   "id": "typical-disposal",
   "metadata": {
    "pycharm": {
     "name": "#%%\n"
    }
   },
   "outputs": [
    {
     "data": {
      "text/plain": [
       "(303579, 16)"
      ]
     },
     "execution_count": 88,
     "metadata": {},
     "output_type": "execute_result"
    }
   ],
   "source": [
    "with open(\"/home/c6/Desktop/OpenWPM/jsons/Prediction_new/non_temporal_unweighted/2013/test/dataframe.csv\", newline='') as csvfile:\n",
    "    testing_non_df = pd.read_csv(csvfile)\n",
    "testing_non_df.shape"
   ]
  },
  {
   "cell_type": "code",
   "execution_count": 89,
   "id": "isolated-crossing",
   "metadata": {
    "pycharm": {
     "name": "#%%\n"
    }
   },
   "outputs": [
    {
     "data": {
      "text/plain": [
       "(303579, 16)"
      ]
     },
     "execution_count": 89,
     "metadata": {},
     "output_type": "execute_result"
    }
   ],
   "source": [
    "with open(\"/home/c6/Desktop/OpenWPM/jsons/Prediction_new/WT/2013/test/dataframe.csv\", newline='') as csvfile:\n",
    "    testing_WT_df = pd.read_csv(csvfile)\n",
    "testing_WT_df.shape"
   ]
  },
  {
   "cell_type": "code",
   "execution_count": 90,
   "id": "innovative-david",
   "metadata": {
    "pycharm": {
     "name": "#%%\n"
    }
   },
   "outputs": [
    {
     "data": {
      "text/plain": [
       "(224744, 16)"
      ]
     },
     "execution_count": 90,
     "metadata": {},
     "output_type": "execute_result"
    }
   ],
   "source": [
    "with open(\"/home/c6/Desktop/OpenWPM/jsons/Prediction_new/non_temporal_unweighted/2013/train/dataframe.csv\", newline='') as csvfile:\n",
    "    training_WT_df = pd.read_csv(csvfile)\n",
    "training_WT_df.shape"
   ]
  },
  {
   "cell_type": "code",
   "execution_count": 91,
   "id": "social-while",
   "metadata": {
    "pycharm": {
     "name": "#%%\n"
    }
   },
   "outputs": [
    {
     "data": {
      "text/plain": [
       "(224744, 16)"
      ]
     },
     "execution_count": 91,
     "metadata": {},
     "output_type": "execute_result"
    }
   ],
   "source": [
    "with open(\"/home/c6/Desktop/OpenWPM/jsons/Prediction_new/WT/2013/train/dataframe.csv\", newline='') as csvfile:\n",
    "    training_non_df = pd.read_csv(csvfile)\n",
    "training_non_df.shape"
   ]
  },
  {
   "cell_type": "code",
   "execution_count": 92,
   "id": "daily-ladder",
   "metadata": {
    "pycharm": {
     "name": "#%%\n"
    }
   },
   "outputs": [],
   "source": [
    "from networkx.readwrite import json_graph\n",
    "G_addr = \"/home/c6/Desktop/OpenWPM/jsons/Prediction_new/non_temporal_unweighted/2013/test/Graph.json\"\n",
    "g = utilities.read_json(G_addr)\n",
    "G = json_graph.node_link_graph(g)"
   ]
  },
  {
   "cell_type": "code",
   "execution_count": 93,
   "id": "unique-spectrum",
   "metadata": {
    "pycharm": {
     "name": "#%%\n"
    }
   },
   "outputs": [],
   "source": [
    "H_addr = \"/home/c6/Desktop/OpenWPM/jsons/Prediction_new/WT/2013/test/Graph.json\"\n",
    "h = utilities.read_json(H_addr)\n",
    "H = json_graph.node_link_graph(h)"
   ]
  },
  {
   "cell_type": "code",
   "execution_count": 94,
   "id": "italian-remainder",
   "metadata": {
    "pycharm": {
     "name": "#%%\n"
    }
   },
   "outputs": [
    {
     "data": {
      "text/plain": [
       "1237"
      ]
     },
     "execution_count": 94,
     "metadata": {},
     "output_type": "execute_result"
    }
   ],
   "source": [
    "len(G.nodes())"
   ]
  },
  {
   "cell_type": "code",
   "execution_count": 95,
   "id": "approximate-seattle",
   "metadata": {
    "pycharm": {
     "name": "#%%\n"
    }
   },
   "outputs": [
    {
     "data": {
      "text/plain": [
       "1237"
      ]
     },
     "execution_count": 95,
     "metadata": {},
     "output_type": "execute_result"
    }
   ],
   "source": [
    "len(H.nodes())"
   ]
  },
  {
   "cell_type": "code",
   "execution_count": 96,
   "id": "mediterranean-virus",
   "metadata": {
    "pycharm": {
     "name": "#%%\n"
    }
   },
   "outputs": [
    {
     "data": {
      "text/plain": [
       "254704"
      ]
     },
     "execution_count": 96,
     "metadata": {},
     "output_type": "execute_result"
    }
   ],
   "source": [
    "len(G.edges())"
   ]
  },
  {
   "cell_type": "code",
   "execution_count": 97,
   "id": "historical-labor",
   "metadata": {
    "pycharm": {
     "name": "#%%\n"
    }
   },
   "outputs": [
    {
     "data": {
      "text/plain": [
       "254704"
      ]
     },
     "execution_count": 97,
     "metadata": {},
     "output_type": "execute_result"
    }
   ],
   "source": [
    "len(H.edges())"
   ]
  },
  {
   "cell_type": "code",
   "execution_count": 98,
   "id": "convinced-parts",
   "metadata": {
    "pycharm": {
     "name": "#%%\n"
    }
   },
   "outputs": [
    {
     "data": {
      "text/plain": [
       "918049"
      ]
     },
     "execution_count": 98,
     "metadata": {},
     "output_type": "execute_result"
    }
   ],
   "source": [
    "disconnection_addr = \"/home/c6/Desktop/OpenWPM/jsons/Prediction_new/non_temporal_unweighted/2013/test/disconnect.json\"\n",
    "disconnection = utilities.read_json(disconnection_addr)\n",
    "len(disconnection)"
   ]
  },
  {
   "cell_type": "code",
   "execution_count": 99,
   "id": "sapphire-novel",
   "metadata": {
    "pycharm": {
     "name": "#%%\n"
    }
   },
   "outputs": [
    {
     "data": {
      "text/plain": [
       "918049"
      ]
     },
     "execution_count": 99,
     "metadata": {},
     "output_type": "execute_result"
    }
   ],
   "source": [
    "disconnection_addr = \"/home/c6/Desktop/OpenWPM/jsons/Prediction_new/WT/2013/test/disconnect.json\"\n",
    "disconnection = utilities.read_json(disconnection_addr)\n",
    "len(disconnection)"
   ]
  },
  {
   "cell_type": "markdown",
   "id": "based-tourism",
   "metadata": {},
   "source": [
    "### Merge Datasets"
   ]
  },
  {
   "cell_type": "code",
   "execution_count": 32,
   "id": "urban-chrome",
   "metadata": {
    "pycharm": {
     "name": "#%%\n"
    }
   },
   "outputs": [],
   "source": [
    "training_frames = [X_WT_train, X_non_train]\n",
    "testing_frames = [X_WT_test, X_non_test]\n",
    "\n",
    "X_train = pd.concat(training_frames,axis=1)\n",
    "X_test = pd.concat(testing_frames,axis=1)"
   ]
  },
  {
   "cell_type": "code",
   "execution_count": 33,
   "id": "after-helicopter",
   "metadata": {
    "pycharm": {
     "name": "#%%\n"
    }
   },
   "outputs": [
    {
     "name": "stdout",
     "output_type": "stream",
     "text": [
      "Positive Samples:  137429\n",
      "Negative_samples:  117275\n"
     ]
    }
   ],
   "source": [
    "positive_samples = 0\n",
    "negative_sample = 0\n",
    "for i in Y_train:\n",
    "    if i==1:\n",
    "        positive_samples += 1\n",
    "    else:\n",
    "        negative_sample += 1\n",
    "\n",
    "print(\"Positive Samples: \", positive_samples)\n",
    "print(\"Negative_samples: \", negative_sample)"
   ]
  },
  {
   "cell_type": "markdown",
   "id": "explicit-blink",
   "metadata": {},
   "source": [
    "### upsample minority class"
   ]
  },
  {
   "cell_type": "code",
   "execution_count": null,
   "id": "instructional-connection",
   "metadata": {
    "pycharm": {
     "name": "#%%\n"
    }
   },
   "outputs": [],
   "source": [
    "# Separate majority and minority classes\n",
    "training_df_cat = [X_train, Y_train]\n",
    "training_df = pd.concat(training_df_cat,axis=1)\n",
    "\n",
    "df_majority = training_df[training_df.label==0]\n",
    "df_minority = training_df[training_df.label==1]\n",
    "\n",
    "# Upsample minority class\n",
    "df_minority_upsampled = resample(df_minority,\n",
    "                                 replace=True,     # sample with replacement\n",
    "                                 n_samples=272827,    # to match majority class\n",
    "                                 random_state=123) # reproducible results\n",
    "\n",
    "# Combine majority class with upsampled minority class\n",
    "df_upsampled = pd.concat([df_majority, df_minority_upsampled])\n",
    "\n",
    "# Display new class counts\n",
    "df_upsampled.label.value_counts()\n",
    "X_train = df_upsampled.iloc[:,0:-1]\n",
    "Y_train = df_upsampled.iloc[:]['label']\n",
    "# 1    576\n",
    "# 0    576\n",
    "# Name: balance, dtype: int64"
   ]
  },
  {
   "cell_type": "markdown",
   "id": "stainless-bacteria",
   "metadata": {},
   "source": [
    "* define evaluation function"
   ]
  },
  {
   "cell_type": "code",
   "execution_count": 34,
   "id": "approved-television",
   "metadata": {
    "pycharm": {
     "name": "#%%\n"
    }
   },
   "outputs": [],
   "source": [
    "def evaluate_model(predictions, actual):\n",
    "    TP = 0\n",
    "    FP = 0\n",
    "    TN = 0\n",
    "    FN = 0\n",
    "\n",
    "    for i in range(len(predictions)):\n",
    "        if actual[i]==predictions[i]==1:\n",
    "            TP += 1\n",
    "        if predictions[i]==1 and actual[i]!=predictions[i]:\n",
    "            FP += 1\n",
    "        if actual[i]==predictions[i]==0:\n",
    "            TN += 1\n",
    "        if predictions[i]==0 and actual[i]!=predictions[i]:\n",
    "            FN += 1\n",
    "    return pd.DataFrame({\n",
    "        \"Measure\": [\"Accuracy\", \"Precision\", \"Recall\", \"FPR\", \"FNR\", \"F1\"],\n",
    "        \"Source\": [accuracy_score(actual, predictions),\n",
    "                   precision_score(actual, predictions),\n",
    "                   recall_score(actual, predictions),\n",
    "                   FP/(FP+TN),\n",
    "                   FN/(FN+TP),\n",
    "                   f1_score(actual, predictions)]\n",
    "    })"
   ]
  },
  {
   "cell_type": "markdown",
   "id": "perfect-contents",
   "metadata": {},
   "source": [
    "* Find important features"
   ]
  },
  {
   "cell_type": "code",
   "execution_count": 35,
   "id": "photographic-monitor",
   "metadata": {
    "pycharm": {
     "name": "#%%\n"
    }
   },
   "outputs": [],
   "source": [
    "def feature_importance(columns, classifier):\n",
    "    display(\"Feature Importance\")\n",
    "    df = pd.DataFrame({\"Features\": columns,\n",
    "                      \"Importance\": classifier.feature_importances_})\n",
    "    df = df.sort_values(\"Importance\", ascending=False)\n",
    "    ax = df.plot(kind='bar', x='Features', y='Importance', legend=None)\n",
    "    #ax.xaxist.set_label_text(\"\")\n",
    "    plt.tight_layout()\n",
    "    plt.show"
   ]
  },
  {
   "cell_type": "markdown",
   "id": "french-helmet",
   "metadata": {},
   "source": [
    " ### choose a ML algorithm"
   ]
  },
  {
   "cell_type": "markdown",
   "id": "earned-wallet",
   "metadata": {},
   "source": [
    "### 1. Random Forest"
   ]
  },
  {
   "cell_type": "code",
   "execution_count": 36,
   "id": "particular-omega",
   "metadata": {
    "pycharm": {
     "name": "#%%\n"
    }
   },
   "outputs": [],
   "source": [
    "classifier = RandomForestClassifier(n_estimators=100, max_depth=20, criterion=\"entropy\", class_weight={0: 1, 1: 4})"
   ]
  },
  {
   "cell_type": "markdown",
   "id": "lasting-length",
   "metadata": {},
   "source": [
    "### Train and predict"
   ]
  },
  {
   "cell_type": "code",
   "execution_count": 37,
   "id": "political-wedding",
   "metadata": {
    "pycharm": {
     "name": "#%%\n"
    }
   },
   "outputs": [
    {
     "data": {
      "text/plain": [
       "RandomForestClassifier(class_weight={0: 1, 1: 4}, criterion='entropy',\n",
       "                       max_depth=20)"
      ]
     },
     "execution_count": 37,
     "metadata": {},
     "output_type": "execute_result"
    }
   ],
   "source": [
    "classifier.fit(X_train, Y_train)"
   ]
  },
  {
   "cell_type": "code",
   "execution_count": 38,
   "id": "liberal-share",
   "metadata": {
    "pycharm": {
     "name": "#%%\n"
    }
   },
   "outputs": [],
   "source": [
    "prediction = classifier.predict(X_test)"
   ]
  },
  {
   "cell_type": "code",
   "execution_count": 39,
   "id": "supposed-auckland",
   "metadata": {
    "pycharm": {
     "name": "#%%\n"
    }
   },
   "outputs": [
    {
     "data": {
      "text/plain": [
       "(345528,)"
      ]
     },
     "execution_count": 39,
     "metadata": {},
     "output_type": "execute_result"
    }
   ],
   "source": [
    "prediction.shape"
   ]
  },
  {
   "cell_type": "code",
   "execution_count": 40,
   "id": "nervous-modern",
   "metadata": {
    "pycharm": {
     "name": "#%%\n"
    }
   },
   "outputs": [
    {
     "data": {
      "text/plain": [
       "array([0, 1])"
      ]
     },
     "execution_count": 40,
     "metadata": {},
     "output_type": "execute_result"
    }
   ],
   "source": [
    "np.unique(prediction)"
   ]
  },
  {
   "cell_type": "code",
   "execution_count": 41,
   "id": "harmful-playing",
   "metadata": {
    "pycharm": {
     "name": "#%%\n"
    }
   },
   "outputs": [
    {
     "data": {
      "text/html": [
       "<div>\n",
       "<style scoped>\n",
       "    .dataframe tbody tr th:only-of-type {\n",
       "        vertical-align: middle;\n",
       "    }\n",
       "\n",
       "    .dataframe tbody tr th {\n",
       "        vertical-align: top;\n",
       "    }\n",
       "\n",
       "    .dataframe thead th {\n",
       "        text-align: right;\n",
       "    }\n",
       "</style>\n",
       "<table border=\"1\" class=\"dataframe\">\n",
       "  <thead>\n",
       "    <tr style=\"text-align: right;\">\n",
       "      <th></th>\n",
       "      <th>Measure</th>\n",
       "      <th>Source</th>\n",
       "    </tr>\n",
       "  </thead>\n",
       "  <tbody>\n",
       "    <tr>\n",
       "      <th>0</th>\n",
       "      <td>Accuracy</td>\n",
       "      <td>0.879</td>\n",
       "    </tr>\n",
       "    <tr>\n",
       "      <th>1</th>\n",
       "      <td>Precision</td>\n",
       "      <td>0.853</td>\n",
       "    </tr>\n",
       "    <tr>\n",
       "      <th>2</th>\n",
       "      <td>Recall</td>\n",
       "      <td>0.971</td>\n",
       "    </tr>\n",
       "    <tr>\n",
       "      <th>3</th>\n",
       "      <td>FPR</td>\n",
       "      <td>0.268</td>\n",
       "    </tr>\n",
       "    <tr>\n",
       "      <th>4</th>\n",
       "      <td>FNR</td>\n",
       "      <td>0.029</td>\n",
       "    </tr>\n",
       "    <tr>\n",
       "      <th>5</th>\n",
       "      <td>F1</td>\n",
       "      <td>0.908</td>\n",
       "    </tr>\n",
       "  </tbody>\n",
       "</table>\n",
       "</div>"
      ],
      "text/plain": [
       "     Measure  Source\n",
       "0   Accuracy   0.879\n",
       "1  Precision   0.853\n",
       "2     Recall   0.971\n",
       "3        FPR   0.268\n",
       "4        FNR   0.029\n",
       "5         F1   0.908"
      ]
     },
     "metadata": {},
     "output_type": "display_data"
    }
   ],
   "source": [
    "display(evaluate_model(prediction, Y_test))"
   ]
  },
  {
   "cell_type": "code",
   "execution_count": 57,
   "id": "freelance-fusion",
   "metadata": {
    "pycharm": {
     "name": "#%%\n"
    }
   },
   "outputs": [
    {
     "data": {
      "text/plain": [
       "'Feature Importance'"
      ]
     },
     "metadata": {},
     "output_type": "display_data"
    },
    {
     "data": {
      "image/png": "[encoded data removed]",
      "text/plain": [
       "<Figure size 432x288 with 1 Axes>"
      ]
     },
     "metadata": {},
     "output_type": "display_data"
    }
   ],
   "source": [
    "columns = ['edge_wtf', 'W', 'CN', 'AA', 'HP', 'HD', 'JC', 'LHN', 'RA', 'SA', 'SO', 'avg_deg',\n",
    "           'CN_WT', 'AA_WT', 'HP_WT', 'HD_WT', 'JC_WT', 'LHN_WT', 'RA_WT', 'SA_WT', 'SO_WT']\n",
    "feature_importance(columns, classifier)"
   ]
  },
  {
   "cell_type": "markdown",
   "id": "elementary-rebate",
   "metadata": {},
   "source": [
    "### build the predicted Graph"
   ]
  },
  {
   "cell_type": "code",
   "execution_count": null,
   "id": "dated-times",
   "metadata": {
    "pycharm": {
     "name": "#%%\n"
    }
   },
   "outputs": [],
   "source": [
    "joblib.dump(classifier, \"./random_forest.joblib\")"
   ]
  },
  {
   "cell_type": "markdown",
   "id": "supported-prediction",
   "metadata": {},
   "source": [
    "### build the predicted Graph"
   ]
  },
  {
   "cell_type": "code",
   "execution_count": null,
   "id": "resident-michigan",
   "metadata": {
    "pycharm": {
     "name": "#%%\n"
    }
   },
   "outputs": [],
   "source": [
    "real_graph_2013 = json_graph.node_link_graph(\n",
    "            utilities.read_json(\"/home/c6/Desktop/OpenWPM/jsons/AST/CDX_results/Graphs/2013/Graph.json\"))\n",
    "\n",
    "concat_pred = [testing_WT_df.iloc[:,0:2],X_test, pd.Series(prediction)]\n",
    "predicted_graph_2013 = pd.concat(concat_pred,axis=1)\n"
   ]
  },
  {
   "cell_type": "code",
   "execution_count": null,
   "id": "facial-stopping",
   "metadata": {
    "pycharm": {
     "name": "#%%\n"
    }
   },
   "outputs": [],
   "source": [
    "predicted_graph_2013\n"
   ]
  },
  {
   "cell_type": "markdown",
   "id": "infectious-threshold",
   "metadata": {},
   "source": [
    "# Predicting Year : 2014"
   ]
  },
  {
   "cell_type": "markdown",
   "id": "developed-parliament",
   "metadata": {},
   "source": [
    "### Upload Weighted Temporal Dataset"
   ]
  },
  {
   "cell_type": "code",
   "execution_count": 42,
   "id": "hundred-organizer",
   "metadata": {
    "pycharm": {
     "name": "#%%\n"
    }
   },
   "outputs": [
    {
     "data": {
      "text/html": [
       "<div>\n",
       "<style scoped>\n",
       "    .dataframe tbody tr th:only-of-type {\n",
       "        vertical-align: middle;\n",
       "    }\n",
       "\n",
       "    .dataframe tbody tr th {\n",
       "        vertical-align: top;\n",
       "    }\n",
       "\n",
       "    .dataframe thead th {\n",
       "        text-align: right;\n",
       "    }\n",
       "</style>\n",
       "<table border=\"1\" class=\"dataframe\">\n",
       "  <thead>\n",
       "    <tr style=\"text-align: right;\">\n",
       "      <th></th>\n",
       "      <th>edge_wtf</th>\n",
       "      <th>W</th>\n",
       "      <th>CN_WT</th>\n",
       "      <th>AA_WT</th>\n",
       "      <th>HP_WT</th>\n",
       "      <th>HD_WT</th>\n",
       "      <th>JC_WT</th>\n",
       "      <th>LHN_WT</th>\n",
       "      <th>RA_WT</th>\n",
       "      <th>SA_WT</th>\n",
       "      <th>SO_WT</th>\n",
       "      <th>avg_deg</th>\n",
       "    </tr>\n",
       "  </thead>\n",
       "  <tbody>\n",
       "    <tr>\n",
       "      <th>0</th>\n",
       "      <td>1.717</td>\n",
       "      <td>0.664</td>\n",
       "      <td>711.175</td>\n",
       "      <td>103.786</td>\n",
       "      <td>2.077</td>\n",
       "      <td>1.889</td>\n",
       "      <td>0.989</td>\n",
       "      <td>0.006</td>\n",
       "      <td>12.375</td>\n",
       "      <td>12.375</td>\n",
       "      <td>1.979</td>\n",
       "      <td>1273.500</td>\n",
       "    </tr>\n",
       "    <tr>\n",
       "      <th>1</th>\n",
       "      <td>0.408</td>\n",
       "      <td>0.158</td>\n",
       "      <td>435.832</td>\n",
       "      <td>61.455</td>\n",
       "      <td>4.154</td>\n",
       "      <td>1.273</td>\n",
       "      <td>0.974</td>\n",
       "      <td>0.012</td>\n",
       "      <td>5.460</td>\n",
       "      <td>5.460</td>\n",
       "      <td>1.949</td>\n",
       "      <td>1063.000</td>\n",
       "    </tr>\n",
       "    <tr>\n",
       "      <th>2</th>\n",
       "      <td>1.213</td>\n",
       "      <td>0.469</td>\n",
       "      <td>579.564</td>\n",
       "      <td>84.289</td>\n",
       "      <td>2.376</td>\n",
       "      <td>1.693</td>\n",
       "      <td>0.989</td>\n",
       "      <td>0.007</td>\n",
       "      <td>9.822</td>\n",
       "      <td>9.822</td>\n",
       "      <td>1.977</td>\n",
       "      <td>1213.000</td>\n",
       "    </tr>\n",
       "    <tr>\n",
       "      <th>3</th>\n",
       "      <td>0.144</td>\n",
       "      <td>0.056</td>\n",
       "      <td>351.379</td>\n",
       "      <td>47.210</td>\n",
       "      <td>10.534</td>\n",
       "      <td>1.026</td>\n",
       "      <td>0.935</td>\n",
       "      <td>0.031</td>\n",
       "      <td>3.360</td>\n",
       "      <td>3.360</td>\n",
       "      <td>1.871</td>\n",
       "      <td>868.500</td>\n",
       "    </tr>\n",
       "    <tr>\n",
       "      <th>4</th>\n",
       "      <td>3.307</td>\n",
       "      <td>1.279</td>\n",
       "      <td>606.167</td>\n",
       "      <td>86.695</td>\n",
       "      <td>2.234</td>\n",
       "      <td>1.771</td>\n",
       "      <td>0.988</td>\n",
       "      <td>0.007</td>\n",
       "      <td>10.074</td>\n",
       "      <td>10.074</td>\n",
       "      <td>1.975</td>\n",
       "      <td>1160.000</td>\n",
       "    </tr>\n",
       "  </tbody>\n",
       "</table>\n",
       "</div>"
      ],
      "text/plain": [
       "   edge_wtf     W   CN_WT   AA_WT  HP_WT  HD_WT  JC_WT  LHN_WT  RA_WT  SA_WT  \\\n",
       "0     1.717 0.664 711.175 103.786  2.077  1.889  0.989   0.006 12.375 12.375   \n",
       "1     0.408 0.158 435.832  61.455  4.154  1.273  0.974   0.012  5.460  5.460   \n",
       "2     1.213 0.469 579.564  84.289  2.376  1.693  0.989   0.007  9.822  9.822   \n",
       "3     0.144 0.056 351.379  47.210 10.534  1.026  0.935   0.031  3.360  3.360   \n",
       "4     3.307 1.279 606.167  86.695  2.234  1.771  0.988   0.007 10.074 10.074   \n",
       "\n",
       "   SO_WT  avg_deg  \n",
       "0  1.979 1273.500  \n",
       "1  1.949 1063.000  \n",
       "2  1.977 1213.000  \n",
       "3  1.871  868.500  \n",
       "4  1.975 1160.000  "
      ]
     },
     "execution_count": 42,
     "metadata": {},
     "output_type": "execute_result"
    }
   ],
   "source": [
    "with open(\"/home/c6/Desktop/OpenWPM/jsons/Prediction_new/WT/2014/train/dataframe.csv\", newline='') as csvfile:\n",
    "    training_WT_df = pd.read_csv(csvfile)\n",
    "\n",
    "training_WT_df['avg_deg'] = (training_WT_df['deg_e1']+training_WT_df['deg_e2'])/2\n",
    "training_WT_df = training_WT_df.drop(['deg_e1', 'deg_e2'], axis=1)\n",
    "training_WT_df = training_WT_df[['e1','e2','edge_wtf','W','CN','AA','HP','HD','JC','LHN','RA','SA','SO','avg_deg','label']]\n",
    "training_WT_df = training_WT_df.rename(columns={\"CN\": \"CN_WT\", \"AA\": \"AA_WT\", \"HP\": \"HP_WT\", \"HD\": \"HD_WT\", \"JC\": \"JC_WT\", \"LHN\": \"LHN_WT\",\n",
    "                  \"RA\": \"RA_WT\", \"SA\": \"SA_WT\", \"SO\": \"SO_WT\"})\n",
    "\n",
    "X_WT_train = training_WT_df.iloc[:,2:-1]\n",
    "Y_train = training_WT_df.iloc[:]['label']\n",
    "\n",
    "X_WT_train.head()\n",
    "\n",
    "with open(\"/home/c6/Desktop/OpenWPM/jsons/Prediction_new/WT/2014/test/dataframe.csv\", newline='') as csvfile:\n",
    "    testing_WT_df = pd.read_csv(csvfile)\n",
    "\n",
    "testing_WT_df['avg_deg'] = (testing_WT_df['deg_e1']+testing_WT_df['deg_e2'])/2\n",
    "testing_WT_df = testing_WT_df.drop(['deg_e1', 'deg_e2'], axis=1)\n",
    "testing_WT_df = testing_WT_df[['e1','e2','edge_wtf','W','CN','AA','HP','HD','JC','LHN','RA','SA','SO','avg_deg','label']]\n",
    "testing_WT_df = testing_WT_df.rename(columns={\"CN\": \"CN_WT\", \"AA\": \"AA_WT\", \"HP\": \"HP_WT\", \"HD\": \"HD_WT\", \"JC\": \"JC_WT\", \"LHN\": \"LHN_WT\",\n",
    "                  \"RA\": \"RA_WT\", \"SA\": \"SA_WT\", \"SO\": \"SO_WT\"})\n",
    "\n",
    "\n",
    "X_WT_test = testing_WT_df.iloc[:,2:-1]\n",
    "Y_test = testing_WT_df.iloc[:]['label']\n",
    "\n",
    "X_WT_test.head()"
   ]
  },
  {
   "cell_type": "code",
   "execution_count": 59,
   "id": "advanced-collector",
   "metadata": {
    "pycharm": {
     "name": "#%%\n"
    }
   },
   "outputs": [
    {
     "data": {
      "text/plain": [
       "(1172753, 12)"
      ]
     },
     "execution_count": 59,
     "metadata": {},
     "output_type": "execute_result"
    }
   ],
   "source": [
    "X_WT_train.shape"
   ]
  },
  {
   "cell_type": "markdown",
   "id": "aging-inflation",
   "metadata": {},
   "source": [
    "### Upload Unweighted non-Temporal Dataset"
   ]
  },
  {
   "cell_type": "code",
   "execution_count": 43,
   "id": "precious-chemical",
   "metadata": {
    "pycharm": {
     "name": "#%%\n"
    }
   },
   "outputs": [
    {
     "data": {
      "text/html": [
       "<div>\n",
       "<style scoped>\n",
       "    .dataframe tbody tr th:only-of-type {\n",
       "        vertical-align: middle;\n",
       "    }\n",
       "\n",
       "    .dataframe tbody tr th {\n",
       "        vertical-align: top;\n",
       "    }\n",
       "\n",
       "    .dataframe thead th {\n",
       "        text-align: right;\n",
       "    }\n",
       "</style>\n",
       "<table border=\"1\" class=\"dataframe\">\n",
       "  <thead>\n",
       "    <tr style=\"text-align: right;\">\n",
       "      <th></th>\n",
       "      <th>CN</th>\n",
       "      <th>AA</th>\n",
       "      <th>HP</th>\n",
       "      <th>HD</th>\n",
       "      <th>JC</th>\n",
       "      <th>LHN</th>\n",
       "      <th>RA</th>\n",
       "      <th>SA</th>\n",
       "      <th>SO</th>\n",
       "    </tr>\n",
       "  </thead>\n",
       "  <tbody>\n",
       "    <tr>\n",
       "      <th>0</th>\n",
       "      <td>1133</td>\n",
       "      <td>130.146</td>\n",
       "      <td>0.978</td>\n",
       "      <td>0.816</td>\n",
       "      <td>0.801</td>\n",
       "      <td>0.001</td>\n",
       "      <td>3.192</td>\n",
       "      <td>3.192</td>\n",
       "      <td>0.890</td>\n",
       "    </tr>\n",
       "    <tr>\n",
       "      <th>1</th>\n",
       "      <td>822</td>\n",
       "      <td>89.790</td>\n",
       "      <td>0.850</td>\n",
       "      <td>0.709</td>\n",
       "      <td>0.630</td>\n",
       "      <td>0.001</td>\n",
       "      <td>1.591</td>\n",
       "      <td>1.591</td>\n",
       "      <td>0.773</td>\n",
       "    </tr>\n",
       "    <tr>\n",
       "      <th>2</th>\n",
       "      <td>1077</td>\n",
       "      <td>122.434</td>\n",
       "      <td>0.929</td>\n",
       "      <td>0.850</td>\n",
       "      <td>0.798</td>\n",
       "      <td>0.001</td>\n",
       "      <td>2.807</td>\n",
       "      <td>2.807</td>\n",
       "      <td>0.888</td>\n",
       "    </tr>\n",
       "    <tr>\n",
       "      <th>3</th>\n",
       "      <td>562</td>\n",
       "      <td>60.317</td>\n",
       "      <td>0.972</td>\n",
       "      <td>0.485</td>\n",
       "      <td>0.478</td>\n",
       "      <td>0.001</td>\n",
       "      <td>1.023</td>\n",
       "      <td>1.023</td>\n",
       "      <td>0.647</td>\n",
       "    </tr>\n",
       "    <tr>\n",
       "      <th>4</th>\n",
       "      <td>1097</td>\n",
       "      <td>125.643</td>\n",
       "      <td>0.947</td>\n",
       "      <td>0.945</td>\n",
       "      <td>0.897</td>\n",
       "      <td>0.001</td>\n",
       "      <td>3.063</td>\n",
       "      <td>3.063</td>\n",
       "      <td>0.946</td>\n",
       "    </tr>\n",
       "  </tbody>\n",
       "</table>\n",
       "</div>"
      ],
      "text/plain": [
       "     CN      AA    HP    HD    JC   LHN    RA    SA    SO\n",
       "0  1133 130.146 0.978 0.816 0.801 0.001 3.192 3.192 0.890\n",
       "1   822  89.790 0.850 0.709 0.630 0.001 1.591 1.591 0.773\n",
       "2  1077 122.434 0.929 0.850 0.798 0.001 2.807 2.807 0.888\n",
       "3   562  60.317 0.972 0.485 0.478 0.001 1.023 1.023 0.647\n",
       "4  1097 125.643 0.947 0.945 0.897 0.001 3.063 3.063 0.946"
      ]
     },
     "execution_count": 43,
     "metadata": {},
     "output_type": "execute_result"
    }
   ],
   "source": [
    "with open(\"/home/c6/Desktop/OpenWPM/jsons/Prediction_new/non_temporal_unweighted/2014/train/dataframe.csv\", newline='') as csvfile:\n",
    "    training_non_df = pd.read_csv(csvfile)\n",
    "\n",
    "training_non_df = training_non_df.drop(['deg_e1', 'deg_e2'], axis=1)\n",
    "training_non_df = training_non_df[['e1','e2','CN','AA','HP','HD','JC','LHN','RA','SA','SO','label']]\n",
    "\n",
    "X_non_train = training_non_df.iloc[:,2:-1]\n",
    "#Y_train = training_df.iloc[:]['label']\n",
    "\n",
    "#X_train.head()\n",
    "\n",
    "with open(\"/home/c6/Desktop/OpenWPM/jsons/Prediction_new/non_temporal_unweighted/2014/test/dataframe.csv\", newline='') as csvfile:\n",
    "    testing_non_df = pd.read_csv(csvfile)\n",
    "\n",
    "testing_non_df = testing_non_df.drop(['deg_e1', 'deg_e2'], axis=1)\n",
    "testing_non_df = testing_non_df[['e1','e2','CN','AA','HP','HD','JC','LHN','RA','SA','SO','label']]\n",
    "\n",
    "\n",
    "X_non_test = testing_non_df.iloc[:,2:-1]\n",
    "#Y_test = testing_df.iloc[:]['label']\n",
    "\n",
    "X_non_test.head()"
   ]
  },
  {
   "cell_type": "code",
   "execution_count": 61,
   "id": "productive-interference",
   "metadata": {
    "pycharm": {
     "name": "#%%\n"
    }
   },
   "outputs": [
    {
     "data": {
      "text/plain": [
       "(1620820, 16)"
      ]
     },
     "execution_count": 61,
     "metadata": {},
     "output_type": "execute_result"
    }
   ],
   "source": [
    "with open(\"/home/c6/Desktop/OpenWPM/jsons/Prediction_new/non_temporal_unweighted/2014/test/dataframe.csv\", newline='') as csvfile:\n",
    "    testing_non_df = pd.read_csv(csvfile)\n",
    "testing_non_df.shape"
   ]
  },
  {
   "cell_type": "code",
   "execution_count": 62,
   "id": "considered-player",
   "metadata": {
    "pycharm": {
     "name": "#%%\n"
    }
   },
   "outputs": [
    {
     "data": {
      "text/plain": [
       "(1620820, 16)"
      ]
     },
     "execution_count": 62,
     "metadata": {},
     "output_type": "execute_result"
    }
   ],
   "source": [
    "with open(\"/home/c6/Desktop/OpenWPM/jsons/Prediction_new/WT/2014/test/dataframe.csv\", newline='') as csvfile:\n",
    "    testing_WT_df = pd.read_csv(csvfile)\n",
    "testing_WT_df.shape"
   ]
  },
  {
   "cell_type": "code",
   "execution_count": 63,
   "id": "immediate-favorite",
   "metadata": {
    "pycharm": {
     "name": "#%%\n"
    }
   },
   "outputs": [
    {
     "data": {
      "text/plain": [
       "(1172753, 16)"
      ]
     },
     "execution_count": 63,
     "metadata": {},
     "output_type": "execute_result"
    }
   ],
   "source": [
    "with open(\"/home/c6/Desktop/OpenWPM/jsons/Prediction_new/non_temporal_unweighted/2014/train/dataframe.csv\", newline='') as csvfile:\n",
    "    training_WT_df = pd.read_csv(csvfile)\n",
    "training_WT_df.shape"
   ]
  },
  {
   "cell_type": "code",
   "execution_count": 64,
   "id": "hairy-illustration",
   "metadata": {
    "pycharm": {
     "name": "#%%\n"
    }
   },
   "outputs": [
    {
     "data": {
      "text/plain": [
       "(1172753, 16)"
      ]
     },
     "execution_count": 64,
     "metadata": {},
     "output_type": "execute_result"
    }
   ],
   "source": [
    "with open(\"/home/c6/Desktop/OpenWPM/jsons/Prediction_new/WT/2014/train/dataframe.csv\", newline='') as csvfile:\n",
    "    training_non_df = pd.read_csv(csvfile)\n",
    "training_non_df.shape"
   ]
  },
  {
   "cell_type": "code",
   "execution_count": 65,
   "id": "social-tonight",
   "metadata": {
    "pycharm": {
     "name": "#%%\n"
    }
   },
   "outputs": [],
   "source": [
    "from networkx.readwrite import json_graph\n",
    "G_addr = \"/home/c6/Desktop/OpenWPM/jsons/Prediction_new/non_temporal_unweighted/2014/test/Graph.json\"\n",
    "g = utilities.read_json(G_addr)\n",
    "G = json_graph.node_link_graph(g)"
   ]
  },
  {
   "cell_type": "code",
   "execution_count": 66,
   "id": "scientific-mainstream",
   "metadata": {
    "pycharm": {
     "name": "#%%\n"
    }
   },
   "outputs": [],
   "source": [
    "H_addr = \"/home/c6/Desktop/OpenWPM/jsons/Prediction_new/WT/2014/test/Graph.json\"\n",
    "h = utilities.read_json(H_addr)\n",
    "H = json_graph.node_link_graph(h)"
   ]
  },
  {
   "cell_type": "code",
   "execution_count": 67,
   "id": "executive-generation",
   "metadata": {
    "pycharm": {
     "name": "#%%\n"
    }
   },
   "outputs": [
    {
     "data": {
      "text/plain": [
       "1460"
      ]
     },
     "execution_count": 67,
     "metadata": {},
     "output_type": "execute_result"
    }
   ],
   "source": [
    "len(G.nodes())"
   ]
  },
  {
   "cell_type": "code",
   "execution_count": 68,
   "id": "configured-equity",
   "metadata": {
    "pycharm": {
     "name": "#%%\n"
    }
   },
   "outputs": [
    {
     "data": {
      "text/plain": [
       "1460"
      ]
     },
     "execution_count": 68,
     "metadata": {},
     "output_type": "execute_result"
    }
   ],
   "source": [
    "len(H.nodes())"
   ]
  },
  {
   "cell_type": "code",
   "execution_count": 69,
   "id": "adult-ticket",
   "metadata": {
    "pycharm": {
     "name": "#%%\n"
    }
   },
   "outputs": [
    {
     "data": {
      "text/plain": [
       "345528"
      ]
     },
     "execution_count": 69,
     "metadata": {},
     "output_type": "execute_result"
    }
   ],
   "source": [
    "len(G.edges())"
   ]
  },
  {
   "cell_type": "code",
   "execution_count": 70,
   "id": "integral-trade",
   "metadata": {
    "pycharm": {
     "name": "#%%\n"
    }
   },
   "outputs": [
    {
     "data": {
      "text/plain": [
       "345528"
      ]
     },
     "execution_count": 70,
     "metadata": {},
     "output_type": "execute_result"
    }
   ],
   "source": [
    "len(H.edges())"
   ]
  },
  {
   "cell_type": "code",
   "execution_count": 71,
   "id": "french-vulnerability",
   "metadata": {
    "pycharm": {
     "name": "#%%\n"
    }
   },
   "outputs": [
    {
     "data": {
      "text/plain": [
       "1275292"
      ]
     },
     "execution_count": 71,
     "metadata": {},
     "output_type": "execute_result"
    }
   ],
   "source": [
    "disconnection_addr = \"/home/c6/Desktop/OpenWPM/jsons/Prediction_new/non_temporal_unweighted/2014/test/disconnect.json\"\n",
    "disconnection = utilities.read_json(disconnection_addr)\n",
    "len(disconnection)"
   ]
  },
  {
   "cell_type": "code",
   "execution_count": 72,
   "id": "figured-round",
   "metadata": {
    "pycharm": {
     "name": "#%%\n"
    }
   },
   "outputs": [
    {
     "data": {
      "text/plain": [
       "1275292"
      ]
     },
     "execution_count": 72,
     "metadata": {},
     "output_type": "execute_result"
    }
   ],
   "source": [
    "disconnection_addr = \"/home/c6/Desktop/OpenWPM/jsons/Prediction_new/WT/2014/test/disconnect.json\"\n",
    "disconnection = utilities.read_json(disconnection_addr)\n",
    "len(disconnection)"
   ]
  },
  {
   "cell_type": "markdown",
   "id": "flexible-running",
   "metadata": {},
   "source": [
    "### Merge Datasets"
   ]
  },
  {
   "cell_type": "code",
   "execution_count": 44,
   "id": "parallel-payment",
   "metadata": {
    "pycharm": {
     "name": "#%%\n"
    }
   },
   "outputs": [],
   "source": [
    "training_frames = [X_WT_train, X_non_train]\n",
    "testing_frames = [X_WT_test, X_non_test]\n",
    "\n",
    "X_train = pd.concat(training_frames,axis=1)\n",
    "X_test = pd.concat(testing_frames,axis=1)"
   ]
  },
  {
   "cell_type": "code",
   "execution_count": 45,
   "id": "disciplinary-square",
   "metadata": {
    "pycharm": {
     "name": "#%%\n"
    }
   },
   "outputs": [
    {
     "name": "stdout",
     "output_type": "stream",
     "text": [
      "Positive Samples:  212755\n",
      "Negative_samples:  132773\n"
     ]
    }
   ],
   "source": [
    "positive_samples = 0\n",
    "negative_sample = 0\n",
    "for i in Y_train:\n",
    "    if i==1:\n",
    "        positive_samples += 1\n",
    "    else:\n",
    "        negative_sample += 1\n",
    "\n",
    "print(\"Positive Samples: \", positive_samples)\n",
    "print(\"Negative_samples: \", negative_sample)"
   ]
  },
  {
   "cell_type": "markdown",
   "id": "complete-baker",
   "metadata": {},
   "source": [
    "### upsample minority class"
   ]
  },
  {
   "cell_type": "code",
   "execution_count": null,
   "id": "incomplete-championship",
   "metadata": {
    "pycharm": {
     "name": "#%%\n"
    }
   },
   "outputs": [],
   "source": [
    "# Separate majority and minority classes\n",
    "training_df_cat = [X_train, Y_train]\n",
    "training_df = pd.concat(training_df_cat,axis=1)\n",
    "\n",
    "df_majority = training_df[training_df.label==0]\n",
    "df_minority = training_df[training_df.label==1]\n",
    "\n",
    "# Upsample minority class\n",
    "df_minority_upsampled = resample(df_minority,\n",
    "                                 replace=True,     # sample with replacement\n",
    "                                 n_samples=272827,    # to match majority class\n",
    "                                 random_state=123) # reproducible results\n",
    "\n",
    "# Combine majority class with upsampled minority class\n",
    "df_upsampled = pd.concat([df_majority, df_minority_upsampled])\n",
    "\n",
    "# Display new class counts\n",
    "df_upsampled.label.value_counts()\n",
    "X_train = df_upsampled.iloc[:,0:-1]\n",
    "Y_train = df_upsampled.iloc[:]['label']\n",
    "# 1    576\n",
    "# 0    576\n",
    "# Name: balance, dtype: int64"
   ]
  },
  {
   "cell_type": "markdown",
   "id": "reliable-hungary",
   "metadata": {},
   "source": [
    "* define evaluation function"
   ]
  },
  {
   "cell_type": "code",
   "execution_count": 46,
   "id": "deadly-stupid",
   "metadata": {
    "pycharm": {
     "name": "#%%\n"
    }
   },
   "outputs": [],
   "source": [
    "def evaluate_model(predictions, actual):\n",
    "    TP = 0\n",
    "    FP = 0\n",
    "    TN = 0\n",
    "    FN = 0\n",
    "\n",
    "    for i in range(len(predictions)):\n",
    "        if actual[i]==predictions[i]==1:\n",
    "            TP += 1\n",
    "        if predictions[i]==1 and actual[i]!=predictions[i]:\n",
    "            FP += 1\n",
    "        if actual[i]==predictions[i]==0:\n",
    "            TN += 1\n",
    "        if predictions[i]==0 and actual[i]!=predictions[i]:\n",
    "            FN += 1\n",
    "    return pd.DataFrame({\n",
    "        \"Measure\": [\"Accuracy\", \"Precision\", \"Recall\", \"FPR\", \"FNR\", \"F1\"],\n",
    "        \"Source\": [accuracy_score(actual, predictions),\n",
    "                   precision_score(actual, predictions),\n",
    "                   recall_score(actual, predictions),\n",
    "                   FP/(FP+TN),\n",
    "                   FN/(FN+TP),\n",
    "                   f1_score(actual, predictions)]\n",
    "    })"
   ]
  },
  {
   "cell_type": "markdown",
   "id": "center-laundry",
   "metadata": {},
   "source": [
    "* Find important features"
   ]
  },
  {
   "cell_type": "code",
   "execution_count": 47,
   "id": "copyrighted-summit",
   "metadata": {
    "pycharm": {
     "name": "#%%\n"
    }
   },
   "outputs": [],
   "source": [
    "def feature_importance(columns, classifier):\n",
    "    display(\"Feature Importance\")\n",
    "    df = pd.DataFrame({\"Features\": columns,\n",
    "                      \"Importance\": classifier.feature_importances_})\n",
    "    df = df.sort_values(\"Importance\", ascending=False)\n",
    "    ax = df.plot(kind='bar', x='Features', y='Importance', legend=None)\n",
    "    #ax.xaxist.set_label_text(\"\")\n",
    "    plt.tight_layout()\n",
    "    plt.show"
   ]
  },
  {
   "cell_type": "markdown",
   "id": "suburban-platinum",
   "metadata": {},
   "source": [
    " ### choose a ML algorithm"
   ]
  },
  {
   "cell_type": "markdown",
   "id": "southwest-pulse",
   "metadata": {},
   "source": [
    "### 1. Random Forest"
   ]
  },
  {
   "cell_type": "code",
   "execution_count": 48,
   "id": "double-toolbox",
   "metadata": {
    "pycharm": {
     "name": "#%%\n"
    }
   },
   "outputs": [],
   "source": [
    "classifier = RandomForestClassifier(n_estimators=100, max_depth=20, criterion=\"entropy\", class_weight={0: 1, 1: 4})"
   ]
  },
  {
   "cell_type": "markdown",
   "id": "legendary-scenario",
   "metadata": {},
   "source": [
    "### Train and predict"
   ]
  },
  {
   "cell_type": "code",
   "execution_count": 49,
   "id": "theoretical-elevation",
   "metadata": {
    "pycharm": {
     "name": "#%%\n"
    }
   },
   "outputs": [
    {
     "data": {
      "text/plain": [
       "RandomForestClassifier(class_weight={0: 1, 1: 4}, criterion='entropy',\n",
       "                       max_depth=20)"
      ]
     },
     "execution_count": 49,
     "metadata": {},
     "output_type": "execute_result"
    }
   ],
   "source": [
    "classifier.fit(X_train, Y_train)"
   ]
  },
  {
   "cell_type": "code",
   "execution_count": 50,
   "id": "closed-longitude",
   "metadata": {
    "pycharm": {
     "name": "#%%\n"
    }
   },
   "outputs": [],
   "source": [
    "prediction = classifier.predict(X_test)"
   ]
  },
  {
   "cell_type": "code",
   "execution_count": 51,
   "id": "announced-textbook",
   "metadata": {
    "pycharm": {
     "name": "#%%\n"
    }
   },
   "outputs": [
    {
     "data": {
      "text/plain": [
       "(569807,)"
      ]
     },
     "execution_count": 51,
     "metadata": {},
     "output_type": "execute_result"
    }
   ],
   "source": [
    "prediction.shape"
   ]
  },
  {
   "cell_type": "code",
   "execution_count": 52,
   "id": "above-arizona",
   "metadata": {
    "pycharm": {
     "name": "#%%\n"
    }
   },
   "outputs": [
    {
     "data": {
      "text/plain": [
       "array([0, 1])"
      ]
     },
     "execution_count": 52,
     "metadata": {},
     "output_type": "execute_result"
    }
   ],
   "source": [
    "np.unique(prediction)"
   ]
  },
  {
   "cell_type": "code",
   "execution_count": 53,
   "id": "royal-playlist",
   "metadata": {
    "pycharm": {
     "name": "#%%\n"
    }
   },
   "outputs": [
    {
     "data": {
      "text/html": [
       "<div>\n",
       "<style scoped>\n",
       "    .dataframe tbody tr th:only-of-type {\n",
       "        vertical-align: middle;\n",
       "    }\n",
       "\n",
       "    .dataframe tbody tr th {\n",
       "        vertical-align: top;\n",
       "    }\n",
       "\n",
       "    .dataframe thead th {\n",
       "        text-align: right;\n",
       "    }\n",
       "</style>\n",
       "<table border=\"1\" class=\"dataframe\">\n",
       "  <thead>\n",
       "    <tr style=\"text-align: right;\">\n",
       "      <th></th>\n",
       "      <th>Measure</th>\n",
       "      <th>Source</th>\n",
       "    </tr>\n",
       "  </thead>\n",
       "  <tbody>\n",
       "    <tr>\n",
       "      <th>0</th>\n",
       "      <td>Accuracy</td>\n",
       "      <td>0.927</td>\n",
       "    </tr>\n",
       "    <tr>\n",
       "      <th>1</th>\n",
       "      <td>Precision</td>\n",
       "      <td>0.911</td>\n",
       "    </tr>\n",
       "    <tr>\n",
       "      <th>2</th>\n",
       "      <td>Recall</td>\n",
       "      <td>0.959</td>\n",
       "    </tr>\n",
       "    <tr>\n",
       "      <th>3</th>\n",
       "      <td>FPR</td>\n",
       "      <td>0.111</td>\n",
       "    </tr>\n",
       "    <tr>\n",
       "      <th>4</th>\n",
       "      <td>FNR</td>\n",
       "      <td>0.041</td>\n",
       "    </tr>\n",
       "    <tr>\n",
       "      <th>5</th>\n",
       "      <td>F1</td>\n",
       "      <td>0.934</td>\n",
       "    </tr>\n",
       "  </tbody>\n",
       "</table>\n",
       "</div>"
      ],
      "text/plain": [
       "     Measure  Source\n",
       "0   Accuracy   0.927\n",
       "1  Precision   0.911\n",
       "2     Recall   0.959\n",
       "3        FPR   0.111\n",
       "4        FNR   0.041\n",
       "5         F1   0.934"
      ]
     },
     "metadata": {},
     "output_type": "display_data"
    }
   ],
   "source": [
    "display(evaluate_model(prediction, Y_test))"
   ]
  },
  {
   "cell_type": "code",
   "execution_count": 83,
   "id": "searching-software",
   "metadata": {
    "pycharm": {
     "name": "#%%\n"
    }
   },
   "outputs": [
    {
     "data": {
      "text/plain": [
       "'Feature Importance'"
      ]
     },
     "metadata": {},
     "output_type": "display_data"
    },
    {
     "data": {
      "image/png": "[encoded data removed]",
      "text/plain": [
       "<Figure size 432x288 with 1 Axes>"
      ]
     },
     "metadata": {},
     "output_type": "display_data"
    }
   ],
   "source": [
    "columns = ['edge_wtf', 'W', 'CN', 'AA', 'HP', 'HD', 'JC', 'LHN', 'RA', 'SA', 'SO', 'avg_deg',\n",
    "           'CN_WT', 'AA_WT', 'HP_WT', 'HD_WT', 'JC_WT', 'LHN_WT', 'RA_WT', 'SA_WT', 'SO_WT']\n",
    "feature_importance(columns, classifier)"
   ]
  },
  {
   "cell_type": "markdown",
   "id": "occasional-transformation",
   "metadata": {},
   "source": [
    "### build the predicted Graph"
   ]
  },
  {
   "cell_type": "code",
   "execution_count": null,
   "id": "rural-emperor",
   "metadata": {
    "pycharm": {
     "name": "#%%\n"
    }
   },
   "outputs": [],
   "source": [
    "joblib.dump(classifier, \"./random_forest.joblib\")"
   ]
  },
  {
   "cell_type": "markdown",
   "id": "functional-dress",
   "metadata": {},
   "source": [
    "### build the predicted Graph"
   ]
  },
  {
   "cell_type": "code",
   "execution_count": null,
   "id": "varying-validity",
   "metadata": {
    "pycharm": {
     "name": "#%%\n"
    }
   },
   "outputs": [],
   "source": [
    "real_graph_2014 = json_graph.node_link_graph(\n",
    "            utilities.read_json(\"/home/c6/Desktop/OpenWPM/jsons/AST/CDX_results/Graphs/2014/Graph.json\"))\n",
    "\n",
    "concat_pred = [testing_WT_df.iloc[:,0:2],X_test, pd.Series(prediction)]\n",
    "predicted_graph_2014 = pd.concat(concat_pred,axis=1)\n"
   ]
  },
  {
   "cell_type": "code",
   "execution_count": null,
   "id": "loving-constitutional",
   "metadata": {
    "pycharm": {
     "name": "#%%\n"
    }
   },
   "outputs": [],
   "source": [
    "predicted_graph_2014\n"
   ]
  },
  {
   "cell_type": "markdown",
   "id": "danish-amsterdam",
   "metadata": {},
   "source": [
    "# Predicting Year : 2015"
   ]
  },
  {
   "cell_type": "markdown",
   "id": "guided-mason",
   "metadata": {},
   "source": [
    "### Upload Weighted Temporal Dataset"
   ]
  },
  {
   "cell_type": "code",
   "execution_count": 54,
   "id": "affected-drink",
   "metadata": {
    "pycharm": {
     "name": "#%%\n"
    }
   },
   "outputs": [
    {
     "data": {
      "text/html": [
       "<div>\n",
       "<style scoped>\n",
       "    .dataframe tbody tr th:only-of-type {\n",
       "        vertical-align: middle;\n",
       "    }\n",
       "\n",
       "    .dataframe tbody tr th {\n",
       "        vertical-align: top;\n",
       "    }\n",
       "\n",
       "    .dataframe thead th {\n",
       "        text-align: right;\n",
       "    }\n",
       "</style>\n",
       "<table border=\"1\" class=\"dataframe\">\n",
       "  <thead>\n",
       "    <tr style=\"text-align: right;\">\n",
       "      <th></th>\n",
       "      <th>edge_wtf</th>\n",
       "      <th>W</th>\n",
       "      <th>CN_WT</th>\n",
       "      <th>AA_WT</th>\n",
       "      <th>HP_WT</th>\n",
       "      <th>HD_WT</th>\n",
       "      <th>JC_WT</th>\n",
       "      <th>LHN_WT</th>\n",
       "      <th>RA_WT</th>\n",
       "      <th>SA_WT</th>\n",
       "      <th>SO_WT</th>\n",
       "      <th>avg_deg</th>\n",
       "    </tr>\n",
       "  </thead>\n",
       "  <tbody>\n",
       "    <tr>\n",
       "      <th>0</th>\n",
       "      <td>0.049</td>\n",
       "      <td>0.017</td>\n",
       "      <td>424.449</td>\n",
       "      <td>53.643</td>\n",
       "      <td>39.893</td>\n",
       "      <td>0.854</td>\n",
       "      <td>0.836</td>\n",
       "      <td>0.080</td>\n",
       "      <td>2.925</td>\n",
       "      <td>2.925</td>\n",
       "      <td>1.672</td>\n",
       "      <td>1121.500</td>\n",
       "    </tr>\n",
       "    <tr>\n",
       "      <th>1</th>\n",
       "      <td>0.150</td>\n",
       "      <td>0.053</td>\n",
       "      <td>444.948</td>\n",
       "      <td>56.663</td>\n",
       "      <td>16.776</td>\n",
       "      <td>0.895</td>\n",
       "      <td>0.850</td>\n",
       "      <td>0.034</td>\n",
       "      <td>3.222</td>\n",
       "      <td>3.222</td>\n",
       "      <td>1.700</td>\n",
       "      <td>1134.000</td>\n",
       "    </tr>\n",
       "    <tr>\n",
       "      <th>2</th>\n",
       "      <td>3.128</td>\n",
       "      <td>1.114</td>\n",
       "      <td>1115.919</td>\n",
       "      <td>155.701</td>\n",
       "      <td>2.245</td>\n",
       "      <td>1.782</td>\n",
       "      <td>0.994</td>\n",
       "      <td>0.004</td>\n",
       "      <td>17.522</td>\n",
       "      <td>17.522</td>\n",
       "      <td>1.987</td>\n",
       "      <td>1736.500</td>\n",
       "    </tr>\n",
       "    <tr>\n",
       "      <th>3</th>\n",
       "      <td>4.008</td>\n",
       "      <td>1.428</td>\n",
       "      <td>1373.313</td>\n",
       "      <td>189.456</td>\n",
       "      <td>2.763</td>\n",
       "      <td>1.552</td>\n",
       "      <td>0.994</td>\n",
       "      <td>0.003</td>\n",
       "      <td>21.516</td>\n",
       "      <td>21.516</td>\n",
       "      <td>1.987</td>\n",
       "      <td>1818.500</td>\n",
       "    </tr>\n",
       "    <tr>\n",
       "      <th>4</th>\n",
       "      <td>0.044</td>\n",
       "      <td>0.016</td>\n",
       "      <td>418.365</td>\n",
       "      <td>52.631</td>\n",
       "      <td>41.917</td>\n",
       "      <td>0.842</td>\n",
       "      <td>0.825</td>\n",
       "      <td>0.084</td>\n",
       "      <td>2.746</td>\n",
       "      <td>2.746</td>\n",
       "      <td>1.650</td>\n",
       "      <td>1108.000</td>\n",
       "    </tr>\n",
       "  </tbody>\n",
       "</table>\n",
       "</div>"
      ],
      "text/plain": [
       "   edge_wtf     W    CN_WT   AA_WT  HP_WT  HD_WT  JC_WT  LHN_WT  RA_WT  SA_WT  \\\n",
       "0     0.049 0.017  424.449  53.643 39.893  0.854  0.836   0.080  2.925  2.925   \n",
       "1     0.150 0.053  444.948  56.663 16.776  0.895  0.850   0.034  3.222  3.222   \n",
       "2     3.128 1.114 1115.919 155.701  2.245  1.782  0.994   0.004 17.522 17.522   \n",
       "3     4.008 1.428 1373.313 189.456  2.763  1.552  0.994   0.003 21.516 21.516   \n",
       "4     0.044 0.016  418.365  52.631 41.917  0.842  0.825   0.084  2.746  2.746   \n",
       "\n",
       "   SO_WT  avg_deg  \n",
       "0  1.672 1121.500  \n",
       "1  1.700 1134.000  \n",
       "2  1.987 1736.500  \n",
       "3  1.987 1818.500  \n",
       "4  1.650 1108.000  "
      ]
     },
     "execution_count": 54,
     "metadata": {},
     "output_type": "execute_result"
    }
   ],
   "source": [
    "with open(\"/home/c6/Desktop/OpenWPM/jsons/Prediction_new/WT/2015/train/dataframe.csv\", newline='') as csvfile:\n",
    "    training_WT_df = pd.read_csv(csvfile)\n",
    "\n",
    "training_WT_df['avg_deg'] = (training_WT_df['deg_e1']+training_WT_df['deg_e2'])/2\n",
    "training_WT_df = training_WT_df.drop(['deg_e1', 'deg_e2'], axis=1)\n",
    "training_WT_df = training_WT_df[['e1','e2','edge_wtf','W','CN','AA','HP','HD','JC','LHN','RA','SA','SO','avg_deg','label']]\n",
    "training_WT_df = training_WT_df.rename(columns={\"CN\": \"CN_WT\", \"AA\": \"AA_WT\", \"HP\": \"HP_WT\", \"HD\": \"HD_WT\", \"JC\": \"JC_WT\", \"LHN\": \"LHN_WT\",\n",
    "                  \"RA\": \"RA_WT\", \"SA\": \"SA_WT\", \"SO\": \"SO_WT\"})\n",
    "\n",
    "X_WT_train = training_WT_df.iloc[:,2:-1]\n",
    "Y_train = training_WT_df.iloc[:]['label']\n",
    "\n",
    "X_WT_train.head()\n",
    "\n",
    "with open(\"/home/c6/Desktop/OpenWPM/jsons/Prediction_new/WT/2015/test/dataframe.csv\", newline='') as csvfile:\n",
    "    testing_WT_df = pd.read_csv(csvfile)\n",
    "\n",
    "testing_WT_df['avg_deg'] = (testing_WT_df['deg_e1']+testing_WT_df['deg_e2'])/2\n",
    "testing_WT_df = testing_WT_df.drop(['deg_e1', 'deg_e2'], axis=1)\n",
    "testing_WT_df = testing_WT_df[['e1','e2','edge_wtf','W','CN','AA','HP','HD','JC','LHN','RA','SA','SO','avg_deg','label']]\n",
    "testing_WT_df = testing_WT_df.rename(columns={\"CN\": \"CN_WT\", \"AA\": \"AA_WT\", \"HP\": \"HP_WT\", \"HD\": \"HD_WT\", \"JC\": \"JC_WT\", \"LHN\": \"LHN_WT\",\n",
    "                  \"RA\": \"RA_WT\", \"SA\": \"SA_WT\", \"SO\": \"SO_WT\"})\n",
    "\n",
    "\n",
    "X_WT_test = testing_WT_df.iloc[:,2:-1]\n",
    "Y_test = testing_WT_df.iloc[:]['label']\n",
    "\n",
    "X_WT_test.head()"
   ]
  },
  {
   "cell_type": "code",
   "execution_count": 86,
   "id": "fewer-wright",
   "metadata": {
    "pycharm": {
     "name": "#%%\n"
    }
   },
   "outputs": [
    {
     "data": {
      "text/plain": [
       "(1620820, 12)"
      ]
     },
     "execution_count": 86,
     "metadata": {},
     "output_type": "execute_result"
    }
   ],
   "source": [
    "X_WT_train.shape"
   ]
  },
  {
   "cell_type": "markdown",
   "id": "dimensional-anthony",
   "metadata": {},
   "source": [
    "### Upload Unweighted non-Temporal Dataset"
   ]
  },
  {
   "cell_type": "code",
   "execution_count": 55,
   "id": "single-cleaning",
   "metadata": {
    "pycharm": {
     "name": "#%%\n"
    }
   },
   "outputs": [
    {
     "data": {
      "text/html": [
       "<div>\n",
       "<style scoped>\n",
       "    .dataframe tbody tr th:only-of-type {\n",
       "        vertical-align: middle;\n",
       "    }\n",
       "\n",
       "    .dataframe tbody tr th {\n",
       "        vertical-align: top;\n",
       "    }\n",
       "\n",
       "    .dataframe thead th {\n",
       "        text-align: right;\n",
       "    }\n",
       "</style>\n",
       "<table border=\"1\" class=\"dataframe\">\n",
       "  <thead>\n",
       "    <tr style=\"text-align: right;\">\n",
       "      <th></th>\n",
       "      <th>CN</th>\n",
       "      <th>AA</th>\n",
       "      <th>HP</th>\n",
       "      <th>HD</th>\n",
       "      <th>JC</th>\n",
       "      <th>LHN</th>\n",
       "      <th>RA</th>\n",
       "      <th>SA</th>\n",
       "      <th>SO</th>\n",
       "    </tr>\n",
       "  </thead>\n",
       "  <tbody>\n",
       "    <tr>\n",
       "      <th>0</th>\n",
       "      <td>493</td>\n",
       "      <td>50.029</td>\n",
       "      <td>0.996</td>\n",
       "      <td>0.282</td>\n",
       "      <td>0.282</td>\n",
       "      <td>0.001</td>\n",
       "      <td>0.612</td>\n",
       "      <td>0.612</td>\n",
       "      <td>0.440</td>\n",
       "    </tr>\n",
       "    <tr>\n",
       "      <th>1</th>\n",
       "      <td>517</td>\n",
       "      <td>52.643</td>\n",
       "      <td>0.994</td>\n",
       "      <td>0.296</td>\n",
       "      <td>0.295</td>\n",
       "      <td>0.001</td>\n",
       "      <td>0.656</td>\n",
       "      <td>0.656</td>\n",
       "      <td>0.456</td>\n",
       "    </tr>\n",
       "    <tr>\n",
       "      <th>2</th>\n",
       "      <td>1651</td>\n",
       "      <td>184.773</td>\n",
       "      <td>0.957</td>\n",
       "      <td>0.945</td>\n",
       "      <td>0.906</td>\n",
       "      <td>0.001</td>\n",
       "      <td>4.036</td>\n",
       "      <td>4.036</td>\n",
       "      <td>0.951</td>\n",
       "    </tr>\n",
       "    <tr>\n",
       "      <th>3</th>\n",
       "      <td>1747</td>\n",
       "      <td>197.908</td>\n",
       "      <td>0.999</td>\n",
       "      <td>0.925</td>\n",
       "      <td>0.924</td>\n",
       "      <td>0.001</td>\n",
       "      <td>4.699</td>\n",
       "      <td>4.699</td>\n",
       "      <td>0.961</td>\n",
       "    </tr>\n",
       "    <tr>\n",
       "      <th>4</th>\n",
       "      <td>466</td>\n",
       "      <td>47.088</td>\n",
       "      <td>0.996</td>\n",
       "      <td>0.267</td>\n",
       "      <td>0.266</td>\n",
       "      <td>0.001</td>\n",
       "      <td>0.556</td>\n",
       "      <td>0.556</td>\n",
       "      <td>0.421</td>\n",
       "    </tr>\n",
       "  </tbody>\n",
       "</table>\n",
       "</div>"
      ],
      "text/plain": [
       "     CN      AA    HP    HD    JC   LHN    RA    SA    SO\n",
       "0   493  50.029 0.996 0.282 0.282 0.001 0.612 0.612 0.440\n",
       "1   517  52.643 0.994 0.296 0.295 0.001 0.656 0.656 0.456\n",
       "2  1651 184.773 0.957 0.945 0.906 0.001 4.036 4.036 0.951\n",
       "3  1747 197.908 0.999 0.925 0.924 0.001 4.699 4.699 0.961\n",
       "4   466  47.088 0.996 0.267 0.266 0.001 0.556 0.556 0.421"
      ]
     },
     "execution_count": 55,
     "metadata": {},
     "output_type": "execute_result"
    }
   ],
   "source": [
    "with open(\"/home/c6/Desktop/OpenWPM/jsons/Prediction_new/non_temporal_unweighted/2015/train/dataframe.csv\", newline='') as csvfile:\n",
    "    training_non_df = pd.read_csv(csvfile)\n",
    "\n",
    "training_non_df = training_non_df.drop(['deg_e1', 'deg_e2'], axis=1)\n",
    "training_non_df = training_non_df[['e1','e2','CN','AA','HP','HD','JC','LHN','RA','SA','SO','label']]\n",
    "\n",
    "X_non_train = training_non_df.iloc[:,2:-1]\n",
    "#Y_train = training_df.iloc[:]['label']\n",
    "\n",
    "#X_train.head()\n",
    "\n",
    "with open(\"/home/c6/Desktop/OpenWPM/jsons/Prediction_new/non_temporal_unweighted/2015/test/dataframe.csv\", newline='') as csvfile:\n",
    "    testing_non_df = pd.read_csv(csvfile)\n",
    "\n",
    "testing_non_df = testing_non_df.drop(['deg_e1', 'deg_e2'], axis=1)\n",
    "testing_non_df = testing_non_df[['e1','e2','CN','AA','HP','HD','JC','LHN','RA','SA','SO','label']]\n",
    "\n",
    "\n",
    "X_non_test = testing_non_df.iloc[:,2:-1]\n",
    "#Y_test = testing_df.iloc[:]['label']\n",
    "\n",
    "X_non_test.head()"
   ]
  },
  {
   "cell_type": "code",
   "execution_count": 89,
   "id": "under-safety",
   "metadata": {
    "pycharm": {
     "name": "#%%\n"
    }
   },
   "outputs": [
    {
     "data": {
      "text/plain": [
       "(2515941, 16)"
      ]
     },
     "execution_count": 89,
     "metadata": {},
     "output_type": "execute_result"
    }
   ],
   "source": [
    "with open(\"/home/c6/Desktop/OpenWPM/jsons/Prediction_new/non_temporal_unweighted/2015/test/dataframe.csv\", newline='') as csvfile:\n",
    "    testing_non_df = pd.read_csv(csvfile)\n",
    "testing_non_df.shape"
   ]
  },
  {
   "cell_type": "code",
   "execution_count": 90,
   "id": "therapeutic-corruption",
   "metadata": {
    "pycharm": {
     "name": "#%%\n"
    }
   },
   "outputs": [
    {
     "data": {
      "text/plain": [
       "(2515941, 16)"
      ]
     },
     "execution_count": 90,
     "metadata": {},
     "output_type": "execute_result"
    }
   ],
   "source": [
    "with open(\"/home/c6/Desktop/OpenWPM/jsons/Prediction_new/WT/2015/test/dataframe.csv\", newline='') as csvfile:\n",
    "    testing_WT_df = pd.read_csv(csvfile)\n",
    "testing_WT_df.shape"
   ]
  },
  {
   "cell_type": "code",
   "execution_count": 91,
   "id": "insured-british",
   "metadata": {
    "pycharm": {
     "name": "#%%\n"
    }
   },
   "outputs": [
    {
     "data": {
      "text/plain": [
       "(1620820, 16)"
      ]
     },
     "execution_count": 91,
     "metadata": {},
     "output_type": "execute_result"
    }
   ],
   "source": [
    "with open(\"/home/c6/Desktop/OpenWPM/jsons/Prediction_new/non_temporal_unweighted/2015/train/dataframe.csv\", newline='') as csvfile:\n",
    "    training_WT_df = pd.read_csv(csvfile)\n",
    "training_WT_df.shape"
   ]
  },
  {
   "cell_type": "code",
   "execution_count": 92,
   "id": "acting-garden",
   "metadata": {
    "pycharm": {
     "name": "#%%\n"
    }
   },
   "outputs": [
    {
     "data": {
      "text/plain": [
       "(1620820, 16)"
      ]
     },
     "execution_count": 92,
     "metadata": {},
     "output_type": "execute_result"
    }
   ],
   "source": [
    "with open(\"/home/c6/Desktop/OpenWPM/jsons/Prediction_new/WT/2015/train/dataframe.csv\", newline='') as csvfile:\n",
    "    training_non_df = pd.read_csv(csvfile)\n",
    "training_non_df.shape"
   ]
  },
  {
   "cell_type": "code",
   "execution_count": 93,
   "id": "reliable-regulation",
   "metadata": {
    "pycharm": {
     "name": "#%%\n"
    }
   },
   "outputs": [],
   "source": [
    "from networkx.readwrite import json_graph\n",
    "G_addr = \"/home/c6/Desktop/OpenWPM/jsons/Prediction_new/non_temporal_unweighted/2015/test/Graph.json\"\n",
    "g = utilities.read_json(G_addr)\n",
    "G = json_graph.node_link_graph(g)"
   ]
  },
  {
   "cell_type": "code",
   "execution_count": 94,
   "id": "bulgarian-frame",
   "metadata": {
    "pycharm": {
     "name": "#%%\n"
    }
   },
   "outputs": [],
   "source": [
    "H_addr = \"/home/c6/Desktop/OpenWPM/jsons/Prediction_new/WT/2015/test/Graph.json\"\n",
    "h = utilities.read_json(H_addr)\n",
    "H = json_graph.node_link_graph(h)"
   ]
  },
  {
   "cell_type": "code",
   "execution_count": 95,
   "id": "trying-alert",
   "metadata": {
    "pycharm": {
     "name": "#%%\n"
    }
   },
   "outputs": [
    {
     "data": {
      "text/plain": [
       "1908"
      ]
     },
     "execution_count": 95,
     "metadata": {},
     "output_type": "execute_result"
    }
   ],
   "source": [
    "len(G.nodes())"
   ]
  },
  {
   "cell_type": "code",
   "execution_count": 96,
   "id": "young-collective",
   "metadata": {
    "pycharm": {
     "name": "#%%\n"
    }
   },
   "outputs": [
    {
     "data": {
      "text/plain": [
       "1908"
      ]
     },
     "execution_count": 96,
     "metadata": {},
     "output_type": "execute_result"
    }
   ],
   "source": [
    "len(H.nodes())"
   ]
  },
  {
   "cell_type": "code",
   "execution_count": 97,
   "id": "czech-murray",
   "metadata": {
    "pycharm": {
     "name": "#%%\n"
    }
   },
   "outputs": [
    {
     "data": {
      "text/plain": [
       "569807"
      ]
     },
     "execution_count": 97,
     "metadata": {},
     "output_type": "execute_result"
    }
   ],
   "source": [
    "len(G.edges())"
   ]
  },
  {
   "cell_type": "code",
   "execution_count": 98,
   "id": "bored-reverse",
   "metadata": {
    "pycharm": {
     "name": "#%%\n"
    }
   },
   "outputs": [
    {
     "data": {
      "text/plain": [
       "569807"
      ]
     },
     "execution_count": 98,
     "metadata": {},
     "output_type": "execute_result"
    }
   ],
   "source": [
    "len(H.edges())"
   ]
  },
  {
   "cell_type": "code",
   "execution_count": 99,
   "id": "tracked-hobby",
   "metadata": {
    "pycharm": {
     "name": "#%%\n"
    }
   },
   "outputs": [
    {
     "data": {
      "text/plain": [
       "1946134"
      ]
     },
     "execution_count": 99,
     "metadata": {},
     "output_type": "execute_result"
    }
   ],
   "source": [
    "disconnection_addr = \"/home/c6/Desktop/OpenWPM/jsons/Prediction_new/non_temporal_unweighted/2015/test/disconnect.json\"\n",
    "disconnection = utilities.read_json(disconnection_addr)\n",
    "len(disconnection)"
   ]
  },
  {
   "cell_type": "code",
   "execution_count": 100,
   "id": "cutting-antenna",
   "metadata": {
    "pycharm": {
     "name": "#%%\n"
    }
   },
   "outputs": [
    {
     "data": {
      "text/plain": [
       "1946134"
      ]
     },
     "execution_count": 100,
     "metadata": {},
     "output_type": "execute_result"
    }
   ],
   "source": [
    "disconnection_addr = \"/home/c6/Desktop/OpenWPM/jsons/Prediction_new/WT/2015/test/disconnect.json\"\n",
    "disconnection = utilities.read_json(disconnection_addr)\n",
    "len(disconnection)"
   ]
  },
  {
   "cell_type": "markdown",
   "id": "coordinate-castle",
   "metadata": {},
   "source": [
    "### Merge Datasets"
   ]
  },
  {
   "cell_type": "code",
   "execution_count": 56,
   "id": "wrong-conviction",
   "metadata": {
    "pycharm": {
     "name": "#%%\n"
    }
   },
   "outputs": [],
   "source": [
    "training_frames = [X_WT_train, X_non_train]\n",
    "testing_frames = [X_WT_test, X_non_test]\n",
    "\n",
    "X_train = pd.concat(training_frames,axis=1)\n",
    "X_test = pd.concat(testing_frames,axis=1)"
   ]
  },
  {
   "cell_type": "code",
   "execution_count": 57,
   "id": "union-canada",
   "metadata": {
    "pycharm": {
     "name": "#%%\n"
    }
   },
   "outputs": [
    {
     "name": "stdout",
     "output_type": "stream",
     "text": [
      "Positive Samples:  309360\n",
      "Negative_samples:  260447\n"
     ]
    }
   ],
   "source": [
    "positive_samples = 0\n",
    "negative_sample = 0\n",
    "for i in Y_train:\n",
    "    if i==1:\n",
    "        positive_samples += 1\n",
    "    else:\n",
    "        negative_sample += 1\n",
    "\n",
    "print(\"Positive Samples: \", positive_samples)\n",
    "print(\"Negative_samples: \", negative_sample)"
   ]
  },
  {
   "cell_type": "markdown",
   "id": "sophisticated-signature",
   "metadata": {},
   "source": [
    "### upsample minority class"
   ]
  },
  {
   "cell_type": "code",
   "execution_count": null,
   "id": "swedish-checklist",
   "metadata": {
    "pycharm": {
     "name": "#%%\n"
    }
   },
   "outputs": [],
   "source": [
    "# Separate majority and minority classes\n",
    "training_df_cat = [X_train, Y_train]\n",
    "training_df = pd.concat(training_df_cat,axis=1)\n",
    "\n",
    "df_majority = training_df[training_df.label==0]\n",
    "df_minority = training_df[training_df.label==1]\n",
    "\n",
    "# Upsample minority class\n",
    "df_minority_upsampled = resample(df_minority,\n",
    "                                 replace=True,     # sample with replacement\n",
    "                                 n_samples=272827,    # to match majority class\n",
    "                                 random_state=123) # reproducible results\n",
    "\n",
    "# Combine majority class with upsampled minority class\n",
    "df_upsampled = pd.concat([df_majority, df_minority_upsampled])\n",
    "\n",
    "# Display new class counts\n",
    "df_upsampled.label.value_counts()\n",
    "X_train = df_upsampled.iloc[:,0:-1]\n",
    "Y_train = df_upsampled.iloc[:]['label']\n",
    "# 1    576\n",
    "# 0    576\n",
    "# Name: balance, dtype: int64"
   ]
  },
  {
   "cell_type": "markdown",
   "id": "black-generator",
   "metadata": {},
   "source": [
    "* define evaluation function"
   ]
  },
  {
   "cell_type": "code",
   "execution_count": 58,
   "id": "historical-bumper",
   "metadata": {
    "pycharm": {
     "name": "#%%\n"
    }
   },
   "outputs": [],
   "source": [
    "def evaluate_model(predictions, actual):\n",
    "    TP = 0\n",
    "    FP = 0\n",
    "    TN = 0\n",
    "    FN = 0\n",
    "\n",
    "    for i in range(len(predictions)):\n",
    "        if actual[i]==predictions[i]==1:\n",
    "            TP += 1\n",
    "        if predictions[i]==1 and actual[i]!=predictions[i]:\n",
    "            FP += 1\n",
    "        if actual[i]==predictions[i]==0:\n",
    "            TN += 1\n",
    "        if predictions[i]==0 and actual[i]!=predictions[i]:\n",
    "            FN += 1\n",
    "    return pd.DataFrame({\n",
    "        \"Measure\": [\"Accuracy\", \"Precision\", \"Recall\", \"FPR\", \"FNR\", \"F1\"],\n",
    "        \"Source\": [accuracy_score(actual, predictions),\n",
    "                   precision_score(actual, predictions),\n",
    "                   recall_score(actual, predictions),\n",
    "                   FP/(FP+TN),\n",
    "                   FN/(FN+TP),\n",
    "                   f1_score(actual, predictions)]\n",
    "    })"
   ]
  },
  {
   "cell_type": "markdown",
   "id": "broken-composition",
   "metadata": {},
   "source": [
    "* Find important features"
   ]
  },
  {
   "cell_type": "code",
   "execution_count": 59,
   "id": "earlier-sheffield",
   "metadata": {
    "pycharm": {
     "name": "#%%\n"
    }
   },
   "outputs": [],
   "source": [
    "def feature_importance(columns, classifier):\n",
    "    display(\"Feature Importance\")\n",
    "    df = pd.DataFrame({\"Features\": columns,\n",
    "                      \"Importance\": classifier.feature_importances_})\n",
    "    df = df.sort_values(\"Importance\", ascending=False)\n",
    "    ax = df.plot(kind='bar', x='Features', y='Importance', legend=None)\n",
    "    #ax.xaxist.set_label_text(\"\")\n",
    "    plt.tight_layout()\n",
    "    plt.show"
   ]
  },
  {
   "cell_type": "markdown",
   "id": "complimentary-panama",
   "metadata": {},
   "source": [
    " ### choose a ML algorithm"
   ]
  },
  {
   "cell_type": "markdown",
   "id": "extensive-shoulder",
   "metadata": {},
   "source": [
    "### 1. Random Forest"
   ]
  },
  {
   "cell_type": "code",
   "execution_count": 105,
   "id": "seeing-lender",
   "metadata": {
    "pycharm": {
     "name": "#%%\n"
    }
   },
   "outputs": [],
   "source": [
    "classifier = RandomForestClassifie\n",
    "r(n_estimators=100, max_depth=20, criterion=\"entropy\", class_weight={0: 1, 1: 4})"
   ]
  },
  {
   "cell_type": "markdown",
   "id": "according-finish",
   "metadata": {},
   "source": [
    "### Train and predict"
   ]
  },
  {
   "cell_type": "code",
   "execution_count": 60,
   "id": "personal-puzzle",
   "metadata": {
    "pycharm": {
     "name": "#%%\n"
    }
   },
   "outputs": [
    {
     "data": {
      "text/plain": [
       "RandomForestClassifier(class_weight={0: 1, 1: 4}, criterion='entropy',\n",
       "                       max_depth=20)"
      ]
     },
     "execution_count": 60,
     "metadata": {},
     "output_type": "execute_result"
    }
   ],
   "source": [
    "classifier.fit(X_train, Y_train)"
   ]
  },
  {
   "cell_type": "code",
   "execution_count": 61,
   "id": "breeding-eugene",
   "metadata": {
    "pycharm": {
     "name": "#%%\n"
    }
   },
   "outputs": [],
   "source": [
    "prediction = classifier.predict(X_test)"
   ]
  },
  {
   "cell_type": "code",
   "execution_count": 62,
   "id": "generous-indie",
   "metadata": {
    "pycharm": {
     "name": "#%%\n"
    }
   },
   "outputs": [
    {
     "data": {
      "text/plain": [
       "(812808,)"
      ]
     },
     "execution_count": 62,
     "metadata": {},
     "output_type": "execute_result"
    }
   ],
   "source": [
    "prediction.shape"
   ]
  },
  {
   "cell_type": "code",
   "execution_count": 63,
   "id": "particular-signal",
   "metadata": {
    "pycharm": {
     "name": "#%%\n"
    }
   },
   "outputs": [
    {
     "data": {
      "text/plain": [
       "array([0, 1])"
      ]
     },
     "execution_count": 63,
     "metadata": {},
     "output_type": "execute_result"
    }
   ],
   "source": [
    "np.unique(prediction)"
   ]
  },
  {
   "cell_type": "code",
   "execution_count": 64,
   "id": "scenic-houston",
   "metadata": {
    "pycharm": {
     "name": "#%%\n"
    }
   },
   "outputs": [
    {
     "data": {
      "text/html": [
       "<div>\n",
       "<style scoped>\n",
       "    .dataframe tbody tr th:only-of-type {\n",
       "        vertical-align: middle;\n",
       "    }\n",
       "\n",
       "    .dataframe tbody tr th {\n",
       "        vertical-align: top;\n",
       "    }\n",
       "\n",
       "    .dataframe thead th {\n",
       "        text-align: right;\n",
       "    }\n",
       "</style>\n",
       "<table border=\"1\" class=\"dataframe\">\n",
       "  <thead>\n",
       "    <tr style=\"text-align: right;\">\n",
       "      <th></th>\n",
       "      <th>Measure</th>\n",
       "      <th>Source</th>\n",
       "    </tr>\n",
       "  </thead>\n",
       "  <tbody>\n",
       "    <tr>\n",
       "      <th>0</th>\n",
       "      <td>Accuracy</td>\n",
       "      <td>0.868</td>\n",
       "    </tr>\n",
       "    <tr>\n",
       "      <th>1</th>\n",
       "      <td>Precision</td>\n",
       "      <td>0.822</td>\n",
       "    </tr>\n",
       "    <tr>\n",
       "      <th>2</th>\n",
       "      <td>Recall</td>\n",
       "      <td>0.983</td>\n",
       "    </tr>\n",
       "    <tr>\n",
       "      <th>3</th>\n",
       "      <td>FPR</td>\n",
       "      <td>0.287</td>\n",
       "    </tr>\n",
       "    <tr>\n",
       "      <th>4</th>\n",
       "      <td>FNR</td>\n",
       "      <td>0.017</td>\n",
       "    </tr>\n",
       "    <tr>\n",
       "      <th>5</th>\n",
       "      <td>F1</td>\n",
       "      <td>0.895</td>\n",
       "    </tr>\n",
       "  </tbody>\n",
       "</table>\n",
       "</div>"
      ],
      "text/plain": [
       "     Measure  Source\n",
       "0   Accuracy   0.868\n",
       "1  Precision   0.822\n",
       "2     Recall   0.983\n",
       "3        FPR   0.287\n",
       "4        FNR   0.017\n",
       "5         F1   0.895"
      ]
     },
     "metadata": {},
     "output_type": "display_data"
    }
   ],
   "source": [
    "display(evaluate_model(prediction, Y_test))"
   ]
  },
  {
   "cell_type": "code",
   "execution_count": 111,
   "id": "generous-cyprus",
   "metadata": {
    "pycharm": {
     "name": "#%%\n"
    }
   },
   "outputs": [
    {
     "data": {
      "text/plain": [
       "'Feature Importance'"
      ]
     },
     "metadata": {},
     "output_type": "display_data"
    },
    {
     "data": {
      "image/png": "[encoded data removed]",
      "text/plain": [
       "<Figure size 432x288 with 1 Axes>"
      ]
     },
     "metadata": {},
     "output_type": "display_data"
    }
   ],
   "source": [
    "columns = ['edge_wtf', 'W', 'CN', 'AA', 'HP', 'HD', 'JC', 'LHN', 'RA', 'SA', 'SO', 'avg_deg',\n",
    "           'CN_WT', 'AA_WT', 'HP_WT', 'HD_WT', 'JC_WT', 'LHN_WT', 'RA_WT', 'SA_WT', 'SO_WT']\n",
    "feature_importance(columns, classifier)"
   ]
  },
  {
   "cell_type": "markdown",
   "id": "seeing-hobby",
   "metadata": {},
   "source": [
    "### build the predicted Graph"
   ]
  },
  {
   "cell_type": "code",
   "execution_count": null,
   "id": "oriental-subscriber",
   "metadata": {
    "pycharm": {
     "name": "#%%\n"
    }
   },
   "outputs": [],
   "source": [
    "joblib.dump(classifier, \"./random_forest.joblib\")"
   ]
  },
  {
   "cell_type": "markdown",
   "id": "alpha-management",
   "metadata": {},
   "source": [
    "### build the predicted Graph"
   ]
  },
  {
   "cell_type": "code",
   "execution_count": null,
   "id": "lovely-simple",
   "metadata": {
    "pycharm": {
     "name": "#%%\n"
    }
   },
   "outputs": [],
   "source": [
    "real_graph_2015 = json_graph.node_link_graph(\n",
    "            utilities.read_json(\"/home/c6/Desktop/OpenWPM/jsons/AST/CDX_results/Graphs/2015/Graph.json\"))\n",
    "\n",
    "concat_pred = [testing_WT_df.iloc[:,0:2],X_test, pd.Series(prediction)]\n",
    "predicted_graph_2015 = pd.concat(concat_pred,axis=1)\n"
   ]
  },
  {
   "cell_type": "code",
   "execution_count": null,
   "id": "black-belly",
   "metadata": {
    "pycharm": {
     "name": "#%%\n"
    }
   },
   "outputs": [],
   "source": [
    "predicted_graph_2015\n"
   ]
  },
  {
   "cell_type": "markdown",
   "id": "fixed-smell",
   "metadata": {},
   "source": [
    "# Predicting Year : 2016"
   ]
  },
  {
   "cell_type": "markdown",
   "id": "northern-horizontal",
   "metadata": {},
   "source": [
    "### Upload Weighted Temporal Dataset"
   ]
  },
  {
   "cell_type": "code",
   "execution_count": 65,
   "id": "registered-dodge",
   "metadata": {
    "pycharm": {
     "name": "#%%\n"
    }
   },
   "outputs": [
    {
     "data": {
      "text/html": [
       "<div>\n",
       "<style scoped>\n",
       "    .dataframe tbody tr th:only-of-type {\n",
       "        vertical-align: middle;\n",
       "    }\n",
       "\n",
       "    .dataframe tbody tr th {\n",
       "        vertical-align: top;\n",
       "    }\n",
       "\n",
       "    .dataframe thead th {\n",
       "        text-align: right;\n",
       "    }\n",
       "</style>\n",
       "<table border=\"1\" class=\"dataframe\">\n",
       "  <thead>\n",
       "    <tr style=\"text-align: right;\">\n",
       "      <th></th>\n",
       "      <th>edge_wtf</th>\n",
       "      <th>W</th>\n",
       "      <th>CN_WT</th>\n",
       "      <th>AA_WT</th>\n",
       "      <th>HP_WT</th>\n",
       "      <th>HD_WT</th>\n",
       "      <th>JC_WT</th>\n",
       "      <th>LHN_WT</th>\n",
       "      <th>RA_WT</th>\n",
       "      <th>SA_WT</th>\n",
       "      <th>SO_WT</th>\n",
       "      <th>avg_deg</th>\n",
       "    </tr>\n",
       "  </thead>\n",
       "  <tbody>\n",
       "    <tr>\n",
       "      <th>0</th>\n",
       "      <td>4.118</td>\n",
       "      <td>1.373</td>\n",
       "      <td>1485.990</td>\n",
       "      <td>196.634</td>\n",
       "      <td>2.066</td>\n",
       "      <td>1.917</td>\n",
       "      <td>0.994</td>\n",
       "      <td>0.003</td>\n",
       "      <td>20.026</td>\n",
       "      <td>20.026</td>\n",
       "      <td>1.988</td>\n",
       "      <td>2127.000</td>\n",
       "    </tr>\n",
       "    <tr>\n",
       "      <th>1</th>\n",
       "      <td>6.901</td>\n",
       "      <td>2.300</td>\n",
       "      <td>1870.620</td>\n",
       "      <td>243.511</td>\n",
       "      <td>2.600</td>\n",
       "      <td>1.605</td>\n",
       "      <td>0.992</td>\n",
       "      <td>0.002</td>\n",
       "      <td>23.992</td>\n",
       "      <td>23.992</td>\n",
       "      <td>1.985</td>\n",
       "      <td>2164.000</td>\n",
       "    </tr>\n",
       "    <tr>\n",
       "      <th>2</th>\n",
       "      <td>0.070</td>\n",
       "      <td>0.023</td>\n",
       "      <td>657.900</td>\n",
       "      <td>80.068</td>\n",
       "      <td>55.780</td>\n",
       "      <td>0.915</td>\n",
       "      <td>0.900</td>\n",
       "      <td>0.078</td>\n",
       "      <td>4.278</td>\n",
       "      <td>4.278</td>\n",
       "      <td>1.800</td>\n",
       "      <td>1480.500</td>\n",
       "    </tr>\n",
       "    <tr>\n",
       "      <th>3</th>\n",
       "      <td>7.119</td>\n",
       "      <td>2.373</td>\n",
       "      <td>1878.366</td>\n",
       "      <td>244.505</td>\n",
       "      <td>2.611</td>\n",
       "      <td>1.600</td>\n",
       "      <td>0.992</td>\n",
       "      <td>0.002</td>\n",
       "      <td>24.105</td>\n",
       "      <td>24.105</td>\n",
       "      <td>1.984</td>\n",
       "      <td>2169.500</td>\n",
       "    </tr>\n",
       "    <tr>\n",
       "      <th>4</th>\n",
       "      <td>0.890</td>\n",
       "      <td>0.297</td>\n",
       "      <td>880.866</td>\n",
       "      <td>115.848</td>\n",
       "      <td>5.257</td>\n",
       "      <td>1.224</td>\n",
       "      <td>0.993</td>\n",
       "      <td>0.007</td>\n",
       "      <td>11.022</td>\n",
       "      <td>11.022</td>\n",
       "      <td>1.986</td>\n",
       "      <td>1915.500</td>\n",
       "    </tr>\n",
       "  </tbody>\n",
       "</table>\n",
       "</div>"
      ],
      "text/plain": [
       "   edge_wtf     W    CN_WT   AA_WT  HP_WT  HD_WT  JC_WT  LHN_WT  RA_WT  SA_WT  \\\n",
       "0     4.118 1.373 1485.990 196.634  2.066  1.917  0.994   0.003 20.026 20.026   \n",
       "1     6.901 2.300 1870.620 243.511  2.600  1.605  0.992   0.002 23.992 23.992   \n",
       "2     0.070 0.023  657.900  80.068 55.780  0.915  0.900   0.078  4.278  4.278   \n",
       "3     7.119 2.373 1878.366 244.505  2.611  1.600  0.992   0.002 24.105 24.105   \n",
       "4     0.890 0.297  880.866 115.848  5.257  1.224  0.993   0.007 11.022 11.022   \n",
       "\n",
       "   SO_WT  avg_deg  \n",
       "0  1.988 2127.000  \n",
       "1  1.985 2164.000  \n",
       "2  1.800 1480.500  \n",
       "3  1.984 2169.500  \n",
       "4  1.986 1915.500  "
      ]
     },
     "execution_count": 65,
     "metadata": {},
     "output_type": "execute_result"
    }
   ],
   "source": [
    "with open(\"/home/c6/Desktop/OpenWPM/jsons/Prediction_new/WT/2016/train/dataframe.csv\", newline='') as csvfile:\n",
    "    training_WT_df = pd.read_csv(csvfile)\n",
    "\n",
    "training_WT_df['avg_deg'] = (training_WT_df['deg_e1']+training_WT_df['deg_e2'])/2\n",
    "training_WT_df = training_WT_df.drop(['deg_e1', 'deg_e2'], axis=1)\n",
    "training_WT_df = training_WT_df[['e1','e2','edge_wtf','W','CN','AA','HP','HD','JC','LHN','RA','SA','SO','avg_deg','label']]\n",
    "training_WT_df = training_WT_df.rename(columns={\"CN\": \"CN_WT\", \"AA\": \"AA_WT\", \"HP\": \"HP_WT\", \"HD\": \"HD_WT\", \"JC\": \"JC_WT\", \"LHN\": \"LHN_WT\",\n",
    "                  \"RA\": \"RA_WT\", \"SA\": \"SA_WT\", \"SO\": \"SO_WT\"})\n",
    "\n",
    "X_WT_train = training_WT_df.iloc[:,2:-1]\n",
    "Y_train = training_WT_df.iloc[:]['label']\n",
    "\n",
    "X_WT_train.head()\n",
    "\n",
    "with open(\"/home/c6/Desktop/OpenWPM/jsons/Prediction_new/WT/2016/test/dataframe.csv\", newline='') as csvfile:\n",
    "    testing_WT_df = pd.read_csv(csvfile)\n",
    "\n",
    "testing_WT_df['avg_deg'] = (testing_WT_df['deg_e1']+testing_WT_df['deg_e2'])/2\n",
    "testing_WT_df = testing_WT_df.drop(['deg_e1', 'deg_e2'], axis=1)\n",
    "testing_WT_df = testing_WT_df[['e1','e2','edge_wtf','W','CN','AA','HP','HD','JC','LHN','RA','SA','SO','avg_deg','label']]\n",
    "testing_WT_df = testing_WT_df.rename(columns={\"CN\": \"CN_WT\", \"AA\": \"AA_WT\", \"HP\": \"HP_WT\", \"HD\": \"HD_WT\", \"JC\": \"JC_WT\", \"LHN\": \"LHN_WT\",\n",
    "                  \"RA\": \"RA_WT\", \"SA\": \"SA_WT\", \"SO\": \"SO_WT\"})\n",
    "\n",
    "\n",
    "X_WT_test = testing_WT_df.iloc[:,2:-1]\n",
    "Y_test = testing_WT_df.iloc[:]['label']\n",
    "\n",
    "X_WT_test.head()"
   ]
  },
  {
   "cell_type": "code",
   "execution_count": 113,
   "id": "general-usage",
   "metadata": {
    "pycharm": {
     "name": "#%%\n"
    }
   },
   "outputs": [
    {
     "data": {
      "text/plain": [
       "(2515941, 12)"
      ]
     },
     "execution_count": 113,
     "metadata": {},
     "output_type": "execute_result"
    }
   ],
   "source": [
    "X_WT_train.shape"
   ]
  },
  {
   "cell_type": "markdown",
   "id": "invalid-internship",
   "metadata": {},
   "source": [
    "### Upload Unweighted non-Temporal Dataset"
   ]
  },
  {
   "cell_type": "code",
   "execution_count": 66,
   "id": "political-relaxation",
   "metadata": {
    "pycharm": {
     "name": "#%%\n"
    }
   },
   "outputs": [
    {
     "data": {
      "text/html": [
       "<div>\n",
       "<style scoped>\n",
       "    .dataframe tbody tr th:only-of-type {\n",
       "        vertical-align: middle;\n",
       "    }\n",
       "\n",
       "    .dataframe tbody tr th {\n",
       "        vertical-align: top;\n",
       "    }\n",
       "\n",
       "    .dataframe thead th {\n",
       "        text-align: right;\n",
       "    }\n",
       "</style>\n",
       "<table border=\"1\" class=\"dataframe\">\n",
       "  <thead>\n",
       "    <tr style=\"text-align: right;\">\n",
       "      <th></th>\n",
       "      <th>CN</th>\n",
       "      <th>AA</th>\n",
       "      <th>HP</th>\n",
       "      <th>HD</th>\n",
       "      <th>JC</th>\n",
       "      <th>LHN</th>\n",
       "      <th>RA</th>\n",
       "      <th>SA</th>\n",
       "      <th>SO</th>\n",
       "    </tr>\n",
       "  </thead>\n",
       "  <tbody>\n",
       "    <tr>\n",
       "      <th>0</th>\n",
       "      <td>2060</td>\n",
       "      <td>225.383</td>\n",
       "      <td>0.976</td>\n",
       "      <td>0.961</td>\n",
       "      <td>0.939</td>\n",
       "      <td>0.000</td>\n",
       "      <td>4.407</td>\n",
       "      <td>4.407</td>\n",
       "      <td>0.969</td>\n",
       "    </tr>\n",
       "    <tr>\n",
       "      <th>1</th>\n",
       "      <td>2110</td>\n",
       "      <td>232.846</td>\n",
       "      <td>1.000</td>\n",
       "      <td>0.952</td>\n",
       "      <td>0.951</td>\n",
       "      <td>0.000</td>\n",
       "      <td>4.920</td>\n",
       "      <td>4.920</td>\n",
       "      <td>0.975</td>\n",
       "    </tr>\n",
       "    <tr>\n",
       "      <th>2</th>\n",
       "      <td>844</td>\n",
       "      <td>85.072</td>\n",
       "      <td>0.993</td>\n",
       "      <td>0.400</td>\n",
       "      <td>0.399</td>\n",
       "      <td>0.000</td>\n",
       "      <td>0.971</td>\n",
       "      <td>0.971</td>\n",
       "      <td>0.570</td>\n",
       "    </tr>\n",
       "    <tr>\n",
       "      <th>3</th>\n",
       "      <td>2110</td>\n",
       "      <td>232.846</td>\n",
       "      <td>1.000</td>\n",
       "      <td>0.947</td>\n",
       "      <td>0.947</td>\n",
       "      <td>0.000</td>\n",
       "      <td>4.920</td>\n",
       "      <td>4.920</td>\n",
       "      <td>0.973</td>\n",
       "    </tr>\n",
       "    <tr>\n",
       "      <th>4</th>\n",
       "      <td>1694</td>\n",
       "      <td>180.084</td>\n",
       "      <td>0.985</td>\n",
       "      <td>0.802</td>\n",
       "      <td>0.793</td>\n",
       "      <td>0.000</td>\n",
       "      <td>2.985</td>\n",
       "      <td>2.985</td>\n",
       "      <td>0.884</td>\n",
       "    </tr>\n",
       "  </tbody>\n",
       "</table>\n",
       "</div>"
      ],
      "text/plain": [
       "     CN      AA    HP    HD    JC   LHN    RA    SA    SO\n",
       "0  2060 225.383 0.976 0.961 0.939 0.000 4.407 4.407 0.969\n",
       "1  2110 232.846 1.000 0.952 0.951 0.000 4.920 4.920 0.975\n",
       "2   844  85.072 0.993 0.400 0.399 0.000 0.971 0.971 0.570\n",
       "3  2110 232.846 1.000 0.947 0.947 0.000 4.920 4.920 0.973\n",
       "4  1694 180.084 0.985 0.802 0.793 0.000 2.985 2.985 0.884"
      ]
     },
     "execution_count": 66,
     "metadata": {},
     "output_type": "execute_result"
    }
   ],
   "source": [
    "with open(\"/home/c6/Desktop/OpenWPM/jsons/Prediction_new/non_temporal_unweighted/2016/train/dataframe.csv\", newline='') as csvfile:\n",
    "    training_non_df = pd.read_csv(csvfile)\n",
    "\n",
    "training_non_df = training_non_df.drop(['deg_e1', 'deg_e2'], axis=1)\n",
    "training_non_df = training_non_df[['e1','e2','CN','AA','HP','HD','JC','LHN','RA','SA','SO','label']]\n",
    "\n",
    "X_non_train = training_non_df.iloc[:,2:-1]\n",
    "#Y_train = training_df.iloc[:]['label']\n",
    "\n",
    "#X_train.head()\n",
    "\n",
    "with open(\"/home/c6/Desktop/OpenWPM/jsons/Prediction_new/non_temporal_unweighted/2016/test/dataframe.csv\", newline='') as csvfile:\n",
    "    testing_non_df = pd.read_csv(csvfile)\n",
    "\n",
    "testing_non_df = testing_non_df.drop(['deg_e1', 'deg_e2'], axis=1)\n",
    "testing_non_df = testing_non_df[['e1','e2','CN','AA','HP','HD','JC','LHN','RA','SA','SO','label']]\n",
    "\n",
    "\n",
    "X_non_test = testing_non_df.iloc[:,2:-1]\n",
    "#Y_test = testing_df.iloc[:]['label']\n",
    "\n",
    "X_non_test.head()"
   ]
  },
  {
   "cell_type": "code",
   "execution_count": 115,
   "id": "prospective-label",
   "metadata": {
    "pycharm": {
     "name": "#%%\n"
    }
   },
   "outputs": [
    {
     "data": {
      "text/plain": [
       "(3460842, 16)"
      ]
     },
     "execution_count": 115,
     "metadata": {},
     "output_type": "execute_result"
    }
   ],
   "source": [
    "with open(\"/home/c6/Desktop/OpenWPM/jsons/Prediction_new/non_temporal_unweighted/2016/test/dataframe.csv\", newline='') as csvfile:\n",
    "    testing_non_df = pd.read_csv(csvfile)\n",
    "testing_non_df.shape"
   ]
  },
  {
   "cell_type": "code",
   "execution_count": 116,
   "id": "focal-desire",
   "metadata": {
    "pycharm": {
     "name": "#%%\n"
    }
   },
   "outputs": [
    {
     "data": {
      "text/plain": [
       "(3460842, 16)"
      ]
     },
     "execution_count": 116,
     "metadata": {},
     "output_type": "execute_result"
    }
   ],
   "source": [
    "with open(\"/home/c6/Desktop/OpenWPM/jsons/Prediction_new/WT/2016/test/dataframe.csv\", newline='') as csvfile:\n",
    "    testing_WT_df = pd.read_csv(csvfile)\n",
    "testing_WT_df.shape"
   ]
  },
  {
   "cell_type": "code",
   "execution_count": 117,
   "id": "human-mathematics",
   "metadata": {
    "pycharm": {
     "name": "#%%\n"
    }
   },
   "outputs": [
    {
     "data": {
      "text/plain": [
       "(2515941, 16)"
      ]
     },
     "execution_count": 117,
     "metadata": {},
     "output_type": "execute_result"
    }
   ],
   "source": [
    "with open(\"/home/c6/Desktop/OpenWPM/jsons/Prediction_new/non_temporal_unweighted/2016/train/dataframe.csv\", newline='') as csvfile:\n",
    "    training_WT_df = pd.read_csv(csvfile)\n",
    "training_WT_df.shape"
   ]
  },
  {
   "cell_type": "code",
   "execution_count": 118,
   "id": "neither-benchmark",
   "metadata": {
    "pycharm": {
     "name": "#%%\n"
    }
   },
   "outputs": [
    {
     "data": {
      "text/plain": [
       "(2515941, 16)"
      ]
     },
     "execution_count": 118,
     "metadata": {},
     "output_type": "execute_result"
    }
   ],
   "source": [
    "with open(\"/home/c6/Desktop/OpenWPM/jsons/Prediction_new/WT/2016/train/dataframe.csv\", newline='') as csvfile:\n",
    "    training_non_df = pd.read_csv(csvfile)\n",
    "training_non_df.shape"
   ]
  },
  {
   "cell_type": "code",
   "execution_count": 119,
   "id": "central-tragedy",
   "metadata": {
    "pycharm": {
     "name": "#%%\n"
    }
   },
   "outputs": [],
   "source": [
    "from networkx.readwrite import json_graph\n",
    "G_addr = \"/home/c6/Desktop/OpenWPM/jsons/Prediction_new/non_temporal_unweighted/2016/test/Graph.json\"\n",
    "g = utilities.read_json(G_addr)\n",
    "G = json_graph.node_link_graph(g)"
   ]
  },
  {
   "cell_type": "code",
   "execution_count": 120,
   "id": "fluid-turkey",
   "metadata": {
    "pycharm": {
     "name": "#%%\n"
    }
   },
   "outputs": [],
   "source": [
    "H_addr = \"/home/c6/Desktop/OpenWPM/jsons/Prediction_new/WT/2016/test/Graph.json\"\n",
    "h = utilities.read_json(H_addr)\n",
    "H = json_graph.node_link_graph(h)"
   ]
  },
  {
   "cell_type": "code",
   "execution_count": 121,
   "id": "intense-quarter",
   "metadata": {
    "pycharm": {
     "name": "#%%\n"
    }
   },
   "outputs": [
    {
     "data": {
      "text/plain": [
       "2229"
      ]
     },
     "execution_count": 121,
     "metadata": {},
     "output_type": "execute_result"
    }
   ],
   "source": [
    "len(G.nodes())"
   ]
  },
  {
   "cell_type": "code",
   "execution_count": 122,
   "id": "agricultural-commerce",
   "metadata": {
    "pycharm": {
     "name": "#%%\n"
    }
   },
   "outputs": [
    {
     "data": {
      "text/plain": [
       "2229"
      ]
     },
     "execution_count": 122,
     "metadata": {},
     "output_type": "execute_result"
    }
   ],
   "source": [
    "len(H.nodes())"
   ]
  },
  {
   "cell_type": "code",
   "execution_count": 123,
   "id": "continuous-thumbnail",
   "metadata": {
    "pycharm": {
     "name": "#%%\n"
    }
   },
   "outputs": [
    {
     "data": {
      "text/plain": [
       "812808"
      ]
     },
     "execution_count": 123,
     "metadata": {},
     "output_type": "execute_result"
    }
   ],
   "source": [
    "len(G.edges())"
   ]
  },
  {
   "cell_type": "code",
   "execution_count": 124,
   "id": "dimensional-divide",
   "metadata": {
    "pycharm": {
     "name": "#%%\n"
    }
   },
   "outputs": [
    {
     "data": {
      "text/plain": [
       "812808"
      ]
     },
     "execution_count": 124,
     "metadata": {},
     "output_type": "execute_result"
    }
   ],
   "source": [
    "len(H.edges())"
   ]
  },
  {
   "cell_type": "code",
   "execution_count": 125,
   "id": "saving-impact",
   "metadata": {
    "pycharm": {
     "name": "#%%\n"
    }
   },
   "outputs": [
    {
     "data": {
      "text/plain": [
       "2648034"
      ]
     },
     "execution_count": 125,
     "metadata": {},
     "output_type": "execute_result"
    }
   ],
   "source": [
    "disconnection_addr = \"/home/c6/Desktop/OpenWPM/jsons/Prediction_new/non_temporal_unweighted/2016/test/disconnect.json\"\n",
    "disconnection = utilities.read_json(disconnection_addr)\n",
    "len(disconnection)"
   ]
  },
  {
   "cell_type": "code",
   "execution_count": 126,
   "id": "middle-penalty",
   "metadata": {
    "pycharm": {
     "name": "#%%\n"
    }
   },
   "outputs": [
    {
     "data": {
      "text/plain": [
       "2648034"
      ]
     },
     "execution_count": 126,
     "metadata": {},
     "output_type": "execute_result"
    }
   ],
   "source": [
    "disconnection_addr = \"/home/c6/Desktop/OpenWPM/jsons/Prediction_new/WT/2016/test/disconnect.json\"\n",
    "disconnection = utilities.read_json(disconnection_addr)\n",
    "len(disconnection)"
   ]
  },
  {
   "cell_type": "markdown",
   "id": "civic-evolution",
   "metadata": {},
   "source": [
    "### Merge Datasets"
   ]
  },
  {
   "cell_type": "code",
   "execution_count": 67,
   "id": "matched-lotus",
   "metadata": {
    "pycharm": {
     "name": "#%%\n"
    }
   },
   "outputs": [],
   "source": [
    "training_frames = [X_WT_train, X_non_train]\n",
    "testing_frames = [X_WT_test, X_non_test]\n",
    "\n",
    "X_train = pd.concat(training_frames,axis=1)\n",
    "X_test = pd.concat(testing_frames,axis=1)"
   ]
  },
  {
   "cell_type": "code",
   "execution_count": 68,
   "id": "adequate-beast",
   "metadata": {
    "pycharm": {
     "name": "#%%\n"
    }
   },
   "outputs": [
    {
     "name": "stdout",
     "output_type": "stream",
     "text": [
      "Positive Samples:  466354\n",
      "Negative_samples:  346454\n"
     ]
    }
   ],
   "source": [
    "positive_samples = 0\n",
    "negative_sample = 0\n",
    "for i in Y_train:\n",
    "    if i==1:\n",
    "        positive_samples += 1\n",
    "    else:\n",
    "        negative_sample += 1\n",
    "\n",
    "print(\"Positive Samples: \", positive_samples)\n",
    "print(\"Negative_samples: \", negative_sample)"
   ]
  },
  {
   "cell_type": "markdown",
   "id": "fewer-copying",
   "metadata": {},
   "source": [
    "### upsample minority class"
   ]
  },
  {
   "cell_type": "code",
   "execution_count": null,
   "id": "hired-quest",
   "metadata": {
    "pycharm": {
     "name": "#%%\n"
    }
   },
   "outputs": [],
   "source": [
    "# Separate majority and minority classes\n",
    "training_df_cat = [X_train, Y_train]\n",
    "training_df = pd.concat(training_df_cat,axis=1)\n",
    "\n",
    "df_majority = training_df[training_df.label==0]\n",
    "df_minority = training_df[training_df.label==1]\n",
    "\n",
    "# Upsample minority class\n",
    "df_minority_upsampled = resample(df_minority,\n",
    "                                 replace=True,     # sample with replacement\n",
    "                                 n_samples=272827,    # to match majority class\n",
    "                                 random_state=123) # reproducible results\n",
    "\n",
    "# Combine majority class with upsampled minority class\n",
    "df_upsampled = pd.concat([df_majority, df_minority_upsampled])\n",
    "\n",
    "# Display new class counts\n",
    "df_upsampled.label.value_counts()\n",
    "X_train = df_upsampled.iloc[:,0:-1]\n",
    "Y_train = df_upsampled.iloc[:]['label']\n",
    "# 1    576\n",
    "# 0    576\n",
    "# Name: balance, dtype: int64"
   ]
  },
  {
   "cell_type": "markdown",
   "id": "familiar-conducting",
   "metadata": {},
   "source": [
    "* define evaluation function"
   ]
  },
  {
   "cell_type": "code",
   "execution_count": 69,
   "id": "reduced-jersey",
   "metadata": {
    "pycharm": {
     "name": "#%%\n"
    }
   },
   "outputs": [],
   "source": [
    "def evaluate_model(predictions, actual):\n",
    "    TP = 0\n",
    "    FP = 0\n",
    "    TN = 0\n",
    "    FN = 0\n",
    "\n",
    "    for i in range(len(predictions)):\n",
    "        if actual[i]==predictions[i]==1:\n",
    "            TP += 1\n",
    "        if predictions[i]==1 and actual[i]!=predictions[i]:\n",
    "            FP += 1\n",
    "        if actual[i]==predictions[i]==0:\n",
    "            TN += 1\n",
    "        if predictions[i]==0 and actual[i]!=predictions[i]:\n",
    "            FN += 1\n",
    "    return pd.DataFrame({\n",
    "        \"Measure\": [\"Accuracy\", \"Precision\", \"Recall\", \"FPR\", \"FNR\", \"F1\"],\n",
    "        \"Source\": [accuracy_score(actual, predictions),\n",
    "                   precision_score(actual, predictions),\n",
    "                   recall_score(actual, predictions),\n",
    "                   FP/(FP+TN),\n",
    "                   FN/(FN+TP),\n",
    "                   f1_score(actual, predictions)]\n",
    "    })"
   ]
  },
  {
   "cell_type": "markdown",
   "id": "sunrise-grove",
   "metadata": {},
   "source": [
    "* Find important features"
   ]
  },
  {
   "cell_type": "code",
   "execution_count": 70,
   "id": "wicked-august",
   "metadata": {
    "pycharm": {
     "name": "#%%\n"
    }
   },
   "outputs": [],
   "source": [
    "def feature_importance(columns, classifier):\n",
    "    display(\"Feature Importance\")\n",
    "    df = pd.DataFrame({\"Features\": columns,\n",
    "                      \"Importance\": classifier.feature_importances_})\n",
    "    df = df.sort_values(\"Importance\", ascending=False)\n",
    "    ax = df.plot(kind='bar', x='Features', y='Importance', legend=None)\n",
    "    #ax.xaxist.set_label_text(\"\")\n",
    "    plt.tight_layout()\n",
    "    plt.show"
   ]
  },
  {
   "cell_type": "markdown",
   "id": "actual-president",
   "metadata": {},
   "source": [
    " ### choose a ML algorithm"
   ]
  },
  {
   "cell_type": "markdown",
   "id": "hydraulic-haven",
   "metadata": {},
   "source": [
    "### 1. Random Forest"
   ]
  },
  {
   "cell_type": "code",
   "execution_count": 71,
   "id": "allied-suicide",
   "metadata": {
    "pycharm": {
     "name": "#%%\n"
    }
   },
   "outputs": [],
   "source": [
    "classifier = RandomForestClassifier(n_estimators=100, max_depth=20, criterion=\"entropy\", class_weight={0: 1, 1: 4})"
   ]
  },
  {
   "cell_type": "markdown",
   "id": "false-encounter",
   "metadata": {},
   "source": [
    "### Train and predict"
   ]
  },
  {
   "cell_type": "code",
   "execution_count": 72,
   "id": "nervous-symbol",
   "metadata": {
    "pycharm": {
     "name": "#%%\n"
    }
   },
   "outputs": [
    {
     "data": {
      "text/plain": [
       "RandomForestClassifier(class_weight={0: 1, 1: 4}, criterion='entropy',\n",
       "                       max_depth=20)"
      ]
     },
     "execution_count": 72,
     "metadata": {},
     "output_type": "execute_result"
    }
   ],
   "source": [
    "classifier.fit(X_train, Y_train)"
   ]
  },
  {
   "cell_type": "code",
   "execution_count": 73,
   "id": "comprehensive-astronomy",
   "metadata": {
    "pycharm": {
     "name": "#%%\n"
    }
   },
   "outputs": [],
   "source": [
    "prediction = classifier.predict(X_test)"
   ]
  },
  {
   "cell_type": "code",
   "execution_count": 74,
   "id": "earned-least",
   "metadata": {
    "pycharm": {
     "name": "#%%\n"
    }
   },
   "outputs": [
    {
     "data": {
      "text/plain": [
       "(1193191,)"
      ]
     },
     "execution_count": 74,
     "metadata": {},
     "output_type": "execute_result"
    }
   ],
   "source": [
    "prediction.shape"
   ]
  },
  {
   "cell_type": "code",
   "execution_count": 75,
   "id": "deadly-newfoundland",
   "metadata": {
    "pycharm": {
     "name": "#%%\n"
    }
   },
   "outputs": [
    {
     "data": {
      "text/plain": [
       "array([0, 1])"
      ]
     },
     "execution_count": 75,
     "metadata": {},
     "output_type": "execute_result"
    }
   ],
   "source": [
    "np.unique(prediction)"
   ]
  },
  {
   "cell_type": "code",
   "execution_count": 76,
   "id": "opponent-custody",
   "metadata": {
    "pycharm": {
     "name": "#%%\n"
    }
   },
   "outputs": [
    {
     "data": {
      "text/html": [
       "<div>\n",
       "<style scoped>\n",
       "    .dataframe tbody tr th:only-of-type {\n",
       "        vertical-align: middle;\n",
       "    }\n",
       "\n",
       "    .dataframe tbody tr th {\n",
       "        vertical-align: top;\n",
       "    }\n",
       "\n",
       "    .dataframe thead th {\n",
       "        text-align: right;\n",
       "    }\n",
       "</style>\n",
       "<table border=\"1\" class=\"dataframe\">\n",
       "  <thead>\n",
       "    <tr style=\"text-align: right;\">\n",
       "      <th></th>\n",
       "      <th>Measure</th>\n",
       "      <th>Source</th>\n",
       "    </tr>\n",
       "  </thead>\n",
       "  <tbody>\n",
       "    <tr>\n",
       "      <th>0</th>\n",
       "      <td>Accuracy</td>\n",
       "      <td>0.898</td>\n",
       "    </tr>\n",
       "    <tr>\n",
       "      <th>1</th>\n",
       "      <td>Precision</td>\n",
       "      <td>0.919</td>\n",
       "    </tr>\n",
       "    <tr>\n",
       "      <th>2</th>\n",
       "      <td>Recall</td>\n",
       "      <td>0.916</td>\n",
       "    </tr>\n",
       "    <tr>\n",
       "      <th>3</th>\n",
       "      <td>FPR</td>\n",
       "      <td>0.133</td>\n",
       "    </tr>\n",
       "    <tr>\n",
       "      <th>4</th>\n",
       "      <td>FNR</td>\n",
       "      <td>0.084</td>\n",
       "    </tr>\n",
       "    <tr>\n",
       "      <th>5</th>\n",
       "      <td>F1</td>\n",
       "      <td>0.918</td>\n",
       "    </tr>\n",
       "  </tbody>\n",
       "</table>\n",
       "</div>"
      ],
      "text/plain": [
       "     Measure  Source\n",
       "0   Accuracy   0.898\n",
       "1  Precision   0.919\n",
       "2     Recall   0.916\n",
       "3        FPR   0.133\n",
       "4        FNR   0.084\n",
       "5         F1   0.918"
      ]
     },
     "metadata": {},
     "output_type": "display_data"
    }
   ],
   "source": [
    "display(evaluate_model(prediction, Y_test))"
   ]
  },
  {
   "cell_type": "code",
   "execution_count": 137,
   "id": "leading-prescription",
   "metadata": {
    "pycharm": {
     "name": "#%%\n"
    }
   },
   "outputs": [
    {
     "data": {
      "text/plain": [
       "'Feature Importance'"
      ]
     },
     "metadata": {},
     "output_type": "display_data"
    },
    {
     "data": {
      "image/png": "[encoded data removed]",
      "text/plain": [
       "<Figure size 432x288 with 1 Axes>"
      ]
     },
     "metadata": {},
     "output_type": "display_data"
    }
   ],
   "source": [
    "columns = ['edge_wtf', 'W', 'CN', 'AA', 'HP', 'HD', 'JC', 'LHN', 'RA', 'SA', 'SO', 'avg_deg',\n",
    "           'CN_WT', 'AA_WT', 'HP_WT', 'HD_WT', 'JC_WT', 'LHN_WT', 'RA_WT', 'SA_WT', 'SO_WT']\n",
    "feature_importance(columns, classifier)"
   ]
  },
  {
   "cell_type": "markdown",
   "id": "compressed-convergence",
   "metadata": {},
   "source": [
    "### build the predicted Graph"
   ]
  },
  {
   "cell_type": "code",
   "execution_count": null,
   "id": "collected-conditions",
   "metadata": {
    "pycharm": {
     "name": "#%%\n"
    }
   },
   "outputs": [],
   "source": [
    "joblib.dump(classifier, \"./random_forest.joblib\")"
   ]
  },
  {
   "cell_type": "markdown",
   "id": "traditional-democrat",
   "metadata": {},
   "source": [
    "### build the predicted Graph"
   ]
  },
  {
   "cell_type": "code",
   "execution_count": null,
   "id": "broadband-supplement",
   "metadata": {
    "pycharm": {
     "name": "#%%\n"
    }
   },
   "outputs": [],
   "source": [
    "real_graph_2016 = json_graph.node_link_graph(\n",
    "            utilities.read_json(\"/home/c6/Desktop/OpenWPM/jsons/AST/CDX_results/Graphs/2016/Graph.json\"))\n",
    "\n",
    "concat_pred = [testing_WT_df.iloc[:,0:2],X_test, pd.Series(prediction)]\n",
    "predicted_graph_2016 = pd.concat(concat_pred,axis=1)\n"
   ]
  },
  {
   "cell_type": "code",
   "execution_count": null,
   "id": "english-washington",
   "metadata": {
    "pycharm": {
     "name": "#%%\n"
    }
   },
   "outputs": [],
   "source": [
    "predicted_graph_2016\n"
   ]
  },
  {
   "cell_type": "markdown",
   "id": "systematic-chile",
   "metadata": {},
   "source": [
    "# Predicting Year : 2017"
   ]
  },
  {
   "cell_type": "markdown",
   "id": "smoking-thailand",
   "metadata": {},
   "source": [
    "### Upload Weighted Temporal Dataset"
   ]
  },
  {
   "cell_type": "code",
   "execution_count": 77,
   "id": "smoking-champion",
   "metadata": {
    "pycharm": {
     "name": "#%%\n"
    }
   },
   "outputs": [
    {
     "data": {
      "text/html": [
       "<div>\n",
       "<style scoped>\n",
       "    .dataframe tbody tr th:only-of-type {\n",
       "        vertical-align: middle;\n",
       "    }\n",
       "\n",
       "    .dataframe tbody tr th {\n",
       "        vertical-align: top;\n",
       "    }\n",
       "\n",
       "    .dataframe thead th {\n",
       "        text-align: right;\n",
       "    }\n",
       "</style>\n",
       "<table border=\"1\" class=\"dataframe\">\n",
       "  <thead>\n",
       "    <tr style=\"text-align: right;\">\n",
       "      <th></th>\n",
       "      <th>edge_wtf</th>\n",
       "      <th>W</th>\n",
       "      <th>CN_WT</th>\n",
       "      <th>AA_WT</th>\n",
       "      <th>HP_WT</th>\n",
       "      <th>HD_WT</th>\n",
       "      <th>JC_WT</th>\n",
       "      <th>LHN_WT</th>\n",
       "      <th>RA_WT</th>\n",
       "      <th>SA_WT</th>\n",
       "      <th>SO_WT</th>\n",
       "      <th>avg_deg</th>\n",
       "    </tr>\n",
       "  </thead>\n",
       "  <tbody>\n",
       "    <tr>\n",
       "      <th>0</th>\n",
       "      <td>0.169</td>\n",
       "      <td>0.053</td>\n",
       "      <td>414.854</td>\n",
       "      <td>54.221</td>\n",
       "      <td>6.543</td>\n",
       "      <td>1.161</td>\n",
       "      <td>0.986</td>\n",
       "      <td>0.018</td>\n",
       "      <td>4.840</td>\n",
       "      <td>4.840</td>\n",
       "      <td>1.972</td>\n",
       "      <td>1974.000</td>\n",
       "    </tr>\n",
       "    <tr>\n",
       "      <th>1</th>\n",
       "      <td>0.199</td>\n",
       "      <td>0.063</td>\n",
       "      <td>495.048</td>\n",
       "      <td>62.822</td>\n",
       "      <td>3.438</td>\n",
       "      <td>1.386</td>\n",
       "      <td>0.988</td>\n",
       "      <td>0.010</td>\n",
       "      <td>4.690</td>\n",
       "      <td>4.690</td>\n",
       "      <td>1.975</td>\n",
       "      <td>1945.500</td>\n",
       "    </tr>\n",
       "    <tr>\n",
       "      <th>2</th>\n",
       "      <td>0.010</td>\n",
       "      <td>0.003</td>\n",
       "      <td>318.145</td>\n",
       "      <td>37.699</td>\n",
       "      <td>23.290</td>\n",
       "      <td>0.891</td>\n",
       "      <td>0.858</td>\n",
       "      <td>0.065</td>\n",
       "      <td>1.561</td>\n",
       "      <td>1.561</td>\n",
       "      <td>1.716</td>\n",
       "      <td>1428.000</td>\n",
       "    </tr>\n",
       "    <tr>\n",
       "      <th>3</th>\n",
       "      <td>0.140</td>\n",
       "      <td>0.044</td>\n",
       "      <td>379.742</td>\n",
       "      <td>47.257</td>\n",
       "      <td>8.066</td>\n",
       "      <td>1.063</td>\n",
       "      <td>0.939</td>\n",
       "      <td>0.023</td>\n",
       "      <td>2.867</td>\n",
       "      <td>2.867</td>\n",
       "      <td>1.878</td>\n",
       "      <td>1643.000</td>\n",
       "    </tr>\n",
       "    <tr>\n",
       "      <th>4</th>\n",
       "      <td>0.740</td>\n",
       "      <td>0.234</td>\n",
       "      <td>926.439</td>\n",
       "      <td>115.601</td>\n",
       "      <td>2.593</td>\n",
       "      <td>1.614</td>\n",
       "      <td>0.995</td>\n",
       "      <td>0.005</td>\n",
       "      <td>8.564</td>\n",
       "      <td>8.564</td>\n",
       "      <td>1.989</td>\n",
       "      <td>2147.000</td>\n",
       "    </tr>\n",
       "  </tbody>\n",
       "</table>\n",
       "</div>"
      ],
      "text/plain": [
       "   edge_wtf     W   CN_WT   AA_WT  HP_WT  HD_WT  JC_WT  LHN_WT  RA_WT  SA_WT  \\\n",
       "0     0.169 0.053 414.854  54.221  6.543  1.161  0.986   0.018  4.840  4.840   \n",
       "1     0.199 0.063 495.048  62.822  3.438  1.386  0.988   0.010  4.690  4.690   \n",
       "2     0.010 0.003 318.145  37.699 23.290  0.891  0.858   0.065  1.561  1.561   \n",
       "3     0.140 0.044 379.742  47.257  8.066  1.063  0.939   0.023  2.867  2.867   \n",
       "4     0.740 0.234 926.439 115.601  2.593  1.614  0.995   0.005  8.564  8.564   \n",
       "\n",
       "   SO_WT  avg_deg  \n",
       "0  1.972 1974.000  \n",
       "1  1.975 1945.500  \n",
       "2  1.716 1428.000  \n",
       "3  1.878 1643.000  \n",
       "4  1.989 2147.000  "
      ]
     },
     "execution_count": 77,
     "metadata": {},
     "output_type": "execute_result"
    }
   ],
   "source": [
    "with open(\"/home/c6/Desktop/OpenWPM/jsons/Prediction_new/WT/2017/train/dataframe.csv\", newline='') as csvfile:\n",
    "    training_WT_df = pd.read_csv(csvfile)\n",
    "\n",
    "training_WT_df['avg_deg'] = (training_WT_df['deg_e1']+training_WT_df['deg_e2'])/2\n",
    "training_WT_df = training_WT_df.drop(['deg_e1', 'deg_e2'], axis=1)\n",
    "training_WT_df = training_WT_df[['e1','e2','edge_wtf','W','CN','AA','HP','HD','JC','LHN','RA','SA','SO','avg_deg','label']]\n",
    "training_WT_df = training_WT_df.rename(columns={\"CN\": \"CN_WT\", \"AA\": \"AA_WT\", \"HP\": \"HP_WT\", \"HD\": \"HD_WT\", \"JC\": \"JC_WT\", \"LHN\": \"LHN_WT\",\n",
    "                  \"RA\": \"RA_WT\", \"SA\": \"SA_WT\", \"SO\": \"SO_WT\"})\n",
    "\n",
    "X_WT_train = training_WT_df.iloc[:,2:-1]\n",
    "Y_train = training_WT_df.iloc[:]['label']\n",
    "\n",
    "X_WT_train.head()\n",
    "\n",
    "with open(\"/home/c6/Desktop/OpenWPM/jsons/Prediction_new/WT/2017/test/dataframe.csv\", newline='') as csvfile:\n",
    "    testing_WT_df = pd.read_csv(csvfile)\n",
    "\n",
    "testing_WT_df['avg_deg'] = (testing_WT_df['deg_e1']+testing_WT_df['deg_e2'])/2\n",
    "testing_WT_df = testing_WT_df.drop(['deg_e1', 'deg_e2'], axis=1)\n",
    "testing_WT_df = testing_WT_df[['e1','e2','edge_wtf','W','CN','AA','HP','HD','JC','LHN','RA','SA','SO','avg_deg','label']]\n",
    "testing_WT_df = testing_WT_df.rename(columns={\"CN\": \"CN_WT\", \"AA\": \"AA_WT\", \"HP\": \"HP_WT\", \"HD\": \"HD_WT\", \"JC\": \"JC_WT\", \"LHN\": \"LHN_WT\",\n",
    "                  \"RA\": \"RA_WT\", \"SA\": \"SA_WT\", \"SO\": \"SO_WT\"})\n",
    "\n",
    "\n",
    "X_WT_test = testing_WT_df.iloc[:,2:-1]\n",
    "Y_test = testing_WT_df.iloc[:]['label']\n",
    "\n",
    "X_WT_test.head()"
   ]
  },
  {
   "cell_type": "code",
   "execution_count": 4,
   "id": "optional-maryland",
   "metadata": {
    "pycharm": {
     "name": "#%%\n"
    }
   },
   "outputs": [
    {
     "data": {
      "text/plain": [
       "(3460842, 12)"
      ]
     },
     "execution_count": 4,
     "metadata": {},
     "output_type": "execute_result"
    }
   ],
   "source": [
    "X_WT_train.shape"
   ]
  },
  {
   "cell_type": "markdown",
   "id": "indirect-canadian",
   "metadata": {},
   "source": [
    "### Upload Unweighted non-Temporal Dataset"
   ]
  },
  {
   "cell_type": "code",
   "execution_count": 78,
   "id": "straight-retail",
   "metadata": {
    "pycharm": {
     "name": "#%%\n"
    }
   },
   "outputs": [
    {
     "data": {
      "text/html": [
       "<div>\n",
       "<style scoped>\n",
       "    .dataframe tbody tr th:only-of-type {\n",
       "        vertical-align: middle;\n",
       "    }\n",
       "\n",
       "    .dataframe tbody tr th {\n",
       "        vertical-align: top;\n",
       "    }\n",
       "\n",
       "    .dataframe thead th {\n",
       "        text-align: right;\n",
       "    }\n",
       "</style>\n",
       "<table border=\"1\" class=\"dataframe\">\n",
       "  <thead>\n",
       "    <tr style=\"text-align: right;\">\n",
       "      <th></th>\n",
       "      <th>CN</th>\n",
       "      <th>AA</th>\n",
       "      <th>HP</th>\n",
       "      <th>HD</th>\n",
       "      <th>JC</th>\n",
       "      <th>LHN</th>\n",
       "      <th>RA</th>\n",
       "      <th>SA</th>\n",
       "      <th>SO</th>\n",
       "    </tr>\n",
       "  </thead>\n",
       "  <tbody>\n",
       "    <tr>\n",
       "      <th>0</th>\n",
       "      <td>1674</td>\n",
       "      <td>167.602</td>\n",
       "      <td>0.926</td>\n",
       "      <td>0.782</td>\n",
       "      <td>0.736</td>\n",
       "      <td>0.000</td>\n",
       "      <td>1.841</td>\n",
       "      <td>1.841</td>\n",
       "      <td>0.848</td>\n",
       "    </tr>\n",
       "    <tr>\n",
       "      <th>1</th>\n",
       "      <td>1584</td>\n",
       "      <td>158.284</td>\n",
       "      <td>0.905</td>\n",
       "      <td>0.740</td>\n",
       "      <td>0.687</td>\n",
       "      <td>0.000</td>\n",
       "      <td>1.735</td>\n",
       "      <td>1.735</td>\n",
       "      <td>0.814</td>\n",
       "    </tr>\n",
       "    <tr>\n",
       "      <th>2</th>\n",
       "      <td>698</td>\n",
       "      <td>66.486</td>\n",
       "      <td>0.975</td>\n",
       "      <td>0.326</td>\n",
       "      <td>0.323</td>\n",
       "      <td>0.000</td>\n",
       "      <td>0.533</td>\n",
       "      <td>0.533</td>\n",
       "      <td>0.489</td>\n",
       "    </tr>\n",
       "    <tr>\n",
       "      <th>3</th>\n",
       "      <td>1107</td>\n",
       "      <td>107.385</td>\n",
       "      <td>0.966</td>\n",
       "      <td>0.517</td>\n",
       "      <td>0.508</td>\n",
       "      <td>0.000</td>\n",
       "      <td>0.947</td>\n",
       "      <td>0.947</td>\n",
       "      <td>0.674</td>\n",
       "    </tr>\n",
       "    <tr>\n",
       "      <th>4</th>\n",
       "      <td>1913</td>\n",
       "      <td>194.155</td>\n",
       "      <td>0.894</td>\n",
       "      <td>0.888</td>\n",
       "      <td>0.803</td>\n",
       "      <td>0.000</td>\n",
       "      <td>2.336</td>\n",
       "      <td>2.336</td>\n",
       "      <td>0.891</td>\n",
       "    </tr>\n",
       "  </tbody>\n",
       "</table>\n",
       "</div>"
      ],
      "text/plain": [
       "     CN      AA    HP    HD    JC   LHN    RA    SA    SO\n",
       "0  1674 167.602 0.926 0.782 0.736 0.000 1.841 1.841 0.848\n",
       "1  1584 158.284 0.905 0.740 0.687 0.000 1.735 1.735 0.814\n",
       "2   698  66.486 0.975 0.326 0.323 0.000 0.533 0.533 0.489\n",
       "3  1107 107.385 0.966 0.517 0.508 0.000 0.947 0.947 0.674\n",
       "4  1913 194.155 0.894 0.888 0.803 0.000 2.336 2.336 0.891"
      ]
     },
     "execution_count": 78,
     "metadata": {},
     "output_type": "execute_result"
    }
   ],
   "source": [
    "with open(\"/home/c6/Desktop/OpenWPM/jsons/Prediction_new/non_temporal_unweighted/2017/train/dataframe.csv\", newline='') as csvfile:\n",
    "    training_non_df = pd.read_csv(csvfile)\n",
    "\n",
    "training_non_df = training_non_df.drop(['deg_e1', 'deg_e2'], axis=1)\n",
    "training_non_df = training_non_df[['e1','e2','CN','AA','HP','HD','JC','LHN','RA','SA','SO','label']]\n",
    "\n",
    "X_non_train = training_non_df.iloc[:,2:-1]\n",
    "#Y_train = training_df.iloc[:]['label']\n",
    "\n",
    "#X_train.head()\n",
    "\n",
    "with open(\"/home/c6/Desktop/OpenWPM/jsons/Prediction_new/non_temporal_unweighted/2017/test/dataframe.csv\", newline='') as csvfile:\n",
    "    testing_non_df = pd.read_csv(csvfile)\n",
    "\n",
    "testing_non_df = testing_non_df.drop(['deg_e1', 'deg_e2'], axis=1)\n",
    "testing_non_df = testing_non_df[['e1','e2','CN','AA','HP','HD','JC','LHN','RA','SA','SO','label']]\n",
    "\n",
    "\n",
    "X_non_test = testing_non_df.iloc[:,2:-1]\n",
    "#Y_test = testing_df.iloc[:]['label']\n",
    "\n",
    "X_non_test.head()"
   ]
  },
  {
   "cell_type": "code",
   "execution_count": 6,
   "id": "impressive-match",
   "metadata": {
    "pycharm": {
     "name": "#%%\n"
    }
   },
   "outputs": [
    {
     "data": {
      "text/plain": [
       "(4294392, 16)"
      ]
     },
     "execution_count": 6,
     "metadata": {},
     "output_type": "execute_result"
    }
   ],
   "source": [
    "with open(\"/home/c6/Desktop/OpenWPM/jsons/Prediction_new/non_temporal_unweighted/2017/test/dataframe.csv\", newline='') as csvfile:\n",
    "    testing_non_df = pd.read_csv(csvfile)\n",
    "testing_non_df.shape"
   ]
  },
  {
   "cell_type": "code",
   "execution_count": 7,
   "id": "inside-remains",
   "metadata": {
    "pycharm": {
     "name": "#%%\n"
    }
   },
   "outputs": [
    {
     "data": {
      "text/plain": [
       "(4294392, 16)"
      ]
     },
     "execution_count": 7,
     "metadata": {},
     "output_type": "execute_result"
    }
   ],
   "source": [
    "with open(\"/home/c6/Desktop/OpenWPM/jsons/Prediction_new/WT/2017/test/dataframe.csv\", newline='') as csvfile:\n",
    "    testing_WT_df = pd.read_csv(csvfile)\n",
    "testing_WT_df.shape"
   ]
  },
  {
   "cell_type": "code",
   "execution_count": 8,
   "id": "induced-timothy",
   "metadata": {
    "pycharm": {
     "name": "#%%\n"
    }
   },
   "outputs": [
    {
     "data": {
      "text/plain": [
       "(3460842, 16)"
      ]
     },
     "execution_count": 8,
     "metadata": {},
     "output_type": "execute_result"
    }
   ],
   "source": [
    "with open(\"/home/c6/Desktop/OpenWPM/jsons/Prediction_new/non_temporal_unweighted/2017/train/dataframe.csv\", newline='') as csvfile:\n",
    "    training_WT_df = pd.read_csv(csvfile)\n",
    "training_WT_df.shape"
   ]
  },
  {
   "cell_type": "code",
   "execution_count": 9,
   "id": "mineral-feelings",
   "metadata": {
    "pycharm": {
     "name": "#%%\n"
    }
   },
   "outputs": [
    {
     "data": {
      "text/plain": [
       "(3460842, 16)"
      ]
     },
     "execution_count": 9,
     "metadata": {},
     "output_type": "execute_result"
    }
   ],
   "source": [
    "with open(\"/home/c6/Desktop/OpenWPM/jsons/Prediction_new/WT/2017/train/dataframe.csv\", newline='') as csvfile:\n",
    "    training_non_df = pd.read_csv(csvfile)\n",
    "training_non_df.shape"
   ]
  },
  {
   "cell_type": "code",
   "execution_count": 10,
   "id": "unavailable-bradley",
   "metadata": {
    "pycharm": {
     "name": "#%%\n"
    }
   },
   "outputs": [],
   "source": [
    "from networkx.readwrite import json_graph\n",
    "G_addr = \"/home/c6/Desktop/OpenWPM/jsons/Prediction_new/non_temporal_unweighted/2017/test/Graph.json\"\n",
    "g = utilities.read_json(G_addr)\n",
    "G = json_graph.node_link_graph(g)"
   ]
  },
  {
   "cell_type": "code",
   "execution_count": 11,
   "id": "reliable-albert",
   "metadata": {
    "pycharm": {
     "name": "#%%\n"
    }
   },
   "outputs": [],
   "source": [
    "H_addr = \"/home/c6/Desktop/OpenWPM/jsons/Prediction_new/WT/2017/test/Graph.json\"\n",
    "h = utilities.read_json(H_addr)\n",
    "H = json_graph.node_link_graph(h)"
   ]
  },
  {
   "cell_type": "code",
   "execution_count": 12,
   "id": "rubber-processor",
   "metadata": {
    "pycharm": {
     "name": "#%%\n"
    }
   },
   "outputs": [
    {
     "data": {
      "text/plain": [
       "2630"
      ]
     },
     "execution_count": 12,
     "metadata": {},
     "output_type": "execute_result"
    }
   ],
   "source": [
    "len(G.nodes())"
   ]
  },
  {
   "cell_type": "code",
   "execution_count": 13,
   "id": "liked-independence",
   "metadata": {
    "pycharm": {
     "name": "#%%\n"
    }
   },
   "outputs": [
    {
     "data": {
      "text/plain": [
       "2630"
      ]
     },
     "execution_count": 13,
     "metadata": {},
     "output_type": "execute_result"
    }
   ],
   "source": [
    "len(H.nodes())"
   ]
  },
  {
   "cell_type": "code",
   "execution_count": 14,
   "id": "commercial-plaintiff",
   "metadata": {
    "pycharm": {
     "name": "#%%\n"
    }
   },
   "outputs": [
    {
     "data": {
      "text/plain": [
       "1193191"
      ]
     },
     "execution_count": 14,
     "metadata": {},
     "output_type": "execute_result"
    }
   ],
   "source": [
    "len(G.edges())"
   ]
  },
  {
   "cell_type": "code",
   "execution_count": 15,
   "id": "interpreted-briefs",
   "metadata": {
    "pycharm": {
     "name": "#%%\n"
    }
   },
   "outputs": [
    {
     "data": {
      "text/plain": [
       "1193191"
      ]
     },
     "execution_count": 15,
     "metadata": {},
     "output_type": "execute_result"
    }
   ],
   "source": [
    "len(H.edges())"
   ]
  },
  {
   "cell_type": "code",
   "execution_count": 16,
   "id": "nutritional-coaching",
   "metadata": {
    "pycharm": {
     "name": "#%%\n"
    }
   },
   "outputs": [
    {
     "data": {
      "text/plain": [
       "3101201"
      ]
     },
     "execution_count": 16,
     "metadata": {},
     "output_type": "execute_result"
    }
   ],
   "source": [
    "disconnection_addr = \"/home/c6/Desktop/OpenWPM/jsons/Prediction_new/non_temporal_unweighted/2017/test/disconnect.json\"\n",
    "disconnection = utilities.read_json(disconnection_addr)\n",
    "len(disconnection)"
   ]
  },
  {
   "cell_type": "code",
   "execution_count": 17,
   "id": "arabic-lyric",
   "metadata": {
    "pycharm": {
     "name": "#%%\n"
    }
   },
   "outputs": [
    {
     "data": {
      "text/plain": [
       "3101201"
      ]
     },
     "execution_count": 17,
     "metadata": {},
     "output_type": "execute_result"
    }
   ],
   "source": [
    "disconnection_addr = \"/home/c6/Desktop/OpenWPM/jsons/Prediction_new/WT/2017/test/disconnect.json\"\n",
    "disconnection = utilities.read_json(disconnection_addr)\n",
    "len(disconnection)"
   ]
  },
  {
   "cell_type": "markdown",
   "id": "center-motor",
   "metadata": {},
   "source": [
    "### Merge Datasets"
   ]
  },
  {
   "cell_type": "code",
   "execution_count": 79,
   "id": "brutal-protein",
   "metadata": {
    "pycharm": {
     "name": "#%%\n"
    }
   },
   "outputs": [],
   "source": [
    "training_frames = [X_WT_train, X_non_train]\n",
    "testing_frames = [X_WT_test, X_non_test]\n",
    "\n",
    "X_train = pd.concat(training_frames,axis=1)\n",
    "X_test = pd.concat(testing_frames,axis=1)"
   ]
  },
  {
   "cell_type": "code",
   "execution_count": 80,
   "id": "threaded-morrison",
   "metadata": {
    "pycharm": {
     "name": "#%%\n"
    }
   },
   "outputs": [
    {
     "name": "stdout",
     "output_type": "stream",
     "text": [
      "Positive Samples:  741384\n",
      "Negative_samples:  451807\n"
     ]
    }
   ],
   "source": [
    "positive_samples = 0\n",
    "negative_sample = 0\n",
    "for i in Y_train:\n",
    "    if i==1:\n",
    "        positive_samples += 1\n",
    "    else:\n",
    "        negative_sample += 1\n",
    "\n",
    "print(\"Positive Samples: \", positive_samples)\n",
    "print(\"Negative_samples: \", negative_sample)"
   ]
  },
  {
   "cell_type": "markdown",
   "id": "located-hydrogen",
   "metadata": {},
   "source": [
    "### upsample minority class"
   ]
  },
  {
   "cell_type": "code",
   "execution_count": null,
   "id": "finnish-consensus",
   "metadata": {},
   "outputs": [],
   "source": [
    "# Separate majority and minority classes\n",
    "training_df_cat = [X_train, Y_train]\n",
    "training_df = pd.concat(training_df_cat,axis=1)\n",
    "\n",
    "df_majority = training_df[training_df.label==0]\n",
    "df_minority = training_df[training_df.label==1]\n",
    "\n",
    "# Upsample minority class\n",
    "df_minority_upsampled = resample(df_minority,\n",
    "                                 replace=True,     # sample with replacement\n",
    "                                 n_samples=272827,    # to match majority class\n",
    "                                 random_state=123) # reproducible results\n",
    "\n",
    "# Combine majority class with upsampled minority class\n",
    "df_upsampled = pd.concat([df_majority, df_minority_upsampled])\n",
    "\n",
    "# Display new class counts\n",
    "df_upsampled.label.value_counts()\n",
    "X_train = df_upsampled.iloc[:,0:-1]\n",
    "Y_train = df_upsampled.iloc[:]['label']\n",
    "# 1    576\n",
    "# 0    576\n",
    "# Name: balance, dtype: int64"
   ]
  },
  {
   "cell_type": "markdown",
   "id": "absolute-interest",
   "metadata": {},
   "source": [
    "* define evaluation function"
   ]
  },
  {
   "cell_type": "code",
   "execution_count": 81,
   "id": "internal-ecuador",
   "metadata": {
    "pycharm": {
     "name": "#%%\n"
    }
   },
   "outputs": [],
   "source": [
    "def evaluate_model(predictions, actual):\n",
    "    TP = 0\n",
    "    FP = 0\n",
    "    TN = 0\n",
    "    FN = 0\n",
    "\n",
    "    for i in range(len(predictions)):\n",
    "        if actual[i]==predictions[i]==1:\n",
    "            TP += 1\n",
    "        if predictions[i]==1 and actual[i]!=predictions[i]:\n",
    "            FP += 1\n",
    "        if actual[i]==predictions[i]==0:\n",
    "            TN += 1\n",
    "        if predictions[i]==0 and actual[i]!=predictions[i]:\n",
    "            FN += 1\n",
    "    return pd.DataFrame({\n",
    "        \"Measure\": [\"Accuracy\", \"Precision\", \"Recall\", \"FPR\", \"FNR\", \"F1\"],\n",
    "        \"Source\": [accuracy_score(actual, predictions),\n",
    "                   precision_score(actual, predictions),\n",
    "                   recall_score(actual, predictions),\n",
    "                   FP/(FP+TN),\n",
    "                   FN/(FN+TP),\n",
    "                   f1_score(actual, predictions)]\n",
    "    })"
   ]
  },
  {
   "cell_type": "markdown",
   "id": "dated-philadelphia",
   "metadata": {},
   "source": [
    "* Find important features"
   ]
  },
  {
   "cell_type": "code",
   "execution_count": 82,
   "id": "broad-labor",
   "metadata": {
    "pycharm": {
     "name": "#%%\n"
    }
   },
   "outputs": [],
   "source": [
    "def feature_importance(columns, classifier):\n",
    "    display(\"Feature Importance\")\n",
    "    df = pd.DataFrame({\"Features\": columns,\n",
    "                      \"Importance\": classifier.feature_importances_})\n",
    "    df = df.sort_values(\"Importance\", ascending=False)\n",
    "    ax = df.plot(kind='bar', x='Features', y='Importance', legend=None)\n",
    "    #ax.xaxist.set_label_text(\"\")\n",
    "    plt.tight_layout()\n",
    "    plt.show"
   ]
  },
  {
   "cell_type": "markdown",
   "id": "suspected-member",
   "metadata": {},
   "source": [
    " ### choose a ML algorithm"
   ]
  },
  {
   "cell_type": "markdown",
   "id": "social-toolbox",
   "metadata": {},
   "source": [
    "### 1. Random Forest"
   ]
  },
  {
   "cell_type": "code",
   "execution_count": 83,
   "id": "secret-favor",
   "metadata": {
    "pycharm": {
     "name": "#%%\n"
    }
   },
   "outputs": [],
   "source": [
    "classifier = RandomForestClassifier(n_estimators=100, max_depth=20, criterion=\"entropy\", class_weight={0: 1, 1: 4})"
   ]
  },
  {
   "cell_type": "markdown",
   "id": "veterinary-adaptation",
   "metadata": {},
   "source": [
    "### Train and predict"
   ]
  },
  {
   "cell_type": "code",
   "execution_count": 84,
   "id": "sharp-production",
   "metadata": {
    "pycharm": {
     "name": "#%%\n"
    }
   },
   "outputs": [
    {
     "data": {
      "text/plain": [
       "RandomForestClassifier(class_weight={0: 1, 1: 4}, criterion='entropy',\n",
       "                       max_depth=20)"
      ]
     },
     "execution_count": 84,
     "metadata": {},
     "output_type": "execute_result"
    }
   ],
   "source": [
    "classifier.fit(X_train, Y_train)"
   ]
  },
  {
   "cell_type": "code",
   "execution_count": 85,
   "id": "photographic-columbus",
   "metadata": {
    "pycharm": {
     "name": "#%%\n"
    }
   },
   "outputs": [],
   "source": [
    "prediction = classifier.predict(X_test)"
   ]
  },
  {
   "cell_type": "code",
   "execution_count": 86,
   "id": "amateur-duplicate",
   "metadata": {
    "pycharm": {
     "name": "#%%\n"
    }
   },
   "outputs": [
    {
     "data": {
      "text/plain": [
       "(1609962,)"
      ]
     },
     "execution_count": 86,
     "metadata": {},
     "output_type": "execute_result"
    }
   ],
   "source": [
    "prediction.shape"
   ]
  },
  {
   "cell_type": "code",
   "execution_count": 87,
   "id": "cubic-candidate",
   "metadata": {
    "pycharm": {
     "name": "#%%\n"
    }
   },
   "outputs": [
    {
     "data": {
      "text/plain": [
       "array([0, 1])"
      ]
     },
     "execution_count": 87,
     "metadata": {},
     "output_type": "execute_result"
    }
   ],
   "source": [
    "np.unique(prediction)"
   ]
  },
  {
   "cell_type": "code",
   "execution_count": 88,
   "id": "medical-width",
   "metadata": {
    "pycharm": {
     "name": "#%%\n"
    }
   },
   "outputs": [
    {
     "data": {
      "text/html": [
       "<div>\n",
       "<style scoped>\n",
       "    .dataframe tbody tr th:only-of-type {\n",
       "        vertical-align: middle;\n",
       "    }\n",
       "\n",
       "    .dataframe tbody tr th {\n",
       "        vertical-align: top;\n",
       "    }\n",
       "\n",
       "    .dataframe thead th {\n",
       "        text-align: right;\n",
       "    }\n",
       "</style>\n",
       "<table border=\"1\" class=\"dataframe\">\n",
       "  <thead>\n",
       "    <tr style=\"text-align: right;\">\n",
       "      <th></th>\n",
       "      <th>Measure</th>\n",
       "      <th>Source</th>\n",
       "    </tr>\n",
       "  </thead>\n",
       "  <tbody>\n",
       "    <tr>\n",
       "      <th>0</th>\n",
       "      <td>Accuracy</td>\n",
       "      <td>0.928</td>\n",
       "    </tr>\n",
       "    <tr>\n",
       "      <th>1</th>\n",
       "      <td>Precision</td>\n",
       "      <td>0.907</td>\n",
       "    </tr>\n",
       "    <tr>\n",
       "      <th>2</th>\n",
       "      <td>Recall</td>\n",
       "      <td>0.994</td>\n",
       "    </tr>\n",
       "    <tr>\n",
       "      <th>3</th>\n",
       "      <td>FPR</td>\n",
       "      <td>0.206</td>\n",
       "    </tr>\n",
       "    <tr>\n",
       "      <th>4</th>\n",
       "      <td>FNR</td>\n",
       "      <td>0.006</td>\n",
       "    </tr>\n",
       "    <tr>\n",
       "      <th>5</th>\n",
       "      <td>F1</td>\n",
       "      <td>0.949</td>\n",
       "    </tr>\n",
       "  </tbody>\n",
       "</table>\n",
       "</div>"
      ],
      "text/plain": [
       "     Measure  Source\n",
       "0   Accuracy   0.928\n",
       "1  Precision   0.907\n",
       "2     Recall   0.994\n",
       "3        FPR   0.206\n",
       "4        FNR   0.006\n",
       "5         F1   0.949"
      ]
     },
     "metadata": {},
     "output_type": "display_data"
    }
   ],
   "source": [
    "display(evaluate_model(prediction, Y_test))"
   ]
  },
  {
   "cell_type": "code",
   "execution_count": 28,
   "id": "transsexual-amateur",
   "metadata": {
    "pycharm": {
     "name": "#%%\n"
    }
   },
   "outputs": [
    {
     "data": {
      "text/plain": [
       "'Feature Importance'"
      ]
     },
     "metadata": {},
     "output_type": "display_data"
    },
    {
     "data": {
      "image/png": "[encoded data removed]",
      "text/plain": [
       "<Figure size 432x288 with 1 Axes>"
      ]
     },
     "metadata": {},
     "output_type": "display_data"
    }
   ],
   "source": [
    "columns = ['edge_wtf', 'W', 'CN', 'AA', 'HP', 'HD', 'JC', 'LHN', 'RA', 'SA', 'SO', 'avg_deg',\n",
    "           'CN_WT', 'AA_WT', 'HP_WT', 'HD_WT', 'JC_WT', 'LHN_WT', 'RA_WT', 'SA_WT', 'SO_WT']\n",
    "feature_importance(columns, classifier)"
   ]
  },
  {
   "cell_type": "markdown",
   "id": "built-decision",
   "metadata": {},
   "source": [
    "### build the predicted Graph"
   ]
  },
  {
   "cell_type": "code",
   "execution_count": null,
   "id": "identical-barrier",
   "metadata": {
    "pycharm": {
     "name": "#%%\n"
    }
   },
   "outputs": [],
   "source": [
    "joblib.dump(classifier, \"./random_forest.joblib\")"
   ]
  },
  {
   "cell_type": "markdown",
   "id": "cordless-madonna",
   "metadata": {},
   "source": [
    "### build the predicted Graph"
   ]
  },
  {
   "cell_type": "code",
   "execution_count": null,
   "id": "positive-contemporary",
   "metadata": {
    "pycharm": {
     "name": "#%%\n"
    }
   },
   "outputs": [],
   "source": [
    "real_graph_2017 = json_graph.node_link_graph(\n",
    "            utilities.read_json(\"/home/c6/Desktop/OpenWPM/jsons/AST/CDX_results/Graphs/2017/Graph.json\"))\n",
    "\n",
    "concat_pred = [testing_WT_df.iloc[:,0:2],X_test, pd.Series(prediction)]\n",
    "predicted_graph_2017 = pd.concat(concat_pred,axis=1)\n"
   ]
  },
  {
   "cell_type": "code",
   "execution_count": null,
   "id": "cross-transcription",
   "metadata": {
    "pycharm": {
     "name": "#%%\n"
    }
   },
   "outputs": [],
   "source": [
    "predicted_graph_2017\n"
   ]
  },
  {
   "cell_type": "markdown",
   "id": "settled-girlfriend",
   "metadata": {},
   "source": [
    "# Predicting Year : 2018"
   ]
  },
  {
   "cell_type": "markdown",
   "id": "refined-operator",
   "metadata": {},
   "source": [
    "### Upload Weighted Temporal Dataset"
   ]
  },
  {
   "cell_type": "code",
   "execution_count": 89,
   "id": "incorporate-residence",
   "metadata": {
    "pycharm": {
     "name": "#%%\n"
    }
   },
   "outputs": [
    {
     "data": {
      "text/html": [
       "<div>\n",
       "<style scoped>\n",
       "    .dataframe tbody tr th:only-of-type {\n",
       "        vertical-align: middle;\n",
       "    }\n",
       "\n",
       "    .dataframe tbody tr th {\n",
       "        vertical-align: top;\n",
       "    }\n",
       "\n",
       "    .dataframe thead th {\n",
       "        text-align: right;\n",
       "    }\n",
       "</style>\n",
       "<table border=\"1\" class=\"dataframe\">\n",
       "  <thead>\n",
       "    <tr style=\"text-align: right;\">\n",
       "      <th></th>\n",
       "      <th>edge_wtf</th>\n",
       "      <th>W</th>\n",
       "      <th>CN_WT</th>\n",
       "      <th>AA_WT</th>\n",
       "      <th>HP_WT</th>\n",
       "      <th>HD_WT</th>\n",
       "      <th>JC_WT</th>\n",
       "      <th>LHN_WT</th>\n",
       "      <th>RA_WT</th>\n",
       "      <th>SA_WT</th>\n",
       "      <th>SO_WT</th>\n",
       "      <th>avg_deg</th>\n",
       "    </tr>\n",
       "  </thead>\n",
       "  <tbody>\n",
       "    <tr>\n",
       "      <th>0</th>\n",
       "      <td>5.673</td>\n",
       "      <td>1.708</td>\n",
       "      <td>2127.190</td>\n",
       "      <td>262.476</td>\n",
       "      <td>2.188</td>\n",
       "      <td>1.823</td>\n",
       "      <td>0.995</td>\n",
       "      <td>0.002</td>\n",
       "      <td>22.487</td>\n",
       "      <td>22.487</td>\n",
       "      <td>1.989</td>\n",
       "      <td>2972.000</td>\n",
       "    </tr>\n",
       "    <tr>\n",
       "      <th>1</th>\n",
       "      <td>6.133</td>\n",
       "      <td>1.846</td>\n",
       "      <td>2403.414</td>\n",
       "      <td>294.904</td>\n",
       "      <td>2.473</td>\n",
       "      <td>1.665</td>\n",
       "      <td>0.995</td>\n",
       "      <td>0.002</td>\n",
       "      <td>24.661</td>\n",
       "      <td>24.661</td>\n",
       "      <td>1.990</td>\n",
       "      <td>3004.000</td>\n",
       "    </tr>\n",
       "    <tr>\n",
       "      <th>2</th>\n",
       "      <td>4.036</td>\n",
       "      <td>1.215</td>\n",
       "      <td>1886.737</td>\n",
       "      <td>229.741</td>\n",
       "      <td>2.043</td>\n",
       "      <td>1.941</td>\n",
       "      <td>0.995</td>\n",
       "      <td>0.002</td>\n",
       "      <td>17.364</td>\n",
       "      <td>17.364</td>\n",
       "      <td>1.991</td>\n",
       "      <td>2785.000</td>\n",
       "    </tr>\n",
       "    <tr>\n",
       "      <th>3</th>\n",
       "      <td>4.650</td>\n",
       "      <td>1.400</td>\n",
       "      <td>2096.511</td>\n",
       "      <td>255.846</td>\n",
       "      <td>2.157</td>\n",
       "      <td>1.848</td>\n",
       "      <td>0.995</td>\n",
       "      <td>0.002</td>\n",
       "      <td>20.506</td>\n",
       "      <td>20.506</td>\n",
       "      <td>1.991</td>\n",
       "      <td>2923.500</td>\n",
       "    </tr>\n",
       "    <tr>\n",
       "      <th>4</th>\n",
       "      <td>5.865</td>\n",
       "      <td>1.766</td>\n",
       "      <td>2271.200</td>\n",
       "      <td>277.453</td>\n",
       "      <td>2.337</td>\n",
       "      <td>1.732</td>\n",
       "      <td>0.995</td>\n",
       "      <td>0.002</td>\n",
       "      <td>21.477</td>\n",
       "      <td>21.477</td>\n",
       "      <td>1.989</td>\n",
       "      <td>2862.000</td>\n",
       "    </tr>\n",
       "  </tbody>\n",
       "</table>\n",
       "</div>"
      ],
      "text/plain": [
       "   edge_wtf     W    CN_WT   AA_WT  HP_WT  HD_WT  JC_WT  LHN_WT  RA_WT  SA_WT  \\\n",
       "0     5.673 1.708 2127.190 262.476  2.188  1.823  0.995   0.002 22.487 22.487   \n",
       "1     6.133 1.846 2403.414 294.904  2.473  1.665  0.995   0.002 24.661 24.661   \n",
       "2     4.036 1.215 1886.737 229.741  2.043  1.941  0.995   0.002 17.364 17.364   \n",
       "3     4.650 1.400 2096.511 255.846  2.157  1.848  0.995   0.002 20.506 20.506   \n",
       "4     5.865 1.766 2271.200 277.453  2.337  1.732  0.995   0.002 21.477 21.477   \n",
       "\n",
       "   SO_WT  avg_deg  \n",
       "0  1.989 2972.000  \n",
       "1  1.990 3004.000  \n",
       "2  1.991 2785.000  \n",
       "3  1.991 2923.500  \n",
       "4  1.989 2862.000  "
      ]
     },
     "execution_count": 89,
     "metadata": {},
     "output_type": "execute_result"
    }
   ],
   "source": [
    "with open(\"/home/c6/Desktop/OpenWPM/jsons/Prediction_new/WT/2018/train/dataframe.csv\", newline='') as csvfile:\n",
    "    training_WT_df = pd.read_csv(csvfile)\n",
    "\n",
    "training_WT_df['avg_deg'] = (training_WT_df['deg_e1']+training_WT_df['deg_e2'])/2\n",
    "training_WT_df = training_WT_df.drop(['deg_e1', 'deg_e2'], axis=1)\n",
    "training_WT_df = training_WT_df[['e1','e2','edge_wtf','W','CN','AA','HP','HD','JC','LHN','RA','SA','SO','avg_deg','label']]\n",
    "training_WT_df = training_WT_df.rename(columns={\"CN\": \"CN_WT\", \"AA\": \"AA_WT\", \"HP\": \"HP_WT\", \"HD\": \"HD_WT\", \"JC\": \"JC_WT\", \"LHN\": \"LHN_WT\",\n",
    "                  \"RA\": \"RA_WT\", \"SA\": \"SA_WT\", \"SO\": \"SO_WT\"})\n",
    "\n",
    "X_WT_train = training_WT_df.iloc[:,2:-1]\n",
    "Y_train = training_WT_df.iloc[:]['label']\n",
    "\n",
    "X_WT_train.head()\n",
    "\n",
    "with open(\"/home/c6/Desktop/OpenWPM/jsons/Prediction_new/WT/2018/test/dataframe.csv\", newline='') as csvfile:\n",
    "    testing_WT_df = pd.read_csv(csvfile)\n",
    "\n",
    "testing_WT_df['avg_deg'] = (testing_WT_df['deg_e1']+testing_WT_df['deg_e2'])/2\n",
    "testing_WT_df = testing_WT_df.drop(['deg_e1', 'deg_e2'], axis=1)\n",
    "testing_WT_df = testing_WT_df[['e1','e2','edge_wtf','W','CN','AA','HP','HD','JC','LHN','RA','SA','SO','avg_deg','label']]\n",
    "testing_WT_df = testing_WT_df.rename(columns={\"CN\": \"CN_WT\", \"AA\": \"AA_WT\", \"HP\": \"HP_WT\", \"HD\": \"HD_WT\", \"JC\": \"JC_WT\", \"LHN\": \"LHN_WT\",\n",
    "                  \"RA\": \"RA_WT\", \"SA\": \"SA_WT\", \"SO\": \"SO_WT\"})\n",
    "\n",
    "\n",
    "X_WT_test = testing_WT_df.iloc[:,2:-1]\n",
    "Y_test = testing_WT_df.iloc[:]['label']\n",
    "\n",
    "X_WT_test.head()"
   ]
  },
  {
   "cell_type": "code",
   "execution_count": 4,
   "id": "quantitative-effectiveness",
   "metadata": {
    "pycharm": {
     "name": "#%%\n"
    }
   },
   "outputs": [
    {
     "data": {
      "text/plain": [
       "(4294392, 12)"
      ]
     },
     "execution_count": 4,
     "metadata": {},
     "output_type": "execute_result"
    }
   ],
   "source": [
    "X_WT_train.shape"
   ]
  },
  {
   "cell_type": "markdown",
   "id": "unnecessary-wallpaper",
   "metadata": {},
   "source": [
    "### Upload Unweighted non-Temporal Dataset"
   ]
  },
  {
   "cell_type": "code",
   "execution_count": 90,
   "id": "premier-topic",
   "metadata": {
    "pycharm": {
     "name": "#%%\n"
    }
   },
   "outputs": [
    {
     "data": {
      "text/html": [
       "<div>\n",
       "<style scoped>\n",
       "    .dataframe tbody tr th:only-of-type {\n",
       "        vertical-align: middle;\n",
       "    }\n",
       "\n",
       "    .dataframe tbody tr th {\n",
       "        vertical-align: top;\n",
       "    }\n",
       "\n",
       "    .dataframe thead th {\n",
       "        text-align: right;\n",
       "    }\n",
       "</style>\n",
       "<table border=\"1\" class=\"dataframe\">\n",
       "  <thead>\n",
       "    <tr style=\"text-align: right;\">\n",
       "      <th></th>\n",
       "      <th>CN</th>\n",
       "      <th>AA</th>\n",
       "      <th>HP</th>\n",
       "      <th>HD</th>\n",
       "      <th>JC</th>\n",
       "      <th>LHN</th>\n",
       "      <th>RA</th>\n",
       "      <th>SA</th>\n",
       "      <th>SO</th>\n",
       "    </tr>\n",
       "  </thead>\n",
       "  <tbody>\n",
       "    <tr>\n",
       "      <th>0</th>\n",
       "      <td>2927</td>\n",
       "      <td>303.526</td>\n",
       "      <td>0.986</td>\n",
       "      <td>0.984</td>\n",
       "      <td>0.970</td>\n",
       "      <td>0.000</td>\n",
       "      <td>4.412</td>\n",
       "      <td>4.412</td>\n",
       "      <td>0.985</td>\n",
       "    </tr>\n",
       "    <tr>\n",
       "      <th>1</th>\n",
       "      <td>2955</td>\n",
       "      <td>307.203</td>\n",
       "      <td>0.995</td>\n",
       "      <td>0.973</td>\n",
       "      <td>0.968</td>\n",
       "      <td>0.000</td>\n",
       "      <td>4.556</td>\n",
       "      <td>4.556</td>\n",
       "      <td>0.984</td>\n",
       "    </tr>\n",
       "    <tr>\n",
       "      <th>2</th>\n",
       "      <td>2567</td>\n",
       "      <td>261.384</td>\n",
       "      <td>0.987</td>\n",
       "      <td>0.864</td>\n",
       "      <td>0.855</td>\n",
       "      <td>0.000</td>\n",
       "      <td>3.387</td>\n",
       "      <td>3.387</td>\n",
       "      <td>0.922</td>\n",
       "    </tr>\n",
       "    <tr>\n",
       "      <th>3</th>\n",
       "      <td>2836</td>\n",
       "      <td>292.529</td>\n",
       "      <td>0.986</td>\n",
       "      <td>0.955</td>\n",
       "      <td>0.942</td>\n",
       "      <td>0.000</td>\n",
       "      <td>4.090</td>\n",
       "      <td>4.090</td>\n",
       "      <td>0.970</td>\n",
       "    </tr>\n",
       "    <tr>\n",
       "      <th>4</th>\n",
       "      <td>2697</td>\n",
       "      <td>277.176</td>\n",
       "      <td>0.979</td>\n",
       "      <td>0.908</td>\n",
       "      <td>0.891</td>\n",
       "      <td>0.000</td>\n",
       "      <td>3.855</td>\n",
       "      <td>3.855</td>\n",
       "      <td>0.942</td>\n",
       "    </tr>\n",
       "  </tbody>\n",
       "</table>\n",
       "</div>"
      ],
      "text/plain": [
       "     CN      AA    HP    HD    JC   LHN    RA    SA    SO\n",
       "0  2927 303.526 0.986 0.984 0.970 0.000 4.412 4.412 0.985\n",
       "1  2955 307.203 0.995 0.973 0.968 0.000 4.556 4.556 0.984\n",
       "2  2567 261.384 0.987 0.864 0.855 0.000 3.387 3.387 0.922\n",
       "3  2836 292.529 0.986 0.955 0.942 0.000 4.090 4.090 0.970\n",
       "4  2697 277.176 0.979 0.908 0.891 0.000 3.855 3.855 0.942"
      ]
     },
     "execution_count": 90,
     "metadata": {},
     "output_type": "execute_result"
    }
   ],
   "source": [
    "with open(\"/home/c6/Desktop/OpenWPM/jsons/Prediction_new/non_temporal_unweighted/2018/train/dataframe.csv\", newline='') as csvfile:\n",
    "    training_non_df = pd.read_csv(csvfile)\n",
    "\n",
    "training_non_df = training_non_df.drop(['deg_e1', 'deg_e2'], axis=1)\n",
    "training_non_df = training_non_df[['e1','e2','CN','AA','HP','HD','JC','LHN','RA','SA','SO','label']]\n",
    "\n",
    "X_non_train = training_non_df.iloc[:,2:-1]\n",
    "#Y_train = training_df.iloc[:]['label']\n",
    "\n",
    "#X_train.head()\n",
    "\n",
    "with open(\"/home/c6/Desktop/OpenWPM/jsons/Prediction_new/non_temporal_unweighted/2018/test/dataframe.csv\", newline='') as csvfile:\n",
    "    testing_non_df = pd.read_csv(csvfile)\n",
    "\n",
    "testing_non_df = testing_non_df.drop(['deg_e1', 'deg_e2'], axis=1)\n",
    "testing_non_df = testing_non_df[['e1','e2','CN','AA','HP','HD','JC','LHN','RA','SA','SO','label']]\n",
    "\n",
    "\n",
    "X_non_test = testing_non_df.iloc[:,2:-1]\n",
    "#Y_test = testing_df.iloc[:]['label']\n",
    "\n",
    "X_non_test.head()"
   ]
  },
  {
   "cell_type": "code",
   "execution_count": 6,
   "id": "cordless-still",
   "metadata": {
    "pycharm": {
     "name": "#%%\n"
    }
   },
   "outputs": [
    {
     "data": {
      "text/plain": [
       "(5621150, 16)"
      ]
     },
     "execution_count": 6,
     "metadata": {},
     "output_type": "execute_result"
    }
   ],
   "source": [
    "with open(\"/home/c6/Desktop/OpenWPM/jsons/Prediction_new/non_temporal_unweighted/2018/test/dataframe.csv\", newline='') as csvfile:\n",
    "    testing_non_df = pd.read_csv(csvfile)\n",
    "testing_non_df.shape"
   ]
  },
  {
   "cell_type": "code",
   "execution_count": 7,
   "id": "constitutional-uganda",
   "metadata": {
    "pycharm": {
     "name": "#%%\n"
    }
   },
   "outputs": [
    {
     "data": {
      "text/plain": [
       "(5621150, 16)"
      ]
     },
     "execution_count": 7,
     "metadata": {},
     "output_type": "execute_result"
    }
   ],
   "source": [
    "with open(\"/home/c6/Desktop/OpenWPM/jsons/Prediction_new/WT/2018/test/dataframe.csv\", newline='') as csvfile:\n",
    "    testing_WT_df = pd.read_csv(csvfile)\n",
    "testing_WT_df.shape"
   ]
  },
  {
   "cell_type": "code",
   "execution_count": 8,
   "id": "white-sodium",
   "metadata": {
    "pycharm": {
     "name": "#%%\n"
    }
   },
   "outputs": [
    {
     "data": {
      "text/plain": [
       "(4294392, 16)"
      ]
     },
     "execution_count": 8,
     "metadata": {},
     "output_type": "execute_result"
    }
   ],
   "source": [
    "with open(\"/home/c6/Desktop/OpenWPM/jsons/Prediction_new/non_temporal_unweighted/2018/train/dataframe.csv\", newline='') as csvfile:\n",
    "    training_WT_df = pd.read_csv(csvfile)\n",
    "training_WT_df.shape"
   ]
  },
  {
   "cell_type": "code",
   "execution_count": 9,
   "id": "surprising-break",
   "metadata": {
    "pycharm": {
     "name": "#%%\n"
    }
   },
   "outputs": [
    {
     "data": {
      "text/plain": [
       "(4294392, 16)"
      ]
     },
     "execution_count": 9,
     "metadata": {},
     "output_type": "execute_result"
    }
   ],
   "source": [
    "with open(\"/home/c6/Desktop/OpenWPM/jsons/Prediction_new/WT/2018/train/dataframe.csv\", newline='') as csvfile:\n",
    "    training_non_df = pd.read_csv(csvfile)\n",
    "training_non_df.shape"
   ]
  },
  {
   "cell_type": "code",
   "execution_count": 10,
   "id": "little-replacement",
   "metadata": {
    "pycharm": {
     "name": "#%%\n"
    }
   },
   "outputs": [],
   "source": [
    "from networkx.readwrite import json_graph\n",
    "G_addr = \"/home/c6/Desktop/OpenWPM/jsons/Prediction_new/non_temporal_unweighted/2018/test/Graph.json\"\n",
    "g = utilities.read_json(G_addr)\n",
    "G = json_graph.node_link_graph(g)"
   ]
  },
  {
   "cell_type": "code",
   "execution_count": 11,
   "id": "manufactured-hometown",
   "metadata": {},
   "outputs": [],
   "source": [
    "H_addr = \"/home/c6/Desktop/OpenWPM/jsons/Prediction_new/WT/2018/test/Graph.json\"\n",
    "h = utilities.read_json(H_addr)\n",
    "H = json_graph.node_link_graph(h)"
   ]
  },
  {
   "cell_type": "code",
   "execution_count": null,
   "id": "crucial-peeing",
   "metadata": {},
   "outputs": [],
   "source": [
    "len(G.nodes())"
   ]
  },
  {
   "cell_type": "code",
   "execution_count": null,
   "id": "portable-junction",
   "metadata": {
    "pycharm": {
     "name": "#%%\n"
    }
   },
   "outputs": [],
   "source": [
    "len(H.nodes())"
   ]
  },
  {
   "cell_type": "code",
   "execution_count": null,
   "id": "fifth-cowboy",
   "metadata": {
    "pycharm": {
     "name": "#%%\n"
    }
   },
   "outputs": [],
   "source": [
    "len(G.edges())"
   ]
  },
  {
   "cell_type": "code",
   "execution_count": null,
   "id": "collect-safety",
   "metadata": {
    "pycharm": {
     "name": "#%%\n"
    }
   },
   "outputs": [],
   "source": [
    "len(H.edges())"
   ]
  },
  {
   "cell_type": "code",
   "execution_count": 12,
   "id": "positive-twelve",
   "metadata": {
    "pycharm": {
     "name": "#%%\n"
    }
   },
   "outputs": [
    {
     "data": {
      "text/plain": [
       "4011188"
      ]
     },
     "execution_count": 12,
     "metadata": {},
     "output_type": "execute_result"
    }
   ],
   "source": [
    "disconnection_addr = \"/home/c6/Desktop/OpenWPM/jsons/Prediction_new/non_temporal_unweighted/2018/test/disconnect.json\"\n",
    "disconnection = utilities.read_json(disconnection_addr)\n",
    "len(disconnection)"
   ]
  },
  {
   "cell_type": "code",
   "execution_count": null,
   "id": "tribal-situation",
   "metadata": {
    "pycharm": {
     "name": "#%%\n"
    }
   },
   "outputs": [],
   "source": [
    "disconnection_addr = \"/home/c6/Desktop/OpenWPM/jsons/Prediction_new/WT/2018/test/disconnect.json\"\n",
    "disconnection = utilities.read_json(disconnection_addr)\n",
    "len(disconnection)"
   ]
  },
  {
   "cell_type": "markdown",
   "id": "equipped-hepatitis",
   "metadata": {},
   "source": [
    "### Merge Datasets"
   ]
  },
  {
   "cell_type": "code",
   "execution_count": 91,
   "id": "functional-rendering",
   "metadata": {
    "pycharm": {
     "name": "#%%\n"
    }
   },
   "outputs": [],
   "source": [
    "training_frames = [X_WT_train, X_non_train]\n",
    "testing_frames = [X_WT_test, X_non_test]\n",
    "\n",
    "X_train = pd.concat(training_frames,axis=1)\n",
    "X_test = pd.concat(testing_frames,axis=1)"
   ]
  },
  {
   "cell_type": "code",
   "execution_count": 92,
   "id": "excessive-banks",
   "metadata": {
    "pycharm": {
     "name": "#%%\n"
    }
   },
   "outputs": [
    {
     "name": "stdout",
     "output_type": "stream",
     "text": [
      "Positive Samples:  1076339\n",
      "Negative_samples:  533623\n"
     ]
    }
   ],
   "source": [
    "positive_samples = 0\n",
    "negative_sample = 0\n",
    "for i in Y_train:\n",
    "    if i==1:\n",
    "        positive_samples += 1\n",
    "    else:\n",
    "        negative_sample += 1\n",
    "\n",
    "print(\"Positive Samples: \", positive_samples)\n",
    "print(\"Negative_samples: \", negative_sample)"
   ]
  },
  {
   "cell_type": "markdown",
   "id": "brazilian-independence",
   "metadata": {},
   "source": [
    "### upsample minority class"
   ]
  },
  {
   "cell_type": "code",
   "execution_count": null,
   "id": "enclosed-meditation",
   "metadata": {
    "pycharm": {
     "name": "#%%\n"
    }
   },
   "outputs": [],
   "source": [
    "# Separate majority and minority classes\n",
    "training_df_cat = [X_train, Y_train]\n",
    "training_df = pd.concat(training_df_cat,axis=1)\n",
    "\n",
    "df_majority = training_df[training_df.label==0]\n",
    "df_minority = training_df[training_df.label==1]\n",
    "\n",
    "# Upsample minority class\n",
    "df_minority_upsampled = resample(df_minority,\n",
    "                                 replace=True,     # sample with replacement\n",
    "                                 n_samples=272827,    # to match majority class\n",
    "                                 random_state=123) # reproducible results\n",
    "\n",
    "# Combine majority class with upsampled minority class\n",
    "df_upsampled = pd.concat([df_majority, df_minority_upsampled])\n",
    "\n",
    "# Display new class counts\n",
    "df_upsampled.label.value_counts()\n",
    "X_train = df_upsampled.iloc[:,0:-1]\n",
    "Y_train = df_upsampled.iloc[:]['label']\n",
    "# 1    576\n",
    "# 0    576\n",
    "# Name: balance, dtype: int64"
   ]
  },
  {
   "cell_type": "markdown",
   "id": "structured-culture",
   "metadata": {},
   "source": [
    "* define evaluation function"
   ]
  },
  {
   "cell_type": "code",
   "execution_count": 93,
   "id": "hawaiian-license",
   "metadata": {
    "pycharm": {
     "name": "#%%\n"
    }
   },
   "outputs": [],
   "source": [
    "def evaluate_model(predictions, actual):\n",
    "    TP = 0\n",
    "    FP = 0\n",
    "    TN = 0\n",
    "    FN = 0\n",
    "\n",
    "    for i in range(len(predictions)):\n",
    "        if actual[i]==predictions[i]==1:\n",
    "            TP += 1\n",
    "        if predictions[i]==1 and actual[i]!=predictions[i]:\n",
    "            FP += 1\n",
    "        if actual[i]==predictions[i]==0:\n",
    "            TN += 1\n",
    "        if predictions[i]==0 and actual[i]!=predictions[i]:\n",
    "            FN += 1\n",
    "    return pd.DataFrame({\n",
    "        \"Measure\": [\"Accuracy\", \"Precision\", \"Recall\", \"FPR\", \"FNR\", \"F1\"],\n",
    "        \"Source\": [accuracy_score(actual, predictions),\n",
    "                   precision_score(actual, predictions),\n",
    "                   recall_score(actual, predictions),\n",
    "                   FP/(FP+TN),\n",
    "                   FN/(FN+TP),\n",
    "                   f1_score(actual, predictions)]\n",
    "    })"
   ]
  },
  {
   "cell_type": "markdown",
   "id": "infinite-catch",
   "metadata": {},
   "source": [
    "* Find important features"
   ]
  },
  {
   "cell_type": "code",
   "execution_count": 94,
   "id": "adopted-toyota",
   "metadata": {
    "pycharm": {
     "name": "#%%\n"
    }
   },
   "outputs": [],
   "source": [
    "def feature_importance(columns, classifier):\n",
    "    display(\"Feature Importance\")\n",
    "    df = pd.DataFrame({\"Features\": columns,\n",
    "                      \"Importance\": classifier.feature_importances_})\n",
    "    df = df.sort_values(\"Importance\", ascending=False)\n",
    "    ax = df.plot(kind='bar', x='Features', y='Importance', legend=None)\n",
    "    #ax.xaxist.set_label_text(\"\")\n",
    "    plt.tight_layout()\n",
    "    plt.show"
   ]
  },
  {
   "cell_type": "markdown",
   "id": "false-france",
   "metadata": {},
   "source": [
    " ### choose a ML algorithm"
   ]
  },
  {
   "cell_type": "markdown",
   "id": "tired-summer",
   "metadata": {},
   "source": [
    "### 1. Random Forest"
   ]
  },
  {
   "cell_type": "code",
   "execution_count": 95,
   "id": "dried-counter",
   "metadata": {
    "pycharm": {
     "name": "#%%\n"
    }
   },
   "outputs": [],
   "source": [
    "classifier = RandomForestClassifier(n_estimators=100, max_depth=20, criterion=\"entropy\", class_weight={0: 1, 1: 4})"
   ]
  },
  {
   "cell_type": "markdown",
   "id": "spread-turkey",
   "metadata": {},
   "source": [
    "### Train and predict"
   ]
  },
  {
   "cell_type": "code",
   "execution_count": 96,
   "id": "vital-daughter",
   "metadata": {
    "pycharm": {
     "name": "#%%\n"
    }
   },
   "outputs": [
    {
     "data": {
      "text/plain": [
       "RandomForestClassifier(class_weight={0: 1, 1: 4}, criterion='entropy',\n",
       "                       max_depth=20)"
      ]
     },
     "execution_count": 96,
     "metadata": {},
     "output_type": "execute_result"
    }
   ],
   "source": [
    "classifier.fit(X_train, Y_train)"
   ]
  },
  {
   "cell_type": "code",
   "execution_count": 97,
   "id": "satisfactory-burst",
   "metadata": {
    "pycharm": {
     "name": "#%%\n"
    }
   },
   "outputs": [],
   "source": [
    "prediction = classifier.predict(X_test)"
   ]
  },
  {
   "cell_type": "code",
   "execution_count": 98,
   "id": "closing-speech",
   "metadata": {
    "pycharm": {
     "name": "#%%\n"
    }
   },
   "outputs": [
    {
     "data": {
      "text/plain": [
       "(1833248,)"
      ]
     },
     "execution_count": 98,
     "metadata": {},
     "output_type": "execute_result"
    }
   ],
   "source": [
    "prediction.shape"
   ]
  },
  {
   "cell_type": "code",
   "execution_count": 99,
   "id": "prepared-helicopter",
   "metadata": {
    "pycharm": {
     "name": "#%%\n"
    }
   },
   "outputs": [
    {
     "data": {
      "text/plain": [
       "array([0, 1])"
      ]
     },
     "execution_count": 99,
     "metadata": {},
     "output_type": "execute_result"
    }
   ],
   "source": [
    "np.unique(prediction)"
   ]
  },
  {
   "cell_type": "code",
   "execution_count": 100,
   "id": "experienced-preference",
   "metadata": {
    "pycharm": {
     "name": "#%%\n"
    }
   },
   "outputs": [
    {
     "data": {
      "text/html": [
       "<div>\n",
       "<style scoped>\n",
       "    .dataframe tbody tr th:only-of-type {\n",
       "        vertical-align: middle;\n",
       "    }\n",
       "\n",
       "    .dataframe tbody tr th {\n",
       "        vertical-align: top;\n",
       "    }\n",
       "\n",
       "    .dataframe thead th {\n",
       "        text-align: right;\n",
       "    }\n",
       "</style>\n",
       "<table border=\"1\" class=\"dataframe\">\n",
       "  <thead>\n",
       "    <tr style=\"text-align: right;\">\n",
       "      <th></th>\n",
       "      <th>Measure</th>\n",
       "      <th>Source</th>\n",
       "    </tr>\n",
       "  </thead>\n",
       "  <tbody>\n",
       "    <tr>\n",
       "      <th>0</th>\n",
       "      <td>Accuracy</td>\n",
       "      <td>0.728</td>\n",
       "    </tr>\n",
       "    <tr>\n",
       "      <th>1</th>\n",
       "      <td>Precision</td>\n",
       "      <td>0.689</td>\n",
       "    </tr>\n",
       "    <tr>\n",
       "      <th>2</th>\n",
       "      <td>Recall</td>\n",
       "      <td>0.989</td>\n",
       "    </tr>\n",
       "    <tr>\n",
       "      <th>3</th>\n",
       "      <td>FPR</td>\n",
       "      <td>0.654</td>\n",
       "    </tr>\n",
       "    <tr>\n",
       "      <th>4</th>\n",
       "      <td>FNR</td>\n",
       "      <td>0.011</td>\n",
       "    </tr>\n",
       "    <tr>\n",
       "      <th>5</th>\n",
       "      <td>F1</td>\n",
       "      <td>0.812</td>\n",
       "    </tr>\n",
       "  </tbody>\n",
       "</table>\n",
       "</div>"
      ],
      "text/plain": [
       "     Measure  Source\n",
       "0   Accuracy   0.728\n",
       "1  Precision   0.689\n",
       "2     Recall   0.989\n",
       "3        FPR   0.654\n",
       "4        FNR   0.011\n",
       "5         F1   0.812"
      ]
     },
     "metadata": {},
     "output_type": "display_data"
    }
   ],
   "source": [
    "display(evaluate_model(prediction, Y_test))"
   ]
  },
  {
   "cell_type": "code",
   "execution_count": 101,
   "id": "prerequisite-avenue",
   "metadata": {
    "pycharm": {
     "name": "#%%\n"
    }
   },
   "outputs": [
    {
     "data": {
      "text/plain": [
       "'Feature Importance'"
      ]
     },
     "metadata": {},
     "output_type": "display_data"
    },
    {
     "data": {
      "image/png": "[encoded data removed]",
      "text/plain": [
       "<Figure size 432x288 with 1 Axes>"
      ]
     },
     "metadata": {},
     "output_type": "display_data"
    }
   ],
   "source": [
    "columns = ['edge_wtf', 'W', 'CN', 'AA', 'HP', 'HD', 'JC', 'LHN', 'RA', 'SA', 'SO', 'avg_deg',\n",
    "           'CN_WT', 'AA_WT', 'HP_WT', 'HD_WT', 'JC_WT', 'LHN_WT', 'RA_WT', 'SA_WT', 'SO_WT']\n",
    "feature_importance(columns, classifier)"
   ]
  },
  {
   "cell_type": "markdown",
   "id": "written-offering",
   "metadata": {},
   "source": [
    "### build the predicted Graph"
   ]
  },
  {
   "cell_type": "code",
   "execution_count": null,
   "id": "listed-absorption",
   "metadata": {
    "pycharm": {
     "name": "#%%\n"
    }
   },
   "outputs": [],
   "source": [
    "joblib.dump(classifier, \"./random_forest.joblib\")"
   ]
  },
  {
   "cell_type": "markdown",
   "id": "apart-appendix",
   "metadata": {},
   "source": [
    "### build the predicted Graph"
   ]
  },
  {
   "cell_type": "code",
   "execution_count": null,
   "id": "celtic-ultimate",
   "metadata": {
    "pycharm": {
     "name": "#%%\n"
    }
   },
   "outputs": [],
   "source": [
    "real_graph_2018 = json_graph.node_link_graph(\n",
    "            utilities.read_json(\"/home/c6/Desktop/OpenWPM/jsons/AST/CDX_results/Graphs/2018/Graph.json\"))\n",
    "\n",
    "concat_pred = [testing_WT_df.iloc[:,0:2],X_test, pd.Series(prediction)]\n",
    "predicted_graph_2018 = pd.concat(concat_pred,axis=1)\n"
   ]
  },
  {
   "cell_type": "code",
   "execution_count": null,
   "id": "alpine-homework",
   "metadata": {
    "pycharm": {
     "name": "#%%\n"
    }
   },
   "outputs": [],
   "source": [
    "predicted_graph_2018\n"
   ]
  },
  {
   "cell_type": "markdown",
   "id": "committed-small",
   "metadata": {},
   "source": [
    "# Predicting Year : 2019"
   ]
  },
  {
   "cell_type": "markdown",
   "id": "former-samuel",
   "metadata": {},
   "source": [
    "### Upload Weighted Temporal Dataset"
   ]
  },
  {
   "cell_type": "code",
   "execution_count": 29,
   "id": "demanding-submission",
   "metadata": {
    "pycharm": {
     "name": "#%%\n"
    }
   },
   "outputs": [
    {
     "data": {
      "text/html": [
       "<div>\n",
       "<style scoped>\n",
       "    .dataframe tbody tr th:only-of-type {\n",
       "        vertical-align: middle;\n",
       "    }\n",
       "\n",
       "    .dataframe tbody tr th {\n",
       "        vertical-align: top;\n",
       "    }\n",
       "\n",
       "    .dataframe thead th {\n",
       "        text-align: right;\n",
       "    }\n",
       "</style>\n",
       "<table border=\"1\" class=\"dataframe\">\n",
       "  <thead>\n",
       "    <tr style=\"text-align: right;\">\n",
       "      <th></th>\n",
       "      <th>edge_wtf</th>\n",
       "      <th>W</th>\n",
       "      <th>CN_WT</th>\n",
       "      <th>AA_WT</th>\n",
       "      <th>HP_WT</th>\n",
       "      <th>HD_WT</th>\n",
       "      <th>JC_WT</th>\n",
       "      <th>LHN_WT</th>\n",
       "      <th>RA_WT</th>\n",
       "      <th>SA_WT</th>\n",
       "      <th>SO_WT</th>\n",
       "      <th>avg_deg</th>\n",
       "    </tr>\n",
       "  </thead>\n",
       "  <tbody>\n",
       "    <tr>\n",
       "      <th>0</th>\n",
       "      <td>1.899</td>\n",
       "      <td>0.549</td>\n",
       "      <td>1708.032</td>\n",
       "      <td>194.985</td>\n",
       "      <td>4.341</td>\n",
       "      <td>1.288</td>\n",
       "      <td>0.994</td>\n",
       "      <td>0.003</td>\n",
       "      <td>9.047</td>\n",
       "      <td>9.047</td>\n",
       "      <td>1.987</td>\n",
       "      <td>2529.500</td>\n",
       "    </tr>\n",
       "    <tr>\n",
       "      <th>1</th>\n",
       "      <td>2.060</td>\n",
       "      <td>0.595</td>\n",
       "      <td>2651.059</td>\n",
       "      <td>296.884</td>\n",
       "      <td>6.738</td>\n",
       "      <td>1.166</td>\n",
       "      <td>0.994</td>\n",
       "      <td>0.003</td>\n",
       "      <td>12.877</td>\n",
       "      <td>12.877</td>\n",
       "      <td>1.988</td>\n",
       "      <td>2657.500</td>\n",
       "    </tr>\n",
       "    <tr>\n",
       "      <th>2</th>\n",
       "      <td>1.849</td>\n",
       "      <td>0.535</td>\n",
       "      <td>1510.486</td>\n",
       "      <td>170.146</td>\n",
       "      <td>3.839</td>\n",
       "      <td>1.342</td>\n",
       "      <td>0.994</td>\n",
       "      <td>0.003</td>\n",
       "      <td>7.135</td>\n",
       "      <td>7.135</td>\n",
       "      <td>1.989</td>\n",
       "      <td>2369.000</td>\n",
       "    </tr>\n",
       "    <tr>\n",
       "      <th>3</th>\n",
       "      <td>1.953</td>\n",
       "      <td>0.565</td>\n",
       "      <td>1729.305</td>\n",
       "      <td>198.571</td>\n",
       "      <td>4.395</td>\n",
       "      <td>1.283</td>\n",
       "      <td>0.993</td>\n",
       "      <td>0.003</td>\n",
       "      <td>9.745</td>\n",
       "      <td>9.745</td>\n",
       "      <td>1.986</td>\n",
       "      <td>2607.500</td>\n",
       "    </tr>\n",
       "    <tr>\n",
       "      <th>4</th>\n",
       "      <td>1.999</td>\n",
       "      <td>0.578</td>\n",
       "      <td>2101.484</td>\n",
       "      <td>237.727</td>\n",
       "      <td>5.341</td>\n",
       "      <td>1.221</td>\n",
       "      <td>0.994</td>\n",
       "      <td>0.003</td>\n",
       "      <td>10.557</td>\n",
       "      <td>10.557</td>\n",
       "      <td>1.988</td>\n",
       "      <td>2534.500</td>\n",
       "    </tr>\n",
       "  </tbody>\n",
       "</table>\n",
       "</div>"
      ],
      "text/plain": [
       "   edge_wtf     W    CN_WT   AA_WT  HP_WT  HD_WT  JC_WT  LHN_WT  RA_WT  SA_WT  \\\n",
       "0     1.899 0.549 1708.032 194.985  4.341  1.288  0.994   0.003  9.047  9.047   \n",
       "1     2.060 0.595 2651.059 296.884  6.738  1.166  0.994   0.003 12.877 12.877   \n",
       "2     1.849 0.535 1510.486 170.146  3.839  1.342  0.994   0.003  7.135  7.135   \n",
       "3     1.953 0.565 1729.305 198.571  4.395  1.283  0.993   0.003  9.745  9.745   \n",
       "4     1.999 0.578 2101.484 237.727  5.341  1.221  0.994   0.003 10.557 10.557   \n",
       "\n",
       "   SO_WT  avg_deg  \n",
       "0  1.987 2529.500  \n",
       "1  1.988 2657.500  \n",
       "2  1.989 2369.000  \n",
       "3  1.986 2607.500  \n",
       "4  1.988 2534.500  "
      ]
     },
     "execution_count": 29,
     "metadata": {},
     "output_type": "execute_result"
    }
   ],
   "source": [
    "with open(\"/home/c6/Desktop/OpenWPM/jsons/Prediction_new/WT/2019/train/dataframe.csv\", newline='') as csvfile:\n",
    "    training_WT_df = pd.read_csv(csvfile)\n",
    "\n",
    "training_WT_df['avg_deg'] = (training_WT_df['deg_e1']+training_WT_df['deg_e2'])/2\n",
    "training_WT_df = training_WT_df.drop(['deg_e1', 'deg_e2'], axis=1)\n",
    "training_WT_df = training_WT_df[['e1','e2','edge_wtf','W','CN','AA','HP','HD','JC','LHN','RA','SA','SO','avg_deg','label']]\n",
    "training_WT_df = training_WT_df.rename(columns={\"CN\": \"CN_WT\", \"AA\": \"AA_WT\", \"HP\": \"HP_WT\", \"HD\": \"HD_WT\", \"JC\": \"JC_WT\", \"LHN\": \"LHN_WT\",\n",
    "                  \"RA\": \"RA_WT\", \"SA\": \"SA_WT\", \"SO\": \"SO_WT\"})\n",
    "\n",
    "X_WT_train = training_WT_df.iloc[:,2:-1]\n",
    "Y_train = training_WT_df.iloc[:]['label']\n",
    "\n",
    "X_WT_train.head()\n",
    "\n",
    "with open(\"/home/c6/Desktop/OpenWPM/jsons/Prediction_new/WT/2019/test/dataframe.csv\", newline='') as csvfile:\n",
    "    testing_WT_df = pd.read_csv(csvfile)\n",
    "\n",
    "testing_WT_df['avg_deg'] = (testing_WT_df['deg_e1']+testing_WT_df['deg_e2'])/2\n",
    "testing_WT_df = testing_WT_df.drop(['deg_e1', 'deg_e2'], axis=1)\n",
    "testing_WT_df = testing_WT_df[['e1','e2','edge_wtf','W','CN','AA','HP','HD','JC','LHN','RA','SA','SO','avg_deg','label']]\n",
    "testing_WT_df = testing_WT_df.rename(columns={\"CN\": \"CN_WT\", \"AA\": \"AA_WT\", \"HP\": \"HP_WT\", \"HD\": \"HD_WT\", \"JC\": \"JC_WT\", \"LHN\": \"LHN_WT\",\n",
    "                  \"RA\": \"RA_WT\", \"SA\": \"SA_WT\", \"SO\": \"SO_WT\"})\n",
    "\n",
    "\n",
    "X_WT_test = testing_WT_df.iloc[:,2:-1]\n",
    "Y_test = testing_WT_df.iloc[:]['label']\n",
    "\n",
    "X_WT_test.head()"
   ]
  },
  {
   "cell_type": "code",
   "execution_count": 31,
   "id": "laughing-dialogue",
   "metadata": {
    "pycharm": {
     "name": "#%%\n"
    }
   },
   "outputs": [
    {
     "data": {
      "text/plain": [
       "(1833248, 12)"
      ]
     },
     "execution_count": 31,
     "metadata": {},
     "output_type": "execute_result"
    }
   ],
   "source": [
    "X_WT_train.shape"
   ]
  },
  {
   "cell_type": "markdown",
   "id": "advance-mount",
   "metadata": {},
   "source": [
    "### Upload Unweighted non-Temporal Dataset"
   ]
  },
  {
   "cell_type": "code",
   "execution_count": 32,
   "id": "cutting-alloy",
   "metadata": {
    "pycharm": {
     "name": "#%%\n"
    }
   },
   "outputs": [
    {
     "data": {
      "text/html": [
       "<div>\n",
       "<style scoped>\n",
       "    .dataframe tbody tr th:only-of-type {\n",
       "        vertical-align: middle;\n",
       "    }\n",
       "\n",
       "    .dataframe tbody tr th {\n",
       "        vertical-align: top;\n",
       "    }\n",
       "\n",
       "    .dataframe thead th {\n",
       "        text-align: right;\n",
       "    }\n",
       "</style>\n",
       "<table border=\"1\" class=\"dataframe\">\n",
       "  <thead>\n",
       "    <tr style=\"text-align: right;\">\n",
       "      <th></th>\n",
       "      <th>CN</th>\n",
       "      <th>AA</th>\n",
       "      <th>HP</th>\n",
       "      <th>HD</th>\n",
       "      <th>JC</th>\n",
       "      <th>LHN</th>\n",
       "      <th>RA</th>\n",
       "      <th>SA</th>\n",
       "      <th>SO</th>\n",
       "    </tr>\n",
       "  </thead>\n",
       "  <tbody>\n",
       "    <tr>\n",
       "      <th>0</th>\n",
       "      <td>2077</td>\n",
       "      <td>201.736</td>\n",
       "      <td>0.992</td>\n",
       "      <td>0.701</td>\n",
       "      <td>0.697</td>\n",
       "      <td>0.000</td>\n",
       "      <td>1.866</td>\n",
       "      <td>1.866</td>\n",
       "      <td>0.821</td>\n",
       "    </tr>\n",
       "    <tr>\n",
       "      <th>1</th>\n",
       "      <td>2093</td>\n",
       "      <td>203.757</td>\n",
       "      <td>1.000</td>\n",
       "      <td>0.650</td>\n",
       "      <td>0.650</td>\n",
       "      <td>0.000</td>\n",
       "      <td>1.934</td>\n",
       "      <td>1.934</td>\n",
       "      <td>0.788</td>\n",
       "    </tr>\n",
       "    <tr>\n",
       "      <th>2</th>\n",
       "      <td>2032</td>\n",
       "      <td>196.616</td>\n",
       "      <td>0.970</td>\n",
       "      <td>0.769</td>\n",
       "      <td>0.751</td>\n",
       "      <td>0.000</td>\n",
       "      <td>1.759</td>\n",
       "      <td>1.759</td>\n",
       "      <td>0.858</td>\n",
       "    </tr>\n",
       "    <tr>\n",
       "      <th>3</th>\n",
       "      <td>2092</td>\n",
       "      <td>203.625</td>\n",
       "      <td>0.999</td>\n",
       "      <td>0.670</td>\n",
       "      <td>0.670</td>\n",
       "      <td>0.000</td>\n",
       "      <td>1.929</td>\n",
       "      <td>1.929</td>\n",
       "      <td>0.802</td>\n",
       "    </tr>\n",
       "    <tr>\n",
       "      <th>4</th>\n",
       "      <td>2081</td>\n",
       "      <td>202.271</td>\n",
       "      <td>0.994</td>\n",
       "      <td>0.699</td>\n",
       "      <td>0.696</td>\n",
       "      <td>0.000</td>\n",
       "      <td>1.887</td>\n",
       "      <td>1.887</td>\n",
       "      <td>0.821</td>\n",
       "    </tr>\n",
       "  </tbody>\n",
       "</table>\n",
       "</div>"
      ],
      "text/plain": [
       "     CN      AA    HP    HD    JC   LHN    RA    SA    SO\n",
       "0  2077 201.736 0.992 0.701 0.697 0.000 1.866 1.866 0.821\n",
       "1  2093 203.757 1.000 0.650 0.650 0.000 1.934 1.934 0.788\n",
       "2  2032 196.616 0.970 0.769 0.751 0.000 1.759 1.759 0.858\n",
       "3  2092 203.625 0.999 0.670 0.670 0.000 1.929 1.929 0.802\n",
       "4  2081 202.271 0.994 0.699 0.696 0.000 1.887 1.887 0.821"
      ]
     },
     "execution_count": 32,
     "metadata": {},
     "output_type": "execute_result"
    }
   ],
   "source": [
    "with open(\"/home/c6/Desktop/OpenWPM/jsons/Prediction_new/non_temporal_unweighted/2019/train/dataframe.csv\", newline='') as csvfile:\n",
    "    training_non_df = pd.read_csv(csvfile)\n",
    "\n",
    "training_non_df = training_non_df.drop(['deg_e1', 'deg_e2'], axis=1)\n",
    "training_non_df = training_non_df[['e1','e2','CN','AA','HP','HD','JC','LHN','RA','SA','SO','label']]\n",
    "\n",
    "X_non_train = training_non_df.iloc[:,2:-1]\n",
    "#Y_train = training_df.iloc[:]['label']\n",
    "\n",
    "#X_train.head()\n",
    "\n",
    "with open(\"/home/c6/Desktop/OpenWPM/jsons/Prediction_new/non_temporal_unweighted/2019/test/dataframe.csv\", newline='') as csvfile:\n",
    "    testing_non_df = pd.read_csv(csvfile)\n",
    "\n",
    "testing_non_df = testing_non_df.drop(['deg_e1', 'deg_e2'], axis=1)\n",
    "testing_non_df = testing_non_df[['e1','e2','CN','AA','HP','HD','JC','LHN','RA','SA','SO','label']]\n",
    "\n",
    "\n",
    "X_non_test = testing_non_df.iloc[:,2:-1]\n",
    "#Y_test = testing_df.iloc[:]['label']\n",
    "\n",
    "X_non_test.head()"
   ]
  },
  {
   "cell_type": "code",
   "execution_count": 33,
   "id": "boolean-bulgarian",
   "metadata": {
    "pycharm": {
     "name": "#%%\n"
    }
   },
   "outputs": [
    {
     "data": {
      "text/plain": [
       "(2604893, 16)"
      ]
     },
     "execution_count": 33,
     "metadata": {},
     "output_type": "execute_result"
    }
   ],
   "source": [
    "with open(\"/home/c6/Desktop/OpenWPM/jsons/Prediction_new/non_temporal_unweighted/2019/test/dataframe.csv\", newline='') as csvfile:\n",
    "    testing_non_df = pd.read_csv(csvfile)\n",
    "testing_non_df.shape"
   ]
  },
  {
   "cell_type": "code",
   "execution_count": 34,
   "id": "automotive-beads",
   "metadata": {
    "pycharm": {
     "name": "#%%\n"
    }
   },
   "outputs": [
    {
     "data": {
      "text/plain": [
       "(2604893, 16)"
      ]
     },
     "execution_count": 34,
     "metadata": {},
     "output_type": "execute_result"
    }
   ],
   "source": [
    "with open(\"/home/c6/Desktop/OpenWPM/jsons/Prediction_new/WT/2019/test/dataframe.csv\", newline='') as csvfile:\n",
    "    testing_WT_df = pd.read_csv(csvfile)\n",
    "testing_WT_df.shape"
   ]
  },
  {
   "cell_type": "code",
   "execution_count": 35,
   "id": "electoral-figure",
   "metadata": {
    "pycharm": {
     "name": "#%%\n"
    }
   },
   "outputs": [
    {
     "data": {
      "text/plain": [
       "(1833248, 16)"
      ]
     },
     "execution_count": 35,
     "metadata": {},
     "output_type": "execute_result"
    }
   ],
   "source": [
    "with open(\"/home/c6/Desktop/OpenWPM/jsons/Prediction_new/non_temporal_unweighted/2019/train/dataframe.csv\", newline='') as csvfile:\n",
    "    training_WT_df = pd.read_csv(csvfile)\n",
    "training_WT_df.shape"
   ]
  },
  {
   "cell_type": "code",
   "execution_count": 36,
   "id": "latest-memorial",
   "metadata": {
    "pycharm": {
     "name": "#%%\n"
    }
   },
   "outputs": [
    {
     "data": {
      "text/plain": [
       "(1833248, 16)"
      ]
     },
     "execution_count": 36,
     "metadata": {},
     "output_type": "execute_result"
    }
   ],
   "source": [
    "with open(\"/home/c6/Desktop/OpenWPM/jsons/Prediction_new/WT/2019/train/dataframe.csv\", newline='') as csvfile:\n",
    "    training_non_df = pd.read_csv(csvfile)\n",
    "training_non_df.shape"
   ]
  },
  {
   "cell_type": "code",
   "execution_count": 37,
   "id": "rolled-exchange",
   "metadata": {
    "pycharm": {
     "name": "#%%\n"
    }
   },
   "outputs": [],
   "source": [
    "from networkx.readwrite import json_graph\n",
    "G_addr = \"/home/c6/Desktop/OpenWPM/jsons/Prediction_new/non_temporal_unweighted/2019/test/Graph.json\"\n",
    "g = utilities.read_json(G_addr)\n",
    "G = json_graph.node_link_graph(g)"
   ]
  },
  {
   "cell_type": "code",
   "execution_count": 38,
   "id": "finite-values",
   "metadata": {
    "pycharm": {
     "name": "#%%\n"
    }
   },
   "outputs": [],
   "source": [
    "H_addr = \"/home/c6/Desktop/OpenWPM/jsons/Prediction_new/WT/2019/test/Graph.json\"\n",
    "h = utilities.read_json(H_addr)\n",
    "H = json_graph.node_link_graph(h)"
   ]
  },
  {
   "cell_type": "code",
   "execution_count": 39,
   "id": "upset-lying",
   "metadata": {
    "pycharm": {
     "name": "#%%\n"
    }
   },
   "outputs": [
    {
     "data": {
      "text/plain": [
       "3229"
      ]
     },
     "execution_count": 39,
     "metadata": {},
     "output_type": "execute_result"
    }
   ],
   "source": [
    "len(G.nodes())"
   ]
  },
  {
   "cell_type": "code",
   "execution_count": 40,
   "id": "potential-defendant",
   "metadata": {
    "pycharm": {
     "name": "#%%\n"
    }
   },
   "outputs": [
    {
     "data": {
      "text/plain": [
       "3229"
      ]
     },
     "execution_count": 40,
     "metadata": {},
     "output_type": "execute_result"
    }
   ],
   "source": [
    "len(H.nodes())"
   ]
  },
  {
   "cell_type": "code",
   "execution_count": 41,
   "id": "supposed-track",
   "metadata": {
    "pycharm": {
     "name": "#%%\n"
    }
   },
   "outputs": [
    {
     "data": {
      "text/plain": [
       "1833248"
      ]
     },
     "execution_count": 41,
     "metadata": {},
     "output_type": "execute_result"
    }
   ],
   "source": [
    "len(G.edges())"
   ]
  },
  {
   "cell_type": "code",
   "execution_count": 42,
   "id": "naughty-assistant",
   "metadata": {
    "pycharm": {
     "name": "#%%\n"
    }
   },
   "outputs": [
    {
     "data": {
      "text/plain": [
       "1833248"
      ]
     },
     "execution_count": 42,
     "metadata": {},
     "output_type": "execute_result"
    }
   ],
   "source": [
    "len(H.edges())"
   ]
  },
  {
   "cell_type": "code",
   "execution_count": 43,
   "id": "alternative-receiver",
   "metadata": {
    "pycharm": {
     "name": "#%%\n"
    }
   },
   "outputs": [
    {
     "data": {
      "text/plain": [
       "4146759"
      ]
     },
     "execution_count": 43,
     "metadata": {},
     "output_type": "execute_result"
    }
   ],
   "source": [
    "disconnection_addr = \"/home/c6/Desktop/OpenWPM/jsons/Prediction_new/non_temporal_unweighted/2019/test/disconnect.json\"\n",
    "disconnection = utilities.read_json(disconnection_addr)\n",
    "len(disconnection)"
   ]
  },
  {
   "cell_type": "code",
   "execution_count": 44,
   "id": "familiar-soviet",
   "metadata": {
    "pycharm": {
     "name": "#%%\n"
    }
   },
   "outputs": [
    {
     "data": {
      "text/plain": [
       "4146759"
      ]
     },
     "execution_count": 44,
     "metadata": {},
     "output_type": "execute_result"
    }
   ],
   "source": [
    "disconnection_addr = \"/home/c6/Desktop/OpenWPM/jsons/Prediction_new/WT/2019/test/disconnect.json\"\n",
    "disconnection = utilities.read_json(disconnection_addr)\n",
    "len(disconnection)"
   ]
  },
  {
   "cell_type": "markdown",
   "id": "divine-collar",
   "metadata": {},
   "source": [
    "### Merge Datasets"
   ]
  },
  {
   "cell_type": "code",
   "execution_count": 45,
   "id": "institutional-pizza",
   "metadata": {
    "pycharm": {
     "name": "#%%\n"
    }
   },
   "outputs": [],
   "source": [
    "training_frames = [X_WT_train, X_non_train]\n",
    "testing_frames = [X_WT_test, X_non_test]\n",
    "\n",
    "X_train = pd.concat(training_frames,axis=1)\n",
    "X_test = pd.concat(testing_frames,axis=1)"
   ]
  },
  {
   "cell_type": "code",
   "execution_count": 46,
   "id": "saved-extreme",
   "metadata": {
    "pycharm": {
     "name": "#%%\n"
    }
   },
   "outputs": [
    {
     "name": "stdout",
     "output_type": "stream",
     "text": [
      "Positive Samples:  1312869\n",
      "Negative_samples:  520379\n"
     ]
    }
   ],
   "source": [
    "positive_samples = 0\n",
    "negative_sample = 0\n",
    "for i in Y_train:\n",
    "    if i==1:\n",
    "        positive_samples += 1\n",
    "    else:\n",
    "        negative_sample += 1\n",
    "\n",
    "print(\"Positive Samples: \", positive_samples)\n",
    "print(\"Negative_samples: \", negative_sample)"
   ]
  },
  {
   "cell_type": "markdown",
   "id": "creative-coffee",
   "metadata": {},
   "source": [
    "### upsample minority class"
   ]
  },
  {
   "cell_type": "code",
   "execution_count": 36,
   "id": "incorporated-arcade",
   "metadata": {
    "pycharm": {
     "name": "#%%\n"
    }
   },
   "outputs": [],
   "source": [
    "# Separate majority and minority classes\n",
    "training_df_cat = [X_train, Y_train]\n",
    "training_df = pd.concat(training_df_cat,axis=1)\n",
    "\n",
    "df_majority = training_df[training_df.label==0]\n",
    "df_minority = training_df[training_df.label==1]\n",
    "\n",
    "# Upsample minority class\n",
    "df_minority_upsampled = resample(df_minority,\n",
    "                                 replace=True,     # sample with replacement\n",
    "                                 n_samples=4340200,    # to match majority class\n",
    "                                 random_state=123) # reproducible results\n",
    "\n",
    "# Combine majority class with upsampled minority class\n",
    "df_upsampled = pd.concat([df_majority, df_minority_upsampled])\n",
    "\n",
    "# Display new class counts\n",
    "df_upsampled.label.value_counts()\n",
    "X_train = df_upsampled.iloc[:,0:-1]\n",
    "Y_train = df_upsampled.iloc[:]['label']\n",
    "# 1    576\n",
    "# 0    576\n",
    "# Name: balance, dtype: int64"
   ]
  },
  {
   "cell_type": "markdown",
   "id": "increased-worst",
   "metadata": {},
   "source": [
    "* define evaluation function"
   ]
  },
  {
   "cell_type": "code",
   "execution_count": 47,
   "id": "talented-greece",
   "metadata": {
    "pycharm": {
     "name": "#%%\n"
    }
   },
   "outputs": [],
   "source": [
    "def evaluate_model(predictions, actual):\n",
    "    TP = 0\n",
    "    FP = 0\n",
    "    TN = 0\n",
    "    FN = 0\n",
    "\n",
    "    for i in range(len(predictions)):\n",
    "        if actual[i]==predictions[i]==1:\n",
    "            TP += 1\n",
    "        if predictions[i]==1 and actual[i]!=predictions[i]:\n",
    "            FP += 1\n",
    "        if actual[i]==predictions[i]==0:\n",
    "            TN += 1\n",
    "        if predictions[i]==0 and actual[i]!=predictions[i]:\n",
    "            FN += 1\n",
    "    return pd.DataFrame({\n",
    "        \"Measure\": [\"Accuracy\", \"Precision\", \"Recall\", \"FPR\", \"FNR\", \"F1\"],\n",
    "        \"Source\": [accuracy_score(actual, predictions),\n",
    "                   precision_score(actual, predictions),\n",
    "                   recall_score(actual, predictions),\n",
    "                   FP/(FP+TN),\n",
    "                   FN/(FN+TP),\n",
    "                   f1_score(actual, predictions)]\n",
    "    })"
   ]
  },
  {
   "cell_type": "markdown",
   "id": "labeled-dominant",
   "metadata": {},
   "source": [
    "* Find important features"
   ]
  },
  {
   "cell_type": "code",
   "execution_count": 48,
   "id": "endless-applicant",
   "metadata": {
    "pycharm": {
     "name": "#%%\n"
    }
   },
   "outputs": [],
   "source": [
    "def feature_importance(columns, classifier):\n",
    "    display(\"Feature Importance\")\n",
    "    df = pd.DataFrame({\"Features\": columns,\n",
    "                      \"Importance\": classifier.feature_importances_})\n",
    "    df = df.sort_values(\"Importance\", ascending=False)\n",
    "    ax = df.plot(kind='bar', x='Features', y='Importance', legend=None)\n",
    "    #ax.xaxist.set_label_text(\"\")\n",
    "    plt.tight_layout()\n",
    "    plt.show"
   ]
  },
  {
   "cell_type": "markdown",
   "id": "preceding-monaco",
   "metadata": {},
   "source": [
    " ### choose a ML algorithm"
   ]
  },
  {
   "cell_type": "markdown",
   "id": "hearing-protection",
   "metadata": {},
   "source": [
    "### 1. Random Forest"
   ]
  },
  {
   "cell_type": "code",
   "execution_count": 49,
   "id": "other-accreditation",
   "metadata": {
    "pycharm": {
     "name": "#%%\n"
    }
   },
   "outputs": [],
   "source": [
    "classifier = RandomForestClassifier(n_estimators=30, max_depth=20, criterion=\"entropy\", class_weight={0: 1, 1: 15})"
   ]
  },
  {
   "cell_type": "markdown",
   "id": "minor-electron",
   "metadata": {},
   "source": [
    "### Train and predict"
   ]
  },
  {
   "cell_type": "code",
   "execution_count": 109,
   "id": "hawaiian-central",
   "metadata": {
    "pycharm": {
     "name": "#%%\n"
    }
   },
   "outputs": [
    {
     "data": {
      "text/plain": [
       "RandomForestClassifier(class_weight={0: 1, 1: 15}, criterion='entropy',\n",
       "                       max_depth=20, n_estimators=30)"
      ]
     },
     "execution_count": 109,
     "metadata": {},
     "output_type": "execute_result"
    }
   ],
   "source": [
    "classifier.fit(X_train, Y_train)"
   ]
  },
  {
   "cell_type": "code",
   "execution_count": 110,
   "id": "bright-winning",
   "metadata": {
    "pycharm": {
     "name": "#%%\n"
    }
   },
   "outputs": [],
   "source": [
    "prediction = classifier.predict(X_test)"
   ]
  },
  {
   "cell_type": "code",
   "execution_count": 111,
   "id": "decent-finding",
   "metadata": {
    "pycharm": {
     "name": "#%%\n"
    }
   },
   "outputs": [
    {
     "data": {
      "text/plain": [
       "(2604893,)"
      ]
     },
     "execution_count": 111,
     "metadata": {},
     "output_type": "execute_result"
    }
   ],
   "source": [
    "prediction.shape"
   ]
  },
  {
   "cell_type": "code",
   "execution_count": 112,
   "id": "three-vehicle",
   "metadata": {
    "pycharm": {
     "name": "#%%\n"
    }
   },
   "outputs": [
    {
     "data": {
      "text/plain": [
       "array([0, 1])"
      ]
     },
     "execution_count": 112,
     "metadata": {},
     "output_type": "execute_result"
    }
   ],
   "source": [
    "np.unique(prediction)"
   ]
  },
  {
   "cell_type": "code",
   "execution_count": 113,
   "id": "large-seattle",
   "metadata": {
    "pycharm": {
     "name": "#%%\n"
    }
   },
   "outputs": [
    {
     "data": {
      "text/html": [
       "<div>\n",
       "<style scoped>\n",
       "    .dataframe tbody tr th:only-of-type {\n",
       "        vertical-align: middle;\n",
       "    }\n",
       "\n",
       "    .dataframe tbody tr th {\n",
       "        vertical-align: top;\n",
       "    }\n",
       "\n",
       "    .dataframe thead th {\n",
       "        text-align: right;\n",
       "    }\n",
       "</style>\n",
       "<table border=\"1\" class=\"dataframe\">\n",
       "  <thead>\n",
       "    <tr style=\"text-align: right;\">\n",
       "      <th></th>\n",
       "      <th>Measure</th>\n",
       "      <th>Source</th>\n",
       "    </tr>\n",
       "  </thead>\n",
       "  <tbody>\n",
       "    <tr>\n",
       "      <th>0</th>\n",
       "      <td>Accuracy</td>\n",
       "      <td>0.930</td>\n",
       "    </tr>\n",
       "    <tr>\n",
       "      <th>1</th>\n",
       "      <td>Precision</td>\n",
       "      <td>0.951</td>\n",
       "    </tr>\n",
       "    <tr>\n",
       "      <th>2</th>\n",
       "      <td>Recall</td>\n",
       "      <td>0.942</td>\n",
       "    </tr>\n",
       "    <tr>\n",
       "      <th>3</th>\n",
       "      <td>FPR</td>\n",
       "      <td>0.091</td>\n",
       "    </tr>\n",
       "    <tr>\n",
       "      <th>4</th>\n",
       "      <td>FNR</td>\n",
       "      <td>0.058</td>\n",
       "    </tr>\n",
       "    <tr>\n",
       "      <th>5</th>\n",
       "      <td>F1</td>\n",
       "      <td>0.947</td>\n",
       "    </tr>\n",
       "  </tbody>\n",
       "</table>\n",
       "</div>"
      ],
      "text/plain": [
       "     Measure  Source\n",
       "0   Accuracy   0.930\n",
       "1  Precision   0.951\n",
       "2     Recall   0.942\n",
       "3        FPR   0.091\n",
       "4        FNR   0.058\n",
       "5         F1   0.947"
      ]
     },
     "metadata": {},
     "output_type": "display_data"
    }
   ],
   "source": [
    "display(evaluate_model(prediction, Y_test))"
   ]
  },
  {
   "cell_type": "code",
   "execution_count": 14,
   "id": "earned-estonia",
   "metadata": {
    "pycharm": {
     "name": "#%%\n"
    }
   },
   "outputs": [
    {
     "data": {
      "text/plain": [
       "'Feature Importance'"
      ]
     },
     "metadata": {},
     "output_type": "display_data"
    },
    {
     "data": {
      "image/png": "[encoded data removed]",
      "text/plain": [
       "<Figure size 432x288 with 1 Axes>"
      ]
     },
     "metadata": {},
     "output_type": "display_data"
    }
   ],
   "source": [
    "columns = ['edge_wtf', 'W', 'CN', 'AA', 'HP', 'HD', 'JC', 'LHN', 'RA', 'SA', 'SO', 'avg_deg',\n",
    "           'CN_WT', 'AA_WT', 'HP_WT', 'HD_WT', 'JC_WT', 'LHN_WT', 'RA_WT', 'SA_WT', 'SO_WT']\n",
    "feature_importance(columns, classifier)"
   ]
  },
  {
   "cell_type": "markdown",
   "id": "tested-civilization",
   "metadata": {},
   "source": [
    "### build the predicted Graph"
   ]
  },
  {
   "cell_type": "code",
   "execution_count": null,
   "id": "acceptable-depth",
   "metadata": {
    "pycharm": {
     "name": "#%%\n"
    }
   },
   "outputs": [],
   "source": [
    "joblib.dump(classifier, \"./random_forest.joblib\")"
   ]
  },
  {
   "cell_type": "markdown",
   "id": "filled-greenhouse",
   "metadata": {},
   "source": [
    "### build the predicted Graph"
   ]
  },
  {
   "cell_type": "code",
   "execution_count": null,
   "id": "several-finance",
   "metadata": {
    "pycharm": {
     "name": "#%%\n"
    }
   },
   "outputs": [],
   "source": [
    "real_graph_2019 = json_graph.node_link_graph(\n",
    "            utilities.read_json(\"/home/c6/Desktop/OpenWPM/jsons/AST/CDX_results/Graphs/2019/Graph.json\"))\n",
    "\n",
    "concat_pred = [testing_WT_df.iloc[:,0:2],X_test, pd.Series(prediction)]\n",
    "predicted_graph_2019 = pd.concat(concat_pred,axis=1)\n"
   ]
  },
  {
   "cell_type": "code",
   "execution_count": null,
   "id": "after-smoke",
   "metadata": {
    "pycharm": {
     "name": "#%%\n"
    }
   },
   "outputs": [],
   "source": [
    "predicted_graph_2019"
   ]
  },
  {
   "cell_type": "markdown",
   "id": "robust-accused",
   "metadata": {
    "pycharm": {
     "name": "#%% md\n"
    }
   },
   "source": [
    "## Train a Neural Network"
   ]
  },
  {
   "cell_type": "code",
   "execution_count": null,
   "id": "remarkable-arrangement",
   "metadata": {
    "pycharm": {
     "name": "#%%\n"
    }
   },
   "outputs": [],
   "source": [
    "import tensorflow as tf"
   ]
  },
  {
   "cell_type": "code",
   "execution_count": null,
   "id": "durable-aside",
   "metadata": {
    "pycharm": {
     "name": "#%%\n"
    }
   },
   "outputs": [],
   "source": [
    "model = tf.keras.models.Sequential([tf.keras.layers.Flatten(),\n",
    "                                    tf.keras.layers.Dense(1024, activation = tf.nn.relu),\n",
    "                                    tf.keras.layers.Dense(256, activation = tf.nn.relu),\n",
    "                                    tf.keras.layers.Dense(2, activation = tf.nn.softmax)])"
   ]
  },
  {
   "cell_type": "code",
   "execution_count": null,
   "id": "posted-prairie",
   "metadata": {
    "pycharm": {
     "name": "#%%\n"
    }
   },
   "outputs": [],
   "source": [
    "class myCallback(tf.keras.callbacks.Callback):\n",
    "    def on_epoc_end(self, epoch, logs={}):\n",
    "        if (logs.get('loss')<0.4):\n",
    "            print(\"Reached 90% accuracy so canceling training!\")\n",
    "            self.model.stop_training = True"
   ]
  },
  {
   "cell_type": "code",
   "execution_count": null,
   "id": "right-manitoba",
   "metadata": {
    "pycharm": {
     "name": "#%%\n"
    }
   },
   "outputs": [],
   "source": [
    "callbacks = myCallback()\n",
    "model.compile(optimizer = 'adam',\n",
    "             loss = 'sparse_categorical_crossentropy',\n",
    "             metrics='Recall')"
   ]
  },
  {
   "cell_type": "code",
   "execution_count": null,
   "id": "smoking-vulnerability",
   "metadata": {
    "pycharm": {
     "name": "#%%\n"
    }
   },
   "outputs": [],
   "source": [
    "model.fit(X_train, Y_train, epochs=5, callbacks=[callbacks])"
   ]
  },
  {
   "cell_type": "code",
   "execution_count": null,
   "id": "technological-cookbook",
   "metadata": {
    "pycharm": {
     "name": "#%%\n"
    }
   },
   "outputs": [],
   "source": [
    "model.evaluate(X_test, Y_test)"
   ]
  }
 ],
 "metadata": {
  "kernelspec": {
   "display_name": "Python 3",
   "language": "python",
   "name": "python3"
  },
  "language_info": {
   "codemirror_mode": {
    "name": "ipython",
    "version": 3
   },
   "file_extension": ".py",
   "mimetype": "text/x-python",
   "name": "python",
   "nbconvert_exporter": "python",
   "pygments_lexer": "ipython3",
   "version": "3.8.5"
  }
 },
 "nbformat": 4,
 "nbformat_minor": 5
}
