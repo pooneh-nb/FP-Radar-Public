{
 "cells": [
  {
   "cell_type": "code",
   "execution_count": 48,
   "id": "varied-frame",
   "metadata": {},
   "outputs": [],
   "source": [
    "import pandas as pd\n",
    "import numpy as np\n",
    "from stellargraph import StellarGraph"
   ]
  },
  {
   "cell_type": "code",
   "execution_count": 53,
   "id": "passive-preliminary",
   "metadata": {},
   "outputs": [],
   "source": [
    "with open(\"/home/c6/Desktop/OpenWPM/jsons/Prediction_new/2012/train/dataframe.csv\", newline='') as csvfile:\n",
    "    training_df = pd.read_csv(csvfile)\n",
    "\n",
    "training_df['source'] = training_df['e1']\n",
    "training_df['target'] = training_df['e2']\n",
    "training_df['weight'] = training_df['W']\n",
    "training_df = training_df.drop(['e1', 'e2', 'W'], axis=1)\n",
    "training_df['avg_deg'] = (training_df['deg_e1']+training_df['deg_e2'])/2\n",
    "training_df = training_df.drop(['deg_e1', 'deg_e2'], axis=1)\n",
    "training_df = training_df[['source','target','weight', 'edge_wtf', 'CN','AA','HP','HD','JC',\n",
    "                           'LHN','RA','SA','SO','avg_deg','label']]\n",
    "#X_train = training_df.iloc[:,2:-1]\n",
    "X_train = training_df\n",
    "Y_train = np.asarray(training_df.iloc[:]['label'])\n",
    "X_edges_ids = np.asarray(training_df.iloc[:,0:2])"
   ]
  },
  {
   "cell_type": "code",
   "execution_count": 19,
   "id": "light-physics",
   "metadata": {},
   "outputs": [
    {
     "data": {
      "text/html": [
       "<div>\n",
       "<style scoped>\n",
       "    .dataframe tbody tr th:only-of-type {\n",
       "        vertical-align: middle;\n",
       "    }\n",
       "\n",
       "    .dataframe tbody tr th {\n",
       "        vertical-align: top;\n",
       "    }\n",
       "\n",
       "    .dataframe thead th {\n",
       "        text-align: right;\n",
       "    }\n",
       "</style>\n",
       "<table border=\"1\" class=\"dataframe\">\n",
       "  <thead>\n",
       "    <tr style=\"text-align: right;\">\n",
       "      <th></th>\n",
       "      <th>source</th>\n",
       "      <th>target</th>\n",
       "      <th>weight</th>\n",
       "      <th>edge_wtf</th>\n",
       "      <th>CN</th>\n",
       "      <th>AA</th>\n",
       "      <th>HP</th>\n",
       "      <th>HD</th>\n",
       "      <th>JC</th>\n",
       "      <th>LHN</th>\n",
       "      <th>RA</th>\n",
       "      <th>SA</th>\n",
       "      <th>SO</th>\n",
       "      <th>avg_deg</th>\n",
       "    </tr>\n",
       "  </thead>\n",
       "  <tbody>\n",
       "    <tr>\n",
       "      <th>0</th>\n",
       "      <td>Date</td>\n",
       "      <td>var</td>\n",
       "      <td>0.597738</td>\n",
       "      <td>0.947393</td>\n",
       "      <td>138.024885</td>\n",
       "      <td>32.855259</td>\n",
       "      <td>2.239789</td>\n",
       "      <td>1.753407</td>\n",
       "      <td>0.983488</td>\n",
       "      <td>0.028453</td>\n",
       "      <td>10.718410</td>\n",
       "      <td>10.718410</td>\n",
       "      <td>1.966977</td>\n",
       "      <td>650.5</td>\n",
       "    </tr>\n",
       "    <tr>\n",
       "      <th>1</th>\n",
       "      <td>Date</td>\n",
       "      <td>name</td>\n",
       "      <td>0.597738</td>\n",
       "      <td>0.947393</td>\n",
       "      <td>138.024885</td>\n",
       "      <td>32.855259</td>\n",
       "      <td>2.239789</td>\n",
       "      <td>1.753407</td>\n",
       "      <td>0.983488</td>\n",
       "      <td>0.028453</td>\n",
       "      <td>10.718410</td>\n",
       "      <td>10.718410</td>\n",
       "      <td>1.966977</td>\n",
       "      <td>650.5</td>\n",
       "    </tr>\n",
       "    <tr>\n",
       "      <th>2</th>\n",
       "      <td>Date</td>\n",
       "      <td>src</td>\n",
       "      <td>0.379645</td>\n",
       "      <td>0.601722</td>\n",
       "      <td>125.706218</td>\n",
       "      <td>30.268331</td>\n",
       "      <td>2.039889</td>\n",
       "      <td>1.904936</td>\n",
       "      <td>0.985052</td>\n",
       "      <td>0.030912</td>\n",
       "      <td>10.002107</td>\n",
       "      <td>10.002107</td>\n",
       "      <td>1.970104</td>\n",
       "      <td>645.5</td>\n",
       "    </tr>\n",
       "    <tr>\n",
       "      <th>3</th>\n",
       "      <td>Date</td>\n",
       "      <td>parent</td>\n",
       "      <td>0.597738</td>\n",
       "      <td>0.947393</td>\n",
       "      <td>134.870323</td>\n",
       "      <td>32.206443</td>\n",
       "      <td>2.188598</td>\n",
       "      <td>1.787525</td>\n",
       "      <td>0.983917</td>\n",
       "      <td>0.029007</td>\n",
       "      <td>10.591531</td>\n",
       "      <td>10.591531</td>\n",
       "      <td>1.967834</td>\n",
       "      <td>650.5</td>\n",
       "    </tr>\n",
       "    <tr>\n",
       "      <th>4</th>\n",
       "      <td>Date</td>\n",
       "      <td>document</td>\n",
       "      <td>0.597738</td>\n",
       "      <td>0.947393</td>\n",
       "      <td>138.024885</td>\n",
       "      <td>32.855259</td>\n",
       "      <td>2.239789</td>\n",
       "      <td>1.753407</td>\n",
       "      <td>0.983488</td>\n",
       "      <td>0.028453</td>\n",
       "      <td>10.718410</td>\n",
       "      <td>10.718410</td>\n",
       "      <td>1.966977</td>\n",
       "      <td>650.5</td>\n",
       "    </tr>\n",
       "  </tbody>\n",
       "</table>\n",
       "</div>"
      ],
      "text/plain": [
       "  source    target    weight  edge_wtf          CN         AA        HP  \\\n",
       "0   Date       var  0.597738  0.947393  138.024885  32.855259  2.239789   \n",
       "1   Date      name  0.597738  0.947393  138.024885  32.855259  2.239789   \n",
       "2   Date       src  0.379645  0.601722  125.706218  30.268331  2.039889   \n",
       "3   Date    parent  0.597738  0.947393  134.870323  32.206443  2.188598   \n",
       "4   Date  document  0.597738  0.947393  138.024885  32.855259  2.239789   \n",
       "\n",
       "         HD        JC       LHN         RA         SA        SO  avg_deg  \n",
       "0  1.753407  0.983488  0.028453  10.718410  10.718410  1.966977    650.5  \n",
       "1  1.753407  0.983488  0.028453  10.718410  10.718410  1.966977    650.5  \n",
       "2  1.904936  0.985052  0.030912  10.002107  10.002107  1.970104    645.5  \n",
       "3  1.787525  0.983917  0.029007  10.591531  10.591531  1.967834    650.5  \n",
       "4  1.753407  0.983488  0.028453  10.718410  10.718410  1.966977    650.5  "
      ]
     },
     "execution_count": 19,
     "metadata": {},
     "output_type": "execute_result"
    }
   ],
   "source": [
    "X_train.head()"
   ]
  },
  {
   "cell_type": "code",
   "execution_count": 54,
   "id": "fourth-liechtenstein",
   "metadata": {},
   "outputs": [],
   "source": [
    "with open(\"/home/c6/Desktop/OpenWPM/jsons/Prediction_new/2012/test/dataframe.csv\", newline='') as csvfile:\n",
    "    test_df = pd.read_csv(csvfile)\n",
    "\n",
    "test_df['source'] = test_df['e1']\n",
    "test_df['target'] = test_df['e2']\n",
    "test_df['weight'] = test_df['W']\n",
    "test_df = test_df.drop(['e1', 'e2', 'W'], axis=1)\n",
    "test_df['avg_deg'] = (test_df['deg_e1']+test_df['deg_e2'])/2\n",
    "test_df = test_df.drop(['deg_e1', 'deg_e2'], axis=1)\n",
    "test_df = test_df[['source','target','weight', 'edge_wtf', 'CN','AA','HP','HD','JC',\n",
    "                           'LHN','RA','SA','SO','avg_deg','label']]\n",
    "\n",
    "X_test = test_df\n",
    "Y_test = np.asarray(test_df.iloc[:]['label'])\n",
    "X_edges_ids = np.asarray(test_df.iloc[:,0:2])"
   ]
  },
  {
   "cell_type": "code",
   "execution_count": 55,
   "id": "anonymous-hollywood",
   "metadata": {},
   "outputs": [
    {
     "data": {
      "text/plain": [
       "(705425,)"
      ]
     },
     "execution_count": 55,
     "metadata": {},
     "output_type": "execute_result"
    }
   ],
   "source": [
    "Y_test.shape"
   ]
  },
  {
   "cell_type": "code",
   "execution_count": 56,
   "id": "unusual-proof",
   "metadata": {},
   "outputs": [],
   "source": [
    "G_train = StellarGraph(edges=X_train)\n",
    "G_test = StellarGraph(edges=X_test)"
   ]
  },
  {
   "cell_type": "code",
   "execution_count": 57,
   "id": "measured-grade",
   "metadata": {},
   "outputs": [],
   "source": [
    "epochs = 50"
   ]
  },
  {
   "cell_type": "code",
   "execution_count": 58,
   "id": "compact-navigation",
   "metadata": {},
   "outputs": [
    {
     "ename": "RuntimeError",
     "evalue": "This StellarGraph has no numeric feature attributes for nodesNode features are required for machine learning",
     "output_type": "error",
     "traceback": [
      "\u001b[0;31m---------------------------------------------------------------------------\u001b[0m",
      "\u001b[0;31mRuntimeError\u001b[0m                              Traceback (most recent call last)",
      "\u001b[0;32m<ipython-input-58-cf19a80d69f3>\u001b[0m in \u001b[0;36m<module>\u001b[0;34m\u001b[0m\n\u001b[0;32m----> 1\u001b[0;31m \u001b[0mtrain_gen\u001b[0m \u001b[0;34m=\u001b[0m \u001b[0mFullBatchLinkGenerator\u001b[0m\u001b[0;34m(\u001b[0m\u001b[0mG_train\u001b[0m\u001b[0;34m,\u001b[0m \u001b[0mmethod\u001b[0m\u001b[0;34m=\u001b[0m\u001b[0;34m\"gcn\"\u001b[0m\u001b[0;34m)\u001b[0m\u001b[0;34m\u001b[0m\u001b[0;34m\u001b[0m\u001b[0m\n\u001b[0m\u001b[1;32m      2\u001b[0m \u001b[0mtrain_flow\u001b[0m \u001b[0;34m=\u001b[0m \u001b[0mtrain_gen\u001b[0m\u001b[0;34m.\u001b[0m\u001b[0mflow\u001b[0m\u001b[0;34m(\u001b[0m\u001b[0mX_edges_ids\u001b[0m\u001b[0;34m,\u001b[0m \u001b[0mY_train\u001b[0m\u001b[0;34m)\u001b[0m\u001b[0;34m\u001b[0m\u001b[0;34m\u001b[0m\u001b[0m\n",
      "\u001b[0;32m~/anaconda3/envs/dock/lib/python3.8/site-packages/stellargraph/mapper/full_batch_generators.py\u001b[0m in \u001b[0;36m__init__\u001b[0;34m(self, G, name, method, k, sparse, transform, teleport_probability, weighted)\u001b[0m\n\u001b[1;32m     81\u001b[0m \u001b[0;34m\u001b[0m\u001b[0m\n\u001b[1;32m     82\u001b[0m         \u001b[0;31m# Check if the graph has features\u001b[0m\u001b[0;34m\u001b[0m\u001b[0;34m\u001b[0m\u001b[0;34m\u001b[0m\u001b[0m\n\u001b[0;32m---> 83\u001b[0;31m         \u001b[0mG\u001b[0m\u001b[0;34m.\u001b[0m\u001b[0mcheck_graph_for_ml\u001b[0m\u001b[0;34m(\u001b[0m\u001b[0;34m)\u001b[0m\u001b[0;34m\u001b[0m\u001b[0;34m\u001b[0m\u001b[0m\n\u001b[0m\u001b[1;32m     84\u001b[0m \u001b[0;34m\u001b[0m\u001b[0m\n\u001b[1;32m     85\u001b[0m         \u001b[0;31m# Check that there is only a single node type for GAT or GCN\u001b[0m\u001b[0;34m\u001b[0m\u001b[0;34m\u001b[0m\u001b[0;34m\u001b[0m\u001b[0m\n",
      "\u001b[0;32m~/anaconda3/envs/dock/lib/python3.8/site-packages/stellargraph/core/graph.py\u001b[0m in \u001b[0;36mcheck_graph_for_ml\u001b[0;34m(self, features, expensive_check)\u001b[0m\n\u001b[1;32m   1192\u001b[0m         \"\"\"\n\u001b[1;32m   1193\u001b[0m         \u001b[0;32mif\u001b[0m \u001b[0mall\u001b[0m\u001b[0;34m(\u001b[0m\u001b[0msize\u001b[0m \u001b[0;34m==\u001b[0m \u001b[0;36m0\u001b[0m \u001b[0;32mfor\u001b[0m \u001b[0m_\u001b[0m\u001b[0;34m,\u001b[0m \u001b[0msize\u001b[0m \u001b[0;32min\u001b[0m \u001b[0mself\u001b[0m\u001b[0;34m.\u001b[0m\u001b[0mnode_feature_sizes\u001b[0m\u001b[0;34m(\u001b[0m\u001b[0;34m)\u001b[0m\u001b[0;34m.\u001b[0m\u001b[0mitems\u001b[0m\u001b[0;34m(\u001b[0m\u001b[0;34m)\u001b[0m\u001b[0;34m)\u001b[0m\u001b[0;34m:\u001b[0m\u001b[0;34m\u001b[0m\u001b[0;34m\u001b[0m\u001b[0m\n\u001b[0;32m-> 1194\u001b[0;31m             raise RuntimeError(\n\u001b[0m\u001b[1;32m   1195\u001b[0m                 \u001b[0;34m\"This StellarGraph has no numeric feature attributes for nodes\"\u001b[0m\u001b[0;34m\u001b[0m\u001b[0;34m\u001b[0m\u001b[0m\n\u001b[1;32m   1196\u001b[0m                 \u001b[0;34m\"Node features are required for machine learning\"\u001b[0m\u001b[0;34m\u001b[0m\u001b[0;34m\u001b[0m\u001b[0m\n",
      "\u001b[0;31mRuntimeError\u001b[0m: This StellarGraph has no numeric feature attributes for nodesNode features are required for machine learning"
     ]
    }
   ],
   "source": [
    "train_gen = FullBatchLinkGenerator(G_train, method=\"gcn\")\n",
    "train_flow = train_gen.flow(X_edges_ids, Y_train)"
   ]
  }
 ],
 "metadata": {
  "kernelspec": {
   "display_name": "Python 3",
   "language": "python",
   "name": "python3"
  },
  "language_info": {
   "codemirror_mode": {
    "name": "ipython",
    "version": 3
   },
   "file_extension": ".py",
   "mimetype": "text/x-python",
   "name": "python",
   "nbconvert_exporter": "python",
   "pygments_lexer": "ipython3",
   "version": "3.8.5"
  }
 },
 "nbformat": 4,
 "nbformat_minor": 5
}
