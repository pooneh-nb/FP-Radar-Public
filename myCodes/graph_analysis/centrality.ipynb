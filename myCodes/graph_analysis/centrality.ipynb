{
 "cells": [
  {
   "cell_type": "code",
   "execution_count": 1,
   "id": "artificial-trinidad",
   "metadata": {},
   "outputs": [],
   "source": [
    "import networkx\n",
    "from networkx.readwrite import json_graph\n",
    "from pathlib import Path\n",
    "import utilities\n",
    "import os"
   ]
  },
  {
   "cell_type": "markdown",
   "id": "portuguese-shepherd",
   "metadata": {},
   "source": [
    "### Load Data"
   ]
  },
  {
   "cell_type": "code",
   "execution_count": 2,
   "id": "white-leeds",
   "metadata": {},
   "outputs": [],
   "source": [
    "# Take the Graph in 2019\n",
    "graph_address = \"/home/c6/Desktop/OpenWPM/jsons/AST/CDX_results/Graphs/2019_old/Graph.json\"\n",
    "g = utilities.read_json(graph_address)\n",
    "G = json_graph.node_link_graph(g)\n",
    "\n",
    "# Take the nodes in FP cluster\n",
    "fp_cluster_addrr = \"/home/c6/Desktop/OpenWPM/jsons/community_tracking/real_graphs/2019/C_7_1\"\n",
    "fp_cluster_nodes = utilities.read_json(fp_cluster_addrr)\n",
    "\n",
    "# extract the subgraph\n",
    "fp_graph = G.subgraph(fp_cluster_nodes)"
   ]
  },
  {
   "cell_type": "code",
   "execution_count": 3,
   "id": "attractive-block",
   "metadata": {},
   "outputs": [
    {
     "name": "stdout",
     "output_type": "stream",
     "text": [
      "761\n",
      "761\n",
      "118021\n"
     ]
    }
   ],
   "source": [
    "print(len(fp_cluster_nodes))\n",
    "print(len(fp_graph.nodes()))\n",
    "print(len(fp_graph.edges()))"
   ]
  },
  {
   "cell_type": "code",
   "execution_count": 4,
   "id": "ongoing-theta",
   "metadata": {},
   "outputs": [
    {
     "data": {
      "text/plain": [
       "709"
      ]
     },
     "execution_count": 4,
     "metadata": {},
     "output_type": "execute_result"
    }
   ],
   "source": [
    "fp_graph.degree(\"screen\")"
   ]
  },
  {
   "cell_type": "markdown",
   "id": "fossil-services",
   "metadata": {},
   "source": [
    "### calculate centrality of nodes"
   ]
  },
  {
   "cell_type": "code",
   "execution_count": 5,
   "id": "structural-england",
   "metadata": {},
   "outputs": [],
   "source": [
    "base_dir = \"/home/c6/Desktop/OpenWPM/jsons/community_tracking/real_graphs/centralitty\""
   ]
  },
  {
   "cell_type": "markdown",
   "id": "confused-programmer",
   "metadata": {},
   "source": [
    "### Current-flow betweenness centrality uses an electrical current model for information spreading in contrast to betweenness centrality which uses shortest paths."
   ]
  },
  {
   "cell_type": "code",
   "execution_count": 6,
   "id": "silver-catholic",
   "metadata": {},
   "outputs": [],
   "source": [
    "centrality_list = networkx.current_flow_betweenness_centrality(fp_graph, normalized=False, weight=\"weight\")\n",
    "our_weights = {key:value for key, value in sorted(centrality_list.items(), key = lambda item : item[1], reverse=True)}\n",
    "# give rank to apis\n",
    "index = 1\n",
    "indexed_weights = {}\n",
    "for key, value in our_weights.items():\n",
    "    indexed_weights[key] = {\"weight\": value, \"rank\":index}\n",
    "    index += 1\n",
    "utilities.write_json(os.path.join(base_dir, \"current_flow_betweenness_centrality.json\"), indexed_weights)"
   ]
  },
  {
   "cell_type": "code",
   "execution_count": 7,
   "id": "automated-kitty",
   "metadata": {},
   "outputs": [],
   "source": [
    "trackr_radar_weights_dict = utilities.read_json(os.path.join(base_dir, \"tracker_radar_weights.json\"))\n",
    "trackr_radar_weights = {key.split('.')[-1]:value for key, value in sorted(trackr_radar_weights_dict.items(), key = lambda item: item[1], reverse=True)}\n",
    "utilities.write_json(os.path.join(base_dir, \"trackr_radar_weights.json\"), trackr_radar_weights)"
   ]
  },
  {
   "cell_type": "markdown",
   "id": "declared-weather",
   "metadata": {},
   "source": [
    "### Average weight"
   ]
  },
  {
   "cell_type": "code",
   "execution_count": 8,
   "id": "bulgarian-boulder",
   "metadata": {},
   "outputs": [],
   "source": [
    "list_threshold = len(trackr_radar_weights)\n",
    "#list_threshold = 10\n",
    "top_ten = 1\n",
    "average_weight = 0\n",
    "accu_weight = 0\n",
    "penalty_rank = len(indexed_weights)\n",
    "for key, weight in trackr_radar_weights.items():\n",
    "    if top_ten > list_threshold:\n",
    "        break\n",
    "    if key in indexed_weights.keys():\n",
    "        average_weight += (weight * indexed_weights[key][\"rank\"])\n",
    "        accu_weight += weight\n",
    "    else:\n",
    "        average_weight += (weight * penalty_rank)\n",
    "        accu_weight += weight\n",
    "    top_ten += 1\n",
    "average_weight = average_weight / accu_weight"
   ]
  },
  {
   "cell_type": "markdown",
   "id": "wrong-aggregate",
   "metadata": {},
   "source": [
    "### Best, worst ranks"
   ]
  },
  {
   "cell_type": "code",
   "execution_count": 9,
   "id": "destroyed-gross",
   "metadata": {},
   "outputs": [],
   "source": [
    "top_ten = 1 \n",
    "Best_avg_rank = 0\n",
    "worst_avg_rank = 0\n",
    "best_ranking = 1\n",
    "worst_ranking = len(indexed_weights)\n",
    "for key, weight in trackr_radar_weights.items():\n",
    "    if top_ten > list_threshold:\n",
    "        break\n",
    "    Best_avg_rank += weight * best_ranking\n",
    "    best_ranking += 1\n",
    "    worst_avg_rank += weight * worst_ranking\n",
    "    worst_ranking -= 1\n",
    "    top_ten += 1    \n",
    "Best_avg_rank = Best_avg_rank / accu_weight\n",
    "worst_avg_rank = worst_avg_rank / accu_weight"
   ]
  },
  {
   "cell_type": "code",
   "execution_count": 10,
   "id": "combined-reset",
   "metadata": {},
   "outputs": [
    {
     "name": "stdout",
     "output_type": "stream",
     "text": [
      "Average Rank:  598.7813731680827\n",
      "Best Average Rank:  6.573528932327371\n",
      "Worst Average Rank:  755.4264710676731\n"
     ]
    }
   ],
   "source": [
    "print(\"Average Rank: \", average_weight)\n",
    "print(\"Best Average Rank: \", Best_avg_rank)\n",
    "print(\"Worst Average Rank: \", worst_avg_rank)"
   ]
  },
  {
   "cell_type": "markdown",
   "id": "organized-palestine",
   "metadata": {},
   "source": [
    "### check non-available api keywords in FP cluster"
   ]
  },
  {
   "cell_type": "code",
   "execution_count": 11,
   "id": "incorporated-cookie",
   "metadata": {},
   "outputs": [
    {
     "name": "stdout",
     "output_type": "stream",
     "text": [
      "Navigator.prototype.keyboard\n",
      "Navigator.prototype.presentation\n",
      "DeviceMotionEvent.prototype.accelerationIncludingGravity\n",
      "Navigator.prototype.webkitPersistentStorage\n",
      "DeviceOrientationEvent.prototype.beta\n",
      "DeviceOrientationEvent.prototype.alpha\n",
      "DeviceOrientationEvent.prototype.absolute\n",
      "Navigator.prototype.mediaCapabilities\n",
      "Navigator.prototype.storage\n",
      "Navigator.prototype.permissions\n",
      "CanvasRenderingContext2D.prototype.measureText\n",
      "CanvasRenderingContext2D.prototype.getImageData\n",
      "Screen.prototype.availLeft\n",
      "MediaSource.isTypeSupported\n",
      "Navigator.prototype.javaEnabled\n",
      "Navigator.prototype.product\n",
      "Navigator.prototype.vendor\n",
      "Navigator.prototype.language\n",
      "window.localStorage\n",
      "HTMLMediaElement.prototype.canPlayType\n",
      "URL.createObjectURL\n",
      "Navigator.prototype.userAgent\n"
     ]
    }
   ],
   "source": [
    "original_web_tracker = utilities.read_json(os.path.join(base_dir,\"original_tracker_radar.json\"))\n",
    "for key in trackr_radar_weights.keys():\n",
    "    if key not in indexed_weights.keys():\n",
    "        for original_key in original_web_tracker.keys():\n",
    "            if original_key.split('.')[-1] == key:\n",
    "                print(original_key)"
   ]
  },
  {
   "cell_type": "markdown",
   "id": "tribal-tactics",
   "metadata": {},
   "source": [
    "### current_flow_betweenness_centrality"
   ]
  },
  {
   "cell_type": "code",
   "execution_count": 12,
   "id": "popular-premiere",
   "metadata": {},
   "outputs": [],
   "source": [
    "centrality_list = networkx.algorithms.centrality.current_flow_betweenness_centrality(fp_graph, normalized=False, weight=\"weight\")\n",
    "our_weights = {key:value for key, value in sorted(centrality_list.items(), key = lambda item : item[1], reverse=True)}\n",
    "# give rank to apis\n",
    "index = 1\n",
    "indexed_weights = {}\n",
    "for key, value in our_weights.items():\n",
    "    indexed_weights[key] = {\"weight\": value, \"rank\":index}\n",
    "    index += 1\n",
    "utilities.write_json(os.path.join(base_dir, \"current_flow_betweenness_centrality.json\"), indexed_weights)"
   ]
  },
  {
   "cell_type": "markdown",
   "id": "moderate-board",
   "metadata": {},
   "source": [
    "### approximate current-flow betweenness centrality for nodes."
   ]
  },
  {
   "cell_type": "code",
   "execution_count": 13,
   "id": "hispanic-essence",
   "metadata": {},
   "outputs": [],
   "source": [
    "centrality_list = networkx.algorithms.centrality.approximate_current_flow_betweenness_centrality(fp_graph, normalized=False, weight=\"weight\")\n",
    "our_weights = {key:value for key, value in sorted(centrality_list.items(), key = lambda item : item[1], reverse=True)}\n",
    "# give rank to apis\n",
    "index = 1\n",
    "indexed_weights = {}\n",
    "for key, value in our_weights.items():\n",
    "    indexed_weights[key] = {\"weight\": value, \"rank\":index}\n",
    "    index += 1\n",
    "utilities.write_json(os.path.join(base_dir, \"approximate_current_flow_betweenness_centrality.json\"), indexed_weights)"
   ]
  },
  {
   "cell_type": "markdown",
   "id": "electoral-french",
   "metadata": {},
   "source": [
    "### betweenness_centrality\n",
    "Compute the shortest-path betweenness centrality for nodes"
   ]
  },
  {
   "cell_type": "code",
   "execution_count": 14,
   "id": "burning-investing",
   "metadata": {},
   "outputs": [],
   "source": [
    "centrality_list = networkx.algorithms.centrality.betweenness_centrality(fp_graph, normalized=False, weight=\"weight\")\n",
    "our_weights = {key:value for key, value in sorted(centrality_list.items(), key = lambda item : item[1], reverse=True)}\n",
    "# give rank to apis\n",
    "index = 1\n",
    "indexed_weights = {}\n",
    "for key, value in our_weights.items():\n",
    "    indexed_weights[key] = {\"weight\": value, \"rank\":index}\n",
    "    index += 1\n",
    "utilities.write_json(os.path.join(base_dir, \"betweenness_centrality.json\"), indexed_weights)"
   ]
  },
  {
   "cell_type": "markdown",
   "id": "balanced-syracuse",
   "metadata": {},
   "source": [
    "### eigenvector_centrality\n",
    "Compute the eigenvector centrality for the graph"
   ]
  },
  {
   "cell_type": "code",
   "execution_count": 15,
   "id": "electric-mainstream",
   "metadata": {},
   "outputs": [],
   "source": [
    "centrality_list = networkx.algorithms.centrality.eigenvector_centrality(fp_graph, weight=\"weight\")\n",
    "our_weights = {key:value for key, value in sorted(centrality_list.items(), key = lambda item : item[1], reverse=True)}\n",
    "# give rank to apis\n",
    "index = 1\n",
    "indexed_weights = {}\n",
    "for key, value in our_weights.items():\n",
    "    indexed_weights[key] = {\"weight\": value, \"rank\":index}\n",
    "    index += 1\n",
    "utilities.write_json(os.path.join(base_dir, \"eigenvector_centrality.json\"), indexed_weights)"
   ]
  },
  {
   "cell_type": "markdown",
   "id": "optional-diesel",
   "metadata": {},
   "source": [
    "### degree_centrality"
   ]
  },
  {
   "cell_type": "code",
   "execution_count": 16,
   "id": "still-keyboard",
   "metadata": {},
   "outputs": [],
   "source": [
    "centrality_list = networkx.algorithms.centrality.degree_centrality(fp_graph)\n",
    "our_weights = {key:value for key, value in sorted(centrality_list.items(), key = lambda item : item[1], reverse=True)}\n",
    "# give rank to apis\n",
    "index = 1\n",
    "indexed_weights = {}\n",
    "for key, value in our_weights.items():\n",
    "    indexed_weights[key] = {\"weight\": value, \"rank\":index}\n",
    "    index += 1\n",
    "utilities.write_json(os.path.join(base_dir, \"degree_centrality.json\"), indexed_weights)"
   ]
  },
  {
   "cell_type": "markdown",
   "id": "standing-bulgaria",
   "metadata": {},
   "source": [
    "### eigenvector_centrality_numpy"
   ]
  },
  {
   "cell_type": "code",
   "execution_count": 17,
   "id": "powered-genetics",
   "metadata": {},
   "outputs": [],
   "source": [
    "centrality_list = networkx.algorithms.centrality.eigenvector_centrality_numpy(fp_graph, weight=\"weight\")\n",
    "our_weights = {key:value for key, value in sorted(centrality_list.items(), key = lambda item : item[1], reverse=True)}\n",
    "# give rank to apis\n",
    "index = 1\n",
    "indexed_weights = {}\n",
    "for key, value in our_weights.items():\n",
    "    indexed_weights[key] = {\"weight\": value, \"rank\":index}\n",
    "    index += 1\n",
    "utilities.write_json(os.path.join(base_dir, \"eigenvector_centrality_numpy.json\"), indexed_weights)"
   ]
  },
  {
   "cell_type": "markdown",
   "id": "worst-continent",
   "metadata": {},
   "source": [
    "### katz_centrality"
   ]
  },
  {
   "cell_type": "code",
   "execution_count": 18,
   "id": "prospective-algeria",
   "metadata": {},
   "outputs": [],
   "source": [
    "centrality_list = networkx.algorithms.centrality.katz_centrality(fp_graph, weight=\"weight\", normalized=False)\n",
    "our_weights = {key:value for key, value in sorted(centrality_list.items(), key = lambda item : item[1], reverse=True)}\n",
    "# give rank to apis\n",
    "index = 1\n",
    "indexed_weights = {}\n",
    "for key, value in our_weights.items():\n",
    "    indexed_weights[key] = {\"weight\": value, \"rank\":index}\n",
    "    index += 1\n",
    "utilities.write_json(os.path.join(base_dir, \"katz_centrality.json\"), indexed_weights)"
   ]
  },
  {
   "cell_type": "markdown",
   "id": "frequent-exemption",
   "metadata": {},
   "source": [
    "### calvulate average_weight"
   ]
  },
  {
   "cell_type": "code",
   "execution_count": 19,
   "id": "humanitarian-yacht",
   "metadata": {},
   "outputs": [
    {
     "data": {
      "text/plain": [
       "625.3802780171624"
      ]
     },
     "execution_count": 19,
     "metadata": {},
     "output_type": "execute_result"
    }
   ],
   "source": [
    "#list_threshold = len(trackr_radar_weights)\n",
    "list_threshold = 10\n",
    "top_ten = 1\n",
    "average_weight = 0\n",
    "accu_weight = 0\n",
    "penalty_rank = len(indexed_weights)\n",
    "for key, weight in trackr_radar_weights.items():\n",
    "    if top_ten > list_threshold:\n",
    "        break\n",
    "    if key in indexed_weights.keys():\n",
    "        average_weight += (weight * indexed_weights[key][\"rank\"])\n",
    "        accu_weight += weight\n",
    "    else:\n",
    "        average_weight += (weight * penalty_rank)\n",
    "        accu_weight += weight\n",
    "    top_ten += 1\n",
    "average_weight = average_weight / accu_weight\n",
    "average_weight"
   ]
  },
  {
   "cell_type": "code",
   "execution_count": 21,
   "id": "nonprofit-spencer",
   "metadata": {},
   "outputs": [],
   "source": [
    "fp_dy_cluster = utilities.read_json(\"/home/c6/Desktop/OpenWPM/jsons/community_tracking/real_graphs/DY_COMM\"\n",
    "                                        \"/selected_comms/selected_DY_communities.json\")[\"26\"]\n",
    "static_clusters_base = \"/home/c6/Desktop/OpenWPM/jsons/community_tracking/real_graphs\"\n",
    "suspicious_apis = {}\n",
    "for static_cluster in fp_dy_cluster:\n",
    "    static_name = static_cluster[0]\n",
    "    static_year = str(static_cluster[1])\n",
    "    suspicious_apis[static_year] = list(utilities.read_json(os.path.join(static_clusters_base, static_year, static_name)))"
   ]
  },
  {
   "cell_type": "code",
   "execution_count": 22,
   "id": "ancient-stereo",
   "metadata": {},
   "outputs": [
    {
     "data": {
      "text/plain": [
       "761"
      ]
     },
     "execution_count": 22,
     "metadata": {},
     "output_type": "execute_result"
    }
   ],
   "source": [
    "len(suspicious_apis[\"2019\"])"
   ]
  },
  {
   "cell_type": "code",
   "execution_count": null,
   "id": "biblical-accommodation",
   "metadata": {},
   "outputs": [],
   "source": []
  }
 ],
 "metadata": {
  "kernelspec": {
   "display_name": "Python 3",
   "language": "python",
   "name": "python3"
  },
  "language_info": {
   "codemirror_mode": {
    "name": "ipython",
    "version": 3
   },
   "file_extension": ".py",
   "mimetype": "text/x-python",
   "name": "python",
   "nbconvert_exporter": "python",
   "pygments_lexer": "ipython3",
   "version": "3.8.5"
  }
 },
 "nbformat": 4,
 "nbformat_minor": 5
}
