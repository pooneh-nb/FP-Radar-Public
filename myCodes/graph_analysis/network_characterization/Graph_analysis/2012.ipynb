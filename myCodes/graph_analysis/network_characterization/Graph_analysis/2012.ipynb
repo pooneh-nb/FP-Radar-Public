{
 "cells": [
  {
   "cell_type": "code",
   "execution_count": null,
   "id": "demographic-california",
   "metadata": {
    "pycharm": {
     "name": "#%%\n"
    }
   },
   "outputs": [],
   "source": []
  },
  {
   "cell_type": "code",
   "execution_count": null,
   "id": "specific-sociology",
   "metadata": {
    "pycharm": {
     "name": "#%%\n"
    }
   },
   "outputs": [],
   "source": []
  },
  {
   "cell_type": "code",
   "execution_count": 1,
   "id": "automated-scale",
   "metadata": {
    "pycharm": {
     "name": "#%%\n"
    }
   },
   "outputs": [],
   "source": [
    "from networkx.readwrite import json_graph\n",
    "import networkx as nx\n",
    "import json\n",
    "import matplotlib.pyplot as plt\n",
    "import community as community_louvain"
   ]
  },
  {
   "cell_type": "code",
   "execution_count": 2,
   "id": "smoking-arthritis",
   "metadata": {
    "pycharm": {
     "name": "#%%\n"
    }
   },
   "outputs": [],
   "source": [
    "with open(\"/home/c6/Desktop/OpenWPM/jsons/AST/CDX_results/Graphs/2012/Graph.json\", 'rt') as gr:\n",
    "    g = json.load(gr)"
   ]
  },
  {
   "cell_type": "code",
   "execution_count": 3,
   "id": "compressed-objective",
   "metadata": {
    "pycharm": {
     "name": "#%%\n"
    }
   },
   "outputs": [],
   "source": [
    "G = json_graph.node_link_graph(g)"
   ]
  },
  {
   "cell_type": "code",
   "execution_count": 4,
   "id": "temporal-original",
   "metadata": {
    "pycharm": {
     "name": "#%%\n"
    }
   },
   "outputs": [
    {
     "name": "stdout",
     "output_type": "stream",
     "text": [
      "<class 'networkx.classes.graph.Graph'>\n"
     ]
    }
   ],
   "source": [
    "print(type(G))"
   ]
  },
  {
   "cell_type": "code",
   "execution_count": 5,
   "id": "accomplished-potential",
   "metadata": {
    "pycharm": {
     "name": "#%%\n"
    }
   },
   "outputs": [],
   "source": [
    "# Print number of nodes and edges"
   ]
  },
  {
   "cell_type": "code",
   "execution_count": 6,
   "id": "impressed-florence",
   "metadata": {
    "pycharm": {
     "name": "#%%\n"
    }
   },
   "outputs": [
    {
     "name": "stdout",
     "output_type": "stream",
     "text": [
      "Number of Nodes:  1168\n",
      "Number of Edges:  224744\n"
     ]
    }
   ],
   "source": [
    "print(\"Number of Nodes: \", len(G.nodes()))\n",
    "print(\"Number of Edges: \", len(G.edges()))"
   ]
  },
  {
   "cell_type": "code",
   "execution_count": 7,
   "id": "measured-member",
   "metadata": {
    "pycharm": {
     "name": "#%%\n"
    }
   },
   "outputs": [],
   "source": [
    "#Degree calculation"
   ]
  },
  {
   "cell_type": "code",
   "execution_count": 8,
   "id": "internal-event",
   "metadata": {
    "pycharm": {
     "name": "#%%\n"
    }
   },
   "outputs": [],
   "source": [
    "for node_temp in G.nodes():\n",
    "    wt = 0\n",
    "    deg = 0\n",
    "    for nbr, eattr in G.adj[node_temp].items():\n",
    "        wt = wt + eattr['weight']\n",
    "        deg += 1\n",
    "    G.nodes[node_temp]['deg_wt'] = wt\n",
    "    G.nodes[node_temp]['deg'] = deg"
   ]
  },
  {
   "cell_type": "code",
   "execution_count": 9,
   "id": "drawn-disclosure",
   "metadata": {
    "pycharm": {
     "name": "#%%\n"
    }
   },
   "outputs": [],
   "source": [
    "#Degree distrivution"
   ]
  },
  {
   "cell_type": "code",
   "execution_count": 10,
   "id": "severe-shopping",
   "metadata": {
    "pycharm": {
     "name": "#%%\n"
    }
   },
   "outputs": [
    {
     "data": {
      "text/plain": [
       "Text(0, 0.5, 'Frequency')"
      ]
     },
     "execution_count": 10,
     "metadata": {},
     "output_type": "execute_result"
    },
    {
     "data": {
      "image/png": "[encoded data removed]",
      "text/plain": [
       "<Figure size 864x576 with 1 Axes>"
      ]
     },
     "metadata": {
      "needs_background": "light"
     },
     "output_type": "display_data"
    }
   ],
   "source": [
    "degree_freq = []\n",
    "for nod in G.nodes:\n",
    "    degree_freq.append(G.nodes[nod]['deg'])\n",
    "\n",
    "degrees = range(len(degree_freq))\n",
    "plt.figure(figsize=(12, 8))\n",
    "plt.hist(degree_freq, color='green', bins=20)\n",
    "plt.xlabel('Degree')\n",
    "plt.ylabel('Frequency')"
   ]
  },
  {
   "cell_type": "code",
   "execution_count": 11,
   "id": "floating-sunrise",
   "metadata": {
    "pycharm": {
     "name": "#%%\n"
    }
   },
   "outputs": [],
   "source": [
    "# Weight Distribution"
   ]
  },
  {
   "cell_type": "code",
   "execution_count": 12,
   "id": "comparable-usage",
   "metadata": {
    "pycharm": {
     "name": "#%%\n"
    }
   },
   "outputs": [
    {
     "data": {
      "text/plain": [
       "Text(0, 0.5, 'Frequency')"
      ]
     },
     "execution_count": 12,
     "metadata": {},
     "output_type": "execute_result"
    },
    {
     "data": {
      "image/png": "[encoded data removed]",
      "text/plain": [
       "<Figure size 864x576 with 1 Axes>"
      ]
     },
     "metadata": {
      "needs_background": "light"
     },
     "output_type": "display_data"
    }
   ],
   "source": [
    "weight_freq = []\n",
    "for nod in G.nodes:\n",
    "    weight_freq.append(G.nodes[nod]['deg_wt'])\n",
    "\n",
    "wt = range(len(weight_freq))\n",
    "plt.figure(figsize=(12, 8))\n",
    "plt.hist(weight_freq, color='green', bins=20)\n",
    "plt.xlabel('Weight')\n",
    "plt.ylabel('Frequency')"
   ]
  },
  {
   "cell_type": "code",
   "execution_count": 13,
   "id": "structured-mountain",
   "metadata": {
    "pycharm": {
     "name": "#%%\n"
    }
   },
   "outputs": [],
   "source": [
    "# Degree statistics"
   ]
  },
  {
   "cell_type": "code",
   "execution_count": 14,
   "id": "passing-power",
   "metadata": {
    "pycharm": {
     "name": "#%%\n"
    }
   },
   "outputs": [
    {
     "name": "stdout",
     "output_type": "stream",
     "text": [
      "384.83561643835617\n",
      "19\n",
      "1167\n"
     ]
    }
   ],
   "source": [
    "# Average degree\n",
    "print(sum(degree_freq)/len(G.nodes))\n",
    "print(min(degree_freq))\n",
    "print(max(degree_freq))"
   ]
  },
  {
   "cell_type": "code",
   "execution_count": 15,
   "id": "alike-breach",
   "metadata": {
    "pycharm": {
     "name": "#%%\n"
    }
   },
   "outputs": [
    {
     "name": "stdout",
     "output_type": "stream",
     "text": [
      "5.922344687369643\n",
      "0.011124121779859487\n",
      "65.77517564402748\n"
     ]
    }
   ],
   "source": [
    "# Weight Statistics\n",
    "print(sum(weight_freq)/len(G.nodes))\n",
    "print(min(weight_freq))\n",
    "print(max(weight_freq))"
   ]
  },
  {
   "cell_type": "code",
   "execution_count": 16,
   "id": "wrapped-alert",
   "metadata": {
    "pycharm": {
     "name": "#%%\n"
    }
   },
   "outputs": [],
   "source": [
    "# sort nodes based on degree"
   ]
  },
  {
   "cell_type": "code",
   "execution_count": 17,
   "id": "homeless-sight",
   "metadata": {
    "pycharm": {
     "name": "#%%\n"
    }
   },
   "outputs": [
    {
     "name": "stdout",
     "output_type": "stream",
     "text": [
      "{'var': 1167, 'name': 1167, 'window': 1167, 'document': 1167, 'frames': 1166, 'opener': 1166, 'self': 1166, 'top': 1166, 'location': 1166, 'parent': 1166, 'length': 1163, 'null': 1160, 'init': 1152, 'push': 1128, 'src': 1120, 'true': 1109, 'Math': 1105, 'createElement': 1104, 'setTimeout': 1100, 'type': 1099, 'navigator': 1096, 'Date': 1088, 'body': 1086, 'id': 1085, 'join': 1081, 'undefined': 1081, 'height': 1075, 'width': 1072, 'false': 1071, 'style': 1071, 'addEventListener': 1061, 'string': 1060, 'getElementsByTagName': 1058, 'href': 1050, 'onload': 1044, 'prototype': 1042, 'getTime': 1040, 'arguments': 1034, 'call': 1032, 'appendChild': 1024, 'readyState': 1022, 'replace': 1021, 'parentNode': 1009, 'toString': 1000, 'documentElement': 1000, 'userAgent': 998, 'attachEvent': 995, 'getElementById': 991, 'left': 991, 'slice': 990, 'none': 988, 'target': 986, 'match': 984, 'complete': 984, 'object': 983, 'function': 976, 'load': 970, 'delete': 965, 'event': 955, 'apply': 954, 'removeChild': 945, 'getAttribute': 944, 'img': 944, 'url': 941, 'Array': 939, 'position': 926, 'data': 926, 'random': 918, 'clearTimeout': 918, 'setAttribute': 914, 'on': 912, 'innerHTML': 910, 'number': 909, 'removeEventListener': 906, 'String': 901, 'in': 900, 'display': 899, 'hasOwnProperty': 899, 'version': 899, 'Image': 898, 'hidden': 896, 'px': 894, 'onreadystatechange': 892, 'setInterval': 890, 'protocol': 889, 'click': 888, 'insertBefore': 887, 'head': 884, 'referrer': 884, 'max': 884, 'absolute': 880, 'value': 880, 'className': 878, 'round': 875, 'get': 870, 'open': 863, 'Object': 856, 'tagName': 854, 'title': 853, 'clearInterval': 853, 'srcElement': 845, 'nodeType': 844, 'cookie': 842, 'splice': 842, 'detachEvent': 841, 'iframe': 836, 'screen': 832, 'log': 828, 'escape': 821, 'firstChild': 819, 'console': 818, 'scrollTop': 811, 'text': 807, 'start': 800, 'html': 797, 'offsetWidth': 794, 'offsetHeight': 793, 'host': 791, 'offsetTop': 789, 'visible': 786, 'description': 786, 'loaded': 782, 'preventDefault': 782, 'min': 782, 'domain': 781, 'scroll': 779, 'void': 779, 'callback': 778, 'nodeName': 777, 'key': 775, 'childNodes': 773, 'clientHeight': 763, 'search': 762, 'offsetLeft': 761, 'cssText': 758, 'right': 758, 'write': 752, 'ActiveXObject': 752, 'index': 750, 'plugins': 749, 'mousedown': 749, 'instanceof': 747, 'clientWidth': 746, 'DOMContentLoaded': 745, 'getComputedStyle': 743, 'createTextNode': 742, 'hostname': 740, 'focus': 740, 'item': 739, 'scrollLeft': 739, 'element': 734, 'async': 734, 'set': 734, 'color': 732, 'bottom': 732, 'onclick': 730, 'close': 730, 'now': 726, 'filter': 726, 'http': 723, 'contentWindow': 712, 'hash': 712, 'remove': 711, 'count': 709, 'link': 707, 'all': 706, 'input': 704, 'blur': 703, 'add': 703, 'show': 702, 'sort': 701, 'mouseup': 697, 'currentStyle': 696, 'parse': 692, 'error': 690, 'pageX': 689, 'pageY': 689, 'border': 687, 'textAlign': 686, 'auto': 686, 'margin': 686, 'content': 683, 'stopPropagation': 682, 'innerHeight': 682, 'image': 681, 'pageYOffset': 678, 'mousemove': 676, 'returnValue': 672, 'message': 668, 'nextSibling': 667, 'offset': 667, 'innerWidth': 667, 'offsetParent': 666, 'charset': 666, 'options': 665, 'stop': 663, 'language': 659, 'cloneNode': 658, 'frameElement': 655, 'css': 650, 'button': 649, 'size': 646, 'enabled': 646, 'events': 646, 'label': 642, 'constructor': 641, 'center': 640, 'frameBorder': 639, 'colorDepth': 639, 'source': 638, 'platform': 638, 'ready': 636, 'span': 633, 'URL': 632, 'clientX': 632, 'flash': 631, 'class': 631, 'charCodeAt': 630, 'cancelBubble': 628, 'getBoundingClientRect': 627, 'pathname': 625, 'canvas': 625, 'overflow': 624, 'webkit': 624, 'extend': 621, 'resize': 620, 'submit': 619, 'rel': 618, 'innerText': 617, 'compatMode': 617, 'attr': 617, 'mimeTypes': 616, 'onerror': 616, 'bind': 615, 'appName': 611, 'always': 610, 'update': 610, 'appVersion': 606, 'pageXOffset': 606, 'textContent': 605, 'create': 604, 'track': 604, 'getPropertyValue': 601, 'browser': 599, 'scrolling': 598, 'info': 598, 'addEvent': 595, 'action': 594, 'transform': 594, 'mouseover': 592, 'nodeValue': 588, 'animate': 586, 'align': 584, 'mouseout': 584, 'zoom': 583, 'db': 581, 'debug': 579, 'getElementsByClassName': 578, 'append': 577, 'lang': 577, 'end': 571, 'timeout': 569, 'clear': 567, 'postMessage': 566, 'cache': 565, 'node': 564, 'product': 563, 'embed': 562, 'default': 562, 'move': 560, '_blank': 560, 'onmouseover': 560, 'select': 560, '\\\\n': 558, 'array': 557, 'clientY': 556, 'onmouseout': 555, 'clip': 554, 'vb': 553, 'query': 552, 'duration': 552, 'base': 551, 'touchstart': 550, 'metaKey': 548, 'loading': 547, 'Function': 546, 'state': 543, 'characterSet': 543, 'prop': 542, 'defaultView': 541, 'pt': 541, 'status': 541, 'XMLHttpRequest': 538, 'relatedTarget': 538, 'offsetX': 538, 'offsetY': 538, 'tracker': 537, 'getContext': 535, 'down': 534, 'javaEnabled': 531, 'enabledPlugin': 530, 'ctrlKey': 528, 'alert': 527, 'find': 526, 'origin': 524, 'filters': 523, 'shiftKey': 522, 'browserLanguage': 521, 'pc': 521, 'contains': 518, 'forEach': 518, 'boolean': 517, 'removeAttribute': 517, 'initialize': 514, 'save': 513, 'success': 510, 'ownerDocument': 510, 'previousSibling': 509, 'form': 509, 'children': 507, 'scope': 507, 'replaceChild': 507, 'expires': 506, 'ic': 505, 'unload': 502, 'frame': 501, 'change': 500, 'images': 499, 'checked': 499, 'keyCode': 498, 'up': 497, 'group': 494, 'reverse': 494, 'refresh': 493, 'empty': 492, 'from': 492, 'total': 492, 'addListener': 491, 'rotation': 491, 'alpha': 490, 'navigation': 490, 'namespaceURI': 487, 'next': 486, 'JSON': 486, 'styleSheet': 486, 'external': 483, 'fill': 483, 'cursor': 483, 'scrollHeight': 481, 'bgcolor': 480, 'current': 480, 'buttons': 472, 'createRange': 470, 'request': 470, 'clone': 470, 'cy': 470, 'done': 467, 'performance': 466, 'alt': 465, 'ontouchstart': 465, 'finish': 463, 'port': 462, 'beforeunload': 461, 'which': 459, 'cookieEnabled': 459, 'view': 459, 'Boolean': 459, 'stroke': 458, 'touchend': 458, 'interval': 457, 'square': 457, 'time': 455, 'root': 453, 'td': 452, 'fireEvent': 451, 'POST': 449, 'warn': 447, 'clientLeft': 447, 'clientTop': 447, 'onmousedown': 446, 'keys': 443, 'attributes': 443, 'lastChild': 443, 'middle': 443, 'scrollWidth': 442, 'mouseenter': 441, 'pattern': 440, 'reset': 439, 'code': 439, 'setData': 438, 'querySelectorAll': 436, 'ss': 433, 'static': 433, 'mozilla': 432, 'Event': 431, 'layerX': 431, 'layerY': 431, 'translate': 428, 'step': 427, 'font': 427, 'method': 425, 'ms': 424, 'Point': 424, 'lineWidth': 424, 'arc': 424, 'rect': 424, 'outerHTML': 423, 'background': 423, 'touchmove': 423, 'play': 423, 'client': 422, 'mouseleave': 422, 'process': 421, 'delay': 421, 'HTMLCanvasElement': 420, 'started': 420, 'bevel': 420, 'scale': 420, 'go': 419, 'json': 419, 'send': 418, 'getBoxObjectFor': 416, 'localStorage': 415, 'evaluate': 414, 'checkbox': 414, 'wrap': 413, 'styleSheets': 411, 'easing': 410, 'disabled': 409, 'cx': 409, 'Element': 409, 'selected': 408, 'user': 406, 'contentDocument': 406, 'removeItem': 404, 'addRule': 403, 'custom': 403, 'prerender': 402, 'placeholder': 401, 'encode': 400, 'result': 399, 'writeln': 398, 'onfocus': 398, 'dx': 398, 'dy': 398, 'createElementNS': 397, 'previous': 395, 'utils': 392, 'pan': 392, 'querySelector': 391, 'moz': 391, 'onbeforeunload': 391, 'normal': 391, 'active': 390, 'tag': 390, 'Gecko': 390, 'percent': 390, 'sidebar': 388, 'mark': 388, 'pixelDepth': 387, 'getElementsByName': 386, 'screenY': 383, 'screenX': 383, 'ch': 382, 'altKey': 381, 'direction': 380, 'low': 380, 'timing': 379, 'onmessage': 379, 'email': 378, 'line': 378, 'format': 378, 'high': 377, 'radius': 376, 'touches': 376, 'icon': 375, 'out': 374, 'history': 373, 'popup': 373, 'axis': 373, 'prepend': 373, 'GET': 372, 'video': 372, 'items': 372, 'mousewheel': 371, 'DOMMouseScroll': 371, 'parameters': 371, 'register': 370, 'ontouchmove': 369, 'ontouchend': 369, 'share': 368, 'mode': 367, 'login': 367, 'userLanguage': 365, 'onblur': 364, 'prefix': 364, 'currentTarget': 362, 'media': 362, 'sum': 362, 'autoplay': 362, 'layout': 361, 'readystatechange': 360, 'animation': 360, 'links': 359, 'shape': 359, 'collapse': 356, 'labels': 356, 'th': 354, 'onmousemove': 353, 'threshold': 353, 'ip': 351, 'linear': 350, 'range': 350, 'fr': 348, 'behavior': 348, 'valueOf': 347, 'properties': 347, 'before': 346, 'results': 345, 'service': 344, 'onabort': 344, 'services': 344, 'require': 343, 'keydown': 342, 'enable': 341, 'flags': 340, 'redirect': 338, 'counter': 338, 'removeListener': 337, 'for': 336, 'matches': 335, 'sessionStorage': 334, 'keypress': 334, 'file': 334, 'table': 333, 'onchange': 333, 'vertical': 332, 'Text': 332, 'unknown': 330, 'pause': 329, 'getItem': 327, 'setItem': 327, 'Mozilla': 326, 'handler': 323, 'x2': 323, 'rx': 323, 'reversed': 323, 'nowrap': 323, 'datetime': 323, 'symbols': 323, 'userSpaceOnUse': 323, 'grep': 323, 'setAttributeNS': 323, 'autoIncrement': 323, 'points': 323, 'brightness': 323, 'ry': 323, 'createSVGRect': 323, 'defaultChecked': 323, 'Position': 323, 'fx': 323, 'point': 323, 'tooltip': 323, 'getBBox': 323, 'sorted': 323, 'preserveAspectRatio': 323, 'gradientUnits': 323, 'setScale': 323, 'rtl': 323, 'outerHeight': 322, 'outerWidth': 322, 'axes': 322, 'Navigator': 322, 'Transition': 321, 'token': 321, 'inherit': 321, 'print': 321, 'blocked': 321, 'implementation': 320, 'propertyIsEnumerable': 320, 'vendor': 319, 'decode': 319, 'Netscape': 318, 'touch': 318, 'angle': 318, 'startAngle': 318, 'hasFocus': 318, 'setPosition': 317, 'onscroll': 316, 'keyup': 316, 'taintEnabled': 313, 'over': 311, 'elements': 310, 'context': 310, 'list': 310, 'cancel': 310, 'canPlayType': 309, 'both': 309, 'startTime': 308, 'scrollY': 307, 'timestamp': 305, 'systemLanguage': 304, 'sync': 304, 'filename': 303, 'onunload': 302, 'screenTop': 301, 'screenLeft': 301, 'encoding': 301, 'defer': 298, 'cm': 298, 'htmlFor': 297, 'parentElement': 297, 'onresize': 297, 'disable': 297, 'XDomainRequest': 296, 'closed': 296, 'detail': 295, 'DOMNodeInserted': 295, 'DOMNodeRemoved': 295, 'identity': 294, 'iterateNext': 293, 'dblclick': 293, 'controller': 292, 'response': 290, 'Infinity': 290, 'req': 289, 'define': 289, 'menu': 288, 'getNamedItem': 288, 'drag': 287, 'rules': 285, 'insertAdjacentHTML': 285, 'release': 285, 'doNotTrack': 285, 'NaN': 284, 'first': 284, 'off': 284, 'MouseEvent': 283, 'urls': 283, 'connectStart': 282, 'getSelection': 282, 'then': 282, 'connectEnd': 281, 'navigationStart': 281, 'responseStart': 281, 'domainLookupEnd': 281, 'domainLookupStart': 281, 'dump': 280, 'detach': 280, 'actions': 280, 'gap': 280, 'isSameNode': 280, 'MS': 280, 'progress': 280, 'insertNode': 280, 'setStart': 280, 'bound': 280, 'activate': 280, 'onstop': 280, 'png': 280, 'handleEvent': 280, 'ping': 279, 'yes': 279, 'trace': 278, 'allowfullscreen': 278, 'rotate': 277, 'setRequestHeader': 275, 'contentType': 271, 'viewport': 271, 'codebase': 270, 'fullscreen': 269, 'ext': 269, 'paused': 269, 'loop': 268, 'words': 265, 'uri': 265, 'textarea': 265, 'availWidth': 264, 'availHeight': 264, 'locale': 264, 'speed': 263, 'local': 262, 'waiting': 261, 'toJSON': 260, 'supported': 258, 'XMLSerializer': 258, 'xml': 258, 'DOMParser': 258, 'parseFromString': 258, 'serializeToString': 258, 'requestStart': 257, 'responseEnd': 257, 'fetchStart': 257, 'loadEventStart': 257, 'getData': 256, 'channel': 256, 'toDataURL': 256, 'redirectCount': 256, 'remote': 255, 'after': 254, 'pagehide': 254, 'scrollMaxY': 253, 'onkeydown': 252, 'reload': 252, 'scripts': 251, 'withCredentials': 250, 'createContextualFragment': 250, 'onMessage': 247, 'order': 246, 'exception': 245, 'useMap': 245, 'ty': 245, 'onkeyup': 244, 'orientation': 244, 'types': 242, 'forms': 241, 'check': 241, 'defaultValue': 235, 'javascript': 234, 'charCode': 234, 'scheme': 234, 'Node': 233, 'closest': 233, 'storage': 228, 'wheelDelta': 227, 'onmousewheel': 227, 'setStartAfter': 227, 'controls': 227, 'continuous': 227, 'cssFloat': 226, 'ctx': 226, 'region': 226, 'flush': 225, 'SyntaxError': 225, 'nodes': 223, 'cellpadding': 223, 'cellspacing': 223, 'wheel': 219, 'setProperty': 219, 'hand': 219, 'allowFullScreen': 218, 'isSupported': 218, 'prompt': 217, 'targetTouches': 214, 'hspace': 212, 'vspace': 212, 'connected': 212, 'rows': 212, 'lineTo': 211, 'closePath': 211, 'mozRequestAnimationFrame': 211, 'createPattern': 211, 'fillText': 211, 'measureText': 211, 'shadowOffsetY': 211, 'isIdentity': 211, 'touchcancel': 211, 'fillRect': 211, 'putImageData': 211, 'restore': 211, 'miter': 211, 'strokeStyle': 211, 'timeline': 211, 'textBaseline': 211, 'lineJoin': 211, 'Touch': 211, 'requestAnimationFrame': 211, 'quadraticCurveTo': 211, 'alphabetic': 211, 'setTransform': 211, 'drawImage': 211, 'addColorStop': 211, 'pointerId': 211, 'skewX': 211, 'globalCompositeOperation': 211, 'strokeText': 211, 'createRadialGradient': 211, 'shadowBlur': 211, 'fillStyle': 211, 'moveTo': 211, 'advance': 211, 'getImageData': 211, 'lineCap': 211, 'beginPath': 211, 'shadowColor': 211, 'getBounds': 211, 'createLinearGradient': 211, 'identifier': 211, 'skewY': 211, 'arcTo': 211, 'clearRect': 211, 'bezierCurveTo': 211, 'frequency': 211, 'miterLimit': 211, 'globalAlpha': 211, 'butt': 211, 'shadowOffsetX': 211, 'getAnimations': 211, 'bounds': 211, 'changedTouches': 211, 'core': 210, 'geolocation': 209, 'download': 209, 'lineNumber': 206, 'fileName': 206, 'record': 206, 'sub': 206, 'runtimeStyle': 206, 'clientId': 205, 'basic': 205, 'other': 204, 'clipboard': 203, 'aborted': 202, 'onmouseup': 202, 'multiply': 202, 'tabs': 202, 'embeds': 202, 'execCommand': 202, 'statusbar': 202, 'compact': 202, 'com': 201, 'coords': 201, 'home': 201, 'toggle': 200, 'ratio': 200, 'sx': 198, 'abort': 198, 'latency': 198, 'containerId': 197, 'only': 197, 'password': 197, 'scrollTo': 196, 'sender': 195, 'values': 193, 'responseText': 192, 'appCodeName': 192, 'gl': 192, 'component': 192, 'connection': 191, 'country': 191, 'confirm': 191, 'drop': 190, 'equals': 190, 'secureConnectionStart': 189, 'rp': 188, 'getParent': 188, 'TypeError': 187, 'httpEquiv': 184, 'focusout': 184, 'w3': 184, 'txt': 184, 'focusin': 183, 'onclose': 182, 'domContentLoadedEventStart': 182, 'domInteractive': 182, 'Promise': 181, 'variant': 181, 'force': 181, 'summary': 180, 'subscribe': 180, 'beta': 179, 'pixels': 177, 'slide': 176, 'currency': 175, 'suffix': 175, 'float': 174, 'role': 172, 'radio': 171, 'oscpu': 170, 'if': 170, 'createEvent': 169, 'dispatchEvent': 169, 'delayTime': 168, 'ii': 168, 'visibilitychange': 168, 'visibilityState': 168, 'entries': 167, 'mediaType': 166, 'loadEventEnd': 165, 'domLoading': 165, 'domComplete': 165, 'valign': 164, 'maxLength': 164, 'rowSpan': 164, 'cellSpacing': 164, 'cellPadding': 164, 'usemap': 164, 'colspan': 164, 'dataset': 164, 'vAlign': 164, 'rowspan': 164, 'maxlength': 164, 'colSpan': 164, 'transaction': 164, 'sandbox': 163, 'username': 163, 'getKey': 162, 'getParameter': 161, 'fullPath': 161, 'lower': 161, 'observe': 161, 'sample': 161, 'dir': 159, 'transport': 158, 'recipient': 157, 'attributeName': 156, 'DOMAttrModified': 156, 'lines': 156, 'city': 156, 'createDocumentFragment': 156, 'copy': 156, 'usage': 156, 'sampleRate': 156, 'getAll': 156, 'tcp': 156, 'receiver': 155, 'follow': 154, 'displayName': 154, 'replaceWith': 154, 'network': 153, 'defaultPrevented': 153, 'selectedIndex': 153, 'scrollX': 153, 'handle': 151, 'isEnabled': 151, 'channels': 150, 'fallback': 149, 'createComment': 149, 'caller': 147, 'showModal': 147, 'onmouseenter': 147, 'onopen': 147, 'rootNode': 146, 'sheet': 145, 'globalStorage': 145, 'application': 144, 'effect': 144, 'setStyles': 144, 'clipboardData': 143, 'clearData': 143, 'longitude': 142, 'latitude': 142, 'installed': 142, 'sessionId': 141, 'unique': 141, 'accessKey': 141, 'new': 141, 'notifications': 141, 'getUserData': 141, 'loginUrl': 141, 'weight': 140, 'declare': 140, 'slot': 140, 'endpoint': 140, 'preload': 139, 'removeRule': 139, 'exit': 139, 'inputs': 139, 'profile': 139, 'specified': 139, 'sse': 138, 'fonts': 138, 'addElement': 137, 'upgrade': 137, 'statusText': 137, 'truncate': 137, 'unregister': 137, 'bgColor': 136, 'dom': 136, 'taskList': 136, 'getElementsByTagNameNS': 136, 'naturalHeight': 136, 'naturalWidth': 136, 'hint': 135, 'verify': 135, 'resource': 134, 'device': 134, 'onhashchange': 134, 'opened': 132, 'marginWidth': 131, 'marginHeight': 131, 'autocomplete': 130, 'sendBeacon': 129, 'redirectStart': 129, 'redirectEnd': 129, 'cssRules': 127, 'caption': 126, 'TrackEvent': 126, 'scrollMaxX': 126, 'Name': 125, 'inactive': 125, 'getName': 125, 'watch': 125, 'badge': 125, 'scrollIntoView': 125, 'NULL': 125, 'Animation': 124, 'insertRule': 124, 'deg': 124, 'transition': 124, 'picture': 123, 'KeyboardEvent': 123, 'passive': 123, 'onpopstate': 122, 'Worker': 122, 'WebSocket': 122, 'WebGLRenderingContext': 122, 'audio': 122, 'pushState': 122, 'suffixes': 122, 'targetElement': 122, 'repeat': 122, 'continue': 121, 'kind': 118, 'magnify': 118, 'scriptNode': 118, 'orientationchange': 118, 'onorientationchange': 118, 'getQueryParameter': 118, 'disposition': 118, 'ANY_TYPE': 118, 'multiple': 118, 'XPathResult': 118, 'fgColor': 117, 'initEvent': 117, 'linkColor': 117, 'hashchange': 116, 'control': 116, 'read': 112, 'resume': 111, 'getState': 111, 'when': 111, 'playing': 111, 'connect': 110, 'messageType': 109, 'authentication': 109, 'navigate': 109, 'sign': 108, 'level': 108, 'NONE': 107, 'formAction': 106, 'contextmenu': 105, 'has': 104, 'NUMBER': 104, 'inputEncoding': 102, 'org': 101, 'attribution': 100, 'devicePixelRatio': 100, 'presentation': 100, 'dst': 100, 'onsubmit': 100, 'HTMLAudioElement': 99, 'HTMLVideoElement': 99, 'salt': 99, 'store': 98, 'bubbles': 98, 'initMouseEvent': 98, 'cancelable': 98, 'double': 98, 'system': 98, 'install': 98, 'phone': 97, 'variable': 97, 'amex': 97, 'rid': 96, 'sizes': 96, 'hasFeature': 95, 'transitionend': 95, 'explicit': 94, 'vendorSub': 93, 'productSub': 93, 'mimeType': 93, 'baseURI': 93, 'normalize': 93, 'resizeTo': 93, 'persisted': 92, 'propertyName': 92, 'onstorage': 92, 'deleted': 92, 'Storage': 92, 'pageshow': 92, 'metadata': 91, 'classList': 89, 'sendMessage': 88, 'fy': 87, 'setStartBefore': 87, 'selectorText': 87, 'onbeforeprint': 87, 'onafterprint': 87, 'option': 86, 'ltr': 86, 'duplicate': 86, 'rate': 85, 'Iterator': 85, 'wifi': 85, 'trackId': 84, 'setParameter': 84, 'listener': 82, 'addModule': 82, 'fullpath': 80, 'isCollapsed': 79, 'rangeCount': 79, 'focusNode': 79, 'focused': 79, 'onactivate': 79, 'getRangeAt': 79, 'selectionEnd': 79, 'addRange': 79, 'selectionStart': 79, 'removeAllRanges': 79, 'cloneRange': 79, 'row': 79, 'hh': 79, 'unsubscribe': 76, 'uninitialized': 76, 'finished': 76, 'xpi': 76, 'lastModified': 76, 'volume': 75, 'voice': 75, 'domContentLoadedEventEnd': 72, 'unloadEventStart': 72, 'unloadEventEnd': 72, 'measure': 72, 'monitor': 72, '__count__': 68, 'put': 67, 'Option': 66, 'languages': 65, 'onshow': 65, 'transactionId': 64, 'TIMEOUT': 63, 'ontimeout': 63, 'startup': 63, 'systemID': 63, 'registration': 63, 'toolbar': 61, 'PREV': 60, 'NEXT': 60, 'collapsed': 60, 'designMode': 60, 'tabIndex': 60, 'contentEditable': 60, 'CSS': 60, 'overrideMimeType': 58, 'online': 56, 'observer': 54, 'tel': 51, 'as': 51, 'mm': 51, 'requestPointerLock': 50, 'minLength': 50, 'lock': 50, 'productId': 46, 'disconnect': 46, 'hasChildNodes': 46, 'extensions': 42, 'IN': 42, 'mapping': 42, 'pname': 42, 'captureEvents': 40, 'currentTime': 34, 'wheelDeltaY': 33, 'wheelDeltaX': 33, 'HORIZONTAL_AXIS': 33, 'hasAttribute': 31, 'currentScript': 30, 'forward': 19}\n"
     ]
    }
   ],
   "source": [
    "degree_freq = {}\n",
    "for nod in G.nodes:\n",
    "    degree_freq[nod] = G.nodes[nod]['deg']\n",
    "sorted_degree = dict(sorted(degree_freq.items(), key=lambda item: item[1], reverse=True))\n",
    "print(sorted_degree)"
   ]
  },
  {
   "cell_type": "code",
   "execution_count": 18,
   "id": "recorded-equilibrium",
   "metadata": {
    "pycharm": {
     "name": "#%%\n"
    }
   },
   "outputs": [],
   "source": [
    "# sort nodes based on weight"
   ]
  },
  {
   "cell_type": "code",
   "execution_count": 19,
   "id": "abroad-cleaners",
   "metadata": {
    "pycharm": {
     "name": "#%%\n"
    }
   },
   "outputs": [
    {
     "name": "stdout",
     "output_type": "stream",
     "text": [
      "{'document': 65.77517564402748, 'var': 65.76639344262233, 'window': 65.76639344262233, 'name': 65.71604215456613, 'location': 65.49707259953092, 'frames': 65.4467213114747, 'opener': 65.4467213114747, 'parent': 65.4467213114747, 'self': 65.44672131147469, 'top': 65.44672131147469, 'length': 62.84894613583095, 'src': 60.459601873535895, 'createElement': 58.07318501170917, 'null': 57.096018735362556, 'navigator': 55.61358313817291, 'init': 55.091334894613084, 'getElementsByTagName': 53.38407494145174, 'Date': 52.911007025760746, 'push': 50.70374707259914, 'join': 49.861826697891935, 'type': 49.76814988290363, 'appendChild': 46.56264637002321, 'parentNode': 45.926229508196556, 'width': 45.727166276346296, 'true': 45.61826697892238, 'height': 45.29918032786858, 'Math': 44.73653395784512, 'href': 43.745901639343955, 'addEventListener': 43.439110070257186, 'undefined': 43.432669789226914, 'attachEvent': 43.0503512880559, 'onload': 42.92857142857107, 'replace': 42.81615925058528, 'getTime': 42.42330210772806, 'prototype': 42.29683840749381, 'toString': 41.66627634660394, 'style': 40.80386416861797, 'false': 40.73946135831342, 'setTimeout': 40.08255269320817, 'id': 39.92213114754068, 'userAgent': 39.638173302107546, 'match': 39.1791569086649, 'body': 38.843091334894254, 'load': 36.62060889929724, 'call': 36.218384074941135, 'random': 36.00468384074919, 'referrer': 35.71077283372344, 'string': 35.140515222482094, 'getElementById': 34.879391100702385, 'protocol': 34.82845433255253, 'arguments': 34.40281030444937, 'readyState': 33.03629976580781, 'none': 32.7898126463698, 'on': 32.74180327868851, 'insertBefore': 32.26170960187355, 'object': 32.00878220140508, 'documentElement': 30.970725995316084, 'slice': 29.862412177985806, 'url': 29.806206088992973, 'function': 29.71311475409824, 'innerHTML': 29.100117096018685, 'Image': 28.639344262294927, 'apply': 28.45491803278668, 'value': 28.196135831381707, 'setAttribute': 28.006440281030468, 'complete': 27.974824355971727, 'head': 27.62119437939098, 'Array': 27.55737704918022, 'detachEvent': 26.45140515222474, 'cookie': 26.0046838407493, 'left': 25.573185011709423, 'removeEventListener': 25.556206088992713, 'display': 25.431498829039782, 'async': 25.344847775175616, 'target': 25.27751756440262, 'hasOwnProperty': 25.072599531615914, 'className': 24.98946135831379, 'domain': 24.738290398126427, 'getAttribute': 24.635245901639234, 'number': 24.22950819672122, 'event': 24.166861826697705, 'write': 24.042740046838297, 'onreadystatechange': 24.03395784543316, 'hidden': 23.850702576112255, 'screen': 23.799180327868818, 'version': 23.34309133489456, 'click': 22.297423887587737, 'search': 22.22131147540976, 'removeChild': 22.092505854800766, 'title': 21.73185011709597, 'position': 21.648126463700102, 'hostname': 21.525761124121686, 'img': 20.820257611241043, 'cssText': 20.622950819672162, 'loaded': 20.487704918032716, 'Object': 20.367096018735328, 'String': 19.93149882903964, 'void': 19.865925058547983, 'iframe': 19.65456674473061, 'host': 18.758196721311375, 'charset': 18.590163934426148, 'nodeName': 18.5409836065573, 'html': 18.503512880561985, 'log': 18.43676814988284, 'delete': 18.110655737704725, 'data': 17.790983606557212, 'firstChild': 17.72131147540973, 'px': 17.597189695550174, 'escape': 17.292154566744635, 'childNodes': 17.268149882903902, 'open': 16.956088992974138, 'console': 16.372950819671967, 'language': 16.23653395784539, 'onerror': 16.069672131147456, 'instanceof': 16.00468384074937, 'max': 15.883489461358181, 'clientHeight': 15.755269320843, 'text': 15.553278688524497, 'DOMContentLoaded': 15.548009367681418, 'round': 15.542740046838269, 'message': 15.531030444964848, 'absolute': 15.461943793910901, 'tagName': 15.334894613583039, 'clearTimeout': 15.282786885245761, 'add': 15.277517564402713, 'in': 15.029859484777404, 'link': 15.009367681498727, 'srcElement': 14.904566744730575, 'http': 14.869437939109972, 'nodeType': 14.836065573770364, 'splice': 14.459601873536162, 'platform': 14.324355971896901, 'callback': 14.284543325526839, 'border': 14.282201405152117, 'description': 14.256440281030375, 'start': 14.252341920374597, 'plugins': 14.028103044496412, 'clientWidth': 13.964285714285623, 'setInterval': 13.665105386416748, 'show': 13.56030444964858, 'onclick': 13.553278688524465, 'createTextNode': 13.472482435597048, 'rel': 13.412763466042081, 'offsetWidth': 13.400468384074792, 'offsetTop': 13.399297423887448, 'ActiveXObject': 13.276932084309038, 'get': 13.096604215456534, 'scroll': 13.06088992974229, 'clearInterval': 12.94789227166262, 'key': 12.903395784543179, 'appName': 12.690281030444886, 'offsetLeft': 12.591334894613471, 'now': 12.55620608899283, 'innerText': 12.39227166276341, 'filter': 12.340749414519788, 'right': 12.275761124121662, 'stopPropagation': 12.245901639344156, 'input': 12.145199063231738, 'offsetHeight': 12.12470725995302, 'auto': 11.952576112412041, 'hash': 11.942037470725921, 'textContent': 11.540398126463664, 'contentWindow': 11.42037470725988, 'min': 11.413934426229396, 'scrollTop': 11.413348946135748, 'count': 11.31733021077273, 'browser': 11.278688524590097, 'item': 11.240046838407327, 'set': 11.093676814988173, 'visible': 11.077283372365217, 'element': 10.860655737704798, 'sort': 10.806791569086528, 'content': 10.749414519906226, 'nodeValue': 10.725995316159164, 'frameElement': 10.556791569086576, 'close': 10.348360655737544, 'css': 10.255854800936682, 'class': 10.20843091334884, 'margin': 9.9959016393441, 'color': 9.961358313817216, 'bottom': 9.923887587821895, 'compatMode': 9.874707259953112, 'getComputedStyle': 9.807962529273924, 'colorDepth': 9.805035128805569, 'preventDefault': 9.674473067915589, 'parse': 9.647540983606547, 'options': 9.527517564402707, 'onabort': 9.446135831381675, 'getElementsByClassName': 9.436182669789181, 'remove': 9.388173302107619, 'ready': 9.361241217798556, 'action': 9.229508196721271, 'offsetParent': 9.105386416861787, 'overflow': 9.078454332552598, 'submit': 8.999999999999945, 'span': 8.960772833723581, 'cancelBubble': 8.889344262295003, 'error': 8.868852459016301, 'query': 8.790398126463675, 'all': 8.771077283372373, 'addEvent': 8.750585480093584, 'attr': 8.745316159250528, 'index': 8.6879391100702, 'center': 8.504098360655718, 'loading': 8.468969555035088, 'image': 8.380562060889902, 'charCodeAt': 8.348946135831332, 'innerHeight': 8.324355971896921, 'always': 8.313231850117027, 'pathname': 8.293325526932046, 'systemLanguage': 8.246487119437932, 'webkit': 8.233021077283329, 'scrolling': 8.231850117096004, 'nextSibling': 8.228922716627642, 'resize': 8.207845433255264, 'focus': 8.183255269320867, 'mousedown': 8.182084309133502, 'flash': 8.131147540983559, 'textAlign': 8.096604215456672, 'bind': 8.08548009367681, 'getPropertyValue': 7.936182669789245, 'db': 7.871779859484786, 'constructor': 7.864754098360654, 'frameBorder': 7.8507025761124405, 'create': 7.76697892271663, 'append': 7.762295081967227, 'animate': 7.744730679156911, 'styleSheet': 7.709601873536329, 'events': 7.6516393442623, 'returnValue': 7.605971896955521, 'javaEnabled': 7.548009367681514, '_blank': 7.51229508196722, 'innerWidth': 7.474238875878255, 'previousSibling': 7.396955503512879, 'mimeTypes': 7.365339578454349, 'prop': 7.298594847775185, 'debug': 7.295081967213099, 'product': 7.267564402810316, 'scrollLeft': 7.250000000000054, 'pageYOffset': 7.245316159250617, 'currentStyle': 7.1973067915691225, 'history': 7.183255269320853, 'enabled': 7.1241217798595065, 'extend': 7.060304449648734, 'info': 7.046838407494154, 'lang': 7.036885245901659, 'update': 7.0281030444965165, 'offset': 6.968384074941479, 'align': 6.938524590163941, '\\\\n': 6.924473067915681, 'size': 6.872365339578472, 'node': 6.871194379391117, 'pt': 6.769906323185029, 'group': 6.711358313817328, 'track': 6.693793911007043, 'browserLanguage': 6.6621779859484835, 'end': 6.574941451990641, 'source': 6.461358313817345, 'mouseover': 6.436182669789239, 'checked': 6.3946135831381845, 'button': 6.385245901639365, 'vb': 6.365339578454337, 'mouseout': 6.3647540983606685, 'mousemove': 6.361241217798625, 'stop': 6.329625292740069, 'tracker': 6.32903981264639, 'attributes': 6.313817330210788, 'lineNumber': 6.264637002341938, 'fileName': 6.264637002341938, 'blur': 6.257611241217837, 'clientX': 6.23067915690869, 'URL': 6.193793911007053, 'alert': 6.1680327868852345, 'normal': 6.138173302107727, 'pc': 6.076697892271684, 'background': 6.02985948477754, 'Function': 6.005269320843089, 'lastChild': 5.967213114754106, 'tag': 5.833138173302095, 'success': 5.832552693208439, 'JSON': 5.816159250585486, 'mozilla': 5.7728337236533935, 'prefix': 5.7728337236533775, 'postMessage': 5.7535128805620745, 'mouseup': 5.738290398126491, 'characterSet': 5.6914519906323395, 'beforeunload': 5.624121779859483, 'label': 5.602459016393478, 'pageX': 5.598946135831408, 'pageY': 5.598946135831408, 'appVersion': 5.588992974238907, 'online': 5.560304449648706, 'move': 5.506440281030445, 'relatedTarget': 5.491217798594854, 'state': 5.480093676814993, 'reset': 5.427985948477736, 'selected': 5.424473067915686, 'refresh': 5.421545667447321, 'from': 5.420374707259965, 'touchstart': 5.405152224824378, 'defaultView': 5.371779859484802, 'transform': 5.364754098360676, 'Gecko': 5.337236533957849, 'boolean': 5.319672131147567, 'timeout': 5.308548009367689, 'external': 5.306791569086648, 'checkbox': 5.299765807962528, 'getBoundingClientRect': 5.225409836065594, 'empty': 5.2201405152225036, 'canvas': 5.213700234192054, 'clip': 5.1709601873536535, 'array': 5.072599531615949, 'cookieEnabled': 5.056206088992976, 'cloneNode': 5.0409836065574005, 'bgcolor': 5.022833723653411, 'root': 5.01580796252929, 'XMLHttpRequest': 4.968384074941476, 'down': 4.959601873536291, 'origin': 4.918032786885271, 'Event': 4.877634660421551, 'scope': 4.850702576112429, 'expires': 4.838992974238891, 'cache': 4.794496487119446, 'port': 4.789812646370035, 'onmouseover': 4.788641686182679, 'getContext': 4.781615925058552, 'client': 4.77576112412179, 'zoom': 4.766978922716623, 'pageXOffset': 4.741217798594875, 'onfocus': 4.693793911007065, 'querySelector': 4.620023419203766, 'onblur': 4.609484777517596, 'ic': 4.6088992974238705, 'up': 4.569086651053847, 'cursor': 4.548009367681516, 'setData': 4.5345433255269265, 'duration': 4.532201405152243, 'active': 4.4923887587822176, 'request': 4.482435597189695, 'alt': 4.474238875878237, 'default': 4.465456674473071, 'scrollHeight': 4.4484777517564575, 'form': 4.437939110070269, 'onmouseout': 4.392271662763473, 'select': 4.3548009367681555, 'find': 4.278688524590176, 'namespaceURI': 4.264051522248238, 'matches': 4.161592505854813, 'metaKey': 4.142271662763472, 'base': 4.138758782201422, 'step': 4.128805620608907, 'ms': 4.116510538641681, 'ctrlKey': 4.065573770491809, 'td': 4.050351288056197, 'reverse': 4.039227166276336, 'enabledPlugin': 4.028688524590171, 'shiftKey': 4.017564402810308, 'frame': 4.0093676814988495, 'unload': 3.984777517564419, 'Mozilla': 3.967798594847781, 'total': 3.9648711943793797, 'removeAttribute': 3.9379391100702588, 'embed': 3.9355971896955517, 'process': 3.9033957845433203, 'behavior': 3.89344262295082, 'querySelectorAll': 3.890515222482444, 'time': 3.8823185011709636, 'onmousedown': 3.8741217798594745, 'initialize': 3.860070257611261, 'easing': 3.8290398126463745, 'middle': 3.788056206088987, 'disabled': 3.7833723653395674, 'warn': 3.7786885245901702, 'cy': 3.751170960187345, 'layout': 3.713700234192034, 'POST': 3.692622950819676, 'prerender': 3.6908665105386578, 'started': 3.647540983606561, 'touchend': 3.611241217798603, 'fireEvent': 3.581967213114757, 'clientY': 3.571428571428572, 'writeln': 3.5661592505854904, 'high': 3.554449648711943, 'keys': 3.5503512880562176, 'fill': 3.516393442622958, 'rotation': 3.5140515222482502, 'propertyIsEnumerable': 3.50292740046839, 'createElementNS': 3.494145199063233, 'stroke': 3.4449648711943843, 'replaceChild': 3.443208430913347, 'handler': 3.432084309133491, 'method': 3.40515222482435, 'filters': 3.364754098360668, 'threshold': 3.363583138173302, 'result': 3.3524590163934422, 'mouseenter': 3.351288056206091, 'sidebar': 3.349531615925067, 'performance': 3.338992974238882, 'contains': 3.333138173302116, 'children': 3.3243559718969724, 'interval': 3.307377049180331, 'mouseleave': 3.2892271662763477, 'getBoxObjectFor': 3.2745901639344264, 'touches': 3.271662763466044, 'done': 3.259367681498831, 'radius': 3.2459016393442597, 'pattern': 3.233021077283348, 'items': 3.2271662763466047, 'ontouchstart': 3.2207259953161667, 'Element': 3.2142857142857126, 'format': 3.2142857142857095, 'cx': 3.2055035128805645, 'urls': 3.2019906323185023, 'animation': 3.19789227166276, 'NaN': 3.1967213114754096, 'encode': 3.1937939110070226, 'low': 3.189110070257609, 'line': 3.1844262295081993, 'timing': 3.1580796252927437, 'square': 3.155152224824365, 'offsetX': 3.1533957845433327, 'offsetY': 3.1533957845433327, 'translate': 3.152810304449655, 'onmousemove': 3.13758782201405, 'exception': 3.122950819672133, 'elements': 3.1176814988290453, 'dx': 3.115925058548012, 'dy': 3.115925058548012, 'email': 3.1129976580796166, 'percent': 3.0971896955503535, 'currentTarget': 3.0796252927400567, 'Point': 3.0708430913349005, 'lineWidth': 3.0708430913349005, 'arc': 3.0708430913349005, 'rect': 3.0708430913349005, 'outerHTML': 3.0626463700234168, 'layerX': 3.052693208430897, 'layerY': 3.052693208430897, 'current': 3.0351288056206025, 'status': 3.0163934426229617, 'go': 3.015222482435599, 'axis': 3.012295081967213, 'json': 3.0046838407494225, 'first': 3.0029274004683746, 'shape': 2.9994145199063245, 'pan': 2.9865339578454266, 'localStorage': 2.975409836065572, 'ontouchmove': 2.9736533957845426, 'ontouchend': 2.9736533957845426, 'mark': 2.9584309133489493, 'results': 2.943793911007032, 'context': 2.9420374707260013, 'services': 2.93266978922716, 'range': 2.9162763466042168, 'linear': 2.896955503512882, 'labels': 2.8951990632318534, 'bevel': 2.884660421545668, 'send': 2.8817330210772716, 'register': 2.8782201405152197, 'removeItem': 2.855386416861823, 'x2': 2.823770491803279, 'rx': 2.823770491803279, 'reversed': 2.823770491803279, 'nowrap': 2.823770491803279, 'datetime': 2.823770491803279, 'symbols': 2.823770491803279, 'userSpaceOnUse': 2.823770491803279, 'grep': 2.823770491803279, 'setAttributeNS': 2.823770491803279, 'autoIncrement': 2.823770491803279, 'points': 2.823770491803279, 'brightness': 2.823770491803279, 'ry': 2.823770491803279, 'createSVGRect': 2.823770491803279, 'defaultChecked': 2.823770491803279, 'Position': 2.823770491803279, 'fx': 2.823770491803279, 'point': 2.823770491803279, 'tooltip': 2.823770491803279, 'getBBox': 2.823770491803279, 'sorted': 2.823770491803279, 'preserveAspectRatio': 2.823770491803279, 'gradientUnits': 2.823770491803279, 'setScale': 2.823770491803279, 'rtl': 2.823770491803279, 'for': 2.823185011709614, 'save': 2.8167447306791593, 'navigation': 2.8091334894613476, 'Infinity': 2.797423887587823, 'ss': 2.78864168618267, 'htmlFor': 2.761124121779868, 'redirect': 2.734192037470727, 'connectStart': 2.697892271662766, 'code': 2.6779859484777573, 'evaluate': 2.6276346604215277, 'screenY': 2.621779859484781, 'screenX': 2.621779859484781, 'userLanguage': 2.621779859484778, 'video': 2.607728337236526, 'createRange': 2.6036299765807907, 'implementation': 2.6001170960187356, 'view': 2.5843091334894672, 'DOMNodeInserted': 2.5620608899297435, 'DOMNodeRemoved': 2.5620608899297435, 'forEach': 2.5234192037470735, 'finish': 2.5163934426229586, 'only': 2.5029274004683826, 'connectEnd': 2.495316159250586, 'navigationStart': 2.495316159250586, 'responseStart': 2.495316159250586, 'domainLookupEnd': 2.495316159250586, 'domainLookupStart': 2.495316159250586, 'user': 2.468384074941446, 'alpha': 2.4666276346604343, 'pixelDepth': 2.457845433255261, 'inactive': 2.449648711943793, 'getName': 2.449648711943793, 'watch': 2.449648711943793, 'onmessage': 2.449063231850118, 'responseEnd': 2.435597189695549, 'fetchStart': 2.435597189695549, 'loadEventStart': 2.435597189695549, 'requestStart': 2.4355971896955486, 'moz': 2.433840749414518, 'scrollWidth': 2.429742388758782, 'radio': 2.3817330210772827, 'buttons': 2.3817330210772663, 'sessionStorage': 2.3612412177985806, 'placeholder': 2.3583138173302083, 'login': 2.3518735362997636, 'addRule': 2.3313817330210744, 'axes': 2.3255269320843066, 'screenTop': 2.323185011709602, 'screenLeft': 2.3231850117096013, 'attributeName': 2.311475409836063, 'DOMAttrModified': 2.311475409836063, 'out': 2.2500000000000013, 'contextmenu': 2.2441451990632353, 'wrap': 2.240046838407487, 'keyCode': 2.2394613583138128, 'mode': 2.2371194379391124, 'aborted': 2.1990632318501193, 'before': 2.18325526932084, 'utils': 2.1721311475409837, 'fr': 2.160421545667437, 'Netscape': 2.1475409836065507, 'getKey': 2.1393442622950825, 'getItem': 2.123536299765807, 'setItem': 2.123536299765807, 'custom': 2.122365339578446, 'direction': 2.1159250585480125, 'which': 2.105971896955499, 'onbeforeunload': 2.104215456674478, 'icon': 2.1024590163934365, 'static': 2.0936768149882834, 'Transition': 2.078454332552676, 'clientLeft': 2.0755269320843044, 'clientTop': 2.0755269320843044, 'mousewheel': 2.0667447306791544, 'DOMMouseScroll': 2.0667447306791544, 'clear': 2.049180327868838, 'collapse': 2.044496487119435, 'ownerDocument': 2.026932084309124, 'previous': 2.02224824355972, 'ch': 1.9912177985948376, 'change': 1.9689695550351107, 'list': 1.9637002341920313, 'file': 1.962529274004678, 'over': 1.9578454332552602, 'Boolean': 1.9367681498828884, 'keyup': 1.926229508196717, 'XDomainRequest': 1.9156908665105419, 'sync': 1.896370023419207, 'country': 1.8846604215456675, 'delay': 1.8793911007025688, 'taintEnabled': 1.8483606557376981, 'startTime': 1.8430913348946067, 'scrollY': 1.8179156908665073, 'inherit': 1.7997658079625174, 'dump': 1.793911007025752, 'detach': 1.793911007025752, 'actions': 1.793911007025752, 'gap': 1.793911007025752, 'isSameNode': 1.793911007025752, 'MS': 1.793911007025752, 'progress': 1.793911007025752, 'insertNode': 1.793911007025752, 'setStart': 1.793911007025752, 'bound': 1.793911007025752, 'activate': 1.793911007025752, 'onstop': 1.793911007025752, 'HTMLCanvasElement': 1.786299765807949, 'unknown': 1.784543325526925, 'outerHeight': 1.7822014051522135, 'outerWidth': 1.76814988290397, 'response': 1.758782201405151, 'valueOf': 1.7587822014051415, 'contentDocument': 1.6943793911006924, 'setRequestHeader': 1.6492974238875908, 'onkeyup': 1.6276346604215342, 'print': 1.6252927400468362, 'styleSheets': 1.5649882903981205, 'beta': 1.5638173302107687, 'images': 1.5597189695550124, 'timestamp': 1.5562060889929648, 'th': 1.5515222482435507, 'availWidth': 1.5485948477751752, 'availHeight': 1.5485948477751752, 'share': 1.5415690866510467, 'next': 1.5269320843091203, 'links': 1.5169789227166195, 'properties': 1.5046838407494068, 'onchange': 1.5035128805620497, 'clipboard': 1.4964871194379372, 'entries': 1.4625292740046816, 'cm': 1.4578454332552657, 'GET': 1.4443793911006952, 'media': 1.42564402810304, 'counter': 1.418618266978915, 'yes': 1.3940281030444959, 'withCredentials': 1.389929742388757, 'popup': 1.3799765807962396, 'addListener': 1.3764637002341766, 'getElementsByName': 1.3752927400468327, 'req': 1.3706088992974175, 'sub': 1.360070257611236, 'touchmove': 1.3559718969554906, 'getNamedItem': 1.347189695550343, 'vendor': 1.3454332552693151, 'defer': 1.3448477751756402, 'readystatechange': 1.336065573770489, 'geolocation': 1.3220140515222485, 'appCodeName': 1.3179156908665082, 'summary': 1.3138173302107696, 'check': 1.3015222482435556, 'float': 1.286885245901636, 'trace': 1.2862997658079593, 'filename': 1.2687353629976559, 'containerId': 1.2540983606557352, 'onscroll': 1.2435597189695453, 'hspace': 1.2406323185011667, 'vspace': 1.2406323185011667, 'sum': 1.235362997658074, 'after': 1.213114754098359, 'rate': 1.1978922716627634, 'double': 1.1967213114754096, 'service': 1.1967213114754016, 'closed': 1.1949648711943732, 'keypress': 1.1926229508196668, 'allowFullScreen': 1.1774004683840726, 'font': 1.1703747072599393, 'flags': 1.1668618266978885, 'token': 1.1627634660421498, 'detail': 1.1586651053864114, 'scheme': 1.1563231850117053, 'canPlayType': 1.1551522248243529, 'uri': 1.147540983606552, 'types': 1.1405152224824313, 'off': 1.135245901639337, 'vertical': 1.116510538641679, 'menu': 1.1100702576112396, 'altKey': 1.1100702576112378, 'Navigator': 1.1088992974238856, 'targetTouches': 1.103629976580793, 'weight': 1.1018735362997627, 'core': 1.0977751756440246, 'SyntaxError': 1.0790398126463678, 'drop': 1.0749414519906286, 'getData': 1.0655737704917991, 'scrollTo': 1.055620608899294, 'region': 1.0333723653395759, 'both': 1.0286885245901616, 'require': 1.0122950819672067, 'parentElement': 0.9982435597189624, 'speed': 0.9964871194379343, 'basic': 0.9941451990632271, 'orientation': 0.9900468384074946, 'other': 0.9824355971896914, 'Node': 0.9765807962529243, 'encoding': 0.9765807962529223, 'focusout': 0.9654566744730665, 'textarea': 0.9625292740046801, 'ping': 0.9596018735362973, 'words': 0.9572599531615875, 'scripts': 0.953747072599526, 'city': 0.9502341920374681, 'gl': 0.9490632318501132, 'table': 0.9437939110070219, 'doNotTrack': 0.9414519906323159, 'locale': 0.9396955503512863, 'clone': 0.9385245901639284, 'follow': 0.9233021077283339, 'hasFocus': 0.9227166276346535, 'local': 0.9192037470725971, 'reload': 0.9110070257611202, 'TIMEOUT': 0.9098360655737696, 'ontimeout': 0.9098360655737696, 'keydown': 0.9069086651053784, 'badge': 0.9033957845433237, 'onkeydown': 0.8951990632318484, 'onunload': 0.8946135831381672, 'removeListener': 0.8682669789227139, 'decode': 0.8612412177985932, 'createEvent': 0.859484777517565, 'dispatchEvent': 0.859484777517565, 'longitude': 0.8507025761124098, 'latitude': 0.8507025761124098, 'contentType': 0.8501170960187325, 'identity': 0.8442622950819668, 'release': 0.8430913348946083, 'transition': 0.8407494145199044, 'iterateNext': 0.8337236533957827, 'ip': 0.8313817330210698, 'toJSON': 0.8266978922716587, 'connection': 0.8214285714285701, 'ctx': 0.820843091334892, 'channels': 0.8190866510538645, 'order': 0.8173302107728291, 'confirm': 0.8144028103044458, 'loop': 0.8144028103044433, 'sx': 0.8091334894613561, 'hasFeature': 0.806206088992973, 'transitionend': 0.806206088992973, 'scale': 0.803864168618262, 'focusin': 0.7985948477751762, 'MouseEvent': 0.7968384074941458, 'parameters': 0.7933255269320814, 'rules': 0.793325526932079, 'viewport': 0.7862997658079575, 'remote': 0.7786885245901602, 'insertAdjacentHTML': 0.7775175644028046, 'isEnabled': 0.7681498829039782, 'getParameter': 0.7535128805620604, 'currency': 0.7523419203747063, 'has': 0.7511709601873524, 'NUMBER': 0.7511709601873524, 'slide': 0.7488290398126467, 'define': 0.7488290398126427, 'blocked': 0.7423887587822019, 'mediaType': 0.7412177985948483, 'compact': 0.7201405152224819, 'Text': 0.7195550351288049, 'channel': 0.7119437939110059, 'dir': 0.7072599531615902, 'bgColor': 0.6967213114754104, 'ratio': 0.6902810304449651, 'selectedIndex': 0.6838407494145197, 'caller': 0.6832552693208429, 'password': 0.6727166276346589, 'createDocumentFragment': 0.6680327868852444, 'suffix': 0.6627634660421552, 'receiver': 0.6627634660421525, 'forms': 0.6604215456674446, 'toggle': 0.6574941451990622, 'flush': 0.65749414519906, 'fullscreen': 0.6528103044496488, 'nodes': 0.6498829039812628, 'network': 0.6492974238875884, 'specified': 0.6422716627634648, 'if': 0.6346604215456676, 'prompt': 0.6346604215456653, 'pause': 0.6317330210772798, 'getSelection': 0.6258782201405145, 'sessionId': 0.6229508196721315, 'dom': 0.6118266978922708, 'taskList': 0.6118266978922708, 'getElementsByTagNameNS': 0.6118266978922708, 'png': 0.6112412177985911, 'w3': 0.6088992974238863, 'oscpu': 0.6042154566744726, 'then': 0.6024590163934421, 'phone': 0.5936768149882902, 'variable': 0.5936768149882902, 'paused': 0.5913348946135837, 'scrollX': 0.5884074941451989, 'domContentLoadedEventStart': 0.5854800936768145, 'domInteractive': 0.5854800936768145, 'play': 0.5790398126463697, 'getParent': 0.5766978922716622, 'sheet': 0.5766978922716621, 'Name': 0.5755269320843088, 'hint': 0.574941451990631, 'fonts': 0.5626463700234184, 'rotate': 0.5573770491803284, 'cancel': 0.55679156908665, 'picture': 0.5497658079625297, 'KeyboardEvent': 0.5497658079625297, 'ltr': 0.5409836065573772, 'kind': 0.5403981264637006, 'magnify': 0.5403981264637006, 'scriptNode': 0.5403981264637006, 'classList': 0.5368852459016394, 'showModal': 0.5368852459016393, 'cssFloat': 0.5327868852459019, 'record': 0.5204918032786889, 'sse': 0.514051522248244, 'onresize': 0.5099531615925063, 'addModule': 0.5081967213114758, 'httpEquiv': 0.5011709601873541, 'allowfullscreen': 0.49824355971897005, 'download': 0.49648711943793955, 'prepend': 0.49238875878220184, 'autoplay': 0.48653395784543374, 'scrollMaxY': 0.47189695550351335, 'clientId': 0.4689695550351292, 'javascript': 0.46604215456674514, 'supported': 0.46370023419203793, 'enable': 0.45316159250585525, 'caption': 0.45140515222482475, 'TrackEvent': 0.45140515222482475, 'onmouseup': 0.44964871194379435, 'multiply': 0.44964871194379435, 'tabs': 0.44964871194379435, 'embeds': 0.44964871194379435, 'execCommand': 0.44964871194379435, 'statusbar': 0.44964871194379435, 'store': 0.44847775175644067, 'bubbles': 0.44847775175644067, 'initMouseEvent': 0.44847775175644067, 'cancelable': 0.44847775175644067, 'ii': 0.44847775175644067, 'onhashchange': 0.4461358313817334, 'messageType': 0.43735362997658117, 'authentication': 0.43735362997658117, 'navigate': 0.43735362997658117, 'sender': 0.42622950819672173, 'lines': 0.42213114754098396, 'recipient': 0.4162763466042158, 'onpopstate': 0.4151053864168622, 'fgColor': 0.41100702576112447, 'initEvent': 0.41100702576112447, 'linkColor': 0.41100702576112447, 'dblclick': 0.40866510538641726, 'disable': 0.40749414519906363, 'ext': 0.40339578454332586, 'redirectCount': 0.3992974238875882, 'Option': 0.39461358313817363, 'equals': 0.390515222482436, 'closest': 0.38992974238875916, 'subscribe': 0.3858313817330214, 'setPosition': 0.3834894613583142, 'rid': 0.3829039812646373, 'toDataURL': 0.3799765807962533, 'clipboardData': 0.3799765807962533, 'clearData': 0.3799765807962533, 'continue': 0.377634660421546, 'fullPath': 0.3770491803278692, 'lower': 0.3770491803278692, 'observe': 0.3770491803278692, 'sample': 0.3770491803278692, 'Animation': 0.3741217798594851, 'insertRule': 0.3741217798594851, 'deg': 0.3741217798594851, 'useMap': 0.3694379391100706, 'read': 0.3670960187353633, 'values': 0.36651053864168653, 'metadata': 0.36592505854800966, 'dataset': 0.3571428571428575, 'connect': 0.35480093676815017, 'cellpadding': 0.3542154566744734, 'cellspacing': 0.3542154566744734, 'fy': 0.3448477751756443, 'resume': 0.3442622950819675, 'getState': 0.3442622950819675, 'when': 0.3442622950819675, 'playing': 0.3442622950819675, 'handle': 0.34367681498829067, 'onMessage': 0.3348946135831385, 'control': 0.33021077283372396, 'preload': 0.3261124121779862, 'storage': 0.317330210772834, 'responseText': 0.3126463700234195, 'resource': 0.310889929742389, 'XMLSerializer': 0.3044496487119441, 'xml': 0.3044496487119441, 'DOMParser': 0.3044496487119441, 'parseFromString': 0.3044496487119441, 'serializeToString': 0.3044496487119441, 'role': 0.30327868852459045, 'controller': 0.3021077283372368, 'coords': 0.30035128805620637, 'inputEncoding': 0.2985948477751759, 'TypeError': 0.29859484777517586, 'extensions': 0.29391100702576123, 'IN': 0.29391100702576123, 'pagehide': 0.29274004683840776, 'delayTime': 0.2874707259953164, 'ty': 0.2862997658079628, 'mapping': 0.2857142857142858, 'valign': 0.28512880562060916, 'maxLength': 0.28512880562060916, 'rowSpan': 0.28512880562060916, 'cellSpacing': 0.28512880562060916, 'cellPadding': 0.28512880562060916, 'usemap': 0.28512880562060916, 'colspan': 0.28512880562060916, 'vAlign': 0.28512880562060916, 'rowspan': 0.28512880562060916, 'maxlength': 0.28512880562060916, 'colSpan': 0.28512880562060916, 'Worker': 0.28454332552693234, 'WebSocket': 0.28454332552693234, 'WebGLRenderingContext': 0.28454332552693234, 'audio': 0.28454332552693234, 'pushState': 0.28454332552693234, 'defaultValue': 0.28454332552693234, 'slot': 0.2827868852459019, 'drag': 0.2827868852459019, 'installed': 0.2786885245901642, 'username': 0.27751756440281056, 'wheelDelta': 0.27283372365339603, 'onmousewheel': 0.27283372365339603, 'unsubscribe': 0.27224824355971916, 'languages': 0.266393442622951, 'onshow': 0.266393442622951, 'isSupported': 0.26170960187353653, 'com': 0.2617096018735365, 'displayName': 0.25468384074941475, 'replaceWith': 0.25468384074941475, 'captureEvents': 0.25117096018735374, 'setProperty': 0.25058548009367704, 'hand': 0.25058548009367704, 'rootNode': 0.2494145199063234, 'lineTo': 0.24707259953161617, 'closePath': 0.24707259953161617, 'mozRequestAnimationFrame': 0.24707259953161617, 'createPattern': 0.24707259953161617, 'fillText': 0.24707259953161617, 'measureText': 0.24707259953161617, 'shadowOffsetY': 0.24707259953161617, 'isIdentity': 0.24707259953161617, 'touchcancel': 0.24707259953161617, 'fillRect': 0.24707259953161617, 'putImageData': 0.24707259953161617, 'restore': 0.24707259953161617, 'miter': 0.24707259953161617, 'strokeStyle': 0.24707259953161617, 'timeline': 0.24707259953161617, 'textBaseline': 0.24707259953161617, 'lineJoin': 0.24707259953161617, 'Touch': 0.24707259953161617, 'requestAnimationFrame': 0.24707259953161617, 'quadraticCurveTo': 0.24707259953161617, 'alphabetic': 0.24707259953161617, 'setTransform': 0.24707259953161617, 'drawImage': 0.24707259953161617, 'addColorStop': 0.24707259953161617, 'pointerId': 0.24707259953161617, 'skewX': 0.24707259953161617, 'globalCompositeOperation': 0.24707259953161617, 'strokeText': 0.24707259953161617, 'createRadialGradient': 0.24707259953161617, 'shadowBlur': 0.24707259953161617, 'fillStyle': 0.24707259953161617, 'moveTo': 0.24707259953161617, 'advance': 0.24707259953161617, 'getImageData': 0.24707259953161617, 'lineCap': 0.24707259953161617, 'beginPath': 0.24707259953161617, 'shadowColor': 0.24707259953161617, 'getBounds': 0.24707259953161617, 'createLinearGradient': 0.24707259953161617, 'identifier': 0.24707259953161617, 'skewY': 0.24707259953161617, 'arcTo': 0.24707259953161617, 'clearRect': 0.24707259953161617, 'bezierCurveTo': 0.24707259953161617, 'frequency': 0.24707259953161617, 'miterLimit': 0.24707259953161617, 'globalAlpha': 0.24707259953161617, 'butt': 0.24707259953161617, 'shadowOffsetX': 0.24707259953161617, 'getAnimations': 0.24707259953161617, 'bounds': 0.24707259953161617, 'changedTouches': 0.24707259953161617, 'connected': 0.2418032786885248, 'runtimeStyle': 0.241217798594848, 'transport': 0.24121779859484796, 'marginWidth': 0.24121779859484796, 'marginHeight': 0.24121779859484796, 'wheel': 0.2341920374707262, 'removeRule': 0.23126463700234212, 'exit': 0.23126463700234212, 'inputs': 0.23126463700234212, 'HTMLAudioElement': 0.23126463700234212, 'HTMLVideoElement': 0.23126463700234212, 'component': 0.22599531615925078, 'globalStorage': 0.22599531615925078, 'charCode': 0.22540983606557397, 'secureConnectionStart': 0.2224824355971899, 'verify': 0.2224824355971899, 'application': 0.22131147540983626, 'scrollMaxX': 0.22131147540983626, 'handleEvent': 0.22072599531615947, 'pixels': 0.2195550351288058, 'voice': 0.21721311475409855, 'onclose': 0.21662763466042173, 'rp': 0.2154566744730681, 'Promise': 0.21194379391100723, 'variant': 0.21194379391100723, 'force': 0.21194379391100723, 'suffixes': 0.2119437939110072, 'declare': 0.21018735362997673, 'orientationchange': 0.20725995316159268, 'onorientationchange': 0.20725995316159268, 'codebase': 0.20608899297423908, 'loadEventEnd': 0.20491803278688542, 'domLoading': 0.20491803278688542, 'domComplete': 0.20491803278688542, 'txt': 0.2008196721311477, 'option': 0.2002341920374709, 'xpi': 0.19964871194379408, 'waiting': 0.19672131147541003, 'sandbox': 0.18735362997658095, 'touch': 0.18618266978922735, 'angle': 0.18618266978922735, 'startAngle': 0.18618266978922735, 'createContextualFragment': 0.18384074941452008, 'device': 0.18384074941452005, 'sizes': 0.18325526932084324, 'dst': 0.17564402810304464, 'onsubmit': 0.17564402810304464, 'onmouseenter': 0.17213114754098377, 'onopen': 0.17213114754098377, 'system': 0.17213114754098374, 'install': 0.17213114754098374, 'rows': 0.17154566744730693, 'profile': 0.16861826697892285, 'fallback': 0.1662763466042156, 'accessKey': 0.16451990632318517, 'new': 0.16451990632318517, 'notifications': 0.16451990632318517, 'getUserData': 0.16451990632318517, 'loginUrl': 0.16451990632318517, 'repeat': 0.16393442622950832, 'baseURI': 0.16159250585480106, 'normalize': 0.16159250585480106, 'upgrade': 0.16042154566744746, 'statusText': 0.16042154566744746, 'truncate': 0.16042154566744746, 'unregister': 0.16042154566744746, 'resizeTo': 0.15281030444964883, 'NONE': 0.152224824355972, 'abort': 0.1510538641686184, 'latency': 0.1510538641686184, 'org': 0.15046838407494156, 'opened': 0.14988290398126478, 'unique': 0.14754098360655749, 'targetElement': 0.142857142857143, 'addElement': 0.13875878220140525, 'explicit': 0.13583138173302117, 'naturalHeight': 0.13583138173302117, 'naturalWidth': 0.13583138173302117, 'hashchange': 0.13466042154566757, 'setStartAfter': 0.13290398126463712, 'controls': 0.13290398126463712, 'continuous': 0.13290398126463712, 'sendMessage': 0.1329039812646371, 'volume': 0.1293911007025762, 'transaction': 0.12880562060889938, 'sign': 0.12646370023419215, 'level': 0.12646370023419215, 'endpoint': 0.120608899297424, 'copy': 0.11943793911007036, 'home': 0.11768149882903993, 'amex': 0.11241217798594857, 'sendBeacon': 0.1018735362997659, 'redirectStart': 0.1018735362997659, 'redirectEnd': 0.1018735362997659, 'onbeforeprint': 0.10070257611241226, 'onafterprint': 0.10070257611241226, 'Iterator': 0.09953161592505863, 'wifi': 0.09953161592505863, 'visibilitychange': 0.09836065573770501, 'visibilityState': 0.09836065573770501, 'cssRules': 0.09309133489461366, 'isCollapsed': 0.09250585480093684, 'rangeCount': 0.09250585480093684, 'focusNode': 0.09250585480093684, 'focused': 0.09250585480093684, 'onactivate': 0.09250585480093684, 'getRangeAt': 0.09250585480093684, 'selectionEnd': 0.09250585480093684, 'addRange': 0.09250585480093684, 'selectionStart': 0.09250585480093684, 'removeAllRanges': 0.09250585480093684, 'cloneRange': 0.09250585480093684, 'usage': 0.09133489461358323, 'sampleRate': 0.09133489461358323, 'getAll': 0.09133489461358323, 'tcp': 0.09133489461358323, 'autocomplete': 0.09133489461358321, 'defaultPrevented': 0.08957845433255278, 'tel': 0.08957845433255274, 'as': 0.08957845433255274, 'mm': 0.08957845433255274, 'createComment': 0.08723653395784552, 'effect': 0.08430913348946144, 'setStyles': 0.08430913348946144, 'startup': 0.08196721311475415, 'listener': 0.08138173302107733, 'scrollIntoView': 0.07318501170960194, 'NULL': 0.07318501170960194, 'productId': 0.07318501170960191, 'passive': 0.07201405152224831, 'toolbar': 0.07142857142857148, 'PREV': 0.07025761124121785, 'NEXT': 0.07025761124121785, 'collapsed': 0.07025761124121785, 'designMode': 0.07025761124121785, 'tabIndex': 0.07025761124121785, 'contentEditable': 0.07025761124121785, 'getQueryParameter': 0.06908665105386423, 'disposition': 0.06908665105386423, 'ANY_TYPE': 0.06908665105386423, 'multiple': 0.06908665105386423, 'XPathResult': 0.06908665105386423, 'formAction': 0.062060889929742444, 'attribution': 0.05854800936768155, 'devicePixelRatio': 0.05854800936768155, 'presentation': 0.05854800936768155, 'salt': 0.057962529274004734, 'requestPointerLock': 0.05796252927400473, 'vendorSub': 0.05444964871194384, 'productSub': 0.05444964871194384, 'mimeType': 0.05444964871194384, 'persisted': 0.053864168618267025, 'propertyName': 0.053864168618267025, 'onstorage': 0.053864168618267025, 'deleted': 0.053864168618267025, 'Storage': 0.053864168618267025, 'pageshow': 0.053864168618267025, 'disconnect': 0.05386416861826702, 'hasChildNodes': 0.05386416861826702, 'currentScript': 0.05269320843091336, 'setStartBefore': 0.05093676814988295, 'selectorText': 0.05093676814988295, 'duplicate': 0.05035128805620613, 'trackId': 0.0491803278688525, 'setParameter': 0.0491803278688525, 'fullpath': 0.04683840749414524, 'row': 0.04625292740046842, 'hh': 0.04625292740046842, 'uninitialized': 0.044496487119437975, 'finished': 0.044496487119437975, 'lastModified': 0.044496487119437975, 'domContentLoadedEventEnd': 0.04215456674473071, 'unloadEventStart': 0.04215456674473071, 'unloadEventEnd': 0.04215456674473071, 'measure': 0.04215456674473071, 'monitor': 0.04215456674473071, '__count__': 0.03981264637002345, 'put': 0.039227166276346634, 'wheelDeltaY': 0.03864168618266981, 'wheelDeltaX': 0.03864168618266981, 'HORIZONTAL_AXIS': 0.03864168618266981, 'transactionId': 0.03747072599531619, 'systemID': 0.03688524590163937, 'registration': 0.03688524590163937, 'CSS': 0.035128805620608924, 'overrideMimeType': 0.03395784543325529, 'observer': 0.03161592505854803, 'minLength': 0.02927400468384077, 'lock': 0.02927400468384077, 'pname': 0.024590163934426246, 'currentTime': 0.01990632318501172, 'hasAttribute': 0.018149882903981274, 'forward': 0.011124121779859487}\n"
     ]
    }
   ],
   "source": [
    "weight_freq = {}\n",
    "for nod in G.nodes:\n",
    "    weight_freq[nod] = G.nodes[nod]['deg_wt']\n",
    "sorted_weight = dict(sorted(weight_freq.items(), key=lambda item: item[1], reverse=True))\n",
    "print(sorted_weight)"
   ]
  },
  {
   "cell_type": "code",
   "execution_count": null,
   "id": "nearby-romania",
   "metadata": {
    "pycharm": {
     "name": "#%%\n"
    }
   },
   "outputs": [],
   "source": []
  },
  {
   "cell_type": "code",
   "execution_count": 20,
   "id": "unauthorized-jurisdiction",
   "metadata": {
    "pycharm": {
     "name": "#%%\n"
    }
   },
   "outputs": [],
   "source": [
    "# Check whether the graph is connected"
   ]
  },
  {
   "cell_type": "code",
   "execution_count": 21,
   "id": "complimentary-folks",
   "metadata": {
    "pycharm": {
     "name": "#%%\n"
    }
   },
   "outputs": [
    {
     "data": {
      "text/plain": [
       "True"
      ]
     },
     "execution_count": 21,
     "metadata": {},
     "output_type": "execute_result"
    }
   ],
   "source": [
    "nx.is_connected(G)"
   ]
  },
  {
   "cell_type": "code",
   "execution_count": 22,
   "id": "mounted-berry",
   "metadata": {
    "pycharm": {
     "name": "#%%\n"
    }
   },
   "outputs": [],
   "source": [
    "# Clustering Coefficient"
   ]
  },
  {
   "cell_type": "code",
   "execution_count": 23,
   "id": "liquid-meter",
   "metadata": {
    "pycharm": {
     "name": "#%%\n"
    }
   },
   "outputs": [
    {
     "data": {
      "text/plain": [
       "0.824032393286109"
      ]
     },
     "execution_count": 23,
     "metadata": {},
     "output_type": "execute_result"
    }
   ],
   "source": [
    "nx.average_clustering(G)"
   ]
  },
  {
   "cell_type": "code",
   "execution_count": 24,
   "id": "electoral-lawsuit",
   "metadata": {
    "pycharm": {
     "name": "#%%\n"
    }
   },
   "outputs": [],
   "source": [
    "# average_shortest_path_length"
   ]
  },
  {
   "cell_type": "code",
   "execution_count": 25,
   "id": "novel-ghost",
   "metadata": {
    "pycharm": {
     "name": "#%%\n"
    }
   },
   "outputs": [
    {
     "data": {
      "text/plain": [
       "1.6702351187331994"
      ]
     },
     "execution_count": 25,
     "metadata": {},
     "output_type": "execute_result"
    }
   ],
   "source": [
    "nx.average_shortest_path_length(G)"
   ]
  },
  {
   "cell_type": "code",
   "execution_count": 26,
   "id": "known-conclusion",
   "metadata": {
    "pycharm": {
     "name": "#%%\n"
    }
   },
   "outputs": [],
   "source": [
    "#Lovain methof"
   ]
  },
  {
   "cell_type": "code",
   "execution_count": 27,
   "id": "intimate-headset",
   "metadata": {
    "pycharm": {
     "name": "#%%\n"
    }
   },
   "outputs": [],
   "source": [
    "partition = community_louvain.best_partition(G, resolution=0.88, weight='weight')"
   ]
  },
  {
   "cell_type": "code",
   "execution_count": 28,
   "id": "coated-estate",
   "metadata": {
    "pycharm": {
     "name": "#%%\n"
    }
   },
   "outputs": [],
   "source": [
    "# number of partinions"
   ]
  },
  {
   "cell_type": "code",
   "execution_count": 29,
   "id": "other-tribute",
   "metadata": {
    "pycharm": {
     "name": "#%%\n"
    }
   },
   "outputs": [
    {
     "name": "stdout",
     "output_type": "stream",
     "text": [
      "8\n"
     ]
    }
   ],
   "source": [
    "num_of_partitions = len(set(partition.values()))\n",
    "print(num_of_partitions)"
   ]
  },
  {
   "cell_type": "code",
   "execution_count": 30,
   "id": "considerable-mills",
   "metadata": {
    "pycharm": {
     "name": "#%%\n"
    }
   },
   "outputs": [
    {
     "name": "stdout",
     "output_type": "stream",
     "text": [
      "229\n",
      "138\n",
      "232\n",
      "163\n",
      "34\n",
      "77\n",
      "224\n",
      "71\n"
     ]
    }
   ],
   "source": [
    "api_hash_fract = {}\n",
    "for key, value in partition.items():\n",
    "    api_hash_fract[key] = value\n",
    "louvain_clusters = {}\n",
    "for i in range(num_of_partitions):\n",
    "    clust = []\n",
    "    for key, value in api_hash_fract.items():\n",
    "        if value == i:\n",
    "            clust.append(key)\n",
    "    louvain_clusters[i] = clust\n",
    "for i in range(num_of_partitions):\n",
    "    print(len(louvain_clusters[i]))"
   ]
  },
  {
   "cell_type": "code",
   "execution_count": 31,
   "id": "opposite-patrick",
   "metadata": {
    "pycharm": {
     "name": "#%%\n"
    }
   },
   "outputs": [],
   "source": [
    "with open(\"Lovain_clusters.json\", 'w') as l:\n",
    "    json.dump(louvain_clusters,l, indent=4)\n"
   ]
  }
 ],
 "metadata": {
  "kernelspec": {
   "display_name": "Python 3",
   "language": "python",
   "name": "python3"
  },
  "language_info": {
   "codemirror_mode": {
    "name": "ipython",
    "version": 3
   },
   "file_extension": ".py",
   "mimetype": "text/x-python",
   "name": "python",
   "nbconvert_exporter": "python",
   "pygments_lexer": "ipython3",
   "version": "3.8.5"
  }
 },
 "nbformat": 4,
 "nbformat_minor": 5
}
