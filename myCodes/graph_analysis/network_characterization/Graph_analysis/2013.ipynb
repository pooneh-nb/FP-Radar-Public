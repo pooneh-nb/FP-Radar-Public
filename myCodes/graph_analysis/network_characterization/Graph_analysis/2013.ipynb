{
 "cells": [
  {
   "cell_type": "code",
   "execution_count": null,
   "id": "compressed-branch",
   "metadata": {
    "pycharm": {
     "name": "#%%\n"
    }
   },
   "outputs": [],
   "source": []
  },
  {
   "cell_type": "code",
   "execution_count": null,
   "id": "japanese-display",
   "metadata": {
    "pycharm": {
     "name": "#%%\n"
    }
   },
   "outputs": [],
   "source": []
  },
  {
   "cell_type": "code",
   "execution_count": 1,
   "id": "apart-checklist",
   "metadata": {
    "pycharm": {
     "name": "#%%\n"
    }
   },
   "outputs": [],
   "source": [
    "from networkx.readwrite import json_graph\n",
    "import networkx as nx\n",
    "import json\n",
    "import matplotlib.pyplot as plt\n",
    "import community as community_louvain"
   ]
  },
  {
   "cell_type": "code",
   "execution_count": 2,
   "id": "preliminary-member",
   "metadata": {
    "pycharm": {
     "name": "#%%\n"
    }
   },
   "outputs": [],
   "source": [
    "with open(\"/home/c6/Desktop/OpenWPM/jsons/AST/CDX_results/Graphs/2013/Graph.json\", 'rt') as gr:\n",
    "    g = json.load(gr)"
   ]
  },
  {
   "cell_type": "code",
   "execution_count": 3,
   "id": "declared-limitation",
   "metadata": {
    "pycharm": {
     "name": "#%%\n"
    }
   },
   "outputs": [],
   "source": [
    "G = json_graph.node_link_graph(g)"
   ]
  },
  {
   "cell_type": "code",
   "execution_count": 4,
   "id": "touched-glossary",
   "metadata": {
    "pycharm": {
     "name": "#%%\n"
    }
   },
   "outputs": [
    {
     "name": "stdout",
     "output_type": "stream",
     "text": [
      "<class 'networkx.classes.graph.Graph'>\n"
     ]
    }
   ],
   "source": [
    "print(type(G))"
   ]
  },
  {
   "cell_type": "code",
   "execution_count": 5,
   "id": "organizational-entertainment",
   "metadata": {
    "pycharm": {
     "name": "#%%\n"
    }
   },
   "outputs": [],
   "source": [
    "# Print number of nodes and edges"
   ]
  },
  {
   "cell_type": "code",
   "execution_count": 6,
   "id": "painted-partition",
   "metadata": {
    "pycharm": {
     "name": "#%%\n"
    }
   },
   "outputs": [
    {
     "name": "stdout",
     "output_type": "stream",
     "text": [
      "Number of Nodes:  1348\n",
      "Number of Edges:  303579\n"
     ]
    }
   ],
   "source": [
    "print(\"Number of Nodes: \", len(G.nodes()))\n",
    "print(\"Number of Edges: \", len(G.edges()))"
   ]
  },
  {
   "cell_type": "code",
   "execution_count": 7,
   "id": "athletic-bikini",
   "metadata": {
    "pycharm": {
     "name": "#%%\n"
    }
   },
   "outputs": [],
   "source": [
    "#Degree calculation"
   ]
  },
  {
   "cell_type": "code",
   "execution_count": 8,
   "id": "permanent-skiing",
   "metadata": {
    "pycharm": {
     "name": "#%%\n"
    }
   },
   "outputs": [],
   "source": [
    "for node_temp in G.nodes():\n",
    "    wt = 0\n",
    "    deg = 0\n",
    "    for nbr, eattr in G.adj[node_temp].items():\n",
    "        wt = wt + eattr['weight']\n",
    "        deg += 1\n",
    "    G.nodes[node_temp]['deg_wt'] = wt\n",
    "    G.nodes[node_temp]['deg'] = deg"
   ]
  },
  {
   "cell_type": "code",
   "execution_count": 9,
   "id": "demanding-acoustic",
   "metadata": {
    "pycharm": {
     "name": "#%%\n"
    }
   },
   "outputs": [],
   "source": [
    "#Degree distrivution"
   ]
  },
  {
   "cell_type": "code",
   "execution_count": 10,
   "id": "rough-pontiac",
   "metadata": {
    "pycharm": {
     "name": "#%%\n"
    }
   },
   "outputs": [
    {
     "data": {
      "text/plain": [
       "Text(0, 0.5, 'Frequency')"
      ]
     },
     "execution_count": 10,
     "metadata": {},
     "output_type": "execute_result"
    },
    {
     "data": {
      "image/png": "[encoded data removed]",
      "text/plain": [
       "<Figure size 864x576 with 1 Axes>"
      ]
     },
     "metadata": {
      "needs_background": "light"
     },
     "output_type": "display_data"
    }
   ],
   "source": [
    "degree_freq = []\n",
    "for nod in G.nodes:\n",
    "    degree_freq.append(G.nodes[nod]['deg'])\n",
    "\n",
    "degrees = range(len(degree_freq))\n",
    "plt.figure(figsize=(12, 8))\n",
    "plt.hist(degree_freq, color='green', bins=20)\n",
    "plt.xlabel('Degree')\n",
    "plt.ylabel('Frequency')"
   ]
  },
  {
   "cell_type": "code",
   "execution_count": 11,
   "id": "reduced-montreal",
   "metadata": {
    "pycharm": {
     "name": "#%%\n"
    }
   },
   "outputs": [],
   "source": [
    "# Weight Distribution"
   ]
  },
  {
   "cell_type": "code",
   "execution_count": 12,
   "id": "handmade-growing",
   "metadata": {
    "pycharm": {
     "name": "#%%\n"
    }
   },
   "outputs": [
    {
     "data": {
      "text/plain": [
       "Text(0, 0.5, 'Frequency')"
      ]
     },
     "execution_count": 12,
     "metadata": {},
     "output_type": "execute_result"
    },
    {
     "data": {
      "image/png": "[encoded data removed]",
      "text/plain": [
       "<Figure size 864x576 with 1 Axes>"
      ]
     },
     "metadata": {
      "needs_background": "light"
     },
     "output_type": "display_data"
    }
   ],
   "source": [
    "weight_freq = []\n",
    "for nod in G.nodes:\n",
    "    weight_freq.append(G.nodes[nod]['deg_wt'])\n",
    "\n",
    "wt = range(len(weight_freq))\n",
    "plt.figure(figsize=(12, 8))\n",
    "plt.hist(weight_freq, color='green', bins=20)\n",
    "plt.xlabel('Weight')\n",
    "plt.ylabel('Frequency')"
   ]
  },
  {
   "cell_type": "code",
   "execution_count": 13,
   "id": "perfect-actor",
   "metadata": {
    "pycharm": {
     "name": "#%%\n"
    }
   },
   "outputs": [],
   "source": [
    "# Degree statistics"
   ]
  },
  {
   "cell_type": "code",
   "execution_count": 14,
   "id": "hungarian-norman",
   "metadata": {
    "pycharm": {
     "name": "#%%\n"
    }
   },
   "outputs": [
    {
     "name": "stdout",
     "output_type": "stream",
     "text": [
      "450.4139465875371\n",
      "26\n",
      "1347\n"
     ]
    }
   ],
   "source": [
    "# Average degree\n",
    "print(sum(degree_freq)/len(G.nodes))\n",
    "print(min(degree_freq))\n",
    "print(max(degree_freq))"
   ]
  },
  {
   "cell_type": "code",
   "execution_count": 15,
   "id": "humanitarian-title",
   "metadata": {
    "pycharm": {
     "name": "#%%\n"
    }
   },
   "outputs": [
    {
     "name": "stdout",
     "output_type": "stream",
     "text": [
      "5.674037178828664\n",
      "0.008094645080946455\n",
      "70.86519302615264\n"
     ]
    }
   ],
   "source": [
    "# Weight Statistics\n",
    "print(sum(weight_freq)/len(G.nodes))\n",
    "print(min(weight_freq))\n",
    "print(max(weight_freq))"
   ]
  },
  {
   "cell_type": "code",
   "execution_count": 16,
   "id": "jewish-option",
   "metadata": {
    "pycharm": {
     "name": "#%%\n"
    }
   },
   "outputs": [],
   "source": [
    "# sort nodes based on degree"
   ]
  },
  {
   "cell_type": "code",
   "execution_count": 17,
   "id": "crazy-haiti",
   "metadata": {
    "pycharm": {
     "name": "#%%\n"
    }
   },
   "outputs": [
    {
     "name": "stdout",
     "output_type": "stream",
     "text": [
      "{'parent': 1347, 'location': 1347, 'self': 1347, 'opener': 1347, 'top': 1347, 'window': 1347, 'frames': 1347, 'document': 1347, 'var': 1347, 'name': 1347, 'length': 1345, 'init': 1334, 'null': 1330, 'createElement': 1320, 'src': 1314, 'push': 1311, 'type': 1304, 'getElementsByTagName': 1302, 'undefined': 1301, 'replace': 1296, 'true': 1284, 'Date': 1282, 'join': 1280, 'Math': 1276, 'setTimeout': 1276, 'parentNode': 1272, 'appendChild': 1269, 'navigator': 1268, 'href': 1247, 'object': 1245, 'prototype': 1244, 'id': 1243, 'body': 1239, 'height': 1230, 'string': 1230, 'getTime': 1228, 'width': 1227, 'arguments': 1224, 'toString': 1222, 'userAgent': 1221, 'style': 1221, 'false': 1219, 'match': 1217, 'function': 1215, 'addEventListener': 1214, 'call': 1213, 'documentElement': 1210, 'Array': 1210, 'readyState': 1206, 'onload': 1201, 'attachEvent': 1200, 'load': 1195, 'url': 1193, 'apply': 1186, 'getElementById': 1185, 'hasOwnProperty': 1176, 'slice': 1174, 'innerHTML': 1170, 'on': 1169, 'complete': 1163, 'value': 1155, 'removeChild': 1155, 'random': 1148, 'setAttribute': 1147, 'data': 1142, 'delete': 1141, 'left': 1139, 'version': 1137, 'onreadystatechange': 1132, 'in': 1119, 'String': 1115, 'getAttribute': 1111, 'target': 1104, 'none': 1103, 'number': 1102, 'clearTimeout': 1102, 'protocol': 1101, 'head': 1097, 'removeEventListener': 1097, 'display': 1097, 'referrer': 1095, 'Object': 1092, 'cookie': 1091, 'log': 1091, 'title': 1084, 'insertBefore': 1079, 'className': 1074, 'event': 1070, 'console': 1061, 'img': 1057, 'position': 1055, 'hidden': 1054, 'max': 1051, 'round': 1051, 'click': 1048, 'splice': 1033, 'childNodes': 1030, 'px': 1025, 'open': 1021, 'firstChild': 1019, 'host': 1018, 'escape': 1014, 'tagName': 1012, 'detachEvent': 1007, 'nodeType': 1006, 'loaded': 1005, 'DOMContentLoaded': 997, 'callback': 996, 'clearInterval': 996, 'void': 993, 'async': 991, 'absolute': 989, 'get': 989, 'Image': 985, 'error': 982, 'instanceof': 980, 'message': 975, 'nodeName': 971, 'html': 969, 'iframe': 963, 'remove': 962, 'domain': 961, 'innerHeight': 957, 'screen': 956, 'setInterval': 956, 'parse': 953, 'search': 949, 'offsetWidth': 947, 'ActiveXObject': 946, 'element': 944, 'min': 943, 'key': 941, 'start': 941, 'scroll': 941, 'offsetHeight': 941, 'filter': 932, 'set': 930, 'plugins': 928, 'description': 924, 'clientHeight': 923, 'innerWidth': 923, 'onerror': 921, 'hostname': 921, 'focus': 921, 'visible': 918, 'bottom': 915, 'createTextNode': 914, 'duration': 911, 'text': 908, 'auto': 908, 'clientWidth': 906, 'extend': 902, 'scrollTop': 902, 'options': 901, 'preventDefault': 901, 'add': 896, 'http': 893, 'platform': 893, 'state': 888, 'constructor': 888, 'link': 887, 'cssText': 887, 'debug': 885, 'show': 885, 'item': 884, 'JSON': 883, 'write': 876, 'right': 876, 'srcElement': 870, 'contentWindow': 870, 'input': 869, 'offsetTop': 868, 'content': 867, '\\\\n': 866, 'css': 865, 'offset': 862, 'close': 860, 'end': 855, 'stop': 855, 'reset': 852, 'offsetLeft': 851, 'resize': 849, 'charCodeAt': 848, 'now': 847, 'attr': 846, 'all': 843, 'returnValue': 842, 'bind': 840, 'margin': 840, 'getComputedStyle': 839, 'hash': 837, 'sort': 837, 'info': 835, 'scrollLeft': 834, 'URL': 833, 'enabled': 830, 'webkit': 828, 'postMessage': 824, 'db': 824, 'blur': 820, 'size': 817, 'overflow': 814, 'compatMode': 813, 'textContent': 812, 'onclick': 810, 'count': 807, 'color': 805, 'span': 800, 'mousedown': 800, 'submit': 798, 'always': 798, 'frameElement': 798, 'events': 794, 'browser': 791, 'appVersion': 791, 'boolean': 790, 'index': 789, 'border': 789, 'timeout': 787, 'array': 785, 'product': 784, 'send': 783, 'status': 783, 'button': 782, 'language': 775, 'rel': 774, 'stopPropagation': 774, 'pathname': 773, 'currentStyle': 771, 'animate': 769, 'innerText': 768, 'action': 767, 'pause': 767, 'flash': 765, 'prop': 764, 'ready': 760, 'create': 759, 'nextSibling': 759, 'colorDepth': 759, 'format': 758, 'image': 756, 'pageX': 755, 'track': 752, 'zoom': 750, 'mimeTypes': 749, 'source': 749, 'time': 749, 'XMLHttpRequest': 748, 'select': 748, 'pc': 745, 'embed': 743, 'lang': 743, 'pageYOffset': 741, 'pageY': 741, 'center': 741, 'localStorage': 740, 'vb': 735, 'mouseover': 735, 'charset': 733, 'default': 727, 'cache': 727, 'warn': 725, 'origin': 724, 'mousemove': 723, 'Function': 722, 'offsetParent': 721, 'from': 720, 'update': 720, 'appName': 719, 'empty': 716, 'class': 714, 'getItem': 712, 'done': 711, 'clientX': 711, 'scrolling': 711, 'addEvent': 710, 'code': 709, 'getElementsByClassName': 709, 'clientY': 706, 'result': 705, 'dispatchEvent': 704, 'mouseout': 704, 'disabled': 703, 'query': 701, 'nodeValue': 697, 'tracker': 696, 'defaultView': 696, 'textAlign': 696, 'canvas': 695, 'ms': 694, 'loading': 692, 'frameBorder': 692, 'cancelBubble': 692, 'getPropertyValue': 691, 'change': 690, 'success': 689, 'play': 687, 'ontouchstart': 687, 'styleSheet': 686, 'video': 685, 'form': 684, 'scrollHeight': 684, 'checked': 684, 'Event': 681, 'setItem': 681, 'pt': 680, 'mouseup': 678, 'relatedTarget': 674, 'cursor': 663, 'find': 662, 'querySelectorAll': 661, 'beforeunload': 661, 'getBoundingClientRect': 659, 'append': 659, '_blank': 657, 'attributes': 657, 'alert': 655, 'shiftKey': 653, 'startTime': 652, 'node': 652, 'GET': 652, 'visibilitychange': 651, 'base': 651, 'client': 649, 'styleSheets': 646, 'json': 644, 'removeAttribute': 642, 'forEach': 642, 'total': 641, 'move': 640, 'navigation': 639, 'bgcolor': 639, 'delay': 637, 'context': 635, 'active': 634, 'interval': 634, 'onmessage': 631, 'expires': 630, 'media': 630, 'pageXOffset': 630, 'filters': 628, 'unload': 625, 'scale': 624, 'javaEnabled': 624, 'tag': 622, 'enabledPlugin': 619, 'ic': 618, 'keyCode': 617, 'file': 615, 'moz': 615, 'external': 615, 'unknown': 611, 'next': 611, 'align': 609, 'valueOf': 607, 'querySelector': 606, 'touchstart': 605, 'progress': 604, 'responseText': 603, 'label': 603, 'setData': 600, 'metaKey': 600, 'scope': 599, 'defer': 598, 'abort': 598, 'down': 598, 'getContext': 597, 'root': 596, 'isEnabled': 594, 'background': 593, 'clear': 591, 'transform': 591, 'refresh': 590, 'keys': 589, 'high': 589, 'check': 588, 'range': 588, 'scrollWidth': 587, 'matches': 586, 'characterSet': 585, 'removeItem': 584, 'POST': 583, 'canPlayType': 583, 'checkbox': 583, 'selected': 582, 'children': 580, 'reverse': 580, 'clone': 579, 'prefix': 578, 'ctrlKey': 578, 'line': 578, 'Boolean': 576, 'fireEvent': 576, 'paused': 574, 'user': 574, 'clip': 574, 'register': 571, 'onmouseover': 571, 'up': 568, 'current': 566, 'Gecko': 565, 'mozilla': 564, 'first': 564, 'cloneNode': 562, 'pattern': 560, 'autoplay': 559, 'keydown': 559, 'which': 557, 'touch': 556, 'previousSibling': 556, 'contains': 555, 'cookieEnabled': 554, 'cx': 552, 'middle': 552, 'items': 552, 'outerHTML': 551, 'getElementsByName': 551, 'onbeforeunload': 551, 'port': 550, 'method': 550, 'onmouseout': 550, 'browserLanguage': 549, 'initialize': 547, 'frame': 546, 'Infinity': 545, 'fill': 544, 'results': 543, 'alpha': 541, 'parentElement': 540, 'elements': 539, 'lastChild': 538, 'touchend': 538, 'createRange': 536, 'encode': 534, 'replaceChild': 533, 'currentTime': 533, 'off': 531, 'rotation': 531, 'finish': 530, 'outerWidth': 529, 'NaN': 528, 'inherit': 527, 'compareDocumentPosition': 523, 'cy': 523, 'ended': 522, 'group': 522, 'process': 520, 'vendor': 518, 'createElementNS': 516, 'alt': 515, 'contentDocument': 515, 'email': 514, 'drag': 514, 'XDomainRequest': 510, 'toggle': 510, 'normal': 509, 'define': 509, 'out': 507, 'outerHeight': 505, 'sessionStorage': 505, 'counter': 504, 'utils': 502, 'getBoxObjectFor': 501, 'timeupdate': 501, 'mouseenter': 501, 'createEvent': 499, 'td': 499, 'history': 498, 'namespaceURI': 497, 'dataset': 496, 'mouseleave': 496, 'scripts': 496, 'detach': 494, 'mode': 492, 'filename': 491, 'locale': 491, 'for': 489, 'writeln': 489, 'pan': 489, 'onresize': 488, 'links': 487, 'translate': 487, 'playing': 485, 'ch': 484, 'audio': 483, 'keyup': 483, 'onscroll': 483, 'Netscape': 482, 'low': 481, 'rules': 480, 'htmlFor': 480, 'direction': 480, 'request': 479, 'visibilityState': 479, 'drop': 477, 'clientTop': 477, 'identity': 477, 'timing': 477, 'go': 475, 'previous': 475, 'addListener': 473, 'clientLeft': 472, 'performance': 472, 'custom': 472, 'easing': 471, 'handler': 469, 'dir': 468, 'waiting': 468, 'readystatechange': 468, 'transition': 466, 'handleEvent': 466, 'images': 466, 'password': 465, 'offsetY': 464, 'evaluate': 464, 'ownerDocument': 463, 'cancel': 462, 'dump': 462, 'step': 461, 'prerender': 461, 'sync': 459, 'timestamp': 457, 'notify': 457, 'view': 457, 'radio': 456, 'createSVGRect': 455, 'linear': 455, 'offsetX': 455, 'collapse': 455, 'geolocation': 454, 'buttons': 452, 'ip': 451, 'detail': 451, 'properties': 450, 'threshold': 449, 'setStart': 449, 'devicePixelRatio': 449, 'square': 448, 'sheet': 447, 'propertyIsEnumerable': 447, 'slide': 447, 'login': 445, 'static': 445, 'resume': 445, 'controls': 445, 'not': 444, 'onmousedown': 444, 'altKey': 443, 'pixelDepth': 442, 'order': 441, 'enable': 441, 'addRule': 440, 'wrap': 440, 'before': 440, 'cm': 439, 'selectedIndex': 435, 'currentTarget': 434, 'userLanguage': 434, 'activate': 434, 'rx': 433, 'icon': 433, 'canplay': 433, 'yes': 433, 'viewport': 432, 'animation': 432, 'isSupported': 431, 'layerY': 430, 'layerX': 430, 'taintEnabled': 430, 'screenX': 429, 'screenY': 429, 'setRequestHeader': 428, 'has': 428, 'rtl': 428, 'onfocus': 426, 'save': 425, 'tooltip': 425, 'placeholder': 425, 'Element': 424, 'stroke': 424, 'print': 423, 'touches': 422, 'navigationStart': 420, 'redirect': 419, 'gap': 419, 'mousewheel': 418, 'DOMMouseScroll': 418, 'verify': 416, 'require': 416, 'country': 415, 'WebGLRenderingContext': 415, 'webgl': 414, 'sidebar': 414, 'textarea': 413, 'Mozilla': 412, 'device': 412, 'dx': 412, 'onstop': 412, 'metadata': 411, 'orientation': 410, 'defaultValue': 410, 'channel': 409, 'stalled': 408, 'loadeddata': 408, 'uri': 407, 'loadstart': 406, 'subscribe': 406, 'onchange': 405, 'reload': 405, 'hasAttribute': 404, 'onmousemove': 404, 'percent': 404, 'token': 403, 'scrollTo': 402, 'preload': 402, 'disable': 402, 'rect': 401, 'response': 400, 'vertical': 400, 'exception': 399, 'contentType': 398, 'loop': 396, 'only': 395, 'over': 393, 'touchmove': 393, 'list': 392, 'onblur': 392, 'reversed': 392, 'points': 392, 'mark': 392, 'service': 392, 'flush': 389, 'radius': 388, 'started': 387, 'network': 386, 'values': 386, 'axis': 385, 'fr': 383, 'loadEventStart': 383, 'setPosition': 382, 'connectStart': 381, 'labels': 381, 'ontouchmove': 381, 'words': 379, 'allowFullScreen': 378, 'menu': 378, 'getAttributeNode': 377, 'volumechange': 376, 'seeked': 374, 'seeking': 374, 'scrollY': 374, 'layout': 374, 'scheme': 374, 'fx': 373, 'sum': 372, 'kind': 372, 'release': 371, 'point': 371, 'shape': 371, 'initEvent': 371, 'javascript': 370, 'after': 369, 'Transition': 368, 'implementation': 367, 'sendBeacon': 367, 'createComment': 366, 'volume': 366, 'poster': 366, 'toJSON': 365, 'dy': 365, 'float': 364, 'closed': 364, 'insertRule': 364, 'normalize': 364, 'actions': 364, 'systemLanguage': 363, 'clientId': 362, 'popup': 362, 'ext': 362, 'store': 362, 'storage': 361, 'tabIndex': 360, 'specified': 359, 'connection': 358, 'withCredentials': 357, 'city': 357, 'ping': 357, 'sandbox': 357, 'screenLeft': 356, 'screenTop': 356, 'HTMLCanvasElement': 356, 'onunload': 355, 'sessionId': 355, 'nowrap': 355, 'repeat': 355, 'remote': 355, 'onabort': 354, 'services': 353, 'muted': 353, 'canplaythrough': 353, 'loadedmetadata': 353, 'ss': 352, 'domainLookupEnd': 352, 'domainLookupStart': 352, 'connectEnd': 352, 'responseStart': 352, 'forms': 351, 'focusout': 351, 'focusin': 351, 'role': 350, 'controller': 349, 'ontouchend': 348, 'insertAdjacentHTML': 347, 'rp': 346, 'local': 346, 'localName': 346, 'table': 345, 'handle': 344, 'durationchange': 343, 'nodes': 343, 'salt': 340, 'allowfullscreen': 340, 'flags': 339, 'png': 337, 'isSameNode': 337, 'MS': 337, 'bound': 337, 'insertNode': 337, 'codebase': 337, 'setAttributeNS': 336, 'ry': 336, 'x2': 336, 'autoIncrement': 336, 'datetime': 336, 'startAngle': 336, 'getBBox': 336, 'angle': 336, 'symbols': 336, 'brightness': 336, 'lineWidth': 336, 'axes': 336, 'setScale': 336, 'sorted': 336, 'gradientUnits': 336, 'grep': 336, 'userSpaceOnUse': 336, 'arc': 336, 'Position': 336, 'defaultChecked': 336, 'preserveAspectRatio': 336, 'Point': 336, 'transaction': 335, 'trace': 334, 'responseEnd': 334, 'requestStart': 334, 'fetchStart': 334, 'crypto': 334, 'share': 333, 'getUserMedia': 332, 'mozGetUserMedia': 332, 'webkitGetUserMedia': 332, 'include': 331, 'updatePosition': 331, 'SVGElement': 331, 'forceRedraw': 331, 'bounds': 331, 'negative': 331, 'blocked': 331, 'Navigator': 331, 'spacing': 329, 'endAngle': 329, 'touched': 326, 'types': 326, 'username': 325, 'scrollX': 325, 'unregister': 325, 'contextMenu': 325, 'behavior': 322, 'suspend': 320, 'ratechange': 320, 'redirectCount': 316, 'onMessage': 315, 'createContextualFragment': 315, 'domContentLoadedEventStart': 314, 'eventHandler': 314, 'supported': 314, 'lineNumber': 313, 'fileName': 313, 'nextElementSibling': 310, 'req': 310, 'prepend': 309, 'notifications': 309, 'useMap': 307, 'setEnd': 307, 'compareBoundaryPoints': 307, 'seed': 307, 'Range': 307, 'TypeError': 307, 'stream': 307, 'DOMNodeInserted': 305, 'parameters': 305, 'opened': 304, 'hasFocus': 303, 'option': 303, 'ratio': 302, 'application': 301, 'sub': 300, 'th': 300, 'security': 299, 'maxLength': 299, 'pagehide': 299, 'msMatchesSelector': 297, 'mozMatchesSelector': 297, 'oMatchesSelector': 297, 'webkitMatchesSelector': 297, 'keypress': 297, 'continuous': 297, 'setStartAfter': 297, 'resource': 295, 'decode': 293, 'availWidth': 292, 'availHeight': 292, 'strings': 292, 'domInteractive': 290, 'provider': 289, 'DOMAttrModified': 288, 'DOMNodeRemoved': 288, 'ontimeout': 287, 'initMouseEvent': 286, 'bgColor': 286, 'pushState': 285, 'cellspacing': 285, 'cellpadding': 285, 'any': 285, 'getData': 281, 'exit': 281, 'caller': 279, 'removeListener': 279, 'xml': 275, 'alternate': 275, 'cellular': 275, 'fullscreenchange': 275, 'Touch': 275, 'fallback': 274, 'loadEventEnd': 273, 'txt': 272, 'speed': 272, 'Uint16Array': 272, 'getRandomValues': 272, 'urls': 270, 'orientationchange': 268, 'currentSrc': 267, 'connected': 267, 'encoding': 265, 'cssRules': 264, 'domLoading': 263, 'domComplete': 263, 'connect': 261, 'invalid': 261, 'required': 260, 'unique': 260, 'equals': 260, 'if': 260, 'toDataURL': 258, 'download': 258, 'protocols': 258, 'pageshow': 256, 'codecs': 256, 'command': 255, 'productName': 255, 'fullScreen': 255, 'maxTouchPoints': 255, 'unit': 254, 'vspace': 252, 'hspace': 252, 'record': 251, 'receiver': 251, 'Node': 251, 'both': 250, 'level': 250, 'activeElement': 249, 'getState': 248, 'closest': 248, 'onmouseenter': 248, 'cors': 245, 'identifier': 245, 'Window': 245, 'iconURL': 245, 'ancestorOrigins': 244, 'mm': 244, 'font': 244, 'btoa': 243, 'atob': 243, 'ty': 242, 'other': 242, 'redirectStart': 241, 'redirectEnd': 241, 'suffixes': 241, 'maxlength': 240, 'cellSpacing': 240, 'cellPadding': 240, 'vAlign': 240, 'valign': 240, 'rowspan': 240, 'colSpan': 240, 'colspan': 240, 'usemap': 240, 'rowSpan': 240, 'picture': 240, 'getParent': 239, 'createDocumentFragment': 237, 'mozInnerScreenX': 237, 'mozInnerScreenY': 237, 'shipping': 237, 'recipient': 236, 'LOADING': 236, 'emptied': 235, 'confirm': 233, 'endpoint': 232, 'com': 230, 'sx': 230, 'sampleRate': 230, 'WebSocket': 229, 'Worker': 229, 'getName': 229, 'assign': 229, 'beta': 228, 'SyntaxError': 228, 'secureConnectionStart': 228, 'ctx': 227, 'doNotTrack': 227, 'onmousewheel': 227, 'wheelDelta': 227, 'sign': 226, 'aborted': 225, 'getClientRects': 225, 'respond': 224, 'getParameter': 224, 'upload': 221, 'cssFloat': 221, 'rad': 220, 'ltr': 220, 'dom': 220, 'charCode': 220, 'priority': 219, 'pending': 219, 'seekable': 219, 'scriptURL': 219, 'wheel': 219, 'onafterprint': 218, 'onbeforeprint': 218, 'overrideMimeType': 218, 'Storage': 217, 'mute': 214, 'unmute': 214, 'getAll': 214, 'put': 213, 'hashchange': 210, 'appCodeName': 210, 'runtimeStyle': 210, 'responseType': 209, 'COMMENT_NODE': 209, 'PBKDF2': 209, 'ERROR': 209, 'endTime': 209, 'MEDIA_ERR_SRC_NOT_SUPPORTED': 209, 'iterations': 209, 'HMAC': 209, 'DOMParser': 209, 'endOfStream': 209, 'videoHeight': 209, 'videoWidth': 209, 'MEDIA_ERR_ABORTED': 209, 'played': 209, 'firstElementChild': 209, 'startup': 209, 'parseFromString': 209, 'currentState': 209, 'responseXML': 209, 'MEDIA_ERR_DECODE': 209, 'MEDIA_ERR_NETWORK': 209, 'core': 209, 'cmp': 207, 'amount': 207, 'unloadEventEnd': 205, 'domContentLoadedEventEnd': 205, 'unloadEventStart': 205, 'signature': 205, 'buffer': 205, 'frequency': 205, 'rows': 205, 'prompt': 204, 'getSelection': 204, 'mailto': 204, 'transport': 203, 'profile': 202, 'onplay': 201, 'onpause': 201, 'oncanplay': 201, 'onconnect': 201, 'features': 201, 'onfinish': 201, 'fatal': 201, 'ranges': 201, 'onsuspend': 201, 'onresume': 201, 'buffered': 201, 'playState': 201, 'onended': 201, 'containerId': 200, 'channels': 200, 'iterateNext': 199, 'installed': 198, 'removeProperty': 198, 'new': 198, 'accessKey': 198, 'getUserData': 198, 'loginUrl': 198, 'component': 198, 'weight': 197, 'matchMedia': 197, 'embeds': 196, 'transitionend': 196, 'sender': 194, 'onclose': 194, 'contextmenu': 193, 'dialogArguments': 193, 'p1': 193, 'tcp': 193, 'usage': 193, 'onmouseleave': 193, 'w3': 192, 'marginHeight': 192, 'marginWidth': 192, 'getNamedItem': 192, 'answer': 192, 'col': 192, 'rotate': 191, 'phone': 191, 'as': 189, 'classList': 187, 'fullscreen': 186, 'then': 186, 'onkeydown': 185, 'online': 184, 'oscpu': 184, 'memory': 184, 'entryType': 183, 'targetTouches': 182, 'lh': 182, 'skewX': 181, 'skewY': 181, 'Plugin': 181, 'short': 181, 'listener': 181, 'gl': 180, 'mimeType': 179, 'cancelAnimationFrame': 179, 'requestAnimationFrame': 179, 'timeline': 179, 'sendMessage': 178, 'summary': 178, 'suffix': 178, 'httpEquiv': 176, 'attribution': 175, 'inputs': 175, 'read': 173, 'watch': 173, 'fillText': 172, 'denied': 172, 'checkValidity': 172, 'compareNode': 172, 'animationName': 172, 'IndexedDB': 172, 'applicationCache': 172, 'dragstart': 172, 'indexedDB': 172, 'when': 170, 'offline': 170, 'setSelectionRange': 170, 'touchcancel': 170, 'multiple': 169, 'TIMEOUT': 168, 'inactive': 166, 'delayTime': 166, 'unsubscribe': 165, 'sample': 164, 'currency': 163, 'focused': 162, 'force': 161, 'getKey': 160, 'lower': 160, 'observe': 160, 'fullPath': 160, 'entries': 158, 'PC': 158, 'autocomplete': 157, 'attributeName': 157, 'replaceState': 157, 'onsubmit': 155, 'portNumber': 155, 'NONE': 155, 'org': 154, 'lines': 154, 'region': 153, 'CM': 153, 'onopen': 152, 'deg': 151, 'basic': 151, 'passive': 149, 'fonts': 149, 'collapsed': 149, 'latency': 149, 'ctrl': 149, 'assert': 149, 'requestData': 149, 'reason': 148, 'removeRule': 148, 'naturalHeight': 148, 'naturalWidth': 148, 'longitude': 147, 'latitude': 147, 'showModal': 147, 'sse': 147, 'HTMLElement': 146, 'getCurrentTime': 146, 'never': 145, 'scrollMaxX': 145, 'scrollMaxY': 145, 'displayName': 145, 'deleteRule': 144, 'setStyles': 144, 'effect': 144, 'accelerationIncludingGravity': 143, 'devicemotion': 143, 'statusbar': 142, 'archive': 142, 'pixels': 141, 'statusText': 140, 'upgrade': 140, 'truncate': 140, 'Text': 140, 'enter': 140, 'keyboard': 140, 'manual': 140, 'fullpath': 140, 'hh': 140, 'Name': 139, 'clipboard': 139, 'TrackEvent': 139, 'caption': 139, 'captureEvents': 138, 'MouseEvent': 138, 'mediaType': 138, 'KeyboardEvent': 138, 'getElementsByTagNameNS': 138, 'taskList': 138, 'baseVal': 138, 'contentEditable': 138, 'continue': 137, 'follow': 137, 'acceleration': 135, 'gamma': 135, 'DeviceOrientationEvent': 135, 'DeviceMotionEvent': 135, 'deviceorientation': 135, 'scale3d': 132, 'Request': 132, 'slot': 132, 'ii': 132, 'buttonID': 132, 'promise': 132, 'flatten': 131, 'argument': 131, 'draggable': 131, 'toolbar': 131, 'addModule': 130, 'cancelable': 129, 'bubbles': 129, 'decrypt': 129, 'xor': 129, 'public': 129, 'encrypt': 129, 'multiply': 129, 'credentials': 129, 'copyTo': 129, 'getParameters': 129, 'NULL': 129, 'typeName': 129, 'scriptNode': 128, 'badge': 127, 'control': 126, 'rootNode': 126, 'grad': 126, 'popstate': 126, 'rid': 124, 'onpagehide': 124, 'toLocaleString': 124, 'isPrototypeOf': 124, 'writer': 123, 'showModalDialog': 122, 'onpopstate': 122, 'Animation': 122, 'onkeyup': 121, 'presentation': 121, 'defaultPrevented': 121, 'double': 120, 'compact': 120, 'scrollIntoView': 120, 'selectionEnd': 120, 'selectionStart': 120, 'yPos': 119, 'disposition': 119, 'XPathResult': 119, 'ANY_TYPE': 119, 'getQueryParameter': 119, 'home': 118, 'onorientationchange': 118, 'magnify': 118, 'linkColor': 117, 'fgColor': 117, 'allowFullscreen': 116, 'errorCallback': 116, 'originalTarget': 115, 'measure': 115, 'IN': 113, 'onprogress': 112, 'timeStamp': 110, 'changedTouches': 110, 'm11': 110, 'matrix': 110, 'sizeX': 110, 'WebKitCSSMatrix': 110, 'deltaX': 110, 'authentication': 108, 'messageType': 108, 'navigate': 108, 'p4': 107, 'sizes': 106, 'fy': 105, 'Crypto': 105, 'includes': 105, 'xPos': 103, 'languages': 103, 'NUMBER': 103, 'cells': 103, 'IV': 102, 'idle': 102, 'inputEncoding': 102, 'failed': 102, 'productId': 101, 'amex': 101, 'dst': 100, 'coords': 100, 'rate': 99, 'replaceWith': 99, 'hasFeature': 98, 'HTMLAudioElement': 98, 'HTMLVideoElement': 98, 'touchleave': 98, 'PX': 98, 'address': 97, 'organization': 97, 'family': 97, 'vendorSub': 97, 'productSub': 97, 'onhashchange': 97, 'newURL': 97, 'getEntriesByType': 96, 'scrollBy': 95, 'variable': 93, 'initiatorType': 93, 'unloaded': 93, 'groupEnd': 92, 'monitor': 92, 'observer': 91, 'regions': 88, 'Location': 88, 'explicit': 88, 'globalStorage': 87, 'selectorText': 87, 'setStartBefore': 87, 'xpi': 86, 'onselectstart': 86, 'selectstart': 86, 'tabindex': 86, 'Iterator': 86, 'duplicate': 86, 'integer': 85, 'policy': 85, 'wifi': 85, 'trackId': 84, 'copy': 84, 'row': 84, 'displayId': 84, 'declare': 83, 'methodName': 83, 'rem': 83, 'itemId': 83, 'destination': 83, 'hint': 78, 'expiration': 78, 'allpass': 78, 'addElement': 78, 'accept': 78, 'persist': 76, 'Option': 76, 'finished': 76, 'uninitialized': 76, 'voice': 75, 'targetElement': 74, 'gbk': 73, 'PT': 72, 'CustomEvent': 71, 'initCustomEvent': 71, 'tel': 70, 'activated': 69, 'abbr': 69, 'oauth': 69, 'hasChildNodes': 65, 'onshow': 65, 'commit': 60, 'setParameter': 59, 'createAttribute': 58, 'setAttributeNode': 58, 'pname': 57, 'mapping': 53, 'startOffset': 53, 'onsuccess': 52, 'mozPaintCount': 51, 'onmouseup': 51, 'validity': 49, 'enqueue': 49, 'unmuted': 45, 'spellcheck': 43, 'extensions': 42, 'delivery': 42, 'aspectRatio': 41, 'bias': 40, '0xf0': 40, 'documentURI': 35, 'currentScript': 34, 'HORIZONTAL_AXIS': 34, 'wheelDeltaY': 34, 'wheelDeltaX': 34, 'oncontextmenu': 33, 'candidate': 29, 'permissions': 26}\n"
     ]
    }
   ],
   "source": [
    "degree_freq = {}\n",
    "for nod in G.nodes:\n",
    "    degree_freq[nod] = G.nodes[nod]['deg']\n",
    "sorted_degree = dict(sorted(degree_freq.items(), key=lambda item: item[1], reverse=True))\n",
    "print(sorted_degree)"
   ]
  },
  {
   "cell_type": "code",
   "execution_count": 18,
   "id": "compact-offense",
   "metadata": {
    "pycharm": {
     "name": "#%%\n"
    }
   },
   "outputs": [],
   "source": [
    "# sort nodes based on weight"
   ]
  },
  {
   "cell_type": "code",
   "execution_count": 19,
   "id": "corresponding-skill",
   "metadata": {
    "pycharm": {
     "name": "#%%\n"
    }
   },
   "outputs": [
    {
     "name": "stdout",
     "output_type": "stream",
     "text": [
      "{'document': 70.86519302615264, 'window': 70.85585305105924, 'var': 70.85585305105924, 'location': 70.83841843088486, 'name': 70.83156911581638, 'parent': 70.825031133251, 'self': 70.825031133251, 'opener': 70.825031133251, 'top': 70.825031133251, 'frames': 70.825031133251, 'length': 67.79296388543024, 'src': 66.84090909090948, 'null': 64.23972602739731, 'createElement': 63.953922789539384, 'init': 62.40161892901626, 'getElementsByTagName': 61.471980074719816, 'Date': 59.461394769614, 'type': 58.212017434620186, 'appendChild': 56.550435865504454, 'navigator': 55.80074719800744, 'href': 54.921544209215405, 'push': 54.722602739726064, 'undefined': 53.85678704856799, 'parentNode': 53.81351183063517, 'join': 52.686488169364836, 'height': 51.02366127023669, 'replace': 50.93742216687431, 'Math': 50.03300124533015, 'width': 49.95921544209221, 'true': 48.22229140722308, 'onload': 48.07378580323794, 'getTime': 46.68586550435866, 'body': 46.61394769613943, 'setTimeout': 45.88387297633882, 'addEventListener': 45.828144458281635, 'id': 45.76743462017438, 'protocol': 45.37640099626408, 'toString': 44.98412204234133, 'attachEvent': 44.857721046077266, 'prototype': 44.6450809464508, 'false': 44.24439601494415, 'style': 44.20828144458292, 'arguments': 42.879825653798186, 'random': 42.71139476961409, 'userAgent': 42.60491905354926, 'referrer': 42.009339975093404, 'match': 41.951432129514224, 'load': 41.89103362391028, 'string': 41.646326276463256, 'call': 40.023038605230354, 'getElementById': 39.68088418430887, 'documentElement': 38.79171855541713, 'readyState': 38.385429638854355, 'insertBefore': 38.25093399750937, 'apply': 38.08997509339978, 'none': 36.814445828144585, 'object': 36.02864259028644, 'setAttribute': 35.999377334993824, 'on': 35.753113325031144, 'url': 35.706413449563996, 'Array': 35.31413449564145, 'function': 34.67372353673724, 'innerHTML': 34.49782067247835, 'cookie': 34.48163138231628, 'async': 33.56382316313837, 'complete': 33.38480697384805, 'slice': 32.94333748443338, 'display': 31.758717310087114, 'Image': 31.3499377334992, 'head': 30.847135740971215, 'left': 30.635429638854184, 'onreadystatechange': 29.915940224159336, 'hasOwnProperty': 29.763698630136854, 'hostname': 29.465753424657382, 'screen': 28.862702366126836, 'value': 28.68150684931494, 'version': 28.245641344956216, 'domain': 28.129202988791913, 'hidden': 26.982565379825576, 'number': 26.947696139476825, 'removeChild': 26.563511830634997, 'className': 26.173723536737235, 'event': 26.063823163138142, 'loaded': 26.053237858032315, 'search': 25.74159402241575, 'title': 25.667808219177992, 'data': 25.456724782067162, 'getAttribute': 25.33312577833117, 'target': 25.189601494395927, 'host': 24.995330012453213, 'String': 24.40255292652543, 'click': 23.819738480697353, 'write': 23.730697384806913, 'message': 23.672789539227757, 'position': 23.65006226650055, 'delete': 23.37702366127009, 'void': 23.371731008717177, 'in': 23.342154420921425, 'clientHeight': 21.951743462017273, 'Object': 21.88667496886669, 'onerror': 21.725404732253875, 'DOMContentLoaded': 21.550747198007357, 'iframe': 21.29047322540467, 'clearTimeout': 21.14570361145697, 'log': 21.023038605230333, 'img': 20.791718555417088, 'clientWidth': 20.548567870485602, 'round': 20.345267745952523, 'instanceof': 19.59402241594014, 'console': 18.955168119551644, 'removeEventListener': 18.927148194271396, 'nodeType': 18.880448318804508, 'detachEvent': 18.626089663760908, 'charset': 18.608966376089516, 'escape': 18.40161892901604, 'cssText': 18.35460772104609, 'plugins': 18.157845579078327, 'firstChild': 18.05759651307594, 'language': 17.76774595267733, 'description': 17.74501867995008, 'ActiveXObject': 17.64383561643824, 'start': 17.597447073474513, 'nodeName': 17.503113325031165, 'now': 17.233810709838114, 'http': 17.22415940224155, 'absolute': 17.05043586550429, 'max': 16.982876712328757, 'get': 16.74906600249059, 'setInterval': 16.636052303860428, 'srcElement': 16.59339975093402, 'childNodes': 16.26245330012446, 'px': 16.125466998754614, 'tagName': 15.983188044831929, 'callback': 15.597447073474388, 'link': 15.482565379825562, 'html': 15.349315068493112, 'createTextNode': 15.325031133250276, 'text': 15.320361145703563, 'set': 15.312889165628876, 'innerWidth': 14.87889165628883, 'innerHeight': 14.698318804483119, 'scroll': 14.550124533001235, 'open': 14.24252801992526, 'colorDepth': 14.162204234121967, 'offsetWidth': 14.108655043586467, 'error': 14.035491905354851, 'scrollTop': 13.511830635118251, 'border': 13.485990037359898, 'hash': 13.358655043586513, 'key': 13.334059775840592, 'add': 13.3066625155666, 'parse': 13.144146948941433, 'clearInterval': 13.016500622664948, 'splice': 12.901307596513048, 'rel': 12.853051058530463, 'filter': 12.496886674968852, 'auto': 12.194271481942693, 'innerText': 12.189912826899132, 'postMessage': 12.13760896637601, 'webkit': 12.09122042341215, 'min': 12.039227895392337, 'visible': 11.907534246575349, 'css': 11.75280199252802, 'class': 11.657222914072266, 'input': 11.601805728518038, 'ready': 11.592777085927732, 'offsetHeight': 11.54669987546696, 'browser': 11.524906600249022, 'onabort': 11.381382316313813, 'element': 11.340286425902827, 'textContent': 11.326899128268973, 'always': 11.144769613947632, 'bottom': 11.113013698630107, 'localStorage': 11.031444582814377, 'platform': 11.029887920298846, 'right': 11.003735990037308, 'loading': 10.990348692403476, 'count': 10.923412204234141, 'remove': 10.871419676214165, 'content': 10.487546699875386, 'debug': 10.452988792029783, 'state': 10.312889165628903, 'item': 10.271481942714827, 'appName': 10.193648816936456, 'db': 10.073163138231628, 'onclick': 10.054794520547926, 'JSON': 9.829701120796933, 'frameElement': 9.828144458281367, 'span': 9.797633872976336, 'contentWindow': 9.722914072229063, 'margin': 9.669676214196707, 'offsetTop': 9.590909090909078, 'all': 9.565068493150637, 'scrollLeft': 9.541407222914046, 'compatMode': 9.400684931506804, 'sort': 9.399128268991262, 'styleSheet': 9.387608966376018, 'show': 9.37297633872971, 'charCodeAt': 9.26681195516808, 'resize': 9.23848069738485, 'stopPropagation': 9.226027397260257, 'boolean': 9.170298879202921, 'bind': 9.16344956413449, 'offsetLeft': 9.135429638854273, 'action': 9.11425902864258, 'scrolling': 9.063823163138133, 'preventDefault': 9.0149439601494, 'pathname': 8.92652552926521, 'query': 8.917496886674938, 'getElementsByClassName': 8.820049813200429, 'nextSibling': 8.804483188044767, 'constructor': 8.77615193026144, 'overflow': 8.748754669987518, 'attr': 8.695205479452076, 'reset': 8.636363636363544, 'options': 8.624844333748381, 'end': 8.605230386052263, 'systemLanguage': 8.598381070983772, 'pt': 8.436799501867949, 'Gecko': 8.42590286425899, 'timeout': 8.404732254047273, 'javaEnabled': 8.362702366126975, 'Function': 8.351805728517984, 'index': 8.31818181818175, 'format': 8.268679950186746, 'mousedown': 8.209838107098372, 'submit': 8.154109589041061, 'client': 7.964819427148173, 'focus': 7.837173100871666, 'pc': 7.83281444582814, 'color': 7.79545454545451, 'product': 7.740660024906564, 'prerender': 7.6572229140721895, 'ms': 7.615504358654989, 'prop': 7.55915317559148, 'create': 7.492216687422126, 'cancelBubble': 7.447696139476943, 'addEvent': 7.44302615193021, '\\\\n': 7.3692403486923395, 'mimeTypes': 7.293275217932708, 'URL': 7.270236612702317, 'flash': 7.267123287671179, 'returnValue': 7.22104607721042, 'appVersion': 7.126712328767062, 'append': 7.090909090909051, 'querySelectorAll': 7.08405977584056, 'defer': 7.054171855541711, 'tag': 7.01836861768362, 'extend': 7.017123287671178, 'lastChild': 6.870797011207931, 'visibilitychange': 6.869551681195489, 'pageYOffset': 6.868617683686147, 'nodeValue': 6.731631382316272, 'normal': 6.716998754669955, 'cookieEnabled': 6.599315068493134, 'stop': 6.59744707347442, 'offsetParent': 6.580012453300107, 'info': 6.535491905354855, 'lang': 6.534246575342422, 'result': 6.518679950186758, 'browserLanguage': 6.513387297633842, 'file': 6.461706102117034, 'source': 6.4168742216687065, 'moz': 6.401307596513056, 'prefix': 6.358343711083402, 'vb': 6.355541718555365, 'checked': 6.299190535491858, 'visibilityState': 6.278019925280177, 'update': 6.277397260273914, 'cache': 6.2733499377334665, 'image': 6.251867995018648, 'register': 6.187110834371084, 'close': 6.11581569115815, 'currentStyle': 6.105230386052271, 'previousSibling': 6.096824408468218, 'alt': 6.046699875466993, 'getComputedStyle': 6.039539227895342, 'animate': 6.036737235367343, 'node': 6.035491905354884, 'scrollHeight': 6.025840597758385, 'view': 6.018991282689881, 'disabled': 5.921544209215397, 'frame': 5.918742216687389, 'clientX': 5.91033623910332, 'events': 5.90597758405974, 'mouseover': 5.877023661270211, 'pageX': 5.873910336239054, 'blur': 5.868306351182996, 'cursor': 5.849315068493105, 'pageY': 5.839663760896596, 'beforeunload': 5.803549190535447, 'size': 5.774906600249011, 'button': 5.754981320049764, 'list': 5.73567870485676, 'checkbox': 5.650373599003698, 'getItem': 5.646948941469432, 'offset': 5.613325031133174, 'context': 5.555417185554157, 'active': 5.552615193026115, 'selected': 5.468866749688634, 'expires': 5.465753424657504, 'mozilla': 5.456413449564149, 'center': 5.4417808219177966, 'devicePixelRatio': 5.434931506849279, 'readystatechange': 5.378891656288893, 'querySelector': 5.376712328767092, 'history': 5.355853051058517, 'XMLHttpRequest': 5.343088418430832, 'track': 5.335305105853046, 'Mozilla': 5.332814445828128, 'frameBorder': 5.313511830635102, 'mouseout': 5.299813200498098, 'elements': 5.280510585305091, 'characterSet': 5.2627646326276345, '_blank': 5.235990037359869, 'enabled': 5.225404732254015, 'duration': 5.209215442092111, 'external': 5.199564134495632, 'setItem': 5.181195516811905, 'online': 5.143212951432154, 'zoom': 5.094645080946421, 'send': 5.078767123287622, 'defaultView': 5.015255292652529, 'array': 5.001556662515547, 'form': 4.975093399750908, 'tracker': 4.960460772104583, 'getBoundingClientRect': 4.944271481942671, 'matches': 4.935554171855513, 'video': 4.909713574097112, 'warn': 4.904109589041035, 'align': 4.879514321295115, 'success': 4.873910336239064, 'transform': 4.850871731008685, 'time': 4.80417185554167, 'port': 4.78735990037356, 'behavior': 4.748754669987543, 'base': 4.739103362391015, 'propertyIsEnumerable': 4.738792029887901, 'clientY': 4.721980074719769, 'root': 4.613013698630108, 'attributes': 4.580012453300108, 'req': 4.550124533001242, 'code': 4.523661270236553, 'origin': 4.473536737235328, 'for': 4.473225404732222, 'process': 4.4561021170610005, 'mousemove': 4.406288916562866, 'removeAttribute': 4.404109589041066, 'background': 4.401930261519287, 'canvas': 4.398194271481928, 'textAlign': 4.391967621419647, 'relatedTarget': 4.386674968866722, 'htmlFor': 4.382938978829358, 'getPropertyValue': 4.36674968866745, 'setData': 4.3402864259028435, 'status': 4.3312577833125365, 'label': 4.330946450809441, 'ic': 4.318493150684901, 'parameters': 4.313823163138209, 'done': 4.309464508094619, 'default': 4.29545454545452, 'pageXOffset': 4.2549813200497795, 'mouseup': 4.234433374844304, 'handler': 4.227584059775824, 'results': 4.178704856787024, 'Event': 4.1478829389787935, 'save': 4.137920298879198, 'select': 4.0924657534246185, 'keys': 4.077521793275206, 'refresh': 4.048567870485664, 'first': 4.047322540473205, 'alert': 4.046388542963868, 'DOMNodeInserted': 4.033001245330015, 'embed': 4.032689912826885, 'ontouchstart': 4.029887920298851, 'getName': 4.010273972602741, 'filters': 3.9828767123287574, 'forEach': 3.97976338729761, 'Infinity': 3.9738480697384575, 'timing': 3.955168119551685, 'getContext': 3.9277708592776834, 'urls': 3.9156288916563, 'enabledPlugin': 3.903486924034871, 'performance': 3.8219178082191734, 'from': 3.8128891656288753, 'inactive': 3.784557907845573, 'pattern': 3.7294520547945047, 'user': 3.6858655043586395, 'exception': 3.6687422166874026, 'method': 3.6622042341220413, 'encode': 3.6578455790784217, 'find': 3.657222914072212, 'bgcolor': 3.554794520547927, 'only': 3.5333125778331214, 'currentTarget': 3.4666874221668698, 'GET': 3.43804483188044, 'notify': 3.410958904109558, 'radio': 3.4106475716064804, 'clip': 3.3748443337484253, 'unload': 3.370797011207958, 'userLanguage': 3.3595890410958784, 'high': 3.3592777085927628, 'navigationStart': 3.3539850560398548, 'interval': 3.3462017434620117, 'line': 3.3365504358654756, 'shiftKey': 3.32845579078455, 'POST': 3.2985678704856727, 'navigation': 3.2976338729763244, 'DOMAttrModified': 3.2954545454545507, 'DOMNodeRemoved': 3.2954545454545507, 'icon': 3.2839352428393322, 'touchstart': 3.273038605230373, 'onmouseover': 3.197073474470722, 'removeItem': 3.188667496886655, 'group': 3.1653175591531575, 'scale': 3.165317559153151, 'down': 3.1457036114570185, 'cloneNode': 3.141344956413439, 'reverse': 3.137297633872954, 'up': 3.1285803237857803, 'Netscape': 3.1245330012453247, 'drop': 3.1005603985055785, 'scope': 3.1002490660024837, 'metaKey': 3.086550435865495, 'namespaceURI': 3.084059775840575, 'request': 3.082503113325026, 'onmouseout': 3.0784557907845462, 'attributeName': 3.0448318804483256, 'items': 3.039539227895368, 'inherit': 3.024906600249041, 'move': 3.0239726027397125, 'sessionStorage': 3.0202366127023454, 'styleSheets': 2.995641344956412, 'contentDocument': 2.9785180572851733, 'pause': 2.9744707347446915, 'timestamp': 2.963885429638841, 'float': 2.9570361145703443, 'cy': 2.947073474470715, 'keyup': 2.920921544209209, 'media': 2.918430884184292, 'outerWidth': 2.9137608966375974, 'fill': 2.883250311332482, 'ctrlKey': 2.8723536737235227, 'services': 2.872042341220419, 'XDomainRequest': 2.8689290161892806, 'connectStart': 2.8667496886674986, 'pixelDepth': 2.8349937733499253, 'onfocus': 2.824097135740976, 'email': 2.8219178082191623, 'ss': 2.815379825653795, 'Boolean': 2.8128891656288713, 'createElementNS': 2.8007471980074556, 'check': 2.7979452054794285, 'scrollWidth': 2.7963885429638546, 'onblur': 2.779265255292657, 'country': 2.7724159402241404, 'rotation': 2.7696139476961146, 'fireEvent': 2.755603985056016, 'total': 2.7537359900373377, 'replaceChild': 2.7328767123287516, 'linear': 2.7294520547945016, 'td': 2.7238480697384655, 'offsetY': 2.683374844333728, 'empty': 2.6818181818181723, 'which': 2.671855541718549, 'offsetX': 2.6668742216687207, 'unknown': 2.654109589041084, 'clone': 2.650062266500613, 'loadEventStart': 2.6497509339975056, 'delay': 2.648816936488158, 'initialize': 2.6475716064756956, 'touchend': 2.633872976338715, 'outerHeight': 2.6061643835616337, 'layerY': 2.6008717310086977, 'layerX': 2.6008717310086977, 'mouseenter': 2.596201743462003, 'cx': 2.5572851805728325, 'mouseleave': 2.5557285180572693, 'contains': 2.550747198007454, 'stroke': 2.5432752179327354, 'play': 2.526774595267727, 'domainLookupEnd': 2.519302615193022, 'domainLookupStart': 2.519302615193022, 'connectEnd': 2.519302615193022, 'responseStart': 2.519302615193022, 'clientId': 2.5158779576587778, 'valueOf': 2.4617061021170317, 'responseEnd': 2.457347447073468, 'requestStart': 2.457347447073468, 'fetchStart': 2.457347447073468, 'isEnabled': 2.4498754669987237, 'easing': 2.4302615193025994, 'lineNumber': 2.4287048567870344, 'fileName': 2.4287048567870344, 'outerHTML': 2.4109589041095782, 'cm': 2.4084682440846747, 'mode': 2.4075342465753162, 'createSVGRect': 2.366438356164372, 'square': 2.3608343711083326, 'step': 2.359589041095876, 'onmessage': 2.353985056039822, 'threshold': 2.3365504358654876, 'clientTop': 2.3256537982565226, 'range': 2.320672478206705, 'middle': 2.318181818181799, 'started': 2.306351183063495, 'profile': 2.3051058530510535, 'clientLeft': 2.30199252801991, 'fr': 2.3004358655043466, 'wrap': 2.298256537982553, 'pan': 2.2966998754669863, 'onmousemove': 2.286425902864244, 'parentElement': 2.285803237858008, 'reversed': 2.27490660024905, 'sync': 2.2708592777085714, 'children': 2.2671232876712275, 'fx': 2.264632627646311, 'change': 2.2615193026151785, 'json': 2.2568493150684716, 'setRequestHeader': 2.245330012453293, 'onmousedown': 2.2331880448318633, 'vendor': 2.2222914072228996, 'rules': 2.2163760896637505, 'touches': 2.2129514321295005, 'translate': 2.211083437110821, 'animation': 2.191469489414682, 'radius': 2.1902241594022276, 'getBoxObjectFor': 2.1836861768368574, 'yes': 2.183063511830613, 'NaN': 2.168742216687413, 'domContentLoadedEventStart': 2.163138231631376, 'mark': 2.1506849315068353, 'Element': 2.1500622665006084, 'layout': 2.1460149439601364, 'canPlayType': 2.135740971357395, 'responseText': 2.134495641344949, 'rx': 2.1192403486923865, 'rect': 2.10709838107097, 'domInteractive': 2.1011830635118236, 'low': 2.0999377334993623, 'screenX': 2.0996264009962577, 'screenY': 2.0996264009962577, 'watch': 2.0977584059775802, 'clear': 2.0909090909090753, 'drag': 2.081880448318796, 'dx': 2.0806351183063394, 'percent': 2.0793897882938857, 'city': 2.0784557907845445, 'keyCode': 2.058219178082175, 'points': 2.0438978829389667, 'getData': 2.032689912826891, 'axis': 2.022104607721034, 'dispatchEvent': 2.0217932752179073, 'dy': 2.019613947696128, 'contextmenu': 2.01058530510585, 'labels': 2.007783312577821, 'off': 2.004981320049798, 'tooltip': 2.0031133250311206, 'ch': 2.002801992528008, 'shape': 2.002490660024895, 'ontouchmove': 2.001245330012441, 'startTime': 2.000622665006211, 'nowrap': 1.994707347447062, 'custom': 1.9834993773349816, 'images': 1.9772727272727066, 'geolocation': 1.9769613947696096, 'normalize': 1.9663760896637652, 'abort': 1.9442714819426978, 'rtl': 1.940535491905339, 'point': 1.9122042341220316, 'onscroll': 1.8953922789539044, 'counter': 1.8885429638854099, 'setAttributeNS': 1.8779576587795668, 'ry': 1.8779576587795668, 'x2': 1.8779576587795668, 'autoIncrement': 1.8779576587795668, 'datetime': 1.8779576587795668, 'startAngle': 1.8779576587795668, 'getBBox': 1.8779576587795668, 'angle': 1.8779576587795668, 'symbols': 1.8779576587795668, 'brightness': 1.8779576587795668, 'lineWidth': 1.8779576587795668, 'axes': 1.8779576587795668, 'setScale': 1.8779576587795668, 'sorted': 1.8779576587795668, 'gradientUnits': 1.8779576587795668, 'grep': 1.8779576587795668, 'userSpaceOnUse': 1.8779576587795668, 'arc': 1.8779576587795668, 'Position': 1.8779576587795668, 'defaultChecked': 1.8779576587795668, 'preserveAspectRatio': 1.8779576587795668, 'Point': 1.8779576587795668, 'double': 1.8720423412204206, 'progress': 1.868306351183052, 'vertical': 1.8508717310087046, 'filename': 1.8468244084682446, 'current': 1.8321917808218993, 'focusout': 1.8256537982565366, 'focusin': 1.8256537982565366, 'withCredentials': 1.8225404732253945, 'updatePosition': 1.7845579078455838, 'SVGElement': 1.7845579078455838, 'forceRedraw': 1.7845579078455838, 'bounds': 1.7845579078455838, 'negative': 1.7845579078455838, 'next': 1.7767745952677167, 'createRange': 1.7736612702366057, 'writeln': 1.7665006226649944, 'rate': 1.7428393524283943, 'identity': 1.740348692403477, 'token': 1.720112079701111, 'static': 1.7157534246575221, 'autocomplete': 1.7145080946450761, 'implementation': 1.7135740971357398, 'ontimeout': 1.7135740971357258, 'uri': 1.699564134495633, 'audio': 1.6796388542963838, 'addRule': 1.6759028642590075, 'buttons': 1.672478206724765, 'javascript': 1.6603362391033494, 'ownerDocument': 1.654109589041085, 'ping': 1.651930261519291, 'onkeyup': 1.648194271481939, 'alpha': 1.6323163138231493, 'go': 1.623910336239097, 'rp': 1.6211083437110705, 'hint': 1.6024283935242851, 'login': 1.6014943960149288, 'onbeforeunload': 1.5862391033623802, 'continue': 1.572851805728518, 'paused': 1.5625778331257636, 'redirect': 1.5594645080946434, 'sx': 1.5470112079701084, 'links': 1.5320672478206514, 'region': 1.5286425902864231, 'toggle': 1.5217932752179217, 'allowFullScreen': 1.5211706102117035, 'beta': 1.5171232876712295, 'currentTime': 1.5024906600248997, 'sheet': 1.5015566625155639, 'activate': 1.5009339975093343, 'define': 1.4937733499377233, 'keydown': 1.483499377334977, 'connection': 1.4688667496886678, 'menu': 1.4654420921544211, 'ended': 1.4585927770859222, 'scripts': 1.4293275217932588, 'out': 1.428393524283925, 'utils': 1.417808219178077, 'require': 1.4003735990037265, 'verify': 1.3788916562889175, 'th': 1.3779576587795686, 'getElementsByName': 1.3767123287671157, 'detach': 1.3729763387297624, 'defaultValue': 1.3679950186799466, 'handleEvent': 1.3290784557907824, 'contentType': 1.3010585305105802, 'timeupdate': 1.2995018679950154, 'nodes': 1.2976338729763346, 'orientation': 1.2820672478206712, 'sidebar': 1.277708592777088, 'slide': 1.2773972602739687, 'print': 1.2749066002490643, 'locale': 1.2605853051058555, 'touch': 1.2577833125778242, 'password': 1.2484433374844226, 'onresize': 1.2434620174346087, 'share': 1.2425280199252766, 'scheme': 1.2328767123287658, 'playing': 1.2316313823163099, 'addListener': 1.2288293897882827, 'service': 1.2191780821917726, 'release': 1.2188667496886498, 'aborted': 1.2185554171855535, 'network': 1.2179327521793273, 'appCodeName': 1.2179327521793262, 'sub': 1.2179327521793248, 'vspace': 1.2061021170610198, 'hspace': 1.2061021170610198, 'over': 1.2026774595267764, 'finish': 1.198630136986296, 'flush': 1.196450809464505, 'autoplay': 1.1883561643835565, 'classList': 1.1858655043586555, 'viewport': 1.1852428393524292, 'flags': 1.1805728518057266, 'longitude': 1.1709215442092158, 'latitude': 1.1709215442092158, 'ip': 1.1671855541718463, 'onchange': 1.1659402241593986, 'evaluate': 1.1618929016189286, 'getKey': 1.147882938978831, 'response': 1.1425902864258943, 'popup': 1.1422789539227836, 'sse': 1.115504358655045, 'values': 1.1139476961394759, 'download': 1.1123910336239105, 'forms': 1.1111457036114551, 'compareDocumentPosition': 1.0993150684931474, 'direction': 1.0980697384806986, 'properties': 1.0868617683686166, 'transaction': 1.0849937733499397, 'sum': 1.0828144458281446, 'Name': 1.0825031133250311, 'summary': 1.0712951432129518, 'reload': 1.0675591531755884, 'placeholder': 1.065379825653801, 'onMessage': 1.0560398505603996, 'onunload': 1.0547945205479368, 'portNumber': 1.051681195516815, 'collapse': 1.048567870485681, 'include': 1.0420298879203003, 'words': 1.0348692403486934, 'transition': 1.0286425902864282, 'dump': 1.016189290161895, 'taintEnabled': 1.0102739726027428, 'availWidth': 0.9943960149439619, 'availHeight': 0.9943960149439619, 'createEvent': 0.9906600249066028, 'waiting': 0.9884806973848098, 'volumechange': 0.9863013698630166, 'touchmove': 0.9794520547945239, 'device': 0.9707347447073501, 'poster': 0.9685554171855568, 'hasFeature': 0.9679327521793292, 'insertRule': 0.967621419676217, 'role': 0.9564134495641372, 'textarea': 0.9536114570361174, 'entries': 0.950186799501869, 'actions': 0.947696139476964, 'screenLeft': 0.941780821917811, 'screenTop': 0.941780821917811, 'Transition': 0.9367995018679977, 'mousewheel': 0.9346201743462045, 'DOMMouseScroll': 0.9346201743462045, 'remote': 0.9318181818181841, 'maxLength': 0.9308841843088445, 'clipboard': 0.9293275217932762, 'HTMLCanvasElement': 0.9287048567870512, 'subscribe': 0.9255915317559178, 'cors': 0.923723536737237, 'repeat': 0.9224782067247846, 'blocked': 0.9146948941469519, 'Navigator': 0.9146948941469519, 'cellspacing': 0.9134495641344982, 'cellpadding': 0.9134495641344982, 'before': 0.903175591531759, 'weight': 0.895703611457038, 'core': 0.8907222914072247, 'useMap': 0.8841843088418455, 'resume': 0.8838729763387323, 'previous': 0.8829389788293928, 'setStart': 0.8801369863013728, 'txt': 0.8792029887920318, 'dataset': 0.8785803237858058, 'closed': 0.868306351183066, 'sendBeacon': 0.8673723536737259, 'altKey': 0.8667496886674995, 'scrollTo': 0.8574097135740992, 'createDocumentFragment': 0.8567870485678729, 'toJSON': 0.8555417185554193, 'storage': 0.8505603985056063, 'detail': 0.847447073474473, 'cancel': 0.845890410958906, 'other': 0.8455790784557928, 'pushState': 0.8443337484433399, 'loop': 0.8443337484433396, 'maxlength': 0.8393524283935265, 'cellSpacing': 0.8393524283935265, 'cellPadding': 0.8393524283935265, 'vAlign': 0.8393524283935265, 'valign': 0.8393524283935265, 'rowspan': 0.8393524283935265, 'colSpan': 0.8393524283935265, 'colspan': 0.8393524283935265, 'usemap': 0.8393524283935265, 'rowSpan': 0.8393524283935265, 'seeked': 0.8343711083437133, 'seeking': 0.8343711083437133, 'mozInnerScreenX': 0.8309464508094667, 'mozInnerScreenY': 0.8309464508094667, 'endpoint': 0.8293897882938998, 'WebGLRenderingContext': 0.8259651307596536, 'encoding': 0.8250311332503135, 'selectedIndex': 0.8237858032378602, 'sessionId': 0.8122665006226671, 'contextMenu': 0.8094645080946472, 'onstop': 0.8082191780821943, 'order': 0.8001245330012472, 'sampleRate': 0.7995018679950207, 'unregister': 0.7979452054794541, 'decode': 0.792341220423414, 'loadEventEnd': 0.7889165628891678, 'doNotTrack': 0.7889165628891673, 'handle': 0.7808219178082212, 'redirectCount': 0.7668119551681215, 'containerId': 0.7661892901618947, 'gl': 0.7643212951432138, 'receiver': 0.7612079701120814, 'notifications': 0.7509339975093419, 'webgl': 0.750000000000002, 'stalled': 0.7490660024906625, 'loadeddata': 0.7490660024906625, 'isSameNode': 0.7456413449564159, 'MS': 0.7456413449564159, 'bound': 0.7456413449564159, 'insertNode': 0.7456413449564159, 'priority': 0.7384806973848088, 'channels': 0.7294520547945224, 'w3': 0.7254047322540492, 'scrollY': 0.7173100871731027, 'getAll': 0.7135740971357426, 'Plugin': 0.7117061021170628, 'keypress': 0.7110834371108362, 'channel': 0.7073474470734763, 'getClientRects': 0.703611457036116, 'specified': 0.7017434620174362, 'enable': 0.7001867995018697, 'cssFloat': 0.6936488169364895, 'domLoading': 0.6836861768368635, 'domComplete': 0.6836861768368635, 'com': 0.6836861768368634, 'both': 0.6827521793275233, 'confirm': 0.6821295143212966, 'httpEquiv': 0.6818181818181823, 'security': 0.6790161892901634, 'volume': 0.6699875466998776, 'prepend': 0.6522415940224177, 'PC': 0.6513075965130775, 'types': 0.6488169364881711, 'muted': 0.6463262764632648, 'canplaythrough': 0.6463262764632648, 'loadedmetadata': 0.6463262764632648, 'trace': 0.6425902864259045, 'invalid': 0.6419676214196777, 'phone': 0.6363636363636378, 'record': 0.6357409713574111, 'removeListener': 0.6354296388542979, 'username': 0.6338729763387313, 'canplay': 0.6320049813200518, 'caller': 0.6276463262764647, 'tcp': 0.6257783312577844, 'usage': 0.6257783312577844, 'connect': 0.6201743462017448, 'WebSocket': 0.6195516811955182, 'Worker': 0.6195516811955182, 'controls': 0.6179950186799521, 'onclose': 0.6145703611457051, 'application': 0.6099003735990056, 'fonts': 0.6099003735990046, 'ancestorOrigins': 0.6092777085927784, 'dom': 0.6046077210460785, 'ctx': 0.6033623910336252, 'touched': 0.5940224159402258, 'ratio': 0.5937110834371122, 'isSupported': 0.592154420921546, 'has': 0.5909090909090923, 'dir': 0.585927770859279, 'xml': 0.5837484433374862, 'cellular': 0.5837484433374862, 'fullscreenchange': 0.5837484433374862, 'Touch': 0.5837484433374862, 'scrollX': 0.5831257783312592, 'gap': 0.5828144458281462, 'preload': 0.5793897882938993, 'after': 0.5778331257783327, 'hasAttribute': 0.5765877957658796, 'cssRules': 0.576276463262766, 'follow': 0.5747198007471993, 'recipient': 0.5712951432129526, 'picture': 0.569738480697386, 'regions': 0.5653798256537994, 'removeProperty': 0.5647571606475726, 'secureConnectionStart': 0.562889165628893, 'pagehide': 0.5619551681195532, 'store': 0.5582191780821931, 'rad': 0.5386052303860532, 'onkeydown': 0.5361145703611466, 'durationchange': 0.5345579078455807, 'loadstart': 0.533935242839354, 'SyntaxError': 0.5336239103362402, 'persist': 0.5320672478206719, 'currency': 0.5255292652552936, 'attribution': 0.5224159402241604, 'read': 0.5196139476961403, 'oscpu': 0.5189912826899139, 'orientationchange': 0.5177459526774609, 'command': 0.5171232876712344, 'msMatchesSelector': 0.5155666251556676, 'mozMatchesSelector': 0.5155666251556676, 'oMatchesSelector': 0.5155666251556676, 'webkitMatchesSelector': 0.5155666251556676, 'alternate': 0.513075965130761, 'charCode': 0.5115193026151942, 'control': 0.5112079701120802, 'png': 0.502490660024908, 'passive': 0.49719800747198073, 'any': 0.490971357409715, 'initEvent': 0.4897260273972616, 'hashchange': 0.4887920298879217, 'onafterprint': 0.48599003735990176, 'onbeforeprint': 0.48599003735990176, 'showModal': 0.48505603985056145, 'TypeError': 0.481631382316315, 'getParameter': 0.4813200498132014, 'skewX': 0.4806973848069745, 'skewY': 0.4806973848069745, 'short': 0.4806973848069745, 'TIMEOUT': 0.47945205479452147, 'matchMedia': 0.47260273972602873, 'kind': 0.4698007471980088, 'transport': 0.46948941469489547, 'shipping': 0.4657534246575355, 'protocols': 0.4648194271481955, 'eventHandler': 0.4632627646326289, 'respond': 0.45921544209215565, 'initMouseEvent': 0.4567247820672489, 'getState': 0.4508094645080959, 'local': 0.44863013698630255, 'table': 0.44271481942714946, 'prompt': 0.4380448318804495, 'getSelection': 0.4380448318804495, 'mailto': 0.4380448318804495, 'fillText': 0.4283935242839364, 'denied': 0.4283935242839364, 'checkValidity': 0.4283935242839364, 'compareNode': 0.4283935242839364, 'animationName': 0.4283935242839364, 'IndexedDB': 0.4283935242839364, 'applicationCache': 0.4283935242839364, 'dragstart': 0.4283935242839364, 'indexedDB': 0.4283935242839364, 'getElementsByTagNameNS': 0.4283935242839364, 'taskList': 0.4283935242839364, 'answer': 0.4262141967621431, 'insertAdjacentHTML': 0.4237235367372363, 'marginHeight': 0.4227895392278962, 'marginWidth': 0.4227895392278962, 'badge': 0.4227895392278961, 'ty': 0.41967621419676315, 'exit': 0.4187422166874233, 'MouseEvent': 0.4143835616438368, 'mediaType': 0.4143835616438368, 'KeyboardEvent': 0.4143835616438368, 'speed': 0.4122042341220432, 'TrackEvent': 0.4103362391033628, 'caption': 0.4103362391033628, 'currentSrc': 0.4097135740971369, 'getParent': 0.40940224159402355, 'pending': 0.40255292652553015, 'seekable': 0.40255292652553015, 'scriptURL': 0.40255292652553015, 'spacing': 0.39975093399751066, 'endAngle': 0.39975093399751066, 'cancelAnimationFrame': 0.3969489414694905, 'requestAnimationFrame': 0.3969489414694905, 'timeline': 0.3969489414694905, 'runtimeStyle': 0.3969489414694904, 'presentation': 0.39632627646326307, 'redirectStart': 0.3894769613947704, 'redirectEnd': 0.3894769613947704, 'bgColor': 0.38729763387297705, 'ext': 0.3848069738480707, 'onmouseenter': 0.38293897882939076, 'reason': 0.3829389788293907, 'ltr': 0.3782689912826906, 'disable': 0.3764009962640109, 'resource': 0.37546699875467077, 'rid': 0.37515566625155744, 'suffix': 0.37422166874221746, 'inputs': 0.3720423412204243, 'mm': 0.3636363636363644, 'strings': 0.36052303860523127, 'as': 0.3589663760896645, 'removeRule': 0.3561643835616447, 'unit': 0.3524283935242848, 'new': 0.3483810709838115, 'accessKey': 0.3483810709838115, 'getUserData': 0.3483810709838115, 'loginUrl': 0.3483810709838115, 'component': 0.3483810709838115, 'suspend': 0.34651307596513187, 'ratechange': 0.34651307596513187, 'upload': 0.34620174346201826, 'supported': 0.34589041095890494, 'not': 0.34402241594022515, 'Node': 0.34371108343711165, 'onpopstate': 0.34184308841843164, 'getAttributeNode': 0.33904109589041187, 'salt': 0.335305105853052, 'installed': 0.3309464508094653, 'metadata': 0.32845579078455867, 'localName': 0.32783312577833207, 'unloadEventEnd': 0.32752179327521874, 'domContentLoadedEventEnd': 0.32752179327521874, 'unloadEventStart': 0.32752179327521874, 'LOADING': 0.32627646326276566, 'onopen': 0.32285180572851874, 'fullpath': 0.32285180572851846, 'allowfullscreen': 0.31818181818181884, 'equals': 0.3122665006226658, 'lines': 0.31226650062266575, 'nextElementSibling': 0.3088418430884194, 'fallback': 0.30323785803237946, 'opened': 0.30105853051058606, 'accelerationIncludingGravity': 0.3010585305105859, 'devicemotion': 0.3010585305105859, 'codecs': 0.2998132004981329, 'tabIndex': 0.29763387297633964, 'toDataURL': 0.29389788293897956, 'put': 0.29327521793275296, 'acceleration': 0.2932752179327528, 'gamma': 0.2932752179327528, 'DeviceOrientationEvent': 0.2932752179327528, 'DeviceMotionEvent': 0.2932752179327528, 'deviceorientation': 0.2932752179327528, 'fullscreen': 0.2917185554171863, 'createComment': 0.2914072229140731, 'pageshow': 0.28922789539227983, 'slot': 0.2886052303860529, 'emptied': 0.2839352428393533, 'stream': 0.2786425902864265, 'measure': 0.2727272727272734, 'then': 0.2721046077210469, 'embeds': 0.2721046077210467, 'authentication': 0.26899128268991335, 'messageType': 0.26899128268991335, 'navigate': 0.26899128268991335, 'overrideMimeType': 0.2686799501868003, 'amount': 0.26618929016189347, 'Storage': 0.26556662515566676, 'required': 0.2646326276463268, 'font': 0.2630759651307602, 'home': 0.26245330012453333, 'writer': 0.26120797011208013, 'variable': 0.2574719800747202, 'NUMBER': 0.2565379825653803, 'naturalHeight': 0.2562266500622671, 'naturalWidth': 0.2562266500622671, 'iterateNext': 0.256226650062267, 'option': 0.25373599003736064, 'btoa': 0.25249066002490717, 'atob': 0.25249066002490717, 'responseType': 0.2506226650062274, 'COMMENT_NODE': 0.2506226650062274, 'PBKDF2': 0.2506226650062274, 'ERROR': 0.2506226650062274, 'endTime': 0.2506226650062274, 'MEDIA_ERR_SRC_NOT_SUPPORTED': 0.2506226650062274, 'iterations': 0.2506226650062274, 'HMAC': 0.2506226650062274, 'DOMParser': 0.2506226650062274, 'endOfStream': 0.2506226650062274, 'videoHeight': 0.2506226650062274, 'videoWidth': 0.2506226650062274, 'MEDIA_ERR_ABORTED': 0.2506226650062274, 'played': 0.2506226650062274, 'firstElementChild': 0.2506226650062274, 'startup': 0.2506226650062274, 'parseFromString': 0.2506226650062274, 'currentState': 0.2506226650062274, 'responseXML': 0.2506226650062274, 'MEDIA_ERR_DECODE': 0.2506226650062274, 'MEDIA_ERR_NETWORK': 0.2506226650062274, 'assign': 0.24439601494396057, 'sandbox': 0.24408468244084752, 'org': 0.23972602739726068, 'sign': 0.23879202988792075, 'delayTime': 0.23816936488169432, 'originalTarget': 0.23661270236612736, 'captureEvents': 0.2344333748443339, 'sendMessage': 0.23318804483188094, 'sizes': 0.2316313823163142, 'level': 0.23069738480697424, 'deg': 0.22945205479452105, 'targetTouches': 0.22571606475716127, 'never': 0.22571606475716127, 'rotate': 0.225716064757161, 'sender': 0.22540473225404795, 'getNamedItem': 0.21855541718555455, 'addModule': 0.21855541718555452, 'ontouchend': 0.2166874221668748, 'controller': 0.21575342465753483, 'statusText': 0.2141967621419682, 'upgrade': 0.2141967621419682, 'truncate': 0.2141967621419682, 'ii': 0.21232876712328796, 'crypto': 0.21108343711083494, 'sample': 0.207347447073475, 'getUserMedia': 0.20641344956413518, 'mozGetUserMedia': 0.20641344956413518, 'webkitGetUserMedia': 0.20641344956413518, 'replaceState': 0.2061021170610214, 'compact': 0.2054794520547948, 'xpi': 0.20298879202988818, 'closest': 0.20236612702366177, 'deleteRule': 0.19925280199252854, 'lower': 0.19925280199252854, 'observe': 0.19925280199252854, 'fullPath': 0.19925280199252854, 'when': 0.19707347447073514, 'cancelable': 0.1952054794520552, 'bubbles': 0.1952054794520552, 'mimeType': 0.19302615193026182, 'declare': 0.19178082191780846, 'baseVal': 0.18897882938978877, 'onmousewheel': 0.18897882938978874, 'wheelDelta': 0.18897882938978874, 'IN': 0.18835616438356162, 'unique': 0.1867995018679955, 'connected': 0.1858655043586555, 'Animation': 0.1846201743462022, 'suffixes': 0.18368617683686228, 'allowFullscreen': 0.18368617683686214, 'HTMLAudioElement': 0.18306351183063516, 'HTMLVideoElement': 0.18306351183063516, 'codebase': 0.18088418430884226, 'onsubmit': 0.1780821917808223, 'copy': 0.17808219178082207, 'row': 0.17808219178082207, 'Option': 0.17745952677459545, 'unsubscribe': 0.1759028642590289, 'amex': 0.17590286425902865, 'hasFocus': 0.17559153175591574, 'Iterator': 0.1755915317559154, 'mapping': 0.17496886674968862, 'if': 0.17341220423412246, 'transitionend': 0.17278953922789572, 'activated': 0.1724782067247822, 'mute': 0.17216687422166896, 'unmute': 0.17216687422166896, 'Uint16Array': 0.17092154420921585, 'getRandomValues': 0.17092154420921585, 'rows': 0.17092154420921585, 'wheel': 0.1681195516811959, 'fy': 0.16749688667496893, 'monitor': 0.1640722291407223, 'dialogArguments': 0.16002490660024937, 'p1': 0.16002490660024937, 'HTMLElement': 0.15909090909090945, 'getCurrentTime': 0.15909090909090945, 'activeElement': 0.15815691158156953, 'productName': 0.15784557907845628, 'fullScreen': 0.15784557907845628, 'extensions': 0.15691158156911572, 'setPosition': 0.15504358655043635, 'contentEditable': 0.15317559153175625, 'grad': 0.15317559153175625, 'identifier': 0.1522415940224164, 'Window': 0.1522415940224164, 'iconURL': 0.1522415940224164, 'idle': 0.15193026151930294, 'Location': 0.14694894146948934, 'initiatorType': 0.14476961394769644, 'unloaded': 0.14476961394769644, 'expiration': 0.14414694894146937, 'allpass': 0.14414694894146937, 'NONE': 0.14383561643835643, 'setSelectionRange': 0.14290161892901646, 'targetElement': 0.14196762141967623, 'scrollMaxX': 0.1385429638854299, 'scrollMaxY': 0.1385429638854299, 'setEnd': 0.1344956413449568, 'compareBoundaryPoints': 0.1344956413449568, 'seed': 0.1344956413449568, 'Range': 0.1344956413449568, 'multiple': 0.13387297633873008, 'provider': 0.1313823163138235, 'integer': 0.13044831880448343, 'dst': 0.12453300124533023, 'coords': 0.12453300124533023, 'tel': 0.12328767123287662, 'createContextualFragment': 0.11955168119551716, 'lh': 0.11799501867995042, 'rootNode': 0.11768368617683699, 'groupEnd': 0.11457036114570379, 'memory': 0.11270236612702397, 'scrollIntoView': 0.11207970112079711, 'selectionEnd': 0.11207970112079711, 'selectionStart': 0.11207970112079711, 'popstate': 0.11114570361145713, 'unmuted': 0.10958904109589036, 'linkColor': 0.10927770859277718, 'fgColor': 0.10927770859277718, 'onorientationchange': 0.10740971357409722, 'magnify': 0.10740971357409722, 'offline': 0.10523038605230414, 'vendorSub': 0.10460772104607736, 'productSub': 0.10460772104607736, 'yPos': 0.09962640099626421, 'hasChildNodes': 0.0993150684931508, 'scriptNode': 0.09651307596513098, 'basic': 0.0940224159402244, 'observer': 0.09308841843088428, 'continuous': 0.09246575342465783, 'setStartAfter': 0.09246575342465783, 'CM': 0.09246575342465768, 'statusbar': 0.08841843088418452, 'archive': 0.08841843088418452, 'languages': 0.08312577833125782, 'ctrl': 0.08250311332503132, 'argument': 0.08156911581569135, 'draggable': 0.08156911581569135, 'toolbar': 0.08156911581569135, 'flatten': 0.08125778331257798, 'duplicate': 0.08032378580323783, 'maxTouchPoints': 0.07938978829389813, 'listener': 0.07752179327521812, 'showModalDialog': 0.07596513075965147, 'defaultPrevented': 0.0750311332503115, 'disposition': 0.07409713574097151, 'XPathResult': 0.07409713574097151, 'ANY_TYPE': 0.07409713574097151, 'getQueryParameter': 0.07409713574097151, 'cmp': 0.0722291407222916, 'latency': 0.07067247820672494, 'explicit': 0.0700498132004981, 'p4': 0.06724782067247831, 'onprogress': 0.0672478206724783, 'gbk': 0.06724782067247813, 'createAttribute': 0.06600249066002492, 'setAttributeNode': 0.06600249066002492, 'Crypto': 0.06537982565379838, 'includes': 0.06537982565379838, 'touchcancel': 0.06475716064757177, 'xPos': 0.06413449564134507, 'abbr': 0.06413449564134487, 'signature': 0.06382316313823182, 'buffer': 0.06382316313823182, 'frequency': 0.06382316313823182, 'inputEncoding': 0.06351183063511842, 'focused': 0.0628891656288918, 'onplay': 0.06257783312577851, 'onpause': 0.06257783312577851, 'oncanplay': 0.06257783312577851, 'onconnect': 0.06257783312577851, 'features': 0.06257783312577851, 'onfinish': 0.06257783312577851, 'fatal': 0.06257783312577851, 'ranges': 0.06257783312577851, 'onsuspend': 0.06257783312577851, 'onresume': 0.06257783312577851, 'buffered': 0.06257783312577851, 'playState': 0.06257783312577851, 'onended': 0.06257783312577851, 'onshow': 0.060709838107098284, 'onhashchange': 0.06039850560398516, 'newURL': 0.06039850560398516, 'onmouseleave': 0.0600871731008719, 'col': 0.059775840597758576, 'address': 0.059775840597758506, 'organization': 0.059775840597758506, 'family': 0.059775840597758506, 'force': 0.05759651307596528, 'entryType': 0.05697384806973864, 'requestData': 0.05697384806973861, 'pname': 0.05603985056039851, 'setParameter': 0.05510585305105845, 'productId': 0.054794520547945286, 'wifi': 0.05292652552926533, 'policy': 0.05168119551681202, 'collapsed': 0.05136986301369876, 'assert': 0.046388542963885546, 'displayName': 0.04514321295143224, 'setStyles': 0.044831880448318914, 'effect': 0.044831880448318914, 'CustomEvent': 0.04420921544209219, 'initCustomEvent': 0.04420921544209219, 'pixels': 0.043897882938978935, 'Text': 0.04358655043586561, 'enter': 0.04358655043586561, 'keyboard': 0.04358655043586561, 'manual': 0.04358655043586561, 'hh': 0.04358655043586561, 'scale3d': 0.041095890410959, 'Request': 0.041095890410959, 'buttonID': 0.041095890410959, 'promise': 0.041095890410959, 'decrypt': 0.04016189290161902, 'xor': 0.04016189290161902, 'public': 0.04016189290161902, 'encrypt': 0.04016189290161902, 'multiply': 0.04016189290161902, 'credentials': 0.04016189290161902, 'copyTo': 0.04016189290161902, 'getParameters': 0.04016189290161902, 'NULL': 0.04016189290161902, 'typeName': 0.04016189290161902, 'onpagehide': 0.03860523038605239, 'toLocaleString': 0.03860523038605239, 'isPrototypeOf': 0.03860523038605239, 'documentURI': 0.037671232876712334, 'errorCallback': 0.03611457036114578, 'timeStamp': 0.03424657534246582, 'changedTouches': 0.03424657534246582, 'm11': 0.03424657534246582, 'matrix': 0.03424657534246582, 'sizeX': 0.03424657534246582, 'WebKitCSSMatrix': 0.03424657534246582, 'deltaX': 0.03424657534246582, 'cells': 0.03206724782067254, 'IV': 0.03175591531755921, 'failed': 0.03175591531755921, 'replaceWith': 0.030821917808219232, 'touchleave': 0.030510585305105906, 'PX': 0.030510585305105906, 'getEntriesByType': 0.029887920298879253, 'scrollBy': 0.029576587795765927, 'globalStorage': 0.027085927770859317, 'selectorText': 0.027085927770859317, 'setStartBefore': 0.027085927770859317, 'onselectstart': 0.02677459526774599, 'selectstart': 0.02677459526774599, 'tabindex': 0.02677459526774599, 'trackId': 0.026151930261519338, 'displayId': 0.026151930261519338, 'methodName': 0.02584059775840601, 'rem': 0.02584059775840601, 'itemId': 0.02584059775840601, 'destination': 0.02584059775840601, 'bias': 0.024906600249065998, '0xf0': 0.024906600249065998, 'addElement': 0.02428393524283938, 'accept': 0.02428393524283938, 'spellcheck': 0.02428393524283935, 'finished': 0.023661270236612728, 'uninitialized': 0.023661270236612728, 'voice': 0.0233499377334994, 'delivery': 0.023349937733499387, 'PT': 0.022415940224159422, 'oauth': 0.021481942714819444, 'HORIZONTAL_AXIS': 0.020859277708592777, 'wheelDeltaY': 0.020859277708592777, 'wheelDeltaX': 0.020859277708592777, 'commit': 0.018679950186799507, 'startOffset': 0.016500622665006223, 'onsuccess': 0.016189290161892897, 'mozPaintCount': 0.01587795765877957, 'onmouseup': 0.01587795765877957, 'validity': 0.01525529265255292, 'enqueue': 0.01525529265255292, 'aspectRatio': 0.012764632627646324, 'currentScript': 0.010585305105853052, 'oncontextmenu': 0.010273972602739727, 'candidate': 0.009028642590286429, 'permissions': 0.008094645080946455}\n"
     ]
    }
   ],
   "source": [
    "weight_freq = {}\n",
    "for nod in G.nodes:\n",
    "    weight_freq[nod] = G.nodes[nod]['deg_wt']\n",
    "sorted_weight = dict(sorted(weight_freq.items(), key=lambda item: item[1], reverse=True))\n",
    "print(sorted_weight)"
   ]
  },
  {
   "cell_type": "code",
   "execution_count": null,
   "id": "skilled-acrobat",
   "metadata": {
    "pycharm": {
     "name": "#%%\n"
    }
   },
   "outputs": [],
   "source": []
  },
  {
   "cell_type": "code",
   "execution_count": 20,
   "id": "subsequent-namibia",
   "metadata": {
    "pycharm": {
     "name": "#%%\n"
    }
   },
   "outputs": [],
   "source": [
    "# Check whether the graph is connected"
   ]
  },
  {
   "cell_type": "code",
   "execution_count": 21,
   "id": "noted-dynamics",
   "metadata": {
    "pycharm": {
     "name": "#%%\n"
    }
   },
   "outputs": [
    {
     "data": {
      "text/plain": [
       "True"
      ]
     },
     "execution_count": 21,
     "metadata": {},
     "output_type": "execute_result"
    }
   ],
   "source": [
    "nx.is_connected(G)"
   ]
  },
  {
   "cell_type": "code",
   "execution_count": 22,
   "id": "favorite-father",
   "metadata": {
    "pycharm": {
     "name": "#%%\n"
    }
   },
   "outputs": [],
   "source": [
    "# Clustering Coefficient"
   ]
  },
  {
   "cell_type": "code",
   "execution_count": 23,
   "id": "directed-definition",
   "metadata": {
    "pycharm": {
     "name": "#%%\n"
    }
   },
   "outputs": [
    {
     "data": {
      "text/plain": [
       "0.8238456777878257"
      ]
     },
     "execution_count": 23,
     "metadata": {},
     "output_type": "execute_result"
    }
   ],
   "source": [
    "nx.average_clustering(G)"
   ]
  },
  {
   "cell_type": "code",
   "execution_count": 24,
   "id": "roman-skill",
   "metadata": {
    "pycharm": {
     "name": "#%%\n"
    }
   },
   "outputs": [],
   "source": [
    "# average_shortest_path_length"
   ]
  },
  {
   "cell_type": "code",
   "execution_count": 25,
   "id": "brown-female",
   "metadata": {
    "pycharm": {
     "name": "#%%\n"
    }
   },
   "outputs": [
    {
     "data": {
      "text/plain": [
       "1.6656169661562457"
      ]
     },
     "execution_count": 25,
     "metadata": {},
     "output_type": "execute_result"
    }
   ],
   "source": [
    "nx.average_shortest_path_length(G)"
   ]
  },
  {
   "cell_type": "code",
   "execution_count": 26,
   "id": "alive-bullet",
   "metadata": {
    "pycharm": {
     "name": "#%%\n"
    }
   },
   "outputs": [],
   "source": [
    "#Lovain methof"
   ]
  },
  {
   "cell_type": "code",
   "execution_count": 27,
   "id": "afraid-march",
   "metadata": {
    "pycharm": {
     "name": "#%%\n"
    }
   },
   "outputs": [],
   "source": [
    "partition = community_louvain.best_partition(G, resolution=0.88, weight='weight')"
   ]
  },
  {
   "cell_type": "code",
   "execution_count": 28,
   "id": "industrial-ownership",
   "metadata": {
    "pycharm": {
     "name": "#%%\n"
    }
   },
   "outputs": [],
   "source": [
    "# number of partinions"
   ]
  },
  {
   "cell_type": "code",
   "execution_count": 29,
   "id": "steady-blowing",
   "metadata": {
    "pycharm": {
     "name": "#%%\n"
    }
   },
   "outputs": [
    {
     "name": "stdout",
     "output_type": "stream",
     "text": [
      "8\n"
     ]
    }
   ],
   "source": [
    "num_of_partitions = len(set(partition.values()))\n",
    "print(num_of_partitions)"
   ]
  },
  {
   "cell_type": "code",
   "execution_count": 30,
   "id": "assumed-interpretation",
   "metadata": {
    "pycharm": {
     "name": "#%%\n"
    }
   },
   "outputs": [
    {
     "name": "stdout",
     "output_type": "stream",
     "text": [
      "141\n",
      "71\n",
      "95\n",
      "25\n",
      "107\n",
      "254\n",
      "433\n",
      "222\n"
     ]
    }
   ],
   "source": [
    "api_hash_fract = {}\n",
    "for key, value in partition.items():\n",
    "    api_hash_fract[key] = value\n",
    "louvain_clusters = {}\n",
    "for i in range(num_of_partitions):\n",
    "    clust = []\n",
    "    for key, value in api_hash_fract.items():\n",
    "        if value == i:\n",
    "            clust.append(key)\n",
    "    louvain_clusters[i] = clust\n",
    "for i in range(num_of_partitions):\n",
    "    print(len(louvain_clusters[i]))"
   ]
  },
  {
   "cell_type": "code",
   "execution_count": 31,
   "id": "tough-balloon",
   "metadata": {
    "pycharm": {
     "name": "#%%\n"
    }
   },
   "outputs": [],
   "source": [
    "with open(\"Lovain_clusters.json\", 'w') as l:\n",
    "    json.dump(louvain_clusters,l, indent=4)\n"
   ]
  }
 ],
 "metadata": {
  "kernelspec": {
   "display_name": "Python 3",
   "language": "python",
   "name": "python3"
  },
  "language_info": {
   "codemirror_mode": {
    "name": "ipython",
    "version": 3
   },
   "file_extension": ".py",
   "mimetype": "text/x-python",
   "name": "python",
   "nbconvert_exporter": "python",
   "pygments_lexer": "ipython3",
   "version": "3.8.5"
  }
 },
 "nbformat": 4,
 "nbformat_minor": 5
}
