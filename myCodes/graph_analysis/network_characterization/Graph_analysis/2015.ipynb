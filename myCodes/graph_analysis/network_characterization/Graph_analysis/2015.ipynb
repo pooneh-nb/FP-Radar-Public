{
 "cells": [
  {
   "cell_type": "code",
   "execution_count": null,
   "id": "brief-still",
   "metadata": {
    "pycharm": {
     "name": "#%%\n"
    }
   },
   "outputs": [],
   "source": []
  },
  {
   "cell_type": "code",
   "execution_count": 1,
   "id": "floral-activation",
   "metadata": {
    "pycharm": {
     "name": "#%%\n"
    }
   },
   "outputs": [],
   "source": [
    "from networkx.readwrite import json_graph\n",
    "import networkx as nx\n",
    "import json\n",
    "import matplotlib.pyplot as plt\n",
    "import community as community_louvain"
   ]
  },
  {
   "cell_type": "code",
   "execution_count": 2,
   "id": "rental-journalism",
   "metadata": {
    "pycharm": {
     "name": "#%%\n"
    }
   },
   "outputs": [],
   "source": [
    "with open(\"/home/c6/Desktop/OpenWPM/jsons/AST/CDX_results/Graphs/2015/Graph.json\", 'rt') as gr:\n",
    "    g = json.load(gr)"
   ]
  },
  {
   "cell_type": "code",
   "execution_count": 3,
   "id": "speaking-amber",
   "metadata": {
    "pycharm": {
     "name": "#%%\n"
    }
   },
   "outputs": [],
   "source": [
    "G = json_graph.node_link_graph(g)"
   ]
  },
  {
   "cell_type": "code",
   "execution_count": 4,
   "id": "reported-medicare",
   "metadata": {
    "pycharm": {
     "name": "#%%\n"
    }
   },
   "outputs": [
    {
     "name": "stdout",
     "output_type": "stream",
     "text": [
      "<class 'networkx.classes.graph.Graph'>\n"
     ]
    }
   ],
   "source": [
    "print(type(G))"
   ]
  },
  {
   "cell_type": "code",
   "execution_count": 5,
   "id": "divine-fever",
   "metadata": {
    "pycharm": {
     "name": "#%%\n"
    }
   },
   "outputs": [],
   "source": [
    "# Print number of nodes and edges"
   ]
  },
  {
   "cell_type": "code",
   "execution_count": 6,
   "id": "unavailable-walker",
   "metadata": {
    "pycharm": {
     "name": "#%%\n"
    }
   },
   "outputs": [
    {
     "name": "stdout",
     "output_type": "stream",
     "text": [
      "Number of Nodes:  2071\n",
      "Number of Edges:  709355\n"
     ]
    }
   ],
   "source": [
    "print(\"Number of Nodes: \", len(G.nodes()))\n",
    "print(\"Number of Edges: \", len(G.edges()))"
   ]
  },
  {
   "cell_type": "code",
   "execution_count": 7,
   "id": "enclosed-affairs",
   "metadata": {
    "pycharm": {
     "name": "#%%\n"
    }
   },
   "outputs": [],
   "source": [
    "#Degree calculation"
   ]
  },
  {
   "cell_type": "code",
   "execution_count": 8,
   "id": "geological-condition",
   "metadata": {
    "pycharm": {
     "name": "#%%\n"
    }
   },
   "outputs": [],
   "source": [
    "for node_temp in G.nodes():\n",
    "    wt = 0\n",
    "    deg = 0\n",
    "    for nbr, eattr in G.adj[node_temp].items():\n",
    "        wt = wt + eattr['weight']\n",
    "        deg += 1\n",
    "    G.nodes[node_temp]['deg_wt'] = wt\n",
    "    G.nodes[node_temp]['deg'] = deg"
   ]
  },
  {
   "cell_type": "code",
   "execution_count": 9,
   "id": "automated-soviet",
   "metadata": {
    "pycharm": {
     "name": "#%%\n"
    }
   },
   "outputs": [],
   "source": [
    "#Degree distrivution"
   ]
  },
  {
   "cell_type": "code",
   "execution_count": 10,
   "id": "north-confidence",
   "metadata": {
    "pycharm": {
     "name": "#%%\n"
    }
   },
   "outputs": [
    {
     "data": {
      "text/plain": [
       "Text(0, 0.5, 'Frequency')"
      ]
     },
     "execution_count": 10,
     "metadata": {},
     "output_type": "execute_result"
    },
    {
     "data": {
      "image/png": "[encoded data removed]",
      "text/plain": [
       "<Figure size 864x576 with 1 Axes>"
      ]
     },
     "metadata": {
      "needs_background": "light"
     },
     "output_type": "display_data"
    }
   ],
   "source": [
    "degree_freq = []\n",
    "for nod in G.nodes:\n",
    "    degree_freq.append(G.nodes[nod]['deg'])\n",
    "\n",
    "degrees = range(len(degree_freq))\n",
    "plt.figure(figsize=(12, 8))\n",
    "plt.hist(degree_freq, color='green', bins=20)\n",
    "plt.xlabel('Degree')\n",
    "plt.ylabel('Frequency')"
   ]
  },
  {
   "cell_type": "code",
   "execution_count": 11,
   "id": "eleven-belly",
   "metadata": {
    "pycharm": {
     "name": "#%%\n"
    }
   },
   "outputs": [],
   "source": [
    "# Weight Distribution"
   ]
  },
  {
   "cell_type": "code",
   "execution_count": 12,
   "id": "extended-motor",
   "metadata": {
    "pycharm": {
     "name": "#%%\n"
    }
   },
   "outputs": [
    {
     "data": {
      "text/plain": [
       "Text(0, 0.5, 'Frequency')"
      ]
     },
     "execution_count": 12,
     "metadata": {},
     "output_type": "execute_result"
    },
    {
     "data": {
      "image/png": "[encoded data removed]",
      "text/plain": [
       "<Figure size 864x576 with 1 Axes>"
      ]
     },
     "metadata": {
      "needs_background": "light"
     },
     "output_type": "display_data"
    }
   ],
   "source": [
    "weight_freq = []\n",
    "for nod in G.nodes:\n",
    "    weight_freq.append(G.nodes[nod]['deg_wt'])\n",
    "\n",
    "wt = range(len(weight_freq))\n",
    "plt.figure(figsize=(12, 8))\n",
    "plt.hist(weight_freq, color='green', bins=20)\n",
    "plt.xlabel('Weight')\n",
    "plt.ylabel('Frequency')"
   ]
  },
  {
   "cell_type": "code",
   "execution_count": 13,
   "id": "strategic-longitude",
   "metadata": {
    "pycharm": {
     "name": "#%%\n"
    }
   },
   "outputs": [],
   "source": [
    "# Degree statistics"
   ]
  },
  {
   "cell_type": "code",
   "execution_count": 14,
   "id": "basic-pharmaceutical",
   "metadata": {
    "pycharm": {
     "name": "#%%\n"
    }
   },
   "outputs": [
    {
     "name": "stdout",
     "output_type": "stream",
     "text": [
      "685.036214389184\n",
      "17\n",
      "2070\n"
     ]
    }
   ],
   "source": [
    "# Average degree\n",
    "print(sum(degree_freq)/len(G.nodes))\n",
    "print(min(degree_freq))\n",
    "print(max(degree_freq))"
   ]
  },
  {
   "cell_type": "code",
   "execution_count": 15,
   "id": "caroline-ivory",
   "metadata": {
    "pycharm": {
     "name": "#%%\n"
    }
   },
   "outputs": [
    {
     "name": "stdout",
     "output_type": "stream",
     "text": [
      "4.788872145002389\n",
      "0.001790227464195451\n",
      "73.43850042122986\n"
     ]
    }
   ],
   "source": [
    "# Weight Statistics\n",
    "print(sum(weight_freq)/len(G.nodes))\n",
    "print(min(weight_freq))\n",
    "print(max(weight_freq))"
   ]
  },
  {
   "cell_type": "code",
   "execution_count": 16,
   "id": "sixth-creator",
   "metadata": {
    "pycharm": {
     "name": "#%%\n"
    }
   },
   "outputs": [],
   "source": [
    "# sort nodes based on degree"
   ]
  },
  {
   "cell_type": "code",
   "execution_count": 17,
   "id": "overall-level",
   "metadata": {
    "pycharm": {
     "name": "#%%\n"
    }
   },
   "outputs": [
    {
     "name": "stdout",
     "output_type": "stream",
     "text": [
      "{'name': 2070, 'document': 2070, 'location': 2070, 'var': 2070, 'window': 2070, 'init': 2063, 'self': 2057, 'parent': 2057, 'frames': 2057, 'top': 2057, 'opener': 2057, 'length': 2054, 'null': 2049, 'push': 2028, 'type': 2027, 'createElement': 2019, 'body': 1999, 'src': 1998, 'replace': 1996, 'id': 1987, 'setTimeout': 1982, 'prototype': 1982, 'navigator': 1981, 'undefined': 1981, 'height': 1981, 'width': 1981, 'Date': 1972, 'addEventListener': 1969, 'call': 1961, 'style': 1960, 'Math': 1957, 'data': 1953, 'toString': 1952, 'true': 1950, 'function': 1943, 'arguments': 1943, 'match': 1941, 'appendChild': 1939, 'string': 1936, 'userAgent': 1924, 'join': 1923, 'load': 1918, 'object': 1916, 'in': 1912, 'href': 1909, 'value': 1908, 'apply': 1908, 'onload': 1906, 'Array': 1899, 'on': 1896, 'slice': 1891, 'readyState': 1889, 'documentElement': 1889, 'complete': 1885, 'delete': 1882, 'setAttribute': 1882, 'hasOwnProperty': 1872, 'parentNode': 1865, 'Object': 1864, 'false': 1862, 'getTime': 1859, 'attachEvent': 1857, 'left': 1857, 'getElementsByTagName': 1856, 'String': 1855, 'head': 1834, 'void': 1833, 'none': 1831, 'console': 1822, 'getElementById': 1818, 'target': 1817, 'version': 1813, 'error': 1813, 'event': 1811, 'clearTimeout': 1810, 'removeChild': 1804, 'open': 1802, 'number': 1802, 'display': 1801, 'removeEventListener': 1799, 'instanceof': 1798, 'text': 1787, 'splice': 1785, 'url': 1785, 'protocol': 1784, 'click': 1784, 'get': 1776, 'onreadystatechange': 1773, 'log': 1769, 'position': 1761, 'random': 1759, 'max': 1759, 'title': 1759, 'getAttribute': 1759, 'innerHTML': 1758, 'JSON': 1752, 'round': 1748, 'className': 1748, 'search': 1743, 'parse': 1720, 'hidden': 1717, 'insertBefore': 1714, 'host': 1713, 'cookie': 1709, 'message': 1708, 'hostname': 1702, 'nodeType': 1694, 'set': 1681, 'remove': 1679, 'status': 1665, 'img': 1661, 'send': 1660, 'iframe': 1660, 'sort': 1659, 'min': 1658, 'constructor': 1650, 'px': 1645, 'nodeName': 1643, 'createTextNode': 1632, 'async': 1626, 'onerror': 1626, 'start': 1623, 'setInterval': 1623, 'now': 1618, 'charCodeAt': 1617, 'tagName': 1614, 'key': 1608, 'detachEvent': 1607, 'screen': 1607, 'forEach': 1601, 'XMLHttpRequest': 1597, 'clientHeight': 1597, 'referrer': 1595, 'clientWidth': 1593, 'add': 1593, 'contains': 1590, 'callback': 1588, 'innerHeight': 1582, 'clearInterval': 1580, 'right': 1580, 'ready': 1574, 'offsetWidth': 1567, 'create': 1565, 'hash': 1564, 'firstChild': 1561, '\\\\n': 1559, 'cssText': 1558, 'offsetHeight': 1556, 'bind': 1556, 'preventDefault': 1554, 'DOMContentLoaded': 1550, 'absolute': 1547, 'innerWidth': 1545, 'bottom': 1545, 'Image': 1543, 'options': 1543, 'childNodes': 1541, 'loaded': 1540, 'localStorage': 1538, 'overflow': 1536, 'scrollTop': 1533, 'focus': 1533, 'getComputedStyle': 1533, 'source': 1521, 'end': 1519, 'duration': 1516, 'domain': 1515, 'pathname': 1514, 'write': 1510, 'extend': 1507, 'size': 1503, 'getBoundingClientRect': 1497, 'close': 1497, 'keys': 1496, 'auto': 1494, 'html': 1494, 'querySelectorAll': 1490, 'GET': 1488, 'stop': 1488, 'filter': 1487, 'boolean': 1486, 'define': 1480, 'resize': 1480, 'color': 1478, 'class': 1475, 'origin': 1472, 'postMessage': 1469, 'css': 1467, 'state': 1467, 'link': 1465, 'off': 1465, 'responseText': 1465, 'scroll': 1462, 'time': 1460, 'info': 1457, 'srcElement': 1452, 'timeout': 1451, 'contentWindow': 1451, 'visible': 1448, 'debug': 1448, 'stopPropagation': 1448, 'method': 1447, 'ms': 1447, 'offset': 1446, 'textContent': 1446, 'button': 1443, 'URL': 1442, 'description': 1442, 'escape': 1436, 'all': 1432, 'select': 1432, 'input': 1431, 'margin': 1425, 'children': 1418, 'warn': 1417, 'span': 1414, 'reset': 1414, 'next': 1413, 'platform': 1411, 'content': 1410, 'clear': 1406, 'default': 1405, 'setRequestHeader': 1403, 'getItem': 1402, 'events': 1402, 'querySelector': 1400, 'rel': 1399, 'code': 1397, 'ActiveXObject': 1396, 'result': 1395, 'find': 1395, 'language': 1394, 'done': 1393, 'require': 1392, 'query': 1390, 'POST': 1387, 'show': 1386, 'blur': 1385, 'transform': 1381, 'setItem': 1381, 'Function': 1381, 'index': 1373, 'currentStyle': 1373, 'removeItem': 1370, 'scrollLeft': 1367, 'action': 1366, 'clientY': 1365, 'mousemove': 1365, 'update': 1362, 'http': 1361, 'nextSibling': 1359, 'withCredentials': 1358, 'count': 1358, 'element': 1357, 'pageY': 1355, 'label': 1355, 'plugins': 1353, 'innerText': 1346, 'mousedown': 1344, 'webkit': 1343, 'append': 1338, 'item': 1335, 'onclick': 1334, 'offsetTop': 1334, 'pageYOffset': 1332, 'mouseup': 1328, 'enabled': 1326, 'disabled': 1324, 'border': 1320, 'attributes': 1317, 'attr': 1314, '_blank': 1312, 'touchstart': 1311, 'clientX': 1310, 'from': 1308, 'TypeError': 1307, 'browser': 1306, 'db': 1306, 'mouseover': 1306, 'background': 1306, 'returnValue': 1303, 'context': 1301, 'pageX': 1300, 'submit': 1298, 'cloneNode': 1298, 'offsetLeft': 1296, 'frameElement': 1289, 'abort': 1286, 'getElementsByClassName': 1285, 'XDomainRequest': 1285, 'styleSheet': 1278, 'dispatchEvent': 1274, 'removeAttribute': 1271, 'touchend': 1269, 'image': 1265, 'Event': 1264, 'success': 1264, 'cache': 1262, 'scrollHeight': 1262, 'pageXOffset': 1257, 'pause': 1257, 'compatMode': 1255, 'mouseout': 1252, 'video': 1250, 'then': 1248, 'keyCode': 1248, 'ontouchstart': 1245, 'detail': 1244, 'handler': 1240, 'addListener': 1239, 'fill': 1238, 'loading': 1236, 'format': 1232, 'touchmove': 1232, 'frameBorder': 1230, 'array': 1228, 'startTime': 1228, 'cursor': 1227, 'cancelBubble': 1226, 'email': 1225, 'createEvent': 1221, 'enable': 1221, 'track': 1219, 'readystatechange': 1213, 'NaN': 1212, 'tag': 1209, 'defaultView': 1206, 'Boolean': 1203, 'canvas': 1202, 'classList': 1200, 'form': 1198, 'offsetParent': 1195, 'node': 1195, 'parentElement': 1194, 'unknown': 1193, 'table': 1193, 'scrolling': 1192, 'onmessage': 1189, 'ownerDocument': 1187, 'play': 1186, 'which': 1184, 'initialize': 1184, 'getPropertyValue': 1184, 'appVersion': 1184, 'always': 1183, 'prop': 1183, 'client': 1181, 'view': 1181, 'center': 1178, 'clone': 1176, 'appName': 1174, 'request': 1173, 'performance': 1168, 'replaceChild': 1168, 'pc': 1161, 'first': 1159, 'charset': 1158, 'file': 1157, 'clientLeft': 1157, 'touch': 1154, 'port': 1152, 'clientTop': 1152, 'toJSON': 1150, 'nodeValue': 1146, 'empty': 1145, 'user': 1145, 'response': 1143, 'as': 1143, 'base': 1142, 'json': 1141, 'getContext': 1140, 'other': 1137, 'pt': 1134, 'currentTarget': 1132, 'lang': 1131, 'Infinity': 1131, 'unload': 1130, 'keydown': 1128, 'encode': 1125, 'notify': 1124, 'save': 1123, 'scrollWidth': 1120, 'vendor': 1119, 'checked': 1119, 'progress': 1117, 'ctrlKey': 1116, 'change': 1116, 'beforeunload': 1114, 'refresh': 1113, 'sessionStorage': 1112, 'wrap': 1110, 'removeListener': 1110, 'alt': 1109, 'orientation': 1109, 'ch': 1108, 'matches': 1105, 'alert': 1105, 'disable': 1105, 'metaKey': 1099, 'contentDocument': 1099, 'delay': 1098, 'vb': 1098, 'relatedTarget': 1097, 'mode': 1095, 'group': 1095, 'hasAttribute': 1095, 'before': 1095, 'mimeTypes': 1094, 'ext': 1094, 'tracker': 1092, 'touches': 1091, 'colorDepth': 1088, 'prefix': 1088, 'paused': 1087, 'frame': 1085, 'lastChild': 1084, 'timestamp': 1084, 'addEvent': 1081, 'elements': 1079, 'shiftKey': 1078, 'reverse': 1077, 'product': 1077, 'role': 1077, 'history': 1076, 'mouseleave': 1075, 'active': 1074, 'outerWidth': 1073, 'interval': 1073, 'font': 1073, 'transition': 1069, 'cookieEnabled': 1067, 'dir': 1066, 'addRule': 1066, 'onprogress': 1066, 'ss': 1065, 'scale': 1064, 'previousSibling': 1064, 'middle': 1062, 'range': 1061, 'finish': 1061, 'defer': 1053, 'textAlign': 1053, 'embed': 1051, 'cancel': 1051, 'list': 1047, 'buffer': 1047, 'changedTouches': 1045, 'items': 1043, 'root': 1043, 'textarea': 1042, 'offsetX': 1041, 'offsetY': 1041, 'observe': 1040, 'channel': 1039, 'headers': 1039, 'register': 1037, 'normal': 1036, 'autoplay': 1035, 'after': 1034, 'enabledPlugin': 1029, 'MutationObserver': 1029, 'put': 1028, 'ic': 1027, 'media': 1023, 'valueOf': 1022, 'navigation': 1020, 'float': 1019, 'touchcancel': 1019, 'dom': 1018, 'cy': 1018, 'activeElement': 1018, 'checkbox': 1015, 'styleSheets': 1015, 'zoom': 1012, 'devicePixelRatio': 1010, 'handle': 1009, 'check': 1007, 'for': 1007, 'rect': 1005, 'identifier': 1005, 'keyup': 1001, 'ERROR': 1001, 'line': 1000, 'createDocumentFragment': 1000, 'animate': 999, 'prepend': 999, 'go': 997, 'up': 996, 'requestAnimationFrame': 996, 'resume': 995, 'reject': 993, 'vertical': 993, 'bubbles': 993, 'mouseenter': 991, 'outerHeight': 991, 'cssRules': 991, 'outerHTML': 990, 'CustomEvent': 989, 'storage': 988, 'currentTime': 988, 'td': 983, 'visibilitychange': 982, 'reload': 982, 'level': 982, 'flush': 980, 'step': 980, 'fireEvent': 980, 'propertyIsEnumerable': 980, 'decode': 979, 'rules': 977, 'altKey': 975, '__proto__': 974, 'urls': 970, 'fr': 970, 'toggle': 969, 'locale': 968, 'yes': 967, 'ended': 966, 'timing': 965, 'scrollTo': 965, 'normalize': 964, 'Element': 964, 'sheet': 961, 'expires': 959, 'device': 959, 'Gecko': 958, 'inherit': 955, 'selected': 954, 'viewport': 953, 'cm': 953, 'not': 953, 'listener': 952, 'controls': 941, 'down': 940, 'clip': 939, 'ip': 939, 'local': 939, 'javaEnabled': 937, 'screenX': 937, 'screenY': 937, 'cancelable': 937, 'stroke': 935, 'keypress': 935, 'charCode': 934, 'moz': 930, 'scope': 927, 'compareDocumentPosition': 927, 'tabIndex': 927, 'password': 926, 'trace': 926, 'orientationchange': 926, 'responseEnd': 925, 'detach': 925, 'dblclick': 924, 'subscribe': 923, 'total': 923, 'scripts': 922, 'option': 922, 'htmlFor': 922, 'copy': 921, 'align': 919, 'ratio': 919, 'uri': 917, 'any': 917, 'order': 917, 'closed': 917, 'characterData': 915, 'promise': 914, 'insertRule': 914, 'initEvent': 913, 'mousewheel': 913, 'cx': 911, 'navigationStart': 910, 'ii': 909, 'fetch': 908, 'sync': 906, 'handleEvent': 906, 'focusin': 906, 'pattern': 905, 'translate': 903, 'started': 899, 'volume': 898, 'files': 895, 'HTMLElement': 895, 'token': 894, 'include': 893, 'filename': 893, 'has': 889, 'external': 888, 'move': 888, 'rtl': 888, 'radio': 887, 'timeupdate': 887, 'tabindex': 885, 'th': 885, 'indexedDB': 885, 'priority': 884, 'properties': 884, 'direction': 882, 'toLocaleString': 882, 'loop': 882, 'wheelDelta': 880, 'DOMMouseScroll': 880, 'userLanguage': 879, 'download': 879, 'sendMessage': 877, 'equals': 877, 'current': 874, 'filters': 871, 'closest': 868, 'playing': 868, 'requestStart': 866, 'metadata': 866, 'axis': 863, 'dx': 862, 'rotation': 862, 'values': 862, 'maxlength': 861, 'maxLength': 860, 'custom': 859, 'defaultPrevented': 858, 'setData': 857, 'onmouseover': 857, 'links': 855, 'exit': 854, 'nowrap': 853, 'results': 853, 'gl': 852, 'scrollY': 851, 'responseStart': 850, 'onfocus': 850, 'fx': 849, 'flash': 849, 'focusout': 849, 'pagehide': 846, 'onblur': 846, 'statusText': 843, 'utils': 842, 'btoa': 842, 'audio': 842, 'answer': 841, 'out': 840, 'arc': 840, 'FileReader': 840, 'force': 837, 'onmouseout': 833, 'read': 833, 'linear': 831, 'pageshow': 831, 'timeStamp': 830, 'static': 830, 'loadEventStart': 829, 'mm': 828, 'setImmediate': 827, 'store': 825, 'defaultValue': 825, 'ctx': 822, 'unique': 822, 'pointerup': 818, 'pixelDepth': 818, 'poster': 818, 'encoding': 817, 'mark': 816, 'connection': 815, 'Promise': 815, 'exception': 815, 'availWidth': 815, 'domInteractive': 814, 'stopImmediatePropagation': 814, 'enter': 814, 'visibilityState': 811, 'collapse': 811, 'types': 810, 'fillStyle': 810, 'identity': 808, 'ty': 806, 'onMessage': 804, 'waiting': 803, 'network': 801, 'Netscape': 800, 'animation': 799, 'hashchange': 799, 'ontimeout': 796, 'foo': 793, 'onunload': 793, 'col': 793, 'sessionId': 793, 'onmousewheel': 792, 'behavior': 791, 'Text': 790, 'domainLookupStart': 789, 'connectEnd': 789, 'getSelection': 789, 'connectStart': 788, 'onmousedown': 787, 'useMap': 787, 'blob': 787, 'rotate': 785, 'when': 783, 'doNotTrack': 782, 'x2': 780, 'nextElementSibling': 780, 'cellspacing': 779, 'cellpadding': 779, 'domainLookupEnd': 778, 'pushState': 778, 'images': 778, 'cellPadding': 778, 'cellSpacing': 778, 'pointerdown': 777, 'javascript': 776, 'availHeight': 775, 'fillRect': 775, 'colSpan': 773, 'process': 772, 'pointermove': 772, 'createRange': 772, 'req': 771, 'stopped': 769, 'country': 768, 'connected': 768, 'fetchStart': 767, 'usemap': 766, 'rowspan': 766, 'rowSpan': 766, 'colspan': 766, 'basic': 766, 'dy': 765, 'alpha': 765, 'disconnect': 763, 'matrix': 762, 'buttons': 762, 'angle': 761, 'ping': 761, 'getElementsByName': 760, 'redirectStart': 759, 'redirectEnd': 759, 'childList': 757, 'getData': 755, 'browserLanguage': 754, 'icon': 754, 'core': 753, 'fillText': 753, 'speed': 752, 'layout': 751, 'crypto': 751, 'lh': 750, 'counter': 749, 'mozilla': 747, 'drop': 747, 'drag': 746, 'easing': 746, 'SyntaxError': 746, 'loadEventEnd': 745, 'setProperty': 744, 'onscroll': 743, 'allowfullscreen': 742, 'tel': 742, 'ltr': 741, 'cssFloat': 741, 'blocked': 741, 'hh': 740, 'ArrayBuffer': 740, 'remote': 740, 'characterSet': 739, 'toDataURL': 739, 'DOMNodeInserted': 739, 'initCustomEvent': 738, 'labels': 737, 'createElementNS': 737, 'domContentLoadedEventStart': 734, 'WebSocket': 734, 'lineNumber': 732, 'msMatchesSelector': 732, 'mozMatchesSelector': 732, 'webkitMatchesSelector': 732, 'selectedIndex': 730, 'shape': 726, 'Node': 726, 'preload': 725, 'webgl': 725, 'lines': 724, 'fullscreen': 723, 'measure': 722, 'propertyName': 722, 'responseType': 721, 'sx': 719, 'writable': 719, 'threshold': 718, 'transaction': 718, 'onresize': 718, 'getAllResponseHeaders': 717, 'radius': 715, 'hasFocus': 714, 'connect': 713, 'cors': 713, 'mozRequestAnimationFrame': 713, 'domLoading': 712, 'layerX': 712, 'layerY': 712, 'manifest': 712, 'marginWidth': 712, 'marginHeight': 712, 'reason': 709, 'isSupported': 708, 'weight': 707, 'parameters': 706, 'flags': 705, 'menu': 705, 'login': 702, 'endpoint': 702, 'Uint32Array': 702, 'amount': 702, 'removeRule': 700, 'onclose': 699, 'release': 699, 'domComplete': 698, 'resource': 697, 'getClientRects': 697, 'specified': 696, 'pointerType': 695, 'sendBeacon': 693, 'scrollX': 693, 'canPlayType': 692, 'contentType': 691, 'if': 690, 'oMatchesSelector': 689, 'dataset': 689, 'sdp': 689, 'domContentLoadedEventEnd': 687, 'onopen': 687, 'draggable': 686, 'unloadEventStart': 685, 'region': 685, 'pan': 685, 'textBaseline': 685, 'targetTouches': 685, 'contextmenu': 684, 'onkeydown': 683, 'opened': 683, 'wheelDeltaX': 682, 'wheelDeltaY': 682, 'rate': 682, 'phone': 681, 'required': 679, 'unit': 679, 'popup': 678, 'matchMedia': 677, 'initMouseEvent': 677, 'forms': 676, 'addAll': 676, 'Uint8Array': 676, 'rx': 674, 'namespaceURI': 674, 'fy': 674, 'endTime': 674, 'unloadEventEnd': 673, 'alphabetic': 671, 'repeat': 671, 'home': 670, 'signal': 669, 'previous': 669, 'evaluate': 668, 'lock': 668, 'readonly': 667, 'scrollIntoView': 666, 'doctype': 666, 'prerender': 664, 'upload': 664, 'slide': 664, 'control': 663, 'isPrototypeOf': 663, 'placeholder': 663, 'pointerId': 662, 'getState': 660, 'sum': 660, 'redirect': 660, 'tooltip': 658, 'deltaY': 655, 'seed': 655, 'lineWidth': 654, 'assert': 654, 'beta': 653, 'DOMNodeRemoved': 651, 'both': 650, 'wheel': 649, 'RangeError': 649, 'Uint16Array': 648, 'currency': 648, 'retry': 648, 'rows': 646, 'timeline': 646, 'scheme': 646, 'fileName': 645, 'Blob': 645, 'suffix': 645, 'Name': 644, 'address': 642, 'buffered': 642, 'subtree': 639, 'replaceWith': 638, 'features': 638, 'replaceState': 638, 'deg': 638, 'maxTouchPoints': 638, 'point': 637, 'bounds': 636, 'words': 636, 'Float32Array': 635, 'txt': 634, 'firstElementChild': 633, 'percent': 631, 'high': 631, 'canplay': 630, 'ELEMENT_NODE': 629, 'heading': 628, 'sub': 628, 'iceServers': 626, 'onabort': 625, 'LOADING': 625, 'deleteRule': 624, 'eventHandler': 623, 'focused': 623, 'File': 623, 'getAttributeNode': 622, 'addedNodes': 621, 'getCurrentTime': 621, 'valign': 619, 'vAlign': 619, 'isEnabled': 618, 'getName': 615, 'com': 615, 'onselectstart': 613, 'deltaX': 612, 'volumechange': 612, 'service': 611, 'suffixes': 611, 'accelerationIncludingGravity': 611, 'devicemotion': 611, 'enqueue': 610, 'ry': 608, 'durationchange': 608, 'caches': 606, 'readOnly': 606, 'ontouchend': 605, 'iterator': 605, 'record': 603, 'share': 602, 'sizes': 602, 'aborted': 602, 'drawImage': 602, 'kind': 600, 'effect': 599, 'slot': 598, 'secureConnectionStart': 597, 'services': 597, 'Window': 597, 'finished': 597, 'transitionend': 596, 'overrideMimeType': 596, 'HORIZONTAL_AXIS': 595, 'Animation': 595, 'atob': 594, 'digest': 594, 'RTCPeerConnection': 594, 'startAngle': 593, 'dragstart': 593, 'failed': 593, 'getEntriesByType': 592, 'idle': 592, 'MediaSource': 592, 'salt': 592, 'rid': 591, 'notifications': 590, 'initiatorType': 588, 'square': 588, 'onbeforeunload': 588, 'elementFromPoint': 588, 'integer': 588, 'summary': 588, 'seeking': 585, 'seeked': 585, 'task': 585, 'SVGElement': 582, 'entries': 582, 'itemId': 582, 'candidate': 582, 'fallback': 581, 'Plugin': 581, 'groupEnd': 581, 'contenteditable': 581, 'popstate': 580, 'over': 580, 'onicecandidate': 580, 'setLocalDescription': 580, 'createDataChannel': 580, 'createOffer': 580, 'points': 579, 'DONE': 579, 'naturalWidth': 576, 'muted': 576, 'Map': 574, 'Index': 574, 'rp': 574, 'responseXML': 574, 'compact': 571, 'rangeCount': 569, 'msFirstPaint': 568, 'HTMLDocument': 568, 'getParameter': 567, 'new': 567, 'contentEditable': 566, 'char': 566, 'VERTICAL_AXIS': 566, 'observer': 566, 'insertAdjacentHTML': 565, 'deviceorientation': 564, 'gamma': 564, 'MouseEvent': 563, 'unsubscribe': 563, 'broadcast': 563, 'cancelAnimationFrame': 562, 'redirectCount': 562, 'getRandomValues': 561, 'variant': 561, 'getStats': 560, 'sender': 559, 'milliseconds': 559, 'offer': 558, 'onchange': 556, 'displayName': 554, 'navigate': 553, 'defaultChecked': 553, 'city': 552, 'verify': 552, 'containerId': 551, 'loadend': 551, 'createSVGRect': 550, 'stream': 550, 'xml': 550, 'Document': 550, 'persisted': 549, 'isFile': 549, 'pointercancel': 548, 'receiver': 547, 'dst': 547, 'createObjectURL': 546, 'flatten': 546, 'bgcolor': 545, 'sample': 545, 'install': 543, 'newValue': 543, 'getRangeAt': 542, 'pending': 542, 'sandbox': 542, 'localDescription': 541, 'loadeddata': 541, 'supported': 540, 'ontouchmove': 539, 'suspend': 539, 'Point': 538, 'DOMAttrModified': 538, 'onsuccess': 536, 'mimeType': 536, 'low': 535, 'contrast': 534, 'print': 534, 'currentScript': 534, 'fatal': 534, 'only': 533, 'autocomplete': 532, 'caller': 532, 'getAll': 531, 'COMMENT_NODE': 530, 'loadedmetadata': 528, 'onupgradeneeded': 527, 'objectStore': 527, 'readwrite': 527, 'createObjectStore': 527, 'keyPath': 527, 'systemLanguage': 526, 'mailto': 526, 'NodeList': 525, 'dump': 524, 'row': 524, 'timeEnd': 523, 'anchorNode': 523, 'focusNode': 523, 'onsubmit': 522, 'isBuffer': 522, 'onmousemove': 521, 'targetElement': 521, 'currentSrc': 521, 'follow': 519, 'fullPath': 519, 'caption': 516, 'DeviceOrientationEvent': 516, 'reversed': 515, 'skewY': 515, 'skewX': 515, 'clientId': 515, 'anchorOffset': 515, 'focusOffset': 515, 'played': 515, 'family': 514, 'pad': 513, 'Storage': 512, 'confirm': 512, 'activate': 511, 'upgrade': 509, 'trailer': 509, 'shipping': 509, 'inactive': 508, 'grep': 508, 'transport': 508, 'credentials': 508, 'productId': 507, 'multiple': 507, 'Touch': 507, 'getEntries': 506, 'fonts': 505, 'datetime': 505, 'p1': 505, 'watch': 503, 'channels': 503, 'getImageData': 503, 'statusCode': 503, 'hspace': 502, 'vspace': 502, 'coords': 502, 'FileList': 502, 'readAsArrayBuffer': 502, 'provider': 500, 'manual': 499, 'getEntriesByName': 498, 'endOfStream': 498, 'command': 497, 'stalled': 497, 'signature': 495, 'createComment': 494, 'onkeyup': 494, 'closePath': 494, 'beginPath': 494, 'w3': 493, 'execCommand': 492, 'frequency': 491, 'allowFullScreen': 490, 'baseURI': 489, 'TouchEvent': 487, 'tabs': 486, 'selectNode': 486, 'NONE': 485, 'portNumber': 485, 'collapsed': 485, 'notification': 484, 'nodes': 484, 'byteLength': 484, 'restore': 484, 'newURL': 484, 'moveTo': 483, 'Worker': 482, 'bufferSize': 482, 'onend': 482, 'onwheel': 481, 'oldValue': 481, 'videoHeight': 480, 'controller': 480, 'Position': 479, 'publicId': 478, 'username': 477, 'selectionStart': 477, 'registerElement': 477, 'Int32Array': 477, 'setAttributeNS': 475, 'online': 475, 'long': 474, 'removeProperty': 474, 'latency': 474, 'chunks': 472, 'oniceconnectionstatechange': 472, 'RTCIceCandidate': 472, 'iceConnectionState': 472, 'ondatachannel': 472, 'addIceCandidate': 472, 'createAnswer': 472, 'setRemoteDescription': 472, 'signalingState': 472, 'onnegotiationneeded': 472, 'RTCSessionDescription': 472, 'videoWidth': 471, 'colgroup': 471, 'toolbar': 470, 'port2': 470, 'MessageChannel': 470, 'port1': 470, 'HTMLVideoElement': 470, 'selectorText': 470, 'paste': 469, 'revokeObjectURL': 467, 'operation': 466, 'DocumentTouch': 466, 'm41': 466, 'm42': 466, 'getResponseHeader': 466, 'Uint8ClampedArray': 466, 'lastElementChild': 464, 'velocityY': 464, 'velocityX': 464, 'onfinish': 463, 'ancestorOrigins': 463, 'screenLeft': 461, 'screenTop': 461, 'byteOffset': 461, 'Float64Array': 461, 'presentation': 460, 'sign': 460, 'prompt': 460, 'globalAlpha': 459, 'addColorStop': 459, 'createLinearGradient': 459, 'OPENED': 459, 'unregister': 458, 'CSS': 456, 'scrollbars': 456, 'requestId': 456, 'rem': 456, 'fullscreenElement': 456, 'mozFullScreenElement': 456, 'webkitFullscreenElement': 456, 'monitor': 455, 'truncate': 455, 'parseFromString': 455, 'DOMParser': 455, 'pixels': 454, 'regions': 453, 'languages': 453, 'mute': 453, 'double': 452, 'removedNodes': 452, 'strings': 450, 'selectionEnd': 450, 'CLOSED': 449, 'globalCompositeOperation': 448, 'oldURL': 447, 'p3': 446, 'scriptURL': 446, 'clearRect': 446, 'accept': 445, 'touched': 444, 'profile': 444, 'TEXT_NODE': 442, 'onpagehide': 441, 'ipAddress': 441, 'axes': 439, 'variable': 438, 'near': 438, 'readAsText': 438, 'extensions': 438, 'maxBitrate': 438, 'codec': 438, 'deviceId': 437, 'ownerNode': 435, 'cite': 435, 'removeAllRanges': 433, 'registration': 432, 'strokeStyle': 432, 'getKey': 432, 'spacing': 431, 'systemId': 431, 'getBBox': 430, 'openWindow': 430, 'mapping': 430, 'operator': 429, 'EventListener': 428, 'selectstart': 427, 'runtimeStyle': 427, 'enctype': 427, 'DOCUMENT_NODE': 426, 'installed': 425, 'TIMEOUT': 425, 'oscpu': 424, 'createAttribute': 424, 'setAttributeNode': 424, 'attribution': 423, 'endAngle': 420, 'WebGLRenderingContext': 420, 'capabilities': 418, 'exitFullscreen': 418, 'dataTransfer': 417, 'getBoxObjectFor': 416, 'actions': 415, 'Request': 415, 'mozCancelFullScreen': 415, 'getPreventDefault': 415, 'PROCESSING_INSTRUCTION_NODE': 415, 'CDATA_SECTION_NODE': 415, 'ENTITY_NODE': 415, 'ENTITY_REFERENCE_NODE': 415, 'NOTATION_NODE': 415, 'ATTRIBUTE_NODE': 415, 'DOCUMENT_TYPE_NODE': 415, 'DOCUMENT_FRAGMENT_NODE': 415, 'availTop': 414, 'readable': 414, 'appendBuffer': 414, 'timeRemaining': 414, 'statusMessage': 414, 'arraybuffer': 414, 'sourceopen': 414, 'getReader': 414, 'Int8Array': 414, 'remoteDescription': 414, 'mediasource': 414, 'UNSENT': 414, 'sdpMid': 414, 'Metadata': 414, 'addStream': 414, 'DataView': 414, 'addSourceBuffer': 414, 'bufferedAmount': 414, 'iceGatheringState': 414, 'TextEncoder': 414, 'reserve': 414, 'videoTracks': 414, 'candidateType': 414, 'TextDecoder': 414, 'isTypeSupported': 414, 'audioTracks': 414, 'subtle': 414, 'highWaterMark': 414, 'onsignalingstatechange': 414, 'binaryType': 414, 'getTrackById': 414, 'FileReaderSync': 414, 'updating': 414, 'sdpMLineIndex': 414, 'onaddstream': 414, 'Int16Array': 414, 'onmouseenter': 413, 'invalid': 412, 'compositionupdate': 412, 'compositionstart': 412, 'compositionend': 412, 'privacy': 411, 'setPosition': 411, 'locked': 411, 'loadstart': 411, 'negative': 410, 'geolocation': 408, 'battery': 408, 'adData': 408, 'wifi': 407, 'longitude': 407, 'latitude': 407, 'permission': 407, 'unmute': 407, 'addRange': 406, 'allow': 406, 'iterateNext': 404, 'createRadialGradient': 403, 'putImageData': 403, 'FormData': 403, 'attributeName': 402, 'WheelEvent': 402, 'shadowRoot': 401, 'embeds': 400, 'stretch': 400, 'Mozilla': 398, 'assign': 397, 'spellcheck': 396, 'attributeFilter': 395, 'png': 394, 'offline': 393, 'statechange': 393, 'fullscreenchange': 393, 'msExitFullscreen': 393, 'emptied': 393, 'DeviceMotionEvent': 393, 'requestFullscreen': 393, 'msFullscreenElement': 393, 'objectStoreNames': 392, 'updatePosition': 391, 'gestureend': 389, 'denied': 389, 'continue': 388, 'releaseCapture': 388, 'setCapture': 388, 'eventPhase': 388, 'formaction': 387, 'cellular': 386, 'setEnd': 386, 'lineno': 386, 'newName': 386, 'onbeforescriptexecute': 386, 'createShadowRoot': 386, 'canplaythrough': 386, 'didTimeout': 386, 'onpointerdown': 386, 'HTMLMediaElement': 386, 'beforescriptexecute': 386, 'acceleration': 386, 'symbols': 385, 'mozInnerScreenX': 385, 'getSupportedExtensions': 384, 'picture': 383, 'terminate': 382, 'clients': 381, 'groupCollapsed': 381, 'org': 380, 'p4': 379, 'security': 379, 'productSub': 379, 'writeln': 378, 'HTMLCanvasElement': 377, 'onpageshow': 376, 'responseURL': 376, 'component': 375, 'endOffset': 374, 'startOffset': 374, 'HMAC': 373, 'forceRedraw': 372, 'preserveAspectRatio': 372, 'gradientUnits': 372, 'brightness': 372, 'autoIncrement': 372, 'userSpaceOnUse': 372, 'sorted': 372, 'setScale': 372, 'Counter': 371, 'PointerEvent': 371, 'uninitialized': 371, 'keyboard': 370, 'NULL': 367, 'setTransform': 365, 'naturalHeight': 364, 'sampleRate': 364, 'mozPaintCount': 364, 'globalStorage': 362, 'srcset': 361, 'rad': 360, 'passive': 357, 'Navigator': 356, 'iterations': 356, 'autocapitalize': 355, 'autofocus': 355, 'oncopy': 355, 'motion': 355, 'clipboardData': 355, 'dragenter': 355, 'radiusY': 355, 'setStart': 355, 'setDragImage': 355, 'bias': 355, 'setCursor': 355, 'commonAncestorContainer': 355, 'radiusX': 355, 'dragover': 355, 'clearData': 355, 'ranges': 355, 'Media': 355, 'onshow': 354, 'anchors': 352, 'lineTo': 352, 'EventTarget': 352, 'useCapture': 351, 'entryType': 350, 'aspectRatio': 350, 'animationend': 350, 'system': 350, 'dragleave': 349, 'WebKitCSSMatrix': 349, 'setTranslate': 349, 'sidebar': 349, 'cmp': 348, 'shadowOffsetY': 347, 'shadowOffsetX': 347, 'shadowColor': 347, 'yoffset': 347, 'xoffset': 347, 'IN': 346, 'unlock': 341, 'availLeft': 340, 'tcp': 339, 'Message': 337, 'getBounds': 337, 'appCodeName': 336, 'lower': 335, 'onorientationchange': 335, 'hint': 334, 'shaderSource': 334, 'uniform2f': 334, 'vertexAttribPointer': 334, 'getUniformLocation': 334, 'bindBuffer': 334, 'useProgram': 334, 'linkProgram': 334, 'attachShader': 334, 'createProgram': 334, 'bufferData': 334, 'ARRAY_BUFFER': 334, 'createShader': 334, 'enableVertexAttribArray': 334, 'createBuffer': 334, 'drawArrays': 334, 'getAttribLocation': 334, 'FLOAT': 334, 'compileShader': 334, 'crash': 334, 'LOADED': 332, 'History': 332, 'onmouseleave': 331, 'mul': 331, 'animationName': 330, 'standalone': 330, 'alternate': 330, 'policy': 330, 'mediaSession': 330, 'CONNECTING': 330, 'contextMenu': 330, 'connections': 330, 'protocols': 330, 'rangeMin': 330, 'getShaderPrecisionFormat': 330, 'precision': 330, 'getExtension': 330, 'MAX_TEXTURE_MAX_ANISOTROPY_EXT': 330, 'rangeMax': 330, 'NEXT': 327, 'memory': 326, 'StyleSheetList': 325, 'lineCap': 325, 'xor': 324, 'hardwareConcurrency': 324, 'Location': 323, 'strokeText': 321, 'insertRow': 321, 'implementation': 320, 'mozInnerScreenY': 320, 'setStyles': 320, 'OPEN': 319, 'details': 318, 'methodName': 316, 'PC': 316, 'ondragstart': 316, 'singleNodeValue': 316, 'usage': 315, 'gbk': 315, 'colno': 314, 'never': 311, 'resultType': 310, 'balanced': 310, 'hasChildNodes': 309, 'pseudo': 309, '__defineGetter__': 306, 'codebase': 305, 'Response': 305, 'bezierCurveTo': 305, 'onLine': 303, 'Cache': 302, 'attributeOldValue': 302, 'DOMCharacterDataModified': 302, 'back': 301, 'xmlhttprequest': 300, 'jcb': 298, 'wasClean': 298, 'hasFeature': 297, 'destination': 297, 'ports': 297, 'importScripts': 297, 'createTouch': 297, 'createIndex': 297, 'createImageData': 297, 'createTouchList': 297, 'setSelectionRange': 297, 'webkitGetUserMedia': 296, 'addModule': 296, 'clipboard': 295, 'languageCode': 294, 'credit': 294, 'Report': 293, 'keygen': 292, 'inverse': 292, 'Components': 292, 'InvalidCharacterError': 290, 'granted': 290, 'Notification': 290, 'PushManager': 290, 'serviceWorker': 290, 'pushManager': 290, 'permissions': 290, 'CM': 289, 'deleteDatabase': 289, 'getFile': 289, 'xpi': 287, 'insertAdjacentElement': 287, 'textLength': 287, 'serializeToString': 287, 'XMLSerializer': 287, 'bgColor': 286, 'additionalData': 285, 'characterDataOldValue': 284, 'minlength': 282, 'duplicate': 281, 'webkitBackingStorePixelRatio': 281, 'onpause': 280, 'reliable': 280, 'productName': 279, 'acceptCharset': 278, 'advance': 278, 'm31': 278, 'deleted': 277, 'checkValidity': 277, 'getNamedItem': 276, 'Iterator': 275, 'taintEnabled': 275, 'readAsDataURL': 275, 'upper': 275, 'PING': 274, 'getUserData': 274, 'documentURI': 274, 'depthFunc': 274, 'isPointInPath': 274, 'getContextAttributes': 274, 'EXT_texture_filter_anisotropic': 274, 'clearColor': 274, 'evenodd': 274, 'toSource': 274, 'multiply': 274, 'startup': 273, 'MS': 273, 'decrypt': 272, 'seekable': 272, 'MEDIA_ERR_NETWORK': 272, 'MEDIA_ERR_SRC_NOT_SUPPORTED': 272, 'MEDIA_ERR_DECODE': 272, 'dirxml': 271, 'profileEnd': 271, 'previousElementSibling': 269, 'currentTranslate': 269, 'nested': 269, 'scrollBy': 268, 'PT': 268, 'validity': 267, 'animationstart': 267, 'oncontextmenu': 267, 'dpi': 267, 'accessKey': 266, 'deleteRow': 265, 'UnknownError': 265, 'clearImmediate': 264, 'ondrop': 263, 'archive': 263, 'getBattery': 263, 'SecurityError': 263, 'onhashchange': 260, 'mir': 259, 'Console': 259, 'errorCallback': 258, 'cells': 258, 'application': 257, 'importNode': 257, 'm14': 256, 'm11': 256, 'm13': 256, 'm12': 256, 'rowIndex': 255, 'Method': 255, 'statusbar': 255, 'showModal': 254, 'm44': 254, 'm43': 254, 'messageType': 253, 'tls': 251, 'sse': 251, 'dtx': 251, 'Performance': 250, 'm32': 249, 'm34': 249, 'mms': 248, 'vpn': 248, 'udp': 247, 'algorithm': 247, 'encrypt': 247, 'vtt': 247, 'ttt': 246, 'fec': 246, 'iii': 246, 'csp': 246, 'scrollingElement': 244, 'getParent': 244, 'gfx': 244, 'idl': 244, 'in1': 244, 'getComputedTextLength': 243, 'silent': 243, 'shadowBlur': 243, 'rtx': 242, 'rtt': 242, 'onkeypress': 241, 'takeRecords': 241, 'HTMLSelectElement': 241, 'MutationEvent': 241, 'HTMLInputElement': 241, 'HTMLTextAreaElement': 241, 'relatedNode': 241, 'animVal': 241, 'attributeNamespace': 241, 'srcdoc': 241, 'attachment': 240, 'baseVal': 236, 'example': 235, 'crossOrigin': 235, 'linkColor': 232, 'KeyboardEvent': 232, 'touchleave': 231, 'badge': 229, 'HTMLCollection': 228, 'areas': 227, 'pointerout': 226, 'XPathResult': 226, 'lastModified': 226, 'public': 223, 'onvisibilitychange': 222, 'onafterprint': 221, 'onbeforeprint': 221, 'gap': 220, 'includes': 220, 'loginUrl': 218, 'cloneRange': 218, 'inputs': 217, 'NodeFilter': 217, 'touchenter': 216, 'StorageManager': 216, 'bound': 216, 'maxValue': 214, 'ProgressEvent': 214, 'collection': 213, 'isSync': 213, 'exact': 213, 'menubar': 212, 'respondWith': 212, 'requestPermission': 212, 'notificationclick': 212, 'showNotification': 212, 'ServiceWorkerRegistration': 212, 'getTags': 212, 'subscriptionId': 212, 'matchAll': 212, 'installing': 212, 'getRegistration': 212, 'waitUntil': 212, 'openCursor': 212, 'onmouseup': 212, 'pname': 212, 'declare': 212, 'scrollMaxY': 212, 'delivery': 211, 'lineJoin': 211, 'isIdentity': 211, 'butt': 211, 'quadraticCurveTo': 211, 'bevel': 211, 'miterLimit': 211, 'miter': 211, 'getAnimations': 211, 'arcTo': 211, 'createPattern': 211, 'measureText': 211, 'mozGetUserMedia': 209, 'sctp': 209, 'MEDIA_ERR_ABORTED': 209, 'PBKDF2': 209, 'currentState': 209, 'forward': 208, 'webdriver': 208, 'pathSegList': 208, 'getTotalLength': 208, 'yOrient': 208, 'xOrient': 208, 'dragend': 208, 'allowFullscreen': 207, 'yPos': 206, 'fullScreen': 206, 'scrollAmount': 204, 'MozMousePixelScroll': 204, 'deltaMode': 204, 'ontouchcancel': 204, 'elevation': 204, 'pitch': 204, 'voice': 203, 'Body': 203, 'appearance': 202, 'amex': 202, 'InstallTrigger': 202, 'setStringValue': 200, 'getStringValue': 200, 'getFloatValue': 200, 'radiogroup': 200, 'setFloatValue': 200, 'getNotifications': 200, 'onclosed': 200, 'ctrl': 199, 'challenge': 199, 'short': 197, 'originalTarget': 197, 'WindowProxy': 197, 'toJson': 197, 'getCTM': 195, 'scoped': 195, 'MessageEvent': 195, 'WebKitPoint': 195, 'recipient': 194, 'httpEquiv': 193, 'buildID': 193, 'netinfo': 192, 'encrypted': 192, 'xPos': 191, 'platforms': 191, 'applicationCache': 190, 'valueType': 189, 'productVersion': 189, 'commit': 188, 'serviceWorkerRegistration': 187, 'curve': 186, 'LINEAR': 186, 'HTMLAudioElement': 185, 'docCookies': 185, 'typeName': 183, 'closeMessage': 183, 'TEMPORARY': 182, 'createWriter': 182, 'IDBTransaction': 182, 'IDBKeyRange': 182, 'onloadend': 182, 'requestFileSystem': 182, 'argument': 181, 'unwatch': 180, 'imageWidth': 180, 'imageHeight': 180, 'wget': 177, 'this': 177, 'indicate': 177, 'AudioContext': 176, 'getAttributeNS': 175, 'storeName': 174, 'outerText': 174, 'rootNode': 174, 'getSubscription': 174, 'worker': 172, 'intercept': 172, 'onconnect': 172, 'SharedWorker': 172, 'discover': 172, 'compareNode': 172, 'respond': 172, 'IndexedDB': 172, 'continuous': 170, 'getParameters': 170, 'entities': 169, 'updatePage': 169, 'Client': 168, 'successCallback': 166, 'expiration': 166, 'formData': 165, 'clearMeasures': 165, 'clearMarks': 165, 'unmuted': 164, 'getFrameData': 164, 'accessibility': 162, 'currentDirection': 162, 'appendData': 162, 'characters': 162, 'supports': 162, 'viewBox': 162, 'face': 162, 'minLength': 160, 'delayTime': 159, 'FocusEvent': 158, 'UIEvent': 158, 'InputEvent': 158, 'CompositionEvent': 158, 'beforeinput': 158, 'Entry': 158, 'tooLong': 158, 'camera': 157, 'persist': 157, 'Web': 156, 'selectNodeContents': 156, 'setParameter': 154, 'requestData': 152, 'isContentEditable': 152, 'onenter': 151, 'pressed': 151, 'initialTime': 151, 'writer': 150, 'mediaType': 150, 'dropzone': 149, 'bodyUsed': 147, 'visa': 147, 'diners': 147, 'pickup': 147, 'pull': 145, 'fullpath': 145, 'insertCell': 145, 'XMLDocument': 140, 'Screen': 140, 'onpaste': 139, 'onended': 138, 'onplay': 138, 'DOMMatrix': 138, 'lengthComputable': 137, 'scriptNode': 137, 'getCapabilities': 137, 'setUserData': 137, 'buttonID': 136, 'snapshotItem': 133, 'UNORDERED_NODE_ITERATOR_TYPE': 133, 'encodedBodySize': 131, 'downlinkMax': 131, 'transferSize': 131, 'decodedBodySize': 131, 'nextHopProtocol': 131, 'ethernet': 131, 'scale3d': 131, 'NS_ERROR_DOM_SECURITY_ERR': 131, 'cues': 129, '0xf0': 129, 'Display': 129, 'payments': 128, 'ErrorEvent': 127, 'cardSecurityCode': 127, 'getError': 126, 'getCurrentPosition': 126, 'changeType': 126, 'initUIEvent': 126, 'onwebkittransitionend': 125, 'elapsedTime': 125, 'onwebkitanimationend': 125, 'ontransitionend': 125, 'onanimationend': 125, 'oncomplete': 125, 'Beacon': 123, 'Option': 123, 'onpopstate': 122, 'getQueryParameter': 122, 'ANY_TYPE': 122, 'disposition': 122, 'getMetadata': 121, 'itemType': 119, 'newVersion': 118, 'oldVersion': 118, 'turn': 117, 'groupId': 117, 'manipulation': 117, 'isCollapsed': 117, 'taskList': 117, 'productID': 117, 'setParameters': 117, 'mediaSource': 116, 'HTMLDataListElement': 113, 'InvalidStateError': 113, 'InvalidAccessError': 113, 'EMPTY': 112, 'intl': 112, 'currentNode': 112, 'SHOW_TEXT': 112, 'createTreeWalker': 112, 'getGamepads': 112, 'WEBGL_draw_buffers': 112, 'FRAGMENT_SHADER_DERIVATIVE_HINT_OES': 112, 'MAX_COLOR_ATTACHMENTS_WEBGL': 112, 'RTCDataChannelEvent': 112, 'webgl2': 112, 'OES_standard_derivatives': 112, 'MAX_DRAW_BUFFERS_WEBGL': 112, 'WEBGL_debug_renderer_info': 112, 'requestPointerLock': 112, 'dischargingTime': 112, 'chargingTime': 112, 'charging': 112, 'Referer': 110, 'NUMBER': 110, 'authentication': 108, 'isConnected': 108, 'streams': 106, 'idName': 105, 'Crypto': 104, 'FontFace': 103, 'gesturechange': 103, 'oninput': 103, 'isEqualNode': 102, 'loadOverlay': 102, 'getPropertyCSSValue': 100, 'ORDERED_NODE_SNAPSHOT_TYPE': 99, 'codetype': 99, 'childElementCount': 98, 'Transition': 98, 'isTrusted': 98, 'mozRequestFullScreen': 98, 'columnNumber': 97, 'insertNode': 97, 'endContainer': 97, 'setStartAfter': 97, 'cloneContents': 96, 'abbr': 94, 'TrackEvent': 94, 'DOMSubtreeModified': 94, 'onstorage': 94, 'textTracks': 93, 'explicit': 92, 'regionCode': 92, 'addElement': 92, 'unitType': 91, 'HTMLPictureElement': 91, 'ondragleave': 88, 'ondrag': 88, 'ondblclick': 88, 'onactivate': 88, 'onstart': 88, 'ondragenter': 88, 'ondragover': 88, 'ondragend': 88, 'accesskey': 88, 'MIN': 88, 'namedItem': 86, 'Enabled': 84, 'relay': 84, 'mediaDevices': 83, 'mozCaptureStream': 83, 'enumerateDevices': 83, 'CLOSING': 83, 'createMediaStreamSource': 83, 'MediaStreamTrack': 83, 'MediaDevices': 83, 'msSaveBlob': 83, 'captureStream': 83, 'getSources': 83, 'msSaveOrOpenBlob': 83, 'Range': 82, 'formAction': 81, 'splitText': 80, 'iconURL': 79, 'activated': 75, 'snapshotLength': 70, 'oauth': 69, 'reconnect': 67, 'networkType': 66, 'reply': 66, 'album': 65, 'systemID': 64, 'deviceid': 63, 'developer': 59, 'expansion': 59, 'watchPosition': 53, 'clearWatch': 53, 'HTMLImageElement': 53, 'pointerover': 52, 'POSITION_UNAVAILABLE': 51, 'PERMISSION_DENIED': 51, 'captureEvents': 47, 'getQuery': 46, 'SYNTAX_ERR': 45, 'INVALID_CHARACTER_ERR': 45, 'DOMException': 45, 'QUOTA_EXCEEDED_ERR': 41, 'QuotaExceededError': 41, 'hasAttributes': 40, 'localName': 37, 'crossorigin': 35, 'deviceClass': 28, 'External': 17}\n"
     ]
    }
   ],
   "source": [
    "degree_freq = {}\n",
    "for nod in G.nodes:\n",
    "    degree_freq[nod] = G.nodes[nod]['deg']\n",
    "sorted_degree = dict(sorted(degree_freq.items(), key=lambda item: item[1], reverse=True))\n",
    "print(sorted_degree)"
   ]
  },
  {
   "cell_type": "code",
   "execution_count": 18,
   "id": "herbal-coating",
   "metadata": {
    "pycharm": {
     "name": "#%%\n"
    }
   },
   "outputs": [],
   "source": [
    "# sort nodes based on weight"
   ]
  },
  {
   "cell_type": "code",
   "execution_count": 19,
   "id": "appointed-texture",
   "metadata": {
    "pycharm": {
     "name": "#%%\n"
    }
   },
   "outputs": [
    {
     "name": "stdout",
     "output_type": "stream",
     "text": [
      "{'document': 73.43850042122986, 'var': 73.43723673125514, 'window': 73.43628896377408, 'location': 73.41649115416995, 'name': 73.37247262005037, 'top': 73.34688289806213, 'parent': 73.33887952822222, 'self': 73.32382055602339, 'frames': 73.30570766638562, 'opener': 73.29907329401829, 'length': 69.73178180286419, 'src': 68.3114995787699, 'createElement': 67.71609098567775, 'null': 67.66375315922484, 'init': 67.62394692502079, 'type': 62.68607834877909, 'getElementsByTagName': 61.72609519797837, 'push': 61.62373631002586, 'Date': 59.89079612468461, 'appendChild': 59.86615417017736, 'replace': 59.72167228306703, 'parentNode': 57.29454507160946, 'undefined': 55.87605307497937, 'join': 55.66280539174449, 'Math': 54.6972409435557, 'body': 54.681655433867554, 'navigator': 54.23325610783553, 'href': 53.96703875315982, 'id': 53.72609519797875, 'style': 53.570871946083145, 'height': 52.849620893008165, 'true': 52.633213984836324, 'width': 51.69745155855163, 'call': 51.38984835720371, 'toString': 50.801600673968686, 'setTimeout': 50.736625947767884, 'string': 50.52664279696762, 'arguments': 49.68776326874548, 'prototype': 49.503159224937384, 'userAgent': 48.98146588037121, 'match': 48.86404802021954, 'getTime': 48.84509267059862, 'function': 47.72567396798712, 'apply': 47.142165122157216, 'setAttribute': 46.14553496208978, 'Array': 45.761794439764735, 'object': 45.68439342881256, 'documentElement': 44.81497472620105, 'random': 44.81160488626845, 'protocol': 44.809919966302026, 'slice': 44.63879528222472, 'onload': 44.59467144060718, 'addEventListener': 44.025063184499345, 'hasOwnProperty': 43.729991575400554, 'value': 42.90469671440659, 'data': 42.443871103623174, 'getElementById': 41.9629317607418, 'load': 41.81297388374111, 'removeChild': 41.76442712721184, 'false': 41.63510951979859, 'head': 41.19229149115461, 'readyState': 40.611520640270015, 'insertBefore': 39.88173967986555, 'none': 39.8272957034545, 'attachEvent': 39.674494524010555, 'on': 39.568765796125156, 'void': 39.29307076663908, 'className': 38.72125105307551, 'url': 38.6250000000006, 'innerHTML': 37.16701769166001, 'delete': 37.06760741364848, 'async': 36.007898062342576, 'complete': 34.263689974726816, 'log': 33.76516427969726, 'search': 33.592249368155606, 'event': 33.447978096041176, 'display': 33.36889216512258, 'referrer': 33.11562763268779, 'version': 32.86815501263751, 'Image': 32.17565290648726, 'in': 32.035383319292656, 'instanceof': 31.890269587194517, 'Object': 31.828770008424524, 'host': 31.751895534962006, 'target': 31.741259477674657, 'cookie': 30.762110362257708, 'left': 30.613100252737947, 'onreadystatechange': 30.5128475147429, 'number': 30.250315922493602, 'String': 30.130791912384076, 'console': 30.06613310867721, 'hidden': 29.73946925021064, 'text': 29.296967144060513, 'title': 28.858782645324272, 'message': 28.334245998315016, 'onerror': 27.987889637742107, 'position': 27.82855939342883, 'loaded': 27.31013058129728, 'parse': 27.259161752316697, 'error': 27.15880370682375, 'click': 26.744524010109384, 'clearTimeout': 26.312973883740472, 'clientWidth': 26.21251053074978, 'hostname': 25.887110362257772, 'getAttribute': 25.856887110362223, 'clientHeight': 25.84856781802856, 'round': 25.686078348778313, 'createTextNode': 25.21956613310867, 'px': 25.071925021061507, 'img': 24.584983150800266, 'removeEventListener': 23.948925863521403, 'open': 23.924283909014193, 'bottom': 23.898799494523974, 'firstChild': 23.8089721988206, 'splice': 23.63342459983147, 'max': 23.368576242628322, 'tagName': 23.291807076663797, 'iframe': 23.26674389216506, 'JSON': 23.226621735467482, 'cssText': 23.152379949452463, 'auto': 23.139216512215675, 'start': 23.07697978096032, 'key': 22.801916596461595, 'screen': 22.511478517270444, 'set': 22.160804549283903, 'offsetHeight': 22.105518112889737, 'domain': 22.048020219039543, 'detachEvent': 20.890058972198783, 'innerWidth': 20.727780117944295, 'remove': 20.401010951979778, 'right': 20.173230834035273, 'offsetWidth': 20.072767481044764, 'scrollTop': 19.922704296545792, 'hash': 19.542333614153335, 'send': 19.311604886267812, 'get': 18.85646588037061, 'innerHeight': 18.678917438921594, 'absolute': 18.660699241786038, 'link': 18.605307497893882, 'margin': 18.587826453243412, 'charset': 18.435025273799514, 'nodeType': 18.35225358045487, 'min': 18.308761583824634, 'resize': 18.216090985678218, 'querySelectorAll': 18.110572872788552, 'charCodeAt': 17.903538331929248, 'scroll': 17.89774641954508, 'timeout': 17.882582139848175, 'normal': 17.851200505476005, 'preventDefault': 17.83835299073285, 'sort': 17.70187447346236, 'http': 17.697662173546586, 'border': 17.677969671440646, 'nodeName': 17.651010951979668, 'DOMContentLoaded': 17.58772114574551, 'callback': 17.523588879528187, 'content': 17.51411120471779, 'db': 17.492101937657846, 'write': 17.471988205560145, 'ready': 16.77558972198812, 'getComputedStyle': 16.754633529907238, 'language': 16.67691659646162, 'childNodes': 16.273272957034493, 'html': 16.19218618365628, 'css': 16.06844987363096, 'debug': 15.97061920808763, 'escape': 15.736204717775859, 'rel': 15.704507160909815, 'info': 15.69618786857626, 'reset': 15.64837826453241, 'now': 15.49715669755685, 'status': 15.443344566133131, 'setInterval': 15.245893007582152, 'all': 15.240522325189577, 'bind': 15.184182813816395, 'warn': 15.155749789385034, 'boolean': 14.934919966301578, 'focus': 14.82824347093514, 'class': 14.583192923336153, 'constructor': 14.504317607413634, 'clear': 14.457561078348792, 'overflow': 14.399220724515619, 'Function': 14.365627632687412, 'span': 14.354570345408607, 'format': 14.319187026116266, 'postMessage': 14.261583824768294, 'stopPropagation': 14.205770850884578, 'srcElement': 14.188605728727904, 'filter': 14.173336141533246, 'pathname': 14.08677337826453, 'duration': 13.946293176074112, 'add': 13.90553917438922, 'time': 13.849094355518094, 'querySelector': 13.781802864363947, 'create': 13.635951979780943, 'index': 13.528959561920798, 'clearInterval': 13.526748104465032, 'close': 13.46293176074134, 'query': 13.436499578769977, 'onclick': 13.410172704296544, 'currentStyle': 13.30244313395115, 'innerText': 13.290016849199716, 'options': 13.178706823925904, 'color': 13.141849199663028, 'contentWindow': 12.924705139005876, 'disabled': 12.862468407750654, 'webkit': 12.804338668913285, 'element': 12.791385846672318, 'plugins': 12.78254001684919, 'XMLHttpRequest': 12.737889637742255, 'show': 12.667228306655442, 'inherit': 12.652590564448198, 'submit': 12.619524010109513, 'keys': 12.612889637742267, 'events': 12.583087615838226, '\\\\n': 12.513058129738862, 'localStorage': 12.334772535804579, 'textContent': 12.253685762426246, 'visible': 12.238837405223238, 'compatMode': 12.217354675652954, 'input': 12.1916596461668, 'attr': 12.09351305812975, 'getBoundingClientRect': 12.086773378264539, 'description': 12.0499157540017, 'styleSheet': 11.962299915754055, 'count': 11.942396798652076, 'stop': 11.909119629317606, 'scrolling': 11.894797809604041, 'scrollHeight': 11.74631423757374, 'background': 11.73746840775064, 'loading': 11.717670598146622, 'ActiveXObject': 11.65743470935133, 'offsetTop': 11.603833192923377, 'pc': 11.510214827295723, 'action': 11.338984835720359, 'end': 11.223989048020204, 'vb': 11.167122999157552, 'center': 11.070871946082562, 'pt': 10.975989890480216, 'cookieEnabled': 10.975779275484452, 'handler': 10.949873631002474, 'contains': 10.919018534119655, 'append': 10.838037068239274, '_blank': 10.72040859309184, 'getElementsByClassName': 10.688711036225788, 'cursor': 10.585720303285603, 'children': 10.50895113732102, 'locale': 10.502211457455854, 'extend': 10.466406908171878, 'platform': 10.413331929233397, 'mousemove': 10.31929233361416, 'lastChild': 10.228201347935963, 'orientation': 10.186815501263657, 'offsetLeft': 10.114574557708531, 'scrollLeft': 10.11236310025276, 'vertical': 10.058340353833168, 'item': 10.046229991575439, 'source': 10.038753159224896, 'button': 9.970408593091792, 'defer': 9.953032855939423, 'video': 9.916596461668076, 'clientY': 9.904486099410338, 'nextSibling': 9.887636899747253, 'URL': 9.870998315080037, 'pageY': 9.804654591406917, 'Gecko': 9.735994102780124, 'getItem': 9.726621735467564, 'state': 9.69408171861835, 'responseText': 9.659540859309192, 'context': 9.60667649536651, 'setItem': 9.578032855939359, 'GET': 9.575716090985692, 'mode': 9.527169334456584, 'mousedown': 9.505370682392643, 'forEach': 9.4903117101938, 'ms': 9.483466722830695, 'pageYOffset': 9.240627632687476, 'method': 9.235256950294822, 'origin': 9.212931760741306, 'appName': 9.189448188711028, 'styleSheets': 9.156486941870284, 'withCredentials': 9.140585509688256, 'attributes': 9.126790227464246, 'track': 9.108150800337029, 'image': 9.06181550126369, 'setRequestHeader': 9.04591406908175, 'propertyIsEnumerable': 9.043281381634412, 'service': 9.03296124684085, 'both': 8.968091828138204, 'size': 8.700821398483592, 'XDomainRequest': 8.5866680707667, 'returnValue': 8.556550126369014, 'find': 8.507582139848347, 'fill': 8.466933445661347, 'float': 8.45471777590568, 'offset': 8.451453243470906, 'active': 8.304865206402706, 'browser': 8.196398483572088, 'checked': 8.180707666385885, 'email': 8.179022746419555, 'touch': 8.164700926705999, 'middle': 8.10077927548446, 'defaultView': 8.036015164279767, 'getPropertyValue': 7.96461668070772, 'result': 7.959561920808899, 'performance': 7.867733782645422, 'colorDepth': 7.829507160909937, 'frameElement': 7.8219250210615785, 'user': 7.813711036225912, 'readystatechange': 7.729043807919246, 'default': 7.600884582982421, 'offsetParent': 7.552653748946968, 'out': 7.534435551811333, 'ic': 7.493049705139056, 'notify': 7.4823083403539705, 'frameBorder': 7.479570345408658, 'prop': 7.461983993260417, 'clip': 7.44218618365634, 'define': 7.41217354675671, 'removeAttribute': 7.359203875316026, 'down': 7.339511373209881, 'transform': 7.292544229149288, 'classList': 7.280328559393539, 'lang': 7.234098567818093, 'off': 7.156802864364116, 'checkbox': 7.120787700084314, 'label': 7.015690817186342, 'Boolean': 6.9851516427971045, 'stroke': 6.9469250210615785, 'cache': 6.944502948610068, 'node': 6.901221566975687, 'clientX': 6.872262005054867, 'select': 6.765374894692643, 'first': 6.744734625105413, 'require': 6.692186183656444, 'enabled': 6.682708508845967, 'removeItem': 6.660488626790349, 'success': 6.65754001684929, 'tag': 6.625737152485405, 'after': 6.58077085088467, 'POST': 6.579507160909986, 'form': 6.553074978938571, 'prefix': 6.540016849199832, 'ss': 6.519060657118917, 'nowrap': 6.50958298230837, 'devicePixelRatio': 6.506529064869474, 'subscribe': 6.50231676495373, 'token': 6.474515585509757, 'reload': 6.4700926705982305, 'timing': 6.467670598146664, 'mouseover': 6.454401853412085, 'update': 6.438395113732255, 'flush': 6.4072240943556755, 'unload': 6.4006950294861795, 'delay': 6.395429654591497, 'mouseup': 6.367944397641231, 'always': 6.349620893007663, 'up': 6.348778433024519, 'ch': 6.333403538332057, 'pageX': 6.312552653749056, 'direction': 6.311183656276432, 'client': 6.300547598989182, 'rows': 6.286225779275549, 'pageXOffset': 6.260320134793688, 'blur': 6.237257792754956, 'mouseout': 6.21851305812984, 'cy': 6.197346251053182, 'matches': 6.188605728727984, 'abort': 6.075400168492158, 'elements': 6.035909856781885, 'which': 6.034646166807156, 'ontouchstart': 6.005581297388491, 'addEvent': 5.995998315080151, 'selected': 5.978096040438148, 'media': 5.943660488626835, 'req': 5.913963774220824, 'mimeTypes': 5.90869839932609, 'yes': 5.908593091828237, 'parentElement': 5.900273799494608, 'done': 5.895219039595786, 'cloneNode': 5.8851095197979335, 'dispatchEvent': 5.869524010109624, 'addRule': 5.827190395956287, 'zoom': 5.813289806234251, 'home': 5.8109730412806035, 'rules': 5.803706823925938, 'Event': 5.728201347936084, 'items': 5.6656486941870785, 'radio': 5.651958719460885, 'array': 5.645324347093637, 'ownerDocument': 5.638795282224161, 'cancelBubble': 5.63352990732951, 'ltr': 5.628475147430555, 'keyCode': 5.611836562763347, 'previousSibling': 5.594882055602454, 'appVersion': 5.580770850884679, 'dx': 5.55970935130591, 'onabort': 5.5477042965459376, 'any': 5.476411120471838, 'cssRules': 5.450400168492058, 'unknown': 5.422704296546007, 'ip': 5.420282224094453, 'cx': 5.414069081718737, 'code': 5.410804549284039, 'root': 5.395008424599951, 'x2': 5.372156697556918, 'identity': 5.350779275484492, 'fr': 5.347304128054024, 'dom': 5.343091828138267, 'cm': 5.305602358888052, 'next': 5.279170176916725, 'insertRule': 5.273904802021972, 'product': 5.247999157540064, 'visibilitychange': 5.242733782645361, 'follow': 5.222514743049698, 'file': 5.220303285594048, 'moz': 5.1877632687447885, 'fx': 5.1864995787700945, 'Mozilla': 5.185235888795284, 'touchstart': 5.1742839090144335, 'rx': 5.16975568660492, 'TypeError': 5.158487784330389, 'attribution': 5.153959561920839, 'from': 5.130475989890628, 'history': 5.113416175231758, 'dy': 5.112152485257035, 'orientationchange': 5.101937657961294, 'pause': 5.096672283066677, 'getName': 5.058972198820621, 'frame': 5.0471777590565505, 'results': 5.04707245155862, 'as': 5.016427969671533, 'ii': 5.012426284751539, 'nodeValue': 4.986836562763367, 'keydown': 4.975042122999218, 'port': 4.9634582982309565, 'inactive': 4.930075821398502, 'onmessage': 4.929128053917535, 'ry': 4.89616680707668, 'reverse': 4.895850884583062, 'go': 4.884793597304205, 'beforeunload': 4.822030328559504, 'expires': 4.818449873631061, 'startTime': 4.813500421230075, 'canvas': 4.784330244313505, 'sessionStorage': 4.751053074979028, 'encode': 4.73904802021914, 'requestAnimationFrame': 4.737468407750691, 'for': 4.709245998315142, 'collapse': 4.680707666385896, 'process': 4.678180286436412, 'transition': 4.670914069081765, 'touchend': 4.655644481887208, 'NaN': 4.621524852569627, 'flash': 4.602042965459156, 'navigationStart': 4.582666385846739, 'responseEnd': 4.568028643639471, 'ty': 4.563500421230031, 'btoa': 4.547283066554384, 'cells': 4.543807919123858, 'getContext': 4.53980623420397, 'gl': 4.538331929233383, 'touchmove': 4.527274641954602, 'scale': 4.491786015164365, 'ctrlKey': 4.489574557708576, 'toJSON': 4.471251053075073, 'alt': 4.459983150800452, 'answer': 4.435867733782718, 'contentDocument': 4.431760741364845, 'empty': 4.43060235888801, 'hh': 4.430497051390083, 'response': 4.4228096040439135, 'NONE': 4.419439764111213, 'lh': 4.39321819713566, 'register': 4.389953664700983, 'clientTop': 4.362152485257006, 'enabledPlugin': 4.349304970513925, 'mouseleave': 4.338879528222483, 'htmlFor': 4.326769165964654, 'behavior': 4.320871946082601, 'relatedTarget': 4.3163437236731825, 'mm': 4.310025273799518, 'javaEnabled': 4.3063395113732374, 'eventHandler': 4.290754001684906, 'scrollWidth': 4.285909856781872, 'record': 4.280328559393424, 'play': 4.248104465037983, 'filters': 4.233993260320185, 'metaKey': 4.171229991575432, 'request': 4.159540859309239, 'sx': 4.153748946925035, 'animate': 4.149220724515601, 'fonts': 4.147851727042952, 'DOMNodeInserted': 4.136267902274667, 'currentTarget': 4.130475989890486, 'refresh': 4.126579612468411, 'group': 4.087615838247675, 'interval': 4.064448188711066, 'check': 4.050021061499583, 'deleteRule': 4.047598989048055, 'clientLeft': 4.044650379106984, 'then': 4.0414911541702, 'dir': 3.9669334456613, 'removeRule': 3.95935130581296, 'align': 3.9430286436394026, 'clone': 3.927548441448988, 'td': 3.9134372367312307, 'valueOf': 3.8873209772535433, 'line': 3.8841617523167304, 'rotation': 3.874894692502091, 'textAlign': 3.844987363100214, 'ownerNode': 3.8396166807076453, 'mouseenter': 3.837089300758181, 'only': 3.819818871103603, 'mozilla': 3.8136057287278637, 'p1': 3.8052864363942556, 'paused': 3.7845408593091436, 'embed': 3.7766427969670957, 'change': 3.7640058972198323, 'Infinity': 3.763900589721967, 'gestureend': 3.756844987363084, 'browserLanguage': 3.7563184498736133, 'filename': 3.75168491996627, 'tracker': 3.7253580454928015, 'alert': 3.7227253580454485, 'touches': 3.7196714406065277, 'StyleSheetList': 3.70408593091826, 'json': 3.6954507160909413, 'replaceChild': 3.69418702611622, 'fy': 3.6687026116259287, 'p3': 3.64153327716932, 'urls': 3.6393218197135373, 'shiftKey': 3.6313184498735875, 'exception': 3.6142586352148034, 'visibilityState': 3.594039595619192, 'vendor': 3.5934077506318016, 'characterSet': 3.5850884582982094, 'linear': 3.581192080876135, 'base': 3.5797177759056065, 'onmouseover': 3.578664700926672, 'p4': 3.5696082561078253, 'region': 3.55644481887108, 'pattern': 3.5106360572872446, 'priority': 3.472725358045464, 'storage': 3.449031171019353, 'outerWidth': 3.4454507160909498, 'view': 3.4148062342038346, 'onmouseout': 3.411225779275452, 'timestamp': 3.3915332771693056, 'defaultValue': 3.3836352148272826, 'keyup': 3.3774220724515143, 'images': 3.34582982308337, 'prerender': 3.340037910699236, 'rect': 3.325926705981431, 'external': 3.3257160909856474, 'detail': 3.2895956192080416, 'wrap': 3.2588458298230427, 'save': 3.2248315080033274, 'createEvent': 3.2154591406907733, 'animation': 3.203559393428787, 'easing': 3.192291491154149, 'values': 3.1669123841617437, 'connectStart': 3.1517481044650215, 'activeElement': 3.1244734625104957, 'uri': 3.1207877000842035, 'requestStart': 3.0909856781802545, 'outerHeight': 3.088037068239227, 'total': 3.075716090985649, 'responseStart': 3.068660488626758, 'channel': 3.0643428812131055, 'addListener': 3.0569713563605365, 'loadEventStart': 3.051179443976387, 'createElementNS': 3.045808761583802, 'DOMNodeRemoved': 3.033698399326004, 'step': 3.018639427127182, 'password': 3.013795282224065, 'compareDocumentPosition': 3.002948609941001, 'offsetX': 2.990101095197943, 'offsetY': 2.990101095197943, 'country': 2.9210193765795776, 'role': 2.9113310867733446, 'initialize': 2.9100673967986137, 'domainLookupStart': 2.903327716933421, 'connectEnd': 2.903327716933421, 'navigation': 2.8878475147430134, 'option': 2.881318449873604, 'mark': 2.8781592249367987, 'changedTouches': 2.84066975568657, 'progress': 2.8349831508003005, 'table': 2.8164490311709756, 'attributeName': 2.8138163437236567, 'hasAttribute': 2.80570766638581, 'rtl': 2.7932813816343445, 'toggle': 2.775168491996601, 'utils': 2.7717986520640023, 'handle': 2.7706402695871546, 'layout': 2.7575821398483304, 'setData': 2.753475147430464, 'list': 2.7443133951137018, 'domainLookupEnd': 2.735467565290629, 'DOMAttrModified': 2.712931760741349, 'resume': 2.7115627632687143, 'shape': 2.705033698399314, 'ping': 2.7050336983992986, 'fetchStart': 2.693765796124666, 'sendMessage': 2.6873420387531284, 'level': 2.68007582139845, 'has': 2.6512215669755417, 'systemLanguage': 2.6354254422914702, 'Element': 2.6274220724515214, 'reversed': 2.6124684077506184, 'custom': 2.6116259477674433, 'screenX': 2.6078348778432834, 'screenY': 2.6078348778432834, 'scope': 2.601200505475956, 'properties': 2.593091828138142, 'translate': 2.5920387531592066, 'device': 2.5475989890479824, 'fireEvent': 2.5405433866890994, 'namespaceURI': 2.5394903117101713, 'other': 2.5325400168491554, 'scripts': 2.5305391743891876, 'getElementsByName': 2.5249578770008227, 'userLanguage': 2.524957877000812, 'setProperty': 2.5170598146587917, 'loadEventEnd': 2.5125315922493456, 'onunload': 2.5112679022746245, 'domInteractive': 2.4927337826453004, 'links': 2.4890480202190166, 'icon': 2.4868365627632523, 'domContentLoadedEventStart': 2.4838879528222244, 'textarea': 2.479465037910665, 'onmousedown': 2.4744102780117654, 'headers': 2.470829823083372, 'sync': 2.450294860994084, 'tabIndex': 2.444397641112015, 'normalize': 2.443344566133083, 'points': 2.4314448188710953, 'portNumber': 2.3850042122999096, 'static': 2.37921229991573, 'before': 2.378053917438881, 'ontimeout': 2.375105307497868, 'reject': 2.3726832350463036, 'share': 2.368470935130566, 'sheet': 2.3652064026958466, 'viewport': 2.350147430497023, 'not': 2.3480412805391513, 'services': 2.334772535804526, 'maxLength': 2.3297177759056256, 'read': 2.303390901432158, 'drop': 2.298652064026934, 'move': 2.2892796967143827, 'hasFocus': 2.288331929233342, 'onfocus': 2.2750631844987237, 'setImmediate': 2.274747262005032, 'started': 2.267481044650351, 'isEnabled': 2.2656908171861683, 'onMessage': 2.264216512215653, 'cancel': 2.2590564448188375, 'onblur': 2.222514743049691, 'finish': 2.22156697556863, 'specified': 2.218828980623402, 'outerHTML': 2.211352148272938, 'identifier': 2.208403538331901, 'activate': 2.1913437236731124, 'currentTime': 2.189132266217337, 'handleEvent': 2.177759056444796, 'high': 2.1685973041280313, 'promise': 2.1640690817185946, 'Netscape': 2.158909014321803, 'autoplay': 2.11699663016005, 'popup': 2.1119418702611474, 'tooltip': 2.1068871103622397, 'selectedIndex': 2.101411120471761, 'current': 2.088774220724499, 'setAttributeNS': 2.082034540859292, 'radius': 2.0818239258635116, 'fallback': 2.0808761583824626, 'Plugin': 2.0717144060657033, 'layerX': 2.0655012636899603, 'layerY': 2.0655012636899603, 'com': 2.064869418702599, 'closest': 2.06171019376578, 'displayName': 2.0526537489469123, 'mozRequestAnimationFrame': 2.049178601516417, 'bounds': 2.0415964616680573, 'font': 2.0349620893007394, 'axis': 2.0322240943554983, 'pointerup': 2.0305391743892014, 'regions': 2.0174810446503657, 'fileName': 2.01579612468407, 'SVGElement': 2.01021482729569, 'pushState': 1.983466722830656, 'initEvent': 1.9783066554338582, 'drag': 1.9778854254422749, 'Promise': 1.9775695029485907, 'point': 1.9774641954507024, 'disable': 1.9737784330244135, 'altKey': 1.9694608256107704, 'decode': 1.9540859309182717, 'alpha': 1.9526116259477657, 'pointerdown': 1.9500842459983088, 'pointermove': 1.9446082561078288, 'cancelAnimationFrame': 1.9253369839932555, 'detach': 1.9223883740522112, 'range': 1.9183866891322456, 'lineNumber': 1.918281381634358, 'maxlength': 1.916280539174384, 'profile': 1.9150168491996535, 'removeListener': 1.9149115417017573, 'removeProperty': 1.9122788542544111, 'HTMLElement': 1.9119629317607427, 'threshold': 1.9096461668070746, 'ended': 1.8985888795282209, 'repeat': 1.8907961246840774, 'focusin': 1.8885846672282938, 'hint': 1.8866891322662098, 'ERROR': 1.8853201347935835, 'ext': 1.8836352148272888, 'crypto': 1.881423757371513, 'when': 1.875737152485244, 'loop': 1.8653117101937682, 'controls': 1.8620471777590544, 'charCode': 1.8477253580454793, 'prepend': 1.841933445661322, 'getBBox': 1.8409856781802763, 'cors': 1.8397219882055553, 'getRandomValues': 1.8378264532434612, 'keypress': 1.8343513058129604, 'ratio': 1.8262426284751294, 'ontouchmove': 1.8164490311710089, 'scrollTo': 1.814026958719443, 'pixelDepth': 1.8065501263689878, 'Name': 1.8057076663858496, 'canPlayType': 1.8047598989048028, 'arc': 1.8005475989890356, 'parameters': 1.798336141533266, 'createSVGRect': 1.7975989890480135, 'mousewheel': 1.7925442291491072, 'enable': 1.7835930918281133, 'labels': 1.7796967144060503, 'Point': 1.7758003369839839, 'th': 1.7680075821398318, 'counter': 1.7515796124684002, 'volume': 1.7497893850042099, 'ctx': 1.7495787700084113, 'onprogress': 1.7490522325189553, 'msMatchesSelector': 1.7459983150800156, 'mozMatchesSelector': 1.7459983150800156, 'webkitMatchesSelector': 1.7459983150800156, 'touchcancel': 1.7167228306655347, 'rate': 1.7159856781802703, 'redirect': 1.7138795282224046, 'square': 1.7102990732940084, 'indexedDB': 1.707877000842461, 'redirectEnd': 1.6974515585509609, 'redirectStart': 1.6974515585509606, 'getState': 1.6955560235888847, 'cssFloat': 1.69250210614994, 'Map': 1.6880791912384285, 'oMatchesSelector': 1.6650168491996478, 'availWidth': 1.664700926705971, 'autocomplete': 1.6593302443133806, 'longitude': 1.6357413647851655, 'latitude': 1.6357413647851655, 'local': 1.6328980623420193, 'grep': 1.6278433024431258, 'doNotTrack': 1.6200505475989833, 'pointerType': 1.6183656276326783, 'focusout': 1.614469250210604, 'useMap': 1.609519797809594, 'wheelDelta': 1.5995155855096803, 'DOMMouseScroll': 1.5995155855096803, 'preload': 1.5980412805391722, 'toDataURL': 1.5949873631002423, 'sendBeacon': 1.5914069081718545, 'colSpan': 1.5757160909856687, 'domLoading': 1.5666596461668016, 'buttons': 1.5645534962089185, 'cellPadding': 1.548967986520631, 'cellSpacing': 1.548967986520631, 'cellspacing': 1.5465459140690723, 'cellpadding': 1.5465459140690723, 'metadata': 1.5440185341196258, 'defaultPrevented': 1.5367523167649386, 'city': 1.5352780117944267, 'remote': 1.5350673967986415, 'usemap': 1.5336983993260227, 'rowspan': 1.5336983993260227, 'rowSpan': 1.5336983993260227, 'colspan': 1.5336983993260227, 'lineWidth': 1.5321187868576203, 'poster': 1.5319081718618364, 'availHeight': 1.5301179443976305, 'percent': 1.5293807919123827, 'createComment': 1.5291701769165857, 'release': 1.5251684919966184, 'reason': 1.5214827295703364, 'invalid': 1.5191659646166753, 'getAttributeNode': 1.512847514743037, 'containerId': 1.5102148272957028, 'Location': 1.4827295703454104, 'timeline': 1.481360572872776, 'onmousewheel': 1.4794650379106986, 'datetime': 1.476937657961236, 'closed': 1.471145745577079, 'low': 1.4701979780960295, 'allowfullscreen': 1.4680918281381663, 'Index': 1.4673546756528986, 'opened': 1.464827295703445, 'Position': 1.4589300758213881, 'login': 1.4530328559393293, 'flags': 1.4480834035383234, 'transport': 1.4401853411962844, 'pan': 1.4269165964616575, 'timeStamp': 1.426705981465862, 'tabindex': 1.4043807919123708, 'print': 1.4002737994945187, 'rad': 1.3978517270429593, 'valign': 1.395534962089296, 'vAlign': 1.395534962089296, 'geolocation': 1.395534962089293, 'sessionId': 1.394903117101937, 'menu': 1.3861625947767353, 'trace': 1.3855307497893774, 'createDocumentFragment': 1.385214827295692, 'domContentLoadedEventEnd': 1.3824768323504573, 'contrast': 1.3823715248525734, 'onmousemove': 1.3821609098567722, 'domComplete': 1.3777379949452329, 'download': 1.3672072451558472, 'playing': 1.3660488626790213, 'updatePosition': 1.3633108677337735, 'fillText': 1.3616259477674733, 'store': 1.3613100252737973, 'clientId': 1.355728727885418, 'skewY': 1.344987363100243, 'skewX': 1.344987363100243, 'forms': 1.3448820556023444, 'buffer': 1.3347725358045353, 'put': 1.33298230834034, 'defaultChecked': 1.330244313395106, 'control': 1.3302443133951016, 'unloadEventStart': 1.3286647009267012, 'pointerId': 1.3271903959561835, 'axes': 1.3171861836562695, 'bubbles': 1.3164490311710089, 'contentType': 1.3159224936815441, 'Text': 1.31571187868575, 'observe': 1.312026116259462, 'transaction': 1.303706823925855, 'listener': 1.3029696714405914, 'negative': 1.3017059814658714, 'transitionend': 1.3002316764953605, 'symbols': 1.293913226621726, 'forceRedraw': 1.2893850042122907, 'preserveAspectRatio': 1.2893850042122907, 'gradientUnits': 1.2893850042122907, 'brightness': 1.2893850042122907, 'autoIncrement': 1.2893850042122907, 'userSpaceOnUse': 1.2893850042122907, 'sorted': 1.2893850042122907, 'setScale': 1.2893850042122907, 'SyntaxError': 1.2887531592249337, 'matchMedia': 1.2824347093513042, 'audio': 1.2784330244313349, 'javascript': 1.2708508845829678, 'CSS': 1.269903117101928, 'onresize': 1.264111204717769, 'manual': 1.2627422072451477, 'fillStyle': 1.2537910699241677, 'short': 1.2490522325189528, 'include': 1.2474726200505433, 'encoding': 1.241996630160062, 'secureConnectionStart': 1.2397851727042948, 'implementation': 1.236836562763267, 'fillRect': 1.2367312552653653, 'resource': 1.2364153327716827, 'dblclick': 1.236415332771679, 'foo': 1.2355728727885296, 'txt': 1.2271482729570262, 'scrollY': 1.22620050547597, 'slot': 1.2248315080033565, 'methodName': 1.2177759056444777, 'spacing': 1.208508845829819, 'order': 1.2011373209772438, 'unloadEventEnd': 1.1954507160909793, 'Range': 1.1918702611625958, 'Counter': 1.1914490311710164, 'PointerEvent': 1.1914490311710164, 'onkeyup': 1.1908171861836498, 'webgl': 1.18850042122999, 'onscroll': 1.1838668913226518, 'hasFeature': 1.1830244313395124, 'popstate': 1.1830244313395086, 'contextmenu': 1.1710193765796046, 'hashchange': 1.160699241786005, 'weight': 1.1589090143218148, 'getSelection': 1.1588037068239154, 'isSupported': 1.1560657118786757, 'marginWidth': 1.1556444818870963, 'marginHeight': 1.1556444818870963, 'phone': 1.1537489469250095, 'enter': 1.1495366470092605, 'MutationObserver': 1.1412173546756377, 'connection': 1.127422072451553, 'createRange': 1.1261583824768222, 'InvalidCharacterError': 1.1259477674810405, 'heading': 1.1199452401010968, 'bgcolor': 1.1174178601516391, 'getCurrentTime': 1.110256950294856, 'manifest': 1.1096251053074986, 'currency': 1.1060446503791008, 'exit': 1.0986731255265298, 'assert': 1.09793597304127, 'PING': 1.0941449031170993, 'clearImmediate': 1.0898272957034518, 'pagehide': 1.082350463352979, 'slide': 1.0820345408592984, 'onkeydown': 1.0713984835720232, 'sub': 1.069713563605719, 'Uint32Array': 1.0696082561078275, 'summary': 1.0659224936815443, 'features': 1.0619208087615764, 'angle': 1.0618155012636792, 'measure': 1.0614995787700028, 'beta': 1.0583403538331868, 'fullscreen': 1.0567607413647793, 'replaceState': 1.053812131423752, 'wheel': 1.0516006739679804, 'getData': 1.0498104465037874, 'languageCode': 1.049073294018531, 'nodes': 1.0412805391743833, '__proto__': 1.0397009267059698, 'timeupdate': 1.039595619208079, 'startAngle': 1.0271693344566044, 'ontouchend': 1.0243260320134737, 'canplay': 1.0200084245998242, 'pageshow': 1.0193765796124588, 'watch': 1.017481044650373, 'required': 1.0132687447346185, 'Animation': 1.0123209772535762, 'speed': 1.0055812973883669, 'username': 1.0034751474304902, 'gap': 0.9982097725358012, 'draggable': 0.9955770850884617, 'toLocaleString': 0.9891533277169213, 'baseURI': 0.9779907329401849, 'groupEnd': 0.9727253580454913, 'connect': 0.9698820556023499, 'oldValue': 0.964721988205556, 'textBaseline': 0.962194608256098, 'frequency': 0.9557708508845792, 'initMouseEvent': 0.9525063184498701, 'stopImmediatePropagation': 0.9511373209772408, 'Storage': 0.9474515585509607, 'verify': 0.9463984835720213, 'CustomEvent': 0.9445029486099259, 'Node': 0.9425021061499478, 'elementFromPoint': 0.9388163437236694, 'getAll': 0.9367101937657901, 'atob': 0.9304970513900526, 'pending': 0.9222830665543339, 'isPrototypeOf': 0.9173336141533197, 'onclose': 0.9098567818028571, 'stopped': 0.9094355518112781, 'alphabetic': 0.9044860994102685, 'cancelable': 0.903643639427113, 'usage': 0.8892165122156718, 'endAngle': 0.8883740522325161, 'allowFullScreen': 0.8879528222409357, 'volumechange': 0.884267059814652, 'endTime': 0.8832139848357128, 'unique': 0.8808972198820446, 'getParameter': 0.8790016849199592, 'getClientRects': 0.8722620050547603, 'characterData': 0.869313395113722, 'wheelDeltaX': 0.8660488626790181, 'wheelDeltaY': 0.8660488626790181, 'copy': 0.8625737152485217, 'online': 0.856571187868573, 'kind': 0.8500421229991463, 'replaceWith': 0.8495155855096796, 'force': 0.8469882055602312, 'evaluate': 0.8466722830665476, 'endpoint': 0.8451979780960333, 'deltaY': 0.8371946082560998, 'sampleRate': 0.8369839932603175, 'statusText': 0.8366680707666287, 'persisted': 0.8362468407750536, 'rp': 0.8342459983150775, 'notifications': 0.8321398483571971, 'keyboard': 0.8304549283908973, 'over': 0.8303496208930102, 'Uint16Array': 0.8287700084245955, 'rid': 0.8280328559393372, 'ancestorOrigins': 0.8256107834877806, 'install': 0.8242417860151562, 'equals': 0.8222409435551757, 'seed': 0.8176074136478434, 'rotate': 0.816764953664691, 'scrollX': 0.8143428812131344, 'strings': 0.813079191238415, 'navigate': 0.8119208087615769, 'scheme': 0.8094987363100157, 'targetTouches': 0.8062342038753106, 'muted': 0.8042333614153252, 'blocked': 0.7939132266217245, 'suffixes': 0.7887531592249293, 'hspace': 0.7856992417860116, 'vspace': 0.7856992417860116, 'sender': 0.7813816343723584, 'col': 0.7806444818871048, 'amount': 0.7782224094355408, 'adData': 0.7723251895534933, 'LOADING': 0.7713774220724454, 'files': 0.7671651221566959, 'deltaX': 0.7623209772535731, 'provider': 0.7532645324347027, 'collapsed': 0.7518955349620912, 'matrix': 0.7498946925020968, 'failed': 0.7489469250210551, 'getEntriesByType': 0.7426284751474297, 'receiver': 0.7421019376579523, 'timeEnd': 0.7411541701769131, 'dump': 0.7405223251895535, 'mozInnerScreenX': 0.7396798652064001, 'onvisibilitychange': 0.7356781802864361, 'initiatorType': 0.7355728727885437, 'setPosition': 0.7333614153327687, 'newValue': 0.7331508003369798, 'unregister': 0.7307287278854218, 'channels': 0.7288331929233308, 'w3': 0.7273588879528183, 'requestId': 0.7233572030328519, 'mozInnerScreenY': 0.7215669755686591, 'effect': 0.7171440606571108, 'words': 0.7166175231676423, 'childList': 0.7146166807076597, 'sizes': 0.7066133108677297, 'previous': 0.6999789385004135, 'assign': 0.6957666385846643, 'sum': 0.6942923336141468, 'fetch': 0.691870261162585, 'lines': 0.6900800336984003, 'Window': 0.6888163437236668, 'NEXT': 0.68628896377422, 'continue': 0.6794439764111173, 'onselectstart': 0.6782855939342807, 'basic': 0.6773378264532406, 'onsubmit': 0.675547598989043, 'explicit': 0.6749157540016839, 'addAll': 0.6747051390058961, 'DocumentTouch': 0.6719671440606538, 'screenLeft': 0.6664911541701743, 'screenTop': 0.6664911541701743, 'currentScript': 0.6622788542544166, 'onmouseenter': 0.6621735467565251, 'FileReader': 0.6590143218197112, 'coords': 0.6573294018534065, 'Document': 0.6492207245155824, 'nextElementSibling': 0.6485888795282122, 'enqueue': 0.6461668070766566, 'onchange': 0.6454296545913998, 'disconnect': 0.6432181971356294, 'firstElementChild': 0.6394271272114498, 'pixels': 0.638163437236728, 'placeholder': 0.628053917438919, 'aborted': 0.6278433024431259, 'itemId': 0.6273167649536598, 'doctype': 0.6261583824768274, 'core': 0.6261583824768234, 'getStats': 0.6191027801179393, 'subtree': 0.6187868576242582, 'command': 0.6131002527379917, 'retry': 0.610151642796962, 'WebSocket': 0.6087826453243377, 'upload': 0.6064658803706761, 'wifi': 0.5973041280539132, 'embeds': 0.5964616680707653, 'initCustomEvent': 0.5961457455770769, 'propertyName': 0.5933024431339422, 'Worker': 0.590775063184493, 'HTMLDocument': 0.5876158382476787, 'tel': 0.5874052232518908, 'network': 0.5850884582982219, 'new': 0.5836141533277113, 'lock': 0.5829823083403487, 'suspend': 0.5819292333614127, 'FontFace': 0.5783487784330237, 'errorCallback': 0.5767691659646139, 'addedNodes': 0.5682392586352097, 'actions': 0.5601305812973884, 'tabs': 0.5579191238416165, 'HORIZONTAL_AXIS': 0.5572872788542539, 'dragstart': 0.5552864363942671, 'scrollIntoView': 0.5540227464195409, 'suffix': 0.552021903959554, 'getCTM': 0.5516006739679846, 'File': 0.5509688289806199, 'WebGLRenderingContext': 0.5494945240101046, 'registerElement': 0.5491786015164237, 'seeking': 0.5471777590564427, 'seeked': 0.5471777590564427, 'controller': 0.5454928390901415, 'privacy': 0.5442291491154159, 'deviceId': 0.5429654591406875, 'address': 0.5408593091828083, 'MouseEvent': 0.5404380791912355, 'dst': 0.5401221566975528, 'RangeError': 0.5356992417860091, 'port2': 0.5345408593091796, 'MessageChannel': 0.5345408593091796, 'port1': 0.5345408593091796, 'unwatch': 0.5336983993260317, 'tcp': 0.5327506318449865, 'onmouseleave': 0.5304338668913209, 'successCallback': 0.5300126368997473, 'animationName': 0.5280117944397613, 'loadedmetadata': 0.5251684919966293, 'appCodeName': 0.525168491996628, 'cellular': 0.5248525695029469, 'globalStorage': 0.5246419545071582, 'terminate': 0.5235888795282195, 'targetElement': 0.5213774220724482, 'mute': 0.5193765796124649, 'sample': 0.5175863521482686, 'productId': 0.5170598146588002, 'scrollBy': 0.5164279696714384, 'onopen': 0.5144271272114496, 'runtimeStyle': 0.512110362257788, 'truncate': 0.5116891322662166, 'caller': 0.5083192923336125, 'readOnly': 0.5083192923336094, 'multiple': 0.507476832350461, 'org': 0.5071609098567795, 'onwheel': 0.5036857624262828, 'redirectCount': 0.5022114574557658, 'drawImage': 0.502106149957871, 'durationchange': 0.5020008424599789, 'pad': 0.5018955349620842, 'rangeCount': 0.49905223251895015, 'unit': 0.49494524010108926, 'sidebar': 0.49410278011794373, 'png': 0.4898904802021871, 'videoHeight': 0.4870471777590512, 'getKey': 0.4867312552653709, 'onsuccess': 0.48230834035382836, 'connected': 0.48062342038752304, 'writable': 0.47935973041279994, 'languages': 0.477885425442289, 'waiting': 0.47662173546756137, 'installed': 0.4758845829823073, 'getEntries': 0.4754633529907277, 'onupgradeneeded': 0.4753580454928344, 'objectStore': 0.4753580454928344, 'readwrite': 0.4753580454928344, 'createObjectStore': 0.4753580454928344, 'keyPath': 0.4753580454928344, 'getNamedItem': 0.4726200505475969, 'deviceorientation': 0.4687236731255247, 'gamma': 0.4687236731255247, 'finished': 0.4614574557708444, 'onpageshow': 0.4611415332771685, 'videoWidth': 0.45829823083403015, 'publicId': 0.4579823083403512, 'touched': 0.4564026958719456, 'getBounds': 0.45608677337826087, 'openWindow': 0.45598146588036986, 'locked': 0.45503369839932467, 'removedNodes': 0.4546124684077482, 'broadcast': 0.45303285593933795, 'rem': 0.4514532434709342, 'parseFromString': 0.4505054759898852, 'DOMParser': 0.4505054759898852, 'TIMEOUT': 0.4477674810446468, 'extensions': 0.44650379106992094, 'denied': 0.4451347935973023, 'Navigator': 0.44481887110362256, 'dataset': 0.44481887110361634, 'operator': 0.4447135636057245, 'writeln': 0.44439764111204666, 'systemId': 0.4433445661331071, 'accelerationIncludingGravity': 0.44281802864363773, 'devicemotion': 0.44281802864363773, 'stream': 0.442186183656271, 'insertAdjacentHTML': 0.4418702611625955, 'ArrayBuffer': 0.4385004212299849, 'forward': 0.43786857624262665, 'variable': 0.4355518112889621, 'mozPaintCount': 0.43513058129738535, 'ontouchcancel': 0.4338668913226603, 'elevation': 0.4338668913226603, 'pitch': 0.4338668913226603, 'currentSrc': 0.4299705139005888, 'scriptURL': 0.4278643639427098, 'Media': 0.4215459140690814, 'observer': 0.42122999157539864, 'TouchEvent': 0.42070345408592863, 'DeviceOrientationEvent': 0.42059814658803574, 'toolbar': 0.4180707666385813, 'component': 0.4175442291491127, 'if': 0.4164911541701708, 'confirm': 0.4162805391743851, 'registration': 0.41617523167649517, 'onbeforeunload': 0.41449031171018846, 'onshow': 0.41301600673967787, 'digest': 0.40669755686604564, 'aspectRatio': 0.40638163437236685, 'compact': 0.40511794439763715, 'shipping': 0.4050126368997429, 'NodeList': 0.4039595619208021, 'alternate': 0.4038542544229149, 'policy': 0.4038542544229149, 'mediaSession': 0.4038542544229149, 'CONNECTING': 0.4038542544229149, 'contextMenu': 0.4038542544229149, 'connections': 0.4038542544229149, 'naturalWidth': 0.40364363942712156, 'sign': 0.40332771693344177, 'readonly': 0.40301179443975993, 'monitor': 0.398799494524006, 'getRangeAt': 0.39532434709350817, 'focused': 0.3941659646166745, 'credit': 0.3912173546756526, 'unmute': 0.390164279696712, 'mailto': 0.3874262847514713, 'variant': 0.38616259477674386, 'iterateNext': 0.3854254422914883, 'deg': 0.384372367312546, 'EventListener': 0.3813184498736284, 'getParent': 0.38100252737994744, 'responseType': 0.37973883740521597, 'WheelEvent': 0.3754212299915744, 'caches': 0.37289385004211834, 'buffered': 0.3718407750631791, 'ports': 0.3705770850884581, 'fullscreenElement': 0.3697346251053049, 'mozFullScreenElement': 0.3697346251053049, 'webkitFullscreenElement': 0.3697346251053049, 'row': 0.3694187026116253, 'application': 0.36941870261162485, 'cite': 0.368365627632685, 'availTop': 0.3663647851727025, 'showModal': 0.36288963774220706, 'anchorNode': 0.36278433024430906, 'focusNode': 0.36278433024430906, 'operation': 0.3595197978095999, 'prompt': 0.35836141533276805, 'notification': 0.3581508003369808, 'checkValidity': 0.35751895534961997, 'types': 0.35446503791069084, 'm41': 0.35225358045492583, 'm42': 0.35225358045492583, 'mapping': 0.3503580454928392, 'upgrade': 0.3490943555181084, 'messageType': 0.3486731255265372, 'MediaSource': 0.34740943555180565, 'stretch': 0.3466722830665524, 'presentation': 0.3465669755686565, 'ELEMENT_NODE': 0.34635636057287006, 'anchorOffset': 0.34614574557708094, 'focusOffset': 0.34614574557708094, 'idle': 0.3455139005897171, 'sandbox': 0.34277590564447724, 'exitFullscreen': 0.34024852569502695, 'clipboard': 0.3393007582139832, 'mozCancelFullScreen': 0.33856360572872546, 'accept': 0.33803706823925633, 'xml': 0.33803706823925506, 'supported': 0.33656276326874157, 'xpi': 0.33645745577085073, 'responseXML': 0.335404380791907, 'msFirstPaint': 0.3323504633529855, 'latency': 0.33171861836562344, 'contenteditable': 0.32919123841617165, 'statechange': 0.3282434709351281, 'fullscreenchange': 0.3282434709351281, 'msExitFullscreen': 0.3282434709351281, 'emptied': 0.3282434709351281, 'DeviceMotionEvent': 0.3282434709351281, 'requestFullscreen': 0.3282434709351281, 'msFullscreenElement': 0.3282434709351281, 'integer': 0.32813816343723173, 'getUserData': 0.3278222409435537, 'WebKitCSSMatrix': 0.32550547598988905, 'setTranslate': 0.32550547598988905, 'getEntriesByName': 0.3244524010109474, 'blob': 0.32424178601515635, 'Float32Array': 0.32403117101937207, 'contentEditable': 0.3189764111204686, 'strokeStyle': 0.3168702611625913, 'insertAdjacentElement': 0.3153959561920798, 'textLength': 0.3153959561920798, 'caption': 0.315395956192079, 'unsubscribe': 0.31486941870260726, 'animationend': 0.31402695871945885, 'lastElementChild': 0.3140269587194582, 'useCapture': 0.3100252737994917, 'paste': 0.3099199663015969, 'scrollbars': 0.30928812131423417, 'char': 0.30876158382476504, 'VERTICAL_AXIS': 0.30876158382476504, 'Blob': 0.30665543386688543, 'destination': 0.3062342038753155, 'DOMCharacterDataModified': 0.30454928390901326, 'groupCollapsed': 0.3038121314237544, 'loadeddata': 0.299705139005895, 'attributeFilter': 0.2989679865206385, 'entryType': 0.29833614153327526, 'additionalData': 0.29296545914068967, 'balanced': 0.292122999157539, 'Request': 0.2912805391743863, 'DONE': 0.2912805391743847, 'attributeOldValue': 0.2910699241786, 'applicationCache': 0.28875315922493644, 'oncontextmenu': 0.2881213142375728, 'webkitBackingStorePixelRatio': 0.2878053917438912, 'maxTouchPoints': 0.2870682392586312, 'pointercancel': 0.28664700926705805, 'near': 0.2845408593091794, 'characterDataOldValue': 0.28401432181971226, 'Uint8Array': 0.28401432181970776, 'entries': 0.2818028643639378, 'standalone': 0.2813816343723653, 'getSupportedExtensions': 0.2804338668913214, 'dirxml': 0.2801179443976401, 'profileEnd': 0.2801179443976401, 'selectionStart': 0.27990732940185, 'offline': 0.27938079191238185, 'permission': 0.27801179443976265, 'readAsText': 0.2758003369839897, 'oscpu': 0.2752737994945225, 'execCommand': 0.27516849199662685, 'stalled': 0.27348357203032636, 'onpause': 0.27327295703453974, 'animationstart': 0.2715880370682386, 'takeRecords': 0.2712721145745566, 'HTMLSelectElement': 0.2712721145745566, 'MutationEvent': 0.2712721145745566, 'HTMLInputElement': 0.2712721145745566, 'HTMLTextAreaElement': 0.2712721145745566, 'relatedNode': 0.2712721145745566, 'animVal': 0.2712721145745566, 'attributeNamespace': 0.2712721145745566, 'onafterprint': 0.2710614995787694, 'onbeforeprint': 0.2710614995787694, 'security': 0.2693765796124659, 'fullPath': 0.26906065711878263, 'setTransform': 0.2667438921651197, 'selectorText': 0.2661120471777568, 'importNode': 0.26569081718618326, 'Method': 0.2642165122156684, 'TEXT_NODE': 0.2642165122156684, 'fatal': 0.2635846672283039, 'serializeToString': 0.2628475147430488, 'XMLSerializer': 0.2628475147430488, 'system': 0.26253159224936595, 'offer': 0.262005054759894, '__defineGetter__': 0.26116259477674686, 'onpagehide': 0.25989890480201916, 'passive': 0.2596882898062324, 'task': 0.2586352148272911, 'back': 0.2585299073294006, 'protocols': 0.2569502948609933, 'yoffset': 0.2540016849199641, 'xoffset': 0.2540016849199641, 'responseURL': 0.2527379949452378, 'keygen': 0.2521061499578753, 'shaderSource': 0.2507371524852558, 'uniform2f': 0.2507371524852558, 'vertexAttribPointer': 0.2507371524852558, 'getUniformLocation': 0.2507371524852558, 'bindBuffer': 0.2507371524852558, 'useProgram': 0.2507371524852558, 'linkProgram': 0.2507371524852558, 'attachShader': 0.2507371524852558, 'createProgram': 0.2507371524852558, 'bufferData': 0.2507371524852558, 'ARRAY_BUFFER': 0.2507371524852558, 'createShader': 0.2507371524852558, 'enableVertexAttribArray': 0.2507371524852558, 'createBuffer': 0.2507371524852558, 'drawArrays': 0.2507371524852558, 'getAttribLocation': 0.2507371524852558, 'FLOAT': 0.2507371524852558, 'compileShader': 0.2507371524852558, 'declare': 0.24873631002527366, 'getAllResponseHeaders': 0.2482097725357989, 'productName': 0.2465248525695022, 'crash': 0.24494524010109303, 'selectionEnd': 0.24441870261162346, 'rowIndex': 0.24399747262005048, 'allow': 0.24304970513900415, 'removeAllRanges': 0.24199663016006476, 'getComputedTextLength': 0.2416807076663846, 'silent': 0.2416807076663846, 'formaction': 0.2406276326874456, 'scrollingElement': 0.2397851727042964, 'getBoxObjectFor': 0.23967986520640067, 'HTMLVideoElement': 0.23820556023588565, 'voice': 0.23767902274641822, 'httpEquiv': 0.2368365627632676, 'signal': 0.23673125526537003, 'overrideMimeType': 0.23588879528221957, 'iterator': 0.2314658803706778, 'compositionupdate': 0.23072872788542284, 'compositionstart': 0.23072872788542284, 'compositionend': 0.23072872788542284, 'globalAlpha': 0.23020219039595322, 'addRange': 0.22999157540016607, 'loadstart': 0.2269376579612441, 'credentials': 0.22662173546756129, 'pointerout': 0.22620050547598852, 'LOADED': 0.22462089300758037, 'importScripts': 0.22430497051390022, 'Iterator': 0.2243049705138998, 'Message': 0.22346251053074798, 'signature': 0.22325189553495853, 'touchleave': 0.22219882055602241, 'scrollAmount': 0.22072451558550849, 'MozMousePixelScroll': 0.22072451558550849, 'deltaMode': 0.22072451558550849, 'double': 0.2198820556023564, 'NULL': 0.21893428812131197, 'HTMLCollection': 0.21882898062341902, 'compareNode': 0.21735467565290653, 'respond': 0.21735467565290653, 'IndexedDB': 0.21735467565290653, 'collection': 0.2164069081718618, 'worker': 0.2149326032013479, 'intercept': 0.2149326032013479, 'onconnect': 0.2149326032013479, 'SharedWorker': 0.2149326032013479, 'discover': 0.2149326032013479, 'accessKey': 0.21493260320134705, 'srcdoc': 0.21451137320977184, 'availLeft': 0.21440606571187684, 'shadowOffsetY': 0.209877843302442, 'shadowOffsetX': 0.209877843302442, 'shadowColor': 0.209877843302442, 'played': 0.20987784330244, 'loginUrl': 0.20914069081718575, 'bgColor': 0.2088247683235031, 'HMAC': 0.208824768323503, 'selectstart': 0.20871946082560866, 'acceptCharset': 0.20724515585509687, 'setStyles': 0.20724515585509554, 'hasChildNodes': 0.20671861836562638, 'uninitialized': 0.20598146588036934, 'deleted': 0.20524431339511304, 'appearance': 0.20440185341196213, 'moveTo': 0.20313816343723406, 'writer': 0.20282224094355483, 'setSelectionRange': 0.20166385846672122, 'lineCap': 0.20124262847514635, 'linkColor': 0.20040016849199566, 'newURL': 0.19966301600673636, 'anchors': 0.1993470935130561, 'capabilities': 0.19934709351305538, 'clearRect': 0.19924178601516196, 'productSub': 0.1974515585509673, 'taintEnabled': 0.19713563605728696, 'touchenter': 0.19692502106149862, 'naturalHeight': 0.19650379106992244, 'dataTransfer': 0.19650379106992233, 'restore': 0.1963984835720272, 'getImageData': 0.19618786857623977, 'inputs': 0.19576663858466614, 'long': 0.19439764111204338, 'spellcheck': 0.1921861836562745, 'Response': 0.1912384161752297, 'setEnd': 0.1910278011794424, 'addColorStop': 0.18955349620892784, 'createLinearGradient': 0.18955349620892784, 'pname': 0.1868155012636898, 'lower': 0.18576242628475, 'IN': 0.18439342881212903, 'typeName': 0.18428812131423725, 'clients': 0.18355096882897962, 'lastModified': 0.18228727885425447, 'onhashchange': 0.1819713563605722, 'salt': 0.18197135636056935, 'isFile': 0.18186604886267596, 'Components': 0.18102358887952713, 'autocapitalize': 0.18081297388373907, 'autofocus': 0.18081297388373907, 'oncopy': 0.18081297388373907, 'motion': 0.18081297388373907, 'clipboardData': 0.18081297388373907, 'dragenter': 0.18081297388373907, 'radiusY': 0.18081297388373907, 'setStart': 0.18081297388373907, 'setDragImage': 0.18081297388373907, 'bias': 0.18081297388373907, 'setCursor': 0.18081297388373907, 'commonAncestorContainer': 0.18081297388373907, 'radiusX': 0.18081297388373907, 'dragover': 0.18081297388373907, 'clearData': 0.18081297388373907, 'ranges': 0.18081297388373907, 'oldURL': 0.18039174389216225, 'ProgressEvent': 0.17986520640269565, 'storeName': 0.1790227464195451, 'Cache': 0.17881213142375596, 'Report': 0.17828559393428692, 'endOffset': 0.1773378264532421, 'startOffset': 0.1773378264532421, 'OPEN': 0.1766006739679853, 'createAttribute': 0.17491575400168302, 'setAttributeNode': 0.17491575400168302, 'granted': 0.17396798652063972, 'Notification': 0.17396798652063972, 'PushManager': 0.17396798652063972, 'serviceWorker': 0.17396798652063972, 'pushManager': 0.17396798652063972, 'onorientationchange': 0.17354675652906337, 'imageWidth': 0.17344144903117054, 'imageHeight': 0.17344144903117054, 'createRadialGradient': 0.17249368155012468, 'putImageData': 0.17249368155012468, 'validity': 0.1719671440606566, 'sdp': 0.17186183656275997, 'amex': 0.17175652906486905, 'trailer': 0.17154591406907851, 'ctrl': 0.1681760741364782, 'FormData': 0.1638584667228289, 'recipient': 0.16364785172704244, 'mimeType': 0.16343723673125357, 'scoped': 0.16312131423757376, 'never': 0.16301600673967984, 'unlock': 0.16227885425442184, 'docCookies': 0.16206823925863473, 'COMMENT_NODE': 0.16017270429654476, 'minlength': 0.15975147430496967, 'respondWith': 0.15564448188711028, 'notificationclick': 0.15564448188711028, 'showNotification': 0.15564448188711028, 'ServiceWorkerRegistration': 0.15564448188711028, 'getTags': 0.15564448188711028, 'subscriptionId': 0.15564448188711028, 'matchAll': 0.15564448188711028, 'installing': 0.15564448188711028, 'getRegistration': 0.15564448188711028, 'waitUntil': 0.15564448188711028, 'openCursor': 0.15564448188711028, 'colgroup': 0.15522325189553415, 'getNotifications': 0.15459140690817183, 'onclosed': 0.15459140690817183, 'lineno': 0.15332771693344463, 'HTMLCanvasElement': 0.1529064869418688, 'srcset': 0.15248525695029386, 'documentURI': 0.15237994945240094, 'seekable': 0.15216933445661307, 'globalCompositeOperation': 0.1516427969671428, 'onpaste': 0.15080033698399298, 'createTouch': 0.15027379949452338, 'createIndex': 0.15027379949452338, 'createImageData': 0.15027379949452338, 'createTouchList': 0.15027379949452338, 'onend': 0.14837826453243255, 'FileList': 0.14764111204717587, 'readAsArrayBuffer': 0.14764111204717587, 'continuous': 0.1467986520640266, 'advance': 0.14658803706823806, 'DOCUMENT_NODE': 0.1459561920808758, 'iceServers': 0.1459561920808747, 'valueType': 0.14585088458298215, 'CM': 0.14437657961246836, 'iterations': 0.14248104465037853, 'decrypt': 0.14205981465880374, 'allowFullscreen': 0.14174389216512187, 'battery': 0.1415332771693334, 'expiration': 0.14121735467565283, 'PC': 0.14100673967986416, 'objectStoreNames': 0.14069081718618257, 'productVersion': 0.13974304970513898, 'entities': 0.139637742207245, 'flatten': 0.13921651221566805, 'PROCESSING_INSTRUCTION_NODE': 0.13816343723673094, 'CDATA_SECTION_NODE': 0.13816343723673094, 'ENTITY_NODE': 0.13816343723673094, 'ENTITY_REFERENCE_NODE': 0.13816343723673094, 'NOTATION_NODE': 0.13816343723673094, 'ATTRIBUTE_NODE': 0.13816343723673094, 'DOCUMENT_TYPE_NODE': 0.13816343723673094, 'DOCUMENT_FRAGMENT_NODE': 0.13816343723673094, 'maxValue': 0.13795282224094335, 'onended': 0.1373209772535803, 'onplay': 0.1373209772535803, 'authentication': 0.13647851727042967, 'serviceWorkerRegistration': 0.1352148272957033, 'shadowRoot': 0.13510951979780922, 'colno': 0.1317396798652063, 'picture': 0.1316343723673123, 'mir': 0.13058129738837393, 'KeyboardEvent': 0.12994945240101086, 'velocityY': 0.129001684919966, 'velocityX': 0.129001684919966, 'menubar': 0.12847514743049704, 'getPreventDefault': 0.12794860994102766, 'cmp': 0.12784330244313383, 'outerText': 0.12773799494524007, 'rootNode': 0.12773799494524007, 'fullpath': 0.12721145745577084, 'setStringValue': 0.12636899747262006, 'getStringValue': 0.12636899747262006, 'getFloatValue': 0.12636899747262006, 'radiogroup': 0.12636899747262006, 'setFloatValue': 0.12636899747262006, 'manipulation': 0.12605307497893853, 'isCollapsed': 0.12605307497893853, 'StorageManager': 0.12594776748104455, 'closePath': 0.12457877000842463, 'beginPath': 0.12457877000842463, 'strokeText': 0.12426284751474308, 'XPathResult': 0.12257792754844148, 'newName': 0.12131423757371528, 'onbeforescriptexecute': 0.12131423757371528, 'createShadowRoot': 0.12131423757371528, 'canplaythrough': 0.12131423757371528, 'onpointerdown': 0.12131423757371528, 'HTMLMediaElement': 0.12131423757371528, 'beforescriptexecute': 0.12131423757371528, 'acceleration': 0.12131423757371528, 'encodedBodySize': 0.12099831508003372, 'downlinkMax': 0.12099831508003372, 'transferSize': 0.12099831508003372, 'decodedBodySize': 0.12099831508003372, 'nextHopProtocol': 0.12099831508003372, 'ethernet': 0.12099831508003372, 'milliseconds': 0.12057708508845832, 'updatePage': 0.11962931760741367, 'example': 0.11762847514743052, 'xmlhttprequest': 0.11752316764953667, 'deleteDatabase': 0.11699663016006742, 'getFile': 0.11699663016006742, 'HTMLAudioElement': 0.11689132266217357, 'statusbar': 0.11531171019376582, 'webdriver': 0.11510109519797812, 'groupId': 0.11446925021061502, 'setParameter': 0.11257371524852572, 'Uint8ClampedArray': 0.11225779275484417, 'webkitGetUserMedia': 0.10983572030328562, 'ondragstart': 0.10846672283066557, 'createObjectURL': 0.10762426284751477, 'getMetadata': 0.10709772535804551, 'RTCPeerConnection': 0.10551811288963776, 'Option': 0.10541280539174391, 'TrackEvent': 0.10488626790227466, 'duplicate': 0.10478096040438081, 'lengthComputable': 0.10478096040438081, 'algorithm': 0.10404380791912386, 'encrypt': 0.10404380791912386, 'candidate': 0.10393850042123001, 'wget': 0.10372788542544231, 'this': 0.10372788542544231, 'indicate': 0.10372788542544231, 'snapshotItem': 0.10330665543386691, 'delivery': 0.10288542544229151, 'permissions': 0.10278011794439766, 'buildID': 0.10204296545914071, 'getError': 0.10183235046335301, 'rangeMin': 0.10141112047177761, 'getShaderPrecisionFormat': 0.10141112047177761, 'precision': 0.10141112047177761, 'getExtension': 0.10141112047177761, 'MAX_TEXTURE_MAX_ANISOTROPY_EXT': 0.10141112047177761, 'rangeMax': 0.10141112047177761, 'formData': 0.09951558550968831, 'NS_ERROR_DOM_SECURITY_ERR': 0.09951558550968831, 'PT': 0.09909435551811291, 'onicecandidate': 0.09783066554338671, 'setLocalDescription': 0.09783066554338671, 'createDataChannel': 0.09783066554338671, 'createOffer': 0.09783066554338671, 'isBuffer': 0.09762005054759901, 'Performance': 0.09677759056444821, 'ondrop': 0.0963563605728728, 'includes': 0.09625105307497896, 'idName': 0.0953032855939343, 'TEMPORARY': 0.09498736310025276, 'createWriter': 0.09498736310025276, 'IDBTransaction': 0.09498736310025276, 'IDBKeyRange': 0.09498736310025276, 'onloadend': 0.09498736310025276, 'requestFileSystem': 0.09498736310025276, 'getResponseHeader': 0.0948820556023589, 'dpi': 0.09456613310867736, 'bufferSize': 0.09393428812131425, 'accessibility': 0.09372367312552655, 'currentDirection': 0.09372367312552655, 'byteLength': 0.089195450716091, 'mul': 0.089195450716091, 'enctype': 0.08909014321819715, 'captureEvents': 0.087089300758214, 'OPENED': 0.0868786857624263, 'DOMMatrix': 0.08614153327716935, 'WindowProxy': 0.084983150800337, 'getCurrentPosition': 0.0841406908171862, 'itemType': 0.08382476832350465, 'MS': 0.08287700084246, 'NodeFilter': 0.0826663858466723, 'jcb': 0.0822451558550969, 'ORDERED_NODE_SNAPSHOT_TYPE': 0.08213984835720305, 'clearMeasures': 0.0820345408593092, 'clearMarks': 0.0820345408593092, 'didTimeout': 0.08108677337826455, 'previousElementSibling': 0.0809814658803707, 'currentTranslate': 0.0809814658803707, 'nested': 0.0809814658803707, 'mediaType': 0.08003369839932604, 'gbk': 0.0797177759056445, 'isConnected': 0.078664700926706, 'networkType': 0.07855939342881214, 'gesturechange': 0.07813816343723674, 'codebase': 0.0780328559393429, 'onLine': 0.07792754844144904, 'tls': 0.07761162594776749, 'udp': 0.07750631844987364, 'yPos': 0.07697978096040439, 'fullScreen': 0.07687447346251054, 'HTMLDataListElement': 0.07655855096882899, 'archive': 0.07645324347093514, 'pseudo': 0.07582139848357204, 'localDescription': 0.07582139848357204, 'inverse': 0.07561078348778434, 'unmuted': 0.07392586352148274, 'challenge': 0.07350463352990734, 'Int32Array': 0.07329401853411964, 'cloneRange': 0.07318871103622579, 'resultType': 0.07266217354675654, 'childElementCount': 0.07224094355518114, 'depthFunc': 0.07171440606571189, 'isPointInPath': 0.07171440606571189, 'getContextAttributes': 0.07171440606571189, 'EXT_texture_filter_anisotropic': 0.07171440606571189, 'clearColor': 0.07171440606571189, 'evenodd': 0.07171440606571189, 'toSource': 0.07171440606571189, 'multiply': 0.07171440606571189, 'CLOSED': 0.07160909856781804, 'Touch': 0.07139848357203034, 'loadend': 0.07129317607413649, 'family': 0.07118786857624264, 'xPos': 0.07097725358045494, 'onkeypress': 0.07024010109519799, 'reliable': 0.07013479359730414, 'startup': 0.06971356360572874, 'EMPTY': 0.06834456613310869, 'InstallTrigger': 0.06813395113732099, 'Web': 0.06802864363942714, 'scrollMaxY': 0.06802864363942714, 'curve': 0.06771272114574559, 'LINEAR': 0.06771272114574559, 'statusCode': 0.06729149115417019, 'badge': 0.06676495366470094, 'selectNode': 0.06655433866891323, 'getAttributeNS': 0.06560657118786858, 'chunks': 0.06560657118786858, 'oniceconnectionstatechange': 0.06560657118786858, 'RTCIceCandidate': 0.06560657118786858, 'iceConnectionState': 0.06560657118786858, 'ondatachannel': 0.06560657118786858, 'addIceCandidate': 0.06560657118786858, 'createAnswer': 0.06560657118786858, 'setRemoteDescription': 0.06560657118786858, 'signalingState': 0.06560657118786858, 'onnegotiationneeded': 0.06560657118786858, 'RTCSessionDescription': 0.06560657118786858, 'endOfStream': 0.06560657118786858, 'closeMessage': 0.06476411120471778, 'Beacon': 0.06402695871946083, 'cardSecurityCode': 0.06381634372367313, 'm31': 0.06234203875315924, 'camera': 0.06223673125526539, 'platforms': 0.06107834877843304, 'activated': 0.06065711878685764, 'streams': 0.06055181128896379, 'memory': 0.06055181128896379, 'requestPermission': 0.05981465880370684, 'baseVal': 0.05960404380791914, 'History': 0.05939342881213144, 'crossorigin': 0.058972198820556036, 'byteOffset': 0.058866891322662186, 'Float64Array': 0.058866891322662186, 'singleNodeValue': 0.058656276326874486, 'hardwareConcurrency': 0.057392586352148285, 'revokeObjectURL': 0.057181971356360585, 'Console': 0.057076663858466735, 'maxBitrate': 0.055602358887952834, 'codec': 0.055602358887952834, 'scale3d': 0.055181128896377434, 'Crypto': 0.05475989890480203, 'argument': 0.05433866891322663, 'onfinish': 0.05286436394271273, 'm14': 0.05286436394271273, 'm11': 0.05286436394271273, 'm13': 0.05286436394271273, 'm12': 0.05286436394271273, 'lineTo': 0.05286436394271273, 'attachment': 0.05233782645324348, 'ipAddress': 0.05233782645324348, 'dtx': 0.05202190395956193, 'm32': 0.05202190395956193, 'm34': 0.05202190395956193, 'vpn': 0.05181128896377423, 'sse': 0.05170598146588038, 'vtt': 0.05160067396798653, 'codetype': 0.05149536647009268, 'mms': 0.05149536647009268, 'details': 0.05139005897219883, 'turn': 0.04991575400168493, 'FocusEvent': 0.04991575400168493, 'UIEvent': 0.04991575400168493, 'InputEvent': 0.04991575400168493, 'CompositionEvent': 0.04991575400168493, 'beforeinput': 0.04991575400168493, 'toJson': 0.04970513900589723, 'selectNodeContents': 0.04917860151642798, 'onenter': 0.04770429654591408, 'onmouseup': 0.04770429654591408, 'Client': 0.04738837405223253, 'album': 0.04675652906486943, 'Entry': 0.04612468407750633, 'addModule': 0.045598146588037076, 'Display': 0.044545071609098576, 'scriptNode': 0.043702611625947775, 'readable': 0.043597304128053925, 'appendBuffer': 0.043597304128053925, 'timeRemaining': 0.043597304128053925, 'statusMessage': 0.043597304128053925, 'arraybuffer': 0.043597304128053925, 'sourceopen': 0.043597304128053925, 'getReader': 0.043597304128053925, 'Int8Array': 0.043597304128053925, 'remoteDescription': 0.043597304128053925, 'mediasource': 0.043597304128053925, 'UNSENT': 0.043597304128053925, 'sdpMid': 0.043597304128053925, 'Metadata': 0.043597304128053925, 'addStream': 0.043597304128053925, 'DataView': 0.043597304128053925, 'addSourceBuffer': 0.043597304128053925, 'bufferedAmount': 0.043597304128053925, 'iceGatheringState': 0.043597304128053925, 'TextEncoder': 0.043597304128053925, 'reserve': 0.043597304128053925, 'videoTracks': 0.043597304128053925, 'candidateType': 0.043597304128053925, 'TextDecoder': 0.043597304128053925, 'isTypeSupported': 0.043597304128053925, 'audioTracks': 0.043597304128053925, 'subtle': 0.043597304128053925, 'highWaterMark': 0.043597304128053925, 'onsignalingstatechange': 0.043597304128053925, 'binaryType': 0.043597304128053925, 'getTrackById': 0.043597304128053925, 'FileReaderSync': 0.043597304128053925, 'updating': 0.043597304128053925, 'sdpMLineIndex': 0.043597304128053925, 'onaddstream': 0.043597304128053925, 'Int16Array': 0.043597304128053925, 'insertRow': 0.043176074136478525, 'persist': 0.042965459140690825, 'wasClean': 0.042228306655433874, 'originalTarget': 0.041491154170176923, 'xor': 0.04106992417860152, 'releaseCapture': 0.04085930918281382, 'setCapture': 0.04085930918281382, 'eventPhase': 0.04085930918281382, 'commit': 0.04075400168491997, 'abbr': 0.03959561920808762, 'bezierCurveTo': 0.03927969671440607, 'cloneContents': 0.03896377422072452, 'loadOverlay': 0.03896377422072452, 'isTrusted': 0.03854254422914912, 'AudioContext': 0.03843723673125527, 'onwebkittransitionend': 0.03801600673967987, 'elapsedTime': 0.03801600673967987, 'onwebkitanimationend': 0.03801600673967987, 'ontransitionend': 0.03801600673967987, 'onanimationend': 0.03801600673967987, 'MEDIA_ERR_NETWORK': 0.03791069924178602, 'MEDIA_ERR_SRC_NOT_SUPPORTED': 0.03791069924178602, 'MEDIA_ERR_DECODE': 0.03791069924178602, 'ErrorEvent': 0.03727885425442292, 'EventTarget': 0.03706823925863522, 'taskList': 0.03696293176074137, 'dragleave': 0.03675231676495367, 'HTMLPictureElement': 0.03622577927548442, 'productID': 0.03580454928390902, 'mediaSource': 0.03559393428812132, 'currentNode': 0.03496208930075822, 'SHOW_TEXT': 0.03496208930075822, 'createTreeWalker': 0.03496208930075822, 'getFrameData': 0.03422493681550127, 'readAsDataURL': 0.03422493681550127, 'getParameters': 0.03380370682392587, '0xf0': 0.03327716933445662, 'oninput': 0.03254001684919967, 'isEqualNode': 0.03211878685762427, 'visa': 0.03096040438079192, 'diners': 0.03096040438079192, 'pickup': 0.03096040438079192, 'shadowBlur': 0.03085509688289807, 'columnNumber': 0.03064448188711037, 'pressed': 0.03064448188711037, 'reply': 0.03032855939342882, 'bodyUsed': 0.03022325189553497, 'crossOrigin': 0.02980202190395957, 'getGamepads': 0.02969671440606572, 'WEBGL_draw_buffers': 0.02969671440606572, 'FRAGMENT_SHADER_DERIVATIVE_HINT_OES': 0.02969671440606572, 'MAX_COLOR_ATTACHMENTS_WEBGL': 0.02969671440606572, 'RTCDataChannelEvent': 0.02969671440606572, 'webgl2': 0.02969671440606572, 'OES_standard_derivatives': 0.02969671440606572, 'MAX_DRAW_BUFFERS_WEBGL': 0.02969671440606572, 'WEBGL_debug_renderer_info': 0.02969671440606572, 'requestPointerLock': 0.02969671440606572, 'upper': 0.028959561920808768, 'getCapabilities': 0.028854254422914918, 'setUserData': 0.028854254422914918, 'textTracks': 0.028748946925021068, 'minLength': 0.028011794439764117, 'areas': 0.027906486941870267, 'deleteRow': 0.027906486941870267, 'UnknownError': 0.027906486941870267, 'getBattery': 0.027695871946082567, 'SecurityError': 0.027695871946082567, 'UNORDERED_NODE_ITERATOR_TYPE': 0.027590564448188717, 'bound': 0.027274641954507167, 'payments': 0.026958719460825616, 'exact': 0.026958719460825616, 'm44': 0.026748104465037916, 'm43': 0.026748104465037916, 'Enabled': 0.026537489469250216, 'ttt': 0.025905644481887116, 'fec': 0.025905644481887116, 'iii': 0.025905644481887116, 'csp': 0.025905644481887116, 'gfx': 0.025695029486099415, 'idl': 0.025695029486099415, 'in1': 0.025695029486099415, 'cues': 0.025589721988205565, 'MessageEvent': 0.025484414490311715, 'rtx': 0.025484414490311715, 'rtt': 0.025484414490311715, 'isSync': 0.025168491996630165, 'intl': 0.023588879528222414, 'public': 0.023483572030328564, 'NUMBER': 0.023167649536647014, 'Referer': 0.023062342038753163, 'lineJoin': 0.022219882055602363, 'isIdentity': 0.022219882055602363, 'butt': 0.022219882055602363, 'quadraticCurveTo': 0.022219882055602363, 'bevel': 0.022219882055602363, 'miterLimit': 0.022219882055602363, 'miter': 0.022219882055602363, 'getAnimations': 0.022219882055602363, 'arcTo': 0.022219882055602363, 'createPattern': 0.022219882055602363, 'measureText': 0.022219882055602363, 'mozGetUserMedia': 0.022009267059814663, 'sctp': 0.022009267059814663, 'MEDIA_ERR_ABORTED': 0.022009267059814663, 'PBKDF2': 0.022009267059814663, 'currentState': 0.022009267059814663, 'pathSegList': 0.021903959561920813, 'getTotalLength': 0.021903959561920813, 'yOrient': 0.021903959561920813, 'xOrient': 0.021903959561920813, 'dragend': 0.021903959561920813, 'Body': 0.021377422072451562, 'formAction': 0.021166807076663862, 'snapshotLength': 0.021166807076663862, 'WebKitPoint': 0.02053496208930076, 'netinfo': 0.02021903959561921, 'encrypted': 0.02021903959561921, 'deviceid': 0.01990311710193766, 'regionCode': 0.01937657961246841, 'addElement': 0.01937657961246841, 'unitType': 0.01916596461668071, 'getPropertyCSSValue': 0.01842881213142376, 'onstorage': 0.01832350463352991, 'getSubscription': 0.01832350463352991, 'namedItem': 0.01811288963774221, 'relay': 0.01769165964616681, 'appendData': 0.01705981465880371, 'characters': 0.01705981465880371, 'supports': 0.01705981465880371, 'viewBox': 0.01705981465880371, 'face': 0.01705981465880371, 'delayTime': 0.01674389216512216, 'splitText': 0.01663858466722831, 'tooLong': 0.01663858466722831, 'requestData': 0.016006739679865208, 'isContentEditable': 0.016006739679865208, 'initialTime': 0.015901432181971358, 'dropzone': 0.015690817186183658, 'pull': 0.01526958719460826, 'insertCell': 0.01526958719460826, 'watchPosition': 0.01484835720303286, 'clearWatch': 0.01484835720303286, 'XMLDocument': 0.014743049705139009, 'Screen': 0.014743049705139009, 'buttonID': 0.014321819713563609, 'Transition': 0.013795282224094358, 'changeType': 0.013268744734625108, 'initUIEvent': 0.013268744734625108, 'oncomplete': 0.013163437236731258, 'onpopstate': 0.012847514743049708, 'getQueryParameter': 0.012847514743049708, 'ANY_TYPE': 0.012847514743049708, 'disposition': 0.012847514743049708, 'newVersion': 0.012426284751474307, 'oldVersion': 0.012426284751474307, 'developer': 0.012320977253580457, 'setParameters': 0.012320977253580457, 'InvalidStateError': 0.011899747262005057, 'InvalidAccessError': 0.011899747262005057, 'dischargingTime': 0.011794439764111207, 'chargingTime': 0.011794439764111207, 'charging': 0.011794439764111207, 'mozRequestFullScreen': 0.010320134793597306, 'insertNode': 0.010214827295703456, 'endContainer': 0.010214827295703456, 'setStartAfter': 0.010214827295703456, 'DOMSubtreeModified': 0.009898904802021906, 'ondragleave': 0.009267059814658805, 'ondrag': 0.009267059814658805, 'ondblclick': 0.009267059814658805, 'onactivate': 0.009267059814658805, 'onstart': 0.009267059814658805, 'ondragenter': 0.009267059814658805, 'ondragover': 0.009267059814658805, 'ondragend': 0.009267059814658805, 'accesskey': 0.009267059814658805, 'MIN': 0.009267059814658805, 'mediaDevices': 0.008740522325189555, 'mozCaptureStream': 0.008740522325189555, 'enumerateDevices': 0.008740522325189555, 'CLOSING': 0.008740522325189555, 'createMediaStreamSource': 0.008740522325189555, 'MediaStreamTrack': 0.008740522325189555, 'MediaDevices': 0.008740522325189555, 'msSaveBlob': 0.008740522325189555, 'captureStream': 0.008740522325189555, 'getSources': 0.008740522325189555, 'msSaveOrOpenBlob': 0.008740522325189555, 'hasAttributes': 0.008424599831508004, 'iconURL': 0.008319292333614154, 'oauth': 0.0072662173546756545, 'reconnect': 0.007055602358887954, 'systemID': 0.006739679865206404, 'expansion': 0.006213142375737154, 'HTMLImageElement': 0.005581297388374053, 'pointerover': 0.005475989890480203, 'POSITION_UNAVAILABLE': 0.005370682392586353, 'PERMISSION_DENIED': 0.005370682392586353, 'getQuery': 0.004844144903117103, 'SYNTAX_ERR': 0.004738837405223253, 'INVALID_CHARACTER_ERR': 0.004738837405223253, 'DOMException': 0.004738837405223253, 'QUOTA_EXCEEDED_ERR': 0.004317607413647852, 'QuotaExceededError': 0.004317607413647852, 'localName': 0.0038963774220724524, 'deviceClass': 0.0029486099410278017, 'External': 0.001790227464195451}\n"
     ]
    }
   ],
   "source": [
    "weight_freq = {}\n",
    "for nod in G.nodes:\n",
    "    weight_freq[nod] = G.nodes[nod]['deg_wt']\n",
    "sorted_weight = dict(sorted(weight_freq.items(), key=lambda item: item[1], reverse=True))\n",
    "print(sorted_weight)"
   ]
  },
  {
   "cell_type": "code",
   "execution_count": null,
   "id": "rotary-report",
   "metadata": {
    "pycharm": {
     "name": "#%%\n"
    }
   },
   "outputs": [],
   "source": []
  },
  {
   "cell_type": "code",
   "execution_count": 20,
   "id": "focal-clearance",
   "metadata": {
    "pycharm": {
     "name": "#%%\n"
    }
   },
   "outputs": [],
   "source": [
    "# Check whether the graph is connected"
   ]
  },
  {
   "cell_type": "code",
   "execution_count": 21,
   "id": "willing-delicious",
   "metadata": {
    "pycharm": {
     "name": "#%%\n"
    }
   },
   "outputs": [
    {
     "data": {
      "text/plain": [
       "True"
      ]
     },
     "execution_count": 21,
     "metadata": {},
     "output_type": "execute_result"
    }
   ],
   "source": [
    "nx.is_connected(G)"
   ]
  },
  {
   "cell_type": "code",
   "execution_count": 22,
   "id": "nonprofit-pacific",
   "metadata": {
    "pycharm": {
     "name": "#%%\n"
    }
   },
   "outputs": [],
   "source": [
    "# Clustering Coefficient"
   ]
  },
  {
   "cell_type": "code",
   "execution_count": 23,
   "id": "pretty-roots",
   "metadata": {
    "pycharm": {
     "name": "#%%\n"
    }
   },
   "outputs": [
    {
     "data": {
      "text/plain": [
       "0.8170790292230317"
      ]
     },
     "execution_count": 23,
     "metadata": {},
     "output_type": "execute_result"
    }
   ],
   "source": [
    "nx.average_clustering(G)"
   ]
  },
  {
   "cell_type": "code",
   "execution_count": 24,
   "id": "digital-sucking",
   "metadata": {
    "pycharm": {
     "name": "#%%\n"
    }
   },
   "outputs": [],
   "source": [
    "# average_shortest_path_length"
   ]
  },
  {
   "cell_type": "code",
   "execution_count": 25,
   "id": "humanitarian-parish",
   "metadata": {
    "pycharm": {
     "name": "#%%\n"
    }
   },
   "outputs": [
    {
     "data": {
      "text/plain": [
       "1.6690646307298629"
      ]
     },
     "execution_count": 25,
     "metadata": {},
     "output_type": "execute_result"
    }
   ],
   "source": [
    "nx.average_shortest_path_length(G)"
   ]
  },
  {
   "cell_type": "code",
   "execution_count": 26,
   "id": "young-mapping",
   "metadata": {
    "pycharm": {
     "name": "#%%\n"
    }
   },
   "outputs": [],
   "source": [
    "#Lovain methof"
   ]
  },
  {
   "cell_type": "code",
   "execution_count": 27,
   "id": "genetic-turning",
   "metadata": {
    "pycharm": {
     "name": "#%%\n"
    }
   },
   "outputs": [],
   "source": [
    "partition = community_louvain.best_partition(G, resolution=0.88, weight='weight')"
   ]
  },
  {
   "cell_type": "code",
   "execution_count": 28,
   "id": "ruled-burner",
   "metadata": {
    "pycharm": {
     "name": "#%%\n"
    }
   },
   "outputs": [],
   "source": [
    "# number of partinions"
   ]
  },
  {
   "cell_type": "code",
   "execution_count": 29,
   "id": "joined-missouri",
   "metadata": {
    "pycharm": {
     "name": "#%%\n"
    }
   },
   "outputs": [
    {
     "name": "stdout",
     "output_type": "stream",
     "text": [
      "11\n"
     ]
    }
   ],
   "source": [
    "num_of_partitions = len(set(partition.values()))\n",
    "print(num_of_partitions)"
   ]
  },
  {
   "cell_type": "code",
   "execution_count": 30,
   "id": "metropolitan-harvard",
   "metadata": {
    "pycharm": {
     "name": "#%%\n"
    }
   },
   "outputs": [
    {
     "name": "stdout",
     "output_type": "stream",
     "text": [
      "75\n",
      "152\n",
      "547\n",
      "742\n",
      "18\n",
      "149\n",
      "133\n",
      "68\n",
      "184\n",
      "1\n",
      "2\n"
     ]
    }
   ],
   "source": [
    "api_hash_fract = {}\n",
    "for key, value in partition.items():\n",
    "    api_hash_fract[key] = value\n",
    "louvain_clusters = {}\n",
    "for i in range(num_of_partitions):\n",
    "    clust = []\n",
    "    for key, value in api_hash_fract.items():\n",
    "        if value == i:\n",
    "            clust.append(key)\n",
    "    louvain_clusters[i] = clust\n",
    "for i in range(num_of_partitions):\n",
    "    print(len(louvain_clusters[i]))"
   ]
  },
  {
   "cell_type": "code",
   "execution_count": 31,
   "id": "geological-modeling",
   "metadata": {
    "pycharm": {
     "name": "#%%\n"
    }
   },
   "outputs": [],
   "source": [
    "with open(\"Lovain_clusters.json\", 'w') as l:\n",
    "    json.dump(louvain_clusters,l, indent=4)"
   ]
  }
 ],
 "metadata": {
  "kernelspec": {
   "display_name": "Python 3",
   "language": "python",
   "name": "python3"
  },
  "language_info": {
   "codemirror_mode": {
    "name": "ipython",
    "version": 3
   },
   "file_extension": ".py",
   "mimetype": "text/x-python",
   "name": "python",
   "nbconvert_exporter": "python",
   "pygments_lexer": "ipython3",
   "version": "3.8.5"
  }
 },
 "nbformat": 4,
 "nbformat_minor": 5
}
