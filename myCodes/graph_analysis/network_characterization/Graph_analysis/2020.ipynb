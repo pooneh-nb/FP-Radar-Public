{
 "cells": [
  {
   "cell_type": "code",
   "execution_count": 1,
   "id": "viral-banana",
   "metadata": {
    "pycharm": {
     "name": "#%%\n"
    }
   },
   "outputs": [],
   "source": [
    "from networkx.readwrite import json_graph\n",
    "import networkx as nx\n",
    "import json\n",
    "import matplotlib.pyplot as plt\n",
    "import community as community_louvain"
   ]
  },
  {
   "cell_type": "code",
   "execution_count": 6,
   "id": "automotive-lease",
   "metadata": {
    "pycharm": {
     "name": "#%%\n"
    }
   },
   "outputs": [],
   "source": [
    "with open(\"/home/c6/Desktop/OpenWPM/jsons/AST/CDX_results/Graphs/2020/Graph.json\", 'rt') as gr:\n",
    "    g = json.load(gr)"
   ]
  },
  {
   "cell_type": "code",
   "execution_count": 7,
   "id": "judicial-bottom",
   "metadata": {
    "pycharm": {
     "name": "#%%\n"
    }
   },
   "outputs": [],
   "source": [
    "G = json_graph.node_link_graph(g)"
   ]
  },
  {
   "cell_type": "code",
   "execution_count": 8,
   "id": "compliant-condition",
   "metadata": {
    "pycharm": {
     "name": "#%%\n"
    }
   },
   "outputs": [
    {
     "name": "stdout",
     "output_type": "stream",
     "text": [
      "<class 'networkx.classes.graph.Graph'>\n"
     ]
    }
   ],
   "source": [
    "print(type(G))"
   ]
  },
  {
   "cell_type": "code",
   "execution_count": null,
   "id": "velvet-flexibility",
   "metadata": {
    "pycharm": {
     "name": "#%%\n"
    }
   },
   "outputs": [],
   "source": [
    "# Print number of nodes and edges"
   ]
  },
  {
   "cell_type": "code",
   "execution_count": 9,
   "id": "likely-globe",
   "metadata": {
    "pycharm": {
     "name": "#%%\n"
    }
   },
   "outputs": [
    {
     "name": "stdout",
     "output_type": "stream",
     "text": [
      "Number of Nodes:  3233\n",
      "Number of Edges:  1892599\n"
     ]
    }
   ],
   "source": [
    "print(\"Number of Nodes: \", len(G.nodes()))\n",
    "print(\"Number of Edges: \", len(G.edges()))"
   ]
  },
  {
   "cell_type": "code",
   "execution_count": null,
   "id": "compliant-thursday",
   "metadata": {
    "pycharm": {
     "name": "#%%\n"
    }
   },
   "outputs": [],
   "source": [
    "#Degree calculation"
   ]
  },
  {
   "cell_type": "code",
   "execution_count": null,
   "id": "significant-equality",
   "metadata": {
    "pycharm": {
     "name": "#%%\n"
    }
   },
   "outputs": [],
   "source": [
    "for node_temp in G.nodes():\n",
    "    wt = 0\n",
    "    deg = 0\n",
    "    for nbr, eattr in G.adj[node_temp].items():\n",
    "        wt = wt + eattr['weight']\n",
    "        deg += 1\n",
    "    G.nodes[node_temp]['deg_wt'] = wt\n",
    "    G.nodes[node_temp]['deg'] = deg"
   ]
  },
  {
   "cell_type": "code",
   "execution_count": null,
   "id": "saving-equipment",
   "metadata": {
    "pycharm": {
     "name": "#%%\n"
    }
   },
   "outputs": [],
   "source": [
    "#Degree distrivution"
   ]
  },
  {
   "cell_type": "code",
   "execution_count": null,
   "id": "anonymous-voice",
   "metadata": {
    "pycharm": {
     "name": "#%%\n"
    }
   },
   "outputs": [],
   "source": [
    "degree_freq = []\n",
    "for nod in G.nodes:\n",
    "    degree_freq.append(G.nodes[nod]['deg'])\n",
    "\n",
    "degrees = range(len(degree_freq))\n",
    "plt.figure(figsize=(12, 8))\n",
    "plt.hist(degree_freq, color='green', bins=20)\n",
    "plt.xlabel('Degree')\n",
    "plt.ylabel('Frequency')"
   ]
  },
  {
   "cell_type": "code",
   "execution_count": null,
   "id": "incorporated-criterion",
   "metadata": {
    "pycharm": {
     "name": "#%%\n"
    }
   },
   "outputs": [],
   "source": [
    "# Weight Distribution"
   ]
  },
  {
   "cell_type": "code",
   "execution_count": null,
   "id": "proved-guidance",
   "metadata": {
    "pycharm": {
     "name": "#%%\n"
    }
   },
   "outputs": [],
   "source": [
    "weight_freq = []\n",
    "for nod in G.nodes:\n",
    "    weight_freq.append(G.nodes[nod]['deg_wt'])\n",
    "\n",
    "wt = range(len(weight_freq))\n",
    "plt.figure(figsize=(12, 8))\n",
    "plt.hist(weight_freq, color='green', bins=20)\n",
    "plt.xlabel('Weight')\n",
    "plt.ylabel('Frequency')"
   ]
  },
  {
   "cell_type": "code",
   "execution_count": null,
   "id": "finished-strand",
   "metadata": {
    "pycharm": {
     "name": "#%%\n"
    }
   },
   "outputs": [],
   "source": [
    "# Degree statistics"
   ]
  },
  {
   "cell_type": "code",
   "execution_count": null,
   "id": "declared-mount",
   "metadata": {
    "pycharm": {
     "name": "#%%\n"
    }
   },
   "outputs": [],
   "source": [
    "# Average degree\n",
    "print(sum(degree_freq)/len(G.nodes))\n",
    "print(min(degree_freq))\n",
    "print(max(degree_freq))"
   ]
  },
  {
   "cell_type": "code",
   "execution_count": null,
   "id": "impressive-embassy",
   "metadata": {
    "pycharm": {
     "name": "#%%\n"
    }
   },
   "outputs": [],
   "source": [
    "# Weight Statistics\n",
    "print(sum(weight_freq)/len(G.nodes))\n",
    "print(min(weight_freq))\n",
    "print(max(weight_freq))"
   ]
  },
  {
   "cell_type": "code",
   "execution_count": null,
   "id": "grand-reflection",
   "metadata": {
    "pycharm": {
     "name": "#%%\n"
    }
   },
   "outputs": [],
   "source": [
    "# sort nodes based on degree"
   ]
  },
  {
   "cell_type": "code",
   "execution_count": null,
   "id": "popular-trinidad",
   "metadata": {
    "pycharm": {
     "name": "#%%\n"
    }
   },
   "outputs": [],
   "source": [
    "degree_freq = {}\n",
    "for nod in G.nodes:\n",
    "    degree_freq[nod] = G.nodes[nod]['deg']\n",
    "sorted_degree = dict(sorted(degree_freq.items(), key=lambda item: item[1], reverse=True))\n",
    "print(sorted_degree)"
   ]
  },
  {
   "cell_type": "code",
   "execution_count": null,
   "id": "middle-italic",
   "metadata": {
    "pycharm": {
     "name": "#%%\n"
    }
   },
   "outputs": [],
   "source": [
    "# sort nodes based on weight"
   ]
  },
  {
   "cell_type": "code",
   "execution_count": null,
   "id": "basic-partition",
   "metadata": {
    "pycharm": {
     "name": "#%%\n"
    }
   },
   "outputs": [],
   "source": [
    "weight_freq = {}\n",
    "for nod in G.nodes:\n",
    "    weight_freq[nod] = G.nodes[nod]['deg_wt']\n",
    "sorted_weight = dict(sorted(weight_freq.items(), key=lambda item: item[1], reverse=True))\n",
    "print(sorted_weight)"
   ]
  },
  {
   "cell_type": "code",
   "execution_count": null,
   "id": "heard-singles",
   "metadata": {
    "pycharm": {
     "name": "#%%\n"
    }
   },
   "outputs": [],
   "source": []
  },
  {
   "cell_type": "code",
   "execution_count": null,
   "id": "alleged-surge",
   "metadata": {
    "pycharm": {
     "name": "#%%\n"
    }
   },
   "outputs": [],
   "source": [
    "# Check whether the graph is connected"
   ]
  },
  {
   "cell_type": "code",
   "execution_count": null,
   "id": "mysterious-cleanup",
   "metadata": {
    "pycharm": {
     "name": "#%%\n"
    }
   },
   "outputs": [],
   "source": [
    "nx.is_connected(G)"
   ]
  },
  {
   "cell_type": "code",
   "execution_count": null,
   "id": "continuing-connecticut",
   "metadata": {
    "pycharm": {
     "name": "#%%\n"
    }
   },
   "outputs": [],
   "source": [
    "# Clustering Coefficient"
   ]
  },
  {
   "cell_type": "code",
   "execution_count": null,
   "id": "rough-mechanics",
   "metadata": {
    "pycharm": {
     "name": "#%%\n"
    }
   },
   "outputs": [],
   "source": [
    "nx.average_clustering(G)"
   ]
  },
  {
   "cell_type": "code",
   "execution_count": null,
   "id": "hollow-lotus",
   "metadata": {
    "pycharm": {
     "name": "#%%\n"
    }
   },
   "outputs": [],
   "source": [
    "# average_shortest_path_length"
   ]
  },
  {
   "cell_type": "code",
   "execution_count": null,
   "id": "relative-stuff",
   "metadata": {
    "pycharm": {
     "name": "#%%\n"
    }
   },
   "outputs": [],
   "source": [
    "nx.average_shortest_path_length(G)"
   ]
  },
  {
   "cell_type": "code",
   "execution_count": null,
   "id": "commercial-ferry",
   "metadata": {
    "pycharm": {
     "name": "#%%\n"
    }
   },
   "outputs": [],
   "source": [
    "#Lovain methof"
   ]
  },
  {
   "cell_type": "code",
   "execution_count": null,
   "id": "assigned-annex",
   "metadata": {
    "pycharm": {
     "name": "#%%\n"
    }
   },
   "outputs": [],
   "source": [
    "partition = community_louvain.best_partition(G, resolution=0.88, weight='weight')"
   ]
  },
  {
   "cell_type": "code",
   "execution_count": null,
   "id": "demonstrated-deviation",
   "metadata": {
    "pycharm": {
     "name": "#%%\n"
    }
   },
   "outputs": [],
   "source": [
    "# number of partinions"
   ]
  },
  {
   "cell_type": "code",
   "execution_count": null,
   "id": "czech-robert",
   "metadata": {
    "pycharm": {
     "name": "#%%\n"
    }
   },
   "outputs": [],
   "source": [
    "num_of_partitions = len(set(partition.values()))\n",
    "print(num_of_partitions)"
   ]
  },
  {
   "cell_type": "code",
   "execution_count": null,
   "id": "korean-quantity",
   "metadata": {
    "pycharm": {
     "name": "#%%\n"
    }
   },
   "outputs": [],
   "source": [
    "api_hash_fract = {}\n",
    "for key, value in partition.items():\n",
    "    api_hash_fract[key] = value\n",
    "louvain_clusters = {}\n",
    "for i in range(num_of_partitions):\n",
    "    clust = []\n",
    "    for key, value in api_hash_fract.items():\n",
    "        if value == i:\n",
    "            clust.append(key)\n",
    "    louvain_clusters[i] = clust\n",
    "for i in range(num_of_partitions):\n",
    "    print(len(louvain_clusters[i]))"
   ]
  },
  {
   "cell_type": "code",
   "execution_count": null,
   "id": "practical-roommate",
   "metadata": {
    "pycharm": {
     "name": "#%%\n"
    }
   },
   "outputs": [],
   "source": [
    "with open(\"Lovain_clusters.json\", 'w') as l:\n",
    "    json.dump(louvain_clusters,l, indent=4)"
   ]
  }
 ],
 "metadata": {
  "kernelspec": {
   "display_name": "Python 3",
   "language": "python",
   "name": "python3"
  },
  "language_info": {
   "codemirror_mode": {
    "name": "ipython",
    "version": 3
   },
   "file_extension": ".py",
   "mimetype": "text/x-python",
   "name": "python",
   "nbconvert_exporter": "python",
   "pygments_lexer": "ipython3",
   "version": "3.8.5"
  }
 },
 "nbformat": 4,
 "nbformat_minor": 5
}