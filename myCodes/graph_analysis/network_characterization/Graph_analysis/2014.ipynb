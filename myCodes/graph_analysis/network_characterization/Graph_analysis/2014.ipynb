{
 "cells": [
  {
   "cell_type": "code",
   "execution_count": null,
   "id": "historical-guess",
   "metadata": {
    "pycharm": {
     "name": "#%%\n"
    }
   },
   "outputs": [],
   "source": []
  },
  {
   "cell_type": "code",
   "execution_count": 1,
   "id": "committed-tactics",
   "metadata": {
    "pycharm": {
     "name": "#%%\n"
    }
   },
   "outputs": [],
   "source": [
    "from networkx.readwrite import json_graph\n",
    "import networkx as nx\n",
    "import json\n",
    "import matplotlib.pyplot as plt\n",
    "import community as community_louvain"
   ]
  },
  {
   "cell_type": "code",
   "execution_count": 2,
   "id": "inappropriate-mississippi",
   "metadata": {
    "pycharm": {
     "name": "#%%\n"
    }
   },
   "outputs": [],
   "source": [
    "with open(\"/home/c6/Desktop/OpenWPM/jsons/AST/CDX_results/Graphs/2014/Graph.json\", 'rt') as gr:\n",
    "    g = json.load(gr)"
   ]
  },
  {
   "cell_type": "code",
   "execution_count": 3,
   "id": "interstate-finder",
   "metadata": {
    "pycharm": {
     "name": "#%%\n"
    }
   },
   "outputs": [],
   "source": [
    "G = json_graph.node_link_graph(g)"
   ]
  },
  {
   "cell_type": "code",
   "execution_count": 4,
   "id": "threatened-router",
   "metadata": {
    "pycharm": {
     "name": "#%%\n"
    }
   },
   "outputs": [
    {
     "name": "stdout",
     "output_type": "stream",
     "text": [
      "<class 'networkx.classes.graph.Graph'>\n"
     ]
    }
   ],
   "source": [
    "print(type(G))"
   ]
  },
  {
   "cell_type": "code",
   "execution_count": 5,
   "id": "portable-given",
   "metadata": {
    "pycharm": {
     "name": "#%%\n"
    }
   },
   "outputs": [],
   "source": [
    "# Print number of nodes and edges"
   ]
  },
  {
   "cell_type": "code",
   "execution_count": 6,
   "id": "computational-subdivision",
   "metadata": {
    "pycharm": {
     "name": "#%%\n"
    }
   },
   "outputs": [
    {
     "name": "stdout",
     "output_type": "stream",
     "text": [
      "Number of Nodes:  1845\n",
      "Number of Edges:  533639\n"
     ]
    }
   ],
   "source": [
    "print(\"Number of Nodes: \", len(G.nodes()))\n",
    "print(\"Number of Edges: \", len(G.edges()))"
   ]
  },
  {
   "cell_type": "code",
   "execution_count": 7,
   "id": "surprised-messenger",
   "metadata": {
    "pycharm": {
     "name": "#%%\n"
    }
   },
   "outputs": [],
   "source": [
    "#Degree calculation"
   ]
  },
  {
   "cell_type": "code",
   "execution_count": 8,
   "id": "specialized-spice",
   "metadata": {
    "pycharm": {
     "name": "#%%\n"
    }
   },
   "outputs": [],
   "source": [
    "for node_temp in G.nodes():\n",
    "    wt = 0\n",
    "    deg = 0\n",
    "    for nbr, eattr in G.adj[node_temp].items():\n",
    "        wt = wt + eattr['weight']\n",
    "        deg += 1\n",
    "    G.nodes[node_temp]['deg_wt'] = wt\n",
    "    G.nodes[node_temp]['deg'] = deg"
   ]
  },
  {
   "cell_type": "code",
   "execution_count": 9,
   "id": "scenic-cardiff",
   "metadata": {
    "pycharm": {
     "name": "#%%\n"
    }
   },
   "outputs": [],
   "source": [
    "#Degree distrivution"
   ]
  },
  {
   "cell_type": "code",
   "execution_count": 10,
   "id": "global-wrist",
   "metadata": {
    "pycharm": {
     "name": "#%%\n"
    }
   },
   "outputs": [
    {
     "data": {
      "text/plain": [
       "Text(0, 0.5, 'Frequency')"
      ]
     },
     "execution_count": 10,
     "metadata": {},
     "output_type": "execute_result"
    },
    {
     "data": {
      "image/png": "[encoded data removed]",
      "text/plain": [
       "<Figure size 864x576 with 1 Axes>"
      ]
     },
     "metadata": {
      "needs_background": "light"
     },
     "output_type": "display_data"
    }
   ],
   "source": [
    "degree_freq = []\n",
    "for nod in G.nodes:\n",
    "    degree_freq.append(G.nodes[nod]['deg'])\n",
    "\n",
    "degrees = range(len(degree_freq))\n",
    "plt.figure(figsize=(12, 8))\n",
    "plt.hist(degree_freq, color='green', bins=20)\n",
    "plt.xlabel('Degree')\n",
    "plt.ylabel('Frequency')"
   ]
  },
  {
   "cell_type": "code",
   "execution_count": 11,
   "id": "norman-latitude",
   "metadata": {
    "pycharm": {
     "name": "#%%\n"
    }
   },
   "outputs": [],
   "source": [
    "# Weight Distribution"
   ]
  },
  {
   "cell_type": "code",
   "execution_count": 12,
   "id": "shaped-horse",
   "metadata": {
    "pycharm": {
     "name": "#%%\n"
    }
   },
   "outputs": [
    {
     "data": {
      "text/plain": [
       "Text(0, 0.5, 'Frequency')"
      ]
     },
     "execution_count": 12,
     "metadata": {},
     "output_type": "execute_result"
    },
    {
     "data": {
      "image/png": "[encoded data removed]",
      "text/plain": [
       "<Figure size 864x576 with 1 Axes>"
      ]
     },
     "metadata": {
      "needs_background": "light"
     },
     "output_type": "display_data"
    }
   ],
   "source": [
    "weight_freq = []\n",
    "for nod in G.nodes:\n",
    "    weight_freq.append(G.nodes[nod]['deg_wt'])\n",
    "\n",
    "wt = range(len(weight_freq))\n",
    "plt.figure(figsize=(12, 8))\n",
    "plt.hist(weight_freq, color='green', bins=20)\n",
    "plt.xlabel('Weight')\n",
    "plt.ylabel('Frequency')"
   ]
  },
  {
   "cell_type": "code",
   "execution_count": 13,
   "id": "advanced-grant",
   "metadata": {
    "pycharm": {
     "name": "#%%\n"
    }
   },
   "outputs": [],
   "source": [
    "# Degree statistics"
   ]
  },
  {
   "cell_type": "code",
   "execution_count": 14,
   "id": "sixth-footage",
   "metadata": {
    "pycharm": {
     "name": "#%%\n"
    }
   },
   "outputs": [
    {
     "name": "stdout",
     "output_type": "stream",
     "text": [
      "578.470460704607\n",
      "19\n",
      "1844\n"
     ]
    }
   ],
   "source": [
    "# Average degree\n",
    "print(sum(degree_freq)/len(G.nodes))\n",
    "print(min(degree_freq))\n",
    "print(max(degree_freq))"
   ]
  },
  {
   "cell_type": "code",
   "execution_count": 15,
   "id": "developing-library",
   "metadata": {
    "pycharm": {
     "name": "#%%\n"
    }
   },
   "outputs": [
    {
     "name": "stdout",
     "output_type": "stream",
     "text": [
      "5.774271584523776\n",
      "0.008474576271186448\n",
      "79.67853107344699\n"
     ]
    }
   ],
   "source": [
    "# Weight Statistics\n",
    "print(sum(weight_freq)/len(G.nodes))\n",
    "print(min(weight_freq))\n",
    "print(max(weight_freq))"
   ]
  },
  {
   "cell_type": "code",
   "execution_count": 16,
   "id": "psychological-outline",
   "metadata": {
    "pycharm": {
     "name": "#%%\n"
    }
   },
   "outputs": [],
   "source": [
    "# sort nodes based on degree"
   ]
  },
  {
   "cell_type": "code",
   "execution_count": 17,
   "id": "speaking-moscow",
   "metadata": {
    "pycharm": {
     "name": "#%%\n"
    }
   },
   "outputs": [
    {
     "name": "stdout",
     "output_type": "stream",
     "text": [
      "{'document': 1844, 'name': 1844, 'window': 1844, 'var': 1844, 'location': 1844, 'length': 1836, 'null': 1831, 'init': 1829, 'parent': 1826, 'self': 1826, 'frames': 1826, 'top': 1826, 'opener': 1826, 'push': 1810, 'createElement': 1788, 'type': 1778, 'src': 1776, 'Math': 1763, 'undefined': 1758, 'body': 1750, 'setTimeout': 1747, 'replace': 1747, 'id': 1743, 'navigator': 1741, 'Date': 1731, 'call': 1731, 'prototype': 1723, 'width': 1718, 'onload': 1712, 'Array': 1709, 'appendChild': 1705, 'height': 1704, 'style': 1703, 'readyState': 1703, 'string': 1694, 'getElementsByTagName': 1694, 'join': 1691, 'object': 1688, 'function': 1681, 'data': 1677, 'arguments': 1665, 'apply': 1664, 'addEventListener': 1663, 'href': 1662, 'slice': 1656, 'toString': 1651, 'hasOwnProperty': 1649, 'parentNode': 1647, 'match': 1638, 'getElementById': 1635, 'delete': 1632, 'complete': 1629, 'userAgent': 1628, 'value': 1616, 'documentElement': 1611, 'Object': 1611, 'target': 1610, 'on': 1609, 'attachEvent': 1600, 'in': 1600, 'removeChild': 1599, 'number': 1597, 'String': 1595, 'load': 1587, 'setAttribute': 1586, 'open': 1583, 'version': 1576, 'onreadystatechange': 1574, 'innerHTML': 1573, 'void': 1571, 'none': 1566, 'true': 1563, 'splice': 1562, 'getTime': 1559, 'instanceof': 1554, 'left': 1554, 'console': 1553, 'round': 1549, 'protocol': 1548, 'clearTimeout': 1546, 'url': 1538, 'error': 1537, 'display': 1537, 'false': 1533, 'hidden': 1529, 'text': 1526, 'get': 1525, 'max': 1523, 'event': 1514, 'log': 1513, 'removeEventListener': 1513, 'position': 1505, 'img': 1500, 'head': 1499, 'title': 1498, 'insertBefore': 1497, 'random': 1491, 'className': 1478, 'JSON': 1477, 'firstChild': 1477, 'click': 1471, 'message': 1467, 'setInterval': 1463, 'getAttribute': 1454, 'px': 1452, 'tagName': 1440, 'onerror': 1439, 'send': 1436, 'constructor': 1428, 'parse': 1423, 'remove': 1423, 'search': 1421, 'min': 1416, 'status': 1414, 'clearInterval': 1412, 'iframe': 1405, 'right': 1402, 'cookie': 1390, 'preventDefault': 1390, 'detachEvent': 1387, 'absolute': 1384, 'scrollTop': 1381, 'clientHeight': 1378, 'async': 1371, 'XMLHttpRequest': 1368, 'ActiveXObject': 1367, 'ready': 1364, 'domain': 1361, 'bind': 1358, 'offsetHeight': 1357, 'referrer': 1353, 'key': 1353, 'Image': 1346, 'start': 1345, 'charCodeAt': 1344, 'add': 1343, 'now': 1343, 'input': 1338, 'escape': 1338, 'getComputedStyle': 1337, 'bottom': 1334, 'clientWidth': 1332, 'extend': 1332, 'focus': 1331, 'nodeType': 1327, '\\\\n': 1325, 'close': 1325, 'auto': 1324, 'resize': 1319, 'html': 1317, 'filter': 1316, 'options': 1313, 'offsetWidth': 1305, 'link': 1302, 'set': 1298, 'span': 1290, 'DOMContentLoaded': 1285, 'sort': 1278, 'description': 1277, 'source': 1272, 'nodeName': 1270, 'boolean': 1268, 'offset': 1265, 'hostname': 1263, 'button': 1263, 'host': 1261, 'scrollLeft': 1261, 'duration': 1261, 'color': 1258, 'responseText': 1257, 'createTextNode': 1255, 'srcElement': 1252, 'action': 1250, 'stop': 1247, 'contains': 1245, 'blur': 1244, 'children': 1243, 'index': 1241, 'loaded': 1240, 'all': 1240, 'ms': 1239, 'callback': 1237, 'getBoundingClientRect': 1236, 'stopPropagation': 1234, 'childNodes': 1234, 'end': 1233, 'screen': 1231, 'returnValue': 1231, 'reset': 1231, 'cssText': 1227, 'create': 1224, 'submit': 1221, 'textContent': 1217, 'time': 1204, 'innerHeight': 1202, 'innerText': 1202, 'timeout': 1202, 'mousedown': 1197, 'GET': 1190, 'currentStyle': 1187, 'select': 1187, 'class': 1183, 'visible': 1180, 'item': 1178, 'localStorage': 1177, 'offsetTop': 1173, 'loading': 1173, 'keyCode': 1171, 'mousemove': 1167, 'overflow': 1163, 'innerWidth': 1163, 'scroll': 1154, 'write': 1154, 'define': 1154, 'webkit': 1152, 'update': 1152, 'clientY': 1149, 'plugins': 1149, 'off': 1149, 'hash': 1147, 'show': 1145, 'offsetLeft': 1144, 'attr': 1140, 'require': 1138, 'info': 1135, 'contentWindow': 1132, 'next': 1132, 'XDomainRequest': 1131, 'element': 1131, 'cursor': 1130, 'canvas': 1130, 'size': 1127, 'mouseup': 1125, 'postMessage': 1124, 'state': 1121, 'content': 1121, 'removeAttribute': 1119, 'count': 1117, 'context': 1117, 'pageYOffset': 1116, 'mouseout': 1115, 'css': 1115, 'center': 1114, 'getElementsByClassName': 1114, 'mouseover': 1113, 'rel': 1113, 'form': 1113, 'keydown': 1112, 'platform': 1111, 'clone': 1110, 'format': 1108, 'events': 1106, 'Event': 1104, 'track': 1103, 'enabled': 1103, 'clientX': 1102, 'URL': 1100, 'origin': 1099, 'node': 1097, 'transform': 1096, 'clear': 1095, 'debug': 1094, 'default': 1088, 'code': 1084, 'border': 1081, 'cache': 1080, 'video': 1080, 'touchstart': 1080, 'keys': 1078, 'label': 1077, 'image': 1076, 'abort': 1075, 'defaultView': 1075, 'margin': 1071, 'touchend': 1069, 'clientTop': 1068, 'Function': 1064, 'getItem': 1059, 'find': 1059, 'setItem': 1058, 'attributes': 1057, 'onclick': 1057, 'http': 1056, 'ontouchstart': 1055, 'pathname': 1054, 'offsetParent': 1054, 'method': 1053, 'which': 1053, 'change': 1050, 'clientLeft': 1049, 'forEach': 1047, 'zoom': 1046, 'db': 1045, 'initialize': 1045, 'checked': 1044, 'animate': 1041, 'touchmove': 1038, 'pageY': 1037, 'unload': 1032, 'prop': 1031, 'querySelectorAll': 1030, 'alt': 1029, 'POST': 1025, 'lastChild': 1023, '_blank': 1022, 'pageX': 1020, 'query': 1018, 'cancelBubble': 1016, 'pageXOffset': 1015, 'getPropertyValue': 1014, 'request': 1012, 'browser': 1009, 'append': 1009, 'relatedTarget': 1008, 'checkbox': 1008, 'appName': 1006, 'nextSibling': 1001, 'requestAnimationFrame': 1001, 'dispatchEvent': 1000, 'setRequestHeader': 999, 'compatMode': 998, 'touch': 997, 'fill': 997, 'withCredentials': 992, 'pause': 990, 'styleSheet': 989, 'shiftKey': 987, 'properties': 986, 'lang': 985, 'addListener': 984, 'product': 982, 'language': 982, 'result': 982, 'warn': 979, 'scale': 976, 'matches': 975, 'background': 973, 'timestamp': 971, 'array': 970, 'vb': 957, 'orientation': 956, 'getContext': 956, 'keyup': 951, 'nodeValue': 950, 'always': 948, 'charset': 947, 'normal': 947, 'disabled': 945, 'play': 944, 'mimeTypes': 940, 'detail': 939, 'stroke': 938, 'up': 934, 'scripts': 927, 'line': 927, 'classList': 924, 'scrollHeight': 923, 'textarea': 923, 'prefix': 921, 'active': 921, 'pc': 920, 'translate': 920, 'option': 920, 'moz': 919, 'success': 916, 'scrolling': 914, 'onmessage': 914, 'port': 913, 'filters': 913, 'fireEvent': 911, 'email': 909, 'done': 908, 'frameBorder': 904, 'move': 904, 'base': 903, 'ownerDocument': 897, 'items': 896, 'images': 895, 'Boolean': 894, 'frame': 894, 'outerWidth': 894, 'devicePixelRatio': 892, 'expires': 890, 'delay': 887, 'frameElement': 887, 'mouseenter': 885, 'outerHeight': 885, 'appVersion': 881, 'createElementNS': 881, 'results': 880, 'dir': 880, 'ontimeout': 877, 'querySelector': 875, 'arc': 875, 'pt': 874, 'paused': 874, 'onprogress': 874, 'middle': 873, 'flash': 871, 'elements': 869, 'down': 869, 'cloneNode': 868, 'empty': 868, 'font': 868, 'cy': 867, 'colorDepth': 867, 'embed': 867, 'touches': 867, 'performance': 866, 'mouseleave': 865, 'save': 864, 'addEvent': 863, 'table': 863, 'keypress': 862, 'unknown': 862, 'from': 857, 'progress': 855, 'nowrap': 854, 'user': 854, 'beforeunload': 854, 'json': 853, 'step': 852, 'uri': 851, 'td': 851, 'removeItem': 850, 'transition': 848, 'clip': 847, 'pattern': 847, 'removeListener': 846, 'enabledPlugin': 845, 'textAlign': 845, 'register': 844, 'currentTarget': 842, 'sub': 842, 'handler': 841, 'changedTouches': 841, 'first': 840, 'tabIndex': 840, 'parentElement': 839, 'Gecko': 838, 'ctrlKey': 837, 'behavior': 836, 'audio': 836, 'file': 835, 'drag': 828, 'cookieEnabled': 825, 'selected': 825, 'interval': 823, 'tag': 822, 'defer': 821, 'inherit': 819, 'NaN': 819, 'vendor': 819, 'utils': 818, 'dblclick': 815, 'ch': 812, 'password': 812, 'metaKey': 812, 'tracker': 811, 'wrap': 810, 'ic': 808, 'media': 807, 'encode': 806, 'group': 806, 'setData': 802, 'handleEvent': 800, 'styleSheets': 799, 'startTime': 796, 'filename': 793, 'channel': 793, 'valueOf': 792, 'previousSibling': 791, 'onmouseout': 791, 'popup': 790, 'getData': 790, 'javaEnabled': 790, 'view': 789, 'external': 787, 'toJSON': 787, 'onabort': 786, 'createEvent': 785, 'enable': 784, 'TypeError': 783, 'addRule': 781, 'before': 781, 'createSVGRect': 777, 'screenY': 776, 'screenX': 776, 'lineWidth': 774, 'compareDocumentPosition': 769, 'onmouseover': 769, 'readystatechange': 768, 'include': 767, 'weight': 767, 'client': 766, 'cx': 765, 'identity': 764, 'locale': 764, 'propertyIsEnumerable': 763, 'handle': 763, 'fillStyle': 762, 'features': 762, 'replaceChild': 760, 'shape': 759, 'vertical': 756, 'scope': 756, 'radio': 755, 'after': 755, 'buttons': 754, 'align': 753, 'createDocumentFragment': 753, 'pointermove': 752, 'onmousemove': 752, 'pointerdown': 752, 'rules': 750, 'icon': 750, 'disable': 749, 'reverse': 749, 'subscribe': 746, 'mousewheel': 746, 'x2': 743, 'ext': 743, 'history': 742, 'wheelDelta': 742, 'DOMMouseScroll': 742, 'cm': 741, 'response': 737, 'identifier': 735, 'mode': 734, 'direction': 731, 'Infinity': 731, 'float': 730, 'contentDocument': 730, 'service': 728, 'decode': 728, 'finish': 725, 'summary': 724, 'root': 723, 'HTMLElement': 723, 'alert': 722, 'command': 721, 'device': 720, 'mark': 713, 'follow': 712, 'visibilitychange': 712, 'total': 711, 'ss': 709, 'rect': 708, 'getElementsByName': 707, 'pointerup': 707, 'outerHTML': 705, 'setPosition': 704, 'strokeStyle': 703, 'reload': 702, 'timeStamp': 702, 'transitionend': 701, 'offsetY': 701, 'navigation': 700, 'point': 700, 'offsetX': 698, 'timing': 698, 'scrollTo': 695, 'th': 694, 'Point': 693, 'bounds': 693, 'hasAttribute': 692, 'pointerId': 692, 'dx': 691, 'check': 691, 'scrollWidth': 688, 'ltr': 687, 'ip': 686, 'radius': 686, 'any': 684, 'ended': 684, 'butt': 684, 'for': 683, 'refresh': 682, 'onfocus': 680, 'easing': 680, 'pan': 679, 'then': 678, 'menu': 678, 'autoplay': 677, 'orientationchange': 676, 'scheme': 676, 'cancelAnimationFrame': 675, 'currentTime': 674, 'list': 673, 'rotation': 671, 'alpha': 670, 'matchMedia': 670, 'closed': 668, 'rx': 665, 'geolocation': 665, 'Map': 665, 'pointerType': 665, 'focusin': 664, 'maxTouchPoints': 664, 'normalize': 662, 'ty': 661, 'onblur': 660, 'linear': 660, 'altKey': 660, 'address': 659, 'pad': 659, 'yes': 658, 'notify': 658, 'draggable': 658, 'country': 656, 'download': 655, 'storage': 652, 'col': 652, 'initMouseEvent': 652, 'not': 649, 'lineCap': 649, 'high': 644, 'png': 644, 'static': 643, 'restore': 643, 'login': 642, 'eventHandler': 640, 'timeupdate': 639, 'animation': 638, 'viewport': 637, 'watch': 637, 'process': 636, 'namespaceURI': 636, 'oldValue': 636, 'NONE': 635, 'caller': 635, 'playing': 634, 'activeElement': 634, 'browserLanguage': 633, 'toggle': 633, 'links': 632, 'defaultChecked': 632, 'characterSet': 632, 'PointerEvent': 631, 'sessionStorage': 630, 'Netscape': 630, 'token': 628, 'canPlayType': 628, 'HTMLCanvasElement': 628, 'mozRequestAnimationFrame': 627, 'cancel': 625, 'role': 624, 'level': 622, 'current': 619, 'm11': 619, 'sync': 618, 'ry': 617, 'sendBeacon': 617, 'onunload': 617, 'focusout': 617, 'dy': 615, 'onmousedown': 615, 'fx': 614, 'userLanguage': 614, 'out': 613, 'ERROR': 613, 'counter': 612, 'closePath': 612, 'placeholder': 611, 'has': 610, 'controls': 610, 'control': 606, 'equals': 606, 'closest': 605, 'reject': 605, 'createRange': 605, 'new': 605, 'range': 604, 'onselectstart': 604, 'selectedIndex': 603, 'defaultValue': 602, 'keyboard': 601, 'coords': 601, 'CSS': 601, 'custom': 600, 'square': 600, 'sendMessage': 600, 'fr': 599, 'availHeight': 599, 'flush': 598, 'other': 598, 'print': 598, 'viewBox': 596, 'bgcolor': 595, 'Uint8Array': 594, 'forms': 592, 'ii': 591, 'insertRule': 591, 'loop': 591, 'transaction': 590, 'low': 586, 'ping': 583, 'longitude': 582, 'latitude': 582, 'onkeydown': 582, 'sum': 582, 'dragstart': 581, 'order': 580, 'redirect': 578, 'hasChildNodes': 578, 'newValue': 578, 'WebKitCSSMatrix': 578, 'sheet': 577, 'pageshow': 577, 'onMessage': 576, 'pushState': 575, 'go': 574, 'responseEnd': 574, 'availWidth': 574, 'connect': 572, 'beginPath': 572, 'maxLength': 571, 'prepend': 571, 'as': 570, 'layerY': 570, 'navigationStart': 570, 'htmlFor': 569, 'volumechange': 568, 'mozilla': 567, 'getBounds': 567, 'globalAlpha': 567, 'lineJoin': 567, 'drop': 566, 'local': 566, 'poster': 566, 'Text': 563, 'city': 562, 'points': 562, 'req': 561, 'HTMLVideoElement': 560, 'HTMLAudioElement': 560, 'propertyName': 558, 'attribution': 557, 'when': 555, 'collapsed': 555, 'region': 553, 'visibilityState': 553, 'onmousewheel': 553, 'repeat': 552, 'headers': 552, 'layerX': 552, 'started': 552, 'requestStart': 552, 'SyntaxError': 552, 'evenodd': 552, 'isSupported': 550, 'rotate': 550, 'ctx': 550, 'fullscreen': 549, 'autocomplete': 548, 'maxlength': 548, 'getAttributeNode': 547, 'isEnabled': 545, 'opened': 545, 'parameters': 544, 'mozMatchesSelector': 542, 'webkitMatchesSelector': 542, 'msMatchesSelector': 542, 'oMatchesSelector': 542, 'connection': 542, 'MozMousePixelScroll': 542, 'keygen': 542, 'prerender': 541, 'endTime': 541, 'record': 540, 'share': 540, 'volume': 539, 'previous': 538, 'if': 536, 'cite': 536, 'tooltip': 535, 'caption': 535, 'resume': 534, 'onclose': 533, 'speed': 533, 'only': 532, 'onbeforeunload': 532, 'Name': 531, 'charCode': 530, 'percent': 530, 'verify': 530, 'doNotTrack': 529, 'dom': 529, 'getState': 527, 'baseVal': 527, 'cssRules': 526, 'loadEventStart': 523, 'contextmenu': 523, 'sx': 522, 'javascript': 522, 'HTMLDataListElement': 522, 'collapse': 521, 'enter': 521, 'ontouchend': 521, 'onopen': 521, 'Element': 520, 'values': 520, 'network': 519, 'specified': 519, 'createComment': 519, 'pixelDepth': 518, 'fileName': 518, 'onresize': 517, 'fonts': 516, 'abbr': 516, 'toDataURL': 516, 'onscroll': 515, 'evaluate': 515, 'includes': 515, 'kind': 514, 'ontouchmove': 512, 'trace': 512, 'fillText': 512, 'waiting': 512, 'notifications': 511, 'Enabled': 511, 'setImmediate': 508, 'getBBox': 507, 'setAttributeNS': 507, 'preload': 506, 'words': 506, 'gl': 504, 'reversed': 503, 'release': 502, 'dst': 502, 'mm': 501, 'encoding': 501, 'metadata': 500, 'exception': 498, 'lineNumber': 498, 'clientId': 498, 'HTMLImageElement': 497, 'answer': 496, 'phone': 496, 'rtl': 496, 'connectStart': 496, 'domainLookupStart': 495, 'connectEnd': 495, 'responseStart': 495, 'install': 495, 'WebSocket': 495, 'promise': 494, 'DOMNodeInserted': 494, 'onkeyup': 494, 'offer': 493, 'tabindex': 492, 'btoa': 491, 'read': 491, 'unregister': 491, 'getFeature': 490, 'HTMLMeterElement': 490, 'HTMLSelectElement': 490, 'HTMLTextAreaElement': 490, 'HTMLOptGroupElement': 490, 'maximumAge': 490, 'HTMLButtonElement': 490, 'HTMLBRElement': 490, 'HTMLMenuElement': 490, 'HTMLHRElement': 490, 'HTMLStyleElement': 490, 'HTMLLabelElement': 490, 'HTMLOptionElement': 490, 'HTMLMapElement': 490, 'HTMLAreaElement': 490, 'selectstart': 490, 'HTMLLinkElement': 490, 'HTMLDivElement': 490, 'HTMLKeygenElement': 490, 'HTMLFrameSetElement': 490, 'noWrap': 490, 'getCurrentPosition': 490, 'HTMLIFrameElement': 490, 'getQuery': 490, 'HTMLFormElement': 490, 'HTMLScriptElement': 490, 'HTMLTimeElement': 490, 'details': 490, 'HTMLTitleElement': 490, 'HTMLMetaElement': 490, 'HTMLDetailsElement': 490, 'HTMLInputElement': 490, 'HTMLHeadingElement': 490, 'HTMLObjectElement': 490, 'HTMLUnknownElement': 490, 'dragend': 490, 'HTMLBodyElement': 490, 'HTMLLIElement': 490, 'HTMLDListElement': 490, 'getLayers': 490, 'HTMLTableRowElement': 490, 'HTMLPreElement': 490, 'HTMLFieldSetElement': 490, 'HTMLTableHeaderCellElement': 490, 'clearWatch': 490, 'HTMLParagraphElement': 490, 'colgroup': 490, 'accuracy': 490, 'HTMLUListElement': 490, 'HTMLParamElement': 490, 'removeParameter': 490, 'HTMLTableCaptionElement': 490, 'HTMLBaseFontElement': 490, 'HTMLQuoteElement': 490, 'HTMLModElement': 490, 'HTMLTableElement': 490, 'HTMLSpanElement': 490, 'HTMLHtmlElement': 490, 'HTMLProgressElement': 490, 'HTMLTrackElement': 490, 'HTMLBaseElement': 490, 'EMPTY': 490, 'enableHighAccuracy': 490, 'HTMLDialogElement': 490, 'HTMLLegendElement': 490, 'HTMLAnchorElement': 490, 'HTMLFontElement': 490, 'pointercancel': 490, 'HTMLTableSectionElement': 490, 'HTMLTableColElement': 490, 'watchPosition': 490, 'HTMLOListElement': 490, 'Canvas': 490, 'HTMLOutputElement': 490, 'Keyboard': 490, 'HTMLSourceElement': 490, 'HTMLHeadElement': 490, 'HTMLTableDataCellElement': 490, 'unique': 488, 'slide': 488, 'preserveAspectRatio': 488, 'userSpaceOnUse': 488, 'layout': 488, 'unsubscribe': 488, 'fy': 486, 'Index': 485, 'application': 485, 'setProperty': 484, 'domainLookupEnd': 484, 'sandbox': 484, 'detach': 482, 'replaceState': 481, 'rp': 480, 'getParent': 479, 'both': 477, 'username': 477, 'threshold': 477, 'Worker': 477, 'tel': 476, 'datetime': 474, 'canplay': 474, 'buffer': 474, 'Touch': 473, 'receiver': 473, 'pagehide': 473, 'priority': 470, 'loadEventEnd': 468, 'store': 468, 'crypto': 467, 'loadeddata': 466, 'Mozilla': 465, 'fetchStart': 464, 'elementFromPoint': 464, 'runtimeStyle': 464, 'axis': 463, 'exit': 463, 'remote': 462, 'hasFocus': 462, 'home': 461, 'DOMNodeRemoved': 459, 'angle': 459, 'domLoading': 459, 'blocked': 459, 'domContentLoadedEventStart': 458, 'allowFullScreen': 458, 'fallback': 458, 'MS': 457, 'useMap': 454, 'flags': 454, 'xml': 453, 'isPrototypeOf': 453, 'multiple': 452, 'wheel': 452, 'channels': 451, 'domInteractive': 451, 'contentType': 451, 'gestureend': 450, 'scrollY': 450, 'displayName': 449, 'allowfullscreen': 449, 'fillRect': 447, 'labels': 446, 'deg': 445, 'observe': 445, 'assert': 445, 'stopImmediatePropagation': 445, 'confirm': 444, 'systemLanguage': 443, 'domComplete': 443, 'persisted': 442, 'seeking': 442, 'seeked': 442, 'pending': 440, 'extensions': 440, 'hh': 439, 'variable': 436, 'sender': 436, 'timeline': 436, 'put': 436, 'removeRule': 434, 'nodes': 433, 'pixels': 433, 'Media': 432, 'atob': 432, 'setStart': 432, 'cellpadding': 431, 'cellspacing': 431, 'replaceWith': 431, 'resource': 430, 'continuous': 430, 'sessionId': 429, 'getSelection': 429, 'textBaseline': 429, 'alphabetic': 429, 'activate': 427, 'touchcancel': 427, 'controller': 426, 'getRandomValues': 426, 'suffix': 425, 'seed': 423, 'initEvent': 422, 'FileReader': 422, 'required': 421, 'protocols': 420, 'ratio': 420, 'indexedDB': 420, 'redirectEnd': 419, 'redirectStart': 419, 'domContentLoadedEventEnd': 418, 'popstate': 418, 'failed': 418, 'grep': 416, 'implementation': 415, 'onchange': 414, 'frequency': 413, 'baseURI': 412, 'productName': 412, 'unloadEventStart': 411, 'reason': 411, 'disconnect': 410, 'miter': 410, 'alternate': 409, 'supported': 409, 'gradientUnits': 408, 'unit': 408, 'DOMParser': 406, 'parseFromString': 406, 'setTransform': 406, 'rowspan': 405, 'colSpan': 405, 'usemap': 405, 'cellSpacing': 405, 'cellPadding': 405, 'rowSpan': 405, 'valign': 405, 'colspan': 405, 'vAlign': 405, 'provider': 405, 'blob': 405, 'retry': 404, 'DOMAttrModified': 403, 'files': 403, 'hashchange': 403, 'cmp': 403, 'unloadEventEnd': 401, 'contextMenu': 400, 'containerId': 399, 'shipping': 398, 'deleteRule': 397, 'scriptURL': 396, 'insertAdjacentHTML': 396, 'continue': 396, 'responseType': 396, 'Position': 395, 'currentSrc': 395, 'DocumentTouch': 395, 'Node': 394, 'targetTouches': 394, 'dataset': 393, 'MutationObserver': 392, 'stopped': 392, '__proto__': 392, 'SVGElement': 391, 'getAll': 391, 'Window': 390, 'salt': 389, 'hasFeature': 388, 'fullScreen': 387, 'readonly': 386, 'scrollX': 384, 'flatten': 384, 'stalled': 382, 'seekable': 382, 'urls': 382, 'inactive': 381, 'Promise': 381, 'force': 381, 'connected': 380, 'toLocaleString': 380, 'axes': 379, 'firstElementChild': 379, 'amount': 378, 'lh': 377, 'cssFloat': 376, 'assign': 375, 'getName': 374, 'deltaX': 372, 'm41': 372, 'm42': 372, 'com': 370, 'loadstart': 370, 'RangeError': 370, 'Range': 369, 'characterData': 369, 'navigate': 369, 'nextElementSibling': 369, 'rad': 368, 'rows': 367, 'services': 366, 'deviceId': 364, 'getNamedItem': 363, 'codebase': 363, 'system': 362, 'HMAC': 362, 'Storage': 362, 'autoIncrement': 360, 'forceRedraw': 360, 'brightness': 360, 'setScale': 360, 'symbols': 360, 'negative': 360, 'updatePosition': 360, 'sorted': 360, 'MouseEvent': 360, 'loadedmetadata': 360, 'cellular': 360, 'muted': 360, 'spacing': 359, 'stream': 359, 'matrix': 359, 'vspace': 357, 'hspace': 357, 'rid': 357, 'Counter': 356, 'security': 356, 'back': 356, 'codecs': 354, 'locked': 354, 'truncate': 354, 'endpoint': 352, 'foo': 351, 'dump': 351, 'iterateNext': 350, 'transport': 350, 'getCurrentTime': 349, 'onsuccess': 349, 'startAngle': 348, 'getParameter': 347, 'endAngle': 347, 'Navigator': 347, 'iterations': 347, 'defaultPrevented': 346, 'webgl': 346, 'serializeToString': 346, 'XMLSerializer': 346, 'slot': 345, 'compareBoundaryPoints': 345, 'profile': 344, 'deltaY': 344, 'COMMENT_NODE': 344, 'animationName': 342, 'long': 341, 'secureConnectionStart': 341, 'writeln': 339, 'LOADING': 337, 'cors': 336, 'mul': 336, 'getImageData': 336, 'drawImage': 336, 'File': 335, 'w3': 333, 'getBoxObjectFor': 333, 'short': 332, 'overrideMimeType': 331, 'connections': 330, 'CONNECTING': 330, 'suspend': 330, 'policy': 330, 'mediaSession': 330, 'tcp': 330, 'regions': 329, 'Plugin': 327, 'sdp': 325, 'patternUnits': 325, 'ellipse': 325, 'online': 324, 'shadowOffsetY': 324, 'shadowColor': 324, 'shadowOffsetX': 324, 'rem': 323, 'installed': 322, 'ELEMENT_NODE': 320, 'TEXT_NODE': 320, 'wifi': 320, 'contrast': 320, 'gap': 319, 'operator': 319, 'wheelDeltaX': 319, 'wheelDeltaY': 319, 'p1': 318, 'p4': 318, 'enqueue': 318, 'p3': 317, 'timeEnd': 316, 'onLine': 315, 'txt': 313, 'fetch': 313, 'advance': 313, 'suffixes': 312, 'over': 311, 'skewY': 311, 'skewX': 311, 'offline': 311, 'groupEnd': 311, 'Uint16Array': 310, 'fullscreenchange': 310, 'canplaythrough': 310, 'responseXML': 310, 'IN': 307, 'sidebar': 306, 'decrypt': 306, 'importNode': 305, 'attributeName': 304, 'redirectCount': 304, 'sse': 302, 'manual': 301, 'mapping': 301, 'globalStorage': 301, 'WheelEvent': 301, 'Animation': 300, 'encrypt': 300, 'NULL': 300, 'ancestorOrigins': 297, 'clipboard': 297, 'createContextualFragment': 297, 'setEnd': 297, 'setStartAfter': 297, 'requestData': 293, 'embeds': 292, 'moveTo': 292, 'lineTo': 292, 'Request': 291, 'PC': 290, 'onmouseenter': 290, 'hint': 288, 'arcTo': 288, 'mute': 287, 'XPathResult': 285, 'InvalidCharacterError': 285, 'ownerNode': 283, 'StyleSheetList': 283, 'languageCode': 283, 'compact': 283, 'played': 283, 'queryCommandValue': 282, 'getTotalLength': 282, 'createTouch': 282, 'getPointAtLength': 282, 'patternTransform': 282, 'stdDeviation': 282, 'SVGAngle': 282, 'face': 282, 'destination': 282, 'Location': 281, 'upload': 280, 'adData': 279, 'scrollBy': 278, 'currency': 277, 'statusCode': 277, 'onclosed': 277, 'measure': 276, 'mozInnerScreenY': 275, 'mozInnerScreenX': 275, 'Option': 275, 'methodName': 273, '__defineGetter__': 272, 'entryType': 272, 'meet': 271, 'getScreenCTM': 271, 'curve': 271, 'gradientTransform': 271, 'createSVGMatrix': 271, 'getIntersectionList': 271, 'xMinYMin': 271, 'videoHeight': 270, 'videoWidth': 270, 'addElement': 269, 'attachment': 269, 'Document': 269, 'aborted': 268, 'MEDIA_ERR_DECODE': 268, 'MEDIA_ERR_NETWORK': 268, 'durationchange': 268, 'MEDIA_ERR_SRC_NOT_SUPPORTED': 268, 'PT': 268, 'onpageshow': 267, 'onorientationchange': 267, 'onupgradeneeded': 267, 'readwrite': 267, 'objectStore': 267, 'createObjectStore': 267, 'keyPath': 267, 'anchors': 265, 'Blob': 263, 'Uint32Array': 263, 'clearData': 263, 'port1': 263, 'port2': 263, 'MessageChannel': 263, 'unmute': 262, 'copy': 262, 'statusText': 262, 'org': 260, 'marginHeight': 260, 'marginWidth': 260, 'inputs': 260, 'PING': 257, 'clearImmediate': 257, 'OPEN': 257, 'getStats': 256, 'crash': 254, 'subtree': 253, 'addedNodes': 253, 'childList': 253, 'errorCallback': 253, 'm43': 253, 'm13': 253, 'mms': 253, 'm14': 253, 'm44': 253, 'systemId': 252, 'paste': 251, 'removeProperty': 250, 'NEXT': 249, 'setSelectionRange': 248, 'selectionStart': 248, 'dpi': 247, 'animationend': 247, 'animationstart': 247, 'lastElementChild': 247, 'stretch': 247, 'readAsArrayBuffer': 247, 'isFile': 247, 'algorithm': 247, 'FileList': 247, 'permission': 247, 'TIMEOUT': 246, 'iii': 246, 'iso': 246, 'oom': 246, 'beta': 245, 'iconURL': 245, 'xul': 245, 'jcb': 245, 'actions': 244, 'observer': 243, 'writable': 242, 'getUserData': 242, 'CM': 241, 'clearRect': 241, 'eme': 241, 'minimize': 240, 'sampleRate': 240, 'onmouseleave': 240, 'types': 239, 'picture': 239, 'component': 239, 'Components': 239, 'setTranslate': 238, 'multiply': 237, 'recipient': 236, 'family': 233, 'terminate': 233, 'monitor': 233, 'onafterprint': 232, 'onbeforeprint': 232, 'getExtentOfChar': 232, 'getNumberOfChars': 232, 'getEntriesByType': 230, 'variant': 230, 'lock': 229, 'oncontextmenu': 228, 'strings': 228, 'KeyboardEvent': 226, 'mediaType': 225, 'uninitialized': 225, 'Float32Array': 225, 'getSupportedExtensions': 225, 'finished': 224, 'invalid': 222, 'isSync': 221, 'takeRecords': 221, 'attributeFilter': 221, 'relatedNode': 221, 'MutationEvent': 221, 'doctype': 221, 'attributeOldValue': 221, 'attributeNamespace': 221, 'removedNodes': 221, 'animVal': 221, 'DOMCharacterDataModified': 221, 'characterDataOldValue': 221, 'publicId': 221, 'idle': 221, 'readAsDataURL': 221, 'rate': 220, 'rootNode': 220, 'Method': 220, 'upgrade': 219, 'startOffset': 218, 'measureText': 218, 'manifest': 217, 'targetElement': 217, 'lines': 217, 'voice': 215, 'toolbar': 215, 'msWriteProfilerMark': 215, 'acceptCharset': 215, 'UnknownError': 215, 'allowFullscreen': 214, 'ProgressEvent': 214, 'capabilities': 214, 'createAttribute': 213, 'getClientRects': 213, 'ANY_TYPE': 212, 'naturalWidth': 211, 'naturalHeight': 211, 'UNORDERED_NODE_ITERATOR_TYPE': 211, 'getAnimations': 211, 'createRadialGradient': 211, 'isIdentity': 211, 'miterLimit': 211, 'bezierCurveTo': 211, 'bevel': 211, 'strokeText': 211, 'createLinearGradient': 211, 'globalCompositeOperation': 211, 'shadowBlur': 211, 'putImageData': 211, 'addColorStop': 211, 'quadraticCurveTo': 211, 'createPattern': 211, 'productId': 210, 'LOADED': 209, 'deleted': 209, 'effect': 208, 'ports': 208, 'worker': 208, 'SharedWorker': 208, 'intercept': 208, 'onconnect': 208, 'discover': 208, 'silent': 208, 'openWindow': 208, 'startup': 208, 'MEDIA_ERR_ABORTED': 208, 'PBKDF2': 208, 'endOfStream': 208, 'currentState': 208, 'checkValidity': 206, 'applicationCache': 206, 'WebGLRenderingContext': 206, 'maxValue': 206, 'iterator': 206, 'configuration': 205, 'usage': 204, 'scrollAmount': 204, 'task': 204, 'registration': 203, 'buffered': 203, 'Display': 203, 'notification': 202, 'statusbar': 201, 'appCodeName': 200, 'lastModified': 199, 'scoped': 199, 'typeName': 199, 'createObjectURL': 199, 'onpagehide': 198, 'accessKey': 197, 'loginUrl': 197, 'onmouseup': 197, 'mimeType': 196, 'currentScript': 196, 'initiatorType': 196, 'Client': 195, 'passive': 195, 'core': 195, 'sizes': 195, 'minlength': 193, 'Message': 193, 'successCallback': 192, 'IndexedDB': 189, 'pointerout': 189, 'HORIZONTAL_AXIS': 189, 'deltaMode': 189, 'onwheel': 189, 'netinfo': 187, 'wasClean': 187, 'encrypted': 187, 'latency': 187, 'scrollIntoView': 187, 'screenLeft': 186, 'screenTop': 186, 'duplicate': 186, 'memory': 184, 'msExitFullscreen': 184, 'exitFullscreen': 184, 'requestFullscreen': 184, 'fullscreenElement': 184, 'ontouchcancel': 184, 'ontransitionend': 184, 'mozCancelFullScreen': 184, 'webkitFullscreenElement': 184, 'msFullscreenElement': 184, 'mozRequestFullScreen': 184, 'oncomplete': 184, 'mozFullScreenElement': 184, 'scrollMaxY': 183, 'ORDERED_NODE_SNAPSHOT_TYPE': 183, 'snapshotItem': 183, 'taintEnabled': 183, 'selectionEnd': 183, 'objectStoreNames': 183, 'persist': 183, 'revokeObjectURL': 183, 'crossOrigin': 183, 'ctrl': 182, 'bubbles': 182, 'cancelable': 182, 'prompt': 181, 'mailto': 181, 'requestId': 180, 'oscpu': 179, 'fullPath': 177, 'webkitGetUserMedia': 177, 'declare': 175, 'lower': 174, 'sample': 174, 'operation': 173, 'outerText': 173, 'heading': 173, 'onhashchange': 172, 'compareNode': 172, 'denied': 172, 'respond': 172, 'listener': 171, 'ARRAY_BUFFER': 171, 'shaderSource': 171, 'getAttribLocation': 171, 'FLOAT': 171, 'drawArrays': 171, 'getUniformLocation': 171, 'attachShader': 171, 'createBuffer': 171, 'createShader': 171, 'vertexAttribPointer': 171, 'linkProgram': 171, 'enableVertexAttribArray': 171, 'bufferData': 171, 'useProgram': 171, 'createProgram': 171, 'uniform2f': 171, 'compileShader': 171, 'bindBuffer': 171, 'storeName': 170, 'scrollMaxX': 169, 'getEntries': 169, 'getNotifications': 169, 'touched': 169, 'archive': 168, 'unwatch': 168, 'allow': 167, 'portNumber': 166, 'setVersion': 163, 'getKey': 161, 'cells': 160, 'sign': 160, 'compositionstart': 159, 'InputEvent': 159, 'compositionupdate': 159, 'FocusEvent': 159, 'CompositionEvent': 159, 'UIEvent': 159, 'compositionend': 159, 'beforeinput': 159, 'expiration': 159, 'candidate': 156, 'onsubmit': 155, 'wholeText': 155, 'SVGLoad': 155, 'Rect': 155, 'getAttributeNS': 155, 'onpaste': 149, 'appearance': 149, 'initialTime': 148, 'CustomEvent': 148, 'Report': 148, 'Performance': 148, 'Screen': 148, 'srcdoc': 148, 'pname': 146, 'previousElementSibling': 145, 'selectorText': 145, 'RTCIceCandidate': 145, 'createDataChannel': 145, 'ondatachannel': 145, 'signalingState': 145, 'reliable': 145, 'iceConnectionState': 145, 'createOffer': 145, 'chunks': 145, 'setLocalDescription': 145, 'createAnswer': 145, 'setRemoteDescription': 145, 'sctp': 145, 'iceServers': 145, 'addIceCandidate': 145, 'oniceconnectionstatechange': 145, 'onicecandidate': 145, 'RTCSessionDescription': 145, 'getFile': 145, 'mozGetUserMedia': 145, 'never': 145, 'setStyles': 144, 'waitUntil': 143, 'credentials': 143, 'tabs': 142, 'delayTime': 142, 'execCommand': 140, 'acceleration': 139, 'devicemotion': 139, 'deviceorientation': 139, 'accelerationIncludingGravity': 139, 'gamma': 139, 'DeviceMotionEvent': 139, 'DeviceOrientationEvent': 139, 'fullpath': 138, 'entries': 137, 'lengthComputable': 137, 'argument': 134, 'scale3d': 134, 'mozPaintCount': 134, 'badge': 133, 'onstop': 133, 'organization': 132, 'createNSResolver': 131, 'booleanValue': 131, 'lookupNamespaceURI': 131, 'createExpression': 131, 'ownerElement': 131, 'NUMBER_TYPE': 131, 'numberValue': 131, 'UNORDERED_NODE_SNAPSHOT_TYPE': 131, 'BOOLEAN_TYPE': 131, 'selectNode': 131, 'STRING_TYPE': 131, 'snapshotLength': 131, 'singleNodeValue': 131, 'ORDERED_NODE_ITERATOR_TYPE': 131, 'invalidIteratorState': 131, 'resultType': 131, 'ANY_UNORDERED_NODE_TYPE': 131, 'FIRST_ORDERED_NODE_TYPE': 131, 'stringValue': 131, 'characters': 131, 'InstallTrigger': 131, 'setParameter': 129, 'public': 129, 'copyTo': 129, 'getParameters': 129, 'xor': 129, 'accessibility': 128, 'currentDirection': 128, 'cloneRange': 128, 'writer': 127, 'profileEnd': 127, 'groupCollapsed': 127, 'dirxml': 127, 'initCustomEvent': 126, 'changeType': 126, 'HTMLDocument': 126, 'initUIEvent': 126, 'presentation': 126, 'char': 126, 'basic': 125, 'setUserData': 124, 'disposition': 124, 'getQueryParameter': 124, 'privacy': 123, 'xpi': 123, 'yPos': 123, 'amex': 122, 'onpopstate': 122, 'broadcast': 121, 'isContentEditable': 121, 'msFirstPaint': 117, 'scrollbars': 117, 'magnify': 117, 'bgColor': 114, 'removeAllRanges': 114, 'unlock': 114, 'endOffset': 114, 'ondrop': 113, 'ondragstart': 113, 'languages': 112, 'NUMBER': 111, 'turn': 110, 'sizeX': 110, 'authentication': 108, 'messageType': 108, 'showModal': 108, 'aspectRatio': 108, 'xPos': 107, 'streams': 106, 'deviceName': 106, 'Crypto': 105, 'getGamepads': 105, 'requestPointerLock': 105, 'itemId': 103, 'getMetadata': 103, 'inputEncoding': 102, 'touchleave': 99, 'getAllResponseHeaders': 99, 'columnNumber': 98, 'colno': 98, 'ErrorEvent': 98, 'newURL': 97, 'TrackEvent': 95, 'paint': 95, 'readOnly': 94, 'unloaded': 93, 'onstorage': 92, 'fatal': 92, 'explicit': 91, 'NS_ERROR_DOM_SECURITY_ERR': 90, 'hand': 88, 'addStream': 87, 'integer': 87, '__noSuchMethod__': 85, 'Response': 85, 'displayId': 85, 'httpEquiv': 84, 'srcset': 84, 'HTMLPictureElement': 84, 'trackId': 84, 'AudioContext': 82, 'WEBGL_draw_buffers': 82, 'MAX_COLOR_ATTACHMENTS_WEBGL': 82, 'RTCDataChannelEvent': 82, 'getShaderPrecisionFormat': 82, 'webgl2': 82, 'hardwareConcurrency': 82, 'FRAGMENT_SHADER_DERIVATIVE_HINT_OES': 82, 'precision': 82, 'OES_standard_derivatives': 82, 'getExtension': 82, 'rangeMin': 82, 'MAX_TEXTURE_MAX_ANISOTROPY_EXT': 82, 'Int32Array': 82, 'MAX_DRAW_BUFFERS_WEBGL': 82, 'rangeMax': 82, 'RTCPeerConnection': 82, 'WEBGL_debug_renderer_info': 82, 'gesturechange': 81, 'createHTMLDocument': 81, 'menubar': 81, 'strokeRect': 80, 'isCollapsed': 80, 'ondrag': 80, 'productSub': 80, 'vendorSub': 80, 'Iterator': 79, 'addModule': 79, 'entities': 78, 'availTop': 77, 'availLeft': 77, 'getPropertyCSSValue': 77, 'row': 75, 'onshow': 74, 'docCookies': 74, 'activated': 72, 'focused': 70, 'oauth': 69, 'getTiming': 66, 'unmuted': 65, 'loadOverlay': 65, 'commit': 64, 'bound': 64, 'reply': 64, 'systemID': 64, 'delivery': 62, 'onkeypress': 61, 'permissions': 60, 'documentURI': 60, 'External': 57, '__defineSetter__': 56, '__lookupGetter__': 56, '__lookupSetter__': 56, 'challenge': 54, 'validity': 53, 'NodeList': 50, 'credit': 50, 'pulse': 49, '0xf0': 49, 'captureEvents': 46, 'REGION': 46, 'groupId': 46, 'DOMException': 45, 'SYNTAX_ERR': 45, 'INVALID_CHARACTER_ERR': 45, 'setAttributeNode': 43, 'spellcheck': 43, 'Beacon': 42, 'QuotaExceededError': 41, 'QUOTA_EXCEEDED_ERR': 41, 'bias': 40, 'divisor': 39, 'scriptNode': 38, 'platforms': 23, 'forward': 19}\n"
     ]
    }
   ],
   "source": [
    "degree_freq = {}\n",
    "for nod in G.nodes:\n",
    "    degree_freq[nod] = G.nodes[nod]['deg']\n",
    "sorted_degree = dict(sorted(degree_freq.items(), key=lambda item: item[1], reverse=True))\n",
    "print(sorted_degree)"
   ]
  },
  {
   "cell_type": "code",
   "execution_count": 18,
   "id": "clear-helping",
   "metadata": {
    "pycharm": {
     "name": "#%%\n"
    }
   },
   "outputs": [],
   "source": [
    "# sort nodes based on weight"
   ]
  },
  {
   "cell_type": "code",
   "execution_count": 19,
   "id": "dependent-inspiration",
   "metadata": {
    "pycharm": {
     "name": "#%%\n"
    }
   },
   "outputs": [
    {
     "name": "stdout",
     "output_type": "stream",
     "text": [
      "{'document': 79.67853107344699, 'var': 79.67570621468994, 'name': 79.66195856873891, 'location': 79.64143126177092, 'window': 79.6414312617709, 'parent': 79.59397363465239, 'self': 79.58851224105543, 'top': 79.58851224105543, 'opener': 79.53879472693119, 'frames': 79.53879472693117, 'length': 76.86704331450153, 'src': 74.90885122410597, 'null': 73.74500941619638, 'createElement': 73.35122410546171, 'init': 72.69114877589527, 'getElementsByTagName': 69.25084745762788, 'type': 68.05047080979351, 'push': 67.22109227871998, 'Date': 67.02881355932273, 'appendChild': 62.93766478342691, 'parentNode': 62.81355932203324, 'replace': 62.731638418078454, 'href': 61.20433145009354, 'Math': 60.949529190206576, 'join': 60.69811676082797, 'navigator': 60.11732580037589, 'undefined': 60.00169491525368, 'id': 58.13389830508397, 'setTimeout': 58.119209039547286, 'style': 57.68248587570552, 'body': 57.51996233521595, 'height': 56.379661016948546, 'true': 56.153860640300756, 'toString': 55.65800376647773, 'prototype': 55.27758945386003, 'string': 54.94500941619515, 'width': 54.88719397363388, 'arguments': 54.88210922787116, 'getTime': 54.10772128060199, 'call': 53.38625235404829, 'function': 53.191337099811115, 'match': 53.039171374763974, 'addEventListener': 52.69416195856798, 'protocol': 52.30470809792784, 'object': 52.20546139359638, 'onload': 51.958945386063235, 'apply': 51.807532956684824, 'random': 51.23879472692978, 'attachEvent': 50.885875706214065, 'userAgent': 50.818079096044514, 'load': 49.92109227871867, 'Array': 49.46478342749467, 'readyState': 49.37344632768296, 'documentElement': 49.131450094161245, 'slice': 46.27325800376577, 'false': 45.96741996233458, 'none': 45.87871939736278, 'on': 44.89416195856808, 'hasOwnProperty': 43.68531073446261, 'head': 43.66516007532888, 'getElementById': 43.66064030131749, 'complete': 43.080037664782644, 'innerHTML': 43.028060263652904, 'value': 42.87476459510293, 'insertBefore': 42.253107344632184, 'data': 41.944444444443604, 'setAttribute': 41.27532956685419, 'url': 41.11073446327627, 'display': 40.5156308851217, 'removeChild': 40.258003766477536, 'left': 40.220715630884385, 'delete': 40.08286252353974, 'referrer': 40.003766478342285, 'cookie': 38.75404896421815, 'target': 38.08323917137397, 'Object': 37.98719397363404, 'void': 37.94256120527246, 'host': 37.83483992467005, 'in': 37.78964218455674, 'onreadystatechange': 37.290395480225285, 'search': 37.2800376647828, 'Image': 36.69077212805987, 'String': 36.55047080979207, 'event': 36.16647834274904, 'title': 34.53314500941558, 'instanceof': 34.43841807909536, 'log': 34.06534839924608, 'async': 33.88568738229724, 'getAttribute': 33.63879472692989, 'message': 33.50659133709926, 'className': 32.520338983050415, 'hostname': 31.997175141243005, 'onerror': 31.96327683615792, 'click': 31.944256120527236, 'number': 31.613182674199525, 'loaded': 31.403578154425585, 'domain': 31.358568738229557, 'console': 31.16629001883233, 'hidden': 31.10112994350282, 'version': 31.0580037664782, 'clearTimeout': 30.406591337099705, 'text': 29.488700564971595, 'clientHeight': 29.128813559321962, 'removeEventListener': 29.105461393596933, 'iframe': 28.740112994350145, 'round': 28.202448210922686, 'position': 27.467608286252364, 'tagName': 27.45555555555551, 'screen': 27.241807909604486, 'detachEvent': 27.201883239171316, 'write': 27.191148775894657, 'error': 26.812052730696657, 'DOMContentLoaded': 26.54180790960448, 'open': 26.219585687382132, 'escape': 24.989077212805956, 'createTextNode': 24.93935969868178, 'scrollTop': 24.849905838041447, 'cssText': 24.834651600753332, 'clientWidth': 24.786629001883203, 'nodeType': 24.764218455743944, 'splice': 24.754425612052614, 'firstChild': 24.113747645950944, 'set': 23.862900188324023, 'auto': 23.698681732579946, 'img': 23.69359698681733, 'start': 23.15913370998118, 'px': 23.08342749529184, 'get': 22.83728813559316, 'link': 22.34519774011285, 'nodeName': 22.217890772128143, 'http': 22.18964218455739, 'input': 22.081167608286243, 'max': 21.699435028248494, 'srcElement': 21.520150659133613, 'scroll': 21.47250470809809, 'hash': 21.313747645950954, 'innerHeight': 21.20320150659134, 'focus': 21.1574387947269, 'html': 20.974576271186393, 'childNodes': 20.602824858757103, 'preventDefault': 20.180979284369037, 'callback': 20.079849340866314, 'setInterval': 20.020903954802122, 'debug': 19.499811676082853, 'parse': 19.401506591337, 'charset': 19.348022598870028, 'language': 19.322975517890775, 'bottom': 19.179849340866227, 'offsetHeight': 19.175517890772017, 'filter': 18.968738229755058, 'bind': 18.847834274952834, 'constructor': 18.707344632768226, 'ready': 18.532203389830375, 'pathname': 18.36101694915255, 'absolute': 18.354802259886927, 'border': 18.331826741996274, 'boolean': 18.276459510357753, 'charCodeAt': 18.23352165725031, 'plugins': 18.12033898305086, 'description': 18.102448210922656, 'right': 17.966666666666637, 'timeout': 17.965348399246523, 'JSON': 17.958003766478235, 'ActiveXObject': 17.95348399246694, 'offsetWidth': 17.78662900188319, 'innerWidth': 17.757815442561206, 'remove': 17.745574387947237, 'localStorage': 17.68738229755169, 'key': 17.668361581920916, 'send': 17.431826741996048, 'clearInterval': 17.32900188323899, 'scrollLeft': 16.96327683615811, 'content': 16.949340866290015, 'submit': 16.785687382297354, 'stopPropagation': 16.71054613935954, 'innerText': 16.688323917137307, 'min': 16.434463276836066, 'create': 16.36440677966077, 'querySelectorAll': 16.209416195856875, 'resize': 15.985310734463408, 'add': 15.921280602636633, 'compatMode': 15.740112994350321, 'margin': 15.682297551789123, 'styleSheet': 15.665913370998176, 'item': 15.579096045197856, 'css': 15.542184557438892, 'textContent': 15.510357815442694, 'class': 15.46892655367241, 'extend': 15.292655367231768, 'setItem': 15.138041431261838, 'getItem': 15.093596986817408, 'button': 14.952542372881418, 'end': 14.630131826742137, 'state': 14.62372881355936, '\\\\n': 14.31054613935983, 'ms': 14.289265536723287, 'normal': 14.181732580037728, 'attr': 13.913747645951071, 'inherit': 13.895291902071532, 'visible': 13.868173258003791, 'db': 13.810169491525464, 'now': 13.755743879472796, 'reset': 13.707156308851332, 'browser': 13.686440677966173, 'rel': 13.630320150659253, 'getBoundingClientRect': 13.476082862523647, 'warn': 13.473634651600841, 'events': 13.41224105461398, '_blank': 13.272128060263718, 'blur': 13.247645951035906, 'getComputedStyle': 13.22354048964235, 'postMessage': 13.192467043314561, 'colorDepth': 13.136158192090495, 'info': 13.131261770244896, 'show': 13.081732580037718, 'options': 13.064595103578325, 'sort': 13.047834274953061, 'returnValue': 12.99077212806041, 'pageYOffset': 12.951224105461435, 'element': 12.875329566855049, 'span': 12.81092278719409, 'track': 12.791525423728984, 'count': 12.765536723163919, 'cookieEnabled': 12.745386064030242, 'Function': 12.715819209039584, 'cache': 12.571751412429455, 'webkit': 12.565348399246831, 'overflow': 12.451789077212807, 'contentWindow': 12.447269303201551, 'find': 12.437664783427566, 'offset': 12.329378531073548, 'orientation': 12.306026365348506, 'contains': 12.296045197740314, 'select': 12.166478342749635, 'frameElement': 11.75856873822978, 'color': 11.745197740113149, 'platform': 11.545574387947346, 'default': 11.486252354049041, 'offsetTop': 11.45762711864421, 'format': 11.419585687382419, 'currentStyle': 11.410546139359843, 'onclick': 11.407344632768378, 'mouseover': 11.352354048964331, 'close': 11.314877589454067, 'Event': 11.303389830508625, 'mouseout': 11.287570621469017, 'product': 11.242937853107415, 'addEvent': 11.198870056497233, 'loading': 11.127495291902246, 'query': 11.052730696798655, 'delay': 10.994538606403086, 'action': 10.984180790960611, 'disabled': 10.98079096045207, 'status': 10.89378531073471, 'elements': 10.695291902071629, 'duration': 10.62693032015078, 'notify': 10.569303201506651, 'vb': 10.567984934086674, 'all': 10.519020715631054, 'pageY': 10.483804143126191, 'pt': 10.452919020715692, 'cancelBubble': 10.408851224105598, 'pageXOffset': 10.40451977401137, 'index': 10.369868173258151, 'XMLHttpRequest': 10.281920903955, 'video': 10.279284369115047, 'items': 10.192090395480282, 'URL': 10.165348399246813, 'matches': 9.969303201506778, 'getElementsByClassName': 9.954048964218597, 'pc': 9.946139359698787, 'lang': 9.93182674199628, 'mousedown': 9.918644067796679, 'offsetLeft': 9.915065913371134, 'appName': 9.85951035781551, 'relatedTarget': 9.836911487759055, 'cursor': 9.742937853107437, 'onabort': 9.739924670433318, 'mimeTypes': 9.705461393597083, 'pause': 9.704708097928533, 'removeAttribute': 9.656120527307056, 'require': 9.622975517890952, 'scrolling': 9.561581920904045, 'time': 9.556685499058522, 'scrollHeight': 9.520903954802296, 'clear': 9.421092278719447, 'tracker': 9.358380414312668, 'clientY': 9.257062146892743, 'rules': 9.235969868173324, 'source': 9.200188323917287, 'clientTop': 9.197363465160217, 'javaEnabled': 9.170244821092346, 'append': 9.14444444444451, 'querySelector': 9.100941619585754, 'lastChild': 9.08267419962347, 'Gecko': 9.058380414312643, 'center': 9.05668549905848, 'prop': 9.00885122410547, 'subscribe': 8.935593220339074, 'nextSibling': 8.878154425612099, 'clientLeft': 8.809416195857015, 'uri': 8.755932203389921, 'keys': 8.754237288135764, 'mousemove': 8.72598870056505, 'any': 8.71073446327691, 'context': 8.674387947269432, 'checked': 8.479472693032118, 'expires': 8.461958568738304, 'orientationchange': 8.444256120527413, 'image': 8.391713747645975, 'play': 8.310169491525444, 'background': 8.289642184557485, 'always': 8.175141242937856, 'children': 8.166666666666739, 'total': 8.110546139359688, 'client': 8.069679849340874, 'browserLanguage': 8.066478342749535, 'result': 8.03069679849345, 'offsetParent': 8.00150659133706, 'origin': 7.962335216572474, 'pageX': 7.95555555555557, 'clientX': 7.916760828625234, 'eventHandler': 7.8743879472693, 'change': 7.871563088512203, 'handler': 7.8532956685498805, 'compareDocumentPosition': 7.829943502824842, 'propertyIsEnumerable': 7.821280602636538, 'stop': 7.820903954802231, 'locale': 7.818832391713716, 'country': 7.791713747645944, 'fireEvent': 7.760075329566796, 'label': 7.734086629001816, 'removeItem': 7.731826741996259, 'checkbox': 7.703389830508426, 'beforeunload': 7.6992467043314505, 'scope': 7.651035781544275, 'method': 7.650094161958569, 'attributes': 7.644821092278695, 'initialize': 7.590960451977356, 'unload': 7.588888888888832, 'unknown': 7.5792843691148635, 'align': 7.5649717514124255, 'defer': 7.564406779660957, 'fill': 7.485499058380374, 'zoom': 7.456685499058321, 'getPropertyValue': 7.4399246704331405, 'mode': 7.4018832391714, 'replaceChild': 7.376271186440666, 'email': 7.360263653483974, 'update': 7.351412429378492, 'mouseup': 7.343314500941583, 'size': 7.342372881355905, 'cm': 7.302636534839946, 'form': 7.295480225988657, 'enabled': 7.277212806026306, 'performance': 7.247834274952937, 'user': 7.218079096045187, 'GET': 7.1634651600752814, 'scripts': 7.15743879472687, 'ic': 7.094350282485902, 'float': 6.9821092278719465, 'readystatechange': 6.975894538606418, 'systemLanguage': 6.9612052730696865, 'vertical': 6.954425612052737, 'setData': 6.868549905838018, 'XDomainRequest': 6.834274952918952, 'appVersion': 6.830131826742013, 'transform': 6.794726930320115, 'responseText': 6.791902071563022, 'tag': 6.7772128060263555, 'selected': 6.766666666666646, 'defaultView': 6.71205273069676, 'file': 6.7094161958568765, 'setRequestHeader': 6.668926553672315, 'ended': 6.666101694915267, 'city': 6.6446327683615785, 'currentTime': 6.637099811676092, 'styleSheets': 6.635969868173211, 'visibilitychange': 6.630508474576266, 'textarea': 6.5988700564971365, 'forEach': 6.562335216572473, 'clip': 6.538229755178903, 'touch': 6.515254237288097, 'up': 6.498116760828576, 'middle': 6.495856873822969, 'mozMatchesSelector': 6.47363465160074, 'webkitMatchesSelector': 6.47363465160074, 'msMatchesSelector': 6.47363465160074, 'oMatchesSelector': 6.47363465160074, 'prefix': 6.453672316384107, 'active': 6.44557438794722, 'cy': 6.4318267419962245, 'array': 6.4231638418079084, 'which': 6.387570621468895, 'stroke': 6.380414312617639, 'line': 6.346892655367187, 'timing': 6.332391713747655, 'first': 6.304143126177006, 'handleEvent': 6.256685499058385, 'timeupdate': 6.16365348399248, 'node': 6.149340866289974, 'sendBeacon': 6.129190207156299, 'down': 6.111111111111066, 'frameBorder': 6.078531073446328, 'repeat': 6.048210922787184, 'transaction': 5.9871939736346524, 'alt': 5.939924670433109, 'code': 5.893220338982998, 'Boolean': 5.8813559322033875, 'flash': 5.874011299435001, 'nodeValue': 5.865348399246704, 'volumechange': 5.860263653483996, 'sx': 5.806591337099825, 'keypress': 5.709981167608247, 'include': 5.650282485875635, 'save': 5.641619585687316, 'success': 5.634274952919011, 'withCredentials': 5.632768361581856, 'nowrap': 5.622222222222171, 'notifications': 5.5851224105461466, 'ss': 5.583427495291893, 'sessionStorage': 5.561393596986801, 'moz': 5.534651600753258, 'radio': 5.531261770244828, 'both': 5.528813559322007, 'define': 5.520527306967929, 'userLanguage': 5.513747645951035, 'icon': 5.456497175141173, 'animate': 5.453483992467012, 'previousSibling': 5.42674199623352, 'command': 5.411299435028182, 'devicePixelRatio': 5.387005649717445, 'keyCode': 5.370056497175113, 'onmessage': 5.367043314500911, 'cx': 5.366478342749539, 'pending': 5.36497175141244, 'loadeddata': 5.27551789077215, 'external': 5.210169491525431, 'ontouchstart': 5.209227871939708, 'POST': 5.204708097928455, 'root': 5.192655367231627, 'rx': 5.187758945386051, 'history': 5.159887005649724, 'scriptURL': 5.1572504708098075, 'protocols': 5.152919020715653, 'shipping': 5.141996233521671, 'focusin': 5.139548022598863, 'dx': 5.127871939736345, 'responseEnd': 5.123352165725052, 'interval': 5.121092278719391, 'x2': 5.090207156308864, 'off': 5.083427495291842, 'done': 5.078719397363447, 'ch': 5.075517890772148, 'process': 5.056497175141255, 'stalled': 5.032015065913385, 'seekable': 5.032015065913385, 'visibilityState': 5.011111111111113, 'abort': 4.967231638418024, 'focusout': 4.944256120527307, 'out': 4.937664783427503, 'results': 4.930131826741939, 'prerender': 4.91412429378531, 'dy': 4.877024482109215, 'navigationStart': 4.857062146892663, 'identity': 4.809416195856895, 'classList': 4.801883239171319, 'enabledPlugin': 4.788888888888895, 'from': 4.781355932203366, 'yes': 4.762146892655337, 'textAlign': 4.748964218455749, 'reload': 4.740301318267417, 'ry': 4.730696798493406, 'ownerDocument': 4.694161958568734, 'flush': 4.68907721280602, 'onmouseover': 4.678342749529201, 'Mozilla': 4.66497175141243, 'behavior': 4.647834274952891, 'req': 4.630131826741982, 'loadEventStart': 4.623540489642189, 'share': 4.622222222222225, 'fx': 4.604519774011286, 'mozilla': 4.602259887005651, 'onmouseout': 4.602259887005651, 'canvas': 4.595291902071541, 'group': 4.587947269303184, 'pattern': 4.576459510357816, 'filters': 4.561770244821064, 'parentElement': 4.530131826742008, 'images': 4.516949152542331, 'fr': 4.491525423728795, 'keydown': 4.48267419962332, 'for': 4.459698681732566, 'mouseenter': 4.459133709981135, 'frame': 4.448210922787143, 'connectStart': 4.434463276836163, 'touchend': 4.4141242937852985, 'characterSet': 4.41129943502826, 'addRule': 4.401318267419943, 'touchstart': 4.364218455743869, 'embed': 4.3259887005649675, 'empty': 4.3254237288135515, 'mouseleave': 4.321280602636502, 'follow': 4.316007532956622, 'encode': 4.287193973634652, 'port': 4.285122410546114, 'dispatchEvent': 4.283050847457601, 'request': 4.265913370998102, 'service': 4.213370998116716, 'only': 4.212429378531066, 'currentTarget': 4.2080979284368984, 'htmlFor': 4.194161958568727, 'requestStart': 4.185875706214709, 'getData': 4.163276836158175, 'domainLookupStart': 4.158192090395489, 'connectEnd': 4.158192090395489, 'responseStart': 4.158192090395489, 'getContext': 4.148964218455733, 'after': 4.146704331450106, 'domainLookupEnd': 4.091902071563094, 'reverse': 4.052919020715646, 'fetchStart': 4.0391713747646, 'Infinity': 4.038606403013211, 'timestamp': 4.032580037664781, 'shiftKey': 4.029001883239148, 'rp': 4.003954802259883, 'domContentLoadedEventStart': 3.9836158192090423, 'channel': 3.979661016949172, 'inactive': 3.9768361581920986, 'ctrlKey': 3.971563088512258, 'cloneNode': 3.968549905838055, 'domInteractive': 3.965536723163839, 'direction': 3.939359698681761, 'rotation': 3.914312617702453, 'ip': 3.898681732580058, 'outerWidth': 3.882862523540523, 'refresh': 3.8762711864407056, 'scale': 3.861393596986856, 'insertRule': 3.841431261770228, 'linear': 3.8370998116760946, 'password': 3.810922787193982, 'metaKey': 3.8079096045197893, 'touchmove': 3.79510357815444, 'filename': 3.7576271186440833, 'DOMNodeInserted': 3.7224105461393484, 'contentDocument': 3.719962335216568, 'navigation': 3.6725047080979323, 'exception': 3.664783427495288, 'view': 3.6564971751412942, 'ii': 3.6380414312617977, 'td': 3.6299435028249016, 'clone': 3.6088512241054924, 'fileName': 3.588888888888883, 'hasAttribute': 3.5425612052730817, 'as': 3.5246704331450136, 'lineNumber': 3.49435028248587, 'translate': 3.493220338983094, 'step': 3.490395480226018, 'getName': 3.483239171374785, 'outerHeight': 3.47137476459514, 'paused': 3.4662900188323884, 'cssRules': 3.462146892655363, 'base': 3.45800376647839, 'normalize': 3.454990583804162, 'static': 3.4510357815442583, 'gl': 3.436723163841836, 'collapse': 3.4301318267420147, 'answer': 3.414312617702472, 'response': 3.411299435028274, 'scrollWidth': 3.4088512241054625, 'next': 3.4060263653484353, 'dom': 3.394915254237286, 'rows': 3.3612052730696904, 'easing': 3.360828625235423, 'ty': 3.3566854990584116, 'go': 3.3549905838041596, 'high': 3.3544256120527414, 'onfocus': 3.3016949152542314, 'urls': 3.297175141242946, 'valueOf': 3.2630885122410684, 'register': 3.259133709981188, 'keyup': 3.2474576271186733, 'mm': 3.1934086629001857, 'wrap': 3.1902071563088854, 'createElementNS': 3.186064030131852, 'animation': 3.1834274952919133, 'record': 3.1679849340866353, 'region': 3.163653483992471, 'ltr': 3.1288135593220736, 'TypeError': 3.1192090395480387, 'gestureend': 3.1177024482109306, 'media': 3.1143126177024625, 'drop': 3.075329566855008, 'option': 3.070056497175169, 'check': 3.0619585687382425, 'onblur': 3.060263653483988, 'alert': 3.058380414312633, 'move': 3.053295668549941, 'tel': 3.052354048964237, 'touches': 3.051600753295702, 'startTime': 3.0510357815442655, 'reversed': 3.0497175141243114, 'getElementsByName': 3.0435028248587757, 'tooltip': 3.0416195856874, 'btoa': 3.0099811676083084, 'offsetY': 3.0011299435028325, 'hh': 2.9871939736346684, 'NaN': 2.982109227871936, 'offsetX': 2.96158192090396, 'defaultValue': 2.940866290018845, 'requestAnimationFrame': 2.9346516007533303, 'toJSON': 2.9242937853107502, 'points': 2.9242937853107462, 'lh': 2.903766478342767, 'removeRule': 2.898305084745784, 'DOMNodeRemoved': 2.895668549905829, 'onmousedown': 2.8802259887005772, 'DOMAttrModified': 2.832956685499057, 'vendor': 2.82542372881357, 'handle': 2.824482109227877, 'token': 2.8018832391713766, 'deleteRule': 2.8007532956685446, 'domLoading': 2.7990583804143103, 'loadEventEnd': 2.7979284369114845, 'isEnabled': 2.793032015065919, 'rect': 2.7783427495291986, 'createSVGRect': 2.753295668549937, 'attributeName': 2.7161958568738203, 'namespaceURI': 2.7124293785310893, 'clientId': 2.698305084745769, 'properties': 2.6915254237288484, 'p4': 2.6875706214689217, 'fy': 2.6851224105461426, 'domComplete': 2.6672316384180754, 'attribution': 2.6563088512241455, 'custom': 2.64990583804143, 'ownerNode': 2.64839924670433, 'StyleSheetList': 2.64839924670433, 'square': 2.6387947269303256, 'drag': 2.621845574387973, 'arc': 2.6171374764595416, 'Netscape': 2.6114877589453873, 'layerY': 2.610169491525427, 'storage': 2.5986817325800455, 'portNumber': 2.5926553672316333, 'domContentLoadedEventEnd': 2.586817325800371, 'outerHTML': 2.5854990583804285, 'redirectEnd': 2.577024482109225, 'redirectStart': 2.577024482109225, 'layerX': 2.570621468926557, 'unloadEventStart': 2.558945386064024, 'p1': 2.5514124293785407, 'sync': 2.5504708097928566, 'mark': 2.54086629001886, 'onmousemove': 2.540489642184588, 'services': 2.5301318267419988, 'has': 2.52919020715632, 'closest': 2.5224105461393656, 'shape': 2.5073446327683855, 'p3': 2.4706214689265478, 'tabIndex': 2.4621468926553893, 'sendMessage': 2.4606403013182567, 'unloadEventEnd': 2.4493408662900156, 'json': 2.435028248587597, 'progress': 2.4225988700565293, 'radius': 2.405838041431291, 'onMessage': 2.402824858757074, 'priority': 2.402636534839936, 'layout': 2.3871939736346537, 'dir': 2.379096045197774, 'popup': 2.3572504708098263, 'lineWidth': 2.3516007532956986, 'detail': 2.3478342749529357, 'onunload': 2.341054613935979, 'threshold': 2.3242937853107373, 'cells': 2.3175141242937825, 'range': 2.3171374764595147, 'role': 2.304708097928434, 'addListener': 2.301694915254277, 'started': 2.2922787193973684, 'point': 2.279472693032038, 'list': 2.2645951035781535, 'Element': 2.2612052730696837, 'rtl': 2.2463276836158195, 'login': 2.2384180790960535, 'not': 2.2369114877589533, 'ping': 2.231261770244829, 'grep': 2.230320150659131, 'Point': 2.2071563088512463, 'bounds': 2.2071563088512463, 'low': 2.20564971751413, 'axis': 2.203201506591332, 'links': 2.1975517890772087, 'getBBox': 2.196986817325796, 'setAttributeNS': 2.196986817325796, 'pan': 2.1962335216572777, 'selectedIndex': 2.188888888888897, 'secureConnectionStart': 2.173634651600753, 'labels': 2.1585687382297514, 'preserveAspectRatio': 2.148775894538603, 'userSpaceOnUse': 2.148775894538603, 'percent': 2.147645951035794, 'utils': 2.146327683615841, 'parameters': 2.141996233521659, 'crypto': 2.140112994350284, 'datetime': 2.1395480225988677, 'ontimeout': 2.135781544256154, 'javascript': 2.1237288135593246, 'viewport': 2.116572504708095, 'Position': 2.1092278719397313, 'getRandomValues': 2.091713747645956, 'defaultChecked': 2.0879472693032244, 'activeElement': 2.0826741996233524, 'ontouchmove': 2.0798493408662937, 'bgcolor': 2.0649717514124295, 'regions': 2.059133709981177, 'gradientUnits': 2.0540489642184494, 'decode': 2.0534839924670543, 'pageshow': 2.0442561205272995, 'flags': 2.044256120527299, 'SVGElement': 2.0438794726930265, 'hint': 2.0397363465160083, 'profile': 2.0291902071563115, 'values': 2.0241054613935945, 'axes': 2.0107344632768305, 'screenY': 2.0001883239171234, 'screenX': 2.0001883239171234, 'ext': 1.9994350282485855, 'autoIncrement': 1.9956685499058309, 'forceRedraw': 1.9956685499058309, 'brightness': 1.9956685499058309, 'setScale': 1.9956685499058309, 'symbols': 1.9956685499058309, 'negative': 1.9956685499058309, 'updatePosition': 1.9956685499058309, 'sorted': 1.9956685499058309, 'download': 1.9838041431261635, 'continue': 1.9687382297551748, 'pointerType': 1.9623352165724905, 'maxLength': 1.9591337099811692, 'transition': 1.9229755178907595, 'canPlayType': 1.9207156308851239, 'specified': 1.9199623352165693, 'pointerId': 1.9111111111111008, 'pointermove': 1.8969868173257853, 'pointerdown': 1.8969868173257853, 'changedTouches': 1.893596986817319, 'activate': 1.8934086629001876, 'setImmediate': 1.8845574387947335, 'reject': 1.8802259887005588, 'level': 1.879096045197742, 'then': 1.8747645951035705, 'maxlength': 1.8538606403013163, 'hasFocus': 1.831638418079093, 'pointerup': 1.8314500941619432, 'buttons': 1.8273069679849172, 'spacing': 1.8205273069679742, 'resume': 1.820150659133705, 'summary': 1.81826741996232, 'counter': 1.8090395480225885, 'PointerEvent': 1.7919020715630758, 'before': 1.789077212806021, 'device': 1.7853107344632748, 'pixelDepth': 1.7830508474576245, 'audio': 1.775141242937842, 'createComment': 1.7745762711864341, 'table': 1.7642184557438656, 'toggle': 1.7478342749529143, 'geolocation': 1.7404896421845426, 'encoding': 1.7310734463276867, 'angle': 1.7267419962335264, 'setProperty': 1.7156308851224171, 'sub': 1.7112994350282336, 'connection': 1.7016949152542324, 'pushState': 1.6926553672316402, 'onkeyup': 1.6747645951035723, 'rate': 1.6723163841807873, 'playing': 1.6662900188323937, 'redirect': 1.6634651600753232, 'autocomplete': 1.6510357815442382, 'sheet': 1.6451977401129974, 'read': 1.6361581920903983, 'local': 1.6280602636534807, 'verify': 1.625423728813556, 'startAngle': 1.616949152542381, 'closed': 1.616760828625225, 'NONE': 1.6011299435028064, 'availWidth': 1.5969868173257933, 'cancel': 1.5960451977401076, 'availHeight': 1.5896421845574342, 'onkeydown': 1.5896421845574313, 'identifier': 1.5866290018832407, 'com': 1.5828625235404878, 'headers': 1.5785310734463218, 'onscroll': 1.5721280602636465, 'alpha': 1.5676082862523497, 'remote': 1.5661016949152542, 'pagehide': 1.5591337099811742, 'getAttributeNode': 1.550470809792838, 'Map': 1.5435028248587488, 'cors': 1.535216572504701, 'Uint16Array': 1.5209039548022643, 'username': 1.5167608286252374, 'preload': 1.4600753295668578, 'poster': 1.4427495291902068, 'endAngle': 1.441807909604521, 'weight': 1.4384180790960313, 'longitude': 1.4322033898304936, 'latitude': 1.4322033898304936, 'Location': 1.4250470809792815, 'ratio': 1.4212806026365299, 'forms': 1.4180790960451934, 'finish': 1.4146892655367098, 'Name': 1.400564971751414, 'removeListener': 1.3926553672316235, 'cancelAnimationFrame': 1.3919020715630754, 'order': 1.3881355932203356, 'when': 1.3830508474576237, 'opened': 1.3741996233521605, 'print': 1.3581920903954832, 'slide': 1.3570621468926538, 'implementation': 1.3532956685499111, 'autoplay': 1.353107344632766, 'doNotTrack': 1.3440677966101657, 'ctx': 1.3408662900188302, 'enter': 1.3382297551789009, 'sse': 1.3284369114877586, 'onclose': 1.3244821092278598, 'mozRequestAnimationFrame': 1.3224105461393583, 'menu': 1.3186440677965938, 'th': 1.3184557438794573, 'contentType': 1.31280602636535, 'getState': 1.3118644067796597, 'enable': 1.3112994350282405, 'hasFeature': 1.307532956685504, 'prepend': 1.291337099811673, 'disable': 1.2890772128060164, 'allowFullScreen': 1.2841807909604537, 'cssFloat': 1.2809792843691157, 'getBoxObjectFor': 1.2689265536723184, 'displayName': 1.2625235404896413, 'createEvent': 1.2572504708097831, 'Index': 1.2435028248587572, 'useMap': 1.2380414312617731, 'phone': 1.2350282485875688, 'altKey': 1.232768361581916, 'cellpadding': 1.2297551789077235, 'cellspacing': 1.2297551789077235, 'Plugin': 1.2293785310734475, 'Range': 1.2242937853107323, 'promise': 1.2222222222222165, 'current': 1.2197740112994304, 'controls': 1.2139359698681733, 'other': 1.2139359698681695, 'nodes': 1.1958568738229742, 'rowspan': 1.1838041431261772, 'colSpan': 1.1838041431261772, 'usemap': 1.1838041431261772, 'cellSpacing': 1.1838041431261772, 'cellPadding': 1.1838041431261772, 'rowSpan': 1.1838041431261772, 'valign': 1.1838041431261772, 'colspan': 1.1838041431261772, 'vAlign': 1.1838041431261772, 'connect': 1.175894538606404, 'release': 1.1668549905837977, 'words': 1.1491525423728797, 'foo': 1.1459510357815401, 'timeline': 1.1354048964218468, 'control': 1.1043314500941521, 'rad': 1.1024482109227878, 'trace': 1.0986817325800384, 'removeProperty': 1.0947269303201492, 'LOADING': 1.091525423728814, 'resource': 1.0883239171374757, 'onresize': 1.0743879472693016, 'skewY': 1.0728813559322057, 'skewX': 1.0728813559322057, 'mousewheel': 1.0613935969868091, 'dblclick': 1.056497175141234, 'invalid': 1.050094161958567, 'volume': 1.0444444444444485, 'wheelDelta': 1.0442561205273, 'DOMMouseScroll': 1.0442561205273, 'languageCode': 1.0354048964218432, 'sum': 1.0348399246704303, 'mozInnerScreenY': 1.0340866290018798, 'mozInnerScreenX': 1.0340866290018798, 'watch': 1.0338983050847461, 'detach': 1.033898305084745, 'transitionend': 1.0297551789077186, 'Text': 1.0290018832391707, 'ERROR': 1.0244821092278733, 'kind': 1.0209039548022663, 'tabindex': 1.0165725047080978, 'Counter': 1.0156308851224054, 'onchange': 1.0086629001883234, 'short': 1.004708097928438, 'receiver': 1.0007532956685525, 'metadata': 0.9888888888888918, 'containerId': 0.978154425612055, 'sender': 0.9685499058380415, 'Promise': 0.9612052730696763, 'replaceState': 0.9523540489642178, 'font': 0.9521657250470908, 'scrollTo': 0.9418079096045288, 'persisted': 0.9363465160075347, 'createRange': 0.9359698681732612, 'methodName': 0.9354048964218449, 'new': 0.9340866290018851, 'sampleRate': 0.933145009416192, 'home': 0.9263653483992444, 'transport': 0.9246704331450118, 'keyboard': 0.9192090395480322, 'scheme': 0.9158192090395599, 'getAll': 0.9122410546139393, 'onmouseenter': 0.9064030131826757, 'HTMLElement': 0.9024482109227958, 'createDocumentFragment': 0.9007532956685634, 'onprogress': 0.8992467043314611, 'onmousewheel': 0.8984934086628963, 'blocked': 0.8915254237288143, 'PING': 0.8894538606402997, 'clearImmediate': 0.8894538606402997, 'network': 0.8841807909604542, 'seeking': 0.868738229755184, 'seeked': 0.868738229755184, 'onopen': 0.8645951035781605, 'ontouchend': 0.8583804143126212, 'currency': 0.8563088512241065, 'rid': 0.8546139359698717, 'channels': 0.8544256120527339, 'ancestorOrigins': 0.8504708097928405, 'toDataURL': 0.8500941619585711, 'store': 0.8495291902071602, 'vspace': 0.8423728813559292, 'hspace': 0.8423728813559292, 'beta': 0.8380414312617688, 'w3': 0.8378531073446326, 'getParameter': 0.837664783427494, 'initEvent': 0.8322033898305057, 'sessionId': 0.8310734463276882, 'alternate': 0.8250470809792891, 'appCodeName': 0.825047080979284, 'unique': 0.8244821092278708, 'fallback': 0.8195856873822978, 'writeln': 0.8096045197740098, 'charCode': 0.8090395480225973, 'gap': 0.7999999999999967, 'unit': 0.7973634651600707, 'speed': 0.7966101694915275, 'loop': 0.7890772128060258, 'contextMenu': 0.7792843691148812, 'currentSrc': 0.7717514124293772, 'if': 0.770998116760832, 'application': 0.7691148775894533, 'Navigator': 0.767984934086629, 'popstate': 0.7613935969868184, 'atob': 0.7576271186440663, 'variable': 0.753860640301321, 'loadedmetadata': 0.7519774011299464, 'cellular': 0.7519774011299464, 'muted': 0.7519774011299464, 'aborted': 0.7493408662900225, 'caller': 0.7474576271186544, 'put': 0.7425612052730741, 'runtimeStyle': 0.7406779661016927, 'canplay': 0.7401129943502796, 'clipboard': 0.7290018832391717, 'isSupported': 0.7282485875706273, 'col': 0.7271186440678082, 'wheel': 0.724482109227873, 'observe': 0.724293785310731, 'required': 0.7212806026365317, 'MouseEvent': 0.7165725047081003, 'reason': 0.715630885122416, 'features': 0.7150659133710038, 'getKey': 0.7141242937853111, 'rotate': 0.7111111111111104, 'txt': 0.7101694915254251, 'locked': 0.7037664783427499, 'collapsed': 0.7018832391713845, 'slot': 0.6996233521657224, 'manual': 0.69905838041431, 'dataset': 0.697551789077211, 'allowfullscreen': 0.6828625235404915, 'Media': 0.6824858757062157, 'suffix': 0.6798493408662941, 'matchMedia': 0.6770244821092378, 'fillText': 0.6751412429378522, 'endpoint': 0.6740112994350291, 'tcp': 0.6728813559322002, 'assert': 0.6661016949152554, 'insertAdjacentHTML': 0.6615819209039598, 'frequency': 0.6598870056497184, 'getSelection': 0.653860640301321, 'upload': 0.6523540489642183, 'amount': 0.6463276836158154, 'timeStamp': 0.6435028248587622, 'system': 0.6342749529190228, 'maxTouchPoints': 0.6322033898305142, 'codecs': 0.632203389830509, 'initMouseEvent': 0.6295668549905902, 'usage': 0.6269303201506577, 'onbeforeunload': 0.6218455743879503, 'sidebar': 0.6182674199623347, 'redirectCount': 0.6167608286252336, 'WebSocket': 0.6126177024482119, 'unregister': 0.6088512241054629, 'File': 0.6086629001883199, 'endTime': 0.607532956685499, 'scrollY': 0.6075329566854989, 'dst': 0.5996233521657269, 'KeyboardEvent': 0.5973634651600758, 'getClientRects': 0.5971751412429376, 'Worker': 0.5934086629001856, 'connections': 0.5892655367231666, 'CONNECTING': 0.5892655367231666, 'policy': 0.5892655367231666, 'mediaSession': 0.5892655367231666, 'fillStyle': 0.5847457627118667, 'SyntaxError': 0.5845574387947297, 'fonts': 0.5777777777777762, 'embeds': 0.5775894538606422, 'Touch': 0.5749529190207152, 'navigate': 0.5738229755178901, 'Node': 0.5726930320150656, 'files': 0.5713747645951023, 'Uint32Array': 0.5708097928436923, 'evaluate': 0.5572504708097935, 'multiple': 0.5506591337099815, 'sandbox': 0.5423728813559304, 'confirm': 0.5412429378531075, 'entries': 0.5346516007532941, 'suspend': 0.5314500941619544, 'coords': 0.5308851224105506, 'indexedDB': 0.5250470809792835, 'nextElementSibling': 0.5246704331450082, 'getCurrentTime': 0.5237288135593202, 'getStats': 0.5218455743879474, 'animationName': 0.5177024482109207, 'supported': 0.5171374764595089, 'hashchange': 0.5131826741996207, 'fullscreen': 0.5073446327683614, 'provider': 0.5011299435028228, 'measure': 0.49642184557438573, 'deviceId': 0.4928436911487734, 'over': 0.48851224105461244, 'MS': 0.48813559322034056, 'suffixes': 0.4881355932203394, 'uninitialized': 0.48173258003766556, 'buffer': 0.4806026365348362, 'org': 0.4802259887005637, 'HMAC': 0.48022598870056254, 'productName': 0.4796610169491498, 'stopImmediatePropagation': 0.4757062146892629, 'ctrl': 0.47344632768361605, 'errorCallback': 0.4732580037664762, 'TIMEOUT': 0.47118644067796667, 'deltaX': 0.4655367231638418, 'rem': 0.46177024482109025, 'install': 0.4598870056497168, 'stream': 0.45951035781543914, 'deg': 0.45706214689265273, 'draggable': 0.45480225988700135, 'RangeError': 0.4495291902071533, 'pad': 0.4495291902071526, 'crash': 0.4493408662900202, 'extensions': 0.4480225988700554, 'deltaY': 0.44482109227871974, 'installed': 0.4436911487758929, 'salt': 0.4431261770244798, 'address': 0.44011299435027823, 'loadstart': 0.4376647834274922, 'FileReader': 0.43709981167608014, 'WheelEvent': 0.43540489642184577, 'scrollX': 0.43483992467043187, 'MutationObserver': 0.4305084745762688, 'Request': 0.42806026365348276, 'HTMLCanvasElement': 0.4278719397363434, 'mapping': 0.4241054613935987, 'getParent': 0.4237288135593201, 'placeholder': 0.4237288135593183, 'getUserData': 0.4220338983050846, 'terminate': 0.42052730696798457, 'marginHeight': 0.41920903954802186, 'marginWidth': 0.41920903954802186, 'fillRect': 0.41902071563088306, 'strokeStyle': 0.4143126177024448, 'previous': 0.4139359698681698, 'textBaseline': 0.41299435028248427, 'alphabetic': 0.41299435028248427, 'webgl': 0.41167608286252244, 'passive': 0.40866290018832396, 'voice': 0.40809792843691145, 'pixels': 0.4073446327683601, 'hasChildNodes': 0.4056497175141205, 'replaceWith': 0.40263653483992534, 'propertyName': 0.40169491525423345, 'characterData': 0.40150659133709754, 'component': 0.3981167608286258, 'onmouseleave': 0.39774011299435086, 'compact': 0.39774011299435014, 'iterations': 0.3947269303201488, 'mediaType': 0.3943502824858761, 'lastModified': 0.39209039548022684, 'scoped': 0.39209039548022684, 'force': 0.390583804143126, 'security': 0.39020715630884817, 'png': 0.3888888888888848, 'listener': 0.38549905838041354, 'setTransform': 0.38474576271186245, 'oscpu': 0.38418079096045255, 'restore': 0.3821092278719361, 'Animation': 0.380037664783426, 'unwatch': 0.37928436911487695, 'prompt': 0.37495291902071676, 'mailto': 0.37495291902071676, 'Uint8Array': 0.3702448210922756, 'waiting': 0.36949152542372493, 'exit': 0.3689265536723153, 'types': 0.3659133709981164, 'butt': 0.3645951035781511, 'iterateNext': 0.36082862523540277, 'touchcancel': 0.3561205273069642, 'onselectstart': 0.3540489642184535, 'wheelDeltaX': 0.35386064030131875, 'wheelDeltaY': 0.35386064030131875, 'accessKey': 0.35216572504708155, 'loginUrl': 0.35216572504708155, 'DocumentTouch': 0.3516007532956677, 'equals': 0.34839924670432804, 'Storage': 0.34576271186440544, 'productId': 0.3433145009416187, 'lineCap': 0.3408662900188293, 'connected': 0.33804143126176933, 'getNamedItem': 0.3369114877589447, 'decrypt': 0.33653483992467004, 'dragstart': 0.33596986817325536, 'destination': 0.33540489642184435, 'failed': 0.33483992467043133, 'CSS': 0.3306967984934069, 'oldValue': 0.3274952919020673, 'encrypt': 0.3263653483992466, 'core': 0.32485875706214673, 'manifest': 0.32429378531073433, 'InvalidCharacterError': 0.32391713747646084, 'WebKitCSSMatrix': 0.3201506591337079, 'cite': 0.31920903954801966, 'lines': 0.3178907721280597, 'inputs': 0.31600753295668554, 'baseVal': 0.314500941619583, 'recipient': 0.31393596986817246, 'scrollBy': 0.31280602636534766, 'unsubscribe': 0.3124293785310721, 'onafterprint': 0.31224105461393575, 'onbeforeprint': 0.31224105461393575, 'HTMLVideoElement': 0.3086629001883212, 'HTMLAudioElement': 0.3086629001883212, 'Blob': 0.30847457627118646, 'played': 0.3069679849340852, 'stopped': 0.30659133709981073, 'Components': 0.3060263653483982, 'setPosition': 0.30546139359698404, 'caption': 0.30527306967984674, 'IN': 0.30301318267419974, 'responseType': 0.30263653483992237, 'targetTouches': 0.3018832391713743, 'entryType': 0.2958568738229746, 'dump': 0.293408662900187, 'long': 0.28738229755178796, 'MEDIA_ERR_DECODE': 0.28399246704331366, 'MEDIA_ERR_NETWORK': 0.28399246704331366, 'durationchange': 0.28399246704331366, 'MEDIA_ERR_SRC_NOT_SUPPORTED': 0.28399246704331366, 'baseURI': 0.282485875706214, 'Window': 0.281732580037665, 'Client': 0.28173258003766494, 'fullPath': 0.2817325800376643, 'overrideMimeType': 0.28173258003766355, 'timeEnd': 0.2811676082862521, 'readAsArrayBuffer': 0.27796610169491537, 'isFile': 0.27796610169491537, 'algorithm': 0.27796610169491537, 'FileList': 0.27796610169491537, 'permission': 0.27796610169491537, 'lower': 0.27758945386063993, 'sample': 0.27758945386063993, 'rootNode': 0.2743879472693028, 'PC': 0.2740112994350272, 'idle': 0.273446327683616, 'miter': 0.2723163841807907, 'closePath': 0.2698681732580017, 'elementFromPoint': 0.2681732580037647, 'groupEnd': 0.2672316384180781, 'offer': 0.2672316384180779, 'oncontextmenu': 0.266854990583804, 'globalStorage': 0.2651600753295662, 'MozMousePixelScroll': 0.26271186440677796, 'keygen': 0.26271186440677796, 'checkValidity': 0.262146892655367, 'applicationCache': 0.262146892655367, 'WebGLRenderingContext': 0.262146892655367, 'isPrototypeOf': 0.2612052730696781, 'monitor': 0.25969868173258026, '__proto__': 0.2595103578154414, 'serializeToString': 0.2572504708097927, 'XMLSerializer': 0.2572504708097927, 'xml': 0.25574387947269317, 'picture': 0.2557438794726931, 'm41': 0.2548022598870061, 'm42': 0.2548022598870061, 'getEntriesByType': 0.2523540489642187, 'Option': 0.2506591337099824, 'screenLeft': 0.25065913370998094, 'screenTop': 0.25065913370998094, 'fetch': 0.24708097928436912, 'naturalWidth': 0.24387947269303267, 'naturalHeight': 0.24387947269303267, 'retry': 0.24274952919020598, 'successCallback': 0.2423728813559326, 'shadowOffsetY': 0.23954802259886976, 'shadowColor': 0.23954802259886976, 'shadowOffsetX': 0.23954802259886976, 'assign': 0.2391713747645942, 'onpaste': 0.23634651600753256, 'truncate': 0.2350282485875697, 'httpEquiv': 0.23258003766478355, 'writer': 0.2297551789077212, 'compositionstart': 0.22824858757062205, 'InputEvent': 0.22824858757062205, 'compositionupdate': 0.22824858757062205, 'FocusEvent': 0.22824858757062205, 'CompositionEvent': 0.22824858757062205, 'UIEvent': 0.22824858757062205, 'compositionend': 0.22824858757062205, 'beforeinput': 0.22824858757062205, 'amex': 0.2280602636534837, 'outerText': 0.2269303201506587, 'heading': 0.2269303201506587, 'toLocaleString': 0.22674199623352045, 'ports': 0.22655367231638357, 'worker': 0.22655367231638357, 'SharedWorker': 0.22655367231638357, 'intercept': 0.22655367231638357, 'onconnect': 0.22655367231638357, 'discover': 0.22655367231638357, '__defineGetter__': 0.22617702448210958, 'DOMParser': 0.22542372881355988, 'parseFromString': 0.22542372881355988, 'targetElement': 0.22504708097928397, 'authentication': 0.2237288135593224, 'messageType': 0.2237288135593224, 'showModal': 0.2237288135593224, 'newValue': 0.2229755178907697, 'copy': 0.22259887005649756, 'currentScript': 0.2218455743879471, 'beginPath': 0.22052730696798348, 'IndexedDB': 0.21958568738229717, 'disconnect': 0.21713747645951034, 'requestId': 0.21676082862523524, 'scrollIntoView': 0.21676082862523513, 'NULL': 0.21506591337099776, 'allowFullscreen': 0.2148775894538609, 'paste': 0.21450094161958666, 'initiatorType': 0.21224105461393647, 'sdp': 0.21148775894538527, 'getBounds': 0.21148775894538485, 'globalAlpha': 0.21148775894538485, 'lineJoin': 0.21148775894538485, 'defaultPrevented': 0.211299435028249, 'statusText': 0.20903954802259886, 'firstElementChild': 0.20809792843691216, 'onpageshow': 0.20809792843691197, 'onsuccess': 0.20790960451977367, 'memory': 0.20772128060263664, 'setTranslate': 0.20715630885122446, 'online': 0.20640301318267348, 'enqueue': 0.20621468926553724, 'getEntries': 0.20338983050847528, 'sizes': 0.20320150659133684, 'seed': 0.2030131826741984, 'mute': 0.20225988700565056, 'readonly': 0.2018832391713745, 'Method': 0.20169491525423766, 'COMMENT_NODE': 0.1994350282485883, 'toolbar': 0.19905838041431226, 'actions': 0.19887005649717546, 'fullScreen': 0.1973634651600751, 'compareNode': 0.1943502824858758, 'denied': 0.1943502824858758, 'respond': 0.1943502824858758, 'expiration': 0.19416195856873827, 'PT': 0.19359698681732523, 'TrackEvent': 0.19246704331450115, 'codebase': 0.19133709981167524, 'scrollAmount': 0.1911487758945389, 'columnNumber': 0.1907721280602638, 'colno': 0.1907721280602638, 'ErrorEvent': 0.1907721280602638, 'upgrade': 0.1883239171374768, 'moveTo': 0.1866290018832393, 'lineTo': 0.1866290018832393, 'adData': 0.1851224105461402, 'allow': 0.18342749529190222, 'NEXT': 0.1832391713747643, 'anchors': 0.18210922787193917, 'finished': 0.18135593220338972, 'registration': 0.18116760828625217, 'taintEnabled': 0.18097928436911453, 'CM': 0.18003766478342725, 'arcTo': 0.17758945386064054, 'variant': 0.1768361581920911, 'HORIZONTAL_AXIS': 0.1766478342749532, 'onorientationchange': 0.17457627118644078, 'advance': 0.1745762711864407, 'family': 0.17382297551789108, 'importNode': 0.17212806026365374, 'pointerout': 0.17043314500941648, 'deltaMode': 0.17043314500941648, 'onwheel': 0.17043314500941648, 'notification': 0.17005649717514112, 'initialTime': 0.16723163841807917, 'waitUntil': 0.16685499058380432, 'XPathResult': 0.16516007532956672, 'requestData': 0.16459510357815432, 'unmute': 0.16440677966101733, 'bgColor': 0.16308851224105447, 'abbr': 0.16308851224105383, 'fullscreenchange': 0.16271186440677982, 'canplaythrough': 0.16271186440677982, 'm11': 0.1606403013182665, 'isSync': 0.15969868173258012, 'ELEMENT_NODE': 0.1589453860640307, 'TEXT_NODE': 0.1589453860640307, 'effect': 0.1564971751412432, 'onclosed': 0.15555555555555534, 'flatten': 0.15442561205273003, 'getImageData': 0.15367231638418097, 'drawImage': 0.15367231638418097, 'patternUnits': 0.15310734463276846, 'ellipse': 0.15310734463276846, 'onsubmit': 0.15291902071563102, 'subtree': 0.15254237288135605, 'addedNodes': 0.15254237288135605, 'childList': 0.15254237288135605, 'port1': 0.15178907721280585, 'port2': 0.15178907721280585, 'MessageChannel': 0.15178907721280585, 'videoHeight': 0.1514124293785311, 'videoWidth': 0.1514124293785311, 'responseXML': 0.15122410546139373, 'includes': 0.1512241054613934, 'languages': 0.15084745762711857, 'evenodd': 0.15065913370998127, 'Float32Array': 0.14952919020715652, 'getSupportedExtensions': 0.14952919020715652, 'argument': 0.14839924670433152, 'OPEN': 0.14821092278719378, 'clearData': 0.14745762711864413, 'observer': 0.14689265536723167, 'offline': 0.14689265536723153, 'continuous': 0.1459510357815441, 'ProgressEvent': 0.14557438794726935, 'minimize': 0.14350282485875698, 'viewBox': 0.14331450094161963, 'minlength': 0.14312617702448227, 'Message': 0.14312617702448227, 'srcdoc': 0.14312617702448208, 'operator': 0.14124293785310718, 'Enabled': 0.13822975517890831, 'deleted': 0.1382297551789077, 'onshow': 0.13728813559322042, 'systemId': 0.13559322033898313, 'HTMLDataListElement': 0.13483992467043368, 'gesturechange': 0.1346516007532958, 'clearRect': 0.13427495291902086, 'writable': 0.13408662900188328, 'controller': 0.13163841807909646, 'matrix': 0.13013182674199678, 'onhashchange': 0.13013182674199616, 'maxValue': 0.12994350282485895, 'iterator': 0.12994350282485895, 'Report': 0.12956685499058374, 'Performance': 0.12956685499058374, 'Screen': 0.12956685499058374, 'onupgradeneeded': 0.12919020715630905, 'readwrite': 0.12919020715630905, 'objectStore': 0.12919020715630905, 'createObjectStore': 0.12919020715630905, 'keyPath': 0.12919020715630905, 'credentials': 0.12900188323917147, 'measureText': 0.1282485875706216, 'statusbar': 0.12711864406779697, 'mimeType': 0.12693032015065936, 'previousElementSibling': 0.12561205273069667, 'selectorText': 0.12561205273069667, 'xpi': 0.12354048964218481, 'takeRecords': 0.1235404896421846, 'attributeFilter': 0.1235404896421846, 'relatedNode': 0.1235404896421846, 'MutationEvent': 0.1235404896421846, 'doctype': 0.1235404896421846, 'attributeOldValue': 0.1235404896421846, 'attributeNamespace': 0.1235404896421846, 'removedNodes': 0.1235404896421846, 'animVal': 0.1235404896421846, 'DOMCharacterDataModified': 0.1235404896421846, 'characterDataOldValue': 0.1235404896421846, 'publicId': 0.1235404896421846, 'acceleration': 0.12184557438794713, 'devicemotion': 0.12184557438794713, 'deviceorientation': 0.12184557438794713, 'accelerationIncludingGravity': 0.12184557438794713, 'gamma': 0.12184557438794713, 'DeviceMotionEvent': 0.12184557438794713, 'DeviceOrientationEvent': 0.12184557438794713, 'cmp': 0.12165725047081044, 'getNotifications': 0.12090395480226021, 'lengthComputable': 0.1209039548022599, 'ARRAY_BUFFER': 0.12033898305084775, 'shaderSource': 0.12033898305084775, 'getAttribLocation': 0.12033898305084775, 'FLOAT': 0.12033898305084775, 'drawArrays': 0.12033898305084775, 'getUniformLocation': 0.12033898305084775, 'attachShader': 0.12033898305084775, 'createBuffer': 0.12033898305084775, 'createShader': 0.12033898305084775, 'vertexAttribPointer': 0.12033898305084775, 'linkProgram': 0.12033898305084775, 'enableVertexAttribArray': 0.12033898305084775, 'bufferData': 0.12033898305084775, 'useProgram': 0.12033898305084775, 'createProgram': 0.12033898305084775, 'uniform2f': 0.12033898305084775, 'compileShader': 0.12033898305084775, 'bindBuffer': 0.12033898305084775, 'wifi': 0.11977401129943457, 'contrast': 0.11977401129943457, 'getAnimations': 0.11920903954802266, 'createRadialGradient': 0.11920903954802266, 'isIdentity': 0.11920903954802266, 'miterLimit': 0.11920903954802266, 'bezierCurveTo': 0.11920903954802266, 'bevel': 0.11920903954802266, 'strokeText': 0.11920903954802266, 'createLinearGradient': 0.11920903954802266, 'globalCompositeOperation': 0.11920903954802266, 'shadowBlur': 0.11920903954802266, 'putImageData': 0.11920903954802266, 'addColorStop': 0.11920903954802266, 'quadraticCurveTo': 0.11920903954802266, 'createPattern': 0.11920903954802266, 'sign': 0.11845574387947276, 'duplicate': 0.11826741996233518, 'createAttribute': 0.11789077212805994, 'declare': 0.11694915254237315, 'contextmenu': 0.11676082862523657, 'startup': 0.11676082862523546, 'MEDIA_ERR_ABORTED': 0.11676082862523546, 'PBKDF2': 0.11676082862523546, 'endOfStream': 0.11676082862523546, 'currentState': 0.11676082862523546, 'onLine': 0.11600753295668563, 'organization': 0.11544256120527326, 'typeName': 0.11468926553672301, 'LOADED': 0.11355932203389811, 'configuration': 0.11337099811676088, 'broadcast': 0.11299435028248592, 'mozPaintCount': 0.11280602636534828, 'archive': 0.11186440677966135, 'silent': 0.11167608286252362, 'openWindow': 0.11167608286252362, 'msFirstPaint': 0.10960451977401117, 'appearance': 0.10885122410546164, 'blob': 0.10753295668549985, 'back': 0.10715630885122476, 'setStart': 0.1069679849340873, 'multiply': 0.10677966101694875, 'Response': 0.10376647834274964, 'HTMLImageElement': 0.10225988700565045, 'scrollMaxY': 0.0990583804143126, 'bubbles': 0.09679849340866324, 'cancelable': 0.09679849340866324, 'integer': 0.096421845574388, 'ORDERED_NODE_SNAPSHOT_TYPE': 0.09472693032015096, 'snapshotItem': 0.09472693032015096, 'storeName': 0.09472693032015071, 'queryCommandValue': 0.09472693032015067, 'getTotalLength': 0.09472693032015067, 'createTouch': 0.09472693032015067, 'getPointAtLength': 0.09472693032015067, 'patternTransform': 0.09472693032015067, 'stdDeviation': 0.09472693032015067, 'SVGAngle': 0.09472693032015067, 'face': 0.09472693032015067, 'touchleave': 0.09265536723163836, 'getFeature': 0.09227871939736394, 'HTMLMeterElement': 0.09227871939736394, 'HTMLSelectElement': 0.09227871939736394, 'HTMLTextAreaElement': 0.09227871939736394, 'HTMLOptGroupElement': 0.09227871939736394, 'maximumAge': 0.09227871939736394, 'HTMLButtonElement': 0.09227871939736394, 'HTMLBRElement': 0.09227871939736394, 'HTMLMenuElement': 0.09227871939736394, 'HTMLHRElement': 0.09227871939736394, 'HTMLStyleElement': 0.09227871939736394, 'HTMLLabelElement': 0.09227871939736394, 'HTMLOptionElement': 0.09227871939736394, 'HTMLMapElement': 0.09227871939736394, 'HTMLAreaElement': 0.09227871939736394, 'selectstart': 0.09227871939736394, 'HTMLLinkElement': 0.09227871939736394, 'HTMLDivElement': 0.09227871939736394, 'HTMLKeygenElement': 0.09227871939736394, 'HTMLFrameSetElement': 0.09227871939736394, 'noWrap': 0.09227871939736394, 'getCurrentPosition': 0.09227871939736394, 'HTMLIFrameElement': 0.09227871939736394, 'getQuery': 0.09227871939736394, 'HTMLFormElement': 0.09227871939736394, 'HTMLScriptElement': 0.09227871939736394, 'HTMLTimeElement': 0.09227871939736394, 'details': 0.09227871939736394, 'HTMLTitleElement': 0.09227871939736394, 'HTMLMetaElement': 0.09227871939736394, 'HTMLDetailsElement': 0.09227871939736394, 'HTMLInputElement': 0.09227871939736394, 'HTMLHeadingElement': 0.09227871939736394, 'HTMLObjectElement': 0.09227871939736394, 'HTMLUnknownElement': 0.09227871939736394, 'dragend': 0.09227871939736394, 'HTMLBodyElement': 0.09227871939736394, 'HTMLLIElement': 0.09227871939736394, 'HTMLDListElement': 0.09227871939736394, 'getLayers': 0.09227871939736394, 'HTMLTableRowElement': 0.09227871939736394, 'HTMLPreElement': 0.09227871939736394, 'HTMLFieldSetElement': 0.09227871939736394, 'HTMLTableHeaderCellElement': 0.09227871939736394, 'clearWatch': 0.09227871939736394, 'HTMLParagraphElement': 0.09227871939736394, 'colgroup': 0.09227871939736394, 'accuracy': 0.09227871939736394, 'HTMLUListElement': 0.09227871939736394, 'HTMLParamElement': 0.09227871939736394, 'removeParameter': 0.09227871939736394, 'HTMLTableCaptionElement': 0.09227871939736394, 'HTMLBaseFontElement': 0.09227871939736394, 'HTMLQuoteElement': 0.09227871939736394, 'HTMLModElement': 0.09227871939736394, 'HTMLTableElement': 0.09227871939736394, 'HTMLSpanElement': 0.09227871939736394, 'HTMLHtmlElement': 0.09227871939736394, 'HTMLProgressElement': 0.09227871939736394, 'HTMLTrackElement': 0.09227871939736394, 'HTMLBaseElement': 0.09227871939736394, 'EMPTY': 0.09227871939736394, 'enableHighAccuracy': 0.09227871939736394, 'HTMLDialogElement': 0.09227871939736394, 'HTMLLegendElement': 0.09227871939736394, 'HTMLAnchorElement': 0.09227871939736394, 'HTMLFontElement': 0.09227871939736394, 'pointercancel': 0.09227871939736394, 'HTMLTableSectionElement': 0.09227871939736394, 'HTMLTableColElement': 0.09227871939736394, 'watchPosition': 0.09227871939736394, 'HTMLOListElement': 0.09227871939736394, 'Canvas': 0.09227871939736394, 'HTMLOutputElement': 0.09227871939736394, 'Keyboard': 0.09227871939736394, 'HTMLSourceElement': 0.09227871939736394, 'HTMLHeadElement': 0.09227871939736394, 'HTMLTableDataCellElement': 0.09227871939736394, 'explicit': 0.09227871939736358, 'iconURL': 0.09209039548022584, 'onpopstate': 0.09190207156308867, 'badge': 0.09171374764595129, 'animationend': 0.09133709981167595, 'animationstart': 0.09133709981167595, 'lastElementChild': 0.09133709981167595, 'stretch': 0.09133709981167595, 'privacy': 0.09096045197740113, 'setSelectionRange': 0.09001883239171385, 'selectionStart': 0.09001883239171385, 'capabilities': 0.0898305084745761, 'unloaded': 0.08757062146892652, 'CustomEvent': 0.08644067796610193, 'scrollMaxX': 0.08644067796610166, 'operation': 0.08531073446327689, 'magnify': 0.08512241054613943, 'presentation': 0.08323917137476468, 'strings': 0.08210922787193996, 'captureEvents': 0.0821092278719398, 'mul': 0.08135593220339019, 'msWriteProfilerMark': 0.08079096045197738, 'acceptCharset': 0.08079096045197738, 'UnknownError': 0.08079096045197738, 'compareBoundaryPoints': 0.08060263653484018, 'startOffset': 0.07984934086628996, 'execCommand': 0.07909604519774015, 'permissions': 0.07909604519774013, 'NUMBER': 0.0789077212806027, 'onpagehide': 0.07683615819209046, 'buffered': 0.076271186440678, 'streams': 0.07608286252354053, 'activated': 0.07514124293785314, 'Iterator': 0.07438794726930323, 'pname': 0.07325800376647837, 'getGamepads': 0.07325800376647829, 'requestPointerLock': 0.07325800376647829, 'statusCode': 0.07288135593220348, 'readAsDataURL': 0.07099811676082875, 'unmuted': 0.07099811676082862, 'readOnly': 0.07080979284369117, 'ANY_TYPE': 0.07062146892655381, 'yPos': 0.0706214689265537, 'setUserData': 0.0698681732580038, 'char': 0.06798493408662902, '__noSuchMethod__': 0.06760828625235411, 'selectionEnd': 0.06629001883239174, 'accessibility': 0.06591337099811678, 'cloneRange': 0.06591337099811678, 'createObjectURL': 0.06497175141242928, 'itemId': 0.064406779661017, 'documentURI': 0.060640301318267385, 'xPos': 0.059887005649717544, 'Crypto': 0.05894538606403016, 'wholeText': 0.05838041431261787, 'SVGLoad': 0.05838041431261787, 'Rect': 0.05838041431261787, 'getAttributeNS': 0.05838041431261787, 'availTop': 0.05612052730696796, 'availLeft': 0.05612052730696796, 'createContextualFragment': 0.055932203389830314, 'setEnd': 0.055932203389830314, 'setStartAfter': 0.055932203389830314, 'fullpath': 0.05574387947269309, 'setStyles': 0.05423728813559336, 'getTiming': 0.05348399246704337, 'aspectRatio': 0.053483992467043266, 'lock': 0.05273069679849325, 'REGION': 0.05197740112994353, 'webkitGetUserMedia': 0.05122410546139351, 'meet': 0.05103578154425598, 'getScreenCTM': 0.05103578154425598, 'curve': 0.05103578154425598, 'gradientTransform': 0.05103578154425598, 'createSVGMatrix': 0.05103578154425598, 'getIntersectionList': 0.05103578154425598, 'xMinYMin': 0.05103578154425598, 'NS_ERROR_DOM_SECURITY_ERR': 0.05084745762711867, 'addElement': 0.050659133709981034, 'attachment': 0.050659133709981034, 'Document': 0.050659133709981034, 'onstop': 0.05009416195856885, 'scale3d': 0.04971751412429389, 'UNORDERED_NODE_ITERATOR_TYPE': 0.04915254237288126, 'public': 0.048399246704331544, 'copyTo': 0.048399246704331544, 'getParameters': 0.048399246704331544, 'xor': 0.048399246704331544, 'm43': 0.047645951035781446, 'm13': 0.047645951035781446, 'mms': 0.047645951035781446, 'm14': 0.047645951035781446, 'm44': 0.047645951035781446, 'displayId': 0.04745762711864409, 'dpi': 0.0465160075329566, 'iii': 0.046327683615819126, 'iso': 0.046327683615819126, 'oom': 0.046327683615819126, 'xul': 0.04613935969868165, 'jcb': 0.04613935969868165, 'disposition': 0.04595103578154433, 'getQueryParameter': 0.04595103578154433, 'createHTMLDocument': 0.0457627118644068, 'task': 0.045762711864406676, 'eme': 0.045386064030131755, 'delivery': 0.04519774011299435, 'setParameter': 0.04369114877589457, 'getExtentOfChar': 0.04369114877589449, 'getNumberOfChars': 0.04369114877589449, 'srcset': 0.04312617702448213, 'HTMLPictureElement': 0.04312617702448213, 'Beacon': 0.04293785310734466, 'credit': 0.04274952919020718, 'ondrop': 0.04256120527306974, 'ondragstart': 0.04256120527306974, 'setAttributeNode': 0.04161958568738232, 'onmouseup': 0.041431261770244796, 'focused': 0.039548022598870074, 'Display': 0.03822975517890773, 'candidate': 0.038229755178907705, 'getMetadata': 0.03785310734463279, 'scrollbars': 0.03728813559322036, 'loadOverlay': 0.036723163841807925, 'newURL': 0.03653483992467045, 'getAllResponseHeaders': 0.036534839924670444, '0xf0': 0.03596986817325801, 'netinfo': 0.035216572504708145, 'wasClean': 0.035216572504708145, 'encrypted': 0.035216572504708145, 'latency': 0.035216572504708145, 'msExitFullscreen': 0.03465160075329572, 'exitFullscreen': 0.03465160075329572, 'requestFullscreen': 0.03465160075329572, 'fullscreenElement': 0.03465160075329572, 'ontouchcancel': 0.03465160075329572, 'ontransitionend': 0.03465160075329572, 'mozCancelFullScreen': 0.03465160075329572, 'webkitFullscreenElement': 0.03465160075329572, 'msFullscreenElement': 0.03465160075329572, 'mozRequestFullScreen': 0.03465160075329572, 'oncomplete': 0.03465160075329572, 'mozFullScreenElement': 0.03465160075329572, 'objectStoreNames': 0.03446327683615825, 'persist': 0.03446327683615825, 'revokeObjectURL': 0.03446327683615825, 'crossOrigin': 0.03446327683615825, 'fatal': 0.03446327683615819, 'addStream': 0.032768361581920896, 'touched': 0.03182674199623361, 'pulse': 0.03182674199623356, 'trackId': 0.03163841807909603, 'commit': 0.03145009416195859, 'setVersion': 0.030696798493408756, 'bias': 0.030131826741996263, 'AudioContext': 0.029190207156308826, 'WEBGL_draw_buffers': 0.029190207156308826, 'MAX_COLOR_ATTACHMENTS_WEBGL': 0.029190207156308826, 'RTCDataChannelEvent': 0.029190207156308826, 'getShaderPrecisionFormat': 0.029190207156308826, 'webgl2': 0.029190207156308826, 'hardwareConcurrency': 0.029190207156308826, 'FRAGMENT_SHADER_DERIVATIVE_HINT_OES': 0.029190207156308826, 'precision': 0.029190207156308826, 'OES_standard_derivatives': 0.029190207156308826, 'getExtension': 0.029190207156308826, 'rangeMin': 0.029190207156308826, 'MAX_TEXTURE_MAX_ANISOTROPY_EXT': 0.029190207156308826, 'Int32Array': 0.029190207156308826, 'MAX_DRAW_BUFFERS_WEBGL': 0.029190207156308826, 'rangeMax': 0.029190207156308826, 'RTCPeerConnection': 0.029190207156308826, 'WEBGL_debug_renderer_info': 0.029190207156308826, 'getPropertyCSSValue': 0.02900188323917136, 'challenge': 0.028813559322033912, 'row': 0.028248587570621455, 'turn': 0.027871939736346565, 'RTCIceCandidate': 0.027306967984934157, 'createDataChannel': 0.027306967984934157, 'ondatachannel': 0.027306967984934157, 'signalingState': 0.027306967984934157, 'reliable': 0.027306967984934157, 'iceConnectionState': 0.027306967984934157, 'createOffer': 0.027306967984934157, 'chunks': 0.027306967984934157, 'setLocalDescription': 0.027306967984934157, 'createAnswer': 0.027306967984934157, 'setRemoteDescription': 0.027306967984934157, 'sctp': 0.027306967984934157, 'iceServers': 0.027306967984934157, 'addIceCandidate': 0.027306967984934157, 'oniceconnectionstatechange': 0.027306967984934157, 'onicecandidate': 0.027306967984934157, 'RTCSessionDescription': 0.027306967984934157, 'getFile': 0.027306967984934157, 'mozGetUserMedia': 0.027306967984934157, 'never': 0.027306967984934157, 'tabs': 0.026741996233521723, 'delayTime': 0.026741996233521723, 'createNSResolver': 0.02467043314500947, 'booleanValue': 0.02467043314500947, 'lookupNamespaceURI': 0.02467043314500947, 'createExpression': 0.02467043314500947, 'ownerElement': 0.02467043314500947, 'NUMBER_TYPE': 0.02467043314500947, 'numberValue': 0.02467043314500947, 'UNORDERED_NODE_SNAPSHOT_TYPE': 0.02467043314500947, 'BOOLEAN_TYPE': 0.02467043314500947, 'selectNode': 0.02467043314500947, 'STRING_TYPE': 0.02467043314500947, 'snapshotLength': 0.02467043314500947, 'singleNodeValue': 0.02467043314500947, 'ORDERED_NODE_ITERATOR_TYPE': 0.02467043314500947, 'invalidIteratorState': 0.02467043314500947, 'resultType': 0.02467043314500947, 'ANY_UNORDERED_NODE_TYPE': 0.02467043314500947, 'FIRST_ORDERED_NODE_TYPE': 0.02467043314500947, 'stringValue': 0.02467043314500947, 'characters': 0.02467043314500947, 'InstallTrigger': 0.02467043314500947, 'currentDirection': 0.024105461393597035, 'profileEnd': 0.023917137476459557, 'groupCollapsed': 0.023917137476459557, 'dirxml': 0.023917137476459557, 'initCustomEvent': 0.02372881355932208, 'changeType': 0.02372881355932208, 'HTMLDocument': 0.02372881355932208, 'initUIEvent': 0.02372881355932208, 'basic': 0.023540489642184602, 'isContentEditable': 0.02278719397363469, 'onkeypress': 0.022598870056497175, 'removeAllRanges': 0.021468926553672347, 'unlock': 0.021468926553672347, 'endOffset': 0.021468926553672347, 'scriptNode': 0.02128060263653485, 'sizeX': 0.020715630885122436, 'deviceName': 0.019962335216572525, 'validity': 0.01996233521657251, 'platforms': 0.019774011299435023, 'inputEncoding': 0.019209039548022614, 'paint': 0.01789077212806027, 'onstorage': 0.017325800376647837, 'hand': 0.016572504708097926, 'QuotaExceededError': 0.015442561205273085, 'QUOTA_EXCEEDED_ERR': 0.015442561205273085, 'menubar': 0.015254237288135583, 'strokeRect': 0.015065913370998107, 'isCollapsed': 0.015065913370998107, 'ondrag': 0.015065913370998107, 'productSub': 0.015065913370998107, 'vendorSub': 0.015065913370998107, 'reply': 0.014877589453860637, 'addModule': 0.014877589453860631, 'divisor': 0.014689265536723178, 'spellcheck': 0.014689265536723176, 'entities': 0.014689265536723155, 'docCookies': 0.013935969868173251, 'oauth': 0.012994350282485871, 'bound': 0.012052730696798492, 'systemID': 0.012052730696798492, 'forward': 0.010734463276836161, 'External': 0.01073446327683616, '__defineSetter__': 0.010546139359698684, '__lookupGetter__': 0.010546139359698684, '__lookupSetter__': 0.010546139359698684, 'NodeList': 0.009416195856873828, 'groupId': 0.008662900188323924, 'DOMException': 0.008474576271186448, 'SYNTAX_ERR': 0.008474576271186448, 'INVALID_CHARACTER_ERR': 0.008474576271186448}\n"
     ]
    }
   ],
   "source": [
    "weight_freq = {}\n",
    "for nod in G.nodes:\n",
    "    weight_freq[nod] = G.nodes[nod]['deg_wt']\n",
    "sorted_weight = dict(sorted(weight_freq.items(), key=lambda item: item[1], reverse=True))\n",
    "print(sorted_weight)"
   ]
  },
  {
   "cell_type": "code",
   "execution_count": null,
   "id": "occasional-response",
   "metadata": {
    "pycharm": {
     "name": "#%%\n"
    }
   },
   "outputs": [],
   "source": []
  },
  {
   "cell_type": "code",
   "execution_count": 20,
   "id": "developmental-wages",
   "metadata": {
    "pycharm": {
     "name": "#%%\n"
    }
   },
   "outputs": [],
   "source": [
    "# Check whether the graph is connected"
   ]
  },
  {
   "cell_type": "code",
   "execution_count": 21,
   "id": "ultimate-large",
   "metadata": {
    "pycharm": {
     "name": "#%%\n"
    }
   },
   "outputs": [
    {
     "data": {
      "text/plain": [
       "True"
      ]
     },
     "execution_count": 21,
     "metadata": {},
     "output_type": "execute_result"
    }
   ],
   "source": [
    "nx.is_connected(G)"
   ]
  },
  {
   "cell_type": "code",
   "execution_count": 22,
   "id": "informational-elder",
   "metadata": {
    "pycharm": {
     "name": "#%%\n"
    }
   },
   "outputs": [],
   "source": [
    "# Clustering Coefficient"
   ]
  },
  {
   "cell_type": "code",
   "execution_count": 23,
   "id": "significant-gibraltar",
   "metadata": {
    "pycharm": {
     "name": "#%%\n"
    }
   },
   "outputs": [
    {
     "data": {
      "text/plain": [
       "0.8221052221995537"
      ]
     },
     "execution_count": 23,
     "metadata": {},
     "output_type": "execute_result"
    }
   ],
   "source": [
    "nx.average_clustering(G)"
   ]
  },
  {
   "cell_type": "code",
   "execution_count": 24,
   "id": "helpful-raise",
   "metadata": {
    "pycharm": {
     "name": "#%%\n"
    }
   },
   "outputs": [],
   "source": [
    "# average_shortest_path_length"
   ]
  },
  {
   "cell_type": "code",
   "execution_count": 25,
   "id": "spatial-increase",
   "metadata": {
    "pycharm": {
     "name": "#%%\n"
    }
   },
   "outputs": [
    {
     "data": {
      "text/plain": [
       "1.6862958456048769"
      ]
     },
     "execution_count": 25,
     "metadata": {},
     "output_type": "execute_result"
    }
   ],
   "source": [
    "nx.average_shortest_path_length(G)"
   ]
  },
  {
   "cell_type": "code",
   "execution_count": 26,
   "id": "interesting-enlargement",
   "metadata": {
    "pycharm": {
     "name": "#%%\n"
    }
   },
   "outputs": [],
   "source": [
    "#Lovain methof"
   ]
  },
  {
   "cell_type": "code",
   "execution_count": 27,
   "id": "solar-emphasis",
   "metadata": {
    "pycharm": {
     "name": "#%%\n"
    }
   },
   "outputs": [],
   "source": [
    "partition = community_louvain.best_partition(G, resolution=0.88, weight='weight')"
   ]
  },
  {
   "cell_type": "code",
   "execution_count": 28,
   "id": "atomic-string",
   "metadata": {
    "pycharm": {
     "name": "#%%\n"
    }
   },
   "outputs": [],
   "source": [
    "# number of partinions"
   ]
  },
  {
   "cell_type": "code",
   "execution_count": 29,
   "id": "integrated-electron",
   "metadata": {
    "pycharm": {
     "name": "#%%\n"
    }
   },
   "outputs": [
    {
     "name": "stdout",
     "output_type": "stream",
     "text": [
      "16\n"
     ]
    }
   ],
   "source": [
    "num_of_partitions = len(set(partition.values()))\n",
    "print(num_of_partitions)"
   ]
  },
  {
   "cell_type": "code",
   "execution_count": 30,
   "id": "resident-wednesday",
   "metadata": {
    "pycharm": {
     "name": "#%%\n"
    }
   },
   "outputs": [
    {
     "name": "stdout",
     "output_type": "stream",
     "text": [
      "187\n",
      "89\n",
      "26\n",
      "51\n",
      "405\n",
      "157\n",
      "26\n",
      "23\n",
      "3\n",
      "14\n",
      "1\n",
      "305\n",
      "249\n",
      "145\n",
      "163\n",
      "1\n"
     ]
    }
   ],
   "source": [
    "api_hash_fract = {}\n",
    "for key, value in partition.items():\n",
    "    api_hash_fract[key] = value\n",
    "louvain_clusters = {}\n",
    "for i in range(num_of_partitions):\n",
    "    clust = []\n",
    "    for key, value in api_hash_fract.items():\n",
    "        if value == i:\n",
    "            clust.append(key)\n",
    "    louvain_clusters[i] = clust\n",
    "for i in range(num_of_partitions):\n",
    "    print(len(louvain_clusters[i]))"
   ]
  },
  {
   "cell_type": "code",
   "execution_count": 31,
   "id": "oriented-domain",
   "metadata": {
    "pycharm": {
     "name": "#%%\n"
    }
   },
   "outputs": [],
   "source": [
    "with open(\"Lovain_clusters.json\", 'w') as l:\n",
    "    json.dump(louvain_clusters,l, indent=4)\n"
   ]
  }
 ],
 "metadata": {
  "kernelspec": {
   "display_name": "Python 3",
   "language": "python",
   "name": "python3"
  },
  "language_info": {
   "codemirror_mode": {
    "name": "ipython",
    "version": 3
   },
   "file_extension": ".py",
   "mimetype": "text/x-python",
   "name": "python",
   "nbconvert_exporter": "python",
   "pygments_lexer": "ipython3",
   "version": "3.8.5"
  }
 },
 "nbformat": 4,
 "nbformat_minor": 5
}
