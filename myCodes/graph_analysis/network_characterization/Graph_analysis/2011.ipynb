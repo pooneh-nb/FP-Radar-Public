{
 "cells": [
  {
   "cell_type": "code",
   "execution_count": null,
   "id": "healthy-today",
   "metadata": {
    "pycharm": {
     "name": "#%%\n"
    }
   },
   "outputs": [],
   "source": []
  },
  {
   "cell_type": "code",
   "execution_count": null,
   "id": "marked-approach",
   "metadata": {
    "pycharm": {
     "name": "#%%\n"
    }
   },
   "outputs": [],
   "source": []
  },
  {
   "cell_type": "code",
   "execution_count": 1,
   "id": "committed-unemployment",
   "metadata": {
    "pycharm": {
     "name": "#%%\n"
    }
   },
   "outputs": [],
   "source": [
    "from networkx.readwrite import json_graph\n",
    "import networkx as nx\n",
    "import json\n",
    "import matplotlib.pyplot as plt\n",
    "import community as community_louvain"
   ]
  },
  {
   "cell_type": "code",
   "execution_count": 2,
   "id": "judicial-launch",
   "metadata": {
    "pycharm": {
     "name": "#%%\n"
    }
   },
   "outputs": [],
   "source": [
    "with open(\"/home/c6/Desktop/OpenWPM/jsons/AST/CDX_results/Graphs/2011/Graph.json\", 'rt') as gr:\n",
    "    g = json.load(gr)"
   ]
  },
  {
   "cell_type": "code",
   "execution_count": 3,
   "id": "professional-lincoln",
   "metadata": {
    "pycharm": {
     "name": "#%%\n"
    }
   },
   "outputs": [],
   "source": [
    "G = json_graph.node_link_graph(g)"
   ]
  },
  {
   "cell_type": "code",
   "execution_count": 4,
   "id": "handed-grill",
   "metadata": {
    "pycharm": {
     "name": "#%%\n"
    }
   },
   "outputs": [
    {
     "name": "stdout",
     "output_type": "stream",
     "text": [
      "<class 'networkx.classes.graph.Graph'>\n"
     ]
    }
   ],
   "source": [
    "print(type(G))"
   ]
  },
  {
   "cell_type": "code",
   "execution_count": 5,
   "id": "respiratory-portsmouth",
   "metadata": {
    "pycharm": {
     "name": "#%%\n"
    }
   },
   "outputs": [],
   "source": [
    "# Print number of nodes and edges"
   ]
  },
  {
   "cell_type": "code",
   "execution_count": 4,
   "id": "revised-hormone",
   "metadata": {
    "pycharm": {
     "name": "#%%\n"
    }
   },
   "outputs": [
    {
     "name": "stdout",
     "output_type": "stream",
     "text": [
      "Number of Nodes:  923\n",
      "Number of Edges:  154636\n"
     ]
    }
   ],
   "source": [
    "print(\"Number of Nodes: \", len(G.nodes()))\n",
    "print(\"Number of Edges: \", len(G.edges()))"
   ]
  },
  {
   "cell_type": "code",
   "execution_count": 7,
   "id": "annoying-hughes",
   "metadata": {
    "pycharm": {
     "name": "#%%\n"
    }
   },
   "outputs": [],
   "source": [
    "#Degree calculation"
   ]
  },
  {
   "cell_type": "code",
   "execution_count": 8,
   "id": "settled-wheel",
   "metadata": {
    "pycharm": {
     "name": "#%%\n"
    }
   },
   "outputs": [],
   "source": [
    "for node_temp in G.nodes():\n",
    "    wt = 0\n",
    "    deg = 0\n",
    "    for nbr, eattr in G.adj[node_temp].items():\n",
    "        wt = wt + eattr['weight']\n",
    "        deg += 1\n",
    "    G.nodes[node_temp]['deg_wt'] = wt\n",
    "    G.nodes[node_temp]['deg'] = deg"
   ]
  },
  {
   "cell_type": "code",
   "execution_count": 9,
   "id": "excess-interpretation",
   "metadata": {
    "pycharm": {
     "name": "#%%\n"
    }
   },
   "outputs": [],
   "source": [
    "#Degree distrivution"
   ]
  },
  {
   "cell_type": "code",
   "execution_count": 10,
   "id": "ranging-bicycle",
   "metadata": {
    "pycharm": {
     "name": "#%%\n"
    }
   },
   "outputs": [
    {
     "data": {
      "text/plain": [
       "Text(0, 0.5, 'Frequency')"
      ]
     },
     "execution_count": 10,
     "metadata": {},
     "output_type": "execute_result"
    },
    {
     "data": {
      "image/png": "[encoded data removed]",
      "text/plain": [
       "<Figure size 864x576 with 1 Axes>"
      ]
     },
     "metadata": {
      "needs_background": "light"
     },
     "output_type": "display_data"
    }
   ],
   "source": [
    "degree_freq = []\n",
    "for nod in G.nodes:\n",
    "    degree_freq.append(G.nodes[nod]['deg'])\n",
    "\n",
    "degrees = range(len(degree_freq))\n",
    "plt.figure(figsize=(12, 8))\n",
    "plt.hist(degree_freq, color='green', bins=20)\n",
    "plt.xlabel('Degree')\n",
    "plt.ylabel('Frequency')"
   ]
  },
  {
   "cell_type": "code",
   "execution_count": 11,
   "id": "marked-promise",
   "metadata": {
    "pycharm": {
     "name": "#%%\n"
    }
   },
   "outputs": [],
   "source": [
    "# Weight Distribution"
   ]
  },
  {
   "cell_type": "code",
   "execution_count": 12,
   "id": "eight-brass",
   "metadata": {
    "pycharm": {
     "name": "#%%\n"
    }
   },
   "outputs": [
    {
     "data": {
      "text/plain": [
       "Text(0, 0.5, 'Frequency')"
      ]
     },
     "execution_count": 12,
     "metadata": {},
     "output_type": "execute_result"
    },
    {
     "data": {
      "image/png": "[encoded data removed]",
      "text/plain": [
       "<Figure size 864x576 with 1 Axes>"
      ]
     },
     "metadata": {
      "needs_background": "light"
     },
     "output_type": "display_data"
    }
   ],
   "source": [
    "weight_freq = []\n",
    "for nod in G.nodes:\n",
    "    weight_freq.append(G.nodes[nod]['deg_wt'])\n",
    "\n",
    "wt = range(len(weight_freq))\n",
    "plt.figure(figsize=(12, 8))\n",
    "plt.hist(weight_freq, color='green', bins=20)\n",
    "plt.xlabel('Weight')\n",
    "plt.ylabel('Frequency')"
   ]
  },
  {
   "cell_type": "code",
   "execution_count": 13,
   "id": "sophisticated-strand",
   "metadata": {
    "pycharm": {
     "name": "#%%\n"
    }
   },
   "outputs": [],
   "source": [
    "# Degree statistics"
   ]
  },
  {
   "cell_type": "code",
   "execution_count": 14,
   "id": "peaceful-hartford",
   "metadata": {
    "pycharm": {
     "name": "#%%\n"
    }
   },
   "outputs": [
    {
     "name": "stdout",
     "output_type": "stream",
     "text": [
      "335.07258938244854\n",
      "13\n",
      "922\n"
     ]
    }
   ],
   "source": [
    "# Average degree\n",
    "print(sum(degree_freq)/len(G.nodes))\n",
    "print(min(degree_freq))\n",
    "print(max(degree_freq))"
   ]
  },
  {
   "cell_type": "code",
   "execution_count": 15,
   "id": "noticed-nurse",
   "metadata": {
    "pycharm": {
     "name": "#%%\n"
    }
   },
   "outputs": [
    {
     "name": "stdout",
     "output_type": "stream",
     "text": [
      "5.503026269765493\n",
      "0.01757631822386679\n",
      "51.87789084181328\n"
     ]
    }
   ],
   "source": [
    "# Weight Statistics\n",
    "print(sum(weight_freq)/len(G.nodes))\n",
    "print(min(weight_freq))\n",
    "print(max(weight_freq))"
   ]
  },
  {
   "cell_type": "code",
   "execution_count": 16,
   "id": "neither-independence",
   "metadata": {
    "pycharm": {
     "name": "#%%\n"
    }
   },
   "outputs": [],
   "source": [
    "# sort nodes based on degree"
   ]
  },
  {
   "cell_type": "code",
   "execution_count": 17,
   "id": "periodic-biodiversity",
   "metadata": {
    "pycharm": {
     "name": "#%%\n"
    }
   },
   "outputs": [
    {
     "name": "stdout",
     "output_type": "stream",
     "text": [
      "{'self': 922, 'frames': 922, 'document': 922, 'location': 922, 'parent': 922, 'opener': 922, 'top': 922, 'name': 922, 'var': 922, 'window': 922, 'length': 914, 'null': 910, 'init': 900, 'true': 893, 'false': 886, 'type': 883, 'undefined': 879, 'getElementsByTagName': 875, 'replace': 870, 'src': 869, 'id': 866, 'body': 866, 'href': 864, 'createElement': 861, 'push': 860, 'navigator': 856, 'parentNode': 853, 'Date': 850, 'setTimeout': 848, 'appendChild': 845, 'width': 835, 'height': 833, 'join': 827, 'addEventListener': 825, 'style': 824, 'attachEvent': 823, 'getTime': 821, 'Math': 820, 'match': 819, 'string': 812, 'url': 811, 'userAgent': 795, 'onload': 795, 'prototype': 792, 'object': 785, 'none': 783, 'documentElement': 783, 'arguments': 777, 'event': 773, 'call': 771, 'readyState': 771, 'load': 768, 'insertBefore': 765, 'target': 765, 'innerHTML': 763, 'getElementById': 760, 'protocol': 760, 'display': 756, 'value': 755, 'function': 754, 'head': 752, 'className': 751, 'toString': 750, 'random': 747, 'on': 739, 'removeChild': 738, 'slice': 737, 'Image': 735, 'setAttribute': 734, 'complete': 725, 'screen': 720, 'img': 718, 'left': 717, 'firstChild': 717, 'onreadystatechange': 713, 'referrer': 710, 'ActiveXObject': 709, 'click': 707, 'host': 705, 'open': 704, 'description': 700, 'iframe': 700, 'delete': 699, 'tagName': 698, 'Array': 690, 'title': 689, 'position': 684, 'detachEvent': 683, 'domain': 680, 'clearTimeout': 679, 'getAttribute': 678, 'removeEventListener': 675, 'escape': 672, 'px': 672, 'nodeType': 672, 'apply': 669, 'plugins': 669, 'number': 668, 'DOMContentLoaded': 667, 'offsetHeight': 666, 'cookie': 663, 'absolute': 661, 'text': 659, 'offsetWidth': 658, 'Object': 654, 'write': 653, 'in': 651, 'childNodes': 650, 'String': 649, 'async': 647, 'hasOwnProperty': 647, 'data': 646, 'hidden': 645, 'loaded': 644, 'offsetTop': 644, 'offsetLeft': 637, 'hostname': 634, 'max': 633, 'scrollTop': 630, 'srcElement': 628, 'all': 625, 'constructor': 624, 'setInterval': 624, 'focus': 622, 'content': 621, 'clientHeight': 620, 'round': 618, 'clientWidth': 617, 'offsetParent': 610, 'clearInterval': 610, 'get': 609, 'search': 606, 'cssText': 602, 'splice': 600, 'hash': 598, 'rel': 597, 'link': 593, 'stopPropagation': 593, 'onclick': 593, 'start': 593, 'contentWindow': 590, 'close': 590, 'pathname': 588, 'scroll': 588, 'innerHeight': 585, 'nodeValue': 585, 'html': 584, 'filter': 583, 'log': 581, 'callback': 578, 'version': 577, 'createTextNode': 576, 'submit': 575, 'visible': 572, 'message': 570, 'action': 568, 'innerWidth': 568, 'nextSibling': 567, 'getComputedStyle': 565, 'http': 563, 'nodeName': 563, 'compatMode': 561, 'charset': 558, 'pageYOffset': 557, 'css': 554, 'blur': 550, 'border': 550, 'button': 547, 'void': 546, 'cancelBubble': 545, 'image': 545, 'console': 545, 'preventDefault': 543, 'enabled': 542, 'scrollHeight': 541, 'scrollLeft': 540, 'overflow': 539, 'frameBorder': 538, 'key': 538, 'node': 538, 'colorDepth': 533, 'mimeTypes': 532, 'defaultView': 530, 'source': 530, 'mousedown': 529, 'item': 526, 'min': 524, 'error': 523, 'returnValue': 522, 'language': 521, '_blank': 521, 'query': 518, 'currentStyle': 518, 'input': 518, 'XMLHttpRequest': 517, 'textAlign': 517, 'getElementsByClassName': 516, 'charCodeAt': 512, 'createRange': 511, 'flash': 509, 'onerror': 508, 'element': 508, 'platform': 506, 'animate': 506, 'embed': 504, 'frameElement': 502, 'auto': 500, 'right': 499, 'always': 498, 'scrolling': 498, 'form': 498, 'array': 497, 'track': 497, 'remove': 496, 'span': 494, '\\\\n': 494, 'size': 490, 'keyCode': 488, 'bottom': 485, 'replaceChild': 481, 'characterSet': 480, 'unload': 480, 'javaEnabled': 479, 'margin': 478, 'instanceof': 477, 'debug': 477, 'center': 475, 'browser': 473, 'clientY': 472, 'getPropertyValue': 472, 'show': 471, 'pageXOffset': 471, 'time': 470, 'textContent': 469, 'color': 469, 'boolean': 468, 'styleSheet': 468, 'appName': 467, 'resize': 465, 'scrollWidth': 464, 'mouseover': 464, 'index': 464, 'ready': 459, 'beforeunload': 458, 'status': 458, 'both': 457, 'td': 455, 'alert': 455, 'clientX': 455, 'clear': 453, 'cookieEnabled': 452, 'add': 451, 'alt': 450, 'getBoundingClientRect': 449, 'collapse': 449, 'innerText': 448, 'table': 447, 'mouseout': 444, 'set': 443, 'ch': 443, 'enabledPlugin': 443, 'bind': 441, 'video': 441, 'disabled': 440, 'stop': 437, 'process': 436, 'options': 435, 'postMessage': 433, 'default': 432, 'which': 432, 'appVersion': 431, 'pageX': 431, 'pageY': 431, 'end': 431, 'extend': 430, 'clientLeft': 430, 'clientTop': 430, 'expires': 430, 'checked': 429, 'origin': 427, 'find': 427, 'placeholder': 427, 'browserLanguage': 426, 'change': 425, 'reset': 423, 'ctrlKey': 420, 'parse': 420, 'previousSibling': 420, 'align': 419, 'onbeforeunload': 419, 'addEvent': 417, 'touchstart': 417, 'class': 416, 'media': 416, 'ownerDocument': 416, 'count': 414, 'base': 413, 'cache': 413, 'onmouseout': 412, 'send': 411, 'history': 408, 'bgcolor': 407, 'removeAttribute': 406, 'move': 405, 'root': 404, 'shiftKey': 402, 'relatedTarget': 400, 'POST': 399, 'onmouseover': 399, 'Boolean': 399, 'direction': 397, 'down': 396, 'metaKey': 395, 'mouseup': 393, 'info': 393, 'webkit': 392, 'createDocumentFragment': 392, 'tracker': 391, 'empty': 391, 'sort': 390, 'delay': 389, 'mousemove': 387, 'scope': 386, 'select': 386, 'altKey': 384, 'create': 384, 'background': 383, 'canPlayType': 383, 'Function': 381, 'db': 381, 'current': 381, 'require': 380, 'method': 380, 'events': 380, 'mode': 379, 'children': 379, 'outerHTML': 376, 'out': 375, 'radio': 375, 'contains': 374, 'cloneNode': 374, 'canvas': 374, 'done': 373, 'URL': 372, 'handler': 372, 'update': 372, 'attr': 371, 'prerender': 370, 'code': 370, 'file': 370, 'offset': 369, 'onmousedown': 368, 'print': 368, 'go': 368, 'keydown': 366, 'interval': 365, 'links': 365, 'redirect': 364, 'evaluate': 364, 'icon': 364, 'frame': 364, 'response': 364, 'getBoxObjectFor': 364, 'styleSheets': 363, 'Event': 362, 'contentDocument': 361, 'port': 360, 'ss': 360, 'responseText': 360, 'result': 359, 'up': 358, 'zoom': 355, 'cy': 354, 'pixelDepth': 354, 'mozilla': 354, 'format': 354, 'audio': 354, 'getItem': 354, 'fireEvent': 354, 'selectedIndex': 353, 'custom': 352, 'matches': 352, 'now': 351, 'hashchange': 348, 'onresize': 347, 'cursor': 347, 'pt': 345, 'initialize': 345, 'getSelection': 344, 'from': 343, 'images': 342, 'elements': 342, 'getElementsByName': 341, 'static': 340, 'writeln': 339, 'success': 339, 'clone': 339, 'warn': 338, 'keys': 338, 'keypress': 336, 'checkbox': 336, 'active': 336, 'loading': 336, 'font': 335, 'cm': 332, 'implementation': 331, 'external': 329, 'clip': 327, 'filters': 326, 'onkeydown': 323, 'services': 323, 'defer': 320, 'timeout': 320, 'parentElement': 319, 'product': 318, 'unknown': 318, 'selected': 318, 'touch': 314, 'setProperty': 313, 'onblur': 312, 'lang': 311, 'transform': 311, 'fr': 310, 'getState': 309, 'namespaceURI': 307, 'dom': 303, 'onscroll': 301, 'textarea': 301, 'compact': 301, 'request': 299, 'ping': 296, 'list': 296, 'before': 296, 'screenTop': 294, 'sidebar': 294, 'screenLeft': 294, 'cancel': 292, 'fullscreen': 289, 'password': 289, 'querySelector': 288, 'cx': 281, 'forEach': 281, 'lastChild': 279, 'contextmenu': 279, 'state': 278, 'previous': 278, 'autoplay': 278, 'setItem': 278, 'group': 277, 'getParent': 276, 'actions': 275, 'taintEnabled': 275, 'setStart': 275, 'over': 275, 'activate': 275, 'MS': 275, 'progress': 275, 'isSameNode': 275, 'detach': 275, 'gap': 275, 'mousewheel': 275, 'moz': 275, 'insertNode': 275, 'onstop': 275, 'bound': 275, 'utils': 275, 'DOMMouseScroll': 275, 'finish': 275, 'dump': 275, 'Transition': 274, 'startTime': 274, 'alpha': 274, 'normal': 273, 'attributes': 272, 'play': 272, 'encode': 271, 'off': 269, 'localStorage': 269, 'popup': 267, 'hand': 266, 'hasChildNodes': 266, 'words': 265, 'th': 264, 'focusout': 263, 'Gecko': 263, 'focusin': 263, 'pattern': 263, 'withCredentials': 262, 'tag': 262, 'scrollMaxY': 261, 'dir': 261, 'mouseleave': 261, 'mouseenter': 261, 'defaultPrevented': 261, 'prefix': 260, 'rules': 259, 'email': 258, 'closed': 257, 'getNamedItem': 256, 'view': 255, 'querySelectorAll': 253, 'json': 250, 'speed': 250, 'getName': 249, 'orientation': 248, 'pc': 247, 'userLanguage': 247, 'exception': 247, 'screenX': 246, 'screenY': 246, 'loop': 244, 'createElementNS': 244, 'getContext': 244, 'png': 244, 'enable': 242, 'disable': 242, 'types': 242, 'label': 241, 'quota': 241, 'modifiers': 241, 'onfocus': 240, 'scrollY': 240, 'share': 239, 'results': 238, 'uri': 235, 'reverse': 235, 'ms': 234, 'user': 234, 'duration': 233, 'copy': 233, 'charCode': 233, 'anchorNode': 233, 'insertAdjacentElement': 233, 'animation': 233, 'replaceWith': 233, '__proto__': 233, 'cells': 233, 'removeItem': 233, 'prop': 232, 'NaN': 231, 'systemLanguage': 231, 'geolocation': 231, 'decode': 230, 'onkeyup': 230, 'onmessage': 229, 'DOMParser': 229, 'XMLSerializer': 229, 'serializeToString': 229, 'xml': 229, 'waiting': 229, 'parseFromString': 229, 'suspend': 228, 'onhashchange': 227, 'Netscape': 226, 'register': 225, 'scrollTo': 225, 'first': 224, 'cssFloat': 223, 'touchmove': 223, 'getResponseHeader': 223, 'Components': 223, 'touches': 223, 'setRequestHeader': 222, 'embeds': 221, 'cssRules': 220, 'availWidth': 216, 'availHeight': 216, 'DOMNodeRemoved': 216, 'DOMNodeInserted': 216, 'setPosition': 216, 'pagehide': 216, 'SyntaxError': 216, 'controls': 215, 'total': 214, 'drop': 214, 'JSON': 214, 'menu': 213, 'subscribe': 213, 'onunload': 212, 'client': 212, 'caller': 212, 'marginWidth': 211, 'sheet': 211, 'vb': 210, 'txt': 209, 'iterateNext': 208, 'multiply': 208, 'home': 208, 'statusbar': 208, 'tabs': 208, 'locale': 208, 'service': 208, 'onmouseup': 208, 'execCommand': 208, 'readystatechange': 208, 'nodes': 206, 'sx': 205, 'mm': 205, 'high': 205, 'col': 204, 'pause': 201, 'Mozilla': 200, 'connect': 199, 'items': 199, 'token': 198, 'save': 198, 'if': 196, 'resume': 195, 'append': 195, 'ltr': 189, 'Node': 189, 'performance': 187, 'suffix': 187, 'download': 186, 'dragstart': 186, 'pushState': 186, 'IndexedDB': 186, 'createSVGRect': 186, 'fillText': 186, 'WebSocket': 186, 'ontouchstart': 186, 'applicationCache': 186, 'checkValidity': 186, 'webgl': 186, 'abort': 186, 'Worker': 186, 'sessionStorage': 186, 'indexedDB': 186, 'onafterprint': 186, 'animationName': 186, 'onbeforeprint': 186, 'rootNode': 184, 'declare': 182, 'req': 182, 'XDomainRequest': 181, 'offsetX': 180, 'offsetY': 180, 'parameters': 178, 'splitText': 178, 'lineNumber': 177, 'fileName': 177, 'onfinish': 177, 'httpEquiv': 177, 'Plugin': 177, 'observe': 174, 'properties': 174, 'local': 174, 'encoding': 174, 'fullPath': 174, 'sender': 174, 'lower': 174, 'channel': 174, 'sample': 174, 'WebGLRenderingContext': 172, 'respond': 172, 'denied': 172, 'GET': 172, 'matchMedia': 172, 'security': 172, 'compareNode': 172, 'vertical': 171, 'Element': 168, 'forms': 167, 'store': 167, 'paused': 166, 'MIN': 166, 'flags': 166, 'hh': 166, 'vspace': 165, 'hspace': 165, 'middle': 164, 'toggle': 162, 'filename': 161, 'ic': 160, 'Infinity': 160, 'loadEventStart': 159, 'timing': 159, 'dy': 159, 'dx': 159, 'equals': 159, 'ctx': 159, 'fetchStart': 158, 'navigationStart': 158, 'aborted': 155, 'getKey': 154, 'responseEnd': 154, 'connectStart': 154, 'connectEnd': 154, 'requestStart': 154, 'responseStart': 154, 'domainLookupEnd': 154, 'domainLookupStart': 154, 'isSupported': 153, 'yes': 152, 'country': 152, 'lastModified': 147, 'percent': 147, 'insertAdjacentHTML': 146, 'slide': 145, 'never': 145, 'contextMenu': 145, 'allowfullscreen': 145, 'preload': 145, 'poster': 145, 'reload': 144, 'valueOf': 143, 'scrollMaxX': 141, 'currency': 141, 'gl': 140, 'transport': 140, 'focusNode': 139, 'allowFullScreen': 137, 'sub': 137, 'onchange': 136, 'listener': 135, 'ended': 135, 'networkState': 135, 'durationchange': 135, 'currentTime': 135, 'weight': 134, 'tooltip': 133, 'ip': 133, 'buttons': 132, 'targetTouches': 132, 'propertyIsEnumerable': 132, 'other': 131, 'getParameter': 131, 'trace': 131, 'option': 130, 'define': 130, 'Promise': 130, 'linkColor': 130, 'started': 130, 'force': 130, 'then': 130, 'region': 130, 'beta': 129, 'sessionId': 129, 'viewport': 128, 'touchend': 128, 'scrollX': 128, 'magnify': 128, 'kind': 128, 'ratio': 128, 'scriptNode': 128, 'ext': 124, 'tabIndex': 124, 'step': 122, 'addRule': 119, 'outerWidth': 119, 'outerHeight': 119, 'rid': 119, 'when': 118, 'marginHeight': 117, 'hasFeature': 117, 'dragend': 117, 'insertRule': 117, 'drag': 117, 'dragover': 117, 'dragleave': 117, 'deleteRule': 117, 'dragenter': 117, 'context': 115, 'activeElement': 115, 'errorCallback': 115, 'collapsed': 115, 'headers': 115, 'toJSON': 113, 'wrap': 113, 'KeyboardEvent': 113, 'oscpu': 113, 'layerY': 113, 'MouseEvent': 113, 'layerX': 113, 'network': 113, 'mediaType': 113, 'picture': 113, 'connection': 113, 'appCodeName': 113, 'sse': 110, 'hasFocus': 110, 'normalize': 110, 'level': 108, 'sign': 108, 'sum': 108, 'containerId': 106, 'setData': 106, 'counter': 106, 'resource': 106, 'onmousemove': 104, 'next': 104, 'bubbles': 104, 'dispatchEvent': 104, 'detail': 104, 'cancelable': 104, 'initMouseEvent': 104, 'createEvent': 104, 'core': 104, 'doNotTrack': 104, 'read': 103, 'recipient': 103, 'vendor': 103, 'onabort': 103, 'check': 102, 'closest': 102, 'prepend': 102, 'details': 102, 'includes': 102, 'double': 102, 'HTMLCanvasElement': 101, 'HTMLAudioElement': 101, 'HTMLVideoElement': 101, 'caption': 99, 'TrackEvent': 99, 'scripts': 98, 'shape': 96, 'dst': 96, 'onsubmit': 96, 'coords': 96, 'targetElement': 95, 'sandbox': 94, 'LOADED': 93, 'fx': 93, 'LOADING': 93, 'persist': 93, 'presentation': 93, 'row': 93, 'unique': 92, 'layout': 92, 'requestId': 92, 'pixels': 92, 'timestamp': 91, 'variable': 91, 'phone': 91, 'order': 91, 'removeListener': 90, 'baseURI': 90, 'addListener': 90, 'record': 89, 'rp': 89, 'w3': 89, 'release': 89, 'provider': 88, 'new': 88, 'insertRow': 88, 'address': 88, 'watch': 88, 'inactive': 88, 'metadata': 87, 'has': 87, 'badge': 87, 'follow': 87, 'NUMBER': 87, 'setStartBefore': 87, 'createContextualFragment': 87, 'selectorText': 87, 'resizeTo': 85, 'clipboard': 84, 'entries': 84, 'refresh': 84, 'fullpath': 80, 'addModule': 80, 'urls': 80, 'removeAllRanges': 79, 'selectionEnd': 79, 'isCollapsed': 79, 'focused': 79, 'Text': 79, 'onactivate': 79, 'getRangeAt': 79, 'cloneRange': 79, 'range': 79, 'rangeCount': 79, 'addElement': 79, 'mark': 79, 'selectionStart': 79, 'addRange': 79, 'fonts': 79, 'maxLength': 78, 'openWindow': 78, 'minLength': 78, 'login': 76, 'playing': 76, 'getData': 75, 'line': 74, 'receiver': 74, 'ii': 71, 'productSub': 70, 'profile': 70, 'languages': 67, 'onshow': 67, 'startup': 63, 'only': 61, 'contentType': 61, 'keyup': 61, 'unsubscribe': 61, 'contentEditable': 60, 'designMode': 60, 'sync': 60, 'identity': 60, 'city': 59, 'CSS': 59, 'accessKey': 58, 'Beacon': 57, 'observer': 54, 'Option': 51, 'TypeError': 46, 'values': 46, 'hint': 46, 'features': 46, 'disconnect': 46, 'mapping': 43, 'extensions': 41, 'IN': 41, 'bgColor': 38, 'captureEvents': 33, 'productId': 33, 'role': 31, 'hasAttribute': 31, 'p1': 19, 'forward': 19, 'control': 18, 'scheme': 13}\n"
     ]
    }
   ],
   "source": [
    "degree_freq = {}\n",
    "for nod in G.nodes:\n",
    "    degree_freq[nod] = G.nodes[nod]['deg']\n",
    "sorted_degree = dict(sorted(degree_freq.items(), key=lambda item: item[1], reverse=True))\n",
    "print(sorted_degree)"
   ]
  },
  {
   "cell_type": "code",
   "execution_count": 18,
   "id": "proof-sewing",
   "metadata": {
    "pycharm": {
     "name": "#%%\n"
    }
   },
   "outputs": [],
   "source": [
    "# sort nodes based on weight"
   ]
  },
  {
   "cell_type": "code",
   "execution_count": 19,
   "id": "expensive-genetics",
   "metadata": {
    "pycharm": {
     "name": "#%%\n"
    }
   },
   "outputs": [
    {
     "name": "stdout",
     "output_type": "stream",
     "text": [
      "{'location': 51.87789084181328, 'window': 51.87789084181328, 'document': 51.87604070305288, 'var': 51.87234042553207, 'self': 51.826086956521905, 'name': 51.826086956521905, 'frames': 51.75393154486602, 'parent': 51.75393154486602, 'opener': 51.75393154486602, 'top': 51.75393154486602, 'length': 47.97224791859408, 'navigator': 43.81683626271989, 'src': 42.274745605920685, 'null': 39.9861239592971, 'Date': 39.58556891766903, 'width': 39.487511563367484, 'createElement': 39.309898242368284, 'height': 38.63644773358023, 'init': 36.867715078631036, 'Math': 36.648473635522784, 'appendChild': 36.403330249768835, 'getTime': 35.62627197039797, 'getElementsByTagName': 35.26456984273834, 'false': 34.77890841813146, 'true': 34.12488436632746, 'href': 33.77428307123057, 'push': 33.472710453284094, 'type': 33.26179463459768, 'undefined': 33.18038852913977, 'replace': 32.6512488436633, 'body': 31.80758556891787, 'match': 31.29232192414443, 'addEventListener': 31.286771507863268, 'style': 31.215541165587574, 'id': 31.04902867715098, 'random': 31.034227567067667, 'setTimeout': 30.370952821461756, 'attachEvent': 29.428307123034436, 'userAgent': 29.00092506938033, 'referrer': 28.934320074005708, 'join': 28.276595744681046, 'getElementById': 28.056429232192553, 'parentNode': 27.479185938945637, 'onload': 27.447733580018575, 'screen': 26.859389454209154, 'none': 26.740055504162928, 'function': 25.376503237742966, 'escape': 25.24514338575411, 'protocol': 25.06197964847376, 'head': 24.90656799259957, 'string': 24.880666049953838, 'write': 24.057354301572705, 'className': 23.810360777058392, 'toString': 23.654024051804054, 'load': 23.170212765957565, 'documentElement': 23.111933395004787, 'object': 22.983348751156438, 'prototype': 22.70582793709545, 'readyState': 22.659574468085218, 'innerHTML': 22.325624421831755, 'Image': 22.30249768732668, 'arguments': 21.890841813136113, 'url': 21.81868640148022, 'cookie': 21.292321924144535, 'insertBefore': 21.104532839963106, 'left': 20.858464384828956, 'call': 20.808510638298, 'domain': 20.766882516188844, 'event': 20.323774283071376, 'setAttribute': 19.860314523589498, 'title': 19.672525439408084, 'display': 19.480111008325764, 'description': 19.444033302497797, 'value': 19.22201665124906, 'complete': 19.098982423681825, 'on': 19.05457909343217, 'target': 18.765032377428522, 'detachEvent': 17.913043478260967, 'ActiveXObject': 17.695652173913132, 'slice': 17.515263644773466, 'plugins': 17.378353376503327, 'px': 17.232192414431175, 'number': 17.188714153561648, 'host': 17.179463459759518, 'iframe': 17.065679925994576, 'removeChild': 17.02497687326559, 'Array': 16.91674375578171, 'onreadystatechange': 16.753006475485684, 'firstChild': 16.686401480111126, 'round': 16.27104532839971, 'img': 16.14246068455136, 'removeEventListener': 16.138760407030553, 'text': 15.573543015726148, 'offsetHeight': 15.285846438482873, 'DOMContentLoaded': 15.242368177613283, 'hidden': 15.039777983348756, 'search': 15.01387604070302, 'click': 15.012950971322812, 'open': 14.973172987974063, 'childNodes': 14.956521739130434, 'String': 14.882516188714133, 'cssText': 14.660499537465308, 'loaded': 14.305272895467127, 'offsetWidth': 14.153561517113785, 'clearTimeout': 14.14061054579091, 'clientHeight': 14.01850138760403, 'hostname': 13.997224791859372, 'apply': 13.891766882516167, 'nodeType': 13.826086956521737, 'scrollTop': 13.721554116558753, 'delete': 13.674375578168357, 'offsetTop': 13.512488436632747, 'tagName': 13.051803885291358, 'getAttribute': 12.957446808510605, 'link': 12.917668825161812, 'charset': 12.876040703052722, 'position': 12.858464384828853, 'Object': 12.783533765032344, 'hasOwnProperty': 12.680851063829705, 'max': 12.62997224791852, 'async': 12.594819611470843, 'rel': 12.546716003700222, 'offsetParent': 12.383903792784475, 'nodeName': 12.272895467160074, 'colorDepth': 12.165587419056433, 'offsetLeft': 12.165587419056433, 'absolute': 12.120259019426454, 'setInterval': 11.765957446808521, 'clientWidth': 11.748381128584603, 'innerHeight': 11.69380203515261, 'clearInterval': 11.563367252543937, 'http': 11.397779833487542, 'data': 11.3043478260869, 'createTextNode': 11.200740055504122, 'pathname': 11.199814986123942, 'hash': 11.074005550416285, 'content': 11.052728954671565, 'nodeValue': 11.001850138760352, 'language': 10.870490286771503, 'constructor': 10.839037927844553, 'charCodeAt': 10.808510638297834, 'mimeTypes': 10.685476410730827, 'frameBorder': 10.634597594819631, 'pageYOffset': 10.555966697502267, 'focus': 10.520814061054544, 'html': 10.459759481961136, 'version': 10.418131359851944, 'splice': 10.366327474560567, 'message': 10.294172062904677, 'characterSet': 10.122109158186875, 'platform': 9.994449583718797, 'scroll': 9.985198889916736, 'innerWidth': 9.957446808510594, 'stopPropagation': 9.92044403330249, 'always': 9.883441258094383, 'in': 9.883441258094333, 'onclick': 9.872340425531844, 'javaEnabled': 9.658649398704883, 'visible': 9.574468085106368, 'scrolling': 9.542090656799255, 'getComputedStyle': 9.54116558741903, 'srcElement': 9.525439407955561, 'border': 9.46808510638294, '_blank': 9.3829787234042, 'start': 9.379278445883426, 'appName': 9.366327474560562, 'all': 9.256244218316352, 'getElementsByClassName': 8.995374653098988, 'instanceof': 8.928769657724283, 'error': 8.925994449583712, 'currentStyle': 8.765032377428293, 'right': 8.719703977798343, 'css': 8.616096207215488, 'void': 8.572617946345977, 'blur': 8.553191489361657, 'contentWindow': 8.48196114708602, 'defaultView': 8.386679000925044, 'filter': 8.358001850138733, 'item': 8.233117483811254, 'history': 8.13413506012951, 'action': 8.086956521739111, 'close': 8.064754856614242, 'styleSheet': 7.9916743755781825, 'browserLanguage': 7.952821461609615, 'scrollLeft': 7.868640148011072, 'get': 7.83348751156334, '\\\\n': 7.738205365402417, 'center': 7.677150786308957, 'compatMode': 7.631822386678991, 'callback': 7.584643848288621, 'overflow': 7.524514338575381, 'textAlign': 7.498612395929689, 'log': 7.450508788159084, 'scrollHeight': 7.4283071230341875, 'mousedown': 7.419981498612378, 'cancelBubble': 7.360777058279343, 'nextSibling': 7.104532839962991, 'embed': 7.047178538390368, 'enabledPlugin': 7.003700277520804, 'span': 6.923219241443086, 'submit': 6.917668825161885, 'Function': 6.803885291396877, 'onerror': 6.778908418131369, 'beforeunload': 6.774283071230329, 'button': 6.728954671600352, 'input': 6.714153561517102, 'show': 6.674375578168352, 'key': 6.654024051803871, 'auto': 6.584643848288607, 'image': 6.569842738205342, 'boolean': 6.390379278445894, 'pageXOffset': 6.3302497687326325, 'console': 6.2867715078630635, 'min': 6.219241443108214, 'getPropertyValue': 6.15726179463459, 'preventDefault': 6.154486586493964, 'XMLHttpRequest': 6.086956521739126, 'track': 6.049953746530971, 'unload': 6.0074005550416105, 'returnValue': 5.9907493061979435, 'add': 5.9611470860314455, 'bottom': 5.91581868640146, 'node': 5.896392229417203, 'ready': 5.8390379278445605, 'createRange': 5.753931544865882, 'resize': 5.6262719703977835, 'element': 5.580018501387593, 'background': 5.572617946345978, 'source': 5.561517113783508, 'color': 5.520814061054573, 'options': 5.513413506012942, 'td': 5.469010175763145, 'set': 5.456059204440299, 'innerText': 5.431082331174846, 'systemLanguage': 5.4301572617946245, 'scrollWidth': 5.378353376503205, 'bgcolor': 5.356151711378356, 'alt': 5.347826086956502, 'margin': 5.281221091581855, 'frameElement': 5.1840888066605, 'time': 5.182238667900109, 'enabled': 5.181313598519872, 'which': 5.112858464384808, 'handler': 5.066604995374647, 'flash': 5.061979648473632, 'remove': 5.050878815911183, 'postMessage': 5.037927844588341, 'stop': 5.037927844588329, 'pt': 5.032377428307129, 'URL': 5.0240518038852855, 'scope': 5.013876040703052, 'sort': 4.977798334875139, 'keyCode': 4.969472710453255, 'clear': 4.969472710453255, 'query': 4.967622571692856, 'clientY': 4.939870490286745, 'replaceChild': 4.851988899167427, 'browser': 4.84828862164661, 'webkit': 4.845513413506002, 'fr': 4.840888066604997, 'align': 4.814986123959298, 'db': 4.813135985198859, 'process': 4.78260869565218, 'parse': 4.758556891766896, 'textContent': 4.752081406105458, 'form': 4.704902867715074, 'tracker': 4.684551341350594, 'debug': 4.6225716928769485, 'alert': 4.606845513413495, 'appVersion': 4.594819611470854, 'down': 4.5874190564292245, 'external': 4.577243293246982, 'ch': 4.559666975023112, 'both': 4.546716003700274, 'mousemove': 4.518038852913972, 'current': 4.514338575393179, 'getBoundingClientRect': 4.497687326549467, 'onblur': 4.476410730804795, 'animate': 4.437557816836268, 'mouseover': 4.434782608695649, 'delay': 4.416281221091567, 'info': 4.399629972247916, 'evaluate': 4.387604070305274, 'create': 4.381128584643861, 'array': 4.361702127659576, 'previousSibling': 4.339500462534692, 'addEvent': 4.326549491211841, 'mode': 4.308973172987965, 'up': 4.293246993524513, 'clientX': 4.208140610545769, 'find': 4.183163737280286, 'video': 4.1063829787233965, 'clientLeft': 4.0878815911193325, 'clientTop': 4.0878815911193325, 'table': 4.052728954671592, 'empty': 4.03515263644774, 'cookieEnabled': 4.012025901942643, 'onmouseout': 4.005550416281226, 'now': 4.000925069380203, 'mouseout': 3.9898242368177645, 'frame': 3.952821461609613, 'placeholder': 3.9481961147086104, 'events': 3.9028677150786204, 'bind': 3.8936170212765933, 'onmouseover': 3.883441258094364, 'status': 3.852913968547641, 'onmousedown': 3.841813135985208, 'origin': 3.831637372802958, 'children': 3.8149861239592853, 'attributes': 3.7557816836262736, 'mouseup': 3.7419056429232094, 'direction': 3.730804810360781, 'go': 3.710453283996288, 'default': 3.698427382053654, 'print': 3.678075855689163, 'reset': 3.6392229417206114, 'onresize': 3.626271970397773, 'static': 3.5735430157261807, 'move': 3.5716928769657907, 'writeln': 3.5698427382053626, 'Boolean': 3.5587419056429073, 'icon': 3.5476410730804813, 'interval': 3.543940795559666, 'initialize': 3.537465309898234, 'vb': 3.5097132284921355, 'POST': 3.491211840888076, 'canPlayType': 3.4912118408880586, 'size': 3.471785383903785, 'pixelDepth': 3.4569842738205243, 'file': 3.4505087881590963, 'pageX': 3.422756706752993, 'pageY': 3.422756706752993, 'extend': 3.4172062904717735, 'Event': 3.3857539315448517, 'root': 3.352451433857544, 'touchstart': 3.335800185013858, 'defer': 3.3246993524514235, 'links': 3.322849213691013, 'onbeforeunload': 3.316373728029588, 'disabled': 3.3135985198889695, 'getBoxObjectFor': 3.30157261794634, 'base': 3.3006475485661335, 'collapse': 3.2950971322849196, 'code': 3.2395929694727053, 'lang': 3.2368177613320945, 'send': 3.222941720629036, 'redirect': 3.2136910268270036, 'clip': 3.1988899167437492, 'offset': 3.1840888066604958, 'email': 3.1655874190564233, 'cloneNode': 3.159111933395004, 'onscroll': 3.158186864014805, 'warn': 3.141535615171132, 'canvas': 3.1387604070305195, 'loading': 3.105457909343192, 'active': 3.0832562442183096, 'onkeydown': 3.0462534690101877, 'ctrlKey': 3.0286771507862955, 'custom': 2.9925994449583615, 'prerender': 2.975023126734501, 'styleSheets': 2.9750231267344853, 'onfocus': 2.966697502312696, 'screenTop': 2.958371877890839, 'screenLeft': 2.958371877890839, 'matches': 2.945420906567995, 'namespaceURI': 2.943570767807572, 'keydown': 2.9426456984273877, 'NaN': 2.8889916743755695, 'media': 2.876040703052713, 'out': 2.871415356151704, 'querySelector': 2.8556891766882493, 'outerHTML': 2.841813135985188, 'mozilla': 2.8251618871415203, 'services': 2.8196114708603264, 'getElementsByName': 2.815911193339504, 'change': 2.796484736355223, 'port': 2.763182238667892, 'class': 2.76040703052729, 'getSelection': 2.7280296022201647, 'relatedTarget': 2.726179463459764, 'count': 2.7234042553191484, 'orientation': 2.700277520814061, 'expires': 2.682701202590191, 'contains': 2.6799259944495764, 'altKey': 2.6753006475485543, 'removeAttribute': 2.641073080481027, 'pc': 2.635522664199803, 'images': 2.633672525439407, 'share': 2.6142460684551327, 'ping': 2.6003700277520703, 'Gecko': 2.596669750231267, 'shiftKey': 2.596669750231255, 'sidebar': 2.5864939870490287, 'cy': 2.5846438482886103, 'implementation': 2.520814061054571, 'update': 2.514338575393143, 'checked': 2.506938020351528, 'filters': 2.4458834412580885, 'method': 2.444958371877879, 'previous': 2.430157261794632, 'actions': 2.4125809435707652, 'taintEnabled': 2.4125809435707652, 'over': 2.4125809435707652, 'activate': 2.4125809435707652, 'MS': 2.4125809435707652, 'progress': 2.4125809435707652, 'isSameNode': 2.4125809435707652, 'gap': 2.4125809435707652, 'mousewheel': 2.4125809435707652, 'moz': 2.4125809435707652, 'onstop': 2.4125809435707652, 'bound': 2.4125809435707652, 'utils': 2.4125809435707652, 'DOMMouseScroll': 2.4125809435707652, 'finish': 2.4125809435707652, 'dump': 2.4125809435707652, 'timeout': 2.3820536540240456, 'from': 2.286771507863086, 'keys': 2.2673450508788147, 'ownerDocument': 2.2654949121184114, 'ic': 2.259019426456983, 'Infinity': 2.259019426456983, 'select': 2.256244218316365, 'scrollY': 2.246068455134138, 'before': 2.2349676225716917, 'end': 2.2321924144310774, 'product': 2.204440333024968, 'index': 2.191489361702129, 'performance': 2.171137835337644, 'request': 2.1600370027752045, 'reverse': 2.124884366327473, 'ms': 2.107308048103605, 'createElementNS': 2.0971322849213663, 'getContext': 2.0971322849213663, 'loadEventStart': 2.0851063829787218, 'timing': 2.0851063829787218, 'encode': 2.0712303422756704, 'screenX': 2.068455134135054, 'screenY': 2.068455134135054, 'success': 2.0647548566142406, 'embeds': 2.0610545790934296, 'require': 2.05365402405179, 'dom': 2.049953746530986, 'drop': 2.0370027752081374, 'vertical': 2.0360777058279353, 'done': 2.0249768732655014, 'hashchange': 2.0037002775208115, 'prefix': 1.998149861239588, 'setStart': 1.9907493061979618, 'detach': 1.9907493061979618, 'insertNode': 1.9907493061979618, 'fetchStart': 1.9888991674375607, 'response': 1.971322849213684, 'createDocumentFragment': 1.9611470860314455, 'JSON': 1.9185938945420904, 'lastChild': 1.912118408880673, 'total': 1.9037927844588318, 'menu': 1.9028677150786286, 'quota': 1.8963922294172113, 'modifiers': 1.8963922294172113, 'unknown': 1.8889916743755666, 'iterateNext': 1.8806660499537442, 'multiply': 1.8806660499537442, 'home': 1.8806660499537442, 'statusbar': 1.8806660499537442, 'tabs': 1.8806660499537442, 'locale': 1.8806660499537442, 'service': 1.8806660499537442, 'onmouseup': 1.8806660499537442, 'execCommand': 1.8806660499537442, 'vspace': 1.869565217391305, 'hspace': 1.869565217391305, 'zoom': 1.85291396854763, 'audio': 1.8048103607770558, 'format': 1.8011100832562383, 'gl': 1.7946345975948212, 'getName': 1.793709528214617, 'querySelectorAll': 1.7770582793709455, 'responseText': 1.7668825161887045, 'lineNumber': 1.7104532839963011, 'fileName': 1.7104532839963011, 'cursor': 1.7067530064754863, 'getItem': 1.6984273820536415, 'scrollMaxY': 1.6975023126734552, 'list': 1.6817761332099834, 'cm': 1.6725254394079603, 'cache': 1.660499537465301, 'focusout': 1.6318223866790065, 'localStorage': 1.6059204440332995, 'XDomainRequest': 1.6031452358926879, 'popup': 1.5744680851063888, 'font': 1.5504162812210922, 'state': 1.5448658649398708, 'attr': 1.5356151711378272, 'col': 1.5097132284921366, 'geolocation': 1.5013876040703047, 'contentDocument': 1.498612395929689, 'focusin': 1.472710453284003, 'touch': 1.472710453284, 'json': 1.4606845513413511, 'withCredentials': 1.4301572617946214, 'sheet': 1.425531914893617, 'aborted': 1.4199814986123929, 'exception': 1.4190564292321903, 'keypress': 1.41350601295097, 'setProperty': 1.4125809435707677, 'rules': 1.4061054579093357, 'availWidth': 1.3977798334875136, 'availHeight': 1.3977798334875136, 'getNamedItem': 1.3820536540240531, 'elements': 1.3709528214616087, 'getParent': 1.3691026827012025, 'loop': 1.3561517113783552, 'tag': 1.352451433857536, 'high': 1.3487511563367285, 'setRequestHeader': 1.3469010175763096, 'selectedIndex': 1.3061979648473616, 'normal': 1.2876965772432871, 'metaKey': 1.2849213691026793, 'radio': 1.283071230342273, 'Transition': 1.2654949121184071, 'startTime': 1.2654949121184071, 'alpha': 1.2654949121184071, 'words': 1.262719703977798, 'types': 1.2543940795559654, 'th': 1.2525439407955568, 'off': 1.2127659574468008, 'clone': 1.197964847363548, 'result': 1.1840888066604947, 'label': 1.1813135985198886, 'compact': 1.1813135985198817, 'parameters': 1.1766882516188713, 'level': 1.1665124884366347, 'sign': 1.1665124884366347, 'rid': 1.1544865864939864, 'cssRules': 1.1433857539315466, 'ss': 1.1313598519888974, 'DOMParser': 1.1258094357076782, 'XMLSerializer': 1.1258094357076782, 'serializeToString': 1.1258094357076782, 'xml': 1.1258094357076782, 'waiting': 1.1258094357076782, 'parseFromString': 1.1258094357076782, 'group': 1.1230342275670677, 'clipboard': 1.118408880666051, 'entries': 1.118408880666051, 'filename': 1.1017576318223865, 'password': 1.07123034227567, 'fireEvent': 1.0712303422756682, 'dragstart': 1.0629047178538402, 'pushState': 1.0629047178538402, 'IndexedDB': 1.0629047178538402, 'createSVGRect': 1.0629047178538402, 'fillText': 1.0629047178538402, 'WebSocket': 1.0629047178538402, 'ontouchstart': 1.0629047178538402, 'applicationCache': 1.0629047178538402, 'checkValidity': 1.0629047178538402, 'webgl': 1.0629047178538402, 'abort': 1.0629047178538402, 'Worker': 1.0629047178538402, 'sessionStorage': 1.0629047178538402, 'indexedDB': 1.0629047178538402, 'onafterprint': 1.0629047178538402, 'animationName': 1.0629047178538402, 'onbeforeprint': 1.0629047178538402, 'allowFullScreen': 1.0564292321924136, 'getState': 1.045328399629969, 'parentElement': 1.0444033302497673, 'decode': 1.037002775208144, 'rootNode': 1.0342275670675307, 'getParameter': 1.0342275670675292, 'trace': 1.0342275670675292, 'Netscape': 1.0305272895467161, 'onunload': 1.0101757631822375, 'textarea': 1.0092506938020356, 'hand': 1.0055504162812199, 'Mozilla': 1.0018501387604088, 'SyntaxError': 0.9796484736355263, 'req': 0.9759481961147098, 'marginWidth': 0.9713228492136922, 'nodes': 0.9629972247918591, 'onkeyup': 0.9629972247918573, 'middle': 0.9574468085106413, 'WebGLRenderingContext': 0.9546716003700296, 'respond': 0.9546716003700296, 'denied': 0.9546716003700296, 'GET': 0.9546716003700296, 'matchMedia': 0.9546716003700296, 'security': 0.9546716003700296, 'compareNode': 0.9546716003700296, 'cancel': 0.9287696577243248, 'results': 0.9250693802035183, 'scrollMaxX': 0.9241443108233137, 'sx': 0.914893617021274, 'readystatechange': 0.9130434782608727, 'getKey': 0.913043478260871, 'userLanguage': 0.9111933395004639, 'autoplay': 0.9074930619796465, 'dir': 0.906567992599448, 'yes': 0.9019426456984274, 'onmessage': 0.8825161887141527, 'png': 0.8806660499537482, 'outerWidth': 0.8593894542090682, 'outerHeight': 0.8593894542090682, 'closed': 0.8464384828862165, 'connect': 0.8436632747456082, 'onhashchange': 0.8362627197039787, 'cssFloat': 0.8353376503237728, 'hasChildNodes': 0.8353376503237698, 'selected': 0.8316373728029586, 'metadata': 0.8307123034227568, 'viewport': 0.8196114708603166, 'touchend': 0.8196114708603166, 'scrollX': 0.8196114708603166, 'magnify': 0.8196114708603166, 'kind': 0.8196114708603166, 'marginHeight': 0.8177613320999069, 'speed': 0.8131359851988855, 'transform': 0.8029602220166495, 'play': 0.8011100832562448, 'weight': 0.8001850138760414, 'fullscreen': 0.7937095282146198, 'append': 0.7835337650323767, 'copy': 0.774283071230343, 'charCode': 0.774283071230343, 'anchorNode': 0.774283071230343, 'DOMNodeRemoved': 0.7733580018501385, 'DOMNodeInserted': 0.7733580018501385, 'setPosition': 0.7733580018501385, 'pagehide': 0.7733580018501385, 'mouseleave': 0.756706753006473, 'mouseenter': 0.756706753006473, 'setItem': 0.7437557816836241, 'checkbox': 0.741905642923222, 'enable': 0.7335800185013847, 'disable': 0.7335800185013847, 'define': 0.7150786308973186, 'Promise': 0.7150786308973186, 'linkColor': 0.7150786308973186, 'started': 0.7150786308973186, 'force': 0.7150786308973186, 'then': 0.7150786308973186, 'region': 0.7150786308973186, 'cx': 0.7039777983348786, 'sum': 0.6993524514338578, 'ltr': 0.6891766882516212, 'pattern': 0.6595744680851092, 'scrollTo': 0.6456984273820565, 'reload': 0.6429232192414425, 'insertAdjacentElement': 0.6392229417206277, 'animation': 0.6392229417206277, 'replaceWith': 0.6392229417206277, '__proto__': 0.6392229417206277, 'cells': 0.6392229417206277, 'removeItem': 0.6392229417206277, 'unique': 0.6355226641998161, 'caption': 0.6271970397779842, 'TrackEvent': 0.6271970397779842, 'other': 0.6271970397779826, 'controls': 0.6207215541165588, 'register': 0.6179463459759511, 'user': 0.6170212765957468, 'insertAdjacentHTML': 0.5818686401480122, 'pause': 0.5726179463459762, 'targetTouches': 0.5670675300647544, 'propertyIsEnumerable': 0.5670675300647544, 'client': 0.5642923219241454, 'watch': 0.5642923219241448, 'inactive': 0.5642923219241448, 'step': 0.5633672525439416, 'first': 0.5550416281221099, 'targetElement': 0.5485661424606844, 'ext': 0.5485661424606842, 'slide': 0.5476410730804823, 'resizeTo': 0.5457909343200736, 'beta': 0.5319148936170216, 'counter': 0.5208140610545787, 'uri': 0.5198889916743773, 'forEach': 0.5097132284921393, 'suspend': 0.5060129509713248, 'line': 0.5041628122109163, 'receiver': 0.5041628122109163, 'lastModified': 0.5013876040703058, 'variable': 0.5013876040703049, 'declare': 0.49398704902867874, 'duration': 0.4921369102682705, 'paused': 0.49028677150786326, 'prop': 0.4597594819611492, 'onmousemove': 0.4588344125809439, 'next': 0.456059204440333, 'mm': 0.4532839962997244, 'HTMLCanvasElement': 0.4384828862164659, 'HTMLAudioElement': 0.4384828862164659, 'HTMLVideoElement': 0.4384828862164659, 'contextmenu': 0.42275670675300847, 'addModule': 0.4218316373728037, 'urls': 0.4218316373728037, 'valueOf': 0.41628122109158283, 'listener': 0.4116558741905643, 'touchmove': 0.40980573543015697, 'getResponseHeader': 0.40980573543015697, 'Components': 0.40980573543015697, 'touches': 0.40980573543015697, 'extensions': 0.4070305272895471, 'IN': 0.4070305272895471, 'offsetX': 0.4061054579093439, 'offsetY': 0.4061054579093439, 'save': 0.39870490286771554, 'percent': 0.39777983348751184, 'containerId': 0.38945420906568096, 'setData': 0.38945420906568096, 'Element': 0.38852913968547614, 'subscribe': 0.38482886216466383, 'if': 0.37372802960222085, 'navigationStart': 0.37187789084181333, 'download': 0.3691026827012031, 'refresh': 0.3691026827012023, 'captureEvents': 0.3663274745605923, 'languages': 0.36262719703977847, 'onshow': 0.36262719703977847, 'suffix': 0.35707678075855703, 'ended': 0.35245143385754, 'networkState': 0.35245143385754, 'durationchange': 0.35245143385754, 'currentTime': 0.35245143385754, 'currency': 0.34042553191489355, 'token': 0.33672525439408113, 'ratio': 0.33117483811285914, 'defaultPrevented': 0.3283996299722492, 'mapping': 0.32747456059204466, 'observe': 0.32192414431082367, 'properties': 0.32192414431082367, 'local': 0.32192414431082367, 'encoding': 0.32192414431082367, 'fullPath': 0.32192414431082367, 'sender': 0.32192414431082367, 'lower': 0.32192414431082367, 'channel': 0.32192414431082367, 'sample': 0.32192414431082367, 'toggle': 0.31359851988899196, 'toJSON': 0.30989824236817815, 'wrap': 0.30989824236817815, 'hasFocus': 0.30249768732655, 'sync': 0.299722479185939, 'forms': 0.2969472710453291, 'dy': 0.2941720629047184, 'dx': 0.2941720629047184, 'equals': 0.2941720629047184, 'ctx': 0.2941720629047184, 'isSupported': 0.2913968547641078, 'onchange': 0.2913968547641077, 'resume': 0.29139685476410737, 'view': 0.29047178538390417, 'addRule': 0.2876965772432936, 'buttons': 0.28769657724329356, 'getData': 0.28122109158186887, 'responseEnd': 0.2756706753006482, 'connectStart': 0.2756706753006482, 'connectEnd': 0.2756706753006482, 'requestStart': 0.2756706753006482, 'responseStart': 0.2756706753006482, 'domainLookupEnd': 0.2756706753006482, 'domainLookupStart': 0.2756706753006482, 'check': 0.2756706753006479, 'never': 0.2682701202590202, 'contextMenu': 0.2682701202590202, 'allowfullscreen': 0.2682701202590202, 'preload': 0.2682701202590202, 'poster': 0.2682701202590202, 'caller': 0.26827012025901953, 'country': 0.26086956521739135, 'when': 0.2599444958371884, 'items': 0.2599444958371876, 'shape': 0.2562442183163741, 'dst': 0.2562442183163741, 'onsubmit': 0.2562442183163741, 'coords': 0.2562442183163741, 'normalize': 0.2516188714153569, 'Node': 0.24699352451433823, 'ip': 0.245143385753932, 'txt': 0.24514338575393133, 'timestamp': 0.243293246993525, 'vendor': 0.23866790009250685, 'sub': 0.22201665124884418, 'only': 0.2201665124884366, 'contentType': 0.2201665124884366, 'resource': 0.20536540240518036, 'fullpath': 0.20351526364477363, 'transport': 0.20074005550416288, 'productSub': 0.1942645698427385, 'read': 0.19056429232192462, 'recipient': 0.19056429232192462, 'keyup': 0.1896392229417206, 'Option': 0.18501387604070305, 'store': 0.18223866790009247, 'removeListener': 0.16651248843663305, 'baseURI': 0.16651248843663305, 'addListener': 0.16651248843663305, 'phone': 0.16651248843663302, 'order': 0.16651248843663302, 'identity': 0.16651248843663297, 'sessionId': 0.16558741905642943, 'splitText': 0.16466234967622587, 'CSS': 0.1637372802960224, 'onfinish': 0.16373728029602236, 'httpEquiv': 0.16373728029602236, 'Plugin': 0.16373728029602236, 'provider': 0.16003700277520838, 'new': 0.15911193339500485, 'insertRow': 0.15911193339500485, 'address': 0.15911193339500485, 'focusNode': 0.1591119333950047, 'MIN': 0.15356151711378377, 'flags': 0.15356151711378377, 'hh': 0.15356151711378377, 'tooltip': 0.15078630897317313, 'option': 0.14986123959296957, 'tabIndex': 0.14153561517113813, 'layout': 0.1387604070305275, 'login': 0.13783533765032385, 'playing': 0.13783533765032385, 'startup': 0.13135985198889927, 'ii': 0.1313598519888992, 'collapsed': 0.12765957446808548, 'profile': 0.12210915818686406, 'scripts': 0.12025901942645725, 'scriptNode': 0.11840888066605036, 'city': 0.1091581868640148, 'hasFeature': 0.10823311748381162, 'dragend': 0.10823311748381162, 'insertRule': 0.10823311748381162, 'drag': 0.10823311748381162, 'dragover': 0.10823311748381162, 'dragleave': 0.10823311748381162, 'deleteRule': 0.10823311748381162, 'dragenter': 0.10823311748381162, 'context': 0.10638297872340458, 'activeElement': 0.10638297872340458, 'errorCallback': 0.10638297872340458, 'headers': 0.10638297872340458, 'KeyboardEvent': 0.10453283996299753, 'oscpu': 0.10453283996299753, 'layerY': 0.10453283996299753, 'MouseEvent': 0.10453283996299753, 'layerX': 0.10453283996299753, 'network': 0.10453283996299753, 'mediaType': 0.10453283996299753, 'picture': 0.10453283996299753, 'connection': 0.10453283996299753, 'appCodeName': 0.10453283996299753, 'sse': 0.10175763182238697, 'bubbles': 0.09620721554116583, 'dispatchEvent': 0.09620721554116583, 'detail': 0.09620721554116583, 'cancelable': 0.09620721554116583, 'initMouseEvent': 0.09620721554116583, 'createEvent': 0.09620721554116583, 'core': 0.09620721554116583, 'doNotTrack': 0.09620721554116583, 'onabort': 0.09528214616096231, 'closest': 0.09435707678075879, 'prepend': 0.09435707678075879, 'details': 0.09435707678075879, 'includes': 0.09435707678075879, 'double': 0.09435707678075879, 'sandbox': 0.08695652173913061, 'LOADED': 0.08603145235892709, 'fx': 0.08603145235892709, 'LOADING': 0.08603145235892709, 'persist': 0.08603145235892709, 'presentation': 0.08603145235892709, 'row': 0.08603145235892709, 'requestId': 0.08510638297872357, 'pixels': 0.08510638297872357, 'TypeError': 0.0851063829787234, 'values': 0.0851063829787234, 'hint': 0.0851063829787234, 'features': 0.0851063829787234, 'record': 0.082331174838113, 'rp': 0.082331174838113, 'w3': 0.082331174838113, 'release': 0.082331174838113, 'has': 0.08048103607770596, 'badge': 0.08048103607770596, 'follow': 0.08048103607770596, 'NUMBER': 0.08048103607770596, 'setStartBefore': 0.08048103607770596, 'createContextualFragment': 0.08048103607770596, 'selectorText': 0.08048103607770596, 'removeAllRanges': 0.07308048103607778, 'selectionEnd': 0.07308048103607778, 'isCollapsed': 0.07308048103607778, 'focused': 0.07308048103607778, 'Text': 0.07308048103607778, 'onactivate': 0.07308048103607778, 'getRangeAt': 0.07308048103607778, 'cloneRange': 0.07308048103607778, 'range': 0.07308048103607778, 'rangeCount': 0.07308048103607778, 'addElement': 0.07308048103607778, 'mark': 0.07308048103607778, 'selectionStart': 0.07308048103607778, 'addRange': 0.07308048103607778, 'fonts': 0.07308048103607778, 'maxLength': 0.07215541165587426, 'openWindow': 0.07215541165587426, 'minLength': 0.07215541165587426, 'p1': 0.06845513413506013, 'productId': 0.061054579093432, 'unsubscribe': 0.05642923219241443, 'contentEditable': 0.05550416281221091, 'designMode': 0.05550416281221091, 'accessKey': 0.05365402405180388, 'Beacon': 0.05272895467160037, 'observer': 0.04995374653098982, 'control': 0.04995374653098982, 'scheme': 0.04810360777058279, 'disconnect': 0.0425531914893617, 'bgColor': 0.03515263644773358, 'role': 0.02867715078630897, 'hasAttribute': 0.02867715078630897, 'forward': 0.01757631822386679}\n"
     ]
    }
   ],
   "source": [
    "weight_freq = {}\n",
    "for nod in G.nodes:\n",
    "    weight_freq[nod] = G.nodes[nod]['deg_wt']\n",
    "sorted_weight = dict(sorted(weight_freq.items(), key=lambda item: item[1], reverse=True))\n",
    "print(sorted_weight)"
   ]
  },
  {
   "cell_type": "code",
   "execution_count": null,
   "id": "similar-plaza",
   "metadata": {
    "pycharm": {
     "name": "#%%\n"
    }
   },
   "outputs": [],
   "source": []
  },
  {
   "cell_type": "code",
   "execution_count": 20,
   "id": "developed-plumbing",
   "metadata": {
    "pycharm": {
     "name": "#%%\n"
    }
   },
   "outputs": [],
   "source": [
    "# Check whether the graph is connected"
   ]
  },
  {
   "cell_type": "code",
   "execution_count": 21,
   "id": "invisible-romantic",
   "metadata": {
    "pycharm": {
     "name": "#%%\n"
    }
   },
   "outputs": [
    {
     "data": {
      "text/plain": [
       "True"
      ]
     },
     "execution_count": 21,
     "metadata": {},
     "output_type": "execute_result"
    }
   ],
   "source": [
    "nx.is_connected(G)"
   ]
  },
  {
   "cell_type": "code",
   "execution_count": 22,
   "id": "single-shelter",
   "metadata": {
    "pycharm": {
     "name": "#%%\n"
    }
   },
   "outputs": [],
   "source": [
    "# Clustering Coefficient"
   ]
  },
  {
   "cell_type": "code",
   "execution_count": 23,
   "id": "hundred-nightmare",
   "metadata": {
    "pycharm": {
     "name": "#%%\n"
    }
   },
   "outputs": [
    {
     "data": {
      "text/plain": [
       "0.8298854377915853"
      ]
     },
     "execution_count": 23,
     "metadata": {},
     "output_type": "execute_result"
    }
   ],
   "source": [
    "nx.average_clustering(G)"
   ]
  },
  {
   "cell_type": "code",
   "execution_count": 24,
   "id": "spatial-coordination",
   "metadata": {
    "pycharm": {
     "name": "#%%\n"
    }
   },
   "outputs": [],
   "source": [
    "# average_shortest_path_length"
   ]
  },
  {
   "cell_type": "code",
   "execution_count": 25,
   "id": "universal-fruit",
   "metadata": {
    "pycharm": {
     "name": "#%%\n"
    }
   },
   "outputs": [
    {
     "data": {
      "text/plain": [
       "1.6365807056589494"
      ]
     },
     "execution_count": 25,
     "metadata": {},
     "output_type": "execute_result"
    }
   ],
   "source": [
    "nx.average_shortest_path_length(G)"
   ]
  },
  {
   "cell_type": "code",
   "execution_count": 26,
   "id": "solar-binary",
   "metadata": {
    "pycharm": {
     "name": "#%%\n"
    }
   },
   "outputs": [],
   "source": [
    "#Lovain methof"
   ]
  },
  {
   "cell_type": "code",
   "execution_count": 27,
   "id": "adapted-canadian",
   "metadata": {
    "pycharm": {
     "name": "#%%\n"
    }
   },
   "outputs": [],
   "source": [
    "partition = community_louvain.best_partition(G, resolution=0.88, weight='weight')"
   ]
  },
  {
   "cell_type": "code",
   "execution_count": 28,
   "id": "square-straight",
   "metadata": {
    "pycharm": {
     "name": "#%%\n"
    }
   },
   "outputs": [],
   "source": [
    "# number of partinions"
   ]
  },
  {
   "cell_type": "code",
   "execution_count": 29,
   "id": "instructional-powell",
   "metadata": {
    "pycharm": {
     "name": "#%%\n"
    }
   },
   "outputs": [
    {
     "name": "stdout",
     "output_type": "stream",
     "text": [
      "10\n"
     ]
    }
   ],
   "source": [
    "num_of_partitions = len(set(partition.values()))\n",
    "print(num_of_partitions)"
   ]
  },
  {
   "cell_type": "code",
   "execution_count": 30,
   "id": "helpful-church",
   "metadata": {
    "pycharm": {
     "name": "#%%\n"
    }
   },
   "outputs": [
    {
     "name": "stdout",
     "output_type": "stream",
     "text": [
      "82\n",
      "152\n",
      "247\n",
      "76\n",
      "143\n",
      "24\n",
      "14\n",
      "15\n",
      "151\n",
      "19\n"
     ]
    }
   ],
   "source": [
    "api_hash_fract = {}\n",
    "for key, value in partition.items():\n",
    "    api_hash_fract[key] = value\n",
    "louvain_clusters = {}\n",
    "for i in range(num_of_partitions):\n",
    "    clust = []\n",
    "    for key, value in api_hash_fract.items():\n",
    "        if value == i:\n",
    "            clust.append(key)\n",
    "    louvain_clusters[i] = clust\n",
    "for i in range(num_of_partitions):\n",
    "    print(len(louvain_clusters[i]))"
   ]
  },
  {
   "cell_type": "code",
   "execution_count": 31,
   "id": "distributed-madrid",
   "metadata": {
    "pycharm": {
     "name": "#%%\n"
    }
   },
   "outputs": [],
   "source": [
    "with open(\"Lovain_clusters.json\", 'w') as l:\n",
    "    json.dump(louvain_clusters,l, indent=4)\n",
    "\n"
   ]
  }
 ],
 "metadata": {
  "kernelspec": {
   "display_name": "Python 3",
   "language": "python",
   "name": "python3"
  },
  "language_info": {
   "codemirror_mode": {
    "name": "ipython",
    "version": 3
   },
   "file_extension": ".py",
   "mimetype": "text/x-python",
   "name": "python",
   "nbconvert_exporter": "python",
   "pygments_lexer": "ipython3",
   "version": "3.8.5"
  }
 },
 "nbformat": 4,
 "nbformat_minor": 5
}
