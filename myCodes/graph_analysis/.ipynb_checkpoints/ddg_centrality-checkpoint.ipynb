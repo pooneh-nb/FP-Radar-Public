{
 "cells": [
  {
   "cell_type": "code",
   "execution_count": 1,
   "id": "spiritual-radical",
   "metadata": {},
   "outputs": [],
   "source": [
    "import utilities\n",
    "import os"
   ]
  },
  {
   "cell_type": "markdown",
   "id": "virgin-aggregate",
   "metadata": {},
   "source": [
    "### Load Data"
   ]
  },
  {
   "cell_type": "code",
   "execution_count": 6,
   "id": "level-policy",
   "metadata": {},
   "outputs": [],
   "source": [
    "ddg_style_weights = utilities.read_json(\"/home/c6/Desktop/OpenWPM/jsons/ddg_tracker/ddg_tracker_weight.json\")[\"2019\"]\n",
    "ddg_style_weights = {key:value for key, value in sorted(ddg_style_weights.items(), key = lambda item: item[1], reverse=True)}\n",
    "trackr_radar_weights_dict = utilities.read_json(\"/home/c6/Desktop/OpenWPM/jsons/community_tracking/real_graphs/centralitty/tracker_radar_weights.json\")\n",
    "trackr_radar_weights = {key:value for key, value in sorted(trackr_radar_weights_dict.items(), key = lambda item: item[1], reverse=True)}"
   ]
  },
  {
   "cell_type": "code",
   "execution_count": 11,
   "id": "curious-flower",
   "metadata": {},
   "outputs": [],
   "source": [
    "ddg_style_weights_indexed = {}\n",
    "index = 1\n",
    "for key, value in ddg_style_weights.items():\n",
    "    if value == 1000000:\n",
    "        ddg_style_weights_indexed[key] = {\"weight\": value, \"rank\":1}\n",
    "    else:\n",
    "        ddg_style_weights_indexed[key] = {\"weight\": value, \"rank\":index}\n",
    "        index += 1"
   ]
  },
  {
   "cell_type": "markdown",
   "id": "systematic-sensitivity",
   "metadata": {},
   "source": [
    "### Average weight"
   ]
  },
  {
   "cell_type": "code",
   "execution_count": 14,
   "id": "killing-bacon",
   "metadata": {},
   "outputs": [
    {
     "data": {
      "text/plain": [
       "515.793639572334"
      ]
     },
     "execution_count": 14,
     "metadata": {},
     "output_type": "execute_result"
    }
   ],
   "source": [
    "list_threshold = len(trackr_radar_weights)\n",
    "#list_threshold = 10\n",
    "top_ten = 1\n",
    "average_weight = 0\n",
    "accu_weight = 0\n",
    "penalty_rank = len(ddg_style_weights_indexed)\n",
    "for key, weight in trackr_radar_weights.items():\n",
    "    if top_ten > list_threshold:\n",
    "        break\n",
    "    if key in ddg_style_weights_indexed.keys():\n",
    "        average_weight += (weight * ddg_style_weights_indexed[key][\"rank\"])\n",
    "        accu_weight += weight\n",
    "    else:\n",
    "        average_weight += (weight * penalty_rank)\n",
    "        accu_weight += weight\n",
    "    top_ten += 1\n",
    "average_weight = average_weight / accu_weight\n",
    "average_weight"
   ]
  }
 ],
 "metadata": {
  "kernelspec": {
   "display_name": "Python 3",
   "language": "python",
   "name": "python3"
  },
  "language_info": {
   "codemirror_mode": {
    "name": "ipython",
    "version": 3
   },
   "file_extension": ".py",
   "mimetype": "text/x-python",
   "name": "python",
   "nbconvert_exporter": "python",
   "pygments_lexer": "ipython3",
   "version": "3.8.5"
  }
 },
 "nbformat": 4,
 "nbformat_minor": 5
}
